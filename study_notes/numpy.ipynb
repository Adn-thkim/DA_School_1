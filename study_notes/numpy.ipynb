{
 "cells": [
  {
   "cell_type": "markdown",
   "id": "7f5d9f0a-9eb5-426b-be89-0c371b387b1f",
   "metadata": {},
   "source": [
    "# Numpy (Numerical Python)"
   ]
  },
  {
   "cell_type": "markdown",
   "id": "13c29c01-3300-49d9-9a6b-fea91b11635d",
   "metadata": {},
   "source": [
    "## NumPy를 사용하는 이유\n",
    "- POWERFUL N-DIMENSIONAL ARRAY\n",
    "  - NumPy에서 배열 및 벡터를 표현하는 핵심 구조인 ndarray를 사용하여 빠르고 메모리를 효율적으로 사용할 수 있다\n",
    "- NUMERICAL COMPUTING TOOLS\n",
    "    - 반복문을 작성할 필요 없이 전체 데이터 배열에 대해 빠른 연산을 제공하는 다양한 표준 수학 함수를 제공한다\n",
    "- PERFORMANT\n",
    "    - 잘 최적화하여 컴파일된 C/C++ 코드를 사용하여 빠른 연산을 가능하게 한다"
   ]
  },
  {
   "cell_type": "code",
   "execution_count": 25,
   "id": "c3f9d9c0-b4a9-4532-b6ad-3777dc06ba43",
   "metadata": {},
   "outputs": [],
   "source": [
    "import numpy as np\n",
    "import warnings"
   ]
  },
  {
   "cell_type": "code",
   "execution_count": 26,
   "id": "6b8c85af-5a7d-4e5d-85c8-a2ca158c011c",
   "metadata": {},
   "outputs": [],
   "source": [
    "warnings.filterwarnings('ignore')"
   ]
  },
  {
   "cell_type": "markdown",
   "id": "01e4a180-69bb-41bc-83a6-1d96877994e6",
   "metadata": {},
   "source": [
    "# array\n",
    "\n",
    "***배열은 동일한 데이터 타입 요소로 구성된다***\n",
    "\n",
    "**배열 생성하는 방법**\n",
    "- np.array(): list를 인자로 받아 생성\n",
    "- np.array(data, dtype = 'DataType'): array 원소의 데이터 타입을 지정해서 생성\n",
    "\n",
    "그 외</br>\n",
    "- np.zeors( )\n",
    "- np.ones( )\n",
    "- np.full( )\n",
    "- np.eye( )\n",
    "- np.empty( )\n",
    "\n",
    "https://modulabs.co.kr/blog/python-numpy/"
   ]
  },
  {
   "cell_type": "markdown",
   "id": "4003a5c3-c1c6-408d-8d2e-bd7eec01d7c4",
   "metadata": {},
   "source": [
    "## np.zeros"
   ]
  },
  {
   "cell_type": "code",
   "execution_count": 105,
   "id": "73e387db-6454-4020-9a38-9e0c631fdbe4",
   "metadata": {},
   "outputs": [
    {
     "name": "stdout",
     "output_type": "stream",
     "text": [
      "[[0. 0. 0. 0.]\n",
      " [0. 0. 0. 0.]\n",
      " [0. 0. 0. 0.]]\n"
     ]
    }
   ],
   "source": [
    "zero = np.zeros([3, 4])\n",
    "print(zero)"
   ]
  },
  {
   "cell_type": "markdown",
   "id": "25dc6be9-e8d4-4f9d-bb2e-81a4ae6febeb",
   "metadata": {},
   "source": [
    "## np.ones"
   ]
  },
  {
   "cell_type": "code",
   "execution_count": 106,
   "id": "2b16e8d3-b964-460d-9975-59ac7e8ebadb",
   "metadata": {},
   "outputs": [
    {
     "name": "stdout",
     "output_type": "stream",
     "text": [
      "[[1. 1. 1. 1.]\n",
      " [1. 1. 1. 1.]\n",
      " [1. 1. 1. 1.]]\n"
     ]
    }
   ],
   "source": [
    "one = np.ones([3, 4])\n",
    "print(one)"
   ]
  },
  {
   "cell_type": "markdown",
   "id": "87b70588-c998-4a99-bccf-a8034c49f717",
   "metadata": {},
   "source": [
    "## np.eye"
   ]
  },
  {
   "cell_type": "code",
   "execution_count": 107,
   "id": "71932082-e795-46a8-88da-861edf2d2f63",
   "metadata": {},
   "outputs": [
    {
     "name": "stdout",
     "output_type": "stream",
     "text": [
      "[[1. 0. 0.]\n",
      " [0. 1. 0.]\n",
      " [0. 0. 1.]]\n"
     ]
    }
   ],
   "source": [
    "# 대각행렬\n",
    "\n",
    "eye = np.eye(3)\n",
    "print(eye)"
   ]
  },
  {
   "cell_type": "markdown",
   "id": "4c827d4b-b609-493f-9307-f7dc02a507c4",
   "metadata": {},
   "source": [
    "## np.full"
   ]
  },
  {
   "cell_type": "code",
   "execution_count": 220,
   "id": "8beedf84-747a-4032-92ad-6075d6326e8c",
   "metadata": {},
   "outputs": [
    {
     "name": "stdout",
     "output_type": "stream",
     "text": [
      "[[10 10]\n",
      " [10 10]]\n"
     ]
    }
   ],
   "source": [
    "# 내가 원하는 값으로 채워진 배열 생성\n",
    "full = np.full((2,2),10)\n",
    "print(full)"
   ]
  },
  {
   "cell_type": "markdown",
   "id": "87e9553b-c19b-481a-9f1f-7172be3751c8",
   "metadata": {},
   "source": [
    "## np.empty"
   ]
  },
  {
   "cell_type": "code",
   "execution_count": null,
   "id": "ee0ba759-1dab-4e79-ab6f-7c5e52c63e00",
   "metadata": {},
   "outputs": [],
   "source": []
  },
  {
   "cell_type": "markdown",
   "id": "3fc61180-f943-49b1-8321-575114ae89e9",
   "metadata": {
    "jp-MarkdownHeadingCollapsed": true
   },
   "source": [
    "## ndarray의 속성\n",
    "\n",
    "```python\n",
    "ndarray.attr\n",
    "```\n",
    "\n",
    "- ndim: 배열의 차원 출력\n",
    "- shape: 배열의 구조 출력\n",
    "- dtype: 배열의 데이터 타입 출력\n",
    "- size: \n",
    "- dtype: \n",
    "- data: \n",
    "- itemsize: 각 요소의 바이트 단위 크기\n",
    "- nbytes:\n",
    "    - itemsize * n(배열 원소의 수)"
   ]
  },
  {
   "cell_type": "markdown",
   "id": "57720cb0-0df8-4839-8d3a-0543d612b0c5",
   "metadata": {},
   "source": [
    "## 배열의 차원"
   ]
  },
  {
   "cell_type": "markdown",
   "id": "d4967337-ebaa-4013-8be1-0267d2e3d134",
   "metadata": {},
   "source": [
    "### scalar: 하나의 숫자값"
   ]
  },
  {
   "cell_type": "code",
   "execution_count": null,
   "id": "5198e799-2a7d-4790-9355-ece7d528a89e",
   "metadata": {},
   "outputs": [],
   "source": [
    "s = np.array(1)\n",
    "print(s)"
   ]
  },
  {
   "cell_type": "markdown",
   "id": "911325c3-c888-40b4-bbe8-ffa9d89fafc6",
   "metadata": {},
   "source": [
    "### 1차원 배열: 벡터(vector)"
   ]
  },
  {
   "cell_type": "markdown",
   "id": "4b92ecde-b12f-4905-9224-8806f1ec5ee5",
   "metadata": {},
   "source": [
    "1차원 배열과 리스트는 다르다!\n",
    "\n",
    "아래 두 출력 결과의 형태 확인"
   ]
  },
  {
   "cell_type": "code",
   "execution_count": 2,
   "id": "664d4003-f52a-4691-8548-72e0258f168e",
   "metadata": {},
   "outputs": [
    {
     "name": "stdout",
     "output_type": "stream",
     "text": [
      "[1 2 3 4]\n"
     ]
    }
   ],
   "source": [
    "v = np.array([1, 2, 3, 4]) # 1차원 배열\n",
    "print(v)"
   ]
  },
  {
   "cell_type": "code",
   "execution_count": 3,
   "id": "719307d7-c61a-4c42-8ad5-63f9ac00ca4c",
   "metadata": {},
   "outputs": [
    {
     "name": "stdout",
     "output_type": "stream",
     "text": [
      "[1, 2, 3, 4]\n"
     ]
    }
   ],
   "source": [
    "l = [1, 2, 3, 4]\n",
    "print(l)"
   ]
  },
  {
   "cell_type": "code",
   "execution_count": 4,
   "id": "6fb9b0f0-fd61-4bdd-82b5-80a36bab33bd",
   "metadata": {},
   "outputs": [
    {
     "name": "stdout",
     "output_type": "stream",
     "text": [
      "(4,)\n"
     ]
    }
   ],
   "source": [
    "print(v.shape) # 4행 0열"
   ]
  },
  {
   "cell_type": "code",
   "execution_count": 5,
   "id": "5e1e9698-00db-4eb0-9330-7d33373939ef",
   "metadata": {},
   "outputs": [
    {
     "name": "stdout",
     "output_type": "stream",
     "text": [
      "1\n"
     ]
    }
   ],
   "source": [
    "print(v.ndim) # 1차원"
   ]
  },
  {
   "cell_type": "code",
   "execution_count": 6,
   "id": "042f2d6f-db09-49b4-81bb-e018e96abf74",
   "metadata": {},
   "outputs": [
    {
     "name": "stdout",
     "output_type": "stream",
     "text": [
      "int64\n"
     ]
    }
   ],
   "source": [
    "print(v.dtype)"
   ]
  },
  {
   "cell_type": "code",
   "execution_count": 7,
   "id": "9a9b5bcc-ca34-4d96-9fed-50794eec60cb",
   "metadata": {},
   "outputs": [
    {
     "name": "stdout",
     "output_type": "stream",
     "text": [
      "8\n"
     ]
    }
   ],
   "source": [
    "print(v.itemsize)"
   ]
  },
  {
   "cell_type": "markdown",
   "id": "211643cd-9259-4a9e-98c8-c2e08abbcfbd",
   "metadata": {},
   "source": [
    "### 2차원 배열: 행렬(matrix)"
   ]
  },
  {
   "cell_type": "code",
   "execution_count": 12,
   "id": "c22afa1c-3bf1-4567-889c-322cdb0a7dfc",
   "metadata": {},
   "outputs": [
    {
     "name": "stdout",
     "output_type": "stream",
     "text": [
      "[[1 2]\n",
      " [3 4]\n",
      " [5 6]]\n"
     ]
    }
   ],
   "source": [
    "m = np.array([[1, 2], [3, 4], [5, 6]]) # 2차원 배열\n",
    "print(m)"
   ]
  },
  {
   "cell_type": "code",
   "execution_count": 13,
   "id": "46d33a2f-7781-419c-b721-41e3f43d786c",
   "metadata": {},
   "outputs": [
    {
     "name": "stdout",
     "output_type": "stream",
     "text": [
      "array의 차원: 2\n",
      "array의 데이터 타입: int64\n",
      "array의 바이트 단위 크기: 8\n",
      "array의 차원: 48\n"
     ]
    }
   ],
   "source": [
    "print(f'array의 차원: {m.ndim}')\n",
    "print(f'array의 데이터 타입: {m.dtype}')\n",
    "print(f'array의 바이트 단위 크기: {m.itemsize}')\n",
    "print(f'array의 차원: {m.nbytes}')"
   ]
  },
  {
   "cell_type": "markdown",
   "id": "d023a90b-6173-4f68-b9e7-c6ee26ee0cc0",
   "metadata": {},
   "source": [
    "### 3차원 배열: 텐서(tensor)"
   ]
  },
  {
   "cell_type": "code",
   "execution_count": 16,
   "id": "140374bc-2602-4b47-a51c-bb3fdc08c9cd",
   "metadata": {
    "scrolled": true
   },
   "outputs": [
    {
     "name": "stdout",
     "output_type": "stream",
     "text": [
      "[[[1 2]\n",
      "  [3 4]]\n",
      "\n",
      " [[5 6]\n",
      "  [7 8]]]\n",
      "array의 차원: 3\n",
      "array의 데이터 타입: int64\n",
      "array의 바이트 단위 크기: 8\n",
      "array의 차원: 64\n"
     ]
    }
   ],
   "source": [
    "t = np.array([[[1, 2], [3, 4]], [[5, 6], [7, 8]]])\n",
    "\n",
    "print(t)\n",
    "print(f'array의 차원: {t.ndim}')\n",
    "print(f'array의 데이터 타입: {t.dtype}')\n",
    "print(f'array의 바이트 단위 크기: {t.itemsize}')\n",
    "print(f'array의 차원: {t.nbytes}')"
   ]
  },
  {
   "cell_type": "code",
   "execution_count": 19,
   "id": "44de1335-7067-440e-8ef4-f315d8ad3368",
   "metadata": {},
   "outputs": [
    {
     "name": "stdout",
     "output_type": "stream",
     "text": [
      "[0 2 4 6 8]\n",
      "array의 차원: 1\n",
      "array의 데이터 타입: int64\n",
      "array의 바이트 단위 크기: 8\n",
      "array의 차원: 40\n"
     ]
    }
   ],
   "source": [
    "# for문을 이용한 배열 생성\n",
    "\n",
    "f = np.array([i for i in range(0, 10, 2)]) # (start, end, step)\n",
    "\n",
    "print(f)\n",
    "print(f'array의 차원: {f.ndim}')\n",
    "print(f'array의 데이터 타입: {f.dtype}')\n",
    "print(f'array의 바이트 단위 크기: {f.itemsize}')\n",
    "print(f'array의 차원: {f.nbytes}')"
   ]
  },
  {
   "cell_type": "markdown",
   "id": "dff20f9a-d9b4-47ac-a277-c7cd259ea3ea",
   "metadata": {},
   "source": [
    "## 데이터 타입\n",
    "\n",
    "- 숫자형\n",
    "- 문자형\n",
    "- 논리형"
   ]
  },
  {
   "cell_type": "markdown",
   "id": "059301f3-6118-449d-90c1-2491b29e2fa2",
   "metadata": {},
   "source": [
    "### 숫자형\n",
    "\n",
    "- 부호가 있는 정수(Signed integer)\n",
    "- 부호가 없는 정수(Unsigned integer)\n",
    "- 실수(floating point)\n",
    "- 복소수(complex)"
   ]
  },
  {
   "cell_type": "markdown",
   "id": "ca8accf2-187e-4206-b931-d9c2ad01c143",
   "metadata": {},
   "source": [
    "**int / uint / float / complex (8bit, 16bit, 32bit, 64bit)**\n",
    "\n",
    "- bit 수에 따라 저장 가능한 값의 범위가 다르다\n",
    "- 숫자를 입력했을때 python에서 자체적으로 적당한 bit를 선택\n",
    "- 데이터가 너무 커지면, bit 제한"
   ]
  },
  {
   "cell_type": "code",
   "execution_count": 22,
   "id": "7ec1babc-c865-4764-af58-9228ef23868b",
   "metadata": {},
   "outputs": [
    {
     "name": "stdout",
     "output_type": "stream",
     "text": [
      "[1 2 3]\n"
     ]
    }
   ],
   "source": [
    "# 부호가 있는 정수\n",
    "\n",
    "data = [1.1, 2, 3]\n",
    "\n",
    "i = np.array(data, dtype = np.int32) # np.array 메서드에서 배열의 dtype 지정 가능\n",
    "print(i)"
   ]
  },
  {
   "cell_type": "code",
   "execution_count": 215,
   "id": "71e9aced-064a-4b58-aeea-748324ae72dd",
   "metadata": {},
   "outputs": [
    {
     "name": "stdout",
     "output_type": "stream",
     "text": [
      "int32\n"
     ]
    }
   ],
   "source": [
    "print(i.dtype)"
   ]
  },
  {
   "cell_type": "code",
   "execution_count": 27,
   "id": "5498c677-4b6c-48de-ab36-3e67c393f7ee",
   "metadata": {},
   "outputs": [
    {
     "name": "stdout",
     "output_type": "stream",
     "text": [
      "[4294967295          2          3]\n"
     ]
    }
   ],
   "source": [
    "# 부호가 없는 정수\n",
    "\n",
    "data2 = [-1, 2, 3]\n",
    "\n",
    "ui = np.array(data2, dtype = np.uint32) # 부호가 없는 정수형으로 dtype 지정 (unit도 8, 16, 32, 64bit가 있다)\n",
    "                                        # unit32의 값의 범위는 0 ~ 4,294,967,295\n",
    "                                        # -1 -> 4294967295 : 값을 처리할 범위를 넘어서 -1에 최대값을 지정함\n",
    "print(ui)"
   ]
  },
  {
   "cell_type": "code",
   "execution_count": 28,
   "id": "eb116295-33cd-4745-a198-50afc250447e",
   "metadata": {},
   "outputs": [
    {
     "name": "stdout",
     "output_type": "stream",
     "text": [
      "[1.1 2.  3. ]\n"
     ]
    }
   ],
   "source": [
    "# 실수\n",
    "\n",
    "f = np.array(data, dtype = np.float64) # or 'f'\n",
    "print(f)"
   ]
  },
  {
   "cell_type": "code",
   "execution_count": 30,
   "id": "be5ae4ec-dfe4-4cea-9a4a-effb80da0fb2",
   "metadata": {},
   "outputs": [
    {
     "name": "stdout",
     "output_type": "stream",
     "text": [
      "[1.+2.j 3.+4.j 5.+6.j]\n"
     ]
    }
   ],
   "source": [
    "# 복소수\n",
    "\n",
    "c = np.array([1 + 2j, 3 + 4j, 5 + 6j], dtype = np.complex64)\n",
    "print(c)"
   ]
  },
  {
   "cell_type": "code",
   "execution_count": 31,
   "id": "fe62753a-fa12-4041-bcd1-14c046160dfa",
   "metadata": {},
   "outputs": [
    {
     "name": "stdout",
     "output_type": "stream",
     "text": [
      "[1. 3. 5.]\n"
     ]
    }
   ],
   "source": [
    "print(c.real) # 복소수의 실수 출력"
   ]
  },
  {
   "cell_type": "code",
   "execution_count": 32,
   "id": "55ea12df-955e-48b8-a953-46b4358ed21c",
   "metadata": {},
   "outputs": [
    {
     "name": "stdout",
     "output_type": "stream",
     "text": [
      "[2. 4. 6.]\n"
     ]
    }
   ],
   "source": [
    "print(c.imag) # 복소수의 허수 출력"
   ]
  },
  {
   "cell_type": "markdown",
   "id": "dc622008-9acc-4ffe-85ff-7ebe557b3e2e",
   "metadata": {},
   "source": [
    "### 문자형\n",
    "\n",
    "np.string_ 및 np.unicode_은 문자열 데이터를 다룰 때 NumPy 배열의 효율성과 함께 유용한 도구\u001d",
    "이다</br>\n",
    "용도에 따라 데이터 타입을 다르게 사용한다\n",
    "\n",
    "- string_: 바이트 문자열 타입 (byte로 표현: 컴퓨터가 알고 있는 값)\n",
    "  - ex. 숫자 1은 컴퓨터에 byte로 표현해서 'x01'로 저장됨\n",
    "  - ASCII 문자열 또는 UTF-8 인코딩으로 인코딩된 바이트 문자열 데이터를 처리하는 데 유용\n",
    "  - 작은 단위로 사용하기 위해서 string_으로 변환\n",
    "  - 바이트 문자열은 주로 파일 입출력, 네트워크 통신 등의 작업에서 활용\n",
    "  - np.string_(array or list)은 변환된 객체를 반환한다\n",
    "- unicode_: 유니코드 문자열 타입\n",
    "  - 사용자가 보기 쉽게 해주기 위해 사용. 단, 데이터 크기가 커진다\n",
    " \n",
    "+) 배열을 문자열(string)로 변환하기 위해서는 array2string 메서드 사용\n",
    "```python\n",
    "sample_array = np.array([[1, 2, 3], [4, 5, 6]])\n",
    "\n",
    "np.array2string(sample_array) # '[[1 2 3]\\n [4 5 6]]'\n",
    "```"
   ]
  },
  {
   "cell_type": "markdown",
   "id": "3ac7470f-d3f9-4135-af88-24922d4f7a75",
   "metadata": {},
   "source": [
    "string_"
   ]
  },
  {
   "cell_type": "code",
   "execution_count": 50,
   "id": "62b0a47d-1d40-40f3-a870-b747331e32f9",
   "metadata": {},
   "outputs": [
    {
     "name": "stdout",
     "output_type": "stream",
     "text": [
      "b'\\x01\\x02\\x03'\n"
     ]
    }
   ],
   "source": [
    "data2 = [1, 2, 3]\n",
    "\n",
    "s = np.string_(data2)\n",
    "print(s)"
   ]
  },
  {
   "cell_type": "code",
   "execution_count": 36,
   "id": "c27ee0e8-8981-4e95-9719-362389f09fd4",
   "metadata": {},
   "outputs": [
    {
     "name": "stdout",
     "output_type": "stream",
     "text": [
      "|S3\n"
     ]
    }
   ],
   "source": [
    "print(s.dtype) # |S3: string인데, 3개 원소로 구성되어 있다"
   ]
  },
  {
   "cell_type": "code",
   "execution_count": 39,
   "id": "fa2cf357-ce3b-44f2-810c-77951e0386a5",
   "metadata": {},
   "outputs": [
    {
     "name": "stdout",
     "output_type": "stream",
     "text": [
      "b'\\x01\\x02\\x03\\x04\\x05'\n",
      "|S5\n"
     ]
    }
   ],
   "source": [
    "data3 = [1, 2, 3, 4, 5]\n",
    "\n",
    "s2 = np.string_(data3) # np.array(data2, dtype = 'S')\n",
    "print(s2)\n",
    "print(s2.dtype)"
   ]
  },
  {
   "cell_type": "code",
   "execution_count": 57,
   "id": "5716ac82-34da-4b17-b422-a6fba6343689",
   "metadata": {},
   "outputs": [
    {
     "name": "stdout",
     "output_type": "stream",
     "text": [
      "[b'apple' b'banana' b'cherry']\n"
     ]
    }
   ],
   "source": [
    "byte_array = np.array([np.string_('apple'), np.string_('banana'), np.string_('cherry')])\n",
    "print(byte_array)"
   ]
  },
  {
   "cell_type": "code",
   "execution_count": 58,
   "id": "e95fac33-8012-45cf-b617-781fbaecae90",
   "metadata": {},
   "outputs": [
    {
     "data": {
      "text/plain": [
       "'apple'"
      ]
     },
     "execution_count": 58,
     "metadata": {},
     "output_type": "execute_result"
    }
   ],
   "source": [
    "byte_array[0].decode('utf=8') # byte타입을 utf-8로 디코딩"
   ]
  },
  {
   "cell_type": "markdown",
   "id": "fad74d18-c784-4030-a3e4-12a9fe686df7",
   "metadata": {},
   "source": [
    "unicode_"
   ]
  },
  {
   "cell_type": "code",
   "execution_count": 40,
   "id": "d499f8a5-4e73-4344-a801-dee6d427c140",
   "metadata": {},
   "outputs": [
    {
     "name": "stdout",
     "output_type": "stream",
     "text": [
      "['1' '2' '3' '4' '5']\n",
      "<U1\n"
     ]
    }
   ],
   "source": [
    "u = np.array(data3, dtype = 'U') # unicode\n",
    "\n",
    "print(u)\n",
    "print(u.dtype) # <U1: 원소의 값이 한 자리(1의 자리)"
   ]
  },
  {
   "cell_type": "code",
   "execution_count": 41,
   "id": "70b130cc-e030-4a12-9258-54f603670e16",
   "metadata": {},
   "outputs": [
    {
     "name": "stdout",
     "output_type": "stream",
     "text": [
      "<U2\n"
     ]
    }
   ],
   "source": [
    "data4 = [11, 22, 33, 44, 55]\n",
    "\n",
    "u2 = np.array(data4, dtype = 'U')\n",
    "print(u2.dtype)"
   ]
  },
  {
   "cell_type": "code",
   "execution_count": 55,
   "id": "c3fcfb98-c7b3-4717-9ae8-d8667a085b14",
   "metadata": {},
   "outputs": [
    {
     "name": "stdout",
     "output_type": "stream",
     "text": [
      "안녕하세요\n",
      "<U5\n"
     ]
    }
   ],
   "source": [
    "u3 = np.unicode_('안녕하세요')\n",
    "\n",
    "print(u3)\n",
    "print(u3.dtype)"
   ]
  },
  {
   "cell_type": "markdown",
   "id": "0395aabe-92c3-4a86-aaa8-057aa65023b3",
   "metadata": {},
   "source": [
    "### 논리형 (boolean)\n",
    "\n",
    "- True(1), False(0)\n",
    "- 비트 연산 사용: & and, | or, ^ xor, ~ not"
   ]
  },
  {
   "cell_type": "code",
   "execution_count": 42,
   "id": "a72b4d04-52e8-4e89-913a-2f81c6a652b5",
   "metadata": {},
   "outputs": [
    {
     "name": "stdout",
     "output_type": "stream",
     "text": [
      "[ True False  True] [False  True False]\n"
     ]
    }
   ],
   "source": [
    "l1 = np.array([True, False, True])\n",
    "l2 = np.array([False, True, False])\n",
    "\n",
    "print(l1, l2)"
   ]
  },
  {
   "cell_type": "code",
   "execution_count": 45,
   "id": "f41d8a36-4ee6-4cf6-bd98-d6b09ddb2a8d",
   "metadata": {},
   "outputs": [
    {
     "name": "stdout",
     "output_type": "stream",
     "text": [
      "[False False False]\n"
     ]
    }
   ],
   "source": [
    "and_ = np.logical_and(l1, l2) # logical_(and, or, xor, not)\n",
    "print(and_)"
   ]
  },
  {
   "cell_type": "markdown",
   "id": "5952ae3e-a524-4fc9-bfc5-2a2658d9e478",
   "metadata": {},
   "source": [
    "### 데이터 형변환(Cast, Casting)\n",
    "\n",
    "- 데이터들끼리 형태를 맞추기 위해 사용\n",
    "- 예시) 이미지 데이터는 uint형으로 불러온다 -> float로 형변환\n",
    "  - RGB는 0-255의 숫자를 이용해서 표현하기 때문에 음수는 필요없다"
   ]
  },
  {
   "cell_type": "code",
   "execution_count": 61,
   "id": "4687b6b0-c507-47b4-aa96-945cd536456f",
   "metadata": {},
   "outputs": [
    {
     "name": "stdout",
     "output_type": "stream",
     "text": [
      "[1.1 2.  3. ]\n",
      "float64\n"
     ]
    }
   ],
   "source": [
    "data = [1.1, 2, 3]\n",
    "\n",
    "a = np.float64(data)\n",
    "print(a)\n",
    "print(a.dtype)"
   ]
  },
  {
   "cell_type": "code",
   "execution_count": 63,
   "id": "bd7eb22a-6ae9-4f1f-96e1-4f4dbe5695ac",
   "metadata": {},
   "outputs": [
    {
     "name": "stdout",
     "output_type": "stream",
     "text": [
      "[1 2 3]\n",
      "int64\n"
     ]
    }
   ],
   "source": [
    "data = [1.1, 2, 3]\n",
    "\n",
    "a = a.astype(np.int64)\n",
    "print(a)\n",
    "print(a.dtype)"
   ]
  },
  {
   "cell_type": "markdown",
   "id": "4a9bd501-41d0-4071-bb25-cee3295aeec7",
   "metadata": {},
   "source": [
    "uint형의 '0'에 1을 빼서 -1이 되면, 파이썬에서 연산을 위해 자동으로 int타입으로 변환"
   ]
  },
  {
   "cell_type": "code",
   "execution_count": 68,
   "id": "f7ba3d1d-29aa-4dea-9fe3-1c45f2f811b1",
   "metadata": {},
   "outputs": [
    {
     "data": {
      "text/plain": [
       "65535"
      ]
     },
     "execution_count": 68,
     "metadata": {},
     "output_type": "execute_result"
    }
   ],
   "source": [
    "np.uint16(-1) # uint16이 표현할 수 있는 범위(0 - 65,535)에서 가장 큰 값 출력"
   ]
  },
  {
   "cell_type": "code",
   "execution_count": 70,
   "id": "a7ea5728-6678-4ff5-bf99-df105dfb2049",
   "metadata": {},
   "outputs": [
    {
     "data": {
      "text/plain": [
       "65533"
      ]
     },
     "execution_count": 70,
     "metadata": {},
     "output_type": "execute_result"
    }
   ],
   "source": [
    "np.uint16(-3) # 값이 음수로 커질수록 uint16의 최대값에서 값이 작아짐"
   ]
  },
  {
   "cell_type": "code",
   "execution_count": 65,
   "id": "d7713073-6bdb-41ce-b52c-8265cda6b4ee",
   "metadata": {},
   "outputs": [
    {
     "name": "stdout",
     "output_type": "stream",
     "text": [
      "0\n",
      "uint16\n",
      "-1\n",
      "int64\n"
     ]
    }
   ],
   "source": [
    "b = np.uint16(0)\n",
    "\n",
    "print(b)\n",
    "print(b.dtype)\n",
    "\n",
    "b -= 1\n",
    "print(b)\n",
    "print(b.dtype)"
   ]
  },
  {
   "cell_type": "markdown",
   "id": "00809a1e-cbfd-43bd-81bb-4710a2f2bc2c",
   "metadata": {},
   "source": [
    "## 산술연산"
   ]
  },
  {
   "cell_type": "markdown",
   "id": "421eb7ae-68c5-4558-a7f3-7f3ee8dd38ce",
   "metadata": {},
   "source": [
    "### Numpy의 연산은 정말 빠른가?"
   ]
  },
  {
   "cell_type": "code",
   "execution_count": 71,
   "id": "0d1359f8-6e57-494f-8b65-a0aba9b7e167",
   "metadata": {},
   "outputs": [],
   "source": [
    "import time"
   ]
  },
  {
   "cell_type": "code",
   "execution_count": 72,
   "id": "052f9e54-324d-4b14-8783-23e9b4ade006",
   "metadata": {},
   "outputs": [],
   "source": [
    "data = [[1, 2, 3], [4, 5, 6]]"
   ]
  },
  {
   "cell_type": "code",
   "execution_count": 73,
   "id": "38940907-afc1-4f10-914e-5d8a980dccd4",
   "metadata": {},
   "outputs": [
    {
     "name": "stdout",
     "output_type": "stream",
     "text": [
      "2 3\n"
     ]
    }
   ],
   "source": [
    "print(len(data), len(data[0]))"
   ]
  },
  {
   "cell_type": "code",
   "execution_count": 76,
   "id": "96d5af93-88b5-4959-8240-6ea3f31eb1ee",
   "metadata": {},
   "outputs": [
    {
     "name": "stdout",
     "output_type": "stream",
     "text": [
      "21\n",
      "process time: 0.00019407272338867188\n"
     ]
    }
   ],
   "source": [
    "start_time = time.time()\n",
    "\n",
    "sum_array = 0\n",
    "for i in range(len(data)):\n",
    "    for j in range(len(data[i])):\n",
    "        sum_array += data[i][j]\n",
    "\n",
    "print(sum_array)\n",
    "\n",
    "end_time = time.time()\n",
    "print(f'process time: {end_time - start_time}')"
   ]
  },
  {
   "cell_type": "code",
   "execution_count": 77,
   "id": "e7b79169-3ded-423f-8036-49f5f201f30e",
   "metadata": {},
   "outputs": [
    {
     "name": "stdout",
     "output_type": "stream",
     "text": [
      "process time: 0.00014162063598632812\n"
     ]
    }
   ],
   "source": [
    "start_time = time.time()\n",
    "\n",
    "np.sum(data)\n",
    "\n",
    "end_time = time.time()\n",
    "print(f'process time: {end_time - start_time}')"
   ]
  },
  {
   "cell_type": "markdown",
   "id": "c3b8e738-7894-47ec-b1e8-60bb3f4cb1be",
   "metadata": {},
   "source": [
    "반복문을 이용한 배열 요소의 합 연산보다 numpy 메서드를 이용한 연산이 빠르다"
   ]
  },
  {
   "cell_type": "markdown",
   "id": "c796f7be-54da-4301-b258-855649065078",
   "metadata": {},
   "source": [
    "연산자를 이용한 배열의 연산\n",
    "\n",
    "```python\n",
    "a = np.array([1, 2, 3])\n",
    "b = np.array([4, 5, 6])\n",
    "\n",
    "sum_ = a + b\n",
    "minus = a - b\n",
    "mul = a * b\n",
    "div = a / b\n",
    "\n",
    "print(sum_)\n",
    "print(minus)\n",
    "print(mul)\n",
    "print(div)\n",
    "```"
   ]
  },
  {
   "cell_type": "markdown",
   "id": "4cae628b-f92f-4ceb-9f8a-5b25ef77ceaf",
   "metadata": {},
   "source": [
    "### 지수함수 & 자연로그 & 삼각함수"
   ]
  },
  {
   "cell_type": "code",
   "execution_count": 78,
   "id": "819db957-cb36-455b-9aa0-cc8e5f174703",
   "metadata": {},
   "outputs": [],
   "source": [
    "a = np.array([1, 2, 3])\n",
    "b = np.array([4, 5, 6])"
   ]
  },
  {
   "cell_type": "code",
   "execution_count": 79,
   "id": "621ea201-02d1-4f20-a53e-82c329cba278",
   "metadata": {},
   "outputs": [
    {
     "name": "stdout",
     "output_type": "stream",
     "text": [
      "[ 2.71828183  7.3890561  20.08553692]\n"
     ]
    }
   ],
   "source": [
    "aa = np.exp(a) # 지수함수\n",
    "print(aa)"
   ]
  },
  {
   "cell_type": "code",
   "execution_count": 80,
   "id": "1dc2ab26-fd8b-49b3-b824-4002e149b15a",
   "metadata": {},
   "outputs": [
    {
     "name": "stdout",
     "output_type": "stream",
     "text": [
      "[1.38629436 1.60943791 1.79175947]\n"
     ]
    }
   ],
   "source": [
    "bb = np.log(b) # 자연로그(밑이 e)\n",
    "print(bb)"
   ]
  },
  {
   "cell_type": "code",
   "execution_count": 81,
   "id": "6e61c2dc-b961-4fbb-9ed6-2565413dded9",
   "metadata": {},
   "outputs": [
    {
     "name": "stdout",
     "output_type": "stream",
     "text": [
      "[2.         2.32192809 2.5849625 ]\n"
     ]
    }
   ],
   "source": [
    "cc = np.log2(b) # 밑이 2인 로그\n",
    "print(cc)"
   ]
  },
  {
   "cell_type": "code",
   "execution_count": 82,
   "id": "8b22ec22-6ff0-4b1a-bcb9-6e796f7d71d7",
   "metadata": {},
   "outputs": [
    {
     "name": "stdout",
     "output_type": "stream",
     "text": [
      "[0.         1.57079633 3.14159265] [0.0000000e+00 1.0000000e+00 1.2246468e-16] [ 1.000000e+00  6.123234e-17 -1.000000e+00] [ 0.00000000e+00  1.63312394e+16 -1.22464680e-16]\n"
     ]
    }
   ],
   "source": [
    "d = np.array([0, np.pi / 2, np.pi])\n",
    "sin_ = np.sin(d)\n",
    "cos_ = np.cos(d)\n",
    "tan_ = np.tan(d)\n",
    "\n",
    "print(d, sin_, cos_, tan_)"
   ]
  },
  {
   "cell_type": "markdown",
   "id": "e0ba8e53-08da-4978-a079-5a1d71d1b022",
   "metadata": {},
   "source": [
    "### 행렬의 곱\n",
    "\n",
    "행렬의 곱과 내적이 어떻게 다르더라?"
   ]
  },
  {
   "cell_type": "code",
   "execution_count": 242,
   "id": "8754ba61-4e67-4b78-88e9-4c8b2a78e4e5",
   "metadata": {},
   "outputs": [],
   "source": [
    "a = np.array([[1, 2], [3, 4]])\n",
    "b = np.array([[4, 5], [6, 7]])"
   ]
  },
  {
   "cell_type": "code",
   "execution_count": 243,
   "id": "175a1244-c298-4082-982f-aa86393e9fdc",
   "metadata": {},
   "outputs": [
    {
     "data": {
      "text/plain": [
       "array([[ 4, 10],\n",
       "       [18, 28]])"
      ]
     },
     "execution_count": 243,
     "metadata": {},
     "output_type": "execute_result"
    }
   ],
   "source": [
    "a * b"
   ]
  },
  {
   "cell_type": "code",
   "execution_count": 244,
   "id": "c018a69c-c433-436c-a524-5d4d59f9a1a0",
   "metadata": {},
   "outputs": [
    {
     "data": {
      "text/plain": [
       "array([[16, 19],\n",
       "       [36, 43]])"
      ]
     },
     "execution_count": 244,
     "metadata": {},
     "output_type": "execute_result"
    }
   ],
   "source": [
    "a @ b # 내적"
   ]
  },
  {
   "cell_type": "code",
   "execution_count": 245,
   "id": "1c483964-a186-483d-a3e9-8f4ed1524c08",
   "metadata": {},
   "outputs": [
    {
     "data": {
      "text/plain": [
       "array([[16, 19],\n",
       "       [36, 43]])"
      ]
     },
     "execution_count": 245,
     "metadata": {},
     "output_type": "execute_result"
    }
   ],
   "source": [
    "a.dot(b) # 내적"
   ]
  },
  {
   "cell_type": "markdown",
   "id": "ebcc959b-5d60-4d0e-9875-fe75aeccb28b",
   "metadata": {},
   "source": [
    "## 배열의 연결과 분할"
   ]
  },
  {
   "cell_type": "markdown",
   "id": "e0f75a64-5bf5-461b-b9bd-d993515423c1",
   "metadata": {},
   "source": [
    "### concatenate\n",
    "\n",
    "https://m.blog.naver.com/qbxlvnf11/221490583222"
   ]
  },
  {
   "cell_type": "code",
   "execution_count": 83,
   "id": "f4f38d7e-efdb-4daf-b3e1-c6b4ca5eadf7",
   "metadata": {},
   "outputs": [],
   "source": [
    "# 두 배열의 차원이 같아야 함\n",
    "\n",
    "x = [1, 2, 3]\n",
    "y = [4, 5, 6]"
   ]
  },
  {
   "cell_type": "code",
   "execution_count": 84,
   "id": "6fa0be77-8867-4cd4-890e-dc87e8439fc1",
   "metadata": {},
   "outputs": [
    {
     "name": "stdout",
     "output_type": "stream",
     "text": [
      "[1 2 3 4 5 6]\n"
     ]
    }
   ],
   "source": [
    "concat = np.concatenate([x, y])\n",
    "print(concat)"
   ]
  },
  {
   "cell_type": "code",
   "execution_count": 85,
   "id": "ebf10d92-6785-4961-9b04-9ea2f7a5e616",
   "metadata": {},
   "outputs": [],
   "source": [
    "x2 = [[1, 2], [3, 4]] # 2 x 2\n",
    "y2 = [[4, 5], [6, 7]]"
   ]
  },
  {
   "cell_type": "code",
   "execution_count": 88,
   "id": "6fbe35b8-38bc-4b3c-a5e2-51f8c46c0d3e",
   "metadata": {},
   "outputs": [
    {
     "name": "stdout",
     "output_type": "stream",
     "text": [
      "[[1 2]\n",
      " [3 4]\n",
      " [4 5]\n",
      " [6 7]]\n",
      "(4, 2)\n"
     ]
    }
   ],
   "source": [
    "concat2 = np.concatenate([x2, y2])\n",
    "print(concat2)\n",
    "print(concat2.shape)"
   ]
  },
  {
   "cell_type": "code",
   "execution_count": 89,
   "id": "df61c64a-cf77-4428-8b37-db2ad7a47714",
   "metadata": {},
   "outputs": [
    {
     "name": "stdout",
     "output_type": "stream",
     "text": [
      "[[1 2 4 5]\n",
      " [3 4 6 7]]\n",
      "(2, 4)\n"
     ]
    }
   ],
   "source": [
    "concat2_v = np.concatenate([x2, y2], axis = 1)\n",
    "print(concat2_v)\n",
    "print(concat2_v.shape)"
   ]
  },
  {
   "cell_type": "markdown",
   "id": "17a88827-5707-4bbc-afb4-71ee515bb837",
   "metadata": {},
   "source": [
    "### hstack / vstack / dstack\n",
    "\n",
    "hstack - 수평(열방향)방향으로 배열을 합친다\n",
    "vstack - 수직(행방향)방향으로 배열을 합친다\n",
    "dstack - "
   ]
  },
  {
   "cell_type": "code",
   "execution_count": 92,
   "id": "b57859cc-c5e9-4a74-b93f-66b6ac700efb",
   "metadata": {},
   "outputs": [],
   "source": [
    "x2 = [[1, 2], [3, 4]] # 2 x 2\n",
    "y2 = [[4, 5], [6, 7]]"
   ]
  },
  {
   "cell_type": "code",
   "execution_count": 93,
   "id": "c80353da-7d36-47c8-aab5-6b4edc5172bc",
   "metadata": {},
   "outputs": [
    {
     "name": "stdout",
     "output_type": "stream",
     "text": [
      "[[1 2 4 5]\n",
      " [3 4 6 7]]\n"
     ]
    }
   ],
   "source": [
    "h = np.hstack([x2, y2])\n",
    "print(h)"
   ]
  },
  {
   "cell_type": "code",
   "execution_count": 94,
   "id": "9c26b83f-0891-4618-9abc-8c4264532df2",
   "metadata": {},
   "outputs": [
    {
     "name": "stdout",
     "output_type": "stream",
     "text": [
      "[[1 2]\n",
      " [3 4]\n",
      " [4 5]\n",
      " [6 7]]\n"
     ]
    }
   ],
   "source": [
    "v = np.vstack([x2, y2])\n",
    "print(v)"
   ]
  },
  {
   "cell_type": "markdown",
   "id": "f48c5f30-294a-4340-a7a9-1d2525fa5483",
   "metadata": {},
   "source": [
    "### reshape\n",
    "\n",
    "현재 배열의 차원 변경\n",
    "```python\n",
    "array.reshape(nrow, ncol) or np.reshape(array, ndim)\n",
    "```\n",
    "\breshape의 인자에 -1을 사용하면, 인자에 입력된 row or column의 수를 고려해 남은 차원으로 추정한다</br>\n",
    "reshape의 인자에 -1 외 인자를 입력하지 않으면, 1차원으로 변경한다"
   ]
  },
  {
   "cell_type": "code",
   "execution_count": 91,
   "id": "8246756b-f56a-4563-a071-47bc9d7883e2",
   "metadata": {},
   "outputs": [
    {
     "data": {
      "text/plain": [
       "array([[0, 1, 2, 3, 4],\n",
       "       [5, 6, 7, 8, 9]])"
      ]
     },
     "execution_count": 91,
     "metadata": {},
     "output_type": "execute_result"
    }
   ],
   "source": [
    "arr = np.array(np.arange(10))\n",
    "arr.reshape(2, 5)"
   ]
  },
  {
   "cell_type": "code",
   "execution_count": 253,
   "id": "5057f39e-992d-41e1-81be-846c95fdaf2d",
   "metadata": {},
   "outputs": [
    {
     "data": {
      "text/plain": [
       "array([[0, 1],\n",
       "       [2, 3],\n",
       "       [4, 5],\n",
       "       [6, 7],\n",
       "       [8, 9]])"
      ]
     },
     "execution_count": 253,
     "metadata": {},
     "output_type": "execute_result"
    }
   ],
   "source": [
    "arr = np.array(np.arange(10))\n",
    "arr_2d = arr.reshape(5, -1)  # length of arr은 10이므로, 행을 5로 설정한 나머지인 2를 열의 수로 추정한다\n",
    "arr_2d"
   ]
  },
  {
   "cell_type": "code",
   "execution_count": 256,
   "id": "9be7ec4e-e671-4f14-8651-3c14e6fada54",
   "metadata": {},
   "outputs": [
    {
     "data": {
      "text/plain": [
       "array([0, 1, 2, 3, 4, 5, 6, 7, 8, 9])"
      ]
     },
     "execution_count": 256,
     "metadata": {},
     "output_type": "execute_result"
    }
   ],
   "source": [
    "arr_2d.reshape(-1)"
   ]
  },
  {
   "cell_type": "markdown",
   "id": "d4273cf7-e9cb-42b6-93fe-bacef5dc52e7",
   "metadata": {},
   "source": [
    "### ravel\n",
    "\n",
    "다차원 배열을 1차원으로 변경"
   ]
  },
  {
   "cell_type": "code",
   "execution_count": 218,
   "id": "41153f99-7443-463e-8880-13344092010a",
   "metadata": {},
   "outputs": [
    {
     "name": "stdout",
     "output_type": "stream",
     "text": [
      "[[0 1 2]\n",
      " [3 4 5]\n",
      " [6 7 8]]\n",
      "[0 1 2 3 4 5 6 7 8]\n"
     ]
    }
   ],
   "source": [
    "# 일차원으로 변경\n",
    "\n",
    "arr_3d = np.arange(9).reshape(3, 3)\n",
    "print(arr_3d)\n",
    "arr_3d_to_1d = arr_3d.ravel()\n",
    "print(arr_3d_to_1d)"
   ]
  },
  {
   "cell_type": "markdown",
   "id": "b4e509fa-ca9e-4ff0-a37a-ecd45aa07da8",
   "metadata": {},
   "source": [
    "### flatten\n",
    "\n",
    "다차원 배열을 1차원으로 변경"
   ]
  },
  {
   "cell_type": "code",
   "execution_count": 260,
   "id": "ba4d581f-26e5-4c1a-919e-621ef57712d5",
   "metadata": {},
   "outputs": [
    {
     "data": {
      "text/plain": [
       "array([[0, 1],\n",
       "       [2, 3],\n",
       "       [4, 5],\n",
       "       [6, 7],\n",
       "       [8, 9]])"
      ]
     },
     "execution_count": 260,
     "metadata": {},
     "output_type": "execute_result"
    }
   ],
   "source": [
    "arr_2d"
   ]
  },
  {
   "cell_type": "code",
   "execution_count": 258,
   "id": "5dc0113a-7bdc-4ccb-b313-c56c356044eb",
   "metadata": {},
   "outputs": [
    {
     "data": {
      "text/plain": [
       "array([0, 1, 2, 3, 4, 5, 6, 7, 8, 9])"
      ]
     },
     "execution_count": 258,
     "metadata": {},
     "output_type": "execute_result"
    }
   ],
   "source": [
    "arr_2d.flatten()"
   ]
  },
  {
   "cell_type": "markdown",
   "id": "c830b4f1-4d1e-40fe-9a11-0b3e56530836",
   "metadata": {},
   "source": [
    "#### "
   ]
  },
  {
   "cell_type": "markdown",
   "id": "5458fc34-a426-4623-8b07-54805a25ba63",
   "metadata": {},
   "source": [
    "### hsplit / vsplit\n"
   ]
  },
  {
   "cell_type": "code",
   "execution_count": 102,
   "id": "17079081-9c03-4a73-9886-63ccdd2a2583",
   "metadata": {},
   "outputs": [
    {
     "name": "stdout",
     "output_type": "stream",
     "text": [
      "[[1 2]\n",
      " [3 4]\n",
      " [5 6]]\n"
     ]
    }
   ],
   "source": [
    "x2_arr = np.array([[1, 2], [3, 4], [5, 6]])\n",
    "print(x2_arr)"
   ]
  },
  {
   "cell_type": "code",
   "execution_count": 101,
   "id": "5e9e97ef-d84a-49a3-abec-56f3db729ef8",
   "metadata": {},
   "outputs": [
    {
     "name": "stdout",
     "output_type": "stream",
     "text": [
      "[array([[1],\n",
      "       [3],\n",
      "       [5]]), array([[2],\n",
      "       [4],\n",
      "       [6]])]\n"
     ]
    }
   ],
   "source": [
    "hs = np.hsplit(x2_arr, 2)\n",
    "print(hs)"
   ]
  },
  {
   "cell_type": "code",
   "execution_count": 103,
   "id": "9dd7d246-d622-495e-9257-3bc224594ad3",
   "metadata": {},
   "outputs": [
    {
     "name": "stdout",
     "output_type": "stream",
     "text": [
      "[array([[1, 2]]), array([[3, 4]]), array([[5, 6]])]\n"
     ]
    }
   ],
   "source": [
    "vs = np.vsplit(x2_arr, 3)\n",
    "print(vs)"
   ]
  },
  {
   "cell_type": "markdown",
   "id": "a792d072-e640-41b8-b6ba-939119c9754a",
   "metadata": {},
   "source": [
    "# Numpy 함수"
   ]
  },
  {
   "cell_type": "markdown",
   "id": "165f196e-48c4-46fa-b208-75427564db04",
   "metadata": {},
   "source": [
    "## Axis(축)의 개념: axis는 shape의 순서를 따라간다\n",
    "\n",
    "https://pybasall.tistory.com/129</br>\n",
    "http://machinelearningkorea.com/2019/05/18/%ED%8C%8C%EC%9D%B4%EC%8D%AC-axis-%EC%9D%B4%ED%95%B4%ED%95%98%EA%B8%B0-%EC%B9%98%ED%8A%B8%EC%BD%94%EB%93%9C/\n",
    "\n",
    "배열은 단지 리스트의 중첩이다</br>\n",
    "축은 가장 바깥 리스트에서 안쪽리스트 순으로 0부터 이름을 붙인 것이다</br>\n",
    "\n",
    "```python\n",
    "[[[1 2]\n",
    "  [3 4]]\n",
    " [[5 6]\n",
    "  [7 8]]]\n",
    "```\n",
    "와 같은 (2, 2, 2) 차원의 배열이 있다고 했을때,\n",
    "\n",
    "axis 0은 가장 밖의 리스트\n",
    "```python\n",
    "[[1 2]\n",
    " [3 4]]\n",
    "\n",
    "[[5 6]\n",
    " [7 8]]\n",
    "```\n",
    "2차원 배열(행렬) 2개로 이뤄진 3차원 배열이다\n",
    "\n",
    "```python\n",
    "[[[1 2]\n",
    "  [3 4]]\n",
    " [[5 6]\n",
    "  [7 8]]]\n",
    "```"
   ]
  },
  {
   "cell_type": "code",
   "execution_count": 157,
   "id": "3aa4e8a7-4d31-4a8b-9381-5dff32f9fc54",
   "metadata": {},
   "outputs": [],
   "source": [
    "arr = np.array([[[1, 2],\n",
    "                 [3, 4]],\n",
    "                [[5, 6],\n",
    "                 [7, 8]]])"
   ]
  },
  {
   "cell_type": "code",
   "execution_count": 158,
   "id": "ab87a1f7-67ec-40f6-8065-d6ed344a4c52",
   "metadata": {},
   "outputs": [
    {
     "name": "stdout",
     "output_type": "stream",
     "text": [
      "(2, 2, 2)\n"
     ]
    }
   ],
   "source": [
    "print(arr.shape)"
   ]
  },
  {
   "cell_type": "code",
   "execution_count": 154,
   "id": "d02d9190-cd9d-4349-9e10-0844bc5addad",
   "metadata": {},
   "outputs": [
    {
     "name": "stdout",
     "output_type": "stream",
     "text": [
      "[[ 6  8]\n",
      " [10 12]]\n"
     ]
    }
   ],
   "source": [
    "print(np.sum(arr, axis = 0))"
   ]
  },
  {
   "cell_type": "markdown",
   "id": "6b888783-c385-4982-9f4c-95e1757c3a46",
   "metadata": {},
   "source": [
    "따라서, axis 0에 대한 np.sum의 결과를 보면,</br>\n",
    "```python\n",
    "[[ 6  8]\n",
    " [10 12]]\n",
    " \n",
    "[[(1+5) (2+6)]\n",
    " [(3+7) (4+8)]]\n",
    "```\n",
    "이다"
   ]
  },
  {
   "cell_type": "markdown",
   "id": "f61ec61f-89a0-4f9e-87f8-97db848c21fc",
   "metadata": {},
   "source": [
    "다음으로 axis 1을 보면,</br>\n",
    "```python\n",
    "[1 2]\n",
    "[3 4]\n",
    "\n",
    "[5 6]\n",
    "[7 8]\n",
    "```\n",
    "1차원 배열(벡터) 2개로 이뤄진 2차원 배열(행렬)이 2개 있는 구조다\n",
    "```python\n",
    "[[1 2]\n",
    " [3 4]]\n",
    "\n",
    "[[5 6]\n",
    " [7 8]]\n",
    "```"
   ]
  },
  {
   "cell_type": "code",
   "execution_count": 155,
   "id": "43eab70e-c12e-4448-99dd-a45e8d33259a",
   "metadata": {},
   "outputs": [
    {
     "name": "stdout",
     "output_type": "stream",
     "text": [
      "[[ 4  6]\n",
      " [12 14]]\n"
     ]
    }
   ],
   "source": [
    "print(np.sum(arr, axis = 1))"
   ]
  },
  {
   "cell_type": "markdown",
   "id": "b863de7f-5fb7-49a2-a777-d63acf864c71",
   "metadata": {},
   "source": [
    "axis 1에 대한 np.sum의 결과를 보면,\n",
    "```python\n",
    "[[ 4  6]\n",
    " [12 14]]\n",
    "\n",
    "[[(1+3) (2+4)]\n",
    " [(3+7) (4+8)]]\n",
    "```\n",
    "이다"
   ]
  },
  {
   "cell_type": "markdown",
   "id": "90ab68f7-c024-45c3-9b60-062cf8d83baa",
   "metadata": {},
   "source": [
    "마지막으로, axis 2에 대한 np.sum의 결과를 보면,\n",
    "```python\n",
    "1 2\n",
    "3 4\n",
    "5 6\n",
    "7 8\n",
    "```\n",
    "scalar 원소 2개로 구성된 1차원 배열(벡터)이 4개 있는 구조다\n",
    "```python\n",
    "[1 2]\n",
    "[3 4]\n",
    "\n",
    "[5 6]\n",
    "[7 8]\n",
    "```"
   ]
  },
  {
   "cell_type": "code",
   "execution_count": 159,
   "id": "20517819-f8e4-4e9a-82b0-ccc6cfee49ec",
   "metadata": {},
   "outputs": [
    {
     "name": "stdout",
     "output_type": "stream",
     "text": [
      "[[ 3  7]\n",
      " [11 15]]\n"
     ]
    }
   ],
   "source": [
    "print(np.sum(arr, axis = 2))"
   ]
  },
  {
   "cell_type": "markdown",
   "id": "658a954d-2ac4-4708-9b3c-bf81fdaec142",
   "metadata": {},
   "source": [
    "axis 2에 대한 np.sum의 결과를 보면,</br>\n",
    "```python\n",
    "[[ 3  7]\n",
    " [11 15]]\n",
    "\n",
    "[[(1+2) (3+4)]\n",
    " [(5+6) (7+8)]]\n",
    "```\n",
    "이다"
   ]
  },
  {
   "cell_type": "markdown",
   "id": "20c5e2d7-8d74-4f59-b9c2-7eab3b3bf836",
   "metadata": {},
   "source": [
    "이해를 돕기 위한 추가 예제\n",
    "\n",
    "+) 아래 array 배열은 (5, 3, 2) 차원을 가진 배열이다</br>\n",
    "- axis 0에 대해 np.sum을 하면, 첫번째 축 5에 대한 연산이 이뤄지고 반환되는 배열은 (3, 2) 차원을 갖는다</br>\n",
    "- axis 1에 대해 np.sum을 하면, 두번째 축 3에 대한 연산이 이뤄지고 반환되는 배열은 (5, 2) 차원을 갖는다</br>\n",
    "- axis 2에 대해 np.sum을 하면, 두번째 축 2에 대한 연산이 이뤄지고 반환되는 배열은 (5, 3) 차원을 갖는다"
   ]
  },
  {
   "cell_type": "code",
   "execution_count": 150,
   "id": "3822aa65-6667-48b7-b3d4-3f7d1407a2a2",
   "metadata": {},
   "outputs": [
    {
     "name": "stdout",
     "output_type": "stream",
     "text": [
      "(5, 3, 2)\n",
      "[[[3 4]\n",
      "  [9 1]\n",
      "  [2 9]]\n",
      "\n",
      " [[6 2]\n",
      "  [9 5]\n",
      "  [8 1]]\n",
      "\n",
      " [[4 2]\n",
      "  [4 7]\n",
      "  [6 7]]\n",
      "\n",
      " [[2 4]\n",
      "  [3 5]\n",
      "  [5 7]]\n",
      "\n",
      " [[4 0]\n",
      "  [1 9]\n",
      "  [2 1]]]\n"
     ]
    }
   ],
   "source": [
    "array = np.random.randint(10, size=(5,3,2))\n",
    "\n",
    "print(array.shape)\n",
    "print(array)"
   ]
  },
  {
   "cell_type": "code",
   "execution_count": 163,
   "id": "cc15eb94-1517-4743-a877-8bfb36dddf9e",
   "metadata": {},
   "outputs": [
    {
     "name": "stdout",
     "output_type": "stream",
     "text": [
      "[[19 12]\n",
      " [26 27]\n",
      " [23 25]]\n",
      "(3, 2)\n"
     ]
    }
   ],
   "source": [
    "print(np.sum(array, axis = 0))\n",
    "print(np.sum(array, axis = 0).shape)"
   ]
  },
  {
   "cell_type": "code",
   "execution_count": 164,
   "id": "81b93ced-12fd-4315-bccf-beb074b6db1a",
   "metadata": {},
   "outputs": [
    {
     "name": "stdout",
     "output_type": "stream",
     "text": [
      "[[14 14]\n",
      " [23  8]\n",
      " [14 16]\n",
      " [10 16]\n",
      " [ 7 10]]\n",
      "(5, 2)\n"
     ]
    }
   ],
   "source": [
    "print(np.sum(array, axis = 1))\n",
    "print(np.sum(array, axis = 1).shape)"
   ]
  },
  {
   "cell_type": "code",
   "execution_count": 162,
   "id": "4202982b-9bc8-406f-b1ef-bc87c5d29058",
   "metadata": {},
   "outputs": [
    {
     "name": "stdout",
     "output_type": "stream",
     "text": [
      "[[ 7 10 11]\n",
      " [ 8 14  9]\n",
      " [ 6 11 13]\n",
      " [ 6  8 12]\n",
      " [ 4 10  3]]\n",
      "(5, 3)\n"
     ]
    }
   ],
   "source": [
    "print(np.sum(array, axis = 2))\n",
    "print(np.sum(array, axis = 2).shape)"
   ]
  },
  {
   "cell_type": "markdown",
   "id": "8c9e7a5a-31a4-4297-a061-73211412a5b9",
   "metadata": {},
   "source": [
    "## 요소별 연산 함수 (element-wise function)"
   ]
  },
  {
   "cell_type": "markdown",
   "id": "74d13305-6ae1-48b6-aac3-3674f4b29364",
   "metadata": {},
   "source": [
    "### abs: 절대값"
   ]
  },
  {
   "cell_type": "code",
   "execution_count": 109,
   "id": "37e2e4ce-a95f-47df-bb45-82ee56f2f59c",
   "metadata": {},
   "outputs": [
    {
     "name": "stdout",
     "output_type": "stream",
     "text": [
      "[1 2 3 4]\n"
     ]
    }
   ],
   "source": [
    "arr1 = np.array([-1, -2, -3, -4])\n",
    "abs_arr = np.abs(arr1)\n",
    "print(abs_arr)"
   ]
  },
  {
   "cell_type": "markdown",
   "id": "6dc5f0ce-9cff-439b-aa22-24afa306d2f8",
   "metadata": {},
   "source": [
    "### sqrt: 제곱근"
   ]
  },
  {
   "cell_type": "code",
   "execution_count": 111,
   "id": "79e943f4-cc56-48d1-adbc-be87ee38da1c",
   "metadata": {},
   "outputs": [
    {
     "name": "stdout",
     "output_type": "stream",
     "text": [
      "[1. 2. 3. 4.]\n"
     ]
    }
   ],
   "source": [
    "arr2 = np.array([1, 4, 9, 16])\n",
    "sqrt_arr = np.sqrt(arr2)\n",
    "print(sqrt_arr)"
   ]
  },
  {
   "cell_type": "markdown",
   "id": "1a86b683-ea65-492c-8cd2-e419fcc8b4c4",
   "metadata": {},
   "source": [
    "### any\n",
    "\n",
    "배열 내 하나라도 True가 있는지 확인"
   ]
  },
  {
   "cell_type": "code",
   "execution_count": 129,
   "id": "447dd320-6e77-4e56-91b2-7a2ef68d8493",
   "metadata": {},
   "outputs": [
    {
     "name": "stdout",
     "output_type": "stream",
     "text": [
      "True\n"
     ]
    }
   ],
   "source": [
    "arr_bool = np.array([False, True, False, False])\n",
    "any_ = np.any(arr_bool)\n",
    "print(any_)"
   ]
  },
  {
   "cell_type": "markdown",
   "id": "cc8948c3-0375-4a6b-b9ef-829177f49670",
   "metadata": {},
   "source": [
    "### all\n",
    "\n",
    "배열 내 모든 값이 True면, True 반환"
   ]
  },
  {
   "cell_type": "code",
   "execution_count": 130,
   "id": "c33838f3-76d8-4f49-8bdb-d15c0722f51a",
   "metadata": {},
   "outputs": [
    {
     "name": "stdout",
     "output_type": "stream",
     "text": [
      "False\n"
     ]
    }
   ],
   "source": [
    "all_ = np.all(arr_bool)\n",
    "print(all_)"
   ]
  },
  {
   "cell_type": "markdown",
   "id": "243e24ec-906a-421b-b355-28d019e90293",
   "metadata": {},
   "source": [
    "### NaN (Not A Number)"
   ]
  },
  {
   "cell_type": "code",
   "execution_count": 166,
   "id": "41f64735-8971-40ff-9735-fc1636b25fa8",
   "metadata": {},
   "outputs": [
    {
     "name": "stdout",
     "output_type": "stream",
     "text": [
      "7.0\n"
     ]
    }
   ],
   "source": [
    "arr = np.array([1, 2, np.nan, 4])\n",
    "arr_nsum = np.nansum(arr)\n",
    "print(arr_nsum)"
   ]
  },
  {
   "cell_type": "markdown",
   "id": "57900144-f8c1-4232-af9f-f4ff47f06994",
   "metadata": {},
   "source": [
    "### where\n",
    "\n",
    "np.where(condition, if condition is True return, if condition is False return)"
   ]
  },
  {
   "cell_type": "code",
   "execution_count": 134,
   "id": "7201952a-432d-4cc2-8ce1-500fbb0536d4",
   "metadata": {},
   "outputs": [
    {
     "name": "stdout",
     "output_type": "stream",
     "text": [
      "(array([0, 1]),)\n",
      "[1 2]\n"
     ]
    }
   ],
   "source": [
    "arr = np.array([1, 2, 3, 4, 5])\n",
    "condition = np.where(arr < 3)\n",
    "print(condition)\n",
    "print(arr[condition])"
   ]
  },
  {
   "cell_type": "code",
   "execution_count": 135,
   "id": "38d86f66-9e2b-4d42-b5f2-e17526bf2aa1",
   "metadata": {},
   "outputs": [
    {
     "data": {
      "text/plain": [
       "array([1, 2, 0, 0, 0])"
      ]
     },
     "execution_count": 135,
     "metadata": {},
     "output_type": "execute_result"
    }
   ],
   "source": [
    "np.where(arr < 3, arr, 0) # condition arr < 3의 결과 True인 값은 arr의 값을 반환하고, False인 값은 0으로 대체"
   ]
  },
  {
   "cell_type": "markdown",
   "id": "4fccfeeb-a861-4972-98ac-5fadeaafdcb7",
   "metadata": {},
   "source": [
    "## 집계 함수 (aggregate function)"
   ]
  },
  {
   "cell_type": "code",
   "execution_count": 120,
   "id": "6a1c126b-2fb7-4bc7-ad5e-617aab9aac19",
   "metadata": {},
   "outputs": [],
   "source": [
    "arr = np.array([1, 1, 2, 4, 5])"
   ]
  },
  {
   "cell_type": "markdown",
   "id": "6983f53f-cd7d-4e0a-ba9a-131e375e36a6",
   "metadata": {},
   "source": [
    "### sum"
   ]
  },
  {
   "cell_type": "code",
   "execution_count": 122,
   "id": "18024545-fac8-411a-a638-de734efe95d7",
   "metadata": {},
   "outputs": [
    {
     "name": "stdout",
     "output_type": "stream",
     "text": [
      "13\n"
     ]
    }
   ],
   "source": [
    "arr_sum = np.sum(arr)\n",
    "print(arr_sum)"
   ]
  },
  {
   "cell_type": "markdown",
   "id": "64053455-4db3-4249-96e1-705ab15939bb",
   "metadata": {},
   "source": [
    "### cumsum: 누적 합계"
   ]
  },
  {
   "cell_type": "code",
   "execution_count": 124,
   "id": "8353dba4-76fa-41e6-ad9a-85eba8675752",
   "metadata": {},
   "outputs": [
    {
     "name": "stdout",
     "output_type": "stream",
     "text": [
      "[ 1  2  4  8 13]\n"
     ]
    }
   ],
   "source": [
    "arr_cumsum = np.cumsum(arr)\n",
    "print(arr_cumsum)"
   ]
  },
  {
   "cell_type": "code",
   "execution_count": 168,
   "id": "efc105fc-cec9-4827-a970-559eb3597363",
   "metadata": {},
   "outputs": [
    {
     "name": "stdout",
     "output_type": "stream",
     "text": [
      "<class 'numpy.ndarray'>\n"
     ]
    }
   ],
   "source": [
    "print(type(arr_cumsum))"
   ]
  },
  {
   "cell_type": "markdown",
   "id": "ebf2be37-e7a0-4d25-b93c-17dc71ae0dce",
   "metadata": {},
   "source": [
    "### mean"
   ]
  },
  {
   "cell_type": "code",
   "execution_count": 116,
   "id": "f5e3d022-bcc2-4ca3-93eb-96fcb43cc01f",
   "metadata": {},
   "outputs": [
    {
     "name": "stdout",
     "output_type": "stream",
     "text": [
      "2.6\n"
     ]
    }
   ],
   "source": [
    "arr_mean = np.mean(arr)\n",
    "print(arr_mean)"
   ]
  },
  {
   "cell_type": "markdown",
   "id": "c0e9f711-092b-45e5-857e-52f3f69238e7",
   "metadata": {},
   "source": [
    "### median"
   ]
  },
  {
   "cell_type": "code",
   "execution_count": 117,
   "id": "9f798533-9301-4aea-bf57-8f75cc821cdd",
   "metadata": {},
   "outputs": [
    {
     "name": "stdout",
     "output_type": "stream",
     "text": [
      "2.0\n"
     ]
    }
   ],
   "source": [
    "arr_median = np.median(arr)\n",
    "print(arr_median)"
   ]
  },
  {
   "cell_type": "markdown",
   "id": "28ce5123-9cc4-431e-843a-d7d4ba40a6b6",
   "metadata": {},
   "source": [
    "### std"
   ]
  },
  {
   "cell_type": "code",
   "execution_count": 118,
   "id": "ee4ad0ab-ab79-4c95-a7e0-9db4682d3dfc",
   "metadata": {},
   "outputs": [
    {
     "name": "stdout",
     "output_type": "stream",
     "text": [
      "1.624807680927192\n"
     ]
    }
   ],
   "source": [
    "arr_std = np.std(arr)\n",
    "print(arr_std)"
   ]
  },
  {
   "cell_type": "markdown",
   "id": "50e21077-e341-470c-adb2-1d0e65bf50a7",
   "metadata": {},
   "source": [
    "### var"
   ]
  },
  {
   "cell_type": "code",
   "execution_count": 119,
   "id": "fa2bdad4-b41e-4937-86ad-63d945f4000f",
   "metadata": {},
   "outputs": [
    {
     "name": "stdout",
     "output_type": "stream",
     "text": [
      "2.64\n"
     ]
    }
   ],
   "source": [
    "arr_var = np.var(arr)\n",
    "print(arr_var)"
   ]
  },
  {
   "cell_type": "markdown",
   "id": "c03a093f-8339-4ea5-a837-27b2943314a5",
   "metadata": {},
   "source": [
    "### argmin\n",
    "\n",
    "최소값의 index 반환"
   ]
  },
  {
   "cell_type": "code",
   "execution_count": 126,
   "id": "d700d146-e80b-44c9-8657-d2deea5138cf",
   "metadata": {},
   "outputs": [
    {
     "name": "stdout",
     "output_type": "stream",
     "text": [
      "0\n",
      "1\n"
     ]
    }
   ],
   "source": [
    "# arr: [1, 1, 2, 4, 5]\n",
    "min_ = np.argmin(arr)\n",
    "print(min_)\n",
    "print(arr[min_])"
   ]
  },
  {
   "cell_type": "markdown",
   "id": "ce8d7c8c-2cc3-4c79-83ca-9d38a83bec56",
   "metadata": {},
   "source": [
    "### argmax\n",
    "\n",
    "최대값의 index 반환"
   ]
  },
  {
   "cell_type": "code",
   "execution_count": 128,
   "id": "c3f5bacf-1e18-4541-b763-d8ae23e3eee1",
   "metadata": {},
   "outputs": [
    {
     "name": "stdout",
     "output_type": "stream",
     "text": [
      "4\n",
      "5\n"
     ]
    }
   ],
   "source": [
    "# arr: [1, 1, 2, 4, 5]\n",
    "max_ = np.argmax(arr)\n",
    "print(max_)\n",
    "print(arr[max_])"
   ]
  },
  {
   "cell_type": "markdown",
   "id": "57c37fa4-4194-4511-b0a6-a13039d6f791",
   "metadata": {},
   "source": [
    "## random: 난수 생성 함수"
   ]
  },
  {
   "cell_type": "code",
   "execution_count": 172,
   "id": "946352ab-be8e-455e-8d7c-f48e3827fc29",
   "metadata": {},
   "outputs": [
    {
     "name": "stdout",
     "output_type": "stream",
     "text": [
      "[[0.88430908 0.12734784]\n",
      " [0.92447132 0.18557925]]\n"
     ]
    }
   ],
   "source": [
    "random_values = np.random.rand(2, 2) # 0 - 1 범위의 랜덤값을 지정한 shape으로 생성\n",
    "print(random_values)"
   ]
  },
  {
   "cell_type": "code",
   "execution_count": 173,
   "id": "e670284d-7269-4175-bcfc-682e0785d951",
   "metadata": {},
   "outputs": [
    {
     "name": "stdout",
     "output_type": "stream",
     "text": [
      "[[-0.6816049  -0.43350599]\n",
      " [-0.08309276 -1.65481787]]\n"
     ]
    }
   ],
   "source": [
    "random_values = np.random.randn(2, 2) # 표준정규분포의 랜덤값을 지정한 shape으로 생성\n",
    "print(random_values)"
   ]
  },
  {
   "cell_type": "code",
   "execution_count": 175,
   "id": "bc8c324a-f35f-47d3-aabc-3811ed61f255",
   "metadata": {},
   "outputs": [
    {
     "name": "stdout",
     "output_type": "stream",
     "text": [
      "[0 8 1 4 2]\n",
      "[[7 2]\n",
      " [2 4]]\n"
     ]
    }
   ],
   "source": [
    "random_values = np.random.randint(0, 10, size = 5) # 정수형 난수 생성 (min, max, shape)\n",
    "print(random_values)\n",
    "\n",
    "random_values = np.random.randint(0, 10, size = (2, 2))\n",
    "print(random_values)"
   ]
  },
  {
   "cell_type": "markdown",
   "id": "82cf36b0-15fc-4353-b819-dfda5b58fe1f",
   "metadata": {},
   "source": [
    "### shuffle\n",
    "\n",
    "- 무작위로 섞인 배열 생성\n",
    "- 변경사항을 원본에 적용"
   ]
  },
  {
   "cell_type": "code",
   "execution_count": 187,
   "id": "c0634ddb-1c4d-4698-963b-9da90f0ba86f",
   "metadata": {},
   "outputs": [
    {
     "name": "stdout",
     "output_type": "stream",
     "text": [
      "[0 1 2 3 4]\n",
      "[0 1 4 2 3]\n"
     ]
    }
   ],
   "source": [
    "arr = np.arange(5)\n",
    "print(arr)\n",
    "\n",
    "np.random.shuffle(arr)\n",
    "print(arr)"
   ]
  },
  {
   "cell_type": "markdown",
   "id": "e4d8c9ff-1a26-4a8d-af48-b9d99d4fac75",
   "metadata": {},
   "source": [
    "### permutation (순열)\n",
    "\n",
    "무작위로 섞인 배열 생성\n",
    "\n",
    "- input: scalar or array"
   ]
  },
  {
   "cell_type": "code",
   "execution_count": 209,
   "id": "d6791066-927f-4f7f-a0b6-b9066727ce17",
   "metadata": {},
   "outputs": [
    {
     "name": "stdout",
     "output_type": "stream",
     "text": [
      "[0 1 4 2 3]\n"
     ]
    }
   ],
   "source": [
    "print(arr)"
   ]
  },
  {
   "cell_type": "code",
   "execution_count": 208,
   "id": "28085169-3f47-4311-9275-8ac1644dff1a",
   "metadata": {},
   "outputs": [
    {
     "name": "stdout",
     "output_type": "stream",
     "text": [
      "[1 2 3 4 0]\n"
     ]
    }
   ],
   "source": [
    "arr_permu = np.random.permutation(arr)\n",
    "print(arr_permu)"
   ]
  },
  {
   "cell_type": "code",
   "execution_count": 205,
   "id": "eb677efc-fa66-4c3e-bde8-ce91a355ad94",
   "metadata": {},
   "outputs": [
    {
     "name": "stdout",
     "output_type": "stream",
     "text": [
      "[9 7 5 8 6 3 2 4 1 0]\n"
     ]
    }
   ],
   "source": [
    "arr_permu = np.random.permutation(10)\n",
    "print(arr_permu)"
   ]
  },
  {
   "cell_type": "markdown",
   "id": "267691bf-376e-4316-aa70-a437670fa556",
   "metadata": {},
   "source": [
    "#### shuffle vs permutation\n",
    "\n",
    "shuffle과 permutation 모두 scalar를 인자로 받으면, scalar 크기의 배열을 무작위 순서로 생성하고,</br>\n",
    "array를 인자로 받으면 배열을 무작위 순서로 재배열한다\n",
    "\n",
    "차이점은 shuffle은 무작위로 섞은 배열을 원본에 적용하기 때문에 반환값이 없고</br>\n",
    "permutation은 원본에 적용하지 않고 무작위 순서의 배열을 반환한다"
   ]
  },
  {
   "cell_type": "markdown",
   "id": "fa3bd9ab-9645-40a9-bd0e-a74eab8e0769",
   "metadata": {},
   "source": [
    "### choice\n",
    "\n",
    "- replace (중복 여부)\n",
    "  - default: False (중복 허용)\n",
    "- p: 요소를 선택할 확률\n",
    "  - 배열의 shape에 맞게 지정\n",
    "  - 확률의 합이 1이 되도록 설정 (otherwise, ValueError: probabilities do not sum to 1)"
   ]
  },
  {
   "cell_type": "code",
   "execution_count": 193,
   "id": "d67320b5-3a10-49aa-8cf1-5e00202b6d1a",
   "metadata": {},
   "outputs": [
    {
     "name": "stdout",
     "output_type": "stream",
     "text": [
      "[4 4 3]\n"
     ]
    }
   ],
   "source": [
    "choice = np.random.choice(arr, 3)\n",
    "print(choice)"
   ]
  },
  {
   "cell_type": "code",
   "execution_count": 189,
   "id": "05d226fb-622e-4d48-bb26-3acf41bd5c45",
   "metadata": {
    "scrolled": true
   },
   "outputs": [
    {
     "name": "stdout",
     "output_type": "stream",
     "text": [
      "[2 1 3]\n"
     ]
    }
   ],
   "source": [
    "choice = np.random.choice(arr, 3, replace = True)\n",
    "print(choice)"
   ]
  },
  {
   "cell_type": "code",
   "execution_count": 197,
   "id": "4401974d-c37c-42b2-bd66-d58919c13a35",
   "metadata": {},
   "outputs": [
    {
     "name": "stdout",
     "output_type": "stream",
     "text": [
      "[2 4]\n"
     ]
    }
   ],
   "source": [
    "choice = np.random.choice(arr, 2, p = [0.1, 0.3, 0.3, 0.2, 0.1])\n",
    "print(choice)"
   ]
  },
  {
   "cell_type": "markdown",
   "id": "a2b70d87-e669-4fc8-85dc-733dae83db5e",
   "metadata": {},
   "source": [
    "### normal\n",
    "\n",
    "정규분포를 따르는 난수 생성\n",
    "\n",
    "```python\n",
    "np.random.normal(mean, std, shape)\n",
    "```"
   ]
  },
  {
   "cell_type": "code",
   "execution_count": 210,
   "id": "579421f0-1d2f-4f04-bac9-e5b6c0b29ed7",
   "metadata": {},
   "outputs": [
    {
     "name": "stdout",
     "output_type": "stream",
     "text": [
      "[[[-1.45725041  0.64910675  0.07482149]\n",
      "  [-0.60961018  0.53639924 -0.37466139]\n",
      "  [ 2.33244468  1.13007542 -0.08903637]]\n",
      "\n",
      " [[ 0.46309793  0.45336571 -1.47199609]\n",
      "  [ 0.39363808 -0.08634284 -1.73105414]\n",
      "  [ 1.3508347  -0.29187784 -0.3435375 ]]\n",
      "\n",
      " [[ 0.70290215  1.75202442 -0.18206039]\n",
      "  [ 0.8623027  -1.19306354  1.08705651]\n",
      "  [ 1.32118581 -0.99849786 -0.44722078]]]\n"
     ]
    }
   ],
   "source": [
    "arr_norm = np.random.normal(0, 1, (3, 3, 3))\n",
    "print(arr_norm)"
   ]
  },
  {
   "cell_type": "markdown",
   "id": "5e23ef35-174e-4a13-ad23-13aa7e77e557",
   "metadata": {},
   "source": [
    "# Boolean Indexing\n",
    "\n",
    "원본 데이터는 유지하고 조건과 일치하는 요소들을 판별해서 새로운 배열을 만든다</br>"
   ]
  },
  {
   "cell_type": "code",
   "execution_count": 139,
   "id": "7a05643e-2c0a-4fa9-883a-27e04df7a23e",
   "metadata": {},
   "outputs": [
    {
     "name": "stdout",
     "output_type": "stream",
     "text": [
      "[ 2  4  6  8 10]\n"
     ]
    }
   ],
   "source": [
    "arr = np.array([1, 2, 3, 4, 5, 6, 7, 8, 9, 10]) # 원본 데이터\n",
    "\n",
    "# 사이즈가 큰 원본 데이터에 어떤 조작을 가하면 안될때 -> 복사본을 만들어서 작업\n",
    "# Boolean Indexing을 통해 원하는 데이터를 불러와서 새로운 변수에 저장 후 작업\n",
    "\n",
    "even_arr = arr[arr % 2 == 0]\n",
    "print(even_arr)"
   ]
  },
  {
   "cell_type": "markdown",
   "id": "cd8821eb-2265-4529-a285-13745aaf16ba",
   "metadata": {},
   "source": [
    "# Broadcast\n",
    "\n",
    "크기가 다른 배열간의 연산도 가능하게 하는 특징을 갖는다\n",
    "\n",
    "**두 배열의 차원이 다를 경우**</br>\n",
    "작은 차원 배열의 차원이 큰 차원 배열의 차원과 일치할 때까지 차원을 증가시키고 연산한다</br>\n",
    "\n",
    "**두 배열의 차원 수가 같은 경우**</br>\n",
    "크기가 1인 차원이 있으면, 다른 배열의 크기와 일치하도록 복제하고 연산한다\n",
    "\n",
    "배열의 연산은 같은 위치의 요소간 연산을 수행한다\n",
    "\n",
    "\n",
    "두 배열의 차원 수가 같은 경우, 모든 차원의 크기가 같거가 크기가 1이라면 모양이 같은 두 배열의 요소 간 연산을 한다"
   ]
  },
  {
   "cell_type": "code",
   "execution_count": 141,
   "id": "e244888f-e0b4-44c8-a054-ac27f2bc668c",
   "metadata": {},
   "outputs": [
    {
     "name": "stdout",
     "output_type": "stream",
     "text": [
      "[5 7 9]\n"
     ]
    }
   ],
   "source": [
    "# 형태가 같은 배열간의 연산\n",
    "\n",
    "arr1 = np.array([1, 2, 3])\n",
    "arr2 = np.array([4, 5, 6])\n",
    "\n",
    "result = arr1 + arr2\n",
    "print(result)"
   ]
  },
  {
   "cell_type": "code",
   "execution_count": 143,
   "id": "c9b2cfdb-f501-4384-b286-21f0269967eb",
   "metadata": {},
   "outputs": [
    {
     "name": "stdout",
     "output_type": "stream",
     "text": [
      "[[5 6 7]\n",
      " [6 7 8]\n",
      " [7 8 9]]\n"
     ]
    }
   ],
   "source": [
    "arr1 = np.array([[1], [2], [3]]) # 2차원 배열\n",
    "arr2 = np.array([4, 5, 6])       # 1차원 배열\n",
    "\n",
    "result = arr1 + arr2             # 2차원 배열\n",
    "print(result)"
   ]
  },
  {
   "cell_type": "markdown",
   "id": "094ed215-585a-43b2-9812-76a09fad1409",
   "metadata": {},
   "source": [
    "# 연습문제\n",
    "\n",
    "[정답 링크](https://colab.research.google.com/drive/1IqJHnFDPORCMDPvEQqZRgtN3n7PqVsKx#scrollTo=oh6_e4zvOvIa)"
   ]
  },
  {
   "cell_type": "markdown",
   "id": "21f98d41-dcc6-402a-b59d-118af48c59cd",
   "metadata": {},
   "source": [
    "1. 주어진 여러 개의 1차원 배열을 연결하여 하나의 큰 1차원 배열로 반환하세요"
   ]
  },
  {
   "cell_type": "code",
   "execution_count": 225,
   "id": "67e27dfa-98c1-4dc4-a162-143eb331196d",
   "metadata": {},
   "outputs": [],
   "source": [
    "arr1 = np.array([1, 2, 3])\n",
    "arr2 = np.array([4, 5, 6])\n",
    "arr3 = np.array([7, 8, 9, 10])"
   ]
  },
  {
   "cell_type": "code",
   "execution_count": 226,
   "id": "0b2118ff-fa20-4ce8-afa3-ffc4875d421e",
   "metadata": {},
   "outputs": [
    {
     "name": "stdout",
     "output_type": "stream",
     "text": [
      "[ 1  2  3  4  5  6  7  8  9 10]\n"
     ]
    }
   ],
   "source": [
    "arr_concat = np.concatenate([arr1, arr2, arr3])\n",
    "print(arr_concat)"
   ]
  },
  {
   "cell_type": "markdown",
   "id": "e06c02b6-9a70-42cd-86d3-42b07595a4ec",
   "metadata": {},
   "source": [
    "2. 주어진 2차원 배열에서 각 열의 평균값을 계산하여 새로운 1차원 배열로 나타내세요"
   ]
  },
  {
   "cell_type": "code",
   "execution_count": 227,
   "id": "c4d7609d-1e80-4da8-8069-4910c340539c",
   "metadata": {},
   "outputs": [],
   "source": [
    "arr = np.array([[1, 2, 3],\n",
    "                [4, 5, 6],\n",
    "                [7, 8, 9]])"
   ]
  },
  {
   "cell_type": "code",
   "execution_count": 230,
   "id": "dcca718f-509b-45a3-90fe-4703cb42a2d5",
   "metadata": {},
   "outputs": [
    {
     "name": "stdout",
     "output_type": "stream",
     "text": [
      "[4. 5. 6.]\n"
     ]
    }
   ],
   "source": [
    "arr_mean = np.mean(arr, axis = 0)\n",
    "print(arr_mean)"
   ]
  },
  {
   "cell_type": "markdown",
   "id": "153e68bc-bf8c-4c68-a3a3-b32cdea4cb6e",
   "metadata": {},
   "source": [
    "3. 주어진 2차원 배열에서 각 행의 최대값을 구하여 1차원 배열로 반환하세요"
   ]
  },
  {
   "cell_type": "code",
   "execution_count": 231,
   "id": "db8c3c3e-6868-481e-92d4-8ea6b43fab76",
   "metadata": {},
   "outputs": [
    {
     "name": "stdout",
     "output_type": "stream",
     "text": [
      "[3 6 9]\n"
     ]
    }
   ],
   "source": [
    "arr_max = np.max(arr, axis = 1)\n",
    "print(arr_max)"
   ]
  },
  {
   "cell_type": "markdown",
   "id": "9ebf523e-ddff-4166-83c6-18c6e89ce40d",
   "metadata": {},
   "source": [
    "4. 0에서 1사이의 값으로 크기 10개의 1차원 배열을 만들어주세요"
   ]
  },
  {
   "cell_type": "code",
   "execution_count": 236,
   "id": "bdf0d669-abf3-4bdf-a5b7-14672c0e36c7",
   "metadata": {},
   "outputs": [
    {
     "name": "stdout",
     "output_type": "stream",
     "text": [
      "[0.55261673 0.70530029 0.44360015 0.819866   0.53631928 0.77907438\n",
      " 0.98981595 0.30143371 0.5864838  0.93417546]\n"
     ]
    }
   ],
   "source": [
    "arr = np.random.rand(10)\n",
    "print(arr)"
   ]
  },
  {
   "cell_type": "code",
   "execution_count": 237,
   "id": "0107f6ac-1d29-4bd2-82c3-c7812fd3a29b",
   "metadata": {},
   "outputs": [
    {
     "name": "stdout",
     "output_type": "stream",
     "text": [
      "[0.25876774 0.5068806  0.18738363 0.11611041 0.78211229 0.63927276\n",
      " 0.2719837  0.93641943 0.05347526 0.16692248]\n"
     ]
    }
   ],
   "source": [
    "arr = np.random.random(10)\n",
    "print(arr)"
   ]
  },
  {
   "cell_type": "markdown",
   "id": "0ec019b9-8fa3-4a40-b258-a9ed38529c81",
   "metadata": {},
   "source": [
    "5. 주어진 1차원 배열에서 짝수인 요소들의 합을 계산하는 함수 sum_of_evens를 작성하세요\n",
    "```python\n",
    "def sum_of_evens(arr: np.ndarray) -> int:\n",
    "```"
   ]
  },
  {
   "cell_type": "code",
   "execution_count": null,
   "id": "930dfcc2-5fdf-46a8-8462-fa5ce9d8191f",
   "metadata": {},
   "outputs": [],
   "source": []
  },
  {
   "cell_type": "markdown",
   "id": "fc8cf2dd-7d1f-40dc-9466-877f61b45a14",
   "metadata": {},
   "source": [
    "6. 수평분할, 수직분할, 수평 스택, 수직 스택 문제를 풀어봅시다\n",
    "\n",
    "```python\n",
    "arr = np.arange(1, 13).reshape((3, 4))\n",
    "```\n",
    "\n",
    "6-1. 배열 arr을 수평분할하기 -> 다시 원본으로 스택쌓기"
   ]
  },
  {
   "cell_type": "code",
   "execution_count": null,
   "id": "0dfcd269-5c96-4b01-aba3-6344053ad183",
   "metadata": {},
   "outputs": [],
   "source": []
  },
  {
   "cell_type": "markdown",
   "id": "eb4e30d0-aadd-49fc-a2df-d8bab1e2e1e8",
   "metadata": {},
   "source": [
    "6-2. 수직분할하기 -> 다시 원본으로 스택쌓기"
   ]
  },
  {
   "cell_type": "code",
   "execution_count": null,
   "id": "5f453ab2-4642-4ad0-8a01-814445811ac9",
   "metadata": {},
   "outputs": [],
   "source": []
  },
  {
   "cell_type": "markdown",
   "id": "190db772-1823-49f1-bd84-a1927d15a28d",
   "metadata": {},
   "source": [
    "7. 배열에서 값을 10으로 나누었을 때 나머지가 0이면 원래 값 출력, 아니면 0으로 출력하세요"
   ]
  },
  {
   "cell_type": "code",
   "execution_count": 238,
   "id": "99ce7ecf-3719-4c05-a512-174093c1031d",
   "metadata": {
    "scrolled": true
   },
   "outputs": [
    {
     "name": "stdout",
     "output_type": "stream",
     "text": [
      "[[ 0  5 10 15]\n",
      " [20 25 30 35]\n",
      " [40 45 50 55]\n",
      " [60 65 70 75]\n",
      " [80 85 90 95]]\n"
     ]
    }
   ],
   "source": [
    "arr = np.arange(0, 100, 5).reshape((5,4))\n",
    "print(arr)"
   ]
  },
  {
   "cell_type": "code",
   "execution_count": null,
   "id": "7f7b4fdc-4c08-43b1-8934-34b4af1bae5d",
   "metadata": {},
   "outputs": [],
   "source": []
  },
  {
   "cell_type": "markdown",
   "id": "2ee43e9e-02e2-4c8c-849b-10a376b488dd",
   "metadata": {},
   "source": [
    "8. (3x3)배열 lst 중 짝수만 뽑아내는 부울린 인덱싱 배열(numpy 배열)을 사용하여 짝수 배열 n 을 만드시오"
   ]
  },
  {
   "cell_type": "code",
   "execution_count": 239,
   "id": "79e6dae0-6244-4ff4-bf19-fdcfe93d570e",
   "metadata": {},
   "outputs": [
    {
     "name": "stdout",
     "output_type": "stream",
     "text": [
      "[[1 2 3]\n",
      " [4 5 6]\n",
      " [7 8 9]]\n"
     ]
    }
   ],
   "source": [
    "lst = [\n",
    "    [1, 2, 3],\n",
    "    [4, 5, 6],\n",
    "    [7, 8, 9]\n",
    "]\n",
    "arr = np.array(lst)\n",
    "print(arr)"
   ]
  },
  {
   "cell_type": "code",
   "execution_count": null,
   "id": "1a1d8471-c8bd-40c0-91bc-731f5bccef16",
   "metadata": {},
   "outputs": [],
   "source": []
  },
  {
   "cell_type": "markdown",
   "id": "c5dae8cf-7bed-4c21-bf90-6a701064212a",
   "metadata": {},
   "source": [
    "9. 각도를 이용해서 삼각함수를 만들어봅시다"
   ]
  },
  {
   "cell_type": "code",
   "execution_count": 240,
   "id": "8c777d7d-426e-4578-9545-d4c394c8f07a",
   "metadata": {},
   "outputs": [],
   "source": [
    "angle = np.pi / 3 # 라디안 표기 = 60도 \n",
    "# 360도는 2라디안 으로, 180도는 1라디안으로 표현합니다"
   ]
  },
  {
   "cell_type": "code",
   "execution_count": null,
   "id": "4f04510b-4c99-4ddf-ac23-45f12ce8d11b",
   "metadata": {},
   "outputs": [],
   "source": []
  },
  {
   "cell_type": "markdown",
   "id": "c3f95a7c-1e2d-4c41-8ac7-c1fa80d3dc36",
   "metadata": {},
   "source": [
    "10. 조건함수를 사용해서 짝수조건을 만족하는 요소의 값이 2배로 만드는 배열을 만드시오"
   ]
  },
  {
   "cell_type": "code",
   "execution_count": 241,
   "id": "7ac2ed26-f6dc-4a3d-a8e8-5360506c8ed1",
   "metadata": {},
   "outputs": [
    {
     "name": "stdout",
     "output_type": "stream",
     "text": [
      "[1 2 3 4 5]\n"
     ]
    }
   ],
   "source": [
    "arr = np.array([1, 2, 3, 4, 5])\n",
    "print(arr)"
   ]
  },
  {
   "cell_type": "code",
   "execution_count": null,
   "id": "16df282e-0302-4821-875e-e726729be8a0",
   "metadata": {},
   "outputs": [],
   "source": []
  }
 ],
 "metadata": {
  "kernelspec": {
   "display_name": "Python 3 (ipykernel)",
   "language": "python",
   "name": "python3"
  },
  "language_info": {
   "codemirror_mode": {
    "name": "ipython",
    "version": 3
   },
   "file_extension": ".py",
   "mimetype": "text/x-python",
   "name": "python",
   "nbconvert_exporter": "python",
   "pygments_lexer": "ipython3",
   "version": "3.11.0"
  }
 },
 "nbformat": 4,
 "nbformat_minor": 5
}
