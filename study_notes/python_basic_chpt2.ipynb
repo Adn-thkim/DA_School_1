{
 "cells": [
  {
   "cell_type": "markdown",
   "id": "802902db-4c0d-4a31-aed6-d3cda753ec08",
   "metadata": {},
   "source": [
    "# 2.1 산술연산과 비교연산"
   ]
  },
  {
   "cell_type": "markdown",
   "id": "286fea20-d6c8-4acd-b7d8-a8e442700168",
   "metadata": {
    "tags": []
   },
   "source": [
    "## 연산자 우선순위\n",
    "\n",
    "1. 리스트, 튜플, 딕셔너리, 셋\n",
    "2. 인덱싱, 슬라이싱\n",
    "3. **\n",
    "4. *, @,  /, //, %\n",
    "5. +, -\n",
    "6. 비트단위 연산\n",
    "7. in, not in, is, is not\n",
    "8. 논리연산(not, and, or)\n",
    "9. if, else\n",
    "10. lambda"
   ]
  },
  {
   "cell_type": "markdown",
   "id": "871a4b0a-a13b-419b-9f35-05ebb9ea1c5b",
   "metadata": {},
   "source": [
    "### 산술연산\n",
    "\n",
    "<img src = '../source/image/arithmetic_operator.png' width = '500'>"
   ]
  },
  {
   "cell_type": "code",
   "execution_count": 39,
   "id": "763ab94b-ca2d-424c-8d09-1e9d68f1f0eb",
   "metadata": {},
   "outputs": [
    {
     "name": "stdout",
     "output_type": "stream",
     "text": [
      "13\n",
      "7\n",
      "3.3333333333333335\n",
      "3\n",
      "30\n",
      "1000\n",
      "1\n"
     ]
    }
   ],
   "source": [
    "a = 10\n",
    "b = 3\n",
    "\n",
    "print(a + b)\n",
    "print(a - b)\n",
    "print(a / b) # float 나눈 결과이기 때문에 소숫점까지 출력\n",
    "print(a // b) # int 몫이기 때문에 정수\n",
    "print(a * b)\n",
    "print(a ** b)\n",
    "print(a % b) # 나머지"
   ]
  },
  {
   "cell_type": "markdown",
   "id": "f3c809a9-de24-4abf-a49e-1a2612c733d0",
   "metadata": {},
   "source": [
    "### 비교연산\n",
    "\n",
    "<img src = '../source/image/comparison_operator.png' width = '500'>"
   ]
  },
  {
   "cell_type": "code",
   "execution_count": 40,
   "id": "8525d12f-59bb-45e8-9ae8-aef83590b19d",
   "metadata": {},
   "outputs": [
    {
     "name": "stdout",
     "output_type": "stream",
     "text": [
      "False\n",
      "True\n",
      "True\n",
      "True\n",
      "False\n",
      "False\n"
     ]
    }
   ],
   "source": [
    "a = 10\n",
    "b = 3\n",
    "\n",
    "print(a == b) # 같은가?\n",
    "print(a != b) # 다른가?\n",
    "print(a > b)\n",
    "print(a >= b)\n",
    "print(a < b)\n",
    "print(a <= b)"
   ]
  },
  {
   "cell_type": "markdown",
   "id": "d688a6db-0ac3-4e90-aba3-e2cf66040bbc",
   "metadata": {},
   "source": [
    "# 2.2 논리연산\n",
    "\n",
    "<img src = '../source/image/logical_operator.png' width = '600'>"
   ]
  },
  {
   "cell_type": "code",
   "execution_count": 41,
   "id": "02439695-9c46-4753-b2d2-519b31e26581",
   "metadata": {},
   "outputs": [
    {
     "name": "stdout",
     "output_type": "stream",
     "text": [
      "False\n",
      "True\n",
      "False\n",
      "False\n",
      "False\n",
      "False\n"
     ]
    }
   ],
   "source": [
    "a = True  # 1\n",
    "b = False # 0\n",
    "\n",
    "#and : 논리곱\n",
    "#or  : 논리합\n",
    "#not : 부정\n",
    "\n",
    "print(a and b)\n",
    "print(a and a)\n",
    "print(b and b)\n",
    "print(b and a)\n",
    "print(b and (b and c and d and e))\n",
    "print(b and (b and ccc and ddd and eee))"
   ]
  },
  {
   "cell_type": "markdown",
   "id": "c57e2434-63af-4b11-ac22-a64738903e17",
   "metadata": {},
   "source": [
    "**and / or**\n",
    "\n",
    "10 and 20 일 때, and는 앞의 값이 True이더라도 뒤의 값을 알아야하기 때문에 20이 출력되고</br>\n",
    "0 and 20 이면, 뒤의 값을 볼 필요가 없기 때문에 0이 출력된다\n",
    "\n",
    "반면,</br>\n",
    "10 or 20 일 때, or는 앞의 값이 True면 뒤의 값을 볼 필요가 없기 때문에 10이 출력되고</br>\n",
    "0 or 20 이면, 뒤의 값을 알아야하기 때문에 20이 출력된다\n",
    "\n",
    "**뒤 라인이 볼 필요가 없으면 자체적으로 뒤 라인을 실행시키지 않는다**"
   ]
  },
  {
   "cell_type": "code",
   "execution_count": 42,
   "id": "cddedab7-1a20-4d11-8ac3-68f0532059b7",
   "metadata": {},
   "outputs": [
    {
     "name": "stdout",
     "output_type": "stream",
     "text": [
      "True\n",
      "True\n",
      "False\n",
      "True\n",
      "False\n"
     ]
    },
    {
     "ename": "NameError",
     "evalue": "name 'ccc' is not defined",
     "output_type": "error",
     "traceback": [
      "\u001b[0;31m---------------------------------------------------------------------------\u001b[0m",
      "\u001b[0;31mNameError\u001b[0m                                 Traceback (most recent call last)",
      "Input \u001b[0;32mIn [42]\u001b[0m, in \u001b[0;36m<cell line: 6>\u001b[0;34m()\u001b[0m\n\u001b[1;32m      4\u001b[0m \u001b[38;5;28mprint\u001b[39m(b \u001b[38;5;129;01mor\u001b[39;00m a)\n\u001b[1;32m      5\u001b[0m \u001b[38;5;28mprint\u001b[39m(b \u001b[38;5;129;01mor\u001b[39;00m (b \u001b[38;5;129;01mand\u001b[39;00m ccc \u001b[38;5;129;01mand\u001b[39;00m ddd \u001b[38;5;129;01mand\u001b[39;00m eee))\n\u001b[0;32m----> 6\u001b[0m \u001b[38;5;28mprint\u001b[39m(b \u001b[38;5;129;01mor\u001b[39;00m (b \u001b[38;5;129;01mor\u001b[39;00m \u001b[43mccc\u001b[49m \u001b[38;5;129;01mor\u001b[39;00m ddd \u001b[38;5;129;01mor\u001b[39;00m eee))\n",
      "\u001b[0;31mNameError\u001b[0m: name 'ccc' is not defined"
     ]
    }
   ],
   "source": [
    "print(a or b)\n",
    "print(a or a)\n",
    "print(b or b)\n",
    "print(b or a)\n",
    "print(b or (b and ccc and ddd and eee))\n",
    "print(b or (b or ccc or ddd or eee))"
   ]
  },
  {
   "cell_type": "code",
   "execution_count": 44,
   "id": "0716716b-b70d-4e9c-8eda-ed2155e78619",
   "metadata": {},
   "outputs": [
    {
     "name": "stdout",
     "output_type": "stream",
     "text": [
      "False\n",
      "2\n",
      "1\n",
      "0\n",
      "-1\n",
      "True\n"
     ]
    }
   ],
   "source": [
    "print(not a)\n",
    "print(a + a)\n",
    "print(b + a)\n",
    "print(b + b)\n",
    "print(b - a)\n",
    "\n",
    "print(bool(b-a))"
   ]
  },
  {
   "cell_type": "code",
   "execution_count": 46,
   "id": "4136b875-8fc6-47c0-8acc-1060d16bb0d4",
   "metadata": {},
   "outputs": [
    {
     "name": "stdout",
     "output_type": "stream",
     "text": [
      "0\n",
      "15\n",
      "30\n",
      "45\n",
      "60\n",
      "75\n",
      "90\n"
     ]
    }
   ],
   "source": [
    "for i in range(100):\n",
    "    if i % 3 == 0 and i % 5 ==0:\n",
    "        print(i)"
   ]
  },
  {
   "cell_type": "code",
   "execution_count": 47,
   "id": "8b2a0ac6-1cde-4f08-947d-ad623fa6c6e3",
   "metadata": {},
   "outputs": [
    {
     "name": "stdout",
     "output_type": "stream",
     "text": [
      "0\n",
      "3\n",
      "5\n",
      "6\n",
      "9\n",
      "10\n",
      "12\n",
      "15\n",
      "18\n",
      "20\n",
      "21\n",
      "24\n",
      "25\n",
      "27\n",
      "30\n",
      "33\n",
      "35\n",
      "36\n",
      "39\n",
      "40\n",
      "42\n",
      "45\n",
      "48\n",
      "50\n",
      "51\n",
      "54\n",
      "55\n",
      "57\n",
      "60\n",
      "63\n",
      "65\n",
      "66\n",
      "69\n",
      "70\n",
      "72\n",
      "75\n",
      "78\n",
      "80\n",
      "81\n",
      "84\n",
      "85\n",
      "87\n",
      "90\n",
      "93\n",
      "95\n",
      "96\n",
      "99\n"
     ]
    }
   ],
   "source": [
    "for i in range(100):\n",
    "    if i % 3 == 0 or i % 5 ==0:\n",
    "        print(i)"
   ]
  },
  {
   "cell_type": "markdown",
   "id": "de9d5abf-bc83-4fe1-9aef-6188b3f62017",
   "metadata": {},
   "source": [
    "# 2.3 비트연산, 할당연산, 식별연산, in구문"
   ]
  },
  {
   "cell_type": "markdown",
   "id": "648191c3-a99e-43ad-9604-282f7939f7fb",
   "metadata": {},
   "source": [
    "## 비트연산 (중요도 하)\n",
    "\n",
    "<img src = '../source/image/bit_operator.png' width = '600'>"
   ]
  },
  {
   "cell_type": "code",
   "execution_count": 12,
   "id": "d303136e-1fc9-48e7-84d1-aa1c485d33e4",
   "metadata": {},
   "outputs": [
    {
     "data": {
      "text/plain": [
       "5"
      ]
     },
     "execution_count": 12,
     "metadata": {},
     "output_type": "execute_result"
    }
   ],
   "source": [
    "# Tip\n",
    "# 가장 가까운 2의 승수를 구한다\n",
    "# 거기에서 +- 하면 된다\n",
    "\n",
    "7 & 5\n",
    "\n",
    "# 7에 가장 가까운 2의 승수는 2^3, 2진법으로 1000 이므로 7은 111\n",
    "# 5에 가장 가까운 2의 승수는 2^2, 2진법으로 100이므로 5는 101\n",
    "# 비트연산은\n",
    "# 111\n",
    "# 101\n",
    "# 101 (출력값, 따라서 5가 출력된다)"
   ]
  },
  {
   "cell_type": "markdown",
   "id": "fb897ecc-5463-48d5-ae40-75561234583b",
   "metadata": {},
   "source": [
    "문제! 14 or 7"
   ]
  },
  {
   "cell_type": "code",
   "execution_count": null,
   "id": "5f0b37c8-7465-41fe-b08b-53a0509ebd7f",
   "metadata": {},
   "outputs": [],
   "source": [
    "# 14에서 가장 가까운 2의 승수는 2^4, 10000 따라서 14는 1110\n",
    "# 7에 가장 가까운 2의 승수는 2^3, 1000 이므로 7은 111\n",
    "\n",
    "# 1110\n",
    "# 0111\n",
    "# 1111\n",
    "# 따라서 출력값은 15"
   ]
  },
  {
   "cell_type": "markdown",
   "id": "40d379fc-d096-4307-b73a-9ccebd8a3a79",
   "metadata": {},
   "source": [
    "**~ : 보수연산** (8비트 연산에서 1과 0을 전부 뒤집은 수)\n",
    "\n",
    "**8bit**\n",
    "\n",
    "256개</br>\n",
    "0-255까지 사용? 음수사용 불가!</br>\n",
    "그래서 부호비트를 사용</br>\n",
    "00001010 -> not을 취하면</br>\n",
    "11110101 이 나온다</br>\n",
    "\n",
    "자신과 자신의 보수를 더하면 0이 나온다\n",
    "\n",
    "a = 40\n",
    "\n",
    "101000\n",
    "\n",
    "그런데, 101000의 보수를 취하면 010111이고,</br>\n",
    "101000</br>\n",
    "010111 을 비트연산하면, 111111이 나온다.</br>\n",
    "따라서 보수에서 1을 취한다</br>\n",
    "\n",
    "101000</br>\n",
    "011000</br>\n",
    "000000 이 나온다\n"
   ]
  },
  {
   "cell_type": "code",
   "execution_count": 23,
   "id": "1deff69f-01d6-4665-863d-21e49b72e6c6",
   "metadata": {},
   "outputs": [
    {
     "data": {
      "text/plain": [
       "-11"
      ]
     },
     "execution_count": 23,
     "metadata": {},
     "output_type": "execute_result"
    }
   ],
   "source": [
    "~10"
   ]
  },
  {
   "cell_type": "markdown",
   "id": "7ce62b8c-8c88-4619-bf94-c2c3b3303bd8",
   "metadata": {},
   "source": [
    "2의 보수 추가 정보\n",
    "\n",
    "- 비트를 완전히 뒤집는 1의 보수는 -0와 +0가 생기는 문제가 있습니다\n",
    "- 따라서 현재 대부분의 시스템에서는 0이 하나만 있는 2의 보수를 사용합니다</br>\n",
    "  0은 00000000으로 두고, 1부터는 비트단위 보수(11111110)를 취하는 것이죠\n",
    "- 2의 보수는 위의 사례처럼 +1을 해줌으로서 overflow를 발생시켜 절대값이 같은 음수와 양수가 더해질 때 0이 되게 할 수 있습니다"
   ]
  },
  {
   "cell_type": "markdown",
   "id": "9bd90ef4-16f2-4ac0-981b-4c6dcda44ea8",
   "metadata": {},
   "source": [
    "## 할당연산\n",
    "\n",
    "<img src = '../source/image/addtion_assignment_operator.png' width = '600'>"
   ]
  },
  {
   "cell_type": "code",
   "execution_count": 48,
   "id": "f0d2ecf9-c12a-45e8-8efb-d8f20d598b4e",
   "metadata": {},
   "outputs": [
    {
     "name": "stdout",
     "output_type": "stream",
     "text": [
      "numA: 30\n",
      "numB: 20\n"
     ]
    }
   ],
   "source": [
    "#'연산자' + '='\n",
    "numA = 10\n",
    "numB = 20\n",
    "\n",
    "numA += numB\n",
    "\n",
    "print(\"numA:\", numA)\n",
    "print(\"numB:\", numB)"
   ]
  },
  {
   "cell_type": "markdown",
   "id": "490284e9-9e8d-4195-936d-ac728a01bc44",
   "metadata": {},
   "source": [
    "## 식별연산\n",
    "\n",
    "- **is : 피연산자들의 객체 메모리의 위치(주소)가 같다면 참(True)을 반환합니다**\n",
    "- **is not : 피연산자들의 객체 메모리의 위치(주소)가 다르다면 참(True)을 반환합니다**\n",
    "\n",
    "**식별 연산자는 C, C++ 언어의 포인터로 이해하시면 됩니다**\n"
   ]
  },
  {
   "cell_type": "markdown",
   "id": "40ab0e39-1d21-4669-aa3a-70ad90fcea69",
   "metadata": {},
   "source": [
    "a = 10 </br>\n",
    "b = 10 이라면\n",
    "\n",
    "id(a)와 id(b)는 같을까?\n",
    "\n",
    "```\n",
    "변수는 각 값을 다르게 저장한다\n",
    "python은 자체적으로 속도를 높이기 위해 여러 노력을 해왔다 -> 0-256은 먼저 메모리에 적재를 해둔다\n",
    "따라서 0-256까지는 a is b = True이지만, 그 이후는 False이다\n",
    "```"
   ]
  },
  {
   "cell_type": "code",
   "execution_count": 3,
   "id": "c75d2790-a0df-4af8-8423-9d6f5752ad9f",
   "metadata": {},
   "outputs": [
    {
     "data": {
      "text/plain": [
       "True"
      ]
     },
     "execution_count": 3,
     "metadata": {},
     "output_type": "execute_result"
    }
   ],
   "source": [
    "a = 10\n",
    "b = 10\n",
    "\n",
    "a is b"
   ]
  },
  {
   "cell_type": "code",
   "execution_count": 4,
   "id": "81ade67e-bc58-412c-b699-796113991e1a",
   "metadata": {},
   "outputs": [
    {
     "data": {
      "text/plain": [
       "False"
      ]
     },
     "execution_count": 4,
     "metadata": {},
     "output_type": "execute_result"
    }
   ],
   "source": [
    "a = 257\n",
    "b = 257\n",
    "\n",
    "a is b"
   ]
  },
  {
   "cell_type": "markdown",
   "id": "b361ca5a-2e74-4bc1-aef3-cc53867fc81b",
   "metadata": {},
   "source": [
    "**파이썬의 경우 동일한 문자열이 있다면 해당 문자열을 가진 주소를 그대로 참조하게 되어있습니다**\n",
    "\n",
    "**항상 그런 것은 아닙니다**"
   ]
  },
  {
   "cell_type": "code",
   "execution_count": 49,
   "id": "b9f58156-c6c3-4ffd-9b58-fd72f86555a2",
   "metadata": {},
   "outputs": [
    {
     "name": "stdout",
     "output_type": "stream",
     "text": [
      "True\n",
      "True\n"
     ]
    }
   ],
   "source": [
    "coffee = \"Brand\"\n",
    "orange = \"Brand\"\n",
    "\n",
    "print(coffee is orange)\n",
    "print(coffee == orange)"
   ]
  },
  {
   "cell_type": "code",
   "execution_count": 50,
   "id": "873413cc-d302-4d76-80fa-b72654d58093",
   "metadata": {},
   "outputs": [
    {
     "data": {
      "text/plain": [
       "(4352089008, 4352089008)"
      ]
     },
     "execution_count": 50,
     "metadata": {},
     "output_type": "execute_result"
    }
   ],
   "source": [
    "id(coffee), id(orange)"
   ]
  },
  {
   "cell_type": "markdown",
   "id": "060e7654-43c7-4618-81e0-a8b5eff36927",
   "metadata": {},
   "source": [
    "**배열과 같은 객체는 문자열과 달리 새로 생성할 때 새로운 주소에 담습니다**\n",
    "\n",
    "**값은 동일하더라도 다른 주소를 가지게 될 수 있습니다**"
   ]
  },
  {
   "cell_type": "code",
   "execution_count": 52,
   "id": "75152500-e871-4db0-82fd-c7174799478f",
   "metadata": {},
   "outputs": [
    {
     "name": "stdout",
     "output_type": "stream",
     "text": [
      "True\n",
      "False\n"
     ]
    }
   ],
   "source": [
    "a = [1, 2, 3]\n",
    "b = [1, 2, 3]\n",
    "\n",
    "print(a == b)\n",
    "print(a is b)"
   ]
  },
  {
   "cell_type": "markdown",
   "id": "f785a322-c961-41b1-b621-6e3350aa3f3a",
   "metadata": {},
   "source": [
    "## 멤버연산\n",
    "\n",
    "- **in : 왼쪽 피연산자가 오른쪽 피연산자 배열에 포함되어 있으면 참(True)을 반환합니다**\n",
    "- **not in : 왼쪽 피연산자가 오른쪽 피연산자 배열에 포함되어 있지 않으면 참(True)을 반환합니다**\n",
    "\n",
    "**멤버 연산자는 원하는 값이 배열에 들어있는지 확인하는 기능입니다**"
   ]
  },
  {
   "cell_type": "code",
   "execution_count": 53,
   "id": "385a310b-3942-4db8-9329-4631e44d50a2",
   "metadata": {},
   "outputs": [
    {
     "data": {
      "text/plain": [
       "(True, False, False)"
      ]
     },
     "execution_count": 53,
     "metadata": {},
     "output_type": "execute_result"
    }
   ],
   "source": [
    "a=[1, 2, 3, 4]\n",
    "b=[1, 2, 3, 4]\n",
    "\n",
    "a==b, a is b, a in b"
   ]
  },
  {
   "cell_type": "code",
   "execution_count": 54,
   "id": "94aa5b9e-eea2-4d09-8ea3-e7e4ae57a82a",
   "metadata": {},
   "outputs": [
    {
     "data": {
      "text/plain": [
       "True"
      ]
     },
     "execution_count": 54,
     "metadata": {},
     "output_type": "execute_result"
    }
   ],
   "source": [
    "10 in {10, 20, 30}"
   ]
  },
  {
   "cell_type": "markdown",
   "id": "28d7faa9-ddac-455a-9cf3-7af6cd2bb611",
   "metadata": {},
   "source": [
    "10, 20을 갖는 set {10, 20}이 {10, 20, 30}의 부분집합인지 확인하려면,\n",
    "\n",
    "issubset 함수를 활용하면 된다 (어떤 함수를 사용할 수 있는지 확인하려면 dir() 사용)"
   ]
  },
  {
   "cell_type": "code",
   "execution_count": 55,
   "id": "08f91085-6110-4c91-8f45-9c9b0345e3b6",
   "metadata": {},
   "outputs": [
    {
     "data": {
      "text/plain": [
       "True"
      ]
     },
     "execution_count": 55,
     "metadata": {},
     "output_type": "execute_result"
    }
   ],
   "source": [
    "print({10, 20}.issubset({10, 20, 30})"
   ]
  },
  {
   "cell_type": "markdown",
   "id": "b40250d4-a081-4449-bb47-bfcad8fb9250",
   "metadata": {},
   "source": [
    "**아름다운 코드**\n",
    "\n",
    "* 잠 꺠는 시간입니다. 참고삼아서 보기 :)\n",
    "\n",
    "@(Decorater)"
   ]
  },
  {
   "cell_type": "code",
   "execution_count": 32,
   "id": "5764f7ca-46d9-4a8f-99a5-6dc8e369002d",
   "metadata": {},
   "outputs": [
    {
     "name": "stdout",
     "output_type": "stream",
     "text": [
      "3.0\n",
      "3.0\n",
      "3.0\n"
     ]
    }
   ],
   "source": [
    "#데이터 분석에서 쓰일만한 데코레이터\n",
    "def 숫자로변환(func):\n",
    "    def new_func(l):\n",
    "        print(func(list(map(int, l))))\n",
    "    return new_func\n",
    "\n",
    "@숫자로변환\n",
    "def 평균(l):\n",
    "    return sum(l) / len(l)\n",
    "\n",
    "평균([1, 2, 3, 4, 5])\n",
    "평균(['1', '2', '3', 4, 5])\n",
    "평균(['1', '2', '3', '4', '5'])"
   ]
  },
  {
   "cell_type": "code",
   "execution_count": 33,
   "id": "2cf09f25-f7d9-4953-bbf5-6bfce4d5a753",
   "metadata": {},
   "outputs": [
    {
     "data": {
      "text/plain": [
       "'three'"
      ]
     },
     "execution_count": 33,
     "metadata": {},
     "output_type": "execute_result"
    }
   ],
   "source": [
    "d = {'one': 10, 'two': 20, 'three': 30}\n",
    "d.values()\n",
    "max(d.values())\n",
    "max(d, key = d.get)"
   ]
  },
  {
   "cell_type": "markdown",
   "id": "239cf0d9-ac7c-434a-8643-b398c5fe60ca",
   "metadata": {},
   "source": [
    "# 2.4 연습문제"
   ]
  },
  {
   "cell_type": "markdown",
   "id": "b14a94af-5c8c-4bf6-ae92-4cb6664aa438",
   "metadata": {},
   "source": [
    "**그리디 알고리즘**\n",
    "\n",
    "\n",
    "Q) 10000원을 들고 가서 1200원짜리 아이스크림을 먹었다\n",
    "\n",
    "남은 금액을 5000원, 1000원, 500원, 100원으로 교환하는 프로그램을 만들어주세요"
   ]
  },
  {
   "cell_type": "code",
   "execution_count": 38,
   "id": "1efac249-df64-499e-8009-aebe13c84e95",
   "metadata": {},
   "outputs": [
    {
     "name": "stdout",
     "output_type": "stream",
     "text": [
      "오천원은 1개, 천원은 3개, 오백원은 1개, 백원 3개를 거슬러 드립니다.\n"
     ]
    }
   ],
   "source": [
    "잔돈 = 8800\n",
    "\n",
    "오천원갯수 = 잔돈 // 5000\n",
    "잔돈 = 잔돈 - 오천원갯수 * 5000\n",
    "\n",
    "천원의갯수 = 잔돈 // 1000\n",
    "잔돈 = 잔돈 - 천원의갯수 * 1000\n",
    "\n",
    "오백원갯수 = 잔돈 // 500\n",
    "잔돈 = 잔돈 - 오백원갯수 * 500\n",
    "\n",
    "백원갯수 = 잔돈 // 100\n",
    "잔돈 = 잔돈 - 백원갯수 * 100\n",
    "\n",
    "print(f'오천원은 {오천원갯수}개, \\\n",
    "천원은 {천원의갯수}개, \\\n",
    "오백원은 {오백원갯수}개, \\\n",
    "백원 {백원갯수}개를 거슬러 드립니다.')"
   ]
  }
 ],
 "metadata": {
  "kernelspec": {
   "display_name": "Python 3 (ipykernel)",
   "language": "python",
   "name": "python3"
  },
  "language_info": {
   "codemirror_mode": {
    "name": "ipython",
    "version": 3
   },
   "file_extension": ".py",
   "mimetype": "text/x-python",
   "name": "python",
   "nbconvert_exporter": "python",
   "pygments_lexer": "ipython3",
   "version": "3.8.12"
  }
 },
 "nbformat": 4,
 "nbformat_minor": 5
}
