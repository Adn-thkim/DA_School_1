{
 "cells": [
  {
   "cell_type": "markdown",
   "id": "d6b69239-2119-45c2-bdb6-48d24019bcd5",
   "metadata": {},
   "source": [
    "# 3.1 함수의 개념\n",
    "\n",
    "확장성을 위해서 기능을 코드로 나열하기보다 함수를 활용해야 한다!\n",
    "\n",
    "하나의 함수는 하나의 기능을 수행해야 한다\n",
    "\n",
    "파선아실 : paramater는 선언할 때, argument는 실행할 때\n",
    "\n",
    "**함수를 선언하면, 파이썬에서 선언구문까지 실행하고 내부 동작은 읽지 않는다**"
   ]
  },
  {
   "cell_type": "code",
   "execution_count": 2,
   "id": "80e816a0-1bee-404f-a5bd-6fcfbeef3b23",
   "metadata": {},
   "outputs": [
    {
     "name": "stdout",
     "output_type": "stream",
     "text": [
      "function(5,7) =  12\n"
     ]
    }
   ],
   "source": [
    "def function(x,y):\n",
    "    z = x + y\n",
    "    return z\n",
    "\n",
    "print(\"function(5,7) = \", function(5,7))"
   ]
  },
  {
   "cell_type": "markdown",
   "id": "db94f4d5-1e29-4347-b656-6dc1cd9c3a65",
   "metadata": {},
   "source": [
    "함수는 크게 아래와 같이 구분할 수 있습니다</br>\n",
    "\n",
    "1. 함수의 정의</br>\n",
    "2. 함수의 입력</br>\n",
    "3. 함수의 기능과 연산</br>\n",
    "4. 함수의 출력(return)</br>\n",
    "\n",
    "함수의 모든 요소가 필요충분조건인 것은 아닙니다</br>\n",
    "예를 들어 input이 없는 함수도 있고, return 값이 없는 함수도 있으며(자동으로 None이 할당) function이 없는 함수도 있습니다</br>\n",
    "함수를 선언하였다면 호출해야만 함수가 작동하게 됩니다</br>\n",
    "위 예제에서는 `function(5, 7)`이라는 문장으로 함수를 호출합니다</br>"
   ]
  },
  {
   "cell_type": "code",
   "execution_count": 3,
   "id": "8db35ae2-7448-4512-af2c-f85d392fdf3b",
   "metadata": {},
   "outputs": [
    {
     "name": "stdout",
     "output_type": "stream",
     "text": [
      "12\n",
      "function(5,7) =  None\n"
     ]
    }
   ],
   "source": [
    "def function(x,y): #Input\n",
    "    z = x + y      #Function\n",
    "    print(z)       #Output?\n",
    "    \n",
    "print(\"function(5,7) = \", function(5,7)) # 함수의 반환값이 없기 때문에 None이 출력된다"
   ]
  },
  {
   "cell_type": "code",
   "execution_count": 4,
   "id": "ce0c334d-22e7-44ff-9f00-87556c9a6c97",
   "metadata": {},
   "outputs": [
    {
     "name": "stdout",
     "output_type": "stream",
     "text": [
      "12\n",
      "function(5,7) =  None\n"
     ]
    }
   ],
   "source": [
    "def function(x,y):\n",
    "    z = x + y\n",
    "    print(z)\n",
    "    return None\n",
    "    \n",
    "print(\"function(5,7) = \", function(5,7))"
   ]
  },
  {
   "cell_type": "markdown",
   "id": "87b33a68-84f2-4cbf-9897-431e2fcccf27",
   "metadata": {},
   "source": [
    "특수문자로도 사용이 가능합니다. 특수문자 코딩은 권하지 않습니다. 같은 원리로 한글 코딩도 가능합니다.</br>\n",
    "한글 코딩의 장점으로는 고유명사를 표현하기 좋으며, 교육용으로도 주목받고 있습니다.</br>\n",
    "HTML, CSS, Javascript등 다양한 분야에서 한글코딩이 주목받고 있으며 자세한 내용은 NHN 김대현 수석님의 '한글코딩.org'에서 확인할 수 있습니다. </br>아래는 한글코딩 예시입니다.</br>"
   ]
  },
  {
   "cell_type": "code",
   "execution_count": 6,
   "id": "873de06d-593b-4fef-9097-0df77b6d4ef4",
   "metadata": {},
   "outputs": [
    {
     "name": "stdout",
     "output_type": "stream",
     "text": [
      "314.0\n"
     ]
    }
   ],
   "source": [
    "π = 3.14 \n",
    "def circle(r, inputpi):\n",
    "    z = r*r*inputpi\n",
    "    return z\n",
    "result = circle(10,π)\n",
    "print(result)"
   ]
  },
  {
   "cell_type": "markdown",
   "id": "0e770e08-920d-44c3-85c6-034df9a1801c",
   "metadata": {},
   "source": [
    "**함수 안에 함수 만들기**\n",
    "\n",
    "함수 안에 함수를 만드는 이유는?\n",
    "- 메모리 효울 : **함수 내 변수와 함수는 함수가 끝나면 휘발된다**\n",
    "\n",
    "**print(z)는 함수가 끝났기 때문에 x, y, z에 접근할 수 없습니다**"
   ]
  },
  {
   "cell_type": "code",
   "execution_count": 7,
   "id": "aa297ee0-b456-4c71-aed7-00eb6d79108a",
   "metadata": {},
   "outputs": [
    {
     "name": "stdout",
     "output_type": "stream",
     "text": [
      "hello1\n",
      "world1\n",
      "27\n"
     ]
    }
   ],
   "source": [
    "def f2(x, y):\n",
    "    def f1(x):\n",
    "        print('world1')\n",
    "        return x + x\n",
    "    print('hello1')\n",
    "    z = f1(10)\n",
    "    return x + y + z\n",
    "\n",
    "# a = f1(1) # 함수 안에 있는 함수는 밖에서 호출할 수 있지 않습니다.\n",
    "b = f2(3, 4)\n",
    "print(b)"
   ]
  },
  {
   "cell_type": "markdown",
   "id": "f3ebae9a-9de0-46f6-82bd-13444987ac3c",
   "metadata": {},
   "source": [
    "# 3.2 지역변수와 전역변수\n",
    "\n",
    "지역변수는 함수 내부에서만 사용되는 변수입니다</br>\n",
    "함수가 호출되는 동안에만 효력을 발휘하고 함수가 끝나는 동시에 소멸됩니다</br>\n",
    "전역변수는 프로그램 어디에서나 접근이 가능한 변수이며 함수 내에서 global를 입력하면 전역변수가 됩니다"
   ]
  },
  {
   "cell_type": "code",
   "execution_count": 1,
   "id": "74fb91fe-f2dc-4cbb-b2ee-af5ce84c8ee2",
   "metadata": {},
   "outputs": [
    {
     "name": "stdout",
     "output_type": "stream",
     "text": [
      "110\n"
     ]
    }
   ],
   "source": [
    "x = 100\n",
    "def plusX(x):\n",
    "    x = x + 100\n",
    "    return x\n",
    "\n",
    "print(plusX(10))"
   ]
  },
  {
   "cell_type": "markdown",
   "id": "f57a0e24-eca9-4d9c-b662-f81573cba61a",
   "metadata": {},
   "source": [
    "함수 안에서 함수 밖에 있는 함수를 만지지 못합니다</br>\n",
    "이를 위해 global이라는 함수를 사용하여 모든 함수에서 사용 가능하도록 만들 수 있어요</br>\n",
    "그러나 프로그래밍에서 전역변수는 권장하지 않습니다</br>\n",
    "연산을 하고 싶다면 함수에 아규먼트(함수의 input)를 대입하여 return으로 받는게 객체 지향 프로그래밍에 적합합니다"
   ]
  },
  {
   "cell_type": "code",
   "execution_count": 2,
   "id": "add1d04b-4cf5-446c-ba4c-f0df442e1b65",
   "metadata": {},
   "outputs": [
    {
     "name": "stdout",
     "output_type": "stream",
     "text": [
      "110\n"
     ]
    }
   ],
   "source": [
    "x = 100\n",
    "def plusX(z):\n",
    "    z = z + x\n",
    "    return z\n",
    "\n",
    "print(plusX(10))"
   ]
  },
  {
   "cell_type": "code",
   "execution_count": 3,
   "id": "cdd88ccb-bc91-4d53-b9f2-abcef9a551c9",
   "metadata": {},
   "outputs": [
    {
     "ename": "UnboundLocalError",
     "evalue": "local variable 'x' referenced before assignment",
     "output_type": "error",
     "traceback": [
      "\u001b[0;31m---------------------------------------------------------------------------\u001b[0m",
      "\u001b[0;31mUnboundLocalError\u001b[0m                         Traceback (most recent call last)",
      "Input \u001b[0;32mIn [3]\u001b[0m, in \u001b[0;36m<cell line: 7>\u001b[0;34m()\u001b[0m\n\u001b[1;32m      4\u001b[0m     x \u001b[38;5;241m=\u001b[39m z \u001b[38;5;241m+\u001b[39m x\n\u001b[1;32m      5\u001b[0m     \u001b[38;5;28;01mreturn\u001b[39;00m z\n\u001b[0;32m----> 7\u001b[0m \u001b[38;5;28mprint\u001b[39m(\u001b[43mplusX\u001b[49m\u001b[43m(\u001b[49m\u001b[38;5;241;43m10\u001b[39;49m\u001b[43m)\u001b[49m)\n",
      "Input \u001b[0;32mIn [3]\u001b[0m, in \u001b[0;36mplusX\u001b[0;34m(z)\u001b[0m\n\u001b[1;32m      3\u001b[0m \u001b[38;5;28;01mdef\u001b[39;00m \u001b[38;5;21mplusX\u001b[39m(z):\n\u001b[0;32m----> 4\u001b[0m     x \u001b[38;5;241m=\u001b[39m z \u001b[38;5;241m+\u001b[39m \u001b[43mx\u001b[49m\n\u001b[1;32m      5\u001b[0m     \u001b[38;5;28;01mreturn\u001b[39;00m z\n",
      "\u001b[0;31mUnboundLocalError\u001b[0m: local variable 'x' referenced before assignment"
     ]
    }
   ],
   "source": [
    "# 문제가 생기는 코드\n",
    "x = 100\n",
    "def plusX(z):\n",
    "    x = z + x\n",
    "    return z\n",
    "\n",
    "print(plusX(10))"
   ]
  },
  {
   "cell_type": "code",
   "execution_count": 5,
   "id": "5c753495-ca69-40c0-bb6e-651f427c4f51",
   "metadata": {},
   "outputs": [
    {
     "name": "stdout",
     "output_type": "stream",
     "text": [
      "10\n",
      "110\n"
     ]
    }
   ],
   "source": [
    "# 문제가 생기지 않는 코드\n",
    "x = 100\n",
    "def plusX(z):\n",
    "    global x # 권하지 않습니다.\n",
    "    x = z + x\n",
    "    return z\n",
    "\n",
    "print(plusX(10))\n",
    "print(x)"
   ]
  },
  {
   "cell_type": "code",
   "execution_count": 7,
   "id": "cf893eed-bb5f-4423-bda4-029576556315",
   "metadata": {},
   "outputs": [
    {
     "name": "stdout",
     "output_type": "stream",
     "text": [
      "110\n"
     ]
    }
   ],
   "source": [
    "x = 100\n",
    "def plusX(x):\n",
    "    return x + 10\n",
    "\n",
    "x = plusX(x)\n",
    "print(x)"
   ]
  },
  {
   "cell_type": "markdown",
   "id": "7daa9e84-5a37-471f-a996-425d70c9ca12",
   "metadata": {},
   "source": [
    "# 3.3 재귀함수\n",
    "\n",
    "대부분의 코드는 for로 대체할 수 있습니다</br>\n",
    "효율도 매우 좋지 않습니다. 다만 메모라이징 기법을 사용하면 좋긴 합니다</br>\n",
    "다이나믹 프로그래밍 등 필수적으로 사용되는 곳이 있기도 합니다</br>\n",
    "\n",
    "**재귀함수를 만들어야 하는 상황이면, for문을 사용하는것이 더 효율적**"
   ]
  },
  {
   "cell_type": "code",
   "execution_count": null,
   "id": "54a19a14-ed47-46b9-8852-02e6e13003ad",
   "metadata": {},
   "outputs": [],
   "source": [
    "# 무한 루프 발생\n",
    "# def 숫자출력():\n",
    "#     print(1)\n",
    "#     return 숫자출력()\n",
    "# 숫자출력()"
   ]
  },
  {
   "cell_type": "code",
   "execution_count": 10,
   "id": "6e7cf05d-56f6-4fa6-a3a8-6eccf09e7696",
   "metadata": {},
   "outputs": [
    {
     "name": "stdout",
     "output_type": "stream",
     "text": [
      "1\n",
      "2\n",
      "3\n",
      "4\n",
      "5\n",
      "6\n",
      "7\n",
      "8\n",
      "9\n",
      "10\n"
     ]
    }
   ],
   "source": [
    "#sys.setrecursionlimit -> 제한을 늘릴 수 있음\n",
    "def 숫자출력(count):\n",
    "    if count > 10:\n",
    "        return\n",
    "    print(count)\n",
    "    return 숫자출력(count+1) #값을 1부터 반복횟수 까지의 값을 출력\n",
    "\n",
    "숫자출력(1)"
   ]
  },
  {
   "cell_type": "markdown",
   "id": "212f1b75-86c5-4c64-86a9-05381398cb61",
   "metadata": {},
   "source": [
    "factorial 연산"
   ]
  },
  {
   "cell_type": "code",
   "execution_count": 14,
   "id": "77a2cab3-db22-4e36-aa09-af4876698e78",
   "metadata": {},
   "outputs": [
    {
     "data": {
      "text/plain": [
       "120"
      ]
     },
     "execution_count": 14,
     "metadata": {},
     "output_type": "execute_result"
    }
   ],
   "source": [
    "def factorial(n):\n",
    "    if n == 1:\n",
    "        return 1\n",
    "    else: \n",
    "        return n * factorial(n-1)\n",
    "factorial(5) # factorial(5) = 5 * factorial(4)\n",
    "\n",
    "#                 return 값\n",
    "# factorial(5) == 5 * factorial(4) == 5 * 24\n",
    "# factorial(4) == 4 * factorial(3) == 4 * 6\n",
    "# factorial(3) == 3 * factorial(2) == 3 * 2\n",
    "# factorial(2) == 2 * factorial(1) == 2 * 1\n",
    "# factorial(1) == 1"
   ]
  },
  {
   "cell_type": "code",
   "execution_count": 15,
   "id": "8546dfb9-5bea-49b3-a97b-f4cc7f77df73",
   "metadata": {},
   "outputs": [
    {
     "data": {
      "text/plain": [
       "120"
      ]
     },
     "execution_count": 15,
     "metadata": {},
     "output_type": "execute_result"
    }
   ],
   "source": [
    "# for 문으로 구현\n",
    "\n",
    "result = 1\n",
    "for i in range(1, 6):\n",
    "    result *= i\n",
    "\n",
    "result"
   ]
  },
  {
   "cell_type": "markdown",
   "id": "19a35b9f-b1c8-4839-94c7-6e2610c416f7",
   "metadata": {},
   "source": [
    "시그마 연산"
   ]
  },
  {
   "cell_type": "code",
   "execution_count": 13,
   "id": "7c4c5642-5ab9-415a-a77a-f84dc7d02259",
   "metadata": {},
   "outputs": [
    {
     "data": {
      "text/plain": [
       "5050"
      ]
     },
     "execution_count": 13,
     "metadata": {},
     "output_type": "execute_result"
    }
   ],
   "source": [
    "def 시그마(n):\n",
    "    if n == 1:\n",
    "        return 1\n",
    "    else: \n",
    "        return n + 시그마(n-1)\n",
    "시그마(100)"
   ]
  },
  {
   "cell_type": "markdown",
   "id": "5d56de0a-16a4-424b-8273-419623fe1cbf",
   "metadata": {},
   "source": [
    "문자열 반대로 출력"
   ]
  },
  {
   "cell_type": "code",
   "execution_count": 16,
   "id": "5a996c65-06b8-4c5b-b394-f31a2ce93343",
   "metadata": {},
   "outputs": [
    {
     "data": {
      "text/plain": [
       "'nujoheel'"
      ]
     },
     "execution_count": 16,
     "metadata": {},
     "output_type": "execute_result"
    }
   ],
   "source": [
    "s = 'leehojun'\n",
    "result = ''\n",
    "for i in s:\n",
    "    result = i + result\n",
    "\n",
    "result"
   ]
  },
  {
   "cell_type": "code",
   "execution_count": 17,
   "id": "20a97585-131d-4595-96af-3f7ad55166a5",
   "metadata": {},
   "outputs": [
    {
     "name": "stdout",
     "output_type": "stream",
     "text": [
      "----------\n",
      "l\n",
      "연산 전 result : \n",
      "연산 후 result : l\n",
      "----------\n",
      "e\n",
      "연산 전 result : l\n",
      "연산 후 result : el\n",
      "----------\n",
      "e\n",
      "연산 전 result : el\n",
      "연산 후 result : eel\n",
      "----------\n",
      "h\n",
      "연산 전 result : eel\n",
      "연산 후 result : heel\n",
      "----------\n",
      "o\n",
      "연산 전 result : heel\n",
      "연산 후 result : oheel\n",
      "----------\n",
      "j\n",
      "연산 전 result : oheel\n",
      "연산 후 result : joheel\n",
      "----------\n",
      "u\n",
      "연산 전 result : joheel\n",
      "연산 후 result : ujoheel\n",
      "----------\n",
      "n\n",
      "연산 전 result : ujoheel\n",
      "연산 후 result : nujoheel\n"
     ]
    },
    {
     "data": {
      "text/plain": [
       "'nujoheel'"
      ]
     },
     "execution_count": 17,
     "metadata": {},
     "output_type": "execute_result"
    }
   ],
   "source": [
    "s = 'leehojun'\n",
    "result = ''\n",
    "for i in s:\n",
    "    print('----------')\n",
    "    print(i)\n",
    "    print(f'연산 전 result : {result}')\n",
    "    result = i + result\n",
    "    print(f'연산 후 result : {result}')\n",
    "\n",
    "result"
   ]
  },
  {
   "cell_type": "code",
   "execution_count": 18,
   "id": "04bcb45e-8980-4454-bec2-9d707765b501",
   "metadata": {},
   "outputs": [
    {
     "data": {
      "text/plain": [
       "'olleh'"
      ]
     },
     "execution_count": 18,
     "metadata": {},
     "output_type": "execute_result"
    }
   ],
   "source": [
    "def string_reverse(s):\n",
    "    if len(s) == 1:\n",
    "        return s\n",
    "    return string_reverse(s[1:]) + s[0]\n",
    "\n",
    "string_reverse('hello')\n",
    "\n",
    "# string_reverse('hello') == string_reverse('ello') + 'h' == 'olle' + 'h' == 'olleh'\n",
    "# string_reverse('ello') == string_reverse('llo') + 'e' == 'oll' + 'e' == 'olle'\n",
    "# string_reverse('llo') == string_reverse('lo') + 'l' == 'ol' + 'l' == 'oll'\n",
    "# string_reverse('lo') == string_reverse('o') + 'l' == 'o' + 'l' == 'ol'\n",
    "# string_reverse('o') == 'o'"
   ]
  },
  {
   "cell_type": "markdown",
   "id": "65553d6c-1b71-4a44-a583-169667aadadf",
   "metadata": {},
   "source": [
    "# 3.4 연습문제"
   ]
  },
  {
   "cell_type": "markdown",
   "id": "5c9f4bd4-56c6-4fde-ae7a-3942c2a6ae39",
   "metadata": {},
   "source": [
    "1번 문제) 다음 코드를 실행하면 출력되는 값을 순서대로 작성해보세요"
   ]
  },
  {
   "cell_type": "code",
   "execution_count": 29,
   "id": "34e53586-84ba-4af1-a324-430be174555d",
   "metadata": {},
   "outputs": [
    {
     "name": "stdout",
     "output_type": "stream",
     "text": [
      "I\n",
      "love\n",
      "python\n"
     ]
    }
   ],
   "source": [
    "a = 'pithon'\n",
    "\n",
    "def 함수1():\n",
    "    def 함수2():\n",
    "        print('love')\n",
    "        \n",
    "    print('I')\n",
    "    함수2()\n",
    "    return \"python\"\n",
    "\n",
    "\n",
    "a = 함수1()\n",
    "print(a)"
   ]
  },
  {
   "cell_type": "markdown",
   "id": "263c3e44-7bdb-490c-a35a-f1ca7d45c0c6",
   "metadata": {},
   "source": [
    "I\n",
    "love\n",
    "python"
   ]
  },
  {
   "cell_type": "markdown",
   "id": "7d185d54-5c43-4453-8c19-175f4c364cc1",
   "metadata": {},
   "source": [
    "2번 문제) 함수를 이용하여 계산기 프로그램을 만들어주세요"
   ]
  },
  {
   "cell_type": "code",
   "execution_count": 28,
   "id": "f2afe17d-709e-4ca7-828f-2b3bdd4fb78d",
   "metadata": {},
   "outputs": [
    {
     "name": "stdout",
     "output_type": "stream",
     "text": [
      "plus :  15\n",
      "minus :  5\n",
      "multiply :  50\n",
      "divide :  2.0\n"
     ]
    }
   ],
   "source": [
    "def plus(num1, num2):\n",
    "    return int(num1) + int(num2)\n",
    "\n",
    "def minus(num1, num2):\n",
    "    return num1 - num2\n",
    "\n",
    "def multiply(num1, num2):\n",
    "    return num1 * num2\n",
    "\n",
    "def divide(num1, num2):\n",
    "    return num1 / num2\n",
    "\n",
    "print('plus : ',plus(10,5))\n",
    "print('minus : ',minus(10,5))\n",
    "print('multiply : ',multiply(10,5))\n",
    "print('divide : ',divide(10,5))"
   ]
  },
  {
   "cell_type": "code",
   "execution_count": 36,
   "id": "9a64a09c-9b12-4a1a-ba93-64af623d72a9",
   "metadata": {},
   "outputs": [
    {
     "name": "stdout",
     "output_type": "stream",
     "text": [
      "plus : 15\n",
      "plus : 15\n",
      "plus : 15\n",
      "plus : 15\n",
      "plus : 연산할 수 없습니다.\n",
      "plus : 연산할 수 없습니다.\n"
     ]
    }
   ],
   "source": [
    "def plus(num1, num2):\n",
    "    try:\n",
    "        result = int(num1) + int(num2)\n",
    "        return result\n",
    "    except:\n",
    "        return '연산할 수 없습니다.' # or float('inf')\n",
    "\n",
    "print(f'plus : {plus(10, 5)}')\n",
    "print(f'plus : {plus(\"10\", \"5\")}')\n",
    "print(f'plus : {plus(\"10\", 5)}')\n",
    "print(f'plus : {plus(10, \"5\")}')\n",
    "print(f'plus : {plus(\"abc\", 5)}')\n",
    "print(f'plus : {plus(10, \"abc\")}')"
   ]
  },
  {
   "cell_type": "code",
   "execution_count": 37,
   "id": "cd9cf8ab-b3a9-4828-ba88-28af7d868d3f",
   "metadata": {},
   "outputs": [
    {
     "name": "stdout",
     "output_type": "stream",
     "text": [
      "plus : 15\n",
      "minus : 5\n",
      "multiply : 50\n",
      "divide : 2.0\n"
     ]
    }
   ],
   "source": [
    "# lambda를 이용한 풀이\n",
    "plus = lambda x, y: x + y\n",
    "minus = lambda x, y: x - y\n",
    "multiply = lambda x, y: x * y\n",
    "divide = lambda x, y: x / y\n",
    "\n",
    "print(f'plus : {plus(10, 5)}')\n",
    "print(f'minus : {minus(10, 5)}')\n",
    "print(f'multiply : {multiply(10, 5)}')\n",
    "print(f'divide : {divide(10, 5)}')"
   ]
  },
  {
   "cell_type": "markdown",
   "id": "187dcc0e-374d-43e2-ada7-d95b036c7494",
   "metadata": {},
   "source": [
    "3번 문제\n",
    "\n",
    "x의 n제곱을 구하는 함수를 만들어주세요\n",
    "\n",
    "재귀함수를 이용하여 만들어야하며, x는 0이 아닙니다"
   ]
  },
  {
   "cell_type": "code",
   "execution_count": 40,
   "id": "f69a4fdb-f98b-4cb6-9f41-0a2cb8c15c5d",
   "metadata": {},
   "outputs": [
    {
     "data": {
      "text/plain": [
       "-243"
      ]
     },
     "execution_count": 40,
     "metadata": {},
     "output_type": "execute_result"
    }
   ],
   "source": [
    "def square_x(num, square):\n",
    "    if num == 0:\n",
    "        print('0의 n제곱은 0입니다. 1이상의 값을 입력해주세요')\n",
    "        return None\n",
    "    elif square == 1:\n",
    "        return num\n",
    "    return square_x(num, square - 1) * num\n",
    "\n",
    "square_x(-3, 5)"
   ]
  },
  {
   "cell_type": "markdown",
   "id": "63c31cee-3ef4-4188-9817-c71af2b545a1",
   "metadata": {},
   "source": [
    "factory 함수 : 객체를 반환하는 함수 (객체를 찍어내는 형태이기 때문에 붙은 이름)\n",
    "\n",
    "**클로저**"
   ]
  },
  {
   "cell_type": "code",
   "execution_count": 42,
   "id": "9ff483c1-ebc7-40e2-9634-2b2b65eb6f5a",
   "metadata": {},
   "outputs": [
    {
     "data": {
      "text/plain": [
       "8"
      ]
     },
     "execution_count": 42,
     "metadata": {},
     "output_type": "execute_result"
    }
   ],
   "source": [
    "def factory(x):\n",
    "    def exponent(n):\n",
    "        return x **n\n",
    "    return exponent\n",
    "\n",
    "exponent_2 = factory(2)\n",
    "exponent_2(3)"
   ]
  }
 ],
 "metadata": {
  "kernelspec": {
   "display_name": "Python 3 (ipykernel)",
   "language": "python",
   "name": "python3"
  },
  "language_info": {
   "codemirror_mode": {
    "name": "ipython",
    "version": 3
   },
   "file_extension": ".py",
   "mimetype": "text/x-python",
   "name": "python",
   "nbconvert_exporter": "python",
   "pygments_lexer": "ipython3",
   "version": "3.8.12"
  }
 },
 "nbformat": 4,
 "nbformat_minor": 5
}
