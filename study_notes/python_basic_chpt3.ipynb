{
 "cells": [
  {
   "cell_type": "markdown",
   "id": "d6b69239-2119-45c2-bdb6-48d24019bcd5",
   "metadata": {},
   "source": [
    "# 3.1 함수의 개념\n",
    "\n",
    "확장성을 위해서 기능을 코드로 나열하기보다 함수를 활용해야 한다!\n",
    "\n",
    "하나의 함수는 하나의 기능을 수행해야 한다\n",
    "\n",
    "파선아실 : paramater는 선언할 때, argument는 실행할 때\n",
    "\n",
    "**함수를 선언하면, 파이썬에서 선언구문까지 실행하고 내부 동작은 읽지 않는다**"
   ]
  },
  {
   "cell_type": "code",
   "execution_count": 2,
   "id": "80e816a0-1bee-404f-a5bd-6fcfbeef3b23",
   "metadata": {},
   "outputs": [
    {
     "name": "stdout",
     "output_type": "stream",
     "text": [
      "function(5,7) =  12\n"
     ]
    }
   ],
   "source": [
    "def function(x,y):\n",
    "    z = x + y\n",
    "    return z\n",
    "\n",
    "print(\"function(5,7) = \", function(5,7))"
   ]
  },
  {
   "cell_type": "markdown",
   "id": "db94f4d5-1e29-4347-b656-6dc1cd9c3a65",
   "metadata": {},
   "source": [
    "함수는 크게 아래와 같이 구분할 수 있습니다</br>\n",
    "\n",
    "1. 함수의 정의</br>\n",
    "2. 함수의 입력</br>\n",
    "3. 함수의 기능과 연산</br>\n",
    "4. 함수의 출력(return)</br>\n",
    "\n",
    "함수의 모든 요소가 필요충분조건인 것은 아닙니다</br>\n",
    "예를 들어 input이 없는 함수도 있고, return 값이 없는 함수도 있으며(자동으로 None이 할당) function이 없는 함수도 있습니다</br>\n",
    "함수를 선언하였다면 호출해야만 함수가 작동하게 됩니다</br>\n",
    "위 예제에서는 `function(5, 7)`이라는 문장으로 함수를 호출합니다</br>"
   ]
  },
  {
   "cell_type": "code",
   "execution_count": 3,
   "id": "8db35ae2-7448-4512-af2c-f85d392fdf3b",
   "metadata": {},
   "outputs": [
    {
     "name": "stdout",
     "output_type": "stream",
     "text": [
      "12\n",
      "function(5,7) =  None\n"
     ]
    }
   ],
   "source": [
    "def function(x,y): #Input\n",
    "    z = x + y      #Function\n",
    "    print(z)       #Output?\n",
    "    \n",
    "print(\"function(5,7) = \", function(5,7)) # 함수의 반환값이 없기 때문에 None이 출력된다"
   ]
  },
  {
   "cell_type": "code",
   "execution_count": 4,
   "id": "ce0c334d-22e7-44ff-9f00-87556c9a6c97",
   "metadata": {},
   "outputs": [
    {
     "name": "stdout",
     "output_type": "stream",
     "text": [
      "12\n",
      "function(5,7) =  None\n"
     ]
    }
   ],
   "source": [
    "def function(x,y):\n",
    "    z = x + y\n",
    "    print(z)\n",
    "    return None\n",
    "    \n",
    "print(\"function(5,7) = \", function(5,7))"
   ]
  },
  {
   "cell_type": "markdown",
   "id": "87b33a68-84f2-4cbf-9897-431e2fcccf27",
   "metadata": {},
   "source": [
    "특수문자로도 사용이 가능합니다. 특수문자 코딩은 권하지 않습니다. 같은 원리로 한글 코딩도 가능합니다.</br>\n",
    "한글 코딩의 장점으로는 고유명사를 표현하기 좋으며, 교육용으로도 주목받고 있습니다.</br>\n",
    "HTML, CSS, Javascript등 다양한 분야에서 한글코딩이 주목받고 있으며 자세한 내용은 NHN 김대현 수석님의 '한글코딩.org'에서 확인할 수 있습니다. </br>아래는 한글코딩 예시입니다.</br>"
   ]
  },
  {
   "cell_type": "code",
   "execution_count": 6,
   "id": "873de06d-593b-4fef-9097-0df77b6d4ef4",
   "metadata": {},
   "outputs": [
    {
     "name": "stdout",
     "output_type": "stream",
     "text": [
      "314.0\n"
     ]
    }
   ],
   "source": [
    "π = 3.14 \n",
    "def circle(r, inputpi):\n",
    "    z = r*r*inputpi\n",
    "    return z\n",
    "result = circle(10,π)\n",
    "print(result)"
   ]
  },
  {
   "cell_type": "markdown",
   "id": "0e770e08-920d-44c3-85c6-034df9a1801c",
   "metadata": {},
   "source": [
    "**함수 안에 함수 만들기**\n",
    "\n",
    "함수 안에 함수를 만드는 이유는?\n",
    "- 메모리 효울 : **함수 내 변수와 함수는 함수가 끝나면 휘발된다**\n",
    "\n",
    "**print(z)는 함수가 끝났기 때문에 x, y, z에 접근할 수 없습니다**"
   ]
  },
  {
   "cell_type": "code",
   "execution_count": 7,
   "id": "aa297ee0-b456-4c71-aed7-00eb6d79108a",
   "metadata": {},
   "outputs": [
    {
     "name": "stdout",
     "output_type": "stream",
     "text": [
      "hello1\n",
      "world1\n",
      "27\n"
     ]
    }
   ],
   "source": [
    "def f2(x, y):\n",
    "    def f1(x):\n",
    "        print('world1')\n",
    "        return x + x\n",
    "    print('hello1')\n",
    "    z = f1(10)\n",
    "    return x + y + z\n",
    "\n",
    "# a = f1(1) # 함수 안에 있는 함수는 밖에서 호출할 수 있지 않습니다.\n",
    "b = f2(3, 4)\n",
    "print(b)"
   ]
  },
  {
   "cell_type": "markdown",
   "id": "f3ebae9a-9de0-46f6-82bd-13444987ac3c",
   "metadata": {},
   "source": [
    "# 3.2 지역변수와 전역변수\n",
    "\n",
    "지역변수는 함수 내부에서만 사용되는 변수입니다</br>\n",
    "함수가 호출되는 동안에만 효력을 발휘하고 함수가 끝나는 동시에 소멸됩니다</br>\n",
    "전역변수는 프로그램 어디에서나 접근이 가능한 변수이며 함수 내에서 global를 입력하면 전역변수가 됩니다"
   ]
  },
  {
   "cell_type": "code",
   "execution_count": 1,
   "id": "74fb91fe-f2dc-4cbb-b2ee-af5ce84c8ee2",
   "metadata": {},
   "outputs": [
    {
     "name": "stdout",
     "output_type": "stream",
     "text": [
      "110\n"
     ]
    }
   ],
   "source": [
    "x = 100\n",
    "def plusX(x):\n",
    "    x = x + 100\n",
    "    return x\n",
    "\n",
    "print(plusX(10))"
   ]
  },
  {
   "cell_type": "markdown",
   "id": "f57a0e24-eca9-4d9c-b662-f81573cba61a",
   "metadata": {},
   "source": [
    "함수 안에서 함수 밖에 있는 함수를 만지지 못합니다</br>\n",
    "이를 위해 global이라는 함수를 사용하여 모든 함수에서 사용 가능하도록 만들 수 있어요</br>\n",
    "그러나 프로그래밍에서 전역변수는 권장하지 않습니다</br>\n",
    "연산을 하고 싶다면 함수에 아규먼트(함수의 input)를 대입하여 return으로 받는게 객체 지향 프로그래밍에 적합합니다"
   ]
  },
  {
   "cell_type": "code",
   "execution_count": 2,
   "id": "add1d04b-4cf5-446c-ba4c-f0df442e1b65",
   "metadata": {},
   "outputs": [
    {
     "name": "stdout",
     "output_type": "stream",
     "text": [
      "110\n"
     ]
    }
   ],
   "source": [
    "x = 100\n",
    "def plusX(z):\n",
    "    z = z + x\n",
    "    return z\n",
    "\n",
    "print(plusX(10))"
   ]
  },
  {
   "cell_type": "code",
   "execution_count": 3,
   "id": "cdd88ccb-bc91-4d53-b9f2-abcef9a551c9",
   "metadata": {},
   "outputs": [
    {
     "ename": "UnboundLocalError",
     "evalue": "local variable 'x' referenced before assignment",
     "output_type": "error",
     "traceback": [
      "\u001b[0;31m---------------------------------------------------------------------------\u001b[0m",
      "\u001b[0;31mUnboundLocalError\u001b[0m                         Traceback (most recent call last)",
      "Input \u001b[0;32mIn [3]\u001b[0m, in \u001b[0;36m<cell line: 7>\u001b[0;34m()\u001b[0m\n\u001b[1;32m      4\u001b[0m     x \u001b[38;5;241m=\u001b[39m z \u001b[38;5;241m+\u001b[39m x\n\u001b[1;32m      5\u001b[0m     \u001b[38;5;28;01mreturn\u001b[39;00m z\n\u001b[0;32m----> 7\u001b[0m \u001b[38;5;28mprint\u001b[39m(\u001b[43mplusX\u001b[49m\u001b[43m(\u001b[49m\u001b[38;5;241;43m10\u001b[39;49m\u001b[43m)\u001b[49m)\n",
      "Input \u001b[0;32mIn [3]\u001b[0m, in \u001b[0;36mplusX\u001b[0;34m(z)\u001b[0m\n\u001b[1;32m      3\u001b[0m \u001b[38;5;28;01mdef\u001b[39;00m \u001b[38;5;21mplusX\u001b[39m(z):\n\u001b[0;32m----> 4\u001b[0m     x \u001b[38;5;241m=\u001b[39m z \u001b[38;5;241m+\u001b[39m \u001b[43mx\u001b[49m\n\u001b[1;32m      5\u001b[0m     \u001b[38;5;28;01mreturn\u001b[39;00m z\n",
      "\u001b[0;31mUnboundLocalError\u001b[0m: local variable 'x' referenced before assignment"
     ]
    }
   ],
   "source": [
    "# 문제가 생기는 코드\n",
    "x = 100\n",
    "def plusX(z):\n",
    "    x = z + x\n",
    "    return z\n",
    "\n",
    "print(plusX(10))"
   ]
  },
  {
   "cell_type": "code",
   "execution_count": 5,
   "id": "5c753495-ca69-40c0-bb6e-651f427c4f51",
   "metadata": {},
   "outputs": [
    {
     "name": "stdout",
     "output_type": "stream",
     "text": [
      "10\n",
      "110\n"
     ]
    }
   ],
   "source": [
    "# 문제가 생기지 않는 코드\n",
    "x = 100\n",
    "def plusX(z):\n",
    "    global x # 권하지 않습니다.\n",
    "    x = z + x\n",
    "    return z\n",
    "\n",
    "print(plusX(10))\n",
    "print(x)"
   ]
  },
  {
   "cell_type": "code",
   "execution_count": 7,
   "id": "cf893eed-bb5f-4423-bda4-029576556315",
   "metadata": {},
   "outputs": [
    {
     "name": "stdout",
     "output_type": "stream",
     "text": [
      "110\n"
     ]
    }
   ],
   "source": [
    "x = 100\n",
    "def plusX(x):\n",
    "    return x + 10\n",
    "\n",
    "x = plusX(x)\n",
    "print(x)"
   ]
  },
  {
   "cell_type": "markdown",
   "id": "7daa9e84-5a37-471f-a996-425d70c9ca12",
   "metadata": {},
   "source": [
    "# 3.3 재귀함수\n",
    "\n",
    "대부분의 코드는 for로 대체할 수 있습니다</br>\n",
    "효율도 매우 좋지 않습니다. 다만 메모라이징 기법을 사용하면 좋긴 합니다</br>\n",
    "다이나믹 프로그래밍 등 필수적으로 사용되는 곳이 있기도 합니다</br>\n",
    "\n",
    "**재귀함수를 만들어야 하는 상황이면, for문을 사용하는것이 더 효율적**"
   ]
  },
  {
   "cell_type": "code",
   "execution_count": null,
   "id": "54a19a14-ed47-46b9-8852-02e6e13003ad",
   "metadata": {},
   "outputs": [],
   "source": [
    "# 무한 루프 발생\n",
    "# def 숫자출력():\n",
    "#     print(1)\n",
    "#     return 숫자출력()\n",
    "# 숫자출력()"
   ]
  },
  {
   "cell_type": "code",
   "execution_count": 10,
   "id": "6e7cf05d-56f6-4fa6-a3a8-6eccf09e7696",
   "metadata": {},
   "outputs": [
    {
     "name": "stdout",
     "output_type": "stream",
     "text": [
      "1\n",
      "2\n",
      "3\n",
      "4\n",
      "5\n",
      "6\n",
      "7\n",
      "8\n",
      "9\n",
      "10\n"
     ]
    }
   ],
   "source": [
    "#sys.setrecursionlimit -> 제한을 늘릴 수 있음\n",
    "def 숫자출력(count):\n",
    "    if count > 10:\n",
    "        return\n",
    "    print(count)\n",
    "    return 숫자출력(count+1) #값을 1부터 반복횟수 까지의 값을 출력\n",
    "\n",
    "숫자출력(1)"
   ]
  },
  {
   "cell_type": "markdown",
   "id": "212f1b75-86c5-4c64-86a9-05381398cb61",
   "metadata": {},
   "source": [
    "factorial 연산"
   ]
  },
  {
   "cell_type": "code",
   "execution_count": 14,
   "id": "77a2cab3-db22-4e36-aa09-af4876698e78",
   "metadata": {},
   "outputs": [
    {
     "data": {
      "text/plain": [
       "120"
      ]
     },
     "execution_count": 14,
     "metadata": {},
     "output_type": "execute_result"
    }
   ],
   "source": [
    "def factorial(n):\n",
    "    if n == 1:\n",
    "        return 1\n",
    "    else: \n",
    "        return n * factorial(n-1)\n",
    "factorial(5) # factorial(5) = 5 * factorial(4)\n",
    "\n",
    "#                 return 값\n",
    "# factorial(5) == 5 * factorial(4) == 5 * 24\n",
    "# factorial(4) == 4 * factorial(3) == 4 * 6\n",
    "# factorial(3) == 3 * factorial(2) == 3 * 2\n",
    "# factorial(2) == 2 * factorial(1) == 2 * 1\n",
    "# factorial(1) == 1"
   ]
  },
  {
   "cell_type": "code",
   "execution_count": 15,
   "id": "8546dfb9-5bea-49b3-a97b-f4cc7f77df73",
   "metadata": {},
   "outputs": [
    {
     "data": {
      "text/plain": [
       "120"
      ]
     },
     "execution_count": 15,
     "metadata": {},
     "output_type": "execute_result"
    }
   ],
   "source": [
    "# for 문으로 구현\n",
    "\n",
    "result = 1\n",
    "for i in range(1, 6):\n",
    "    result *= i\n",
    "\n",
    "result"
   ]
  },
  {
   "cell_type": "markdown",
   "id": "19a35b9f-b1c8-4839-94c7-6e2610c416f7",
   "metadata": {},
   "source": [
    "시그마 연산"
   ]
  },
  {
   "cell_type": "code",
   "execution_count": 13,
   "id": "7c4c5642-5ab9-415a-a77a-f84dc7d02259",
   "metadata": {},
   "outputs": [
    {
     "data": {
      "text/plain": [
       "5050"
      ]
     },
     "execution_count": 13,
     "metadata": {},
     "output_type": "execute_result"
    }
   ],
   "source": [
    "def 시그마(n):\n",
    "    if n == 1:\n",
    "        return 1\n",
    "    else: \n",
    "        return n + 시그마(n-1)\n",
    "시그마(100)"
   ]
  },
  {
   "cell_type": "markdown",
   "id": "5d56de0a-16a4-424b-8273-419623fe1cbf",
   "metadata": {},
   "source": [
    "문자열 반대로 출력"
   ]
  },
  {
   "cell_type": "code",
   "execution_count": 16,
   "id": "5a996c65-06b8-4c5b-b394-f31a2ce93343",
   "metadata": {},
   "outputs": [
    {
     "data": {
      "text/plain": [
       "'nujoheel'"
      ]
     },
     "execution_count": 16,
     "metadata": {},
     "output_type": "execute_result"
    }
   ],
   "source": [
    "s = 'leehojun'\n",
    "result = ''\n",
    "for i in s:\n",
    "    result = i + result\n",
    "\n",
    "result"
   ]
  },
  {
   "cell_type": "code",
   "execution_count": 17,
   "id": "20a97585-131d-4595-96af-3f7ad55166a5",
   "metadata": {},
   "outputs": [
    {
     "name": "stdout",
     "output_type": "stream",
     "text": [
      "----------\n",
      "l\n",
      "연산 전 result : \n",
      "연산 후 result : l\n",
      "----------\n",
      "e\n",
      "연산 전 result : l\n",
      "연산 후 result : el\n",
      "----------\n",
      "e\n",
      "연산 전 result : el\n",
      "연산 후 result : eel\n",
      "----------\n",
      "h\n",
      "연산 전 result : eel\n",
      "연산 후 result : heel\n",
      "----------\n",
      "o\n",
      "연산 전 result : heel\n",
      "연산 후 result : oheel\n",
      "----------\n",
      "j\n",
      "연산 전 result : oheel\n",
      "연산 후 result : joheel\n",
      "----------\n",
      "u\n",
      "연산 전 result : joheel\n",
      "연산 후 result : ujoheel\n",
      "----------\n",
      "n\n",
      "연산 전 result : ujoheel\n",
      "연산 후 result : nujoheel\n"
     ]
    },
    {
     "data": {
      "text/plain": [
       "'nujoheel'"
      ]
     },
     "execution_count": 17,
     "metadata": {},
     "output_type": "execute_result"
    }
   ],
   "source": [
    "s = 'leehojun'\n",
    "result = ''\n",
    "for i in s:\n",
    "    print('----------')\n",
    "    print(i)\n",
    "    print(f'연산 전 result : {result}')\n",
    "    result = i + result\n",
    "    print(f'연산 후 result : {result}')\n",
    "\n",
    "result"
   ]
  },
  {
   "cell_type": "code",
   "execution_count": 18,
   "id": "04bcb45e-8980-4454-bec2-9d707765b501",
   "metadata": {},
   "outputs": [
    {
     "data": {
      "text/plain": [
       "'olleh'"
      ]
     },
     "execution_count": 18,
     "metadata": {},
     "output_type": "execute_result"
    }
   ],
   "source": [
    "def string_reverse(s):\n",
    "    if len(s) == 1:\n",
    "        return s\n",
    "    return string_reverse(s[1:]) + s[0]\n",
    "\n",
    "string_reverse('hello')\n",
    "\n",
    "# string_reverse('hello') == string_reverse('ello') + 'h' == 'olle' + 'h' == 'olleh'\n",
    "# string_reverse('ello') == string_reverse('llo') + 'e' == 'oll' + 'e' == 'olle'\n",
    "# string_reverse('llo') == string_reverse('lo') + 'l' == 'ol' + 'l' == 'oll'\n",
    "# string_reverse('lo') == string_reverse('o') + 'l' == 'o' + 'l' == 'ol'\n",
    "# string_reverse('o') == 'o'"
   ]
  },
  {
   "cell_type": "markdown",
   "id": "65553d6c-1b71-4a44-a583-169667aadadf",
   "metadata": {
    "tags": []
   },
   "source": [
    "# 3.4 연습문제"
   ]
  },
  {
   "cell_type": "markdown",
   "id": "5c9f4bd4-56c6-4fde-ae7a-3942c2a6ae39",
   "metadata": {},
   "source": [
    "1번 문제) 다음 코드를 실행하면 출력되는 값을 순서대로 작성해보세요"
   ]
  },
  {
   "cell_type": "code",
   "execution_count": 29,
   "id": "34e53586-84ba-4af1-a324-430be174555d",
   "metadata": {},
   "outputs": [
    {
     "name": "stdout",
     "output_type": "stream",
     "text": [
      "I\n",
      "love\n",
      "python\n"
     ]
    }
   ],
   "source": [
    "a = 'pithon'\n",
    "\n",
    "def 함수1():\n",
    "    def 함수2():\n",
    "        print('love')\n",
    "        \n",
    "    print('I')\n",
    "    함수2()\n",
    "    return \"python\"\n",
    "\n",
    "\n",
    "a = 함수1()\n",
    "print(a)"
   ]
  },
  {
   "cell_type": "markdown",
   "id": "263c3e44-7bdb-490c-a35a-f1ca7d45c0c6",
   "metadata": {},
   "source": [
    "I\n",
    "love\n",
    "python"
   ]
  },
  {
   "cell_type": "markdown",
   "id": "7d185d54-5c43-4453-8c19-175f4c364cc1",
   "metadata": {},
   "source": [
    "2번 문제) 함수를 이용하여 계산기 프로그램을 만들어주세요"
   ]
  },
  {
   "cell_type": "code",
   "execution_count": 28,
   "id": "f2afe17d-709e-4ca7-828f-2b3bdd4fb78d",
   "metadata": {},
   "outputs": [
    {
     "name": "stdout",
     "output_type": "stream",
     "text": [
      "plus :  15\n",
      "minus :  5\n",
      "multiply :  50\n",
      "divide :  2.0\n"
     ]
    }
   ],
   "source": [
    "def plus(num1, num2):\n",
    "    return int(num1) + int(num2)\n",
    "\n",
    "def minus(num1, num2):\n",
    "    return num1 - num2\n",
    "\n",
    "def multiply(num1, num2):\n",
    "    return num1 * num2\n",
    "\n",
    "def divide(num1, num2):\n",
    "    return num1 / num2\n",
    "\n",
    "print('plus : ',plus(10,5))\n",
    "print('minus : ',minus(10,5))\n",
    "print('multiply : ',multiply(10,5))\n",
    "print('divide : ',divide(10,5))"
   ]
  },
  {
   "cell_type": "code",
   "execution_count": 36,
   "id": "9a64a09c-9b12-4a1a-ba93-64af623d72a9",
   "metadata": {},
   "outputs": [
    {
     "name": "stdout",
     "output_type": "stream",
     "text": [
      "plus : 15\n",
      "plus : 15\n",
      "plus : 15\n",
      "plus : 15\n",
      "plus : 연산할 수 없습니다.\n",
      "plus : 연산할 수 없습니다.\n"
     ]
    }
   ],
   "source": [
    "def plus(num1, num2):\n",
    "    try:\n",
    "        result = int(num1) + int(num2)\n",
    "        return result\n",
    "    except:\n",
    "        return '연산할 수 없습니다.' # or float('inf')\n",
    "\n",
    "print(f'plus : {plus(10, 5)}')\n",
    "print(f'plus : {plus(\"10\", \"5\")}')\n",
    "print(f'plus : {plus(\"10\", 5)}')\n",
    "print(f'plus : {plus(10, \"5\")}')\n",
    "print(f'plus : {plus(\"abc\", 5)}')\n",
    "print(f'plus : {plus(10, \"abc\")}')"
   ]
  },
  {
   "cell_type": "code",
   "execution_count": 37,
   "id": "cd9cf8ab-b3a9-4828-ba88-28af7d868d3f",
   "metadata": {},
   "outputs": [
    {
     "name": "stdout",
     "output_type": "stream",
     "text": [
      "plus : 15\n",
      "minus : 5\n",
      "multiply : 50\n",
      "divide : 2.0\n"
     ]
    }
   ],
   "source": [
    "# lambda를 이용한 풀이\n",
    "plus = lambda x, y: x + y\n",
    "minus = lambda x, y: x - y\n",
    "multiply = lambda x, y: x * y\n",
    "divide = lambda x, y: x / y\n",
    "\n",
    "print(f'plus : {plus(10, 5)}')\n",
    "print(f'minus : {minus(10, 5)}')\n",
    "print(f'multiply : {multiply(10, 5)}')\n",
    "print(f'divide : {divide(10, 5)}')"
   ]
  },
  {
   "cell_type": "markdown",
   "id": "187dcc0e-374d-43e2-ada7-d95b036c7494",
   "metadata": {},
   "source": [
    "3번 문제\n",
    "\n",
    "x의 n제곱을 구하는 함수를 만들어주세요\n",
    "\n",
    "재귀함수를 이용하여 만들어야하며, x는 0이 아닙니다"
   ]
  },
  {
   "cell_type": "code",
   "execution_count": 40,
   "id": "f69a4fdb-f98b-4cb6-9f41-0a2cb8c15c5d",
   "metadata": {},
   "outputs": [
    {
     "data": {
      "text/plain": [
       "-243"
      ]
     },
     "execution_count": 40,
     "metadata": {},
     "output_type": "execute_result"
    }
   ],
   "source": [
    "def square_x(num, square):\n",
    "    if num == 0:\n",
    "        print('0의 n제곱은 0입니다. 1이상의 값을 입력해주세요')\n",
    "        return None\n",
    "    elif square == 1:\n",
    "        return num\n",
    "    return square_x(num, square - 1) * num\n",
    "\n",
    "square_x(-3, 5)"
   ]
  },
  {
   "cell_type": "markdown",
   "id": "63c31cee-3ef4-4188-9817-c71af2b545a1",
   "metadata": {},
   "source": [
    "factory 함수 : 객체를 반환하는 함수 (객체를 찍어내는 형태이기 때문에 붙은 이름)\n",
    "\n",
    "**클로저**"
   ]
  },
  {
   "cell_type": "code",
   "execution_count": 42,
   "id": "9ff483c1-ebc7-40e2-9634-2b2b65eb6f5a",
   "metadata": {},
   "outputs": [
    {
     "data": {
      "text/plain": [
       "8"
      ]
     },
     "execution_count": 42,
     "metadata": {},
     "output_type": "execute_result"
    }
   ],
   "source": [
    "def factory(x):\n",
    "    def exponent(n):\n",
    "        return x **n\n",
    "    return exponent\n",
    "\n",
    "exponent_2 = factory(2)\n",
    "exponent_2(3)"
   ]
  },
  {
   "cell_type": "markdown",
   "id": "a7dcebba-d2db-4563-81e1-dc2bbed074bb",
   "metadata": {
    "tags": []
   },
   "source": [
    "# 함수의 매개변수: args, kwargs\n",
    "\n",
    "가변 아규먼트, 가변 키워드 아규먼트라고 한다 (가변 인자, 가변 인수로 부르는 곳도 있다)</br>\n",
    "\\*는 한 번 패킹하거나 언패킹할 때, **는 두 번 패킹하거나 언패킹 할 때 사용한다"
   ]
  },
  {
   "cell_type": "markdown",
   "id": "8024bab1-b021-40b5-affb-13688f572791",
   "metadata": {},
   "source": [
    "## 키워드 인자\n",
    "\n",
    "- 매개변수에 이름으로 일치시키는 인자\n",
    "- 함수를 호출할 때 인자의 값과 이름을 명시적으로 지정해서 전달\n",
    "- 인자의 순서와 용도를 기억하지 않아도 된다 -> **키워드를 알아야 호출이 가능하다**"
   ]
  },
  {
   "cell_type": "code",
   "execution_count": null,
   "id": "b590f0ab-1184-415c-87f6-7bf079bcde5f",
   "metadata": {},
   "outputs": [],
   "source": [
    "def personal_info(name, age, address):\n",
    "    print('이름: ', name)\n",
    "    print('나이: ', age)\n",
    "    print('주소: ', address)\n",
    "\n",
    "personal_info(name='홍길동', \n",
    "              age=30, \n",
    "              address='경기도 시흥시')"
   ]
  },
  {
   "cell_type": "markdown",
   "id": "d5be7fdb-fba5-457c-be69-a4204fc82ed8",
   "metadata": {
    "tags": []
   },
   "source": [
    "## \\*args\n",
    "\n",
    "```python\n",
    "def func(x, y, *args):\n",
    "    print(f\"첫번째값은 {x}\")\n",
    "    print(f\"두번째값은 {y}\")\n",
    "    if args:\n",
    "        print(f\"세번째 이후의 값은 {args}\")\n",
    "\n",
    "func(1, 2, 3, 4, 5, 6)\n",
    "\n",
    "# 첫번째값은 1\n",
    "# 두번째값은 2\n",
    "# 세번째 이후의 값은 (3, 4, 5, 6)\n",
    "```\n",
    "\n",
    "위치 인수 첫 번째 인수 x와 두번째 인수 y는 필수, 세번째 이후는 선택으로 정할 수 있다</br>\n",
    "임의로 개수가 변하는 인수를 **가변 길이 인수**라 부르고 \\*를 붙여서 사용한다</br>\n",
    "가변인수(args, arguments)는 내가 원하는 여러 인자들을 가변인수로 받을 수 있다</br>\n",
    "가변인수에 입력된 값들은 **tuple**형태로 저장되고, 가변인수의 변수명은 args를 가장 많이 사용한다\n",
    "\n",
    "https://engineer-mole.tistory.com/279"
   ]
  },
  {
   "cell_type": "code",
   "execution_count": 55,
   "id": "00de910a-c190-4168-8341-4fd4f1a52a2e",
   "metadata": {},
   "outputs": [
    {
     "name": "stdout",
     "output_type": "stream",
     "text": [
      "(100, True, 'leehojun')\n",
      "100\n",
      "True\n",
      "leehojun\n"
     ]
    }
   ],
   "source": [
    "def print_args(*args):\n",
    "    print(args)\n",
    "    for x in args:\n",
    "        print(x)\n",
    "\n",
    "print_args(100, True, 'leehojun')"
   ]
  },
  {
   "cell_type": "code",
   "execution_count": 107,
   "id": "f45fb0cb-9af7-4d3d-a109-f0bf70c4d307",
   "metadata": {},
   "outputs": [
    {
     "name": "stdout",
     "output_type": "stream",
     "text": [
      "(['test', 'hello', 'python'],)\n",
      "1\n"
     ]
    }
   ],
   "source": [
    "# 연습문제 1.\n",
    "\n",
    "def counter(*args):\n",
    "    print(args)\n",
    "    count = len(args)\n",
    "    return count\n",
    "\n",
    "print(counter([\"test\",\"hello\",\"python\"]))"
   ]
  },
  {
   "cell_type": "code",
   "execution_count": 110,
   "id": "1b231a90-45f0-4e47-b8d9-800153037043",
   "metadata": {},
   "outputs": [
    {
     "name": "stdout",
     "output_type": "stream",
     "text": [
      "['test', 'hello', 'python']\n",
      "3\n"
     ]
    }
   ],
   "source": [
    "def counter(args):\n",
    "    print(args)\n",
    "    count = len([\"test\",\"hello\",\"python\"])\n",
    "    return count\n",
    "\n",
    "print(counter([\"test\",\"hello\",\"python\"]))"
   ]
  },
  {
   "cell_type": "markdown",
   "id": "ad38b4de-c876-4172-80d2-a12b5ae7f676",
   "metadata": {},
   "source": [
    "## \\*\\*kwargs\n",
    "\n",
    "\\*\\*kwargs는 딕셔너리로 가변인수를 받는다</br>\n",
    "\\*args와 마찬가지로 고정인수와 가변인수 함께 쓸 수 있다</br>\n",
    "\n",
    "args는 튜플 형식으로 파라미터를 받는 반면, kwargs는 **딕셔너리** 형태로 파라미터를 받는다"
   ]
  },
  {
   "cell_type": "code",
   "execution_count": 14,
   "id": "97e8d16e-401e-4bb2-b594-464295e06d6b",
   "metadata": {},
   "outputs": [
    {
     "name": "stdout",
     "output_type": "stream",
     "text": [
      "100\n",
      "{'name': 'leehojun', 'age': '10'}\n",
      "name\n",
      "age\n"
     ]
    }
   ],
   "source": [
    "def print_kwargs(a, **kwargs):\n",
    "    print(a)\n",
    "    print(kwargs)\n",
    "    for i in kwargs:\n",
    "        print(i)\n",
    "\n",
    "print_kwargs(100, name='leehojun', age='10')"
   ]
  },
  {
   "cell_type": "markdown",
   "id": "493a0a70-832e-4b86-b9c1-add64c53a16c",
   "metadata": {},
   "source": [
    "\\*를 1개만 사용하면 key만 반환한다</br>\n",
    "key와 value 모두를 반환하기 위해 2개를 사용한다"
   ]
  },
  {
   "cell_type": "code",
   "execution_count": 68,
   "id": "bb273a38-8c77-43de-9326-8c56ddfc7248",
   "metadata": {},
   "outputs": [
    {
     "name": "stdout",
     "output_type": "stream",
     "text": [
      "('one', 'two')\n",
      "one\n",
      "two\n"
     ]
    }
   ],
   "source": [
    "def print_kwargs(*kwargs):\n",
    "    print(kwargs)\n",
    "    for i in kwargs:\n",
    "        print(i)\n",
    "\n",
    "value = {'one':10, 'two':20}\n",
    "print_kwargs(*value)"
   ]
  },
  {
   "cell_type": "code",
   "execution_count": 69,
   "id": "4758912e-5955-4f05-80f3-b8c50605f875",
   "metadata": {},
   "outputs": [
    {
     "name": "stdout",
     "output_type": "stream",
     "text": [
      "{'one': 10, 'two': 20}\n",
      "one\n",
      "two\n"
     ]
    }
   ],
   "source": [
    "value = {'one':10, 'two':20}\n",
    "print_kwargs(**value) # **value는 value 딕셔너리를 unpack하여 함수 인자로 전달\n",
    "\n",
    "# print(**value) error 발생\n",
    "# **value의 출력이 one=10, two=20 형태이기 때문"
   ]
  },
  {
   "cell_type": "code",
   "execution_count": 87,
   "id": "51af76e8-7812-4cde-8edb-e7eb352c3fad",
   "metadata": {},
   "outputs": [
    {
     "name": "stdout",
     "output_type": "stream",
     "text": [
      "{'param3': 9, 'param1': 5, 'param2': 8}\n",
      "param3\n",
      "param1\n",
      "param2\n"
     ]
    }
   ],
   "source": [
    "dct = {'param1':5, 'param2':8} \n",
    "print_kwargs(param3 = 9, **dct)"
   ]
  },
  {
   "cell_type": "markdown",
   "id": "20809971-0b69-4169-9ffa-cebd29dc6296",
   "metadata": {},
   "source": [
    "## args, kwargs를 사용하는 이유\n",
    "\n",
    "***어떤 입력이든 에러없이 받기 위해*** -> 함수에 인자로 받을 입력의 수가 가변적일 떄"
   ]
  },
  {
   "cell_type": "code",
   "execution_count": 61,
   "id": "96a52acd-a5f9-4d67-b562-5ac7178c5f54",
   "metadata": {},
   "outputs": [],
   "source": [
    "# arg 예제 1.\n",
    "\n",
    "# 함수는 두 수의 합을 구하는데, 여러 수의 합을 수하고 싶을 때 에러 발생!\n",
    "def add(x, y):\n",
    "    return x + y\n",
    "\n",
    "def add_arg(*x):\n",
    "    return sum(x)"
   ]
  },
  {
   "cell_type": "code",
   "execution_count": 62,
   "id": "556d2bb5-d659-4fd7-bd7e-0842b278c327",
   "metadata": {},
   "outputs": [
    {
     "data": {
      "text/plain": [
       "7"
      ]
     },
     "execution_count": 62,
     "metadata": {},
     "output_type": "execute_result"
    }
   ],
   "source": [
    "add(3, 4)"
   ]
  },
  {
   "cell_type": "code",
   "execution_count": 63,
   "id": "4984cd8b-727b-4e1f-a768-e7995c65bc97",
   "metadata": {},
   "outputs": [
    {
     "ename": "TypeError",
     "evalue": "add() takes 2 positional arguments but 3 were given",
     "output_type": "error",
     "traceback": [
      "\u001b[0;31m---------------------------------------------------------------------------\u001b[0m",
      "\u001b[0;31mTypeError\u001b[0m                                 Traceback (most recent call last)",
      "Input \u001b[0;32mIn [63]\u001b[0m, in \u001b[0;36m<cell line: 1>\u001b[0;34m()\u001b[0m\n\u001b[0;32m----> 1\u001b[0m \u001b[43madd\u001b[49m\u001b[43m(\u001b[49m\u001b[38;5;241;43m3\u001b[39;49m\u001b[43m,\u001b[49m\u001b[43m \u001b[49m\u001b[38;5;241;43m4\u001b[39;49m\u001b[43m,\u001b[49m\u001b[43m \u001b[49m\u001b[38;5;241;43m5\u001b[39;49m\u001b[43m)\u001b[49m\n",
      "\u001b[0;31mTypeError\u001b[0m: add() takes 2 positional arguments but 3 were given"
     ]
    }
   ],
   "source": [
    "add(3, 4, 5)"
   ]
  },
  {
   "cell_type": "code",
   "execution_count": 64,
   "id": "d9f79947-d243-4e8b-b15b-5c69e969bcae",
   "metadata": {},
   "outputs": [
    {
     "data": {
      "text/plain": [
       "12"
      ]
     },
     "execution_count": 64,
     "metadata": {},
     "output_type": "execute_result"
    }
   ],
   "source": [
    "add_arg(3, 4, 5)"
   ]
  },
  {
   "cell_type": "code",
   "execution_count": 65,
   "id": "d88fffb3-e8f6-4643-8931-c6c7bec9e04e",
   "metadata": {},
   "outputs": [
    {
     "data": {
      "text/plain": [
       "55"
      ]
     },
     "execution_count": 65,
     "metadata": {},
     "output_type": "execute_result"
    }
   ],
   "source": [
    "add_arg(1, 2, 3, 4, 5, 6, 7, 8, 9, 10)"
   ]
  },
  {
   "cell_type": "code",
   "execution_count": 51,
   "id": "76860791-acac-43a7-9b6f-5a4d90224e14",
   "metadata": {},
   "outputs": [],
   "source": [
    "def add_args2(*arg, x = '0'):\n",
    "    return sum(arg) + int(x)"
   ]
  },
  {
   "cell_type": "code",
   "execution_count": 29,
   "id": "0377b5ba-5350-4c51-a19f-cb7e0138383b",
   "metadata": {},
   "outputs": [
    {
     "data": {
      "text/plain": [
       "6"
      ]
     },
     "execution_count": 48,
     "metadata": {},
     "output_type": "execute_result"
    }
   ],
   "source": [
    "add_args2(1, 2, x = 3)"
   ]
  },
  {
   "cell_type": "code",
   "execution_count": null,
   "id": "c1dbe2e0-30e6-42b2-ad3d-568aebaa3296",
   "metadata": {},
   "outputs": [
    {
     "data": {
      "text/plain": [
       "6"
      ]
     },
     "execution_count": 50,
     "metadata": {},
     "output_type": "execute_result"
    }
   ],
   "source": [
    "add_args2(1, 2, x = '3')"
   ]
  },
  {
   "cell_type": "code",
   "execution_count": 93,
   "id": "56a0f652-96be-4559-9af8-100992177999",
   "metadata": {},
   "outputs": [
    {
     "data": {
      "text/plain": [
       "30000.0"
      ]
     },
     "execution_count": 93,
     "metadata": {},
     "output_type": "execute_result"
    }
   ],
   "source": [
    "def 가격계산(할인율, *구매가_목록):\n",
    "    \"\"\"구매가 목록을 합산하고, 할인율을 반영해서 가격을 계산한다.\"\"\"\n",
    "    return (1- 할인율) * sum(구매가_목록)\n",
    "\n",
    "가격계산(0.25, 10000, 2000, 3000, 20000, 5000)"
   ]
  },
  {
   "cell_type": "code",
   "execution_count": 78,
   "id": "20cbab2b-320e-459a-9705-01942af69b80",
   "metadata": {},
   "outputs": [],
   "source": [
    "# 예제 2. **의 사용방법: 머신러닝 알고리즘에서 많은 parameter를 다루는 방법\n",
    "# parmeter별로 리스트에 여러 값을 지정하면, 순환하면서 parameter조합에 따른 결과를 도출할 수 있다\n",
    "# add_args2에서 지정하고 싶은 변수가 늘어나게 되면, 결국 함수를 수정해야하는 상황이 발생한다\n",
    "\n",
    "def param(**kwargs):\n",
    "    print(kwargs)"
   ]
  },
  {
   "cell_type": "code",
   "execution_count": 79,
   "id": "de160a64-5eca-4a20-9bf4-09decd717a46",
   "metadata": {},
   "outputs": [
    {
     "name": "stdout",
     "output_type": "stream",
     "text": [
      "{'max_depth': 6.0}\n"
     ]
    }
   ],
   "source": [
    "param(max_depth = 6.0)"
   ]
  },
  {
   "cell_type": "code",
   "execution_count": 80,
   "id": "75df9b3d-ce01-4b74-b020-6a02dcd86bd2",
   "metadata": {},
   "outputs": [
    {
     "name": "stdout",
     "output_type": "stream",
     "text": [
      "{'max_depth': 6.0, 'gamma': 3}\n"
     ]
    }
   ],
   "source": [
    "param(max_depth = 6.0, gamma = 3)"
   ]
  },
  {
   "cell_type": "code",
   "execution_count": 81,
   "id": "e5d85451-0809-4a36-a70d-4a4960d6643f",
   "metadata": {},
   "outputs": [],
   "source": [
    "# 예제 3. args, kwargs를 함께 사용하는 방법\n",
    "# 어떻게든 오류가 나지 않고, 값을 받아오겠다\n",
    "\n",
    "def args_and_kwargs(*args, **kwargs):\n",
    "    print(args)\n",
    "    print(kwargs)"
   ]
  },
  {
   "cell_type": "markdown",
   "id": "22dff7d1-0c6a-4f32-aa09-50026963258a",
   "metadata": {},
   "source": [
    "## 시퀀스 자료형의 패킹과 언패킹\n",
    "\n",
    "패킹 : 여러 개의 데이터를 컬렉션(리스트, 튜플, 딕셔너리)으로 묶어 변수에 대입</br>\n",
    "언패킹 : 언패킹은 컬렉션(리스트, 튜플, 딕셔너리) 속의 요소들을 여러 개의 변수에 나눠 대입\n",
    "\n",
    "- 언패킹 시 변수의 갯수와 요소의 갯수가 일치해야 한다\n",
    "- 불필요한 값을 언더바(_)를 사용하여 생략할 수 있다 (ex. a, _, _, d, e = numbers)\n",
    "\n",
    "```python\n",
    "numbers = (1, 2, 3, 4, 5)  # 패킹\n",
    "\n",
    "a, b, c, d, e = numbers  # 언패킹\n",
    "```"
   ]
  },
  {
   "cell_type": "code",
   "execution_count": 88,
   "id": "ad991cfc-f237-404b-8bd2-51f4119bf6e8",
   "metadata": {},
   "outputs": [
    {
     "name": "stdout",
     "output_type": "stream",
     "text": [
      "1 2 3 4 5 6\n"
     ]
    }
   ],
   "source": [
    "# 예제 4. 변수 앞에 별표를 붙이는건 언패킹 \n",
    "\n",
    "def c_test(a, args):\n",
    "    print(a, *args)\n",
    "\n",
    "c_test(1,(2,3,4,5,6))"
   ]
  },
  {
   "cell_type": "code",
   "execution_count": 90,
   "id": "38531fc2-8690-40ba-8a96-82ac2e14d892",
   "metadata": {},
   "outputs": [
    {
     "name": "stdout",
     "output_type": "stream",
     "text": [
      "[1, 2] [3, 4] [5, 6]\n"
     ]
    }
   ],
   "source": [
    "# 변수의 언패킹\n",
    "\n",
    "a, b, c =([1,2,],[3,4],[5,6])\n",
    "print(a, b, c)"
   ]
  },
  {
   "cell_type": "code",
   "execution_count": 73,
   "id": "26d8b5de-5880-4fd7-a89d-67eeb86adf59",
   "metadata": {},
   "outputs": [
    {
     "name": "stdout",
     "output_type": "stream",
     "text": [
      "1 2 3\n"
     ]
    }
   ],
   "source": [
    "# 언패킹해서 출력하거나 함수의 인자로 대입할때는 다음과 같이\n",
    "a = (1, 2, 3)\n",
    "print(*a)"
   ]
  },
  {
   "cell_type": "code",
   "execution_count": 75,
   "id": "4b933cec-2b3b-4622-b782-24eccbaa1d39",
   "metadata": {},
   "outputs": [
    {
     "name": "stdout",
     "output_type": "stream",
     "text": [
      "1 2 3\n"
     ]
    }
   ],
   "source": [
    "# 언패킹해서 변수에 각 값을 대입할떄는 다음과 같이\n",
    "b, c, d = a\n",
    "print(b, c, d)"
   ]
  },
  {
   "cell_type": "markdown",
   "id": "2354d539-b83b-46cd-9321-8c3b9f41b691",
   "metadata": {},
   "source": [
    "## \\*args, \\*\\*kwargs에서 시퀀스 변수의 언패킹 활용\n",
    "\n",
    "```python\n",
    "def func(x, y, z):\n",
    "    print(x, y ,z)\n",
    "    return x + y + z\n",
    "\n",
    "param = [1,2,3] # 리스트가 풀리게 된다.\n",
    "w = func(*param)\n",
    "print(w)\n",
    "\n",
    "# 1 2 3\n",
    "# 6\n",
    "```"
   ]
  },
  {
   "cell_type": "markdown",
   "id": "21bac79b-c50d-4a4d-82fa-81a7aeef0941",
   "metadata": {},
   "source": [
    "키워드 가변인자(\\*\\*kwargs)를 언패킹하면 value값 반환\n",
    "\n",
    "```python\n",
    "def func(x,y,z):\n",
    "    print(x,y,z)\n",
    "    return x + y + z\n",
    "\n",
    "params = {\"x\" : 1, \"y\" : 2, \"z\" : 3}\n",
    "w = func(**params)\n",
    "print(w)\n",
    "\n",
    "# 1 2 3\n",
    "# 6\n",
    "```"
   ]
  },
  {
   "cell_type": "code",
   "execution_count": 97,
   "id": "d43b3e04-97b5-4105-b7f7-ce243d30b6e8",
   "metadata": {},
   "outputs": [
    {
     "name": "stdout",
     "output_type": "stream",
     "text": [
      "1 2 3 1 2 3\n",
      "12\n"
     ]
    }
   ],
   "source": [
    "# 함수 호출시 인자가 더 많은 경우\n",
    "\n",
    "def func(x, y, z, a1, b1, c1):\n",
    "    print(x, y, z, a1, b1, c1)\n",
    "    return x + y + z + a1 + b1 + c1\n",
    "\n",
    "param1 = [1,2,3]\n",
    "param2 = {\"a1\" : 1, \"b1\" : 2, \"c1\" : 3}\n",
    "w = func(*param1, **param2)\n",
    "print(w)"
   ]
  },
  {
   "cell_type": "code",
   "execution_count": 109,
   "id": "b9e121ce-1108-4d6d-8179-b6e6d7a4cff2",
   "metadata": {},
   "outputs": [
    {
     "data": {
      "text/plain": [
       "'2023년5월8일'"
      ]
     },
     "execution_count": 109,
     "metadata": {},
     "output_type": "execute_result"
    }
   ],
   "source": [
    "# 날짜변수 다루기 예제\n",
    "\n",
    "def data_to_string(y,m,d):\n",
    "    \"\"\"연도, 월, 일을 입력받아서 yyyy년, m월 d일로 반환한다.\"\"\"\n",
    "    return str(y) + \"년\" + str(m) + \"월\" + str(d) + \"일\"\n",
    "\n",
    "# 기본 함수값 불러오기\n",
    "\n",
    "date = (2023,5,8)\n",
    "data_to_string(*date) # data_to_string(date[0], date[1], date[2])"
   ]
  },
  {
   "cell_type": "code",
   "execution_count": 121,
   "id": "9fdb076e-7281-4573-aefe-cbdd25732cc2",
   "metadata": {},
   "outputs": [
    {
     "data": {
      "text/plain": [
       "'1917년9월4일'"
      ]
     },
     "execution_count": 121,
     "metadata": {},
     "output_type": "execute_result"
    }
   ],
   "source": [
    "date = {'y' : 1917, 'm' :9, 'd' : 4}\n",
    "\n",
    "data_to_string(**date) # data_to_string(date['y'], date['m'], date['d'])"
   ]
  },
  {
   "cell_type": "markdown",
   "id": "e60d6a5d-2d16-4fd3-a33f-9e588c1a8987",
   "metadata": {
    "tags": []
   },
   "source": [
    "## 기타 \\*의 활용 방법\n",
    "\n",
    "변수에 할당하려는 데이터가 변수의 개수보다 많으면 할당이 불가능 하다</br>\n",
    "언패킹 시, 좌변의 변수 중 하나에 \\*를 붙이면, 남은 요소 전체를 리스트에 담아 대입한다"
   ]
  },
  {
   "cell_type": "code",
   "execution_count": 87,
   "id": "0d5511ef-0f49-43b4-a74b-990bcc937438",
   "metadata": {},
   "outputs": [
    {
     "name": "stdout",
     "output_type": "stream",
     "text": [
      "1 2 [3, 4, 5]\n"
     ]
    }
   ],
   "source": [
    "one, two, *three = 1,2,3,4,5\n",
    "print(one, two, three)"
   ]
  },
  {
   "cell_type": "code",
   "execution_count": 85,
   "id": "e0182323-56e4-45ce-81be-8020a54fbf62",
   "metadata": {},
   "outputs": [
    {
     "name": "stdout",
     "output_type": "stream",
     "text": [
      "1 2 [3, 4, 5]\n",
      "1 5 [2, 3, 4]\n"
     ]
    }
   ],
   "source": [
    "# 남은 요소 대입받기\n",
    "# 언패킹 시, 좌변의 변수 중 하나에 별 기호(*)를 붙이면, 남은 요소 전체를 리스트에 담아 대입한다\n",
    "\n",
    "numbers = (1, 2, 3, 4, 5)\n",
    "\n",
    "a, b, *rest = numbers     # 1, 2를 제외한 나머지를 rest에 대입\n",
    "print(a, b, rest)         # 1 2 [3, 4, 5]\n",
    "\n",
    "a, *rest, e = numbers     # 1, 5를 제외한 나머지를 rest에 대입\n",
    "print(a, e, rest)         # 1 5 [2, 3, 4]"
   ]
  },
  {
   "cell_type": "markdown",
   "id": "2c8e9434-4ff3-45df-add6-3a36d2d18770",
   "metadata": {
    "tags": []
   },
   "source": [
    "# 연습문제 (args, kwargs)"
   ]
  },
  {
   "cell_type": "markdown",
   "id": "86c88f1c-87db-4406-b6b8-d8e215f2572f",
   "metadata": {},
   "source": [
    "문제 1. 다음 코드를 실행했을 때, 출력과 데이터 타입은?\n",
    "\n",
    "```python\n",
    "args_and_kwargs(41)\n",
    "```"
   ]
  },
  {
   "cell_type": "code",
   "execution_count": 83,
   "id": "64c5a2c7-2020-41ce-bd6e-1a511a79366b",
   "metadata": {},
   "outputs": [
    {
     "name": "stdout",
     "output_type": "stream",
     "text": [
      "(41,)\n",
      "{}\n"
     ]
    }
   ],
   "source": [
    "args_and_kwargs(41)"
   ]
  },
  {
   "cell_type": "code",
   "execution_count": 84,
   "id": "200216da-004e-4361-94f8-fdc81a762a2a",
   "metadata": {},
   "outputs": [
    {
     "name": "stdout",
     "output_type": "stream",
     "text": [
      "()\n",
      "{'x': 3, 'y': 4}\n"
     ]
    }
   ],
   "source": [
    "args_and_kwargs(x = 3, y = 4)"
   ]
  },
  {
   "cell_type": "code",
   "execution_count": 85,
   "id": "c738c1fe-191f-49b1-8ec8-0b50b6497bab",
   "metadata": {},
   "outputs": [
    {
     "ename": "SyntaxError",
     "evalue": "positional argument follows keyword argument (1402559173.py, line 3)",
     "output_type": "error",
     "traceback": [
      "\u001b[0;36m  Input \u001b[0;32mIn [85]\u001b[0;36m\u001b[0m\n\u001b[0;31m    args_and_kwargs(x = 3, y = 4, 1, 2, 3, 4)\u001b[0m\n\u001b[0m                                  ^\u001b[0m\n\u001b[0;31mSyntaxError\u001b[0m\u001b[0;31m:\u001b[0m positional argument follows keyword argument\n"
     ]
    }
   ],
   "source": [
    "# 단, args와 kwargs의 순서는 지켜서 입력해야 한다\n",
    "\n",
    "args_and_kwargs(x = 3, y = 4, 1, 2, 3, 4)"
   ]
  },
  {
   "cell_type": "code",
   "execution_count": 86,
   "id": "dc705bd9-5fc7-4659-8e4e-37b3f0b17baa",
   "metadata": {},
   "outputs": [
    {
     "name": "stdout",
     "output_type": "stream",
     "text": [
      "(1, 2, 3, 4)\n",
      "{'x': 3, 'y': 4}\n"
     ]
    }
   ],
   "source": [
    "args_and_kwargs(1, 2, 3, 4, x = 3, y = 4)"
   ]
  },
  {
   "cell_type": "markdown",
   "id": "da408c80-2021-4742-a49c-4e8c0c260297",
   "metadata": {},
   "source": [
    "문제 2. 아래 함수를 두개 이상의 숫자에 대한 합을 구하는 함수로 바꾸세요\n",
    "\n",
    "```python\n",
    "def addition(a, b):\n",
    "    return a + b\n",
    "print(addition(3, 4))\n",
    "```"
   ]
  },
  {
   "cell_type": "code",
   "execution_count": 88,
   "id": "8ae29992-35a7-47b4-9fde-04f3c5b82998",
   "metadata": {},
   "outputs": [
    {
     "data": {
      "text/plain": [
       "12"
      ]
     },
     "execution_count": 88,
     "metadata": {},
     "output_type": "execute_result"
    }
   ],
   "source": [
    "def addition(*args):\n",
    "    return sum(args)\n",
    "\n",
    "addition(3, 4, 5)"
   ]
  },
  {
   "cell_type": "markdown",
   "id": "3876cc88-6070-4c45-9dc2-571bb8a450eb",
   "metadata": {},
   "source": [
    "문제 3. 다음 코드를 실행했을때의 빈칸과 값을 구하시오\n",
    "\n",
    "```python\n",
    "def arg_printer(a, b, ##빈칸##):\n",
    "    print(f'a is {a}')\n",
    "    print(f'b is {b}')\n",
    "    print(f'args are {args}')\n",
    "arg_printer(3, 4, 5, 8, 3)\n",
    "```\n",
    "\n",
    "1. *args / a is 3 / b is 4 / args are 5,8,3\n",
    "2. **kwargs / a is 3 / b is 4 / args are 5,8,3\n",
    "3. *args / a is 3 / b is 4 / args are (5,8,3) \n",
    "4. **kwargs / a is 3 / b is 4 / args are (5,8,3)\n",
    "5. *args / a is () / b is () / args are 3,4,5,8,3"
   ]
  },
  {
   "cell_type": "code",
   "execution_count": 89,
   "id": "a3feb62f-e36d-4615-8990-82fdd8c456c2",
   "metadata": {},
   "outputs": [
    {
     "name": "stdout",
     "output_type": "stream",
     "text": [
      "a is 3\n",
      "b is 4\n",
      "args are (5, 8, 3)\n"
     ]
    }
   ],
   "source": [
    "# 3번\n",
    "\n",
    "def arg_printer(a, b, *args):\n",
    "    print(f'a is {a}')\n",
    "    print(f'b is {b}')\n",
    "    print(f'args are {args}')\n",
    "arg_printer(3, 4, 5, 8, 3)"
   ]
  },
  {
   "cell_type": "markdown",
   "id": "06c049a9-2b4f-4c37-a23b-48f11fdce5b4",
   "metadata": {},
   "source": [
    "문제 4. option이 True일때와 False일때의 값을 구하시오\n",
    "\n",
    "```python\n",
    "def addition(a, b, *args, option = True):\n",
    "    result = 0\n",
    "    if option:\n",
    "        for i in args:\n",
    "            result += i\n",
    "            return a + b + result\n",
    "    else:\n",
    "        return result\n",
    "\n",
    "print(addition(1, 4, 5, 6, 7))\n",
    "```\n",
    "\n",
    "1. True - 18 / False - 5\n",
    "2. True - 18 / False - 0\n",
    "3. True - 23 / False - 5 \n",
    "4. True - 23 / False - 0\n",
    "5. True - 23 / False - 18"
   ]
  },
  {
   "cell_type": "code",
   "execution_count": 92,
   "id": "37fcc651-64ce-4222-b5e7-47aabfa99da0",
   "metadata": {},
   "outputs": [
    {
     "name": "stdout",
     "output_type": "stream",
     "text": [
      "23\n",
      "0\n"
     ]
    }
   ],
   "source": [
    "# 4번\n",
    "\n",
    "def addition(a, b, *args, option=True):\n",
    "    result = 0\n",
    "    if option:\n",
    "        for i in args:\n",
    "            result += i\n",
    "        return a + b + result\n",
    "    else:\n",
    "        return result\n",
    "\n",
    "print(addition(1, 4, 5, 6, 7))\n",
    "print(addition(1, 4, 5, 6, 7, option = False))"
   ]
  },
  {
   "cell_type": "markdown",
   "id": "54656f04-6371-4bf3-886b-7fe613cabee5",
   "metadata": {},
   "source": [
    "문제 5. 다음 코드를 실행했을때의 결과는?\n",
    "\n",
    "```python\n",
    "def arg_printer(a, b, option = True, **kwargs): \n",
    "    print(a, b) \n",
    "    print(option) \n",
    "    print(kwargs)\n",
    "arg_printer(3, 4, param1 = 5, param2 = 6)\n",
    "```\n",
    "\n",
    "1. 3 4</br>\n",
    "   5</br>\n",
    "   6\n",
    "\n",
    "2. 3 4</br>\n",
    "   5 6\n",
    "\n",
    "3. 3 4</br>\n",
    "   True</br>\n",
    "   {'param1' : 5, 'param2' : 6}\n",
    "\n",
    "4. 3 4</br>\n",
    "   True</br>\n",
    "   {'param1' : 5}</br>\n",
    "   {'param2' : 6}\n",
    "\n",
    "5. 3 4 True</br>\n",
    "   {'param1' : 5}</br>\n",
    "   {'param2' : 6}"
   ]
  },
  {
   "cell_type": "code",
   "execution_count": 93,
   "id": "f2ca188d-93e5-43a7-a09b-f4029a787d3e",
   "metadata": {},
   "outputs": [
    {
     "name": "stdout",
     "output_type": "stream",
     "text": [
      "3 4\n",
      "True\n",
      "{'param1': 5, 'param2': 6}\n"
     ]
    }
   ],
   "source": [
    "# 3번\n",
    "\n",
    "def arg_printer(a, b, option = True, **kwargs): \n",
    "    print(a, b) \n",
    "    print(option) \n",
    "    print(kwargs)\n",
    "arg_printer(3, 4, param1 = 5, param2 = 6)"
   ]
  },
  {
   "cell_type": "markdown",
   "id": "8f0555f4-f452-4c2d-932e-02f8ba1d911e",
   "metadata": {},
   "source": [
    "문제 6. 다음 코드를 실행했을때의 결과는?\n",
    "\n",
    "```python\n",
    "def arg_printer(a, b, *args, option = True, **kwargs): \n",
    "    print(a, b) \n",
    "    print(args) \n",
    "    print(option) \n",
    "    print(kwargs)\n",
    "arg_printer(1, 4, 6, 5, param1 = 5, param2 = 6) \n",
    "```\n",
    "\n",
    "1. 1 4</br>\n",
    "   (6,)</br>\n",
    "   (5,)</br>\n",
    "   True</br>\n",
    "   {'param1' : 5}</br>\n",
    "   {'param2' : 6}\n",
    "   \n",
    "2. [1, 4]</br>\n",
    "   (6, 5)</br>\n",
    "   True</br>\n",
    "   {'param1': 5, 'param2': 6}\n",
    "   \n",
    "3. 1, 4</br>\n",
    "   (6, 5)</br>\n",
    "   True</br>\n",
    "   {'param1': 5, 'param2': 6}\n",
    "   \n",
    "4. (1, 4)</br>\n",
    "   (6, 5)</br>\n",
    "   True</br>\n",
    "   {'param1': 5, 'param2': 6} \n",
    "\n",
    "5. (1, 4)</br>\n",
    "   (6, 5)</br>\n",
    "   True</br>\n",
    "   {'param1': 5}</br>\n",
    "   {'param2': 6}"
   ]
  },
  {
   "cell_type": "code",
   "execution_count": 94,
   "id": "681f63da-58ca-4c62-8145-139e404c698a",
   "metadata": {},
   "outputs": [
    {
     "name": "stdout",
     "output_type": "stream",
     "text": [
      "1 4\n",
      "(6, 5)\n",
      "True\n",
      "{'param1': 5, 'param2': 6}\n"
     ]
    }
   ],
   "source": [
    "# 3번\n",
    "\n",
    "def arg_printer(a, b, *args, option = True, **kwargs): \n",
    "    print(a, b) \n",
    "    print(args) \n",
    "    print(option) \n",
    "    print(kwargs)\n",
    "arg_printer(1, 4, 6, 5, param1 = 5, param2 = 6) "
   ]
  },
  {
   "cell_type": "markdown",
   "id": "bb57c4e5-bbdf-46b7-b96d-20848f702507",
   "metadata": {},
   "source": [
    "문제 6. 다음 코드를 실행하면 에러가 발생한다. 코드가 실행되도록 수정하세요\n",
    "\n",
    "```python\n",
    "def func_param_with_var_args(name, *args, age):\n",
    "    print(\"name = \",end = \"\"), print(name)\n",
    "    print(\"args = \",end = \"\"), print(args)\n",
    "    print(\"age = \",end = \"\"), print(age)\n",
    "\n",
    "func_param_with_var_args(\"정우성\", \"01012341234\", \"seoul\", 20)\n",
    "```"
   ]
  },
  {
   "cell_type": "code",
   "execution_count": 98,
   "id": "5764a215-982c-4cb1-a708-5afe4dd4611c",
   "metadata": {},
   "outputs": [
    {
     "name": "stdout",
     "output_type": "stream",
     "text": [
      "name = 정우성\n",
      "args = ('01012341234', 'seoul', 20)\n",
      "age = 20\n"
     ]
    }
   ],
   "source": [
    "# *args가 \"01012341234\"부터 20까지 받아오는데, 파라미터 age는 default가 설정되어있지 않기 때문에 에러가 발생한다\n",
    "# case 1\n",
    "\n",
    "def func_param_with_var_args(name, *args, age = 20):\n",
    "    print(\"name = \",end=\"\"), print(name)\n",
    "    print(\"args = \",end=\"\"), print(args)\n",
    "    print(\"age = \",end=\"\"), print(age)\n",
    "\n",
    "func_param_with_var_args(\"정우성\", \"01012341234\", \"seoul\", 20)"
   ]
  },
  {
   "cell_type": "code",
   "execution_count": 99,
   "id": "bbdc032d-c298-41f7-a5fa-ede40e561534",
   "metadata": {},
   "outputs": [
    {
     "name": "stdout",
     "output_type": "stream",
     "text": [
      "name = 정우성\n",
      "args = ('01012341234', 'seoul')\n",
      "age = 20\n"
     ]
    }
   ],
   "source": [
    "# case 2\n",
    "\n",
    "def func_param_with_var_args(name, *args, age):\n",
    "    print(\"name = \",end=\"\"), print(name)\n",
    "    print(\"args = \",end=\"\"), print(args)\n",
    "    print(\"age = \",end=\"\"), print(age)\n",
    "\n",
    "func_param_with_var_args(\"정우성\", \"01012341234\", \"seoul\", age = 20)"
   ]
  },
  {
   "cell_type": "code",
   "execution_count": 100,
   "id": "0dbe1c62-039b-4279-8ede-1caabf34316c",
   "metadata": {},
   "outputs": [
    {
     "name": "stdout",
     "output_type": "stream",
     "text": [
      "name = 정우성\n",
      "args = ('seoul', 20)\n",
      "age = 01012341234\n"
     ]
    }
   ],
   "source": [
    "# case 3\n",
    "\n",
    "def func_param_with_var_args(name, age, *args):\n",
    "    print(\"name = \",end=\"\"), print(name)\n",
    "    print(\"args = \",end=\"\"), print(args)\n",
    "    print(\"age = \",end=\"\"), print(age)\n",
    "\n",
    "func_param_with_var_args(\"정우성\", \"01012341234\", \"seoul\", 20)\n",
    "\n",
    "# 세 case의 출력값이 다르기 때문에 원하는 형태로 값이 출력되도록 에러를 수정해야 한다"
   ]
  },
  {
   "cell_type": "markdown",
   "id": "25f9b7f5-c2d3-46f6-aac2-1cff7bf4b9ce",
   "metadata": {},
   "source": [
    "문제 7. 다음 코드를 실행하면 에러가 발생한다. 코드가 실행되도록 수정하세요\n",
    "\n",
    "```python\n",
    "def mixed_params(name = \"아이유\", *args, age, **kwargs, address):\n",
    "    print(\"name = \",end = \"\"), print(name)\n",
    "    print(\"args = \",end = \"\"), print(args)\n",
    "    print(\"age = \",end = \"\"), print(age)\n",
    "    print(\"kwargs = \",end = \"\"), print(kwargs)\n",
    "    print(\"address = \",end = \"\"), print(address)\n",
    "\n",
    "mixed_params(20, \"정우성\", \"01012341234\", \"male\", mobile = \"01012341234\", address = \"seoul\")\n",
    "```"
   ]
  },
  {
   "cell_type": "code",
   "execution_count": 109,
   "id": "a2b3f5c9-e4c3-4da6-bbf2-20da0a649324",
   "metadata": {
    "scrolled": true
   },
   "outputs": [
    {
     "name": "stdout",
     "output_type": "stream",
     "text": [
      "name = 정우성\n",
      "args = ('01012341234', 'male')\n",
      "age = 20\n",
      "kwargs = {'mobile': '01012341234'}\n",
      "address = seoul\n"
     ]
    }
   ],
   "source": [
    "def mixed_params(age, name = \"아이유\", *args, address, **kwargs):\n",
    "    print(\"name = \",end = \"\"), print(name)\n",
    "    print(\"args = \",end = \"\"), print(args)\n",
    "    print(\"age = \",end = \"\"), print(age)\n",
    "    print(\"kwargs = \",end = \"\"), print(kwargs)\n",
    "    print(\"address = \",end = \"\"), print(address)\n",
    "\n",
    "mixed_params(20, \"정우성\", \"01012341234\", \"male\", mobile = \"01012341234\", address = \"seoul\")"
   ]
  },
  {
   "cell_type": "markdown",
   "id": "9fa7c99e-7478-4fbe-818f-c86f48397a90",
   "metadata": {},
   "source": [
    "# lambda: 익명함수\n",
    "\n",
    "- 간결한 코드 작성\n",
    "- 함수를 정의하지 않고, 동작을 정의하기 때문에 메모리를 절약할 수 있다\n",
    "```python\n",
    "lambda 매개변수 : 결과\n",
    "```"
   ]
  },
  {
   "cell_type": "code",
   "execution_count": 139,
   "id": "28a1a11d-c4c5-4c8f-9c4c-6a43cb4ac066",
   "metadata": {},
   "outputs": [
    {
     "name": "stdout",
     "output_type": "stream",
     "text": [
      "30\n"
     ]
    }
   ],
   "source": [
    "def add(x,y):\n",
    "    return x + y\n",
    "def sub():\n",
    "    pass\n",
    "def div():\n",
    "    pass\n",
    "def mul():\n",
    "    pass\n",
    "\n",
    "calculator = [add, sub, div, mul]\n",
    "print(calculator[0](10,20))"
   ]
  },
  {
   "cell_type": "markdown",
   "id": "ad2d51fa-5a5c-4234-a7dc-4cc7dbc8d80e",
   "metadata": {},
   "source": [
    "add, sub, div, mul이라는 사칙연산 함수를 선언했다</br>\n",
    "함수들을 calculator 배열에 넣고, 배열의 0번째 원소인 add 함수를 호출해 (10, 20) 인자를 전달했다\n",
    "\n",
    "변수의 위치에 ( )(괄호)를 사용하지 않고 변수처럼 사용할 수 있고, </br>변수에 함수의 인자를 전달해서 호출할 수 있다"
   ]
  },
  {
   "cell_type": "code",
   "execution_count": 140,
   "id": "a1783ce2-5715-418a-ad32-13e86348098b",
   "metadata": {},
   "outputs": [
    {
     "data": {
      "text/plain": [
       "9"
      ]
     },
     "execution_count": 140,
     "metadata": {},
     "output_type": "execute_result"
    }
   ],
   "source": [
    "multiple_ = lambda x : x **2\n",
    "multiple_(3)"
   ]
  },
  {
   "cell_type": "code",
   "execution_count": 141,
   "id": "d8ef0e29-c120-4918-8aa6-045de0bddc84",
   "metadata": {},
   "outputs": [
    {
     "data": {
      "text/plain": [
       "9"
      ]
     },
     "execution_count": 141,
     "metadata": {},
     "output_type": "execute_result"
    }
   ],
   "source": [
    "# 함수(인자) 형태\n",
    "(lambda x : x ** 2)(3)"
   ]
  },
  {
   "cell_type": "code",
   "execution_count": 143,
   "id": "4649eed1-32d1-48d6-91dd-c0dfbbbb06ed",
   "metadata": {},
   "outputs": [
    {
     "name": "stdout",
     "output_type": "stream",
     "text": [
      "5\n"
     ]
    }
   ],
   "source": [
    "def f(x, y):\n",
    "    return x + y\n",
    "\n",
    "print(f(1, 4))"
   ]
  },
  {
   "cell_type": "code",
   "execution_count": 144,
   "id": "6b58fb40-a0bc-48f2-b140-cbc8f88a2c1c",
   "metadata": {},
   "outputs": [
    {
     "name": "stdout",
     "output_type": "stream",
     "text": [
      "5\n"
     ]
    }
   ],
   "source": [
    "f = lambda x, y : x + y\n",
    "print(f(1, 4))"
   ]
  },
  {
   "cell_type": "markdown",
   "id": "8310f19e-d53d-44c5-a184-284d0b7b50ea",
   "metadata": {},
   "source": [
    "### map\n",
    "\n",
    "https://wikidocs.net/22803\n",
    "\n",
    "lambda 함수와 가장 많이 조합되어 이용하는 함수\n",
    "\n",
    "위에서 만들었던 매개변수를 제곱하여 return하는 함수를 여러값에 적용한다\n",
    "\n",
    "```python\n",
    "map(함수, 시퀀스 데이터)\n",
    "```\n",
    "\n",
    "**함수에 리스트의 요소를 매핑**"
   ]
  },
  {
   "cell_type": "code",
   "execution_count": 148,
   "id": "72a62fb4-cf66-4603-a478-57ed514e6687",
   "metadata": {},
   "outputs": [
    {
     "data": {
      "text/plain": [
       "[1, 4, 9, 16]"
      ]
     },
     "execution_count": 148,
     "metadata": {},
     "output_type": "execute_result"
    }
   ],
   "source": [
    "# 1번째 방법 map\n",
    "def multiple_(x):\n",
    "    return x ** 2\n",
    "\n",
    "list(map(multiple_, [1,2,3,4]))"
   ]
  },
  {
   "cell_type": "code",
   "execution_count": 149,
   "id": "d1ea9ada-58c3-43de-8cd7-cd2c17db53ae",
   "metadata": {},
   "outputs": [
    {
     "data": {
      "text/plain": [
       "[1, 4, 9, 16]"
      ]
     },
     "execution_count": 149,
     "metadata": {},
     "output_type": "execute_result"
    }
   ],
   "source": [
    "# 2번째 방법\n",
    "list(map(lambda x : x ** 2, [1,2,3,4]))"
   ]
  },
  {
   "cell_type": "code",
   "execution_count": null,
   "id": "2f666b80-835f-4ce9-852f-bd7029c1489a",
   "metadata": {},
   "outputs": [],
   "source": [
    "# 3번째 방법\n",
    "ex = [1,2,3,4,5]\n",
    "f = lambda x : x ** 2\n",
    "\n",
    "print(list(map(f, ex)))"
   ]
  },
  {
   "cell_type": "markdown",
   "id": "a1df1e82-0f28-4603-a0d3-ddbd69f34171",
   "metadata": {},
   "source": [
    "## reduce\n",
    "\n",
    "reduce 함수는 시퀀스의 원소를 순차적으로 결합하여 단일 값으로 줄여주는 역할\n",
    "\n",
    "- functools 모듈의 reduce 함수 import\n",
    "- 시퀀스의 원소들에 대해 반복적인 연산 수행\n",
    "    - 시퀀스를 순차적으로 처리하면서 이전 결과와 현재 원소를 인자로 받은 함수를 적용"
   ]
  },
  {
   "cell_type": "markdown",
   "id": "d750230c-7012-4160-9714-3756b2803627",
   "metadata": {},
   "source": [
    "**map vs reduce**</br>\n",
    "\n",
    "map: 시퀀스의 각 원소에 대해 함수의 동작 결과를 새로운 시퀀스를 반환\n",
    "reduce: 시퀀스의 원소\u001d",
    " 순차적으로 함수를 적용하여, 시퀀스 데이터를 결합하여 단일 값 반환"
   ]
  },
  {
   "cell_type": "code",
   "execution_count": 173,
   "id": "ce35f7bc-6208-48fc-aae1-33769102d49a",
   "metadata": {},
   "outputs": [
    {
     "name": "stdout",
     "output_type": "stream",
     "text": [
      "15\n"
     ]
    }
   ],
   "source": [
    "# 리스트 원소의 합\n",
    "\n",
    "from functools import reduce\n",
    "\n",
    "print(reduce(lambda x, y: x + y, [1, 2, 3, 4, 5]))\n",
    "\n",
    "# 1번째 계산\n",
    "# x = 1 y = 2 결과 3\n",
    "\n",
    "# 2번째 계산\n",
    "# x = 3 y = 3 결과 6\n",
    "\n",
    "# 3번째 계산\n",
    "# x = 6 y = 4 결과 10\n",
    "\n",
    "# 4번째 계산\n",
    "# x = 10 y = 5 결과 15\n",
    "\n",
    "# ----------------------\n",
    "# x = 0\n",
    "# for y in [1,2,3,4,5]:\n",
    "#     x += y\n",
    "\n",
    "# print(x)"
   ]
  },
  {
   "cell_type": "markdown",
   "id": "4204f435-992f-4139-abc9-75ca7003f856",
   "metadata": {},
   "source": [
    "# 연습 문제 (lambda)"
   ]
  },
  {
   "cell_type": "markdown",
   "id": "fcf98f47-4fe1-44ca-ba27-050199e8f223",
   "metadata": {},
   "source": [
    "문제 1.\n",
    "\n",
    "```python\n",
    "숫자 = [1, 2, 3, 4, 5]\n",
    "승수 = [2, 2, 2, 3, 3]\n",
    "```\n",
    "\n",
    "1. 숫자의 승수를 zip으로 맵핑해서 진행하세요\n",
    "2. 숫자를 승수만큼 승수하여 결과값을 표현해주세요\n",
    "3. 승수한 값이 100이상인 값을 출력하세요\n",
    "4. 승수한 값을 모두 더하세요"
   ]
  },
  {
   "cell_type": "code",
   "execution_count": 152,
   "id": "1c7e16ef-fe78-4e79-a1b3-04b896c095dd",
   "metadata": {},
   "outputs": [],
   "source": [
    "숫자 = [1, 2, 3, 4, 5]\n",
    "승수 = [2, 2, 2, 3, 3]"
   ]
  },
  {
   "cell_type": "code",
   "execution_count": 180,
   "id": "9adf74c6-f8ae-4f29-ac30-b4b4877156c0",
   "metadata": {},
   "outputs": [
    {
     "name": "stdout",
     "output_type": "stream",
     "text": [
      "{1: 2, 2: 2, 3: 2, 4: 3, 5: 3}\n",
      "[1, 4, 9, 64, 125]\n",
      "[125]\n",
      "203\n"
     ]
    }
   ],
   "source": [
    "# 1.\n",
    "test_dict = dict(zip(숫자, 승수))\n",
    "print(test_dict)\n",
    "\n",
    "# 2.\n",
    "multiple_result = list(map(lambda x: x ** test_dict[x], test_dict))\n",
    "print(multiple_result)\n",
    "\n",
    "# 3.\n",
    "result = list(filter(lambda x: x > 100, multiple_result))\n",
    "print(result)\n",
    "\n",
    "# 4.\n",
    "print(sum(multiple_result))"
   ]
  },
  {
   "cell_type": "markdown",
   "id": "22b776f3-afce-4ee2-8f76-f22164530366",
   "metadata": {},
   "source": [
    "문제 2.\n",
    "\n",
    "철수가 은행에 취업을 해서 처음 업무지시를 받은건 새로운 적금상품에 추가로 돈을 입금할 경우 자동으로 원금과 이자가 더해지도록 로직을 구현해야하는 상황\n",
    "\n",
    "1.함수를 사용하여서 기능 구현</br>\n",
    "2.모두 구현이 된 후 '입금이 완료되었습니다' 메세지 출력</br>\n",
    "3.적금 금리는 3.0%, 이자는 원금 * 금리</br>"
   ]
  },
  {
   "cell_type": "code",
   "execution_count": 181,
   "id": "549d1839-9ec7-4008-840f-01f1bc009102",
   "metadata": {},
   "outputs": [
    {
     "name": "stdout",
     "output_type": "stream",
     "text": [
      "5150\n"
     ]
    }
   ],
   "source": [
    "# x - 현재 금액\n",
    "# y - 새로 불입한 금액\n",
    "# z - 이자\n",
    "\n",
    "def service_sum_amount(x, y, z):\n",
    "    if y > 0:\n",
    "        return int(x + y + (y * z/100))\n",
    "    else:\n",
    "        return x * z/100\n",
    "    print('입금이 완료되었습니다')\n",
    "    \n",
    "print(service_sum_amount(0, 5000, 3.0))"
   ]
  }
 ],
 "metadata": {
  "kernelspec": {
   "display_name": "Python 3 (ipykernel)",
   "language": "python",
   "name": "python3"
  },
  "language_info": {
   "codemirror_mode": {
    "name": "ipython",
    "version": 3
   },
   "file_extension": ".py",
   "mimetype": "text/x-python",
   "name": "python",
   "nbconvert_exporter": "python",
   "pygments_lexer": "ipython3",
   "version": "3.11.0"
  }
 },
 "nbformat": 4,
 "nbformat_minor": 5
}
