{
 "cells": [
  {
   "cell_type": "markdown",
   "id": "41d3da74-8a38-4502-b728-2826ad4b50f7",
   "metadata": {},
   "source": [
    "# python 기초"
   ]
  },
  {
   "cell_type": "markdown",
   "id": "00f0e4a9-4250-4e53-83c0-159cfec55745",
   "metadata": {},
   "source": [
    "## 주석과 변수"
   ]
  },
  {
   "cell_type": "code",
   "execution_count": 1,
   "id": "e000e50e-4ab9-4df3-ab0f-abe6e781517d",
   "metadata": {},
   "outputs": [
    {
     "data": {
      "text/plain": [
       "2"
      ]
     },
     "execution_count": 1,
     "metadata": {},
     "output_type": "execute_result"
    }
   ],
   "source": [
    "# 행 단위 주석입니다. Ctrl + /\n",
    "\n",
    "'''\n",
    "열 단위 주석입니다. \n",
    "1 + 1\n",
    "'''\n",
    "\n",
    "1 + 1"
   ]
  },
  {
   "cell_type": "markdown",
   "id": "aa4824a6-8dc7-4300-bc4d-2abf5f256e09",
   "metadata": {},
   "source": [
    "**주석 작성 예시**\n",
    "* 가장 좋은 코드는 주석을 읽지 않고도 쉽게 읽을 수 있는 코드\n",
    "* 변수명은 최대한 상세하게 사용"
   ]
  },
  {
   "cell_type": "code",
   "execution_count": null,
   "id": "9d8d1b51-2efd-4d66-b281-40e453ca55cd",
   "metadata": {},
   "outputs": [],
   "source": [
    "def solution(hello):\n",
    "    '''Connects to the next available port.\n",
    "\n",
    "    Args:\n",
    "      minimum: A port value greater or equal to 1024.\n",
    "\n",
    "    Returns:\n",
    "      The new minimum port.\n",
    "\n",
    "    Raises:\n",
    "      ConnectionError: If no available port is found.\n",
    "    '''\n",
    "    return hello\n",
    "\n",
    "solution('x')"
   ]
  },
  {
   "cell_type": "markdown",
   "id": "ae4c50b5-2618-4640-8252-a6db9d726b04",
   "metadata": {},
   "source": [
    "**CS에서 변수란?**\n",
    "* 포스트잇! (메모리 공간을 가리키는)\n",
    "```\n",
    "    a = 10 이란, a가 10의 주소를 가리키는 형태\n",
    "    \n",
    "    a = 10\n",
    "    b = a\n",
    "    a = 20\n",
    "    \n",
    "    에서 왜 b는 10일까?\n",
    "    \n",
    "    b = a에서 a가 갖고 있는 10의 주소값을 받아오기 떄문에\n",
    "    a = 20에서 a가 20의 주소값을 가리키게 되어도\n",
    "    b는 10의 주소를 가리키기 때문\n",
    "\n",
    "    변수가 실제 가리키는 값의 주소를 보려면 id(\"var\")\n",
    "```"
   ]
  },
  {
   "cell_type": "code",
   "execution_count": 2,
   "id": "c9bf3c11-6c08-4af0-9243-3c22d56c4bb8",
   "metadata": {},
   "outputs": [
    {
     "name": "stdout",
     "output_type": "stream",
     "text": [
      "10\n"
     ]
    }
   ],
   "source": [
    "a = 10\n",
    "b = a\n",
    "a = 20\n",
    "\n",
    "print(b)"
   ]
  },
  {
   "cell_type": "markdown",
   "id": "19149216-78e8-4050-9743-7a740111b767",
   "metadata": {},
   "source": [
    "a is b 는 각 변수가 가리키는 주소를 비교해서 같으면 True를 출력한다\n",
    "\n",
    "a = 10 </br>\n",
    "b = 10 이라면\n",
    "\n",
    "id(a)와 id(b)는 같을까?\n",
    "\n",
    "```\n",
    "변수는 각 값을 다르게 저장한다\n",
    "python은 자체적으로 속도를 높이기 위해 여러 노력을 해왔다 -> 0-256은 먼저 메모리에 적재를 해둔다\n",
    "따라서 0-256까지는 a is b = True이지만, 그 이후는 False이다\n",
    "```"
   ]
  },
  {
   "cell_type": "code",
   "execution_count": 3,
   "id": "d992cbc5-b9de-4dc5-b3c9-7933ce44730b",
   "metadata": {},
   "outputs": [
    {
     "data": {
      "text/plain": [
       "True"
      ]
     },
     "execution_count": 3,
     "metadata": {},
     "output_type": "execute_result"
    }
   ],
   "source": [
    "a = 10\n",
    "b = 10\n",
    "\n",
    "a is b"
   ]
  },
  {
   "cell_type": "code",
   "execution_count": 4,
   "id": "09d66f17-3c72-45b2-b2c1-a8da5d4abb66",
   "metadata": {},
   "outputs": [
    {
     "data": {
      "text/plain": [
       "False"
      ]
     },
     "execution_count": 4,
     "metadata": {},
     "output_type": "execute_result"
    }
   ],
   "source": [
    "a = 257\n",
    "b = 257\n",
    "\n",
    "a is b"
   ]
  },
  {
   "cell_type": "markdown",
   "id": "21948d8e-ea9d-425d-b7e6-baea2ce02ab8",
   "metadata": {},
   "source": [
    "## 변수의 타입\n",
    "\n",
    "**변수의 타입은 왜 있을까?**\n",
    "* 효육적인 측면\n",
    "```\n",
    "'a' + 'a' 에서 'a'는 ASCII code, 즉 숫자인데 왜 이어붙일까?\n",
    "우리가 통념적으로 생각하는 문자역의 연산을 Python에 구현한 것\n",
    "매직 매서드(__init__과 같은)를 통해서 이런 '약속'들을 구현한다\n",
    "```\n",
    "* 관리적인 측면"
   ]
  },
  {
   "cell_type": "code",
   "execution_count": 5,
   "id": "4aa12dd9-a31f-4ae4-b0fa-e19efd36b724",
   "metadata": {},
   "outputs": [
    {
     "name": "stdout",
     "output_type": "stream",
     "text": [
      "type(10) :  <class 'int'>\n",
      "type(10.1) :  <class 'float'>\n",
      "type(-1) :  <class 'int'>\n",
      "type(True) :  <class 'bool'>\n",
      "type('good') :  <class 'str'>\n",
      "'10' + '10' :  1010\n",
      "'10' * 3 101010\n",
      "'hong' + 'gildong' kimhonggildong\n",
      "type('gildong') :  <class 'str'>\n",
      "type('gildong100!!') :  <class 'str'>\n",
      "type(10 + 2j) :  <class 'complex'>\n",
      "type(0b110) :  <class 'int'>\n",
      "6\n",
      "type(0o56) :  <class 'str'>\n",
      "example\n",
      "type(0xAC) :  <class 'int'>\n",
      "172\n"
     ]
    }
   ],
   "source": [
    "a = 10     #int, 정수형\n",
    "b = 10.1   #float, 실수\n",
    "c = -1\n",
    "d = True   #bool, 논리형(부울형, 참거짓형)\n",
    "e = 'good'\n",
    "f = '10'   #str, 문자열\n",
    "g = 'kim'\n",
    "h = 'honggildong'\n",
    "i = 'example'\n",
    "j = 10 + 2j #complex, 복소수\n",
    "k = 0b110   #int, 2진법 \n",
    "l = 0o56    #int, 8진법\n",
    "m = 0xAC    #int, 16진법\n",
    "\n",
    "print('type(10) : ', type(a))\n",
    "print('type(10.1) : ', type(b))\n",
    "print('type(-1) : ', type(c))\n",
    "print('type(True) : ', type(d))\n",
    "print('type(\\'good\\') : ', type(e))\n",
    "print('\\'10\\' + \\'10\\' : ', f + f)\n",
    "print('\\'10\\' * 3', f * 3)\n",
    "print('\\'hong\\' + \\'gildong\\'', g + h)\n",
    "print('type(\\'gildong\\') : ', type(h))\n",
    "print('type(\\'gildong100!!\\') : ', type(i))\n",
    "print('type(10 + 2j) : ', type(j))\n",
    "print('type(0b110) : ', type(k))\n",
    "print(k)\n",
    "print('type(0o56) : ', type(i))\n",
    "print(i)\n",
    "print('type(0xAC) : ', type(m))\n",
    "print(m)"
   ]
  },
  {
   "cell_type": "markdown",
   "id": "77982b16-8dbc-4da6-bebe-60ca14bbea86",
   "metadata": {},
   "source": [
    "## 정수형 (int)\n",
    "* 정수를 표현하는 방법\n",
    "  * 정수\n",
    "  * N진법"
   ]
  },
  {
   "cell_type": "code",
   "execution_count": 6,
   "id": "16abef53-71fa-4df9-8376-02f4a41aa8f4",
   "metadata": {},
   "outputs": [
    {
     "data": {
      "text/plain": [
       "int"
      ]
     },
     "execution_count": 6,
     "metadata": {},
     "output_type": "execute_result"
    }
   ],
   "source": [
    "a = 10\n",
    "\n",
    "type(a)"
   ]
  },
  {
   "cell_type": "markdown",
   "id": "58495f9f-2512-4078-8f38-28271c71cba6",
   "metadata": {},
   "source": [
    "dir() : 변수가 갖고 있는 모든 속성 출력 </br>\n",
    "__로 이뤄진 빌트인 function(매직 매서드)"
   ]
  },
  {
   "cell_type": "code",
   "execution_count": 7,
   "id": "9dc09a28-1b73-4c19-be71-ff16f1d010db",
   "metadata": {
    "collapsed": true,
    "jupyter": {
     "outputs_hidden": true
    },
    "tags": []
   },
   "outputs": [
    {
     "data": {
      "text/plain": [
       "['__abs__',\n",
       " '__add__',\n",
       " '__and__',\n",
       " '__bool__',\n",
       " '__ceil__',\n",
       " '__class__',\n",
       " '__delattr__',\n",
       " '__dir__',\n",
       " '__divmod__',\n",
       " '__doc__',\n",
       " '__eq__',\n",
       " '__float__',\n",
       " '__floor__',\n",
       " '__floordiv__',\n",
       " '__format__',\n",
       " '__ge__',\n",
       " '__getattribute__',\n",
       " '__getnewargs__',\n",
       " '__gt__',\n",
       " '__hash__',\n",
       " '__index__',\n",
       " '__init__',\n",
       " '__init_subclass__',\n",
       " '__int__',\n",
       " '__invert__',\n",
       " '__le__',\n",
       " '__lshift__',\n",
       " '__lt__',\n",
       " '__mod__',\n",
       " '__mul__',\n",
       " '__ne__',\n",
       " '__neg__',\n",
       " '__new__',\n",
       " '__or__',\n",
       " '__pos__',\n",
       " '__pow__',\n",
       " '__radd__',\n",
       " '__rand__',\n",
       " '__rdivmod__',\n",
       " '__reduce__',\n",
       " '__reduce_ex__',\n",
       " '__repr__',\n",
       " '__rfloordiv__',\n",
       " '__rlshift__',\n",
       " '__rmod__',\n",
       " '__rmul__',\n",
       " '__ror__',\n",
       " '__round__',\n",
       " '__rpow__',\n",
       " '__rrshift__',\n",
       " '__rshift__',\n",
       " '__rsub__',\n",
       " '__rtruediv__',\n",
       " '__rxor__',\n",
       " '__setattr__',\n",
       " '__sizeof__',\n",
       " '__str__',\n",
       " '__sub__',\n",
       " '__subclasshook__',\n",
       " '__truediv__',\n",
       " '__trunc__',\n",
       " '__xor__',\n",
       " 'as_integer_ratio',\n",
       " 'bit_length',\n",
       " 'conjugate',\n",
       " 'denominator',\n",
       " 'from_bytes',\n",
       " 'imag',\n",
       " 'numerator',\n",
       " 'real',\n",
       " 'to_bytes']"
      ]
     },
     "execution_count": 7,
     "metadata": {},
     "output_type": "execute_result"
    }
   ],
   "source": [
    "dir(a)"
   ]
  },
  {
   "cell_type": "markdown",
   "id": "bcd4cf0f-a355-4ca7-bcb7-76f682e07646",
   "metadata": {},
   "source": [
    "부동소수점 오차\n",
    "\n",
    "모든 언어 공통 (2진법으로 변환했을 때 **무한대수**가 발생하기 때문)"
   ]
  },
  {
   "cell_type": "code",
   "execution_count": 8,
   "id": "340a6b50-5591-45fd-87ad-3184acf3a7b1",
   "metadata": {},
   "outputs": [
    {
     "data": {
      "text/plain": [
       "0.30000000000000004"
      ]
     },
     "execution_count": 8,
     "metadata": {},
     "output_type": "execute_result"
    }
   ],
   "source": [
    "0.1 + 0.2"
   ]
  },
  {
   "cell_type": "markdown",
   "id": "5c84194c-5440-42bc-9cdf-024367ce4056",
   "metadata": {},
   "source": [
    "N진법"
   ]
  },
  {
   "cell_type": "code",
   "execution_count": 10,
   "id": "793b4742-8a36-4525-a8a0-b0c680b2969f",
   "metadata": {},
   "outputs": [
    {
     "data": {
      "text/plain": [
       "(int, int, int)"
      ]
     },
     "execution_count": 10,
     "metadata": {},
     "output_type": "execute_result"
    }
   ],
   "source": [
    "a = 0b110 # int, 2진법 / 0 or 1 숫자를 2개만 사용\n",
    "b = 0o56    # int, 8진법 / 0 ~ 7 숫자를 8개만 사용\n",
    "c = 0xAD    # int, 16진법 / 0 ~ 9, a ~ f 숫자를 16개만 사용\n",
    "\n",
    "'''\n",
    "    a : 6   (2^2)*1 + (2^1)*1 + (2^0)*0\n",
    "    b : 46  (8^1)*5 + (8^0)*0\n",
    "    c : 173 (16^1)*A + (16^0)*D = (16^1)*10 + (16^0)*13\n",
    "    (16^1)*A + (16^0)*D\n",
    "'''\n",
    "\n",
    "type(a), type(b), type(c)"
   ]
  },
  {
   "cell_type": "code",
   "execution_count": 11,
   "id": "82ef3a5c-9f7a-4fbc-8634-a289d511792a",
   "metadata": {},
   "outputs": [
    {
     "data": {
      "text/plain": [
       "(6, 46, 173)"
      ]
     },
     "execution_count": 11,
     "metadata": {},
     "output_type": "execute_result"
    }
   ],
   "source": [
    "a, b, c"
   ]
  },
  {
   "cell_type": "code",
   "execution_count": 12,
   "id": "d05b667d-c4e2-4cbf-af08-220c11e49b1b",
   "metadata": {},
   "outputs": [
    {
     "data": {
      "text/plain": [
       "('0b110', '0o56', '0xad')"
      ]
     },
     "execution_count": 12,
     "metadata": {},
     "output_type": "execute_result"
    }
   ],
   "source": [
    "# 6, 46, 173을 다시 2진법, 8진법, 16진법으로 변환\n",
    "bin(a), oct(46), hex(173)"
   ]
  },
  {
   "cell_type": "code",
   "execution_count": 13,
   "id": "39976795-972f-4706-8f3d-d4d0d4f7c0f4",
   "metadata": {},
   "outputs": [
    {
     "data": {
      "text/plain": [
       "(6, 46, 173)"
      ]
     },
     "execution_count": 13,
     "metadata": {},
     "output_type": "execute_result"
    }
   ],
   "source": [
    "# 2진법, 8진법, 16진법을 INT로 변환\n",
    "# int('110', 2), int('56', 8), int('ad', 16) 도 같은 값 출력\n",
    "int('0b110', 2), int('0o56', 8), int('0xad', 16)"
   ]
  }
 ],
 "metadata": {
  "kernelspec": {
   "display_name": "Python 3 (ipykernel)",
   "language": "python",
   "name": "python3"
  },
  "language_info": {
   "codemirror_mode": {
    "name": "ipython",
    "version": 3
   },
   "file_extension": ".py",
   "mimetype": "text/x-python",
   "name": "python",
   "nbconvert_exporter": "python",
   "pygments_lexer": "ipython3",
   "version": "3.8.12"
  }
 },
 "nbformat": 4,
 "nbformat_minor": 5
}
