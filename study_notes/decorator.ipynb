{
 "cells": [
  {
   "cell_type": "markdown",
   "id": "c6374bfc-c78d-49ee-beca-46a94f214a44",
   "metadata": {},
   "source": [
    "# 일급 함수(First-Class Function) & 고차 함수(Higher-Order Function)\n",
    "\n",
    "일급 함수 (First-Class Function)는 프로그래밍 언어가 함수 (또는 메서드)를 ‘일급 시민(값)'으로 취급하는 것\n",
    "\n",
    "고차 함수 (Higher-Order Function)는 다른 함수를 인자로 받거나, 결과로서 함수를 반환하는 함수를 의미합니다.\n",
    "\n",
    "이는 '일급 함수'의 특성을 활용하는 프로그래밍 패턴이며, 특히 함수형 프로그래밍에서 많이 사용됩니다.\n",
    "\n",
    "Python에서는 일급 함수를 지원하기 때문에 고차 함수를 쉽게 사용할 수 있습니다.\n",
    "\n",
    "예를 들어, `map()`, `filter()`등의 내장 함수는 모두 고차 함수입니다."
   ]
  },
  {
   "cell_type": "code",
   "execution_count": 2,
   "id": "26388b49-ce55-4b30-9a14-b76c34a0bc3e",
   "metadata": {},
   "outputs": [
    {
     "name": "stdout",
     "output_type": "stream",
     "text": [
      "hello world\n",
      "4\n"
     ]
    }
   ],
   "source": [
    "# print 함수를 변수에 저장\n",
    "a = print\n",
    "a('hello world')\n",
    "\n",
    "# 익명 함수를 변수에 저장 -> 리스트와 같은 자료형에도 저장 가능\n",
    "a = lambda x: x ** 2\n",
    "print(a(2))"
   ]
  },
  {
   "cell_type": "code",
   "execution_count": null,
   "id": "485b3538-865e-4782-b852-1993b7527a4d",
   "metadata": {},
   "outputs": [],
   "source": [
    "# 함수의 인자로 다른 함수를 받거나, 함수가 다른 함수를 리턴할 수 있다\n",
    "def hello(a, b, f):\n",
    "    return f(a, b)\n",
    "\n",
    "hello(10, 20, test[0])"
   ]
  },
  {
   "cell_type": "markdown",
   "id": "07305ae8-faea-423c-ac69-66b1acee4366",
   "metadata": {},
   "source": [
    "고차 함수는 코드의 재사용성을 높이고, 추상화 수준을 높여 코드의 가독성을 향상시킵니다.\n",
    "\n",
    "또한, 고차 함수를 사용하면 명령형 스타일로 작성된 코드를 더욱 선언적인 스타일로 리팩토링할 수 있습니다."
   ]
  },
  {
   "cell_type": "markdown",
   "id": "b102a5fc-15ba-4be1-a450-909e89f1a3fc",
   "metadata": {},
   "source": [
    "# 클로저 (팩토리 함수)\n",
    "\n",
    "이미 반환되었어야 하는 메모리에 접근하는 기법"
   ]
  },
  {
   "cell_type": "code",
   "execution_count": 6,
   "id": "428087d3-839c-4c48-a398-6cede78ab8af",
   "metadata": {},
   "outputs": [
    {
     "data": {
      "text/plain": [
       "300"
      ]
     },
     "execution_count": 6,
     "metadata": {},
     "output_type": "execute_result"
    }
   ],
   "source": [
    "def outer_function(x):\n",
    "    def inner_function(y):\n",
    "        return x + y\n",
    "    return inner_function\n",
    "\n",
    "'''\n",
    "아래 코드는 이 코드와 동일합니다.\n",
    "def inner_function(y):\n",
    "    return 100 + y\n",
    "test1 = inner_function\n",
    "'''\n",
    "\n",
    "inner = outer_function(100)\n",
    "inner(200)"
   ]
  },
  {
   "cell_type": "markdown",
   "id": "46a54972-bdd3-4d13-a1a1-d092dfbdd538",
   "metadata": {},
   "source": [
    "위 예제에서 outer_function은 inner_function을 반환합니다.\n",
    "\n",
    "inner_function은 외부 함수의 변수 x를 참조하고 있습니다.\n",
    "    \n",
    "따라서, outer_function을 호출하고 결과를 closure에 저장하면, closure는 inner_function의 코드와 x = 10이라는 상태를 기억하는 클로저가 됩니다."
   ]
  },
  {
   "cell_type": "code",
   "execution_count": 7,
   "id": "3ff074e7-1065-4ef0-9be2-241db2432070",
   "metadata": {},
   "outputs": [
    {
     "name": "stdout",
     "output_type": "stream",
     "text": [
      "8\n"
     ]
    }
   ],
   "source": [
    "def outer_function(x):\n",
    "    def inner_function(y):\n",
    "        return x ** y\n",
    "    return inner_function\n",
    "\n",
    "inner = outer_function(2)\n",
    "print(inner(3))"
   ]
  },
  {
   "cell_type": "markdown",
   "id": "3e18185b-beb0-44ed-9843-feae82ece820",
   "metadata": {},
   "source": [
    "inner_function 입장에서 outer_function의 인풋을 제어할 수 없다\n",
    "\n",
    "1. **데이터 은닉:** 클로저는 외부에서 직접 접근할 수 없는 변수를 '감추는' 방법을 제공합니다. 이를 통해 데이터 은닉과 캡슐화를 구현할 수 있습니다.\n",
    "2. **지연 바인딩 (Late Binding):** 클로저는 함수가 실행될 때 그 함수의 환경을 '기억'합니다. 따라서, 함수의 행동을 호출 시점의 상황에 따라 동적으로 변경하는 것이 가능합니다.\n",
    "3. **함수형 프로그래밍과 데코레이터:** 클로저는 함수를 반환하는 능력 덕분에 고차 함수와 데코레이터의 구현에 필수적입니다. 데코레이터는 원래 함수의 행동을 변경하지 않고 기능을 추가하거나 수정하는 데 사용되는 도구입니다.\n",
    "\n",
    "데이터 은닉의 용도로 많이 사용합니다."
   ]
  },
  {
   "cell_type": "markdown",
   "id": "589f11fb-b5ad-4b70-8ed4-67135add01e0",
   "metadata": {},
   "source": [
    "# 데코레이터\n",
    "\n",
    "데코레이터는 고차 함수(higher-order function)이면서, 클로저입니다.\n",
    "\n",
    "simple_decorator 함수의 입력으로 hello 함수를 받기 때문에 고차함수이고,\n",
    "\n",
    "simple_decorator 함수의 입력을 wrapper 함수에서 사용하므로 클로저입니다.\n",
    "\n",
    "\n",
    "데코레이터는 함수를 수정하지 않은 상태에서 추가 기능을 구현할 때 사용한다\n",
    "\n",
    "데코레이터는 함수를 인자로 받아 다른 함수를 반환하는 \"callable\"한 객체이다</br>\n",
    "\n",
    "기존 함수를 수정하지 않고도 새로운 동작을 추가할 수 있기 때문에, 코드의 재사용성과 모듈성을 향상시킬 수 있다\n",
    "\n",
    "https://kukuta.tistory.com/336"
   ]
  },
  {
   "cell_type": "code",
   "execution_count": null,
   "id": "0be6be3a-b38b-4a76-9cd0-6be2aeff6525",
   "metadata": {},
   "outputs": [],
   "source": [
    "def simple_decorator(function):\n",
    "    def wrapper():\n",
    "        print(\"Before the function call\")\n",
    "        function()\n",
    "        print(\"After the function call\")\n",
    "    return wrapper\n",
    "\n",
    "@simple_decorator\n",
    "def hello():\n",
    "    print(\"Hello, World!\")\n",
    "\n",
    "hello() # 데코레이터가 없는 상태에서는 simple_decorator(hello)() 와 같습니다."
   ]
  },
  {
   "cell_type": "markdown",
   "id": "04eafad9-eb05-47a4-99f1-d6fbad30896b",
   "metadata": {},
   "source": [
    "용도: 함수 실행 이전의 실행을 전제로 해야할 때\n",
    "\n",
    "예시,\n",
    "```python\n",
    "@로그인\n",
    "def 마이페이지():\n",
    "    return\n",
    "\n",
    "@전처리\n",
    "def 시각화():\n",
    "    return\n",
    "```"
   ]
  },
  {
   "cell_type": "code",
   "execution_count": null,
   "id": "51963878-2efc-4207-ad35-3709ec1c24c5",
   "metadata": {},
   "outputs": [],
   "source": [
    "def 전처리(function):\n",
    "    def wrapper(l):\n",
    "        print(\"Before the function call\")\n",
    "        print(l)\n",
    "        result = function(list(map(int, l)))\n",
    "        print(\"After the function call\")\n",
    "        return result\n",
    "    return wrapper\n",
    "\n",
    "@전처리\n",
    "def 평균(l):\n",
    "    return sum(l)/len(l)\n",
    "\n",
    "평균([1, 2, '3', 4, '5', 6, '7', 8])"
   ]
  },
  {
   "cell_type": "markdown",
   "id": "f01af154-19c6-43a5-a6bc-c267f65178d4",
   "metadata": {},
   "source": [
    "## 함수에서 데코레이터 활용"
   ]
  },
  {
   "cell_type": "code",
   "execution_count": 182,
   "id": "68032ef1-ee1e-4d57-a537-e400cc96963a",
   "metadata": {},
   "outputs": [
    {
     "name": "stdout",
     "output_type": "stream",
     "text": [
      "처리를 시작합니다\n",
      "sample_func 함수 처리를 실행합니다\n",
      "처리를 종료합니다\n"
     ]
    }
   ],
   "source": [
    "def add_message(f):\n",
    "    '''함수 앞뒤로 시작/종료 메세지를 추가한다'''\n",
    "    \n",
    "    def new_func():\n",
    "        print('처리를 시작합니다')\n",
    "        f()                    # sample_func()\n",
    "        print('처리를 종료합니다')\n",
    "        \n",
    "    return new_func\n",
    "\n",
    "@add_message\n",
    "def sample_func():\n",
    "    '''실행 메세지를 표시하는 함수'''\n",
    "    print('sample_func 함수 처리를 실행합니다')\n",
    "    \n",
    "deco_func()"
   ]
  },
  {
   "cell_type": "code",
   "execution_count": 138,
   "id": "9499e7af-34ad-425a-ba7f-0da1693e1e83",
   "metadata": {},
   "outputs": [
    {
     "name": "stdout",
     "output_type": "stream",
     "text": [
      "처리를 시작합니다\n",
      "sample_func 함수 처리를 실행합니다\n",
      "처리를 종료합니다\n"
     ]
    }
   ],
   "source": [
    "def add_message(f):\n",
    "    '''함수 앞뒤로 시작/종료 메세지를 추가한다'''\n",
    "    \n",
    "    def new_func():\n",
    "        print('처리를 시작합니다')\n",
    "        f()\n",
    "        print('처리를 종료합니다')\n",
    "        \n",
    "    return new_func\n",
    "\n",
    "def sample_func():\n",
    "    '''실행 메세지를 표시하는 함수'''\n",
    "    print('sample_func 함수 처리를 실행합니다')\n",
    "    \n",
    "deco_func = add_message(sample_func) # 데코레이터의 동작을 이와 같이 표현할 수 있다\n",
    "deco_func()"
   ]
  },
  {
   "cell_type": "markdown",
   "id": "914713f0-2aaa-417e-9649-8a7d9d8b4cbd",
   "metadata": {},
   "source": [
    "함수에는 데코레이터를 여러 개 지정할 수 있다\n",
    "\n",
    "```python\n",
    "@decorator1\n",
    "@decorator2\n",
    "def 함수이름():\n",
    "    코드\n",
    "```\n",
    "\n",
    "데코레이터의 동작은\n",
    "\n",
    "```python\n",
    "decorator1(decorator2(함수이름))\n",
    "```\n",
    "\n",
    "와 같다"
   ]
  },
  {
   "cell_type": "code",
   "execution_count": 206,
   "id": "45a983f6-1524-4187-ba99-31dc00419182",
   "metadata": {},
   "outputs": [],
   "source": [
    "def decorator1(func):\n",
    "    def wrapper():\n",
    "        print('decorator1')\n",
    "        func()\n",
    "    return wrapper\n",
    " \n",
    "def decorator2(func):\n",
    "    def wrapper():\n",
    "        print('decorator2')\n",
    "        func()\n",
    "    return wrapper\n",
    " \n",
    "# 데코레이터를 여러 개 지정\n",
    "@decorator1\n",
    "@decorator2\n",
    "def hello():\n",
    "    print('hello')"
   ]
  },
  {
   "cell_type": "code",
   "execution_count": 207,
   "id": "c495ccf6-45da-46cd-8b1e-4b51e2258603",
   "metadata": {},
   "outputs": [
    {
     "name": "stdout",
     "output_type": "stream",
     "text": [
      "decorator1\n",
      "decorator2\n",
      "hello\n"
     ]
    }
   ],
   "source": [
    "hello()"
   ]
  },
  {
   "cell_type": "markdown",
   "id": "4d28ee76-d04f-4c09-9c3f-5db72a915080",
   "metadata": {},
   "source": [
    "### 인자를 가진 함수 데코레이터\n",
    "\n",
    "데코레이터에 인자를 전달할 수 있다\n",
    "\n",
    "아래 코드는 num_times에 3을 전달해서, wrapper함수에서 greet함수를 3(num_times)번 반복 실행한다</br>"
   ]
  },
  {
   "cell_type": "code",
   "execution_count": 183,
   "id": "a1d1f68c-07b7-4d9d-8df6-539be173ad86",
   "metadata": {},
   "outputs": [
    {
     "name": "stdout",
     "output_type": "stream",
     "text": [
      "Hello, Alice!\n",
      "Hello, Alice!\n",
      "Hello, Alice!\n"
     ]
    }
   ],
   "source": [
    "def repeat(num_times):\n",
    "    def decorator_function(func):\n",
    "        def wrapper(*args, **kwargs):\n",
    "            for _ in range(num_times):\n",
    "                result = func(*args, **kwargs)\n",
    "            return result\n",
    "        return wrapper\n",
    "    return decorator_function\n",
    "\n",
    "@repeat(num_times=3)\n",
    "def greet(name):\n",
    "    print(f\"Hello, {name}!\")\n",
    "\n",
    "greet(\"Alice\")"
   ]
  },
  {
   "cell_type": "markdown",
   "id": "cb127caa-3013-4814-9ebd-c680ad1036fc",
   "metadata": {},
   "source": [
    "데코레이터의 목적은 다른 함수를 감싸는 것이므로, 데코레이터의 inner 함수는 원본 함수와 동일한 시그니처를 가져야 한다</br>\n",
    "이를 위해 \\*args와 \\*\\*kwargs 매개변수를 사용하여 유연성을 제공하고, 데코레이터를 적용한 함수의 인자를 적절히 처리할 수 있다"
   ]
  },
  {
   "cell_type": "code",
   "execution_count": 271,
   "id": "705490ff-7fbe-4fb2-8fd5-75be4855d990",
   "metadata": {},
   "outputs": [],
   "source": [
    "def add_emoticon(func):           # func 매개변수에 say_hi 함수가 입력\n",
    "    \n",
    "    def inner(*args, **kwargs):   # 데코레이터에 감싸지는 say_hi함수가 인자를 받기 때문에\n",
    "                                  # 데코레이터의 inner함수도 인자를 받을 수 있도록 매개변수를 정의해야 한다\n",
    "                                  # 가변인자를 입력하면, 데코레이터를 적용한 함수가 다양한 인자를 받더라도 INNER함수에서 인자들을 처리할 수 있다\n",
    "        print('=￣ω￣=', end = '\\n')\n",
    "        func(*args, **kwargs)\n",
    "    return inner\n",
    "\n",
    "@add_emoticon\n",
    "def say_hi(name):\n",
    "    print(f'hi {name}!')"
   ]
  },
  {
   "cell_type": "code",
   "execution_count": 272,
   "id": "9b9f8cc9-c22e-48dd-a856-1c65994cc903",
   "metadata": {},
   "outputs": [
    {
     "name": "stdout",
     "output_type": "stream",
     "text": [
      "=￣ω￣=\n",
      "hi Jason!\n"
     ]
    }
   ],
   "source": [
    "say_hi('Jason')"
   ]
  },
  {
   "cell_type": "markdown",
   "id": "70d90dd6-d816-4b38-9ab8-2d4a88c883f7",
   "metadata": {},
   "source": [
    "## 클래스에서 데코레이터 활용"
   ]
  },
  {
   "cell_type": "markdown",
   "id": "af2a6fa7-c272-4530-82cf-0d00307f7b23",
   "metadata": {},
   "source": [
    "```python\n",
    "def add_emoticon(func):\n",
    "    \n",
    "    def inner(*args, **kwargs):\n",
    "        print('=￣ω￣=', end = '\\n')\n",
    "        func(*args, **kwargs)\n",
    "    return inner\n",
    "\n",
    "@add_emoticon\n",
    "def say_hi(name):\n",
    "    print(f'hi {name}!')\n",
    "```\n",
    "\n",
    "위 코드에서 @add_emoticon 데코레이터를 사용하면 인터프리터에 의해 say_hi = add_emoticon(say_hi)와 같은 코드로 바뀐다</br>\n",
    "이 형태는 클래스 객체 생성과 동일하다\n",
    "\n",
    "이를 활용하여 클래스 데코레이터로 변경한다\n",
    "\n",
    "하지만, 생성자로 add_emoticon(say_hi) 형태로 처리해도 현재 say_hi는 함수가 아니라 클래스 객체이기 때문에 함수처럼 호출 할 수 없다</br>\n",
    "__call__ 매직 메서드를 사용해서 객체를 함수처럼 호출 할 수 있도록 처리해야 한다"
   ]
  },
  {
   "cell_type": "code",
   "execution_count": 258,
   "id": "0a277316-2269-4211-b187-b4e04e80422b",
   "metadata": {},
   "outputs": [],
   "source": [
    "class AddEmoticon:\n",
    "    def __init__(self, func):             # add_emoticon(say_hi) 처리\n",
    "        self.func = func\n",
    "    def __call__(self, *args, **kwargs):  # 실제 데코레이팅\n",
    "                                          # 객체를 함수처럼 호출 할 수 있도록 __call__ 매직 메서드를 적용\n",
    "        print('=￣ω￣=', end = '\\n')\n",
    "        return self.func(*args, **kwargs)\n",
    "        \n",
    "@AddEmoticon\n",
    "def say_hi(name):\n",
    "    print(f'hi {name}!')"
   ]
  },
  {
   "cell_type": "code",
   "execution_count": 259,
   "id": "f40290c8-b6d3-41f6-9c96-01ccb2154d77",
   "metadata": {},
   "outputs": [
    {
     "name": "stdout",
     "output_type": "stream",
     "text": [
      "=￣ω￣=\n",
      "hi Jason!\n"
     ]
    }
   ],
   "source": [
    "say_hi('Jason')                            # say_hi.__call__('Jason')과 동일"
   ]
  },
  {
   "cell_type": "code",
   "execution_count": 260,
   "id": "7afb5101-99e5-4b7e-a591-a60a65991a4f",
   "metadata": {},
   "outputs": [
    {
     "name": "stdout",
     "output_type": "stream",
     "text": [
      "<class '__main__.AddEmoticon'>\n"
     ]
    }
   ],
   "source": [
    "print(type(say_hi))                        # <class '__main__.AddEmoticon'>"
   ]
  },
  {
   "cell_type": "markdown",
   "id": "18587cec-dc5b-422b-9c87-e81e6788f5e5",
   "metadata": {},
   "source": [
    "### 인자를 가진 클래스 데코레이터\n",
    "\n",
    "데코레이터를 @AddEmoticon(인자) 형태로 지정하면, say_hi = AddEmoticon(인자)(say_hi)와 같은 코드를 인터프리터가 생성한다</br>\n",
    "이와 같은 형태라면 AddEmoticon 클래스의 생성자는 함수를 넘겨 받는 것이 아니라 이모티콘을 넘겨 받는다\n",
    "\n",
    "인터프리터는 객체 생성 이후에 바로 함수를 인자로 넘겨주는 호출을 하고 있다</br>\n",
    "AddEmoticon 클래스가 생성자에서 이모티콘을 받도록 수정 되면서 오히려 함수를 넘겨 받는 부분이 없어졌다\n",
    "\n",
    "\\_\\_call\\_\\_ 메소드가 say_hi함수를 인자로 받고, 데코레이팅된 inner함수를 리턴하도록 하면 된다"
   ]
  },
  {
   "cell_type": "code",
   "execution_count": 273,
   "id": "dfad84e7-af29-4c63-ba96-ef4a4acfa659",
   "metadata": {},
   "outputs": [],
   "source": [
    "class AddEmoticon:\n",
    "    # def __init__(self, func):\n",
    "    #    self.func = func\n",
    "    \n",
    "    def __init__(self, emoticon):          # 함수 대신 이모티콘을 인자로 받아 저장\n",
    "        self.emoticon = emoticon\n",
    "        \n",
    "    # def __call__(self, *args, **kwargs):\n",
    "    #    print('^_^ ', end='')\n",
    "    #    return self.func(*args, **kwargs)\n",
    "    \n",
    "    def __call__(self, func):\n",
    "        \n",
    "        def inner(*args, **kwargs):\n",
    "            print(self.emoticon, end='\\n')\n",
    "            return func(*args, **kwargs)\n",
    "            \n",
    "        return inner\n",
    "\n",
    "@AddEmoticon('=￣ω￣=')                      # say_hi = add_emoticon('=￣ω￣=')(say_hi)\n",
    "def say_hi(name) :\n",
    "    print(f'hi {name}!')"
   ]
  },
  {
   "cell_type": "code",
   "execution_count": 269,
   "id": "6f179c3c-5846-464b-8bd6-32cb38aefe1c",
   "metadata": {},
   "outputs": [
    {
     "name": "stdout",
     "output_type": "stream",
     "text": [
      "=￣ω￣=\n",
      "hi Jason!\n"
     ]
    }
   ],
   "source": [
    "say_hi('Jason')"
   ]
  },
  {
   "cell_type": "markdown",
   "id": "f3d09864-a70c-4902-bab9-fbf694bfd259",
   "metadata": {},
   "source": [
    "### 상태를 가지는 데코레이터\n",
    "\n",
    "callable object를 사용하면 함수처럼 사용할 수 있으면서도 상태를 저장할 수 있다\n",
    "\n",
    "AddEmoticon 데코레이터를 이용한 say_hi 함수가 몇 번 호출되었는지 추적할 수 있도록 위 예제를 변형 해본다"
   ]
  },
  {
   "cell_type": "code",
   "execution_count": 288,
   "id": "026c0d22-dede-43e1-9574-2d61cf674c09",
   "metadata": {},
   "outputs": [],
   "source": [
    "class AddEmoticon:\n",
    "    \n",
    "    def __init__(self, emoticon):         \n",
    "        self.count = 0                       # 호출 회수 저장 필드\n",
    "        self.emoticon = emoticon\n",
    "    \n",
    "    def __call__(self, func):\n",
    "        \n",
    "        def inner(*args, **kwargs):\n",
    "            self.count += 1\n",
    "            inner.count = self.count         # 함수 객체에서 바로 사용 할 수 있도록\n",
    "            print(self.emoticon, end='\\n')\n",
    "            return func(*args, **kwargs)\n",
    "            \n",
    "        return inner\n",
    "        \n",
    "@AddEmoticon('=￣ω￣=')    \n",
    "def say_hi(name):\n",
    "    print(f'hi {name}!')"
   ]
  },
  {
   "cell_type": "code",
   "execution_count": 289,
   "id": "199c1814-3ba9-4587-8dcd-acb53338fa37",
   "metadata": {},
   "outputs": [
    {
     "name": "stdout",
     "output_type": "stream",
     "text": [
      "=￣ω￣=\n",
      "hi Jason!\n"
     ]
    }
   ],
   "source": [
    "say_hi('Jason')"
   ]
  },
  {
   "cell_type": "markdown",
   "id": "df7eb5ba-112f-4baa-8c23-af0ee56ae278",
   "metadata": {},
   "source": [
    "객체를 생성할 때마다 inner 함수에서 self.count += 1이 작동되어 count가 늘어난다</br>\n",
    "\\_\\_call\\_\\_ 메서드가 inner를 return해서 say_hi객체(함수)로 반환하기 때문에</br>\n",
    "inner.count = self.count 형태로 개개체의 인스턴스 변수로 전달해서 say_hi.count 형태로 접근할 수 있도록 했다"
   ]
  },
  {
   "cell_type": "code",
   "execution_count": 290,
   "id": "f4f64e45-cf88-4674-8d4c-eb3eac9d989e",
   "metadata": {},
   "outputs": [
    {
     "data": {
      "text/plain": [
       "1"
      ]
     },
     "execution_count": 290,
     "metadata": {},
     "output_type": "execute_result"
    }
   ],
   "source": [
    "say_hi.count"
   ]
  }
 ],
 "metadata": {
  "kernelspec": {
   "display_name": "Python 3 (ipykernel)",
   "language": "python",
   "name": "python3"
  },
  "language_info": {
   "codemirror_mode": {
    "name": "ipython",
    "version": 3
   },
   "file_extension": ".py",
   "mimetype": "text/x-python",
   "name": "python",
   "nbconvert_exporter": "python",
   "pygments_lexer": "ipython3",
   "version": "3.11.0"
  }
 },
 "nbformat": 4,
 "nbformat_minor": 5
}
