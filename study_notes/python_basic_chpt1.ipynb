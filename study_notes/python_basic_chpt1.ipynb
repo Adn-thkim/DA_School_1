{
 "cells": [
  {
   "cell_type": "markdown",
   "id": "c7710055-a365-48dc-a34b-e56b9b60e413",
   "metadata": {},
   "source": [
    "**모든 Line은 79자(Characters)로 제한하는 것을 권고합니다.**\n",
    "* 강제사항은 아닙니다.\n",
    "* 띄어쓰기 4번도 강제사항은 아닙니다.\n",
    "* pep8, pep 20에 기술되어 있습니다. => pep(Python Enhancement Proposal) : 언어 발전을 위해 논의된 주제\n",
    "* pep8 : Style Guide for Python Code\n",
    "* pep20 : The Zen of Python\n",
    "\n",
    "* aaaaaaaaaaaaaaaaaaaaaaaaaaaaaaaaaaaaaaaaaaaaaaaaaaaaaaaaaaaaaaaaaaaaaaaaaaaaaaaa => 80자\n",
    "* line에 딱 맞춰 들어간 것을 볼 수 있습니다. \n",
    "* https://peps.python.org/"
   ]
  },
  {
   "cell_type": "markdown",
   "id": "00f0e4a9-4250-4e53-83c0-159cfec55745",
   "metadata": {
    "tags": []
   },
   "source": [
    "# 1.1 주석과 변수"
   ]
  },
  {
   "cell_type": "markdown",
   "id": "6603a9cc-d801-4ff5-a28c-dfdd2c0d56c9",
   "metadata": {
    "jp-MarkdownHeadingCollapsed": true,
    "tags": []
   },
   "source": [
    "## 주석"
   ]
  },
  {
   "cell_type": "code",
   "execution_count": 1,
   "id": "e000e50e-4ab9-4df3-ab0f-abe6e781517d",
   "metadata": {},
   "outputs": [
    {
     "data": {
      "text/plain": [
       "2"
      ]
     },
     "execution_count": 1,
     "metadata": {},
     "output_type": "execute_result"
    }
   ],
   "source": [
    "# 행 단위 주석입니다. Ctrl + /\n",
    "\n",
    "'''\n",
    "열 단위 주석입니다. \n",
    "1 + 1\n",
    "'''\n",
    "\n",
    "1 + 1"
   ]
  },
  {
   "cell_type": "markdown",
   "id": "aa4824a6-8dc7-4300-bc4d-2abf5f256e09",
   "metadata": {},
   "source": [
    "**주석 작성 예시**\n",
    "* 가장 좋은 코드는 주석을 읽지 않고도 쉽게 읽을 수 있는 코드\n",
    "* 변수명은 최대한 상세하게 사용"
   ]
  },
  {
   "cell_type": "code",
   "execution_count": null,
   "id": "9d8d1b51-2efd-4d66-b281-40e453ca55cd",
   "metadata": {},
   "outputs": [],
   "source": [
    "def solution(hello):\n",
    "    '''Connects to the next available port.\n",
    "\n",
    "    Args:\n",
    "      minimum: A port value greater or equal to 1024.\n",
    "\n",
    "    Returns:\n",
    "      The new minimum port.\n",
    "\n",
    "    Raises:\n",
    "      ConnectionError: If no available port is found.\n",
    "    '''\n",
    "    return hello\n",
    "\n",
    "solution('x')"
   ]
  },
  {
   "cell_type": "markdown",
   "id": "121cac27-454c-466a-8f5d-1d1d3c875c5b",
   "metadata": {
    "jp-MarkdownHeadingCollapsed": true,
    "tags": []
   },
   "source": [
    "## 변수"
   ]
  },
  {
   "cell_type": "markdown",
   "id": "ae4c50b5-2618-4640-8252-a6db9d726b04",
   "metadata": {},
   "source": [
    "**CS에서 변수란?**\n",
    "* 포스트잇! (메모리 공간을 가리키는)\n",
    "```\n",
    "    a = 10 이란, a가 10의 주소를 가리키는 형태\n",
    "    \n",
    "    a = 10\n",
    "    b = a\n",
    "    a = 20\n",
    "    \n",
    "    에서 왜 b는 10일까?\n",
    "    \n",
    "    b = a에서 a가 갖고 있는 10의 주소값을 받아오기 떄문에\n",
    "    a = 20에서 a가 20의 주소값을 가리키게 되어도\n",
    "    b는 10의 주소를 가리키기 때문\n",
    "\n",
    "    변수가 실제 가리키는 값의 주소를 보려면 id(\"var\")\n",
    "```\n",
    "\n",
    "**dir() : 변수가 갖고 있는 모든 속성 출력 </br>\n",
    "변수에 사용할 수 있는 함수는 dir()함수를 통해 확인할 수 있습니다</br>\n",
    "__로 이뤄진 함수는 빌트인 function(매직 매서드)**"
   ]
  },
  {
   "cell_type": "code",
   "execution_count": 2,
   "id": "c9bf3c11-6c08-4af0-9243-3c22d56c4bb8",
   "metadata": {},
   "outputs": [
    {
     "name": "stdout",
     "output_type": "stream",
     "text": [
      "10\n"
     ]
    }
   ],
   "source": [
    "a = 10\n",
    "b = a\n",
    "a = 20\n",
    "\n",
    "print(b)"
   ]
  },
  {
   "cell_type": "markdown",
   "id": "21948d8e-ea9d-425d-b7e6-baea2ce02ab8",
   "metadata": {},
   "source": [
    "### 변수의 타입\n",
    "\n",
    "**변수의 타입은 왜 있을까?**\n",
    "* 효육적인 측면\n",
    "```\n",
    "'a' + 'a' 에서 'a'는 ASCII code, 즉 숫자인데 왜 이어붙일까?\n",
    "우리가 통념적으로 생각하는 문자열의 연산을 Python에 구현한 것\n",
    "매직 매서드(__init__과 같은)를 통해서 이런 '약속'들을 구현한다\n",
    "```\n",
    "* 관리적인 측면"
   ]
  },
  {
   "cell_type": "code",
   "execution_count": 5,
   "id": "4aa12dd9-a31f-4ae4-b0fa-e19efd36b724",
   "metadata": {},
   "outputs": [
    {
     "name": "stdout",
     "output_type": "stream",
     "text": [
      "type(10) :  <class 'int'>\n",
      "type(10.1) :  <class 'float'>\n",
      "type(-1) :  <class 'int'>\n",
      "type(True) :  <class 'bool'>\n",
      "type('good') :  <class 'str'>\n",
      "'10' + '10' :  1010\n",
      "'10' * 3 101010\n",
      "'hong' + 'gildong' kimhonggildong\n",
      "type('gildong') :  <class 'str'>\n",
      "type('gildong100!!') :  <class 'str'>\n",
      "type(10 + 2j) :  <class 'complex'>\n",
      "type(0b110) :  <class 'int'>\n",
      "6\n",
      "type(0o56) :  <class 'str'>\n",
      "example\n",
      "type(0xAC) :  <class 'int'>\n",
      "172\n"
     ]
    }
   ],
   "source": [
    "a = 10     #int, 정수형\n",
    "b = 10.1   #float, 실수\n",
    "c = -1\n",
    "d = True   #bool, 논리형(부울형, 참거짓형)\n",
    "e = 'good'\n",
    "f = '10'   #str, 문자열\n",
    "g = 'kim'\n",
    "h = 'honggildong'\n",
    "i = 'example'\n",
    "j = 10 + 2j #complex, 복소수\n",
    "k = 0b110   #int, 2진법 \n",
    "l = 0o56    #int, 8진법\n",
    "m = 0xAC    #int, 16진법\n",
    "\n",
    "print('type(10) : ', type(a))\n",
    "print('type(10.1) : ', type(b))\n",
    "print('type(-1) : ', type(c))\n",
    "print('type(True) : ', type(d))\n",
    "print('type(\\'good\\') : ', type(e))\n",
    "print('\\'10\\' + \\'10\\' : ', f + f)\n",
    "print('\\'10\\' * 3', f * 3)\n",
    "print('\\'hong\\' + \\'gildong\\'', g + h)\n",
    "print('type(\\'gildong\\') : ', type(h))\n",
    "print('type(\\'gildong100!!\\') : ', type(i))\n",
    "print('type(10 + 2j) : ', type(j))\n",
    "print('type(0b110) : ', type(k))\n",
    "print(k)\n",
    "print('type(0o56) : ', type(i))\n",
    "print(i)\n",
    "print('type(0xAC) : ', type(m))\n",
    "print(m)"
   ]
  },
  {
   "cell_type": "code",
   "execution_count": 136,
   "id": "637ca068-9c9a-42f1-8a00-f894c19dcc00",
   "metadata": {},
   "outputs": [
    {
     "name": "stdout",
     "output_type": "stream",
     "text": [
      "type(n) : <class 'function'>\n",
      "type(o) : <class 'builtin_function_or_method'>\n",
      "type(p) : <class 'function'>\n",
      "type(q) : <class 'type'>\n",
      "type(r) : <class '__main__.A'>\n"
     ]
    }
   ],
   "source": [
    "def hello():\n",
    "    return\n",
    "\n",
    "class A:\n",
    "    pass\n",
    "\n",
    "n = hello           #function\n",
    "o = print           #built-in function\n",
    "p = lambda x:x**2   #function\n",
    "q = A               # class\n",
    "r = A()             # instance\n",
    "\n",
    "print('type(n) :', type(n))\n",
    "print('type(o) :', type(o))\n",
    "print('type(p) :', type(p))\n",
    "print('type(q) :', type(q))\n",
    "print('type(r) :', type(r))"
   ]
  },
  {
   "cell_type": "code",
   "execution_count": 138,
   "id": "f27c3c28-c1ed-4f97-aa32-6bbeb47afb21",
   "metadata": {},
   "outputs": [
    {
     "name": "stdout",
     "output_type": "stream",
     "text": [
      "<class 'type'>\n",
      "True\n",
      "False\n"
     ]
    }
   ],
   "source": [
    "print(type(int))\n",
    "print(type(2.3) == float)\n",
    "print(type(2) == int)"
   ]
  },
  {
   "cell_type": "markdown",
   "id": "9925c578-9757-4787-be93-bb28823e8e79",
   "metadata": {},
   "source": [
    "**무리수는 float**"
   ]
  },
  {
   "cell_type": "code",
   "execution_count": 132,
   "id": "f1741415-9347-48ed-8933-445a11913367",
   "metadata": {},
   "outputs": [
    {
     "name": "stdout",
     "output_type": "stream",
     "text": [
      "2300.0\n",
      "2300.0\n",
      "0.0023\n",
      "<class 'float'>\n"
     ]
    }
   ],
   "source": [
    "print(2.3e3) # 무리수, 오일러의 수 (2.718에 수렴, 파이가 3.14인 것처럼)\n",
    "print(2.3E3)\n",
    "\n",
    "print(2.3 * (10 ** -3))\n",
    "\n",
    "print(type(2.3e3))"
   ]
  },
  {
   "cell_type": "markdown",
   "id": "c04c1d13-4118-4092-9a74-e08cd34e38e9",
   "metadata": {},
   "source": [
    "### 변수의 속성\n",
    "\n",
    "* 영문과 숫자를 사용할 수 있지만, 숫자로 시작하지는 못합니다\n",
    "* 특수문자는 사용하지 않아요\n",
    "    * 특수문자나 이모지 중 사용하능한 것이 있기는 합니다\n",
    "    * _(under bar)는 사용합니다. : **스네이크 표기법** (helloWorld : **카멜 표기법**, javascript에서 많이 사용)\n",
    "    * 권하지 않습니다\n",
    "* 예약어는 사용하지 않습니다 (if, elif, while, for, etc..)\n",
    "* 대소문자는 구분합니다\n",
    "* 언더바로만 사용하거나 언더바로 시작할 수 있습니다\n",
    "    * 언더바로만 사용하는 경우! 해당 변수를 전혀 사용하지 않는 경우 (사용은 가능하지만, 권장하지 않습니다)\n",
    "* 대문자로 시작하는 변수를 사용할 수 있지만, 관습적으로 대문자로 시작하는 변수는 Class로 만들기 때문에 소문자로 시작하는 변수를 권합니다\n",
    "    * Class는 보통 파스칼 표기법을 따릅니다. 다만 회사 컨벤션마다 다릅니다."
   ]
  },
  {
   "cell_type": "markdown",
   "id": "bba95413-d94d-46d4-8665-347ba8613fe2",
   "metadata": {},
   "source": [
    "### 변수의 자료형\n",
    "\n",
    "- int\n",
    "- str\n",
    "- float\n",
    "- list\n",
    "    - 순서가 있습니다\n",
    "    - 수정이 가능합니다\n",
    "    - comprehension이 일반 반복보다 속도 우위를 갖고 있습니다\n",
    "    - slicing도 일반 반복보다 속도 우위를 갖고 있습니다\n",
    "- tuple\n",
    "- set\n",
    "- dict\n",
    "\n",
    "변수의 자료형은 다양한 데이터를 용도에 맞게 쓰기 위해서 입니다</br>\n",
    "보통 언어에서는 변수의 자료형과 함께 변수를 선언하지만 파이썬은 자료형을 함께 쓸 필요가 없습니다</br>\n",
    "파이썬은 변수에 저장된 값을 스스로 판단하여 자료형을 알아내기 때문입니다</br>\n",
    "ex. sample_list = [1, 2, 3]"
   ]
  },
  {
   "cell_type": "markdown",
   "id": "80cba934-749e-42d8-8a78-a5eb299fa062",
   "metadata": {
    "jp-MarkdownHeadingCollapsed": true,
    "tags": []
   },
   "source": [
    "# 1.2 입력과 출력"
   ]
  },
  {
   "cell_type": "markdown",
   "id": "08a38ad0-d4fe-4cb4-a250-eb0349d12b10",
   "metadata": {},
   "source": [
    "## 입력함수 input"
   ]
  },
  {
   "cell_type": "code",
   "execution_count": 70,
   "id": "ae17a8a7-c3c8-4831-9650-74d988dc5db9",
   "metadata": {},
   "outputs": [
    {
     "name": "stdin",
     "output_type": "stream",
     "text": [
      " 5\n"
     ]
    },
    {
     "name": "stdout",
     "output_type": "stream",
     "text": [
      "55\n"
     ]
    }
   ],
   "source": [
    "# input은 입력값을 문자열로 받는다\n",
    "x = input()\n",
    "print(x + x)"
   ]
  },
  {
   "cell_type": "code",
   "execution_count": 76,
   "id": "b284aea0-1743-4c05-a34a-a47c75bc3320",
   "metadata": {},
   "outputs": [
    {
     "name": "stdin",
     "output_type": "stream",
     "text": [
      " 5\n"
     ]
    },
    {
     "name": "stdout",
     "output_type": "stream",
     "text": [
      "5\n",
      "25\n"
     ]
    }
   ],
   "source": [
    "x = int(input())\n",
    "print(x)\n",
    "print(x * x)"
   ]
  },
  {
   "cell_type": "markdown",
   "id": "2e03d1f3-c098-4929-9812-7670a6a9f4f8",
   "metadata": {},
   "source": [
    "## 출력함수 print"
   ]
  },
  {
   "cell_type": "code",
   "execution_count": 85,
   "id": "81bec881-b8e1-45f8-88b2-5224c27ea753",
   "metadata": {},
   "outputs": [
    {
     "name": "stdout",
     "output_type": "stream",
     "text": [
      "name hojun\n",
      "name hojun age 11\n",
      "name hojun age 11\n",
      "name hojun age 11\n",
      "name 11 age 11\n",
      "name hojun age 11\n",
      "name: hojun age: 11\n"
     ]
    }
   ],
   "source": [
    "# %용법이 최초에 있었습니다. 안써요. 기억하시지 않으셔도 됩니다.\n",
    "name = 'hojun'\n",
    "age = 11\n",
    "print('name %s'%name)\n",
    "print('name %s age %d'%(name, age))\n",
    "\n",
    "# format 용법이 생겼습니다.\n",
    "# format 용법만 별도 정리 해드리겠습니다. (1시간 정도)\n",
    "txt = 'name {} age {}'\n",
    "print('name {} age {}'.format(name, age))\n",
    "print('name {0} age {1}'.format(name, age))\n",
    "print('name {1} age {1}'.format(name, age))\n",
    "print(txt.format(name, age))\n",
    "\n",
    "# f-string 용법이 생겼습니다.(3.6 version에서 새로 나옴)\n",
    "name = 'hojun'\n",
    "age = 11\n",
    "print(f'name: {name} age: {age}')"
   ]
  },
  {
   "cell_type": "code",
   "execution_count": 68,
   "id": "2e99deae-1bbc-4cad-a315-40783b49ba70",
   "metadata": {},
   "outputs": [
    {
     "data": {
      "text/plain": [
       "'hello world'"
      ]
     },
     "execution_count": 68,
     "metadata": {},
     "output_type": "execute_result"
    }
   ],
   "source": [
    "# 아래 3개는 모두 string\n",
    "\n",
    "a = 10\n",
    "'hello world {}'.format(a)\n",
    "f'hello world {a}'\n",
    "f'hello world'"
   ]
  },
  {
   "cell_type": "code",
   "execution_count": 84,
   "id": "1d6a2cb1-dce5-44d7-bd6f-5614d529e814",
   "metadata": {},
   "outputs": [
    {
     "name": "stdout",
     "output_type": "stream",
     "text": [
      "hello \\n world \\t\n",
      "hello \n",
      " world \t\n"
     ]
    }
   ],
   "source": [
    "r'hello world' # raw : 날것의\n",
    "print(r'hello \\n world \\t')\n",
    "print('hello \\n world \\t')"
   ]
  },
  {
   "cell_type": "markdown",
   "id": "7f7de401-3a85-4a79-85d6-e3e5f5773584",
   "metadata": {},
   "source": [
    "콜론을 기준으로 좌측의 문자를 우측에 표기한 길이만큼 <(왼쪽), >(오른쪽), ^(가운데) 정렬하고,\n",
    "\n",
    "지정한 기호로 공백을 채운다"
   ]
  },
  {
   "cell_type": "code",
   "execution_count": 140,
   "id": "af38a789-e5dd-475d-bb9c-4ac7b6ecd256",
   "metadata": {},
   "outputs": [
    {
     "name": "stdout",
     "output_type": "stream",
     "text": [
      "hello     \n",
      "     hello\n",
      "  hello   \n",
      "hello!!!!!\n",
      "=====hello\n",
      "~~hello~~~\n"
     ]
    }
   ],
   "source": [
    "print(f'{\"hello\":<10}')\n",
    "print(f'{\"hello\":>10}')\n",
    "print(f'{\"hello\":^10}')\n",
    "\n",
    "print(f'{\"hello\":!<10}')\n",
    "print(f'{\"hello\":=>10}')\n",
    "print(f'{\"hello\":~^10}')"
   ]
  },
  {
   "cell_type": "markdown",
   "id": "690a127f-52e1-43cc-bfb9-30d462d56000",
   "metadata": {},
   "source": [
    "format 함수의 활용\n",
    "- 아래 예시는 zfill을 사용해도 되지만, format을 통해 가능하다는 것을 보여주는 예시\n",
    "\n",
    "https://tech.kakao.com/2017/09/27/kakao-blind-recruitment-round-1/"
   ]
  },
  {
   "cell_type": "markdown",
   "id": "d90545b7-e91c-4bf4-9193-89bc4d406df3",
   "metadata": {},
   "source": [
    "실수의 자릿수 표현"
   ]
  },
  {
   "cell_type": "code",
   "execution_count": 141,
   "id": "ba90ccfc-f03f-49f1-9144-968a2bab054a",
   "metadata": {},
   "outputs": [
    {
     "name": "stdout",
     "output_type": "stream",
     "text": [
      "0.46\n"
     ]
    }
   ],
   "source": [
    "print(f'{0.45678:0.2f}')"
   ]
  },
  {
   "cell_type": "markdown",
   "id": "07b9d0b8-f3a3-4bff-98b1-777544aa942a",
   "metadata": {},
   "source": [
    "**빌트인 function도 변수이다!**"
   ]
  },
  {
   "cell_type": "code",
   "execution_count": 77,
   "id": "0db8b94b-2f6e-4dd4-a5d9-c762d3a56161",
   "metadata": {},
   "outputs": [
    {
     "data": {
      "text/plain": [
       "builtin_function_or_method"
      ]
     },
     "execution_count": 77,
     "metadata": {},
     "output_type": "execute_result"
    }
   ],
   "source": [
    "type(print)\n",
    "# https://docs.python.org/3/library/functions.html"
   ]
  },
  {
   "cell_type": "code",
   "execution_count": 78,
   "id": "a5b14440-74f2-4060-818f-9ad2d1ed02c5",
   "metadata": {},
   "outputs": [
    {
     "name": "stdout",
     "output_type": "stream",
     "text": [
      "hello world\n"
     ]
    },
    {
     "data": {
      "text/plain": [
       "(4305234816, 4305234816)"
      ]
     },
     "execution_count": 78,
     "metadata": {},
     "output_type": "execute_result"
    }
   ],
   "source": [
    "leehojun = print\n",
    "leehojun('hello world')\n",
    "id(print), id(leehojun)"
   ]
  },
  {
   "cell_type": "code",
   "execution_count": 88,
   "id": "ecb44ee3-892f-46b6-af35-420ee0a49a29",
   "metadata": {},
   "outputs": [
    {
     "name": "stdout",
     "output_type": "stream",
     "text": [
      "hello world!\n",
      "hello world!\n",
      "hello world!"
     ]
    }
   ],
   "source": [
    "print('hello world', sep=' ', end='!')\n",
    "print('\\nhello world', sep=' ', end='!')\n",
    "print('\\nhello world', sep=' ', end='!')"
   ]
  },
  {
   "cell_type": "code",
   "execution_count": 82,
   "id": "be88d4ee-7ee3-4979-aaf4-f5fd57edc944",
   "metadata": {},
   "outputs": [
    {
     "name": "stdout",
     "output_type": "stream",
     "text": [
      "hello world!"
     ]
    }
   ],
   "source": [
    "print('hello','world', sep=' ', end='!')"
   ]
  },
  {
   "cell_type": "markdown",
   "id": "00916de2-880e-49be-90eb-e675cbf35ce8",
   "metadata": {
    "jp-MarkdownHeadingCollapsed": true,
    "tags": []
   },
   "source": [
    "# 1.3 숫자 자료형\n",
    "\n",
    "- class 'int'\n",
    "    - 정수\n",
    "    - N진수\n",
    "- class 'float'\n",
    "    - 실수\n",
    "- class 'complex'\n",
    "    - 복소수 (ex. 1+2j)\n",
    "</br>\n",
    "**numpy, Pandas와 같은 모듈에서는 메모리 효율을 위해 정수와 실수를 좀 더 세분화하여 연산하지만, Python에서는  크게 구분된 정수, 실수, 복소수로 연산합니다**"
   ]
  },
  {
   "cell_type": "markdown",
   "id": "6155125b-9d6e-43d4-8f9e-b9cc5b422167",
   "metadata": {},
   "source": [
    "부동소수점 오차\n",
    "\n",
    "모든 언어 공통 (2진법으로 변환했을 때 **무한대수**가 발생하기 때문)"
   ]
  },
  {
   "cell_type": "code",
   "execution_count": 8,
   "id": "340a6b50-5591-45fd-87ad-3184acf3a7b1",
   "metadata": {},
   "outputs": [
    {
     "data": {
      "text/plain": [
       "0.30000000000000004"
      ]
     },
     "execution_count": 8,
     "metadata": {},
     "output_type": "execute_result"
    }
   ],
   "source": [
    "0.1 + 0.2"
   ]
  },
  {
   "cell_type": "markdown",
   "id": "3ef2bc40-a68e-4293-b028-89375f86b739",
   "metadata": {},
   "source": [
    "**N진법**\n",
    "* 2진법 0b110에서 b는 binary\n",
    "* 8진법 0o56에서 o는 octa\n",
    "* 16진법 0xAD에서 x는 hexa"
   ]
  },
  {
   "cell_type": "code",
   "execution_count": 10,
   "id": "793b4742-8a36-4525-a8a0-b0c680b2969f",
   "metadata": {},
   "outputs": [
    {
     "data": {
      "text/plain": [
       "(int, int, int)"
      ]
     },
     "execution_count": 10,
     "metadata": {},
     "output_type": "execute_result"
    }
   ],
   "source": [
    "a = 0b110   # int, 2진법 / 0 or 1 숫자를 2개만 사용\n",
    "b = 0o56    # int, 8진법 / 0 ~ 7 숫자를 8개만 사용\n",
    "c = 0xAD    # int, 16진법 / 0 ~ 9, a ~ f 숫자를 16개만 사용\n",
    "\n",
    "'''\n",
    "    a : 6   (2^2)*1 + (2^1)*1 + (2^0)*0\n",
    "    b : 46  (8^1)*5 + (8^0)*0\n",
    "    c : 173 (16^1)*A + (16^0)*D = (16^1)*10 + (16^0)*13\n",
    "    (16^1)*A + (16^0)*D\n",
    "'''\n",
    "\n",
    "type(a), type(b), type(c)"
   ]
  },
  {
   "cell_type": "code",
   "execution_count": 11,
   "id": "82ef3a5c-9f7a-4fbc-8634-a289d511792a",
   "metadata": {},
   "outputs": [
    {
     "data": {
      "text/plain": [
       "(6, 46, 173)"
      ]
     },
     "execution_count": 11,
     "metadata": {},
     "output_type": "execute_result"
    }
   ],
   "source": [
    "a, b, c"
   ]
  },
  {
   "cell_type": "code",
   "execution_count": 12,
   "id": "d05b667d-c4e2-4cbf-af08-220c11e49b1b",
   "metadata": {},
   "outputs": [
    {
     "data": {
      "text/plain": [
       "('0b110', '0o56', '0xad')"
      ]
     },
     "execution_count": 12,
     "metadata": {},
     "output_type": "execute_result"
    }
   ],
   "source": [
    "# 6, 46, 173을 다시 2진법, 8진법, 16진법으로 변환\n",
    "bin(a), oct(46), hex(173)"
   ]
  },
  {
   "cell_type": "code",
   "execution_count": 13,
   "id": "39976795-972f-4706-8f3d-d4d0d4f7c0f4",
   "metadata": {},
   "outputs": [
    {
     "data": {
      "text/plain": [
       "(6, 46, 173)"
      ]
     },
     "execution_count": 13,
     "metadata": {},
     "output_type": "execute_result"
    }
   ],
   "source": [
    "# 2진법, 8진법, 16진법을 INT로 변환\n",
    "# int('110', 2), int('56', 8), int('ad', 16) 도 같은 값 출력\n",
    "int('0b110', 2), int('0o56', 8), int('0xad', 16)"
   ]
  },
  {
   "cell_type": "markdown",
   "id": "239bbdf6-8914-40b0-b993-1013e3f6898e",
   "metadata": {
    "tags": []
   },
   "source": [
    "# 1.4 문자 자료형"
   ]
  },
  {
   "cell_type": "code",
   "execution_count": 8,
   "id": "9f3fd082-a133-4398-9a12-5c6813291416",
   "metadata": {},
   "outputs": [
    {
     "data": {
      "text/plain": [
       "'HELLO WORLD'"
      ]
     },
     "execution_count": 8,
     "metadata": {},
     "output_type": "execute_result"
    }
   ],
   "source": [
    "a.upper()"
   ]
  },
  {
   "cell_type": "code",
   "execution_count": 9,
   "id": "0b3af7be-11fd-48d1-afdc-77f8ad970544",
   "metadata": {},
   "outputs": [
    {
     "data": {
      "text/plain": [
       "'hello world'"
      ]
     },
     "execution_count": 9,
     "metadata": {},
     "output_type": "execute_result"
    }
   ],
   "source": [
    "a.lower()"
   ]
  },
  {
   "cell_type": "code",
   "execution_count": 10,
   "id": "175a5d4b-c404-4a07-a40f-2bc4ac50d438",
   "metadata": {},
   "outputs": [
    {
     "data": {
      "text/plain": [
       "False"
      ]
     },
     "execution_count": 10,
     "metadata": {},
     "output_type": "execute_result"
    }
   ],
   "source": [
    "a.islower() # 모두 소문자인가?"
   ]
  },
  {
   "cell_type": "code",
   "execution_count": 11,
   "id": "7ba0e876-ddff-4d69-83fb-ca27e48b3dd8",
   "metadata": {},
   "outputs": [
    {
     "data": {
      "text/plain": [
       "False"
      ]
     },
     "execution_count": 11,
     "metadata": {},
     "output_type": "execute_result"
    }
   ],
   "source": [
    "a.isupper() # 모두 대문자인가?"
   ]
  },
  {
   "cell_type": "code",
   "execution_count": 12,
   "id": "7391c5f1-0d48-4f65-9c05-471f14e39750",
   "metadata": {},
   "outputs": [
    {
     "data": {
      "text/plain": [
       "False"
      ]
     },
     "execution_count": 12,
     "metadata": {},
     "output_type": "execute_result"
    }
   ],
   "source": [
    "a.isdigit() # 숫자인가?"
   ]
  },
  {
   "cell_type": "code",
   "execution_count": 15,
   "id": "86c41af6-cd77-4cd6-aa94-94b277dccc17",
   "metadata": {},
   "outputs": [
    {
     "data": {
      "text/plain": [
       "False"
      ]
     },
     "execution_count": 15,
     "metadata": {},
     "output_type": "execute_result"
    }
   ],
   "source": [
    "a.isalpha() # 알파벳인가? / 문자열에 공백이 있으면 False"
   ]
  },
  {
   "cell_type": "markdown",
   "id": "96245940-a9c6-40c7-8b66-162adff14167",
   "metadata": {},
   "source": [
    "isalnum : 알파벳 or 숫자인지 판별"
   ]
  },
  {
   "cell_type": "code",
   "execution_count": 143,
   "id": "8b781342-d902-4075-8885-8680c5ceabf4",
   "metadata": {},
   "outputs": [
    {
     "name": "stdout",
     "output_type": "stream",
     "text": [
      "False\n",
      "True\n",
      "True\n",
      "True\n"
     ]
    }
   ],
   "source": [
    "print('hello world'.isalnum())\n",
    "print('hello'.isalnum())\n",
    "print('123hello'.isalnum())\n",
    "print('안녕하세요'.isalnum())"
   ]
  },
  {
   "cell_type": "code",
   "execution_count": 20,
   "id": "13a06d14-70ed-4f08-aefc-a47ba441eeb5",
   "metadata": {},
   "outputs": [
    {
     "data": {
      "text/plain": [
       "60"
      ]
     },
     "execution_count": 20,
     "metadata": {},
     "output_type": "execute_result"
    }
   ],
   "source": [
    "s = 0\n",
    "for i in '123abc7584739203lsdlfei123ndsdf':\n",
    "    if i.isdigit():\n",
    "        s = s + int(i)\n",
    "s"
   ]
  },
  {
   "cell_type": "markdown",
   "id": "9a3d0b75-f91a-469a-b3b4-2854e1deb800",
   "metadata": {},
   "source": [
    "**center** : 지정된 길이로 문자열을 만들고 가운데 정렬이 되도록 함, 공간을 채울 문자 지정 가능\n",
    "\n",
    "rjust : 오른쪽 정렬\n",
    "\n",
    "ljust : 왼쪽 정렬"
   ]
  },
  {
   "cell_type": "code",
   "execution_count": 34,
   "id": "375b2c98-6b59-4200-bf7f-1533e19e0de4",
   "metadata": {},
   "outputs": [
    {
     "name": "stdout",
     "output_type": "stream",
     "text": [
      " teahokim \n",
      "*teahokim*\n"
     ]
    }
   ],
   "source": [
    "print('hello world'.center(10))\n",
    "print('hello world'.center(10, '*'))"
   ]
  },
  {
   "cell_type": "markdown",
   "id": "4f4ac768-5239-4222-81a6-6066f34837e3",
   "metadata": {},
   "source": [
    "**index vs find**\n",
    "* 두 함수 모두 문자열 내에서 찾고자 하는 문자의 index 반환\n",
    "* index는 찾는 문자가 문자열에 없으면 error\n",
    "* find는 찾는 문자가 문자열에 없으면 -1 출력"
   ]
  },
  {
   "cell_type": "code",
   "execution_count": 35,
   "id": "0a2d8b37-9cab-401b-af9f-9f211b2b4884",
   "metadata": {},
   "outputs": [
    {
     "name": "stdout",
     "output_type": "stream",
     "text": [
      "3\n",
      "3\n"
     ]
    }
   ],
   "source": [
    "print('hello world'.index('h'))\n",
    "print('hello world'.find('h'))"
   ]
  },
  {
   "cell_type": "code",
   "execution_count": 37,
   "id": "a07aa320-eb7d-434b-b605-51c38b0374dd",
   "metadata": {},
   "outputs": [
    {
     "ename": "ValueError",
     "evalue": "substring not found",
     "output_type": "error",
     "traceback": [
      "\u001b[0;31m---------------------------------------------------------------------------\u001b[0m",
      "\u001b[0;31mValueError\u001b[0m                                Traceback (most recent call last)",
      "Input \u001b[0;32mIn [37]\u001b[0m, in \u001b[0;36m<cell line: 1>\u001b[0;34m()\u001b[0m\n\u001b[0;32m----> 1\u001b[0m \u001b[38;5;28mprint\u001b[39m(\u001b[38;5;124;43m'\u001b[39;49m\u001b[38;5;124;43mteahokim\u001b[39;49m\u001b[38;5;124;43m'\u001b[39;49m\u001b[38;5;241;43m.\u001b[39;49m\u001b[43mindex\u001b[49m\u001b[43m(\u001b[49m\u001b[38;5;124;43m'\u001b[39;49m\u001b[38;5;124;43mz\u001b[39;49m\u001b[38;5;124;43m'\u001b[39;49m\u001b[43m)\u001b[49m)\n",
      "\u001b[0;31mValueError\u001b[0m: substring not found"
     ]
    }
   ],
   "source": [
    "print('hello world'.index('z'))"
   ]
  },
  {
   "cell_type": "code",
   "execution_count": 38,
   "id": "c0b33107-0aab-4f8c-b2bf-c948b8abeaa0",
   "metadata": {},
   "outputs": [
    {
     "name": "stdout",
     "output_type": "stream",
     "text": [
      "-1\n"
     ]
    }
   ],
   "source": [
    "print('hello world'.find('z'))"
   ]
  },
  {
   "cell_type": "code",
   "execution_count": 47,
   "id": "14c90fb1-1bd2-4e96-ac1b-2948a3ea2473",
   "metadata": {},
   "outputs": [
    {
     "name": "stdout",
     "output_type": "stream",
     "text": [
      "9\n"
     ]
    }
   ],
   "source": [
    "print('hello world'.rfind('l'))"
   ]
  },
  {
   "cell_type": "markdown",
   "id": "ea15bd9c-54b1-4f5f-a1e9-b554def521e9",
   "metadata": {},
   "source": [
    "endswith('str') : 해당 문자열이 지정된 'str'로 끝나는지 반환 </br>\n",
    "일반적으로 '문자열'[-1] == 'str' 형태로 많이 사용"
   ]
  },
  {
   "cell_type": "markdown",
   "id": "52b9c921-efa4-4c99-a219-6196b3d6f568",
   "metadata": {},
   "source": [
    "**isnumeric vs isdigit**\n",
    "* isnumeric\n",
    "    * '수로 볼 수 있는 것'인 경우 True를 반환 (checks whether all the characters are numeric)\n",
    "* isdigit\n",
    "    * 만약 문자열이 모두 숫자이면 True, 공백이나 소숫점 등 문자가 있으면 False (checks whether the string contains only digits)\n",
    "    * (works with *superscript characters)\n",
    "    \n",
    "</br>\n",
    "½과 같은 수는 isdigit(), isdecimal()에서는 False지만 isnumeric()에서는 True\n",
    "</br>\n",
    "</br>\n",
    "referenced : https://datagy.io/python-isdigit/ / https://otugi.tistory.com/101"
   ]
  },
  {
   "cell_type": "code",
   "execution_count": 26,
   "id": "4086cbb7-cedd-44c7-a226-27d8babec298",
   "metadata": {},
   "outputs": [
    {
     "name": "stdout",
     "output_type": "stream",
     "text": [
      "True\n",
      "True\n",
      "False\n"
     ]
    }
   ],
   "source": [
    "a = '\\u00B2' # unicode\n",
    "\n",
    "print(a.isnumeric())\n",
    "print(a.isdigit())\n",
    "print(a.isdecimal())"
   ]
  },
  {
   "cell_type": "markdown",
   "id": "3e402656-efa7-4013-a20f-e85c34433365",
   "metadata": {},
   "source": [
    "1부터 10000까지 8의 갯수를 세어라"
   ]
  },
  {
   "cell_type": "code",
   "execution_count": 31,
   "id": "365cae56-2497-4c38-9391-69d94f1696cd",
   "metadata": {},
   "outputs": [
    {
     "data": {
      "text/plain": [
       "4000"
      ]
     },
     "execution_count": 31,
     "metadata": {},
     "output_type": "execute_result"
    }
   ],
   "source": [
    "str(list(range(10001))).count('8')"
   ]
  },
  {
   "cell_type": "markdown",
   "id": "b1e42230-e279-4a4d-b5f9-f30038cc792b",
   "metadata": {},
   "source": [
    "**join**\n",
    "* join하려면 string 형이어랴 한다"
   ]
  },
  {
   "cell_type": "code",
   "execution_count": 41,
   "id": "355728aa-c9af-4d43-bb76-767329ee0c72",
   "metadata": {},
   "outputs": [
    {
     "name": "stdout",
     "output_type": "stream",
     "text": [
      "hello world thkim\n",
      "hello-world-thkim\n",
      "hello!world!thkim\n"
     ]
    }
   ],
   "source": [
    "print(' '.join(['hello', 'world', 'thkim']))\n",
    "print('-'.join(['hello', 'world', 'thkim']))\n",
    "print('!'.join(['hello', 'world', 'thkim']))"
   ]
  },
  {
   "cell_type": "markdown",
   "id": "2e8b986d-d4e5-462f-b34c-90905758d90a",
   "metadata": {},
   "source": [
    "**strip** : 양쪽의 공백, 특정 문자 제거 / rstrip, lstrip이 있지만 주로 strip을 사용한다"
   ]
  },
  {
   "cell_type": "code",
   "execution_count": 89,
   "id": "1ae2d64c-c595-4e5e-a060-5b97db2a397b",
   "metadata": {},
   "outputs": [
    {
     "name": "stdout",
     "output_type": "stream",
     "text": [
      "hello world\n",
      "hello world\n"
     ]
    }
   ],
   "source": [
    "print('     hello world     '.strip())\n",
    "print('     hello world  ,! '.strip(' ,!'))"
   ]
  },
  {
   "cell_type": "markdown",
   "id": "8862406e-bf4f-4f62-844c-b35a1a2ed832",
   "metadata": {},
   "source": [
    "**zfill** : 지정한 문자열에 대해 지정한 자릿수에 비해 부족한 만큼 채움"
   ]
  },
  {
   "cell_type": "code",
   "execution_count": 49,
   "id": "ca5acc35-f6b2-45b5-a572-5c49b0722757",
   "metadata": {},
   "outputs": [
    {
     "data": {
      "text/plain": [
       "'0000000100'"
      ]
     },
     "execution_count": 49,
     "metadata": {},
     "output_type": "execute_result"
    }
   ],
   "source": [
    "'100'.zfill(10)"
   ]
  },
  {
   "cell_type": "markdown",
   "id": "e3c82733-17d7-4e87-86f7-f9a5617ba065",
   "metadata": {},
   "source": [
    "**split** : 문자열을 지정한 문자를 기준으로 잘라서 list로 반환\n",
    "* 정규표현식을 사용할 수 없음"
   ]
  },
  {
   "cell_type": "code",
   "execution_count": 50,
   "id": "0c1386d6-dff5-4e14-a200-909d1b9ff726",
   "metadata": {},
   "outputs": [
    {
     "data": {
      "text/plain": [
       "['010', '0000', '0000']"
      ]
     },
     "execution_count": 50,
     "metadata": {},
     "output_type": "execute_result"
    }
   ],
   "source": [
    "'010-0000-0000'.split('-')"
   ]
  },
  {
   "cell_type": "markdown",
   "id": "44c7650d-19e8-459f-bad3-c673dbce86c0",
   "metadata": {},
   "source": [
    "**replace** : 지정 문자를 변환\n",
    "* 메서드 체이닝 형식으로 많이 사용"
   ]
  },
  {
   "cell_type": "code",
   "execution_count": 51,
   "id": "f634091a-8fb5-4f6a-bcff-add7f3902a81",
   "metadata": {},
   "outputs": [
    {
     "data": {
      "text/plain": [
       "'payllab CTO leegildong'"
      ]
     },
     "execution_count": 51,
     "metadata": {},
     "output_type": "execute_result"
    }
   ],
   "source": [
    "'payllab CEO leehojun'.replace('CEO', 'CTO').replace('hojun', 'gildong')"
   ]
  },
  {
   "cell_type": "code",
   "execution_count": 52,
   "id": "4495eb2a-3fc0-404e-b77a-230e0ed906a5",
   "metadata": {},
   "outputs": [
    {
     "ename": "AttributeError",
     "evalue": "'list' object has no attribute 'zfill'",
     "output_type": "error",
     "traceback": [
      "\u001b[0;31m---------------------------------------------------------------------------\u001b[0m",
      "\u001b[0;31mAttributeError\u001b[0m                            Traceback (most recent call last)",
      "Input \u001b[0;32mIn [52]\u001b[0m, in \u001b[0;36m<cell line: 1>\u001b[0;34m()\u001b[0m\n\u001b[0;32m----> 1\u001b[0m \u001b[38;5;124;43m'\u001b[39;49m\u001b[38;5;124;43m010-0000-0000\u001b[39;49m\u001b[38;5;124;43m'\u001b[39;49m\u001b[38;5;241;43m.\u001b[39;49m\u001b[43msplit\u001b[49m\u001b[43m(\u001b[49m\u001b[38;5;124;43m'\u001b[39;49m\u001b[38;5;124;43m-\u001b[39;49m\u001b[38;5;124;43m'\u001b[39;49m\u001b[43m)\u001b[49m\u001b[38;5;241;43m.\u001b[39;49m\u001b[43mzfill\u001b[49m(\u001b[38;5;241m10\u001b[39m)\n",
      "\u001b[0;31mAttributeError\u001b[0m: 'list' object has no attribute 'zfill'"
     ]
    }
   ],
   "source": [
    "'010-0000-0000'.split('-').zfill(10) # error 앞에서 진행한 split이 list를 반환하기 때문에 zfill을 사용할 수 없습니다."
   ]
  },
  {
   "cell_type": "code",
   "execution_count": 54,
   "id": "ddd97749-625c-41b7-a528-78ce61599e4d",
   "metadata": {},
   "outputs": [
    {
     "data": {
      "text/plain": [
       "2"
      ]
     },
     "execution_count": 54,
     "metadata": {},
     "output_type": "execute_result"
    }
   ],
   "source": [
    "'010-0000-0000'.split('-').count('0000') # 반환된 list에서 '0000'을 찾기때문에 실행 가능합니다."
   ]
  },
  {
   "cell_type": "markdown",
   "id": "33624e1c-594a-449b-ac7c-e45896be8dc1",
   "metadata": {},
   "source": [
    "Q) 'hello'.count('') 가 왜 6이 출력될까?"
   ]
  },
  {
   "cell_type": "code",
   "execution_count": 65,
   "id": "04c38fe1-97d6-4a95-88f4-3f2425aa4032",
   "metadata": {},
   "outputs": [
    {
     "data": {
      "text/plain": [
       "6"
      ]
     },
     "execution_count": 65,
     "metadata": {},
     "output_type": "execute_result"
    }
   ],
   "source": [
    "'hello'.count('')"
   ]
  },
  {
   "cell_type": "code",
   "execution_count": 66,
   "id": "bf55b987-1d7d-4313-a791-cb39bb30ecec",
   "metadata": {},
   "outputs": [
    {
     "name": "stdout",
     "output_type": "stream",
     "text": [
      "0\n",
      "1\n"
     ]
    }
   ],
   "source": [
    "a = ''\n",
    "print(len(a))\n",
    "print(a.count(''))\n",
    "# ' t e s t ' => 빈 문자가 5번 카운팅"
   ]
  },
  {
   "cell_type": "code",
   "execution_count": 67,
   "id": "6c0d65de-32f6-430f-b5a9-60220d8a80c1",
   "metadata": {},
   "outputs": [
    {
     "name": "stdout",
     "output_type": "stream",
     "text": [
      "1\n",
      "2\n"
     ]
    }
   ],
   "source": [
    "a = 'a'\n",
    "print(len(a))\n",
    "print(a.count(''))\n",
    "# ' t e s t ' => 빈 문자가 5번 카운팅"
   ]
  },
  {
   "cell_type": "markdown",
   "id": "ed5d08fd-c100-46ba-af98-74a61883dfd5",
   "metadata": {},
   "source": [
    "A) 문자열 앞뒤와 사이의 빈공간(not blank)을 count한다</br>\n",
    "referenced : https://stackoverflow.com/questions/40192449/why-are-str-count-and-lenstr-giving-different-output"
   ]
  },
  {
   "cell_type": "markdown",
   "id": "2f600417-0f0d-477d-b7d6-f89cf4dc5139",
   "metadata": {},
   "source": [
    "translate : 규칙테이블, 어떤 규칙을 정해 데이터를 정렬한다"
   ]
  },
  {
   "cell_type": "code",
   "execution_count": 90,
   "id": "9269e360-82f5-451f-80ea-915e25bbd3f8",
   "metadata": {},
   "outputs": [
    {
     "data": {
      "text/plain": [
       "'pau11ab CEO 122hogun'"
      ]
     },
     "execution_count": 90,
     "metadata": {},
     "output_type": "execute_result"
    }
   ],
   "source": [
    "규칙테이블 = str.maketrans('le','12') #어떤 규칙을 정하는것, l은 1, e는 2로 변경\n",
    "'paullab CEO leehogun'.translate(규칙테이블)"
   ]
  },
  {
   "cell_type": "code",
   "execution_count": 144,
   "id": "449e41f7-5ecd-49ac-a671-b84dab0d01cc",
   "metadata": {},
   "outputs": [
    {
     "data": {
      "text/plain": [
       "'paullab  CEO  leehogun'"
      ]
     },
     "execution_count": 144,
     "metadata": {},
     "output_type": "execute_result"
    }
   ],
   "source": [
    "규칙테이블 = str.maketrans({'\\n':'', '\\t':''})\n",
    "'paullab \\n\\n\\n CEO \\t\\t\\t leehogun'.translate(규칙테이블)"
   ]
  },
  {
   "cell_type": "code",
   "execution_count": 145,
   "id": "fd56f5d0-9181-49b2-aa09-c7103a31813f",
   "metadata": {},
   "outputs": [
    {
     "data": {
      "text/plain": [
       "'paullab     CEO     leehogun'"
      ]
     },
     "execution_count": 145,
     "metadata": {},
     "output_type": "execute_result"
    }
   ],
   "source": [
    "규칙테이블 = str.maketrans('\\n\\t', '  ') # 똑같은 길이를 가지고 있어야 함 / 이스케이프문은 길이 1이라서 blank 2개 기입함\n",
    "'paullab \\n\\n\\n CEO \\t\\t\\t leehogun'.translate(규칙테이블)"
   ]
  },
  {
   "cell_type": "code",
   "execution_count": 146,
   "id": "7b813d9c-043e-49f0-bd1a-b4a7404f38af",
   "metadata": {},
   "outputs": [
    {
     "name": "stdout",
     "output_type": "stream",
     "text": [
      "hello world \n",
      " helo world1\n",
      "hello world \t helo world2\n",
      "hello world ' helo world3\n",
      "hello world \" helo world4\n",
      "hello world \\ helo world5\n"
     ]
    }
   ],
   "source": [
    "# 이스케이프 문자\n",
    "print('hello world \\n helo world1')\n",
    "print('hello world \\t helo world2')\n",
    "print('hello world \\' helo world3')\n",
    "print('hello world \\\" helo world4')\n",
    "print('hello world \\\\ helo world5')"
   ]
  },
  {
   "cell_type": "markdown",
   "id": "d0e0a782-7718-4945-816d-991fc692d194",
   "metadata": {},
   "source": [
    "Q) 암호 해독 문제!"
   ]
  },
  {
   "cell_type": "code",
   "execution_count": 58,
   "id": "89c15cd9-24e6-4800-bef9-df1774387146",
   "metadata": {},
   "outputs": [
    {
     "name": "stdout",
     "output_type": "stream",
     "text": [
      "+ +-+ -+-\n",
      "++ -- +-+  \n",
      "++-+ -+ -  \n",
      "+ ++-+ -+  \n"
     ]
    },
    {
     "data": {
      "text/plain": [
       "'+ +-+ -+-'"
      ]
     },
     "execution_count": 58,
     "metadata": {},
     "output_type": "execute_result"
    }
   ],
   "source": [
    "암호 = '''+ +-+ -+-\n",
    "++ -- +-+  \n",
    "++-+ -+ -  \n",
    "+ ++-+ -+  ''' \n",
    "\n",
    "print(암호)\n",
    "암호.split('\\n')[0]"
   ]
  },
  {
   "cell_type": "code",
   "execution_count": 59,
   "id": "9af35b18-61ff-4b9c-95c9-5aaaf2d80f0b",
   "metadata": {},
   "outputs": [
    {
     "data": {
      "text/plain": [
       "106"
      ]
     },
     "execution_count": 59,
     "metadata": {},
     "output_type": "execute_result"
    }
   ],
   "source": [
    "# 지금 이 코드에서는 strip을 할 이유가 없지만 앞 뒤 공백만 제거해야 할 때가 있습니다\n",
    "이진수 = 암호.split('\\n')[0].strip().replace(' ', '').replace('+', '1').replace('-', '0')\n",
    "int(이진수, 2)"
   ]
  },
  {
   "cell_type": "code",
   "execution_count": 60,
   "id": "3f517e1c-e9b3-4123-8c8b-356378921fbf",
   "metadata": {},
   "outputs": [
    {
     "data": {
      "text/plain": [
       "106"
      ]
     },
     "execution_count": 60,
     "metadata": {},
     "output_type": "execute_result"
    }
   ],
   "source": [
    "chr(106) # 유니코드표에서 숫자로 문자 출력\n",
    "ord('j') # 유니코드표에서 문자를 숫자로 출력"
   ]
  },
  {
   "cell_type": "code",
   "execution_count": 64,
   "id": "1388c451-4cbd-4335-b6cd-21040e1e896f",
   "metadata": {},
   "outputs": [
    {
     "data": {
      "text/plain": [
       "'jeju'"
      ]
     },
     "execution_count": 64,
     "metadata": {},
     "output_type": "execute_result"
    }
   ],
   "source": [
    "result = ''\n",
    "for i in 암호.split('\\n'):\n",
    "    이진수 = i.strip().replace(' ', '').replace('+', '1').replace('-', '0')\n",
    "    해독 = chr(int(이진수, 2))\n",
    "    result += 해독\n",
    "    \n",
    "result"
   ]
  },
  {
   "cell_type": "markdown",
   "id": "8b06d7ae-32c4-46ab-8022-0f9e6ed6f65c",
   "metadata": {},
   "source": [
    "# 1.5 문자열의 활용"
   ]
  },
  {
   "cell_type": "markdown",
   "id": "8d43e260-6945-46f7-b040-fdc903083ef2",
   "metadata": {},
   "source": [
    "## 문자열 슬라이싱"
   ]
  },
  {
   "cell_type": "code",
   "execution_count": 100,
   "id": "6706ebd4-5f2a-4aa5-8e2a-cb1a7a9cfb54",
   "metadata": {},
   "outputs": [
    {
     "data": {
      "text/plain": [
       "'...게가선생 는있 고살 에곽외 드월 브니위'"
      ]
     },
     "execution_count": 100,
     "metadata": {},
     "output_type": "execute_result"
    }
   ],
   "source": [
    "s = '위니브 월드 외곽에 살고 있는 생선가게...'\n",
    "# s[start:stop:step]\n",
    "s[0:6]\n",
    "s[s.find('외곽'):s.find('외곽')+2]\n",
    "s[:-5]\n",
    "s[:-1] # 마지막 글자만 제거, 많이 쓰임\n",
    "s[-7:-1]\n",
    "s[::-1] # 역순으로 정렬"
   ]
  },
  {
   "cell_type": "markdown",
   "id": "81fe82ee-155f-4905-9af4-0333038d2dba",
   "metadata": {},
   "source": [
    "## 문자열의 사칙연산"
   ]
  },
  {
   "cell_type": "code",
   "execution_count": 102,
   "id": "47c814ba-ef03-44f7-a14c-65c9c2cc8b00",
   "metadata": {},
   "outputs": [
    {
     "name": "stdout",
     "output_type": "stream",
     "text": [
      "leehojunleehojun\n",
      "\n",
      "\n",
      "leehojunleehojunleehojun\n"
     ]
    }
   ],
   "source": [
    "s = 'leehojun'\n",
    "\n",
    "print(s+s)\n",
    "print('\\n')\n",
    "print(s*3)\n",
    "# s/s  error\n",
    "# s//s error\n",
    "# s-s  error"
   ]
  },
  {
   "cell_type": "markdown",
   "id": "3d8ea3bf-b6fc-4872-8812-ab73eca40895",
   "metadata": {},
   "source": [
    "# 1.6 형변환\n",
    "\n",
    "**기존의 자료형에서 다른 자료형으로 바꾸는 것을 형변환이라고 합니다**"
   ]
  },
  {
   "cell_type": "code",
   "execution_count": 113,
   "id": "f053c006-1bc8-48dd-924c-b3e762b4c573",
   "metadata": {},
   "outputs": [
    {
     "name": "stdout",
     "output_type": "stream",
     "text": [
      "<class '__main__.int'>\n",
      "3\n",
      "<class 'float'>\n",
      "3.0\n",
      "<class 'str'>\n",
      "3\n"
     ]
    }
   ],
   "source": [
    "print(type(int(3.5)))\n",
    "print(int(3.5))\n",
    "print(type(float(3)))\n",
    "print(float(3))\n",
    "print(type(str(3)))\n",
    "print(str(3))"
   ]
  },
  {
   "cell_type": "markdown",
   "id": "62bf01a5-a1d6-4309-a158-8f83e7cb8593",
   "metadata": {},
   "source": [
    "**str -> int 형변환**"
   ]
  },
  {
   "cell_type": "code",
   "execution_count": 120,
   "id": "32c5f8d8-df66-4566-ba95-272fbacd9075",
   "metadata": {},
   "outputs": [
    {
     "name": "stdin",
     "output_type": "stream",
     "text": [
      "Insert the number. 1\n",
      "Insert the number. 2\n"
     ]
    },
    {
     "name": "stdout",
     "output_type": "stream",
     "text": [
      "12\n",
      "<class 'str'>\n",
      "<class 'str'>\n"
     ]
    }
   ],
   "source": [
    "x = input('Insert the number.')\n",
    "y = input('Insert the number.')\n",
    "print(x + y)\n",
    "print(type(x))\n",
    "print(type(y))"
   ]
  },
  {
   "cell_type": "code",
   "execution_count": 121,
   "id": "54fa6ee8-2a00-4927-abc2-f578bf911923",
   "metadata": {},
   "outputs": [
    {
     "name": "stdin",
     "output_type": "stream",
     "text": [
      "Insert the number. 4\n",
      "Insert the number. 5\n"
     ]
    },
    {
     "name": "stdout",
     "output_type": "stream",
     "text": [
      "20\n",
      "<class '__main__.int'>\n",
      "<class '__main__.int'>\n"
     ]
    }
   ],
   "source": [
    "x = int(input('Insert the number.'))\n",
    "y = int(input('Insert the number.'))\n",
    "print(x * y)\n",
    "print(type(x))\n",
    "print(type(y))"
   ]
  },
  {
   "cell_type": "markdown",
   "id": "3a0fceff-1236-4b94-9d16-54ea36f35e95",
   "metadata": {},
   "source": [
    "**int -> str 형변환**"
   ]
  },
  {
   "cell_type": "code",
   "execution_count": 122,
   "id": "f66f58e2-d283-40d9-be44-1e3abc6e4b97",
   "metadata": {},
   "outputs": [
    {
     "name": "stdout",
     "output_type": "stream",
     "text": [
      "<class 'int'>\n",
      "<class 'str'>\n"
     ]
    }
   ],
   "source": [
    "string = 123\n",
    "print(type(string))\n",
    "print(type(str(string)))"
   ]
  },
  {
   "cell_type": "markdown",
   "id": "e97a4c1e-ad2e-4c87-a66b-3a9e15ff3e56",
   "metadata": {},
   "source": [
    "**Boolean으로 형변환**"
   ]
  },
  {
   "cell_type": "code",
   "execution_count": 123,
   "id": "618a702b-d9cf-4fdb-9adc-8d1ab71dd0b5",
   "metadata": {},
   "outputs": [
    {
     "name": "stdout",
     "output_type": "stream",
     "text": [
      "bool('test') :  True\n",
      "bool(1) :  True\n",
      "bool(0) :  False\n",
      "bool(-1) :  True\n",
      "bool(' ') :  True\n",
      "bool('') :  False\n",
      "bool(None) :  False\n"
     ]
    }
   ],
   "source": [
    "print(\"bool('test') : \", bool('test'))\n",
    "print(\"bool(1) : \", bool(1))\n",
    "print(\"bool(0) : \", bool(0))\n",
    "print(\"bool(-1) : \", bool(-1))\n",
    "print(\"bool(' ') : \", bool(' '))\n",
    "print(\"bool('') : \", bool(''))\n",
    "print(\"bool(None) : \", bool(None))"
   ]
  },
  {
   "cell_type": "markdown",
   "id": "a6db18c3-46f9-4c17-8926-f812f66e4eca",
   "metadata": {},
   "source": [
    "**List로 형변환**"
   ]
  },
  {
   "cell_type": "code",
   "execution_count": 125,
   "id": "5a69a2bc-4da4-4275-ade8-6fd654770b17",
   "metadata": {},
   "outputs": [
    {
     "name": "stdout",
     "output_type": "stream",
     "text": [
      "['1', '0']\n",
      "['l', 'e', 'e', 'h', 'o', 'j', 'u', 'n']\n"
     ]
    }
   ],
   "source": [
    "s='10'\n",
    "l=list(s)\n",
    "print(l)\n",
    "\n",
    "name='leehojun'\n",
    "print(list(name))"
   ]
  },
  {
   "cell_type": "markdown",
   "id": "6c421890-511f-414a-b713-89a617b4c9a4",
   "metadata": {},
   "source": [
    "**tuple로 형변환**"
   ]
  },
  {
   "cell_type": "code",
   "execution_count": 126,
   "id": "3eedda41-ba06-46bd-8826-8d853fca9bd6",
   "metadata": {},
   "outputs": [
    {
     "data": {
      "text/plain": [
       "('l', 'e', 'e', 'h', 'o', 'j', 'u', 'n')"
      ]
     },
     "execution_count": 126,
     "metadata": {},
     "output_type": "execute_result"
    }
   ],
   "source": [
    "name='leehojun'\n",
    "tuple(name)"
   ]
  },
  {
   "cell_type": "markdown",
   "id": "50bc5848-cef8-40ee-94fd-f99d1ef77ed3",
   "metadata": {},
   "source": [
    "**Dict로 형변환**"
   ]
  },
  {
   "cell_type": "code",
   "execution_count": 128,
   "id": "c8f5366f-4755-4462-83bb-0b89da489f67",
   "metadata": {},
   "outputs": [
    {
     "data": {
      "text/plain": [
       "{'name': 'leehojun', 'age': 10}"
      ]
     },
     "execution_count": 128,
     "metadata": {},
     "output_type": "execute_result"
    }
   ],
   "source": [
    "# Dict형으로 형변환하려면 키와 value가 있어야 합니다\n",
    "# name='leehojun'\n",
    "# dict(name)\n",
    "\n",
    "s=[('name','leehojun'),('age',10)]\n",
    "d=dict(s)\n",
    "d"
   ]
  },
  {
   "cell_type": "markdown",
   "id": "90166c9f-8ab4-41f1-9fdf-efc7681ae420",
   "metadata": {},
   "source": [
    "**set로 형변환**\n",
    "\n",
    "**set은 중복을 제거 할 때 많이 사용됩니다**"
   ]
  },
  {
   "cell_type": "code",
   "execution_count": 130,
   "id": "39d1494d-07a4-4cb2-a509-b0f462344016",
   "metadata": {},
   "outputs": [
    {
     "name": "stdout",
     "output_type": "stream",
     "text": [
      "{'u', 'l', 'h', 'o', 'n', 'j', 'e'}\n",
      "7\n",
      "8\n"
     ]
    }
   ],
   "source": [
    "name='leehojun'\n",
    "print(set(name)) #중복을 허락하지 않고 순서가 없습니다.\n",
    "print(len(set(name))) #중복을 제거한 상태로의 길이를 알려줍니다.\n",
    "print(len(name))"
   ]
  },
  {
   "cell_type": "code",
   "execution_count": 105,
   "id": "7c54fafb-c4fd-4df7-914e-f6d2f8123341",
   "metadata": {},
   "outputs": [
    {
     "data": {
      "text/plain": [
       "[1, 2, 3, 4, 5, 6, 7, 8, 9]"
      ]
     },
     "execution_count": 105,
     "metadata": {},
     "output_type": "execute_result"
    }
   ],
   "source": [
    "sum([10, 20, 30, 40], 0) # 0 -> 초기값\n",
    "sum([10, 20, 30, 40], 100)\n",
    "sum(([1, 2, 3], [4, 5, 6], [7, 8, 9]), [])"
   ]
  }
 ],
 "metadata": {
  "kernelspec": {
   "display_name": "Python 3 (ipykernel)",
   "language": "python",
   "name": "python3"
  },
  "language_info": {
   "codemirror_mode": {
    "name": "ipython",
    "version": 3
   },
   "file_extension": ".py",
   "mimetype": "text/x-python",
   "name": "python",
   "nbconvert_exporter": "python",
   "pygments_lexer": "ipython3",
   "version": "3.8.12"
  }
 },
 "nbformat": 4,
 "nbformat_minor": 5
}
