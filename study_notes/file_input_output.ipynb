{
 "cells": [
  {
   "cell_type": "markdown",
   "id": "b20495ee-34e6-4620-a25d-44c2aa20f1e5",
   "metadata": {},
   "source": [
    "# 파일이란\n",
    "\n",
    "- 컴퓨터를 실행할때 가장 기본이 되는 단위\n",
    "- 데이터분석에서 주로 사용하는 파일은 csv, Excel, txt, py"
   ]
  },
  {
   "cell_type": "markdown",
   "id": "16e3f343-7239-4702-8a41-4fac77d778a0",
   "metadata": {},
   "source": [
    "## open\n",
    "```python\n",
    "f = open(\"파일명\" , \"파일 열기 모드\")\n",
    "f.close()\n",
    "```\n",
    "\n",
    "- 파일 여는 모드는 읽기, 쓰기, 추가 등등이 있음\n",
    "- 읽기: r / 쓰기: w / 추가: a"
   ]
  },
  {
   "cell_type": "code",
   "execution_count": null,
   "id": "5f63cefa-721f-4f9e-8091-63a789d21c4e",
   "metadata": {},
   "outputs": [],
   "source": [
    "f = open('./sample_data/song_new.txt', 'w')"
   ]
  },
  {
   "cell_type": "code",
   "execution_count": null,
   "id": "0c03e04a-56e8-4a52-9593-e039f8b81b02",
   "metadata": {},
   "outputs": [],
   "source": [
    "f.write('''\n",
    "이윽고 내가 한눈에 너를 알아봤을 때\n",
    "모든 건 분명 달라지고 있었어\n",
    "내 세상은 널 알기 전과 후로 나뉘어\n",
    "니가 숨 쉬면 따스한 바람이 불어와\n",
    "니가 웃으면 눈부신 햇살이 비춰\n",
    "거기 있어줘서 그게 너라서\n",
    "가끔 내 어깨에 가만히 기대주어서\n",
    "나는 있잖아 정말 빈틈없이 행복해\n",
    "너를 따라서 시간은 흐르고 멈춰\n",
    "물끄러미 너를 들여다 보곤 해\n",
    "그것 말고는 아무것도 할 수 없어서\n",
    "너의 모든 순간 그게 나였으면 좋겠다\n",
    "생각만 해도 가슴이 차올라 나는 온통 너로\n",
    "보고 있으면 왠지 꿈처럼 아득한 것\n",
    "몇 광년 동안 날 향해 날아온 별빛 또 지금의 너\n",
    "*거기 있어줘서 그게 너라서\n",
    "가끔 나에게 조용하게 안겨주어서\n",
    "나는 있잖아 정말 남김없이 고마워\n",
    "너를 따라서 시간은 흐르고 멈춰\n",
    "물끄러미 너를 들여다보곤 해\n",
    "너를 보는 게 나에게는 사랑이니까\n",
    "너의 모든 순간 그게 나였으면 좋겠다...\n",
    "''')"
   ]
  },
  {
   "cell_type": "code",
   "execution_count": null,
   "id": "b611aea0-d7ee-40d8-82b4-f709c2007355",
   "metadata": {},
   "outputs": [],
   "source": [
    "f.close()"
   ]
  },
  {
   "cell_type": "code",
   "execution_count": null,
   "id": "7bf99f1f-b303-4ed2-9650-d39ba4cb6ef5",
   "metadata": {},
   "outputs": [],
   "source": [
    "f = open('./sample_data/song_new.txt', 'r')\n",
    "contents = f.read()\n",
    "print(contents)\n",
    "f.close()"
   ]
  },
  {
   "cell_type": "markdown",
   "id": "2160a6dd-459b-46ef-b990-310766865c52",
   "metadata": {},
   "source": [
    "## with\n",
    "\n",
    "with를 활용해서 open()함수를 대체할 수 있다 (close()문을 안쓰는 편리함)"
   ]
  },
  {
   "cell_type": "code",
   "execution_count": null,
   "id": "adbde19e-059b-4a48-a897-2236d1798642",
   "metadata": {},
   "outputs": [],
   "source": [
    "with open('./sample_data/song.txt', 'r') as my_song_list:\n",
    "    content = my_song_list.read()\n",
    "    print(content)"
   ]
  },
  {
   "cell_type": "markdown",
   "id": "952762d3-7f7b-46d8-9ee5-d9d79d3693b2",
   "metadata": {},
   "source": [
    "## readlines\n",
    "\n",
    "한 줄 단위로 읽어오는 방법\n",
    "\n",
    "한줄의 기준은 '\\n'"
   ]
  },
  {
   "cell_type": "code",
   "execution_count": null,
   "id": "05898874-bba0-46c5-a27c-fc90ddffc66a",
   "metadata": {},
   "outputs": [],
   "source": [
    "with open('./sample_data/song.txt', 'r') as my_song_list:\n",
    "    content_list = my_song_list.readlines()\n",
    "    print(content_list)"
   ]
  },
  {
   "cell_type": "code",
   "execution_count": null,
   "id": "8c716981-8b65-4691-b660-5d3903e627a8",
   "metadata": {},
   "outputs": [],
   "source": [
    "song_list_new = []\n",
    "\n",
    "with open('./sample_data/song.txt', 'r') as my_song_list:\n",
    "    i = 0\n",
    "    while True:\n",
    "        line = my_song_list.readline()\n",
    "        if not line:\n",
    "            break\n",
    "        song_list_new.append(line.replace(\"\\n\", \"\"))\n",
    "        i = i + 1\n",
    "        \n",
    "print(song_list_new)"
   ]
  },
  {
   "cell_type": "code",
   "execution_count": null,
   "id": "53cd4e0a-6b91-4899-8882-88611f106c26",
   "metadata": {},
   "outputs": [],
   "source": [
    "with open('./sample_data/song.txt','r') as my_song_list:\n",
    "    contents = my_song_list.read()\n",
    "    word_list = contents.split(\" \")\n",
    "    line_list = contents.split(\"\\n\")\n",
    "\n",
    "print(f\"총 글자수는 {len(contents)}입니다.\")\n",
    "print(f\"총 단어수는 {len(word_list)}입니다.\")\n",
    "print(f\"총 줄수는 {len(line_list)}입니다.\")"
   ]
  },
  {
   "cell_type": "markdown",
   "id": "1e5248b7-6396-4558-a041-6f47d60619d7",
   "metadata": {},
   "source": [
    "## 파일 인코딩\n",
    "\n",
    "**인코딩 종류**\n",
    "- utf-8\n",
    "- cp939\n",
    "- euc-kr\n",
    "\n",
    "```python\n",
    "f = open(파일명, 파일 열기모드, encoding = 인코딩 종류)\n",
    "```"
   ]
  },
  {
   "cell_type": "code",
   "execution_count": null,
   "id": "40353807-9a91-4f59-a1be-2123d5e44cd6",
   "metadata": {},
   "outputs": [],
   "source": [
    "f = open(\"./sample_data/count_list.txt\", 'w', encoding = 'utf8')\n",
    "\n",
    "for i in range(1, 11):\n",
    "    data = f'{i}번째입니다.'\n",
    "    f.write(data)\n",
    "f.close()\n",
    "\n",
    "#----------------------------------------------------\n",
    "\n",
    "with open('./sample_data/count_list_new.txt', 'w', encoding = 'utf8') as f:\n",
    "    for i in range(1,11):\n",
    "        data = f'{i}번째입니다.'\n",
    "        f.write(data)"
   ]
  },
  {
   "cell_type": "markdown",
   "id": "01d771df-9df3-44ae-a9c0-2f7b77a4d620",
   "metadata": {},
   "source": [
    "## pickle 모듈\n",
    "\n",
    "파이썬 프로그램을 실행할떄마다 변수와 객체를 메모리에 저장하고, 커널을 껐다가 키면 모두 휘발된다\n",
    "\n",
    "pickle 모듈은 로딩된 객체들을 연속적으로 사용할 수 있도록 데이터, 클래스 , 함수, 프로그램을 원본 그대로 저장하는 기능을 제공한다</br>\n",
    "(ex. csv파일의 경우 어떠한 작업을 수행하고 저장했을때 데이터 형태가 변경되는 등의 상황이 발생하기도 한다)\n",
    ">데이터프레임을 CSV로 저장할 때 가장 큰 문제는 데이터 형식이 손실될 수 있다는 것이다</br>\n",
    "CSV는 일반적으로 텍스트 파일로 저장되며, 이러한 형식은 데이터의 정확성과 구조를 보장하지 않는다</br>\n",
    "예를 들어, CSV 파일에는 데이터 유형, NA 값 및 인덱스 정보가 포함되지 않는다</br>\n",
    "데이터를 다시 로드할 때, 이러한 정보가 손실될 수 있으며, 결과적으로 데이터의 정확성이나 구조에 영향을 미칠 수 있다\n",
    "\n",
    "위에서 txt파일의 열기모드는 w / r / a 등이었는데,</br>\n",
    "pickle 모듈의 열기모드는 rb / wb (b: binary)이다"
   ]
  },
  {
   "cell_type": "code",
   "execution_count": 1,
   "id": "25eb5910-7cc1-49a8-aacd-8eaa18f6bbdd",
   "metadata": {},
   "outputs": [],
   "source": [
    "import pickle"
   ]
  },
  {
   "cell_type": "code",
   "execution_count": 2,
   "id": "bd27568c-973f-4cb3-8c4c-a9df94e6669a",
   "metadata": {},
   "outputs": [],
   "source": [
    "f = open('./sample_data/list.pickle', 'wb')\n",
    "test = [1, 2, 3, 4, 5]\n",
    "pickle.dump(test, f)\n",
    "f.close()"
   ]
  },
  {
   "cell_type": "code",
   "execution_count": 15,
   "id": "33fbf43e-e7f8-4420-9466-cfe5177e8858",
   "metadata": {},
   "outputs": [
    {
     "name": "stdout",
     "output_type": "stream",
     "text": [
      "[1, 2, 3, 4, 5]\n"
     ]
    }
   ],
   "source": [
    "f = open('./sample_data/list.pickle', 'rb')\n",
    "test_pickle = pickle.load(f)\n",
    "print(test_pickle)"
   ]
  },
  {
   "cell_type": "code",
   "execution_count": 4,
   "id": "d1c78252-040f-4961-b8e3-43fd98e51e09",
   "metadata": {},
   "outputs": [
    {
     "data": {
      "text/plain": [
       "50"
      ]
     },
     "execution_count": 4,
     "metadata": {},
     "output_type": "execute_result"
    }
   ],
   "source": [
    "class Multiply(object):\n",
    "    def __init__(self, multi):\n",
    "        self.multi = multi\n",
    "    def multiply(self, number):\n",
    "        return number * self.multi\n",
    "    \n",
    "multi_test = Multiply(5)\n",
    "multi_test.multiply(10)"
   ]
  },
  {
   "cell_type": "code",
   "execution_count": 5,
   "id": "cf1aa4ee-fa83-4a34-b6e1-359b2dc7e4ff",
   "metadata": {},
   "outputs": [],
   "source": [
    "f = open('./sample_data/multiply_object.pickle', 'wb')\n",
    "pickle.dump(multi_test, f)\n",
    "f.close()"
   ]
  },
  {
   "cell_type": "code",
   "execution_count": 14,
   "id": "de257b1f-c836-4384-954e-b028ebb3bc01",
   "metadata": {},
   "outputs": [],
   "source": [
    "f = open('./sample_data/multiply_object.pickle', 'rb')\n",
    "multi_test_pickle = pickle.load(f)\n",
    "\n",
    "multi_test_pickle.multiply(10)"
   ]
  },
  {
   "cell_type": "markdown",
   "id": "18ec11fc-9b19-4eba-b0af-b14679db412f",
   "metadata": {},
   "source": [
    "## csv\n",
    "\n",
    "- comma(,)로 구분해서 텍스트 형태로 저장하는 파일 저장 형식\n",
    "- xlsx형식보다 용량이 적고, 전처리하기 편하다"
   ]
  },
  {
   "cell_type": "code",
   "execution_count": 7,
   "id": "169aee4c-9403-4a5e-9f5f-ba2f599535ca",
   "metadata": {},
   "outputs": [],
   "source": [
    "import csv\n",
    "import os"
   ]
  },
  {
   "cell_type": "code",
   "execution_count": 9,
   "id": "ee847e37-41cf-4b06-8be5-eed969bb8ad2",
   "metadata": {},
   "outputs": [
    {
     "data": {
      "text/plain": [
       "'/Users/thkim/Documents/likelion/study_notes'"
      ]
     },
     "execution_count": 9,
     "metadata": {},
     "output_type": "execute_result"
    }
   ],
   "source": [
    "os.getcwd() # 현재 working directory 출력"
   ]
  },
  {
   "cell_type": "code",
   "execution_count": null,
   "id": "142706bc-ee42-429f-8b85-9ad060848ef4",
   "metadata": {},
   "outputs": [],
   "source": [
    "# os.chdir() # working directory 변경"
   ]
  },
  {
   "cell_type": "code",
   "execution_count": 17,
   "id": "9574aef9-1d6e-417c-afc9-5404406286d2",
   "metadata": {},
   "outputs": [],
   "source": [
    "f = open('./sample_data/test.csv', 'r', encoding = 'utf-8')"
   ]
  },
  {
   "cell_type": "code",
   "execution_count": 18,
   "id": "76ad4bf4-d788-41ec-8c2c-a6ffcef51680",
   "metadata": {},
   "outputs": [
    {
     "data": {
      "text/plain": [
       "<_csv.reader at 0x106c9b890>"
      ]
     },
     "execution_count": 18,
     "metadata": {},
     "output_type": "execute_result"
    }
   ],
   "source": [
    "new = csv.reader(f)\n",
    "new"
   ]
  },
  {
   "cell_type": "code",
   "execution_count": 21,
   "id": "54fa757c-c560-422b-b604-6ce2ec5a4eb9",
   "metadata": {},
   "outputs": [
    {
     "name": "stdout",
     "output_type": "stream",
     "text": [
      "[]\n"
     ]
    }
   ],
   "source": [
    "a_list = []\n",
    "for i in new:\n",
    "    print(i)\n",
    "    a_list.append(i)\n",
    "print(a_list)"
   ]
  },
  {
   "cell_type": "code",
   "execution_count": 22,
   "id": "645d303b-fc4c-40bc-87c5-bacb9a7ed301",
   "metadata": {},
   "outputs": [],
   "source": [
    "def opencsv(filename):\n",
    "    f = open(filename, 'r')\n",
    "    reader = csv.reader(f)\n",
    "    output = []\n",
    "    for i in reader:\n",
    "        output.append(i)\n",
    "    return output"
   ]
  },
  {
   "cell_type": "code",
   "execution_count": 24,
   "id": "d6546f4e-8bf6-4778-b0ab-4d2a6bf9ac4c",
   "metadata": {},
   "outputs": [
    {
     "data": {
      "text/plain": [
       "[['국어', '영어', '수학', '', '', '', ''], ['50', '80', '90', '', '', '', '']]"
      ]
     },
     "execution_count": 24,
     "metadata": {},
     "output_type": "execute_result"
    }
   ],
   "source": [
    "opencsv('./sample_data/test.csv')"
   ]
  },
  {
   "cell_type": "code",
   "execution_count": 25,
   "id": "1a9d9928-a777-485f-9758-1eee0db69ee9",
   "metadata": {},
   "outputs": [],
   "source": [
    "a = [['구', '전체', '내국인', '외국인'], \n",
    "     ['관악구','519864','502089','17775'], \n",
    "     ['강남구','547602','542498','5104'], \n",
    "     ['송파구','686181', '679247', '6934'], \n",
    "     ['강동구','428547','424235','4312']]"
   ]
  },
  {
   "cell_type": "markdown",
   "id": "119e4849-0bb5-45ef-9035-53c6f962d8f1",
   "metadata": {},
   "source": [
    "로드해야 할 데이터가 많을 경우, 함수화하는 것이 좋다"
   ]
  },
  {
   "cell_type": "code",
   "execution_count": null,
   "id": "68d0d716-489a-437d-85ea-3c5d16f5996a",
   "metadata": {},
   "outputs": [],
   "source": [
    "f = open('./sample_data/abc.csv', 'w', newline = '')\n",
    "new_csv = csv.writer(f, delimiter = ',')\n",
    "new_csv.writerows(a) #a자료를 csv파일에 넣기\n",
    "f.close()\n",
    "\n",
    "#---------------------------------------------------\n",
    "\n",
    "def writecsv(filename, list):\n",
    "    with open(filename, 'w', newline = '') as f:\n",
    "        a = csv.writer(f, delimiter = ',')\n",
    "        a.writerows(list)\n",
    "        \n",
    "writecsv('./sample_data/new_abc.csv', a)"
   ]
  }
 ],
 "metadata": {
  "kernelspec": {
   "display_name": "Python 3 (ipykernel)",
   "language": "python",
   "name": "python3"
  },
  "language_info": {
   "codemirror_mode": {
    "name": "ipython",
    "version": 3
   },
   "file_extension": ".py",
   "mimetype": "text/x-python",
   "name": "python",
   "nbconvert_exporter": "python",
   "pygments_lexer": "ipython3",
   "version": "3.8.12"
  }
 },
 "nbformat": 4,
 "nbformat_minor": 5
}
