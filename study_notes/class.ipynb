{
 "cells": [
  {
   "cell_type": "markdown",
   "id": "b29ae521-296e-40ea-b69c-6f477b75ca7e",
   "metadata": {
    "tags": []
   },
   "source": [
    "# 클래스"
   ]
  },
  {
   "cell_type": "markdown",
   "id": "ad343ec8-7470-4d6e-90bf-e62e283d240c",
   "metadata": {
    "tags": []
   },
   "source": [
    "## 객체와 클래스의 정의\n",
    "\n",
    "파이썬에서 무엇이 객체일까?</br>\n",
    "***모든 것이 최초의 빌트인 클래스로부터 상속받은 객체이다***\n",
    "\n",
    "파이썬에 클래스를 생성하지 않고 코드를 작성하는 것은</br>\n",
    "'최초의 클래스'의 판 안에서 코드를 작성하는 것. 즉, 이미 공유하고있던 관념이나 개념을 그대로 상속하여 사용한다는 것이다\n",
    "\n",
    "[객체]</br>\n",
    "속성(attributes)과 행동(behavior)이 정의된 모든 데이터\n",
    "\n",
    "자동차를 예로 들면\n",
    "\n",
    "**속성**은 승차인원, 색상, 전폭 등</br>\n",
    "**행동**은 전진, 후진 등이 있다\n",
    "\n",
    "자동차의 속성과 행동을 하나로 묶은 데이터를 자동차의 객체라고 할 수 있다\n",
    "\n",
    "[클래스]</br>\n",
    "클래스는 객체의 구조와 행동을 정의한 것으로, 간단하게 설명하면 변수와 함수를 모아놓은 것이다</br>\n",
    "즉, 객체의 속성과 행동을 변수와 함수(메서드)로 정의한 것이다"
   ]
  },
  {
   "cell_type": "markdown",
   "id": "ce839b24-55f6-4967-9b56-04d36d70996b",
   "metadata": {},
   "source": [
    "## 왜 클래스 같은 객체지향 프로그래밍이 필요할까?\n",
    "\n",
    "- 코드의 재사용성\n",
    "    - 클래스와 객체를 사용하여 \\\"***코드를 모듈화하고 캡슐화***\\\"할 수 있으므로 코드를 재사용하기 쉽다\n",
    "    - \\\"***개발 시간을 단축***\\\"하고 코드의 유지보수성을 향상시키는 데 도움이 된다\n",
    "\n",
    "- 코드의 유지보수성\n",
    "    - 클래스와 객체를 사용하여 코드를 모듈화하면 \\\"***코드를 이해하고 수정하기 쉬워진다***\\\"\n",
    "    - 캡슐화를 통해 \\\"***코드를 수정할 때 발생할 수 있는 부작용을 최소화***\\\"할 수 있다\n",
    "\n",
    "- 코드의 가독성\n",
    "    - 객체지향 프로그래밍에서 \\\"***코드는 객체의 상호 작용으로 표현***\\\"되어 코드의 가독성을 높여준다\n",
    "    - 코드를 모듈화하고 캡슐화하면 \\\"***코드의 일부를 숨길 수 있으므로 코드가 간결해진다***\\\"\n",
    "\n",
    "- 코드의 확장성\n",
    "    - 객체지향 프로그래밍에서 클래스와 객체를 사용하여 \\\"***코드를 모듈화하면 코드를 쉽게 확장할 수 있다***\\\"\n",
    "    - 새로운 기능을 추가하거나 기존 기능을 수정할 때 다른 코드 부분에 영향을 미치지 않고 객체의 메서드를 수정하거나 새로운 클래스를 작성하여 기능을 추가할 수 있다\n",
    "\n",
    "- 코드의 재사용성\n",
    "    - 코드를 모듈화하고 캡슐화하면 코드의 일부를 숨길 수 있으므로 코드가 간결해진다\n",
    "\n",
    "- 코드의 유연성\n",
    "    - 코드를 모듈화하면 코드를 쉽게 재사용하고 조합할 수 있다 (이는 코드의 유연성을 높인다)\n",
    "\n",
    "\n",
    ">클래스를 사용하는 핵심은 자신이 만든 코드를 다른 사람이 손쉽게 사용할 수 있도록 설계하는 것이다</br></br>\n",
    "데이터를 받아 정제한 뒤, class를 통해</br>1. 데이터가 들어오는 곳과</br>2. 기능을 정의하는 곳</br>3. 무언가를 출력하는 곳</br></br>\n",
    "이 구별되어 가독성이 좋다 라는 느낌을 받는다"
   ]
  },
  {
   "cell_type": "markdown",
   "id": "737709e6-31a5-40d8-b73f-bac2f2a015c1",
   "metadata": {},
   "source": [
    "## 데이터 분석에서 어떻게 사용할까?\n",
    "\n",
    "- 데이터 구조화: 클래스를 사용하여 데이터를 구조화하고 조직화할 수 있다\n",
    "    - 예를 들어, 데이터를 나타내는 클래스를 작성할 수 있고 해당 클래스의 인스턴스를 사용하여 데이터를 캡슐화하고 메서드를 사용하여 데이터를 조작할 수 있다\n",
    "\n",
    "- 분석 모델링: 종종 모델을 구축하고 평가하는 데 클래스를 사용한다\n",
    "    - 클래스는 모델의 매개 변수, 훈련 방법, 예측 방법 등을 캡슐화하고 관련 메서드를 제공할 수 있다\n",
    "    - 예를 들어, 회귀 분석 모델, 분류 모델, 군집화 모델 등을 클래스로 구현할 수 있다\n",
    "\n",
    "- 유틸리티 클래스: 데이터 분석 작업에서는 종종 데이터 전처리, 특성 선택, 특성 변환 등과 같은 유틸리티 기능이 필요하다\n",
    "    - 이러한 기능을 클래스로 구현하여 재사용성과 코드의 가독성을 향상시킬 수 있다\n",
    "\n",
    "- 시뮬레이션 및 모의실험: 데이터 분석에서는 데이터 기반으로 시뮬레이션을 수행하거나 모의실험을 진행하기도 한다\n",
    "    - 클래스를 사용하여 시뮬레이션 모델이나 실험 환경을 구현하고, 해당 클래스의 인스턴스를 사용하여 시뮬레이션을 실행하고 결과를 분석할 수 있다\n",
    "\n",
    "이외에도 클래스는 데이터 분석 작업의 특정 요구사항과 도메인에 맞게 사용될 수 있다</br>\n",
    "클래스는 코드의 재사용성, 모듈화, 캡슐화를 촉진하여 데이터 분석 작업을 보다 효율적이고 구조적으로 만들 수 있다"
   ]
  },
  {
   "cell_type": "markdown",
   "id": "bb2d8277-4f4f-40c7-8836-1bd9b105df68",
   "metadata": {},
   "source": [
    "## 클래스 선언\n",
    "\n",
    "- 클래스의 명칭은 대문자로 시작하면 파스칼표기법에 따라 작성"
   ]
  },
  {
   "cell_type": "code",
   "execution_count": 18,
   "id": "a22e6e18-1f97-484e-ac86-d9c8f51c3e87",
   "metadata": {},
   "outputs": [
    {
     "name": "stdout",
     "output_type": "stream",
     "text": [
      "hello\n"
     ]
    }
   ],
   "source": [
    "# Person > greeting > print\n",
    "\n",
    "class Person:\n",
    "    def greeting(self):\n",
    "        print('hello')\n",
    "        \n",
    "other = Person()\n",
    "\n",
    "other.greeting()"
   ]
  },
  {
   "cell_type": "markdown",
   "id": "d8618f61-b514-4e85-b0e4-c4727e9bf467",
   "metadata": {
    "tags": []
   },
   "source": [
    "# 클래스 구성요소\n",
    "\n",
    "- 클래스(Class): 같은 종류(문제)의 집단에 속하는 속성(Atrribute)과 기능(Method)를 정의한 것으로, 객체지향 프로그램의 기본적인 **사용자 정의 데이터형(user defined data type)이다**\n",
    "\n",
    "- 객체(Object): 클래스의 인스턴스(Instance, 실제 메모리에 할당된 것)로 자신 고유의 속성(Attribute)을 가지며, 클래스에서 정의한 기능(Method)를 수행할 수 있다\n",
    "    - 객체만 지칭할 때는 객체(Object)라고 하지만, **클래스와 연관지어서 지칭할 때는 인스턴스**라고 한다\n",
    "    - 객체(Object) = 속성(Attribute) + 기능(Method)\n",
    "    - 속성(Attribute): 클래스 내에서 정의된 변수로, 클래스의 인스턴스(객체)에 속하는 데이터\n",
    "- 메서드(Method): 객체의 동작 및 데이터의 조작이 이뤄지는 곳 (i.e. 객체의 기능)\n",
    "    - 일반 메서드(함수)\n",
    "    - 생성자(Constructor)\n",
    "    - 매직 메서드(Magic Method)\n",
    "    - 정적 메서드(Static Method)\n",
    "    - 클래스 메서드(Class Method)"
   ]
  },
  {
   "cell_type": "markdown",
   "id": "f378aeb2-1a0e-4913-b28d-d5cda2a936c6",
   "metadata": {},
   "source": [
    "## self\n",
    "\n",
    "self: 메소드가 소속되어 있는 객체 자체\n",
    "- 클래스 외부에서는 변수명으로 객체를 다룰 수 있지만, 내부에서는 객체를 지칭할 이름이 없으모로 self를 사용한다"
   ]
  },
  {
   "cell_type": "code",
   "execution_count": 4,
   "id": "73335cfa-510f-485a-be0a-a36533484a86",
   "metadata": {},
   "outputs": [],
   "source": [
    "class Person:\n",
    "    def greeting(self):\n",
    "        print('Hello')\n",
    "\n",
    "    def hello(self):\n",
    "        self.greeting() # self.메서드() 형식으로 클래스 안의 메서드를 호출\n",
    "\n",
    "james = Person()"
   ]
  },
  {
   "cell_type": "code",
   "execution_count": 5,
   "id": "0bc055ad-8903-4682-b66c-f808d46c7773",
   "metadata": {},
   "outputs": [
    {
     "name": "stdout",
     "output_type": "stream",
     "text": [
      "Hello\n",
      "Hello\n"
     ]
    }
   ],
   "source": [
    "james.greeting()\n",
    "james.hello()"
   ]
  },
  {
   "cell_type": "code",
   "execution_count": 4,
   "id": "b168104b-d485-4ea8-ac0b-22a0cb6590c7",
   "metadata": {},
   "outputs": [
    {
     "name": "stdout",
     "output_type": "stream",
     "text": [
      "self : self철수 param : 철수\n"
     ]
    }
   ],
   "source": [
    "# Self.name과 name의 차이 \n",
    "\n",
    "class ClassExample:\n",
    "    @staticmethod\n",
    "    def call(self, name):  # 함수\n",
    "        self.name = \"self\" + name  # self.name으로 파라미터와 구분\n",
    "        print(\"self : \" + self.name + \" param : \" + name)\n",
    "\n",
    "\n",
    "a = ClassExample()  # 객체화 (ClassExample의 정보를 a에 담음)\n",
    "a.call(a, \"철수\")"
   ]
  },
  {
   "cell_type": "markdown",
   "id": "13fbf173-b9db-4681-b454-3f154fe1a85f",
   "metadata": {},
   "source": [
    "## 속성(Attribute)\n",
    "\n",
    "클래스 내에서 정의된 변수로, 클래스의 인스턴스(객체)에 속하는 데이터\n",
    "\n",
    "- 각 인스턴스마다 개별적인 값을 가질 수 있다\n",
    "- 속성은 보통 클래스의 생성자(Constructor)내에서 초기화된다\n",
    "    - 생성자를 통해 속성에 초기 값을 할당하거나, 필요에 따라 나중에 값을 설정할 수도 있다\n",
    "    - 속성은 클래스의 다른 메서드에서 접근할 수 있으며, 인스턴스가 생성되면 각 인스턴스에 개별적으로 할당된다\n",
    "    - 클래스 내부에서 self를 사용하여 정의하며, self.attribute_name 형태로 접근할 수 있다"
   ]
  },
  {
   "cell_type": "markdown",
   "id": "3b152d02-2c60-4042-bbc6-ba8e5f925f6c",
   "metadata": {},
   "source": [
    "### 클래스 변수와 인스턴스 변수의 차이점"
   ]
  },
  {
   "cell_type": "markdown",
   "id": "226f001a-feea-4c2d-80d9-7b81436cddec",
   "metadata": {},
   "source": [
    "클래스 변수 vs 인스턴스 변수\n",
    "\n",
    "클래스 변수\n",
    "- 클래스의 모든 인스턴스들에 의해 공유되는 변수\n",
    "- 클래스 정의 내부에서 선언되고, 모든 인스턴스들이 동일한 값을 가진다\n",
    "- 클래스명으로 직접 접근이 가능하며, 클래스명.변수명 형태로 사용\n",
    "- 모든 인스턴스들이 동일한 클래스 변수를 참조하므로, 하나의 인스턴스에서 클래스 변수를 변경하면 다른 인스턴스들도 해당 변경 내용을 공유한다\n",
    "\n",
    "인스턴스 변수\n",
    "- 클래스의 각 인스턴스(객체)에 속하는 변수\n",
    "- 클래스의 생성자(Constructor) 내부에서 self를 통해 정의되고, 각 인스턴스마다 독립적인 값을 가진다\n",
    "- 인스턴스 내부에서 self.변수명 형태로 접근하고 사용\n",
    "- 각 인스턴스는 서로 독립적인 인스턴스 변수를 가지므로, 하나의 인스턴스에서 인스턴스 변수를 변경하더라도 다른 인스턴스들에는 영향을 주지 않는다\n",
    "\n",
    "```python\n",
    "class Daeheeyun:\n",
    "\n",
    "    class_value = 0\n",
    "\n",
    "    def __init__(self):\n",
    "        self.instance_value = 0\n",
    "\n",
    "    def set_class_value(self):\n",
    "        Daeheeyun.class_value = 10\n",
    "\n",
    "    def set_instance_value(self):\n",
    "        self.class_value = 20\n",
    "\n",
    "\n",
    "instance1 = Daeheeyun()\n",
    "instance2 = Daeheeyun()\n",
    "\n",
    "print(\"--클래스 속성 변경--\")\n",
    "instance1.set_class_value()\n",
    "print(instance1.class_value, instance2.class_value)  # 10 10\n",
    "\n",
    "print(\"--인스턴스 속성 변경--\")\n",
    "instance1.set_instance_value()\n",
    "print(instance1.class_value, instance2.class_value)  # 20 10\n",
    "\n",
    "print(\"--속성(Attribute) 출력--\")\n",
    "print(instance1.__dict__)                            # {'instance_value': 0, 'class_value': 20}\n",
    "print(instance2.__dict__)                            # {'instance_value': 0}\n",
    "```"
   ]
  },
  {
   "cell_type": "markdown",
   "id": "c437b7fa-7284-4578-9b7b-9c3a076c7ca4",
   "metadata": {},
   "source": [
    "인스턴스 및 인스턴스 변수 생성 예시"
   ]
  },
  {
   "cell_type": "code",
   "execution_count": 103,
   "id": "adc90d6b-d02d-4edd-b8be-bc71a973fdc3",
   "metadata": {},
   "outputs": [],
   "source": [
    "class pokamon_select:\n",
    "    def __init__(self, name, hp, damage):\n",
    "        self.name = name\n",
    "        self.hp = hp\n",
    "        self.damage = damage\n",
    "\n",
    "pokamon_1 = pokamon_select(\"피카츄\", 40, 5)  # 피카츄만의 인스턴스 변수 정의\n",
    "pokamon_2 = pokamon_select(\"이상해씨\", 20, 2) # 이상해씨만의 인스터스 변수 정의"
   ]
  },
  {
   "cell_type": "markdown",
   "id": "d6a3b013-03e9-48d0-92b6-76b00275a097",
   "metadata": {},
   "source": [
    "Person 클래스에 대한 james 객체가 클래스 변수를 변경하면,\n",
    "같은 클래스에 대한 객체 maria의 클래스 변수값도 변경된다"
   ]
  },
  {
   "cell_type": "code",
   "execution_count": 98,
   "id": "a0024cb8-ea8a-4692-90e3-03bdee7e293f",
   "metadata": {},
   "outputs": [
    {
     "name": "stdout",
     "output_type": "stream",
     "text": [
      "['책', '열쇠']\n",
      "['책', '열쇠']\n"
     ]
    }
   ],
   "source": [
    "class Person:\n",
    "    bag = []\n",
    "\n",
    "    def put_bag(self, stuff):\n",
    "        self.bag.append(stuff)\n",
    "        \n",
    "james = Person()\n",
    "james.put_bag('책')\n",
    " \n",
    "maria = Person()\n",
    "maria.put_bag('열쇠')\n",
    " \n",
    "print(james.bag)    # ['책', '열쇠']\n",
    "print(maria.bag)    # ['책', '열쇠']"
   ]
  },
  {
   "cell_type": "markdown",
   "id": "026b72ae-79f7-4f09-927a-8eb35f14f500",
   "metadata": {},
   "source": [
    "하지만, 인스턴스 속성 사용시 각 객체는 각자의 속성에 접근한다"
   ]
  },
  {
   "cell_type": "code",
   "execution_count": 99,
   "id": "5bf05b7b-b9fa-48c2-92e6-512586452ca4",
   "metadata": {},
   "outputs": [
    {
     "name": "stdout",
     "output_type": "stream",
     "text": [
      "['책']\n",
      "['열쇠']\n"
     ]
    }
   ],
   "source": [
    "class Person:\n",
    "    def __init__(self):\n",
    "        self.bag = []\n",
    " \n",
    "    def put_bag(self, stuff):\n",
    "        self.bag.append(stuff)\n",
    "        \n",
    "james = Person()\n",
    "james.put_bag('책')\n",
    " \n",
    "maria = Person()\n",
    "maria.put_bag('열쇠')\n",
    " \n",
    "print(james.bag)    # ['책']\n",
    "print(maria.bag)    # ['열쇠']"
   ]
  },
  {
   "cell_type": "markdown",
   "id": "f88a6975-9547-4f14-9e70-f6728a61c6b4",
   "metadata": {},
   "source": [
    "### 비공개 속성(private attribute)\n",
    "\n",
    "클래스 밖에서는 접근할 수 없고 클래스 안에서만 사용할 수 있는 속성이다</br>\n",
    "변수 앞에 밑줄 두개(__)를 붙이면 비공개 속성이 된다\n",
    "\n",
    "비공개 속성은 클래스 바깥으로 드러내고 싶지 않은 값에 사용한다\n",
    "즉, 중요한 값인데 바깥에서 함부로 바꾸면 안될 때 비공개 속성을 주로 사용한다\n",
    "\n",
    "https://nirsa.tistory.com/110"
   ]
  },
  {
   "cell_type": "markdown",
   "id": "dffc2a49-8511-4f45-b074-0fa0ab33f1b4",
   "metadata": {},
   "source": [
    "생성자에서 pocket 변수 앞에 \\_\\_를 붙여 비공개 속성으로 정의했다"
   ]
  },
  {
   "cell_type": "code",
   "execution_count": 141,
   "id": "505d666d-4127-4d0c-8081-faafe467a7d9",
   "metadata": {},
   "outputs": [],
   "source": [
    "class Person:\n",
    "    def __init__(self, name, pocket):\n",
    "        self.name = name\n",
    "        self.__pocket = pocket\n",
    "\n",
    "    def give_candy(self, amount):\n",
    "        self.__pocket -= amount\n",
    "        print('사탕이 {}개 남았어요.'.format(self.__pocket))"
   ]
  },
  {
   "cell_type": "code",
   "execution_count": 142,
   "id": "62a5fbdd-c2f1-49a4-824b-33392116b81c",
   "metadata": {},
   "outputs": [
    {
     "data": {
      "text/plain": [
       "'Mary'"
      ]
     },
     "execution_count": 142,
     "metadata": {},
     "output_type": "execute_result"
    }
   ],
   "source": [
    "mary = Person('Mary', 5)\n",
    "mary.name"
   ]
  },
  {
   "cell_type": "markdown",
   "id": "4da64c34-2d19-4153-8d59-069a4474c514",
   "metadata": {},
   "source": [
    "클래스 밖에서 비공개 속성 pocket에 접근하면, 에러를 출력한다"
   ]
  },
  {
   "cell_type": "code",
   "execution_count": 143,
   "id": "dfa9964a-d171-4663-bbaa-b771cd77bdfe",
   "metadata": {},
   "outputs": [
    {
     "ename": "AttributeError",
     "evalue": "'Person' object has no attribute 'pocket'",
     "output_type": "error",
     "traceback": [
      "\u001b[0;31m---------------------------------------------------------------------------\u001b[0m",
      "\u001b[0;31mAttributeError\u001b[0m                            Traceback (most recent call last)",
      "Input \u001b[0;32mIn [143]\u001b[0m, in \u001b[0;36m<cell line: 1>\u001b[0;34m()\u001b[0m\n\u001b[0;32m----> 1\u001b[0m \u001b[43mmary\u001b[49m\u001b[38;5;241;43m.\u001b[39;49m\u001b[43mpocket\u001b[49m\n",
      "\u001b[0;31mAttributeError\u001b[0m: 'Person' object has no attribute 'pocket'"
     ]
    }
   ],
   "source": [
    "mary.pocket"
   ]
  },
  {
   "cell_type": "markdown",
   "id": "8e228f92-7d60-4685-96cf-b0fd68ea3595",
   "metadata": {},
   "source": [
    "[참고]\n",
    "\n",
    "\\_\\_dict\\_\\_ 메서드를 사용하면, 객체의 속성을 모두 출력한다</br>\n",
    "해당 메서드를 사용하면, 비공개 속성을 클래스 밖에서 확인할 수 있다\n",
    "\n",
    "또한, 클래스 내 함수에서 비공개 속성을 return하면, 변수에 지정 가능하다</br>"
   ]
  },
  {
   "cell_type": "code",
   "execution_count": 144,
   "id": "e6e68a97-fa84-491a-acdb-707dc1d31cf7",
   "metadata": {},
   "outputs": [
    {
     "data": {
      "text/plain": [
       "{'name': 'Mary', '_Person__pocket': 5}"
      ]
     },
     "execution_count": 144,
     "metadata": {},
     "output_type": "execute_result"
    }
   ],
   "source": [
    "mary.__dict__"
   ]
  },
  {
   "cell_type": "code",
   "execution_count": 146,
   "id": "0d6f7ed6-9ba2-43d0-9810-52d06e685cfe",
   "metadata": {},
   "outputs": [],
   "source": [
    "class Person:\n",
    "    def __init__(self, name, age, address, wallet):\n",
    "        self.name = name\n",
    "        self.age = age\n",
    "        self.address = address\n",
    "        self.__wallet = wallet    # 변수 앞에 __를 붙여서 비공개 속성으로 만듦\n",
    "\n",
    "    def pay(self, amount):\n",
    "        self.__wallet -= amount\n",
    "        print('이제 돈이 {} 남았네요.'.format(self.__wallet))"
   ]
  },
  {
   "cell_type": "code",
   "execution_count": 148,
   "id": "19a022a1-5794-432f-8a34-6dcc02c7d8f5",
   "metadata": {},
   "outputs": [
    {
     "name": "stdout",
     "output_type": "stream",
     "text": [
      "이제 돈이 7000 남았네요.\n"
     ]
    }
   ],
   "source": [
    "mary = Person('마리', 20, '서울시 서초구 반포동', 10000)\n",
    "mary.pay(3000)"
   ]
  },
  {
   "cell_type": "code",
   "execution_count": 149,
   "id": "5cde2d52-fe2b-4298-92f4-8c7bd67a59fe",
   "metadata": {},
   "outputs": [
    {
     "ename": "AttributeError",
     "evalue": "'Person' object has no attribute 'wallet'",
     "output_type": "error",
     "traceback": [
      "\u001b[0;31m---------------------------------------------------------------------------\u001b[0m",
      "\u001b[0;31mAttributeError\u001b[0m                            Traceback (most recent call last)",
      "Input \u001b[0;32mIn [149]\u001b[0m, in \u001b[0;36m<cell line: 1>\u001b[0;34m()\u001b[0m\n\u001b[0;32m----> 1\u001b[0m \u001b[43mmary\u001b[49m\u001b[38;5;241;43m.\u001b[39;49m\u001b[43mwallet\u001b[49m\n",
      "\u001b[0;31mAttributeError\u001b[0m: 'Person' object has no attribute 'wallet'"
     ]
    }
   ],
   "source": [
    "mary.wallet"
   ]
  },
  {
   "cell_type": "code",
   "execution_count": 150,
   "id": "8962d1b7-c3ad-44b9-8611-71158cc0a7b1",
   "metadata": {},
   "outputs": [
    {
     "data": {
      "text/plain": [
       "{'name': '마리', 'age': 20, 'address': '서울시 서초구 반포동', '_Person__wallet': 7000}"
      ]
     },
     "execution_count": 150,
     "metadata": {},
     "output_type": "execute_result"
    }
   ],
   "source": [
    "mary.__dict__"
   ]
  },
  {
   "cell_type": "markdown",
   "id": "a2e9da27-46f6-49e3-9ecf-31a9cd3fee9b",
   "metadata": {},
   "source": [
    "## 메서드(Method)\n",
    "\n",
    "객체의 동작 및 데이터의 조작이 이뤄지는 곳 (i.e. 객체의 기능)\n",
    "\n",
    "- 메서드는 함수 정의와 마찬가지로 def로 정의한다\n",
    "- 메서드의 첫 파라미터는 반드시 self로 지정한다 (메서드가 객체를 인식하도록)\n",
    "- self를 사용하지 않는 파라미터는 메서드 내부에서 지역 변수로 사용할 수 있다"
   ]
  },
  {
   "cell_type": "markdown",
   "id": "9d3a5284-8dc9-4691-97a4-d77af70f949a",
   "metadata": {},
   "source": [
    "Dog 클래스 speak 메서드의 parameter sound는 speak 메서드 내에서 지역변수로 사용된다"
   ]
  },
  {
   "cell_type": "code",
   "execution_count": 101,
   "id": "b53f87d3-1624-4d1f-9055-b9d832b672fa",
   "metadata": {},
   "outputs": [
    {
     "name": "stdout",
     "output_type": "stream",
     "text": [
      "July은 왈왈 소리를 내요\n"
     ]
    }
   ],
   "source": [
    "class Dog:\n",
    "    def __init__(self, name, age):\n",
    "        self.name = name\n",
    "        self.age = age\n",
    "    def speak(self, sound):\n",
    "        return f\"{self.name}은 {sound} 소리를 내요\"\n",
    "\n",
    "c = Dog('July', 4)\n",
    "print(c.speak('왈왈')) # July은 왈왈 소리를 내요"
   ]
  },
  {
   "cell_type": "code",
   "execution_count": 102,
   "id": "89dc54bb-8108-4ea4-8f3e-2d34005bebad",
   "metadata": {},
   "outputs": [
    {
     "ename": "AttributeError",
     "evalue": "'Dog' object has no attribute 'sound'",
     "output_type": "error",
     "traceback": [
      "\u001b[0;31m---------------------------------------------------------------------------\u001b[0m",
      "\u001b[0;31mAttributeError\u001b[0m                            Traceback (most recent call last)",
      "Input \u001b[0;32mIn [102]\u001b[0m, in \u001b[0;36m<cell line: 1>\u001b[0;34m()\u001b[0m\n\u001b[0;32m----> 1\u001b[0m \u001b[43mc\u001b[49m\u001b[38;5;241;43m.\u001b[39;49m\u001b[43msound\u001b[49m\n",
      "\u001b[0;31mAttributeError\u001b[0m: 'Dog' object has no attribute 'sound'"
     ]
    }
   ],
   "source": [
    "c.sound"
   ]
  },
  {
   "cell_type": "markdown",
   "id": "8d498118-2a4d-4a4f-ba6f-9aa1cc3b2011",
   "metadata": {
    "tags": []
   },
   "source": [
    "### method 호출의 또 다른 방법\n",
    "* class.method 형태로 호출할 때는 객체 a를 첫 번째 매개변수 self에 꼭 전달 \n",
    "* instance.method(a.setdata) 형태로 호출할 때는 self를 반드시 생략해서 호출"
   ]
  },
  {
   "cell_type": "code",
   "execution_count": 53,
   "id": "5bdd6920-5764-46c9-ae73-617519c93646",
   "metadata": {},
   "outputs": [
    {
     "data": {
      "text/plain": [
       "(4, 2)"
      ]
     },
     "execution_count": 53,
     "metadata": {},
     "output_type": "execute_result"
    }
   ],
   "source": [
    "class Calculator:\n",
    "    def setdata(self, first, second):\n",
    "        self.first = first\n",
    "        self.second = second\n",
    "\n",
    "# 1. \n",
    "# a = Calculator()\n",
    "# a.setdata(4,2)\n",
    "\n",
    "# 2.\n",
    "a = Calculator()\n",
    "Calculator.setdata(a, 4, 2)\n",
    "\n",
    "a.first, a.second"
   ]
  },
  {
   "cell_type": "markdown",
   "id": "b1d096b8-d5da-4cf1-a86e-70f1c3032767",
   "metadata": {},
   "source": [
    "### 생성자(Constructor)\n",
    "\n",
    "생성자는 따로 호출되지 않아도 자동으로 호출되는 메서드로 초기화 메서드라고도 함\n",
    "\n",
    "- 객체를 생성할 때 초기화되는 항목들 관리\n",
    "- 클래스에서 사용할 변수(속성)를 정의하는 함수\n",
    "- 첫번째 매개변수는 반드시 self로 지정 (self: 클래스에서 생성된 인스턴스에 접근하는 예약어)\n",
    "\n",
    "```python\n",
    "def __init__(self, 인수1, 인수2):\n",
    "    self.인수1 = 초기 값1          # 속성\n",
    "    self.인수2 = 초기 값2          # 일반적으로 인수에 대한 속명의 명칭은 인수와 같게 설정\n",
    "```"
   ]
  },
  {
   "cell_type": "code",
   "execution_count": 119,
   "id": "7a610606-a2c2-4ffe-b2fb-87d618da4bfe",
   "metadata": {},
   "outputs": [
    {
     "name": "stdout",
     "output_type": "stream",
     "text": [
      "태어남..\n"
     ]
    }
   ],
   "source": [
    "# 생성자는 호출만 되어도 자동으로 수행된다.\n",
    "class Person:\n",
    "    def __init__(self):\n",
    "        print(\"태어남..\")\n",
    "\n",
    "p = Person()"
   ]
  },
  {
   "cell_type": "code",
   "execution_count": 120,
   "id": "2b7c5456-31b7-4279-bf31-d859e00540fe",
   "metadata": {},
   "outputs": [
    {
     "name": "stdout",
     "output_type": "stream",
     "text": [
      "3\n",
      "3\n"
     ]
    }
   ],
   "source": [
    "class MyClass:\n",
    "    count = 0\n",
    "\n",
    "    def __init__(self):\n",
    "        MyClass.count += 1\n",
    "\n",
    "    def get_count(self):\n",
    "        return MyClass.count\n",
    "\n",
    "a = MyClass()\n",
    "b = MyClass()\n",
    "c = MyClass()\n",
    "\n",
    "print(a.get_count()) #3번 호출되었기 때문에 3이 나오게 된다.\n",
    "\n",
    "print(MyClass.count) #직접 호출도 가능하다."
   ]
  },
  {
   "cell_type": "markdown",
   "id": "be23fd4b-fb2d-424a-a9d7-52d374ee1e72",
   "metadata": {
    "tags": []
   },
   "source": [
    "### 정적 메서드 & 클래스 메서드"
   ]
  },
  {
   "cell_type": "markdown",
   "id": "04dd8182-4d54-46c0-b0b3-ca97d52f2480",
   "metadata": {},
   "source": [
    "정적 메서드(Static Method)\n",
    "\n",
    "- 클래스를 통해 호출 가능한 메서드\n",
    "- @staticmethod 데코레이터로 수식\n",
    "- self 매개변수 없이 정의\n",
    "- 클래스명.클래스변수 형태로 클래스 속성에 접근 가능"
   ]
  },
  {
   "cell_type": "code",
   "execution_count": 121,
   "id": "37d1ccc0-c54e-4442-b37b-3357499aef6b",
   "metadata": {},
   "outputs": [
    {
     "name": "stdout",
     "output_type": "stream",
     "text": [
      "3\n"
     ]
    }
   ],
   "source": [
    "class CalCulator:\n",
    "    \n",
    "    @staticmethod\n",
    "    def plus(a, b):\n",
    "        return a + b\n",
    "    \n",
    "var = CalCulator()\n",
    "print(var.plus(1, 2))           # 3"
   ]
  },
  {
   "cell_type": "markdown",
   "id": "6dda3173-a103-42b7-9e4f-8fd124ab87cd",
   "metadata": {},
   "source": [
    "클래스 메서드(Class Method)\n",
    "\n",
    "- 클래스를 통해 호출 가능한 메서드\n",
    "- @classmethod 데코레이터로 수식하고, cls(= class)를 매개변수로 지정\n",
    "- 클래스 메서드는 주로 클래스 자체의 동작과 관련된 유틸리티 기능을 제공하기 위해 사용\n",
    "- 클래스 메서드는 클래스에 속하지만 인스턴스 변수에 접근할 수 없다"
   ]
  },
  {
   "cell_type": "code",
   "execution_count": 122,
   "id": "34d24713-48cb-4597-a1b9-b04bbb2f86e3",
   "metadata": {},
   "outputs": [
    {
     "name": "stdout",
     "output_type": "stream",
     "text": [
      "<class '__main__.InstanceCounter'>\n",
      "1\n"
     ]
    }
   ],
   "source": [
    "class InstanceCounter:\n",
    "    count = 0\n",
    "    \n",
    "    def __init__(self):\n",
    "        InstanceCounter.count += 1\n",
    "    \n",
    "    @classmethod\n",
    "    def print_instance_count(cls):\n",
    "        print(cls)                # <class '__main__.InstanceCounter'>\n",
    "        print(cls.count)          # 1\n",
    "        \n",
    "var = InstanceCounter()\n",
    "var.print_instance_count()"
   ]
  },
  {
   "cell_type": "markdown",
   "id": "317509df-8c47-4c5c-a93c-dfadc8dedf3c",
   "metadata": {},
   "source": [
    "## 예시코드"
   ]
  },
  {
   "cell_type": "code",
   "execution_count": 11,
   "id": "4f8ad238-a621-4644-8f87-de4444252d39",
   "metadata": {},
   "outputs": [],
   "source": [
    "# case 1.\n",
    "\n",
    "class BaseballPlayer():\n",
    "    def __init__(self, name, position, team, team_score):\n",
    "        self.name = name\n",
    "        self.position = position\n",
    "        self.team = team\n",
    "        self.team_score = team_score\n",
    "        \n",
    "    def change_team(self, new_team):\n",
    "        print('선수가 이적할 팀을 선택해주세요')\n",
    "        self.team = new_team\n",
    "        \n",
    "    def __str__(self):\n",
    "        return f'안녕하세요. 저는 {self.team}팀의 {self.name}입니다. 저희 팀 순위는 {self.team_score}위 입니다.'"
   ]
  },
  {
   "cell_type": "code",
   "execution_count": 12,
   "id": "92fb991a-bc8f-40a5-a30d-26d3d7818033",
   "metadata": {},
   "outputs": [
    {
     "name": "stdout",
     "output_type": "stream",
     "text": [
      "안녕하세요. 저는 한화팀의 노시환입니다. 저희 팀 순위는 10위 입니다.\n"
     ]
    }
   ],
   "source": [
    "nosihwan = BaseballPlayer('노시환', '타자', '한화', 10)\n",
    "print(nosihwan)"
   ]
  },
  {
   "cell_type": "code",
   "execution_count": 13,
   "id": "95f88282-9e99-45af-8d60-98b5e3a3f50e",
   "metadata": {},
   "outputs": [
    {
     "name": "stdout",
     "output_type": "stream",
     "text": [
      "선수가 이적할 팀을 선택해주세요\n",
      "안녕하세요. 저는 키움팀의 노시환입니다. 저희 팀 순위는 10위 입니다.\n"
     ]
    }
   ],
   "source": [
    "nosihwan.change_team('키움')\n",
    "print(nosihwan)"
   ]
  },
  {
   "cell_type": "code",
   "execution_count": 14,
   "id": "b4cc7b95-9f23-414d-90a1-819db1540d72",
   "metadata": {},
   "outputs": [
    {
     "name": "stdout",
     "output_type": "stream",
     "text": [
      "안녕하세요. 저는 홍길동입니다.\n",
      "이름: 홍길동\n",
      "나이: 20\n",
      "주소: 제주특별자치도 서귀포시\n"
     ]
    }
   ],
   "source": [
    "# case 2.\n",
    "\n",
    "class Person:\n",
    "    def __init__(self, name, age, address):\n",
    "        self.hello = '안녕하세요.' # 할당받지 않아도 됨\n",
    "        self.name = name\n",
    "        self.age = age\n",
    "        self.address = address\n",
    "\n",
    "\t\t#위의 속성에 접근할때는 self 함수가 필요\n",
    "    def greeting(self):\n",
    "        print(f'{self.hello} 저는 {self.name}입니다.')\n",
    "\n",
    "hong = Person('홍길동', 20, '제주특별자치도 서귀포시')\n",
    "hong.greeting()# 안녕하세요. 저는 홍길동입니다.\n",
    "\n",
    "print('이름:', hong.name)# 홍길동\n",
    "print('나이:', hong.age) # 20\n",
    "print('주소:', hong.address) # 제주특별자치도 서귀포시"
   ]
  },
  {
   "cell_type": "code",
   "execution_count": 166,
   "id": "1aea7830-61d4-4a2c-a72b-1a8ce50a3837",
   "metadata": {},
   "outputs": [
    {
     "name": "stdout",
     "output_type": "stream",
     "text": [
      "[['Messi', 'MF', 10], ['Ramos', 'DF', 4], ['Ronaldo', 'CF', 7], ['Park', 'WF', 13], ['Buffon', 'GK', 1]]\n",
      "['Messi', 'MF', 10]\n"
     ]
    }
   ],
   "source": [
    "# case 3.\n",
    "\n",
    "names = [\"Messi\", \"Ramos\", \"Ronaldo\", \"Park\", \"Buffon\"]\n",
    "positions = [\"MF\", \"DF\", \"CF\", \"WF\", \"GK\"]\n",
    "numbers = [10, 4, 7, 13, 1]\n",
    "\n",
    "#이차원 리스트\n",
    "players = [[name, position, number] for name, position, number in zip(names, positions, numbers)]\n",
    "print(players)\n",
    "print(players[0])\n",
    "\n",
    "#전체 SoccerPlayer 코드\n",
    "class SoccerPlayer(object):\n",
    "    def __init__(self, name, position, back_number):\n",
    "        self.name = name\n",
    "        self.position = position\n",
    "        self.back_number = back_number\n",
    "    def change_back_number(self, new_number):\n",
    "      \n",
    "        print(\"선수의 등 번호를 변경한다: From %d to %d\" % (self.back_number, new_number))\n",
    "        self.back_number = new_number\n",
    "    def __str__(self):\n",
    "        return \"Hello, My name is %s. I play in %s in center.\" % (self.name, self.position)"
   ]
  },
  {
   "cell_type": "code",
   "execution_count": 167,
   "id": "bdcc4c16-bd0e-4573-9f99-4423674f7317",
   "metadata": {},
   "outputs": [
    {
     "name": "stdout",
     "output_type": "stream",
     "text": [
      "Hello, My name is Messi. I play in MF in center.\n"
     ]
    }
   ],
   "source": [
    "# 클래스-인스턴스\n",
    "player_objects = [SoccerPlayer(name, position, number) for name, position, number in zip(names, positions, numbers)]\n",
    "print(player_objects[0])"
   ]
  },
  {
   "cell_type": "markdown",
   "id": "9fb078f4-13aa-4014-ac3b-59f188e9bea9",
   "metadata": {
    "tags": []
   },
   "source": [
    "# 클래스의 특징: 상속"
   ]
  },
  {
   "cell_type": "markdown",
   "id": "96515fdf-d8ce-4df5-95c0-ef63b7a9315e",
   "metadata": {},
   "source": [
    "## 상속 관계를 확인하는 메서드: issubclass & mro\n",
    "\n",
    "- issubclass(derived class, parent class) # 상속관계 확인 (순서 지켜서 입력)\n",
    "    - 만약, 입력한 첫번째 인자가 두번째 인자에게 상속받은 클래스라면 True 반환\n",
    "- class name.mro() # class의 상속관계 출력"
   ]
  },
  {
   "cell_type": "code",
   "execution_count": 107,
   "id": "8b462938-acbb-4233-ab34-56f98bd2b694",
   "metadata": {},
   "outputs": [],
   "source": [
    "class Parent:\n",
    "    pass\n",
    "\n",
    "class Sibling(Parent):\n",
    "    pass"
   ]
  },
  {
   "cell_type": "code",
   "execution_count": 110,
   "id": "180c4ea5-24d8-416a-81e0-a5c33b32d444",
   "metadata": {},
   "outputs": [
    {
     "name": "stdout",
     "output_type": "stream",
     "text": [
      "True\n",
      "False\n"
     ]
    }
   ],
   "source": [
    "print(issubclass(Sibling, Parent))\n",
    "print(issubclass(Parent, Sibling))"
   ]
  },
  {
   "cell_type": "code",
   "execution_count": 112,
   "id": "f31d0b8f-4639-4ea2-b15e-f44bbd26526a",
   "metadata": {},
   "outputs": [
    {
     "name": "stdout",
     "output_type": "stream",
     "text": [
      "[<class '__main__.Parent'>, <class 'object'>]\n",
      "[<class '__main__.Sibling'>, <class '__main__.Parent'>, <class 'object'>]\n"
     ]
    }
   ],
   "source": [
    "print(Parent.mro())\n",
    "print(Sibling.mro())"
   ]
  },
  {
   "cell_type": "code",
   "execution_count": 113,
   "id": "77a66ea1-9fc9-47b7-80c5-6b7fc223413d",
   "metadata": {},
   "outputs": [],
   "source": [
    "class Father:\n",
    "    pass\n",
    "\n",
    "class Mother:\n",
    "    pass\n",
    "\n",
    "class Sibling(Father, Mother):\n",
    "    pass"
   ]
  },
  {
   "cell_type": "code",
   "execution_count": 115,
   "id": "832ae5b7-207a-4021-a644-a155b50bbf3e",
   "metadata": {},
   "outputs": [
    {
     "name": "stdout",
     "output_type": "stream",
     "text": [
      "True\n",
      "True\n"
     ]
    }
   ],
   "source": [
    "print(issubclass(Sibling, Father))\n",
    "print(issubclass(Sibling, Mother))"
   ]
  },
  {
   "cell_type": "code",
   "execution_count": 114,
   "id": "b9f675b3-a809-4952-91c9-870d15128166",
   "metadata": {},
   "outputs": [
    {
     "name": "stdout",
     "output_type": "stream",
     "text": [
      "[<class '__main__.Sibling'>, <class '__main__.Father'>, <class '__main__.Mother'>, <class 'object'>]\n"
     ]
    }
   ],
   "source": [
    "print(Sibling.mro())"
   ]
  },
  {
   "cell_type": "markdown",
   "id": "d077b446-1cfa-414e-8fa5-243cbe1b5fc3",
   "metadata": {
    "tags": []
   },
   "source": [
    "## 메서드 오버라이딩\n",
    "\n",
    "부모 클래스의 메소드를, 자식 클래스에서 재정의 하여 사용하는 것\n",
    "\n",
    "부모클래스의 메서드를 super함수로 호출해서 자식클래스의 동일 명칭의 메서드에서 사용하는 것도 메서드 오버로딩이다"
   ]
  },
  {
   "cell_type": "code",
   "execution_count": 83,
   "id": "f1e1274e-29fa-4c73-949d-3bf8d27ee248",
   "metadata": {},
   "outputs": [],
   "source": [
    "class Person(object): # 부모 클래스 선언\n",
    "    #초기 메서드\n",
    "    def __init__(self, name, age, gender):\n",
    "        self.name = name\n",
    "        self.age = age\n",
    "        self.gender = gender\n",
    "    #출력 메서드\n",
    "    def about_me(self): # 메서드 선언\n",
    "        print(f\"안녕하세요 제 이름은 {self.name}이고, 나이는 {self.age}이고, 성별은 {self.gender}입니다.\")"
   ]
  },
  {
   "cell_type": "code",
   "execution_count": 89,
   "id": "8ca34b0c-ac3f-401a-bd08-038f1b508241",
   "metadata": {},
   "outputs": [],
   "source": [
    "class Employee(Person):\n",
    "    # Employee 초기 메서드\n",
    "    def __init__(self, name, age, gender, salary, hire_date):\n",
    "        # Person의 초기메서드\n",
    "        super().__init__(name, age, gender) #부모클래스의 인스턴스 함수를 그대로 사용한다.\n",
    "        self.salary = salary\n",
    "        self.hire_date = hire_date\n",
    "  \n",
    "    def do_work(self):\n",
    "        print(\"근무시간 이에요\")\n",
    "\n",
    "    def about_me(self):\n",
    "        super().about_me()\n",
    "        print(f\"저의 월급은 {self.salary}이고, 제 입사날짜는 {self.hire_date}입니다.\")"
   ]
  },
  {
   "cell_type": "code",
   "execution_count": 90,
   "id": "403af2d1-7e0c-4b2b-af96-333310454819",
   "metadata": {},
   "outputs": [
    {
     "name": "stdout",
     "output_type": "stream",
     "text": [
      "안녕하세요 제 이름은 hojunLee이고, 나이는 30이고, 성별은 M입니다.\n",
      "저의 월급은 5000이고, 제 입사날짜는 2022-01-01입니다.\n"
     ]
    }
   ],
   "source": [
    "hjlee = Employee('hojunLee', 30, 'M', 5000, '2022-01-01')\n",
    "hjlee.about_me()"
   ]
  },
  {
   "cell_type": "markdown",
   "id": "ca3d8c64-9b68-494e-870a-b1b558d210c8",
   "metadata": {},
   "source": [
    "## super\n",
    "\n",
    "super class 즉, 부모클래스의 임시적인 객체를 반환하여 부모클래스의 메소드를 사용할 수 있게 하는 것"
   ]
  },
  {
   "cell_type": "code",
   "execution_count": 104,
   "id": "57ab5ffd-791a-4cb2-b873-0786e5f3a39f",
   "metadata": {},
   "outputs": [],
   "source": [
    "class Calculator:\n",
    "   \n",
    "    def __init__(self, first, second):\n",
    "        self.first = first \n",
    "        self.second = second\n",
    "        \n",
    "    def add(self):\n",
    "        result = self.first + self.second\n",
    "        return result\n",
    "\n",
    "    def mul(self):\n",
    "        result = self.first * self.second\n",
    "        return result\n",
    "    \n",
    "    def sub(self):\n",
    "        result = self.first - self.second\n",
    "        return result\n",
    "    \n",
    "    def div(self):                        # 기존의 Calculator 클래스는 0으로 나누었을때 오류 처리가 안 되어 있음\n",
    "        result = self.first / self.second\n",
    "        return result    \n",
    "    \n",
    "class Cal_Rev(Calculator):\n",
    "    def __init__(self, third, fourth):\n",
    "        super().__init__(third, fourth)\n",
    "        self.third = third\n",
    "        self.fourth = fourth\n",
    "    \n",
    "    def divide(self):\n",
    "        try: \n",
    "            result = self.third / self.fourth\n",
    "            return result\n",
    "        except ZeroDivisionError:\n",
    "            print(\"Divided by Zero\")"
   ]
  },
  {
   "cell_type": "markdown",
   "id": "270c858a-dceb-43fe-992b-813fcb7b2ca5",
   "metadata": {},
   "source": [
    "```python\n",
    "super().__init__(third, fourth)\n",
    "```\n",
    "자녀 클래스 Cal_Rev의 생성자에서 부모 클래스 Calculator의 생성자 메서드를 호출하고,</br>\n",
    "매개변수에 인자를 전달하여, 자녀 클래스의 객체에서 부모 클래스의 인스턴스 변수를 생성한다"
   ]
  },
  {
   "cell_type": "code",
   "execution_count": 354,
   "id": "15ff7b09-b8b0-4128-b2c0-e46ce469fd1b",
   "metadata": {},
   "outputs": [
    {
     "name": "stdout",
     "output_type": "stream",
     "text": [
      "Divided by Zero\n"
     ]
    }
   ],
   "source": [
    "b = Cal_Rev(4,0)\n",
    "b.divide()"
   ]
  },
  {
   "cell_type": "code",
   "execution_count": 355,
   "id": "e02eed30-f0b4-419d-b54f-7b07072b7f86",
   "metadata": {},
   "outputs": [
    {
     "data": {
      "text/plain": [
       "(4, 0, 4, 0)"
      ]
     },
     "execution_count": 355,
     "metadata": {},
     "output_type": "execute_result"
    }
   ],
   "source": [
    "# b 객체는 Calculator의 상속된 Cal_Rev class but, 부모클래스의 first 와 second variable 호출 가능\n",
    "b.first, b.second, b.third, b.fourth "
   ]
  },
  {
   "cell_type": "markdown",
   "id": "ab0e002a-0d37-4db7-b7d2-cd1b7543db2a",
   "metadata": {},
   "source": [
    "위의 예시에서 자녀 클래스의 인스턴스 변수 third, fourth와 동일하지 않은 부모 클래스의 인스턴수 변수 first, second를 생성하려면</br>\n",
    "생성된 객체의 인스턴스 변수에 접근해서 변경할 수 있다"
   ]
  },
  {
   "cell_type": "code",
   "execution_count": 106,
   "id": "5d910547-5114-4994-a665-2c9405211967",
   "metadata": {},
   "outputs": [
    {
     "name": "stdout",
     "output_type": "stream",
     "text": [
      "1\n"
     ]
    }
   ],
   "source": [
    "b.second = 1\n",
    "print(b.second)"
   ]
  },
  {
   "cell_type": "markdown",
   "id": "7b4618d2-dfbe-4107-8871-4701b70856b2",
   "metadata": {},
   "source": [
    "혹은, 아래 코드와 같이 자녀 클래스의 생성자에서 부모 클래스의 인스턴스 변수에 대한 매개변수를 입력받게 할 수 있다"
   ]
  },
  {
   "cell_type": "code",
   "execution_count": 105,
   "id": "e805227a-c636-43c1-b673-ee11b7af4972",
   "metadata": {},
   "outputs": [],
   "source": [
    "class Calculator:\n",
    "   \n",
    "    def __init__(self, first, second):\n",
    "        self.first = first \n",
    "        self.second = second\n",
    "        \n",
    "    def add(self):\n",
    "        result = self.first + self.second\n",
    "        return result\n",
    "\n",
    "    def mul(self):\n",
    "        result = self.first * self.second\n",
    "        return result\n",
    "    \n",
    "    def sub(self):\n",
    "        result = self.first - self.second\n",
    "        return result\n",
    "    \n",
    "    def div(self):\n",
    "        result = self.first / self.second\n",
    "        return result\n",
    "    \n",
    "class Cal_Rev(Calculator):\n",
    "    def __init__(self, first, second, third, fourth):\n",
    "        super().__init__(first, second)\n",
    "        self.third = third\n",
    "        self.fourth = fourth\n",
    "    \n",
    "    def divide(self):\n",
    "        try: \n",
    "            result = self.third / self.fourth\n",
    "            return result\n",
    "        except ZeroDivisionError:\n",
    "            print(\"Divided by Zero\")"
   ]
  },
  {
   "cell_type": "markdown",
   "id": "d8b463ec-4f62-497a-b9d1-04c158ff1b06",
   "metadata": {},
   "source": [
    "Cal_Rev 클래스의 객체가 divide메서드를 호출하면</br>\n",
    "부모 클래스 Calculator의 div메서드를 호출해 인스턴스 변수 first, second 입력에 대한 return을 받는다"
   ]
  },
  {
   "cell_type": "code",
   "execution_count": 372,
   "id": "8463d236-80c2-48ad-b5f5-895e6c64b34c",
   "metadata": {},
   "outputs": [],
   "source": [
    "class Calculator:\n",
    "   \n",
    "    def __init__(self, first, second):\n",
    "        self.first = first \n",
    "        self.second = second\n",
    "\n",
    "    def add(self):\n",
    "        result = self.first + self.second\n",
    "        return result\n",
    "\n",
    "    def mul(self):\n",
    "        result = self.first * self.second\n",
    "        return result\n",
    "    \n",
    "    def sub(self):\n",
    "        result = self.first - self.second\n",
    "        return result\n",
    "    \n",
    "    def div(self):\n",
    "        result = self.first / self.second\n",
    "        return result\n",
    "\n",
    "class Cal_Rev(Calculator):\n",
    "    def __init__(self, third, fourth):\n",
    "        super().__init__(third, fourth)\n",
    "        self.third = third\n",
    "        self.fourth = fourth\n",
    "    \n",
    "    def divide(self):\n",
    "        try: \n",
    "            return super().div()\n",
    "        except ZeroDivisionError:\n",
    "            print(\"Divided by Zero\")"
   ]
  },
  {
   "cell_type": "markdown",
   "id": "5372a28e-fae2-41dc-890a-f62b10f0983e",
   "metadata": {},
   "source": [
    "4 / 0 연산에서 ZeroDivisionError가 발생하기 때문에 예외처리구문의 except가 실행되고, \"Divided by Zero\"를 출력한다"
   ]
  },
  {
   "cell_type": "code",
   "execution_count": 377,
   "id": "6a3e3537-e260-4968-99eb-4d89acc1fe58",
   "metadata": {},
   "outputs": [
    {
     "name": "stdout",
     "output_type": "stream",
     "text": [
      "Divided by Zero\n"
     ]
    }
   ],
   "source": [
    "a = Cal_Rev(4,0)\n",
    "a.divide()"
   ]
  },
  {
   "cell_type": "markdown",
   "id": "6a7cebf4-091d-4120-b8a7-c2e5eef6e1b7",
   "metadata": {},
   "source": [
    "하지만, 객체 a가 부모 클래스의 div메서드를 호출하면 4 / 0 연산의 결과로 \"ZeroDivisionError: division by zero\" 에러가 발생한다"
   ]
  },
  {
   "cell_type": "code",
   "execution_count": 379,
   "id": "47dd198f-4247-4027-9071-bef55b7cb61f",
   "metadata": {},
   "outputs": [
    {
     "ename": "ZeroDivisionError",
     "evalue": "division by zero",
     "output_type": "error",
     "traceback": [
      "\u001b[0;31m---------------------------------------------------------------------------\u001b[0m",
      "\u001b[0;31mZeroDivisionError\u001b[0m                         Traceback (most recent call last)",
      "Input \u001b[0;32mIn [379]\u001b[0m, in \u001b[0;36m<cell line: 1>\u001b[0;34m()\u001b[0m\n\u001b[0;32m----> 1\u001b[0m \u001b[43ma\u001b[49m\u001b[38;5;241;43m.\u001b[39;49m\u001b[43mdiv\u001b[49m\u001b[43m(\u001b[49m\u001b[43m)\u001b[49m\n",
      "Input \u001b[0;32mIn [372]\u001b[0m, in \u001b[0;36mCalculator.div\u001b[0;34m(self)\u001b[0m\n\u001b[1;32m     23\u001b[0m \u001b[38;5;28;01mdef\u001b[39;00m \u001b[38;5;21mdiv\u001b[39m(\u001b[38;5;28mself\u001b[39m):\n\u001b[0;32m---> 24\u001b[0m     result \u001b[38;5;241m=\u001b[39m \u001b[38;5;28;43mself\u001b[39;49m\u001b[38;5;241;43m.\u001b[39;49m\u001b[43mfirst\u001b[49m\u001b[43m \u001b[49m\u001b[38;5;241;43m/\u001b[39;49m\u001b[43m \u001b[49m\u001b[38;5;28;43mself\u001b[39;49m\u001b[38;5;241;43m.\u001b[39;49m\u001b[43msecond\u001b[49m\n\u001b[1;32m     25\u001b[0m     \u001b[38;5;28;01mreturn\u001b[39;00m result\n",
      "\u001b[0;31mZeroDivisionError\u001b[0m: division by zero"
     ]
    }
   ],
   "source": [
    "a.div() # 부모 클래스의 div method를 호출 한 것 (0으로 나눌수 없음)"
   ]
  },
  {
   "cell_type": "markdown",
   "id": "688b9dc4-873d-4cf2-b81a-d9db2c5bb898",
   "metadata": {},
   "source": [
    "# 연습문제"
   ]
  },
  {
   "cell_type": "markdown",
   "id": "7ce791ba-ed1b-41d5-ab35-6a4deeb5dbc4",
   "metadata": {
    "tags": []
   },
   "source": [
    "## 실습 1. \\*args와 \\*\\*kwargs를 사용하여 코드를 수정해보시오\n",
    "\n",
    "```python\n",
    "class Person:\n",
    "    def __init__(self, name, age, address):\n",
    "        self.hello = '안녕하세요.'\n",
    "        self.name = name\n",
    "        self.age = age\n",
    "        self.address = address\n",
    "\n",
    "    def greeting(self):\n",
    "        print(f'{self.hello} 저는 {self.name}입니다.')\n",
    "\n",
    "hong = Person('홍길동', 20, '제주특별자치도 서귀포시')\n",
    "hong.greeting()\n",
    "\n",
    "print('이름:', hong.name)\n",
    "print('나이:', hong.age)\n",
    "print('주소:', hong.address)\n",
    "```"
   ]
  },
  {
   "cell_type": "code",
   "execution_count": 19,
   "id": "c5ce0f92-8484-4f6f-ab55-a2b0b4fe3886",
   "metadata": {},
   "outputs": [
    {
     "name": "stdout",
     "output_type": "stream",
     "text": [
      "안녕하세요. 저는 홍길동입니다.\n",
      "이름: 홍길동\n",
      "나이: 20\n",
      "주소: 제주특별자치도 서귀포시\n"
     ]
    }
   ],
   "source": [
    "class Person:\n",
    "    def __init__(self, *args):\n",
    "        self.hello = '안녕하세요.'\n",
    "        self.name = args[0]\n",
    "        self.age = args[1]\n",
    "        self.address = args[2]\n",
    "\n",
    "    def greeting(self):\n",
    "        print(f'{self.hello} 저는 {self.name}입니다.')\n",
    "\n",
    "hong = Person('홍길동', 20, '제주특별자치도 서귀포시')\n",
    "hong.greeting()\n",
    "\n",
    "print('이름:', hong.name)\n",
    "print('나이:', hong.age)\n",
    "print('주소:', hong.address)"
   ]
  },
  {
   "cell_type": "code",
   "execution_count": 16,
   "id": "2876933c-309a-4259-bcf6-b066a26c8656",
   "metadata": {},
   "outputs": [
    {
     "name": "stdout",
     "output_type": "stream",
     "text": [
      "안녕하세요. 저는 홍길동입니다.\n",
      "이름: 홍길동\n",
      "나이: 20\n",
      "주소: 제주특별자치도 서귀포시\n"
     ]
    }
   ],
   "source": [
    "class Person:\n",
    "    def __init__(self, **kwargs):\n",
    "        self.hello = '안녕하세요.'\n",
    "        if 'name' in kwargs:\n",
    "            self.name = kwargs['name']\n",
    "        if 'age' in kwargs:\n",
    "            self.age = kwargs['age']\n",
    "        if 'address' in kwargs:\n",
    "            self.address = kwargs['address']\n",
    "\n",
    "    def greeting(self):\n",
    "        print(f'{self.hello} 저는 {self.name}입니다.')\n",
    "\n",
    "hong = Person(name = '홍길동', age = 20, address = '제주특별자치도 서귀포시')\n",
    "hong.greeting()\n",
    "\n",
    "print('이름:', hong.name)\n",
    "print('나이:', hong.age)\n",
    "print('주소:', hong.address)"
   ]
  },
  {
   "cell_type": "markdown",
   "id": "41d349e2-cb0d-46a5-83e5-afa87590726a",
   "metadata": {},
   "source": [
    "## 실습 2. 커스텀 클래스 활용\n",
    "\n",
    "[앱을 클래스를 활용해서 작성할 경우 고려하는 사항]\n",
    "\n",
    "클래스를 다루는 순간부터 객체지향 프로그래밍을 할 수 있다라고 하기도 한다. 생각해봐야 할 것은?\n",
    "\n",
    "1. 이 프로그램에 필요한 것은?\n",
    "2. 어떤 기능을 넣을 것인지?\n",
    "3. 어떤 데이터를 저장할 것인지? => 우리한테 **핵심** -> 데이터가 저장되어야 분석! -> 제안하거나 추가적으로 데이터를 얻을 수 있게 해야한다.\n",
    "4. 기능은 몇개나 필요한지? # 기능 분석\n",
    "5. (고객관점) 어떤 연령층이 사용할 것인지?\n",
    "6. 기타 등등\n",
    "\n",
    "-> 향후 전산요청서 / 전산개발서 같은것을들 작성할때가 있을 것이다"
   ]
  },
  {
   "cell_type": "markdown",
   "id": "79459814-d0d5-4b6b-96b0-c3516bb2d875",
   "metadata": {},
   "source": [
    "[커스텀 클래스 활용 1]\n",
    "\n",
    "노트앱 작성\n",
    "\n",
    "* 객체 -  사용자, 노트, 노트북\n",
    "* 사용자 정보는 얼마나 받을건지?\n",
    "* 노트 -> 지우거나 추가하는 기능 필요\n",
    "* 노트북의 노트 페이지는 최대 300페이지\n",
    "* 수정기능도 필요하지 않을까 등등"
   ]
  },
  {
   "cell_type": "markdown",
   "id": "3761c7cf-ba13-4fa9-949f-318d89a7f6b9",
   "metadata": {},
   "source": [
    "**아래 기능을 py파일로 작성**\n",
    "\n",
    "```python\n",
    "# 노트 기능 (노트는 노트북의 일부)\n",
    "\n",
    "class Note():\n",
    "    '''맨 처음은 초기화를 시켜야하기 때문에 write = none'''\n",
    "    def __init__(self, write = None):\n",
    "        self.write = write\n",
    "    '''쓰는 기능 추가'''\n",
    "    def write_function(self, write):\n",
    "        self.write = write\n",
    "    '''모두 지우는 기능 추가'''\n",
    "    def remove_all(self):\n",
    "        self.write = \"\"\n",
    "    '''작성된 내용 출력'''\n",
    "    def __str__(self):\n",
    "        return self.write\n",
    "    \n",
    "# 노트북의 기능\n",
    "\n",
    "class NoteBook():\n",
    "    '''모든 기능을 저장하기 위해 다음과 같이 __init__에 모두 입력'''\n",
    "    def __init__(self, title):\n",
    "        self.title = title\n",
    "        self.page_number = 1\n",
    "        self.notes = {} # 딕셔너리 형으로 선언 Note Page Number를 Key로 설정해서 쉽게 찾기 위함\n",
    "\n",
    "    ''' 새로운 노트를 노트북에 추가하는 함수'''\n",
    "    ''' 지금은 되게 기본 기능만 추가했지만 실제 기능구현시 많은 것을 고려해야함 '''\n",
    "    ''' 7페이지면 8페이지에 추가되는 형태로 일단 구현'''\n",
    "    def add_note(self, note, page = 0):\n",
    "        if self.page_number < 300:\n",
    "            if page == 0:\n",
    "                self.note[self.page_number] = note\n",
    "                self.page_number += 1\n",
    "\n",
    "            else:\n",
    "                self.notes = {page : note}\n",
    "                self.page_number += 1\n",
    "        else:\n",
    "            print(\"페이지가 300페이지가 넘어서 추가할 수 없어요\")\n",
    "\n",
    "    ''' 특정 페이지 번호에 있는 노트를 제거하는 함수'''\n",
    "    # 딕셔너리의 Key가 있는 지확인하고, 있다면 삭제 없으면 프린트문 사용해서 경고문장 출력\n",
    "    def remove_note(self, page_number):\n",
    "        if page_number in self.notes.keys():\n",
    "            return self.notes.pop(page_number)\n",
    "        else:\n",
    "            print(\"삭제된 노트입니다.\")\n",
    "\n",
    "    # 현재 노트 페이지 출력\n",
    "    def get_number_of_page(self):\n",
    "        return len(self.notes.keys())\n",
    "```"
   ]
  },
  {
   "cell_type": "code",
   "execution_count": 1,
   "id": "635e7233-b825-4203-a4bc-b371f0c036bb",
   "metadata": {},
   "outputs": [],
   "source": [
    "from notebook import Note\n",
    "from notebook import NoteBook"
   ]
  },
  {
   "cell_type": "code",
   "execution_count": 2,
   "id": "0314c245-9330-4169-9e62-52d64e7e1de4",
   "metadata": {},
   "outputs": [
    {
     "name": "stdout",
     "output_type": "stream",
     "text": [
      "안녕하세요 김태호입니다.\n"
     ]
    }
   ],
   "source": [
    "note_book_01 = Note(\"안녕하세요 김태호입니다.\")  # 노트 01 생성\n",
    "print(note_book_01)"
   ]
  },
  {
   "cell_type": "code",
   "execution_count": 3,
   "id": "978c4495-99ff-4b7c-bb28-564368cb6c2c",
   "metadata": {},
   "outputs": [
    {
     "name": "stdout",
     "output_type": "stream",
     "text": [
      "저는 축구를 좋아합니다.\n"
     ]
    }
   ],
   "source": [
    "note_book_02 = Note(\"저는 축구를 좋아합니다.\")  # 노트 02 생성\n",
    "print(note_book_02)"
   ]
  },
  {
   "cell_type": "code",
   "execution_count": 4,
   "id": "164eede2-f1cc-4823-97c5-13efeba7647c",
   "metadata": {},
   "outputs": [
    {
     "name": "stdout",
     "output_type": "stream",
     "text": [
      "\n"
     ]
    }
   ],
   "source": [
    "note_book_02.remove_all()  # 노트 0의 내용 삭제\n",
    "print(note_book_02)"
   ]
  },
  {
   "cell_type": "code",
   "execution_count": 3,
   "id": "91fbd903-3da7-4379-81cd-8a798a879fba",
   "metadata": {},
   "outputs": [],
   "source": [
    "# 노트북 생성\n",
    "\n",
    "my_story = NoteBook('나의 이야기')"
   ]
  },
  {
   "cell_type": "code",
   "execution_count": null,
   "id": "d8402cb1-ad72-4c0d-9925-7e37a9b8d415",
   "metadata": {},
   "outputs": [],
   "source": [
    "# 노트앱을 개발한다면, 다음과 같은 고민이 필요하다\n",
    "\n",
    "# 1. 내가 노트앱 개발자 서비스 기획라면 어떤 것을 더 개발했을까?\n",
    "# 2. 기존 노트앱의 한계는 무엇일까?\n",
    "# 3. 노트앱을 통해 얻을 수 있는 데이터는 무엇일까?"
   ]
  },
  {
   "cell_type": "markdown",
   "id": "5a047bfa-4736-4280-ab31-7a8f172f34d0",
   "metadata": {
    "tags": []
   },
   "source": [
    "[커스텀 클래스 활용 2]\n",
    "\n",
    "여러분들이 회원가입을 위한 것이나 데이터 처리를 할 경우 유저 데이터에 대해서 새롭게 쌓으려고 한다면\n",
    "이름, 성별, 나이 등등 필요할 것 -> self.이를 인스턴스 변수라 칭하자!!\n",
    "\n",
    "만약에 데이터 마트를 구축한다. 라고 하면 이를 가지고 사용자 정보를 출력하거나\n",
    "그리고 만약 마케팅을 한다라고 하면 다음과 같은 기능들이 있어야 할것이다.\n",
    "* 사용자에게 나이에 맞게 메일을 보낸다.\n",
    "* 사용자에게 특정시간에 어떠한 마케팅을 한다."
   ]
  },
  {
   "cell_type": "code",
   "execution_count": 165,
   "id": "7e2a1678-8814-41eb-b367-b2db0f28b681",
   "metadata": {},
   "outputs": [
    {
     "name": "stdout",
     "output_type": "stream",
     "text": [
      "User1\n",
      " User1\n",
      " User1@naver.kr\n",
      " User1\n",
      " new_user1@naver.com\n"
     ]
    }
   ],
   "source": [
    "# 클래스 정의\n",
    "class User:\n",
    "    \"\"\" 사용자 클래스 \"\"\"\n",
    "\n",
    "    def __init__(self, name, mail):\n",
    "        \"\"\" 초기화 처리 \"\"\"\n",
    "        self.name = name\n",
    "        self.mail = mail\n",
    "\n",
    "    def print_user_info(self):\n",
    "        \"\"\" 사용자 정보를 print로 출력 \"\"\"\n",
    "        print(\" \" + self.name)\n",
    "        print(\" \" + self.mail)\n",
    "\n",
    "# User 타입 객체 생성\n",
    "user1 = User(\"User1\", \"User1@naver.kr\")\n",
    "\n",
    "# User 타입 객체 생성\n",
    "print(user1.name)\n",
    "\n",
    "# User 타입 객체 생성\n",
    "user1.print_user_info()\n",
    "\n",
    "# User 타입 객체 생성\n",
    "user1.mail = \"new_user1@naver.com\"\n",
    "\n",
    "# 메서드\n",
    "user1.print_user_info()"
   ]
  },
  {
   "cell_type": "markdown",
   "id": "47453c58-49f2-44c2-9add-9d3a27eb8e3f",
   "metadata": {},
   "source": [
    "[커스텀 클래스 활용 3]"
   ]
  },
  {
   "cell_type": "code",
   "execution_count": 160,
   "id": "2715b60c-9198-4567-a303-2f7f2867494d",
   "metadata": {},
   "outputs": [],
   "source": [
    "class PokemonSelect:\n",
    "    def __init__(self, name, hp, attack, defense, s_attack, s_defense, speed):\n",
    "\n",
    "        self.name = name \n",
    "        self.hp = hp\n",
    "        self.attack = attack\n",
    "        self.defense = defense\n",
    "        self.s_attack = s_attack\n",
    "        self.s_defense = s_defense\n",
    "        self.speed = speed\n",
    "        \n",
    "        print(f\"{self.name}을 생성했습니다.\")\n",
    "        print(f\"체력은 {self.hp}, 공격력은 {self.defense}, 방어력은 {self.defense}, 특수공격은 {self.s_attack}, 특수방어는 {self.s_defense}, 민첩성은 {self.speed} 입니다.\")\n",
    "        \n",
    "    def attacked(self, name, attack_basic, attack):\n",
    "        print(f'{self.name}이(가) {attack_basic}을 했습니다. 데미지는 {self.attack} 만큼 피해를 주었습니다.' )\n",
    "\n",
    "    def damaged(self, damage):\n",
    "        print(f\"{self.name}가 {damage}만큼 피해를 입었습니다.\")\n",
    "        self.hp -= damage\n",
    "        # 남은 채력 출력\n",
    "        print(f\"현재 {self.name}의 체력은 {self.hp}이(가) 남았습니다. \")\n",
    "        \n",
    "        if self.hp <= 0:\n",
    "            print(f\"{self.name}의 체력이 0이 되었습니다. 게임을 다시 시작해주세요\")"
   ]
  },
  {
   "cell_type": "code",
   "execution_count": 161,
   "id": "3e8e2ba4-aebc-4601-8635-dfe48c0be9f9",
   "metadata": {},
   "outputs": [
    {
     "name": "stdout",
     "output_type": "stream",
     "text": [
      "피카츄을 생성했습니다.\n",
      "체력은 35, 공격력은 40, 방어력은 40, 특수공격은 50, 특수방어는 50, 민첩성은 90 입니다.\n"
     ]
    }
   ],
   "source": [
    "# 생성된 피카츄\n",
    "pikachu_025 = PokemonSelect(\"피카츄\", 35, 55, 40, 50, 50, 90)"
   ]
  },
  {
   "cell_type": "code",
   "execution_count": 162,
   "id": "4e5e307c-4d68-41cb-acf9-f2981817e609",
   "metadata": {},
   "outputs": [
    {
     "name": "stdout",
     "output_type": "stream",
     "text": [
      "피카츄이(가) 기본공격을 했습니다. 데미지는 55 만큼 피해를 주었습니다.\n"
     ]
    }
   ],
   "source": [
    "# 상대방의 방어력은 아직 반영 안함\n",
    "pikachu_025.attacked(pikachu_025.name, \"기본공격\", pikachu_025.attack)"
   ]
  },
  {
   "cell_type": "code",
   "execution_count": 163,
   "id": "f7421713-cd9a-454f-ad73-c1bea94095a5",
   "metadata": {},
   "outputs": [
    {
     "name": "stdout",
     "output_type": "stream",
     "text": [
      "피카츄가 30만큼 피해를 입었습니다.\n",
      "현재 피카츄의 체력은 5이(가) 남았습니다. \n"
     ]
    }
   ],
   "source": [
    "# 상대방의 공격력은 아직 반영 안함\n",
    "pikachu_025.damaged(30)"
   ]
  },
  {
   "cell_type": "code",
   "execution_count": 164,
   "id": "da9453a0-e228-4cbe-8136-978869489fe4",
   "metadata": {},
   "outputs": [
    {
     "name": "stdout",
     "output_type": "stream",
     "text": [
      "피카츄가 5만큼 피해를 입었습니다.\n",
      "현재 피카츄의 체력은 0이(가) 남았습니다. \n",
      "피카츄의 체력이 0이 되었습니다. 게임을 다시 시작해주세요\n"
     ]
    }
   ],
   "source": [
    "# 다시 상대편 차례라 공격\n",
    "pikachu_025.damaged(5)"
   ]
  },
  {
   "cell_type": "markdown",
   "id": "6d4313c1-d071-41d3-b936-806a340f8869",
   "metadata": {},
   "source": [
    "[커스텀 클래스 활용 4]\n",
    "\n",
    "차량 등록기 클래스 생성\n",
    "\n",
    "1. 총 주차 가능 대수인 capacity는 객체를 생성할때 전달받아 인스턴스 변수로 정의\n",
    "2. 현재 등록된 차량을 관리하는 count는 객체를 생성하여 0으로 정의\n",
    "3. 객체를 생성할때 등록 가능한 대수 출력\n",
    "4. 차를 신규 등록하는 register()메서드 생성\n",
    "5. 신규 등록시 등록 현황을 출력\n",
    "6. 총 주차가능대수가 초과할 경우 “등록할 수 없습니다.” 메세지 출력"
   ]
  },
  {
   "cell_type": "code",
   "execution_count": 62,
   "id": "b4a36cff-bce1-4fda-ab2b-f300aad611e6",
   "metadata": {},
   "outputs": [],
   "source": [
    "class ParkingManager:\n",
    "    \n",
    "    def __init__(self, capacity):\n",
    "        self.capacity = capacity\n",
    "        self.count = 0\n",
    "        print(f'현재 등록 가능한 차량은 {self.capacity}대 입니다')\n",
    "\n",
    "    def register(self):\n",
    "        if self.capacity > self.count:\n",
    "            self.count += 1\n",
    "            print(f'현재 {self.count}/{self.capacity}대의 차량이 등록되어 있습니다')\n",
    "        else:\n",
    "            print(f'총 주차 가능 대수를 초과했습니다')"
   ]
  },
  {
   "cell_type": "code",
   "execution_count": 63,
   "id": "30da2ce9-1d48-499d-b7b0-50050161f8e2",
   "metadata": {},
   "outputs": [
    {
     "name": "stdout",
     "output_type": "stream",
     "text": [
      "현재 등록 가능한 차량은 5대 입니다\n",
      "현재 1/5대의 차량이 등록되어 있습니다\n",
      "현재 2/5대의 차량이 등록되어 있습니다\n",
      "현재 3/5대의 차량이 등록되어 있습니다\n",
      "현재 4/5대의 차량이 등록되어 있습니다\n",
      "현재 5/5대의 차량이 등록되어 있습니다\n",
      "총 주차 가능 대수를 초과했습니다\n"
     ]
    }
   ],
   "source": [
    "manager = ParkingManager(5)\n",
    "for i in range(6):\n",
    "    manager.register()"
   ]
  },
  {
   "cell_type": "code",
   "execution_count": 60,
   "id": "abb8c764-c170-4916-98a1-af9fc0cee9bb",
   "metadata": {},
   "outputs": [],
   "source": [
    "class ParkingManager:\n",
    "    \n",
    "    count = 0\n",
    "    \n",
    "    def __init__(self, capacity):\n",
    "        self.capacity = capacity\n",
    "        print(f'현재 등록 가능한 차량은 {self.capacity}대 입니다')\n",
    "    \n",
    "    def register(self):\n",
    "        if self.capacity > ParkingManager.count:\n",
    "            ParkingManager.count += 1\n",
    "            print(f'현재 {ParkingManager.count}대의 차량이 등록되어 있습니다. {self.capacity - ParkingManager.count}대 주차 가능합니다')\n",
    "        else:\n",
    "            print(f'총 주차 가능 대수를 초과했습니다')"
   ]
  },
  {
   "cell_type": "code",
   "execution_count": 61,
   "id": "03f6527b-530a-4cfb-8ad8-28bdfa3d5f38",
   "metadata": {},
   "outputs": [
    {
     "name": "stdout",
     "output_type": "stream",
     "text": [
      "현재 등록 가능한 차량은 5대 입니다\n",
      "현재 1대의 차량이 등록되어 있습니다. 4대 주차 가능합니다\n",
      "현재 2대의 차량이 등록되어 있습니다. 3대 주차 가능합니다\n",
      "현재 3대의 차량이 등록되어 있습니다. 2대 주차 가능합니다\n",
      "현재 4대의 차량이 등록되어 있습니다. 1대 주차 가능합니다\n",
      "현재 5대의 차량이 등록되어 있습니다. 0대 주차 가능합니다\n",
      "총 주차 가능 대수를 초과했습니다\n"
     ]
    }
   ],
   "source": [
    "manager = ParkingManager(5)\n",
    "for i in range(6):\n",
    "    manager.register()"
   ]
  },
  {
   "cell_type": "markdown",
   "id": "bf62b568-4bf4-46e9-9808-0ba89a33a036",
   "metadata": {},
   "source": [
    "[커스텀 클래스 활용 5]\n",
    "\n",
    "부동산 프로그램 클래스로 만들기 - 공인중계사용\n",
    "\n",
    "1. self 생성자로 인스턴스 변수를 정의합니다.\n",
    "2. 매물정보를 표시하는 show_detail에서는 인스턴스 변수를 출력하여 부동산 정보를 표시하게 합니다.\n",
    "3. 네이버 부동산/아래 예시와 같이 매물 3가지의 정보를 받아 몇가지 매물이 있는 지 확인하고, 각 부동산 정보를 출력합니다.\n",
    "\n",
    "[출력 결과]\n",
    "총 3 개의 매물이 있습니다.\n",
    "강남 아파트 매매 10.5억 2010년\n",
    "강남 빌라 전세 12.5억 2015년\n",
    "강남 빌라 전세 12.5억 2015년"
   ]
  },
  {
   "cell_type": "code",
   "execution_count": 76,
   "id": "03d55b95-cef4-4d19-acaa-b6c2823f7ffa",
   "metadata": {},
   "outputs": [],
   "source": [
    "class House:\n",
    "        \n",
    "    count = 3\n",
    "\n",
    "    #매출 초기화 : 위치, 건물종류 , 매물종류, 가격, 준공연도\n",
    "    def __init__(self, location, house_type, deal_type, price, completion_year):\n",
    "        self.location = location\n",
    "        self.house_type = house_type\n",
    "        self.deal_type = deal_type\n",
    "        self.price = price\n",
    "        self.completion_year = completion_year\n",
    "\n",
    "    #매출 정보 표시\n",
    "    def show_detail(self):\n",
    "        print(f'{self.location} {self.house_type} {self.deal_type} {self.price}억 {self.completion_year}년')\n",
    "        \n",
    "    def __str__(self):\n",
    "        return f'총 {House.count}개의 매물이 있습니다'"
   ]
  },
  {
   "cell_type": "code",
   "execution_count": 79,
   "id": "9a0c82d2-f525-4cbb-9167-391c869bf2dc",
   "metadata": {},
   "outputs": [
    {
     "name": "stdout",
     "output_type": "stream",
     "text": [
      "총 3개의 매물이 있습니다\n",
      "강남 아파트 매매 10.5억 2010년\n",
      "강남 아파트 전세 12.5억 2015년\n",
      "강남 아파트 전세 12.5억 2015년\n"
     ]
    }
   ],
   "source": [
    "house = House('강남', '아파트', '매매', '10.5', '2010')\n",
    "print(house)\n",
    "house.show_detail()\n",
    "house.location, house.house_type, house.deal_type, house.price, house.completion_year = ('강남', '아파트', '전세', '12.5', '2015')\n",
    "house.show_detail()\n",
    "house.location, house.house_type, house.deal_type, house.price, house.completion_year = ('강남', '아파트', '전세', '12.5', '2015')\n",
    "house.show_detail()"
   ]
  },
  {
   "cell_type": "markdown",
   "id": "2a7f2fcc-5e98-4f83-9fe7-8f0b9147e667",
   "metadata": {},
   "source": [
    "## 상속관계의 두 클래스에 대해 올바른 실행코드의 출력은?"
   ]
  },
  {
   "cell_type": "code",
   "execution_count": 91,
   "id": "e2f5e839-3541-4d17-bc06-213c98ab8050",
   "metadata": {
    "tags": []
   },
   "outputs": [
    {
     "name": "stdout",
     "output_type": "stream",
     "text": [
      "나의 마블 캐릭터 이름은 타노스입니다. 저의 특수 능력치는 인피티니 건틀랫 입니다.\n"
     ]
    }
   ],
   "source": [
    "class Marvel(object):\n",
    "    def __init__(self, name, characteristic):\n",
    "        self.name = name\n",
    "        self.characteristic = characteristic\n",
    "\n",
    "    def __str__(self):\n",
    "        return f\"나의 마블 캐릭터 이름은 {self.name}입니다. 저의 특수 능력치는 {self.characteristic} 입니다.\"\n",
    "\n",
    "class Villain(Marvel):\n",
    "    pass\n",
    "\n",
    "first_villain = Villain(\"타노스\",\"인피티니 건틀랫\")\n",
    "print(first_villain)\n",
    "\n",
    "#1) 나의 마블 캐릭터 이름은 타노스입니다. 저의 특수 능력치는 인피티니 건틀랫 입니다.\n",
    "#2) 나의 마블 캐릭터 이름은 타노스입니다. 저의 특수 능력치는 None 입니다.\n",
    "#3) None\n",
    "#4) pass\n",
    "#5) 에러발생"
   ]
  },
  {
   "cell_type": "code",
   "execution_count": 96,
   "id": "86593511-892e-48e3-bd70-9362d27eca2b",
   "metadata": {},
   "outputs": [
    {
     "name": "stdout",
     "output_type": "stream",
     "text": [
      "LG에서 만든2022년형32인치 TV\n",
      "Samsung에서 만든2023년형15인치 노트북\n"
     ]
    }
   ],
   "source": [
    "class TV(object):\n",
    "    def __init__(self, size, year, company):\n",
    "        self.size = size\n",
    "        self.year = year\n",
    "        self.company = company\n",
    "\n",
    "    def describe(self):\n",
    "        print(self.company + \"에서 만든\" + self.year + \"년형\" + self.size + \"인치 TV\")\n",
    "\n",
    "class Laptop(TV):\n",
    "    def describe(self):\n",
    "        print(self.company + \"에서 만든\"  + self.year + \"년형\" + self.size + \"인치 노트북\")\n",
    "\n",
    "LG_TV = TV(\"32\", \"2022\", \"LG\")\n",
    "LG_TV.describe()\n",
    "\n",
    "samsung_microwave = Laptop(\"15\", \"2023\", \"Samsung\")\n",
    "samsung_microwave.describe()\n",
    "\n",
    "\n",
    "#1. LG에서 만든 2022년형15인치 TV\n",
    "#   Samsung에서 만든2023년형32인치 노트북\n",
    "\n",
    "#2. LG에서 만든 2022년형15인치 TV\n",
    "#   Samsung에서 만든 2023년형 15인치 노트북\n",
    "\n",
    "#3. LG에서 만든 2022년형 32인치 TV\n",
    "#   Samsung에서 만든 2023년형 32인치 노트북\n",
    "\n",
    "#4. LG에서 만든 2022년형 32인치 TV\n",
    "#   Samsung에서 만든 2023년형 15인치 노트북\n",
    "\n",
    "#5. LG에서 만든 2023년형 32인치 TV\n",
    "#   Samsung에서 만든 2022년형 15인치 노트북"
   ]
  },
  {
   "cell_type": "code",
   "execution_count": 97,
   "id": "cbf5beeb-7fbe-4435-85ef-823ea26a911c",
   "metadata": {},
   "outputs": [
    {
     "name": "stdout",
     "output_type": "stream",
     "text": [
      "직업을 구하는 중..\n",
      "취업 성공\n",
      "이름은 김진환 입니다.\n",
      "회사는 위니브 입니다.\n"
     ]
    }
   ],
   "source": [
    "class Company:\n",
    "    def __init__(self):\n",
    "        self.work = True\n",
    "        self.name = 'Jane'\n",
    "        self.company_name = 'woman'\n",
    "\n",
    "    def retire(self):\n",
    "        self.work = False\n",
    "\n",
    "class Employee(Company):\n",
    "    def __init__(self, name, company_name):\n",
    "        super().__init__()\n",
    "        self.name = name\n",
    "        self.company_name = company_name\n",
    "\n",
    "    def introduce(self):\n",
    "        if self.work == True:\n",
    "            print('취업 성공')\n",
    "            print(f'이름은 {self.name} 입니다.') \n",
    "            print(f'회사는 {self.company_name} 입니다.') \n",
    "\n",
    "        if self.work == False:\n",
    "            print(f'직업을 구하는 중..')\n",
    "\n",
    "em = Employee('김진환', '위니브')\n",
    "em.retire()\n",
    "em.introduce()\n",
    "Employee('김진환', '위니브').introduce()\n",
    "\n",
    "# 1. 취업성공\n",
    "#    이름은 김진환 입니다.\n",
    "#    회사는 위니브 입니다.\n",
    "#    직업을 구하는 중..\n",
    "\n",
    "# 2. 직업을 구하는 중..\n",
    "#    취업성공\n",
    "#    이름은 김진환 입니다.\n",
    "#    회사는 위니브 입니다.\n",
    "\n",
    "# 3. 직업을 구하는 중..\n",
    "#    이름은 김진환 입니다.\n",
    "#    회사는 위니브 입니다.\n",
    "#    직업을 구하는 중..\n",
    "\n",
    "# 4. error"
   ]
  }
 ],
 "metadata": {
  "kernelspec": {
   "display_name": "Python 3 (ipykernel)",
   "language": "python",
   "name": "python3"
  },
  "language_info": {
   "codemirror_mode": {
    "name": "ipython",
    "version": 3
   },
   "file_extension": ".py",
   "mimetype": "text/x-python",
   "name": "python",
   "nbconvert_exporter": "python",
   "pygments_lexer": "ipython3",
   "version": "3.8.12"
  }
 },
 "nbformat": 4,
 "nbformat_minor": 5
}
