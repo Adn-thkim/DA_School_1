{
 "cells": [
  {
   "cell_type": "markdown",
   "id": "3437cab7-f277-4fb5-a0e1-e92469537da9",
   "metadata": {},
   "source": [
    "# Pandas\n",
    "\n",
    "- DataFrame 구조\n",
    "- 데이터 자체를 분석, 파악하기 위해 사용\n",
    "- 정렬, 필터링, 그룹화, 집계 등 기능 제공"
   ]
  },
  {
   "cell_type": "markdown",
   "id": "a2263e63-2ec7-4030-82d0-fc548d62a386",
   "metadata": {},
   "source": [
    "## Pandas의 기능\n",
    "\n",
    "- 데이터 로딩 및 저장\n",
    "- 데이터 인덱싱 및 슬라이싱\n",
    "- 결측치 처리\n",
    "- 데이터 타입 변환\n",
    "- 데이터 집계 및 그룹화\n",
    "- 시계열 데이터 처리\n",
    "- 데이터 시각화"
   ]
  },
  {
   "cell_type": "markdown",
   "id": "93f91792-63b0-447d-ad28-5dec31c3e267",
   "metadata": {},
   "source": [
    "# Pandas의 데이터 구조\n",
    "\n",
    "- Series\n",
    "- DataFrame"
   ]
  },
  {
   "cell_type": "markdown",
   "id": "7f4c6583-42b1-49b8-a12c-880934ec2688",
   "metadata": {},
   "source": [
    "## Series\n",
    "\n",
    "- index를 가진 형태\n",
    "- dictionary 형태로 key: value 매칭을 통해 index를 지정한 Series 생성 가능\n",
    "- series.index 형태로 index를 호출할 수 있고, 리스트 형태로 index를 지정해 변경 가능\n",
    "  ```\n",
    "  Series를 생성할 때 스칼라를 입력하고, index를 2개 이상 입력하면 index의 크기만큼 스칼라가 복사되고 index를 지정한다</br>\n",
    "  ```\n",
    "- Series는 1차원 데이터구조인데 index가 있는 이유는?\n",
    "  ```\n",
    "  index가 있으면, computer에 데이터가 저장되어 있을떄 조회하는 속도가 빠르다\n",
    "  ```"
   ]
  },
  {
   "cell_type": "code",
   "execution_count": 1,
   "id": "fb1f794a-2cfd-488b-8392-4f53aa930b76",
   "metadata": {},
   "outputs": [],
   "source": [
    "import pandas as pd"
   ]
  },
  {
   "cell_type": "code",
   "execution_count": 2,
   "id": "fd8b7bb7-c815-42db-8d13-a91aa405df83",
   "metadata": {},
   "outputs": [
    {
     "name": "stdout",
     "output_type": "stream",
     "text": [
      "0    1\n",
      "1    2\n",
      "2    3\n",
      "3    4\n",
      "dtype: int64\n",
      "<class 'pandas.core.series.Series'>\n"
     ]
    }
   ],
   "source": [
    "series = pd.Series([1, 2, 3, 4])\n",
    "print(series)\n",
    "print(type(series))"
   ]
  },
  {
   "cell_type": "markdown",
   "id": "a7681f99-a706-46f2-a110-bf002878d742",
   "metadata": {},
   "source": [
    "### Indexing"
   ]
  },
  {
   "cell_type": "code",
   "execution_count": 3,
   "id": "4027b880-6347-4c2f-802b-2474f70ddb24",
   "metadata": {},
   "outputs": [
    {
     "name": "stdout",
     "output_type": "stream",
     "text": [
      "a    1\n",
      "b    2\n",
      "dtype: int64\n"
     ]
    }
   ],
   "source": [
    "series = pd.Series({'a': 1, 'b': 2})\n",
    "print(series)"
   ]
  },
  {
   "cell_type": "code",
   "execution_count": 6,
   "id": "9fee4d98-1e81-4c50-8792-66660db32c06",
   "metadata": {},
   "outputs": [
    {
     "name": "stdout",
     "output_type": "stream",
     "text": [
      "0    5\n",
      "1    5\n",
      "2    5\n",
      "dtype: int64\n"
     ]
    }
   ],
   "source": [
    "series = pd.Series(5, index = [0, 1, 2])\n",
    "print(series)"
   ]
  },
  {
   "cell_type": "code",
   "execution_count": 7,
   "id": "d2486492-4b8d-40eb-a74f-d5909c5b54ad",
   "metadata": {},
   "outputs": [
    {
     "name": "stdout",
     "output_type": "stream",
     "text": [
      "a    1\n",
      "b    2\n",
      "c    3\n",
      "dtype: int64\n"
     ]
    }
   ],
   "source": [
    "data = [1, 2, 3]\n",
    "index = ['a', 'b', 'c']\n",
    "\n",
    "series = pd.Series(data, index = index) # 이렇게 객체를 생성하는 코드를 -> \"객체지향적이다\" ???\n",
    "print(series)"
   ]
  },
  {
   "cell_type": "code",
   "execution_count": 8,
   "id": "e4e55f5e-c8c9-4a9e-8f71-deeba910d636",
   "metadata": {},
   "outputs": [
    {
     "name": "stdout",
     "output_type": "stream",
     "text": [
      "c    1\n",
      "d    2\n",
      "e    3\n",
      "dtype: int64\n"
     ]
    }
   ],
   "source": [
    "series.index = ['c', 'd', 'e']\n",
    "print(series)"
   ]
  },
  {
   "cell_type": "markdown",
   "id": "107a2c56-ef5f-42b9-a046-98bac1888a4d",
   "metadata": {},
   "source": [
    "### Boolean Indexing"
   ]
  },
  {
   "cell_type": "code",
   "execution_count": 31,
   "id": "896f0cf9-36bb-45e9-a471-2e9b82631ca5",
   "metadata": {},
   "outputs": [
    {
     "data": {
      "text/plain": [
       "d    3\n",
       "e    4\n",
       "dtype: int64"
      ]
     },
     "execution_count": 31,
     "metadata": {},
     "output_type": "execute_result"
    }
   ],
   "source": [
    "series = pd.Series(np.arange(5))\n",
    "\n",
    "series[series > 2]"
   ]
  },
  {
   "cell_type": "markdown",
   "id": "af5bfc13-53fb-4cfa-a2e0-3ff114bad569",
   "metadata": {},
   "source": [
    "### Slicing"
   ]
  },
  {
   "cell_type": "code",
   "execution_count": 42,
   "id": "6cd8edf8-0b9d-4614-9f8b-0b384ca4b3dd",
   "metadata": {},
   "outputs": [
    {
     "data": {
      "text/plain": [
       "0    0\n",
       "1    1\n",
       "2    2\n",
       "3    3\n",
       "dtype: int64"
      ]
     },
     "execution_count": 42,
     "metadata": {},
     "output_type": "execute_result"
    }
   ],
   "source": [
    "series = pd.Series(np.arange(5))\n",
    "\n",
    "series[:-1] # series[:4]"
   ]
  },
  {
   "cell_type": "code",
   "execution_count": 27,
   "id": "87da782c-0b81-4ba4-aaac-167efc7ac0d9",
   "metadata": {},
   "outputs": [
    {
     "data": {
      "text/plain": [
       "a    0\n",
       "b    1\n",
       "c    2\n",
       "dtype: int64"
      ]
     },
     "execution_count": 27,
     "metadata": {},
     "output_type": "execute_result"
    }
   ],
   "source": [
    "index = ['a', 'b', 'c', 'd', 'e']\n",
    "\n",
    "series.index = index\n",
    "\n",
    "series['a':'c']"
   ]
  },
  {
   "cell_type": "code",
   "execution_count": 29,
   "id": "59849f2a-a74f-444d-be44-415899c5bf8b",
   "metadata": {},
   "outputs": [
    {
     "data": {
      "text/plain": [
       "e    4\n",
       "d    3\n",
       "c    2\n",
       "b    1\n",
       "a    0\n",
       "dtype: int64"
      ]
     },
     "execution_count": 29,
     "metadata": {},
     "output_type": "execute_result"
    }
   ],
   "source": [
    "series[::-1]"
   ]
  },
  {
   "cell_type": "markdown",
   "id": "1349db6a-4be7-404f-ae38-5201218526ce",
   "metadata": {},
   "source": [
    "### 산술연산\n",
    "\n",
    "Series와 스칼라의 연산은 broadcast 된다"
   ]
  },
  {
   "cell_type": "code",
   "execution_count": 34,
   "id": "e8f006d3-8806-4f9b-ab6c-9bbe0a5844df",
   "metadata": {},
   "outputs": [
    {
     "data": {
      "text/plain": [
       "a    100\n",
       "b    101\n",
       "c    102\n",
       "d    103\n",
       "e    104\n",
       "dtype: int64"
      ]
     },
     "execution_count": 34,
     "metadata": {},
     "output_type": "execute_result"
    }
   ],
   "source": [
    "series + 100"
   ]
  },
  {
   "cell_type": "code",
   "execution_count": 35,
   "id": "14988fc4-55d2-41c9-bd11-1a7848aee2fd",
   "metadata": {},
   "outputs": [
    {
     "data": {
      "text/plain": [
       "a   -100\n",
       "b    -99\n",
       "c    -98\n",
       "d    -97\n",
       "e    -96\n",
       "dtype: int64"
      ]
     },
     "execution_count": 35,
     "metadata": {},
     "output_type": "execute_result"
    }
   ],
   "source": [
    "series - 100"
   ]
  },
  {
   "cell_type": "code",
   "execution_count": 36,
   "id": "f34f86ca-2732-4d62-8e9f-e61d6ff5c8ca",
   "metadata": {},
   "outputs": [
    {
     "data": {
      "text/plain": [
       "a      0\n",
       "b    100\n",
       "c    200\n",
       "d    300\n",
       "e    400\n",
       "dtype: int64"
      ]
     },
     "execution_count": 36,
     "metadata": {},
     "output_type": "execute_result"
    }
   ],
   "source": [
    "series * 100"
   ]
  },
  {
   "cell_type": "code",
   "execution_count": 39,
   "id": "0b771e0f-7328-46a3-8c79-baa0f1443fe6",
   "metadata": {},
   "outputs": [
    {
     "data": {
      "text/plain": [
       "a      0\n",
       "b      1\n",
       "c     16\n",
       "d     81\n",
       "e    256\n",
       "dtype: int64"
      ]
     },
     "execution_count": 39,
     "metadata": {},
     "output_type": "execute_result"
    }
   ],
   "source": [
    "series ** 4"
   ]
  },
  {
   "cell_type": "code",
   "execution_count": 40,
   "id": "695b3d4d-5606-4ccf-9bd9-ff57ee8fb2dc",
   "metadata": {},
   "outputs": [
    {
     "data": {
      "text/plain": [
       "a    0.00\n",
       "b    0.25\n",
       "c    0.50\n",
       "d    0.75\n",
       "e    1.00\n",
       "dtype: float64"
      ]
     },
     "execution_count": 40,
     "metadata": {},
     "output_type": "execute_result"
    }
   ],
   "source": [
    "series / 4"
   ]
  },
  {
   "cell_type": "markdown",
   "id": "5c173ea8-e08b-4936-afb4-98e14251e78d",
   "metadata": {},
   "source": [
    "### Series객체의 메서드\n",
    "\n",
    "- keys\n",
    "- values\n",
    "- items\n",
    "\n",
    "```\n",
    "keys vs keys()\n",
    "\n",
    "pd.Series.keys와 pd.Series.keys()는 Pandas의 Series 객체에서 사용되는 속성과 메서드이다\n",
    "\n",
    "pd.Series.keys: keys는 Series 객체의 속성(Attribute)으로, Series의 인덱스를 반환합니다\n",
    "                이는 Series의 인덱스 정보에 직접 접근하기 위해 사용됩니다. keys 속성은 실제로는 Index 클래스의 인스턴스입니다\n",
    "\n",
    "pd.Series.keys(): keys()는 Series 객체의 메서드(Method)로, Series의 인덱스를 반환하는 메서드입니다\n",
    "                  이 메서드는 pd.Index 객체를 반환합니다. keys() 메서드는 pd.Series.index와 동일한 결과를 반환합니다\n",
    "\n",
    "따라서, pd.Series.keys는 Series 객체의 인덱스를 직접 접근하기 위한 속성이고, pd.Series.keys()는 해당 인덱스를 반환하는 메서드입니다. 이 둘은 서로 유사하게 동작하지만, pd.Series.keys()는 메서드로써 호출되며, 메서드를 통해 인덱스 정보를 얻을 수 있습니다.\n",
    "```"
   ]
  },
  {
   "cell_type": "code",
   "execution_count": 68,
   "id": "d718b357-f8be-45de-ace3-01244cbe4b73",
   "metadata": {},
   "outputs": [
    {
     "name": "stdout",
     "output_type": "stream",
     "text": [
      "keys attribute: <bound method Series.keys of a    0\n",
      "b    1\n",
      "c    2\n",
      "d    3\n",
      "e    4\n",
      "dtype: int64>\n",
      "--------------------------------------------------\n",
      "keys method: Index(['a', 'b', 'c', 'd', 'e'], dtype='object')\n"
     ]
    }
   ],
   "source": [
    "series.index = ['a','b','c','d','e']\n",
    "\n",
    "print(f'keys attribute: {series.keys}')\n",
    "print('-'*50)\n",
    "print(f'keys method: {series.keys()}')"
   ]
  },
  {
   "cell_type": "code",
   "execution_count": 58,
   "id": "730976ab-9552-4129-9f18-c03cde10a8b2",
   "metadata": {
    "scrolled": true
   },
   "outputs": [
    {
     "data": {
      "text/plain": [
       "a    0\n",
       "b    1\n",
       "c    2\n",
       "d    3\n",
       "e    4\n",
       "dtype: int64"
      ]
     },
     "execution_count": 58,
     "metadata": {},
     "output_type": "execute_result"
    }
   ],
   "source": [
    "pd.Series(series.values, index = series.keys())"
   ]
  },
  {
   "cell_type": "code",
   "execution_count": 109,
   "id": "70c494c2-fdcb-4bb9-9eb8-2c11ec54e2fc",
   "metadata": {},
   "outputs": [
    {
     "name": "stdout",
     "output_type": "stream",
     "text": [
      "<zip object at 0x155b499c0>\n",
      "------------------------------\n",
      "[('a', 0), ('b', 1), ('c', 2), ('d', 3), ('e', 4)]\n",
      "<class 'list'>\n",
      "{('c', 2), ('a', 0), ('d', 3), ('e', 4), ('b', 1)}\n",
      "<class 'set'>\n"
     ]
    }
   ],
   "source": [
    "print(series.items())\n",
    "print('-'*30)\n",
    "print([*series.items()])\n",
    "print(type([*series.items()]))\n",
    "print({*series.items()})\n",
    "print(type({*series.items()}))"
   ]
  },
  {
   "cell_type": "code",
   "execution_count": 110,
   "id": "ee8ec520-2cf8-4aee-ab10-ac10785fe39a",
   "metadata": {},
   "outputs": [
    {
     "name": "stdout",
     "output_type": "stream",
     "text": [
      "a 0\n",
      "b 1\n",
      "c 2\n",
      "d 3\n",
      "e 4\n"
     ]
    }
   ],
   "source": [
    "for idx, val in series.items():\n",
    "    print(idx, val)"
   ]
  },
  {
   "cell_type": "markdown",
   "id": "89a37aa2-f5fa-41bf-8150-e63b77418d38",
   "metadata": {},
   "source": [
    "### 조회"
   ]
  },
  {
   "cell_type": "markdown",
   "id": "433cb88e-319e-44d1-8b7d-6eafaced023f",
   "metadata": {},
   "source": [
    "#### iloc, loc\n",
    "\n",
    "iloc: 정수 형태의 위치(position)를 기반으로 데이터 색인\n",
    "loc: 레이블(label)을 기반으로 데이터 색인"
   ]
  },
  {
   "cell_type": "code",
   "execution_count": 131,
   "id": "44cf7370-e307-41fd-a8c6-a9acdcbec953",
   "metadata": {},
   "outputs": [
    {
     "data": {
      "text/plain": [
       "a    0\n",
       "b    1\n",
       "c    2\n",
       "dtype: int64"
      ]
     },
     "execution_count": 131,
     "metadata": {},
     "output_type": "execute_result"
    }
   ],
   "source": [
    "series.iloc[:3]"
   ]
  },
  {
   "cell_type": "code",
   "execution_count": 135,
   "id": "f4e9f9f7-d959-49fe-9ad9-c2d6e766852e",
   "metadata": {},
   "outputs": [
    {
     "data": {
      "text/plain": [
       "a    0\n",
       "b    1\n",
       "c    2\n",
       "dtype: int64"
      ]
     },
     "execution_count": 135,
     "metadata": {},
     "output_type": "execute_result"
    }
   ],
   "source": [
    "series[:3]"
   ]
  },
  {
   "cell_type": "code",
   "execution_count": 144,
   "id": "fe3c20b2-a2ab-42b0-b4bb-6e847fc3e00b",
   "metadata": {},
   "outputs": [
    {
     "name": "stdout",
     "output_type": "stream",
     "text": [
      "1\n",
      "\n",
      "b    1\n",
      "c    2\n",
      "d    3\n",
      "dtype: int64\n",
      "\n",
      "b    1\n",
      "c    2\n",
      "d    3\n",
      "dtype: int64\n"
     ]
    }
   ],
   "source": [
    "print(series.loc['b'])\n",
    "print()\n",
    "print(series.loc[['b', 'c', 'd']])\n",
    "print()\n",
    "print(series.loc['b':'d'])"
   ]
  },
  {
   "cell_type": "code",
   "execution_count": 146,
   "id": "aa09330b-d88c-45b4-843a-74fc41ed1480",
   "metadata": {},
   "outputs": [
    {
     "name": "stdout",
     "output_type": "stream",
     "text": [
      "1\n",
      "\n",
      "b    1\n",
      "c    2\n",
      "d    3\n",
      "dtype: int64\n",
      "\n",
      "b    1\n",
      "c    2\n",
      "d    3\n",
      "dtype: int64\n"
     ]
    }
   ],
   "source": [
    "print(series['b'])\n",
    "print()\n",
    "print(series[['b', 'c', 'd']])\n",
    "print()\n",
    "print(series['b':'d'])"
   ]
  },
  {
   "cell_type": "code",
   "execution_count": 148,
   "id": "86e4da73-872e-4f4d-abe3-ff92d37f2720",
   "metadata": {},
   "outputs": [
    {
     "name": "stdout",
     "output_type": "stream",
     "text": [
      "a    0\n",
      "b    1\n",
      "c    2\n",
      "dtype: int64\n",
      "\n",
      "a    0\n",
      "b    1\n",
      "c    2\n",
      "dtype: int64\n",
      "\n",
      "a    0\n",
      "b    1\n",
      "c    2\n",
      "dtype: int64\n",
      "\n",
      "a    0\n",
      "b    1\n",
      "c    2\n",
      "dtype: int64\n"
     ]
    }
   ],
   "source": [
    "print(series.iloc[:3])\n",
    "print()\n",
    "print(series.iloc[[0, 1, 2]])\n",
    "print()\n",
    "print(series[:3])\n",
    "print()\n",
    "print(series[[0, 1, 2]])"
   ]
  },
  {
   "cell_type": "markdown",
   "id": "5fb638bb-5491-4e49-9e48-7e415c6c9d03",
   "metadata": {},
   "source": [
    "#### at, iat\n",
    "\n",
    "특정 위치의 값을 인덱싱하거나 변경할 때 사용하는 메서드</br>\n",
    "loc과 iloc과 비슷한 기능을 하지만, at과 iat은 단일 값에만 적용\n",
    "\n",
    "- at\n",
    "- iat"
   ]
  },
  {
   "cell_type": "code",
   "execution_count": 129,
   "id": "e9bde827-5ad6-4d4c-bb0c-739645ac2894",
   "metadata": {},
   "outputs": [
    {
     "data": {
      "text/plain": [
       "1"
      ]
     },
     "execution_count": 129,
     "metadata": {},
     "output_type": "execute_result"
    }
   ],
   "source": [
    "series.iat[1]"
   ]
  },
  {
   "cell_type": "code",
   "execution_count": 115,
   "id": "fc98422c-fd11-4cc2-bd5c-b44a7751ed14",
   "metadata": {},
   "outputs": [
    {
     "data": {
      "text/plain": [
       "3"
      ]
     },
     "execution_count": 115,
     "metadata": {},
     "output_type": "execute_result"
    }
   ],
   "source": [
    "series.iat[3]         # index location으로 색인"
   ]
  },
  {
   "cell_type": "code",
   "execution_count": 119,
   "id": "b87d0258-13c0-4081-ab61-912a22b578f0",
   "metadata": {
    "scrolled": true
   },
   "outputs": [
    {
     "ename": "KeyError",
     "evalue": "'f'",
     "output_type": "error",
     "traceback": [
      "\u001b[0;31m---------------------------------------------------------------------------\u001b[0m",
      "\u001b[0;31mKeyError\u001b[0m                                  Traceback (most recent call last)",
      "File \u001b[0;32m/opt/homebrew/Caskroom/miniforge/base/envs/likelion/lib/python3.11/site-packages/pandas/core/indexes/base.py:3652\u001b[0m, in \u001b[0;36mIndex.get_loc\u001b[0;34m(self, key)\u001b[0m\n\u001b[1;32m   3651\u001b[0m \u001b[38;5;28;01mtry\u001b[39;00m:\n\u001b[0;32m-> 3652\u001b[0m     \u001b[38;5;28;01mreturn\u001b[39;00m \u001b[38;5;28;43mself\u001b[39;49m\u001b[38;5;241;43m.\u001b[39;49m\u001b[43m_engine\u001b[49m\u001b[38;5;241;43m.\u001b[39;49m\u001b[43mget_loc\u001b[49m\u001b[43m(\u001b[49m\u001b[43mcasted_key\u001b[49m\u001b[43m)\u001b[49m\n\u001b[1;32m   3653\u001b[0m \u001b[38;5;28;01mexcept\u001b[39;00m \u001b[38;5;167;01mKeyError\u001b[39;00m \u001b[38;5;28;01mas\u001b[39;00m err:\n",
      "File \u001b[0;32m/opt/homebrew/Caskroom/miniforge/base/envs/likelion/lib/python3.11/site-packages/pandas/_libs/index.pyx:147\u001b[0m, in \u001b[0;36mpandas._libs.index.IndexEngine.get_loc\u001b[0;34m()\u001b[0m\n",
      "File \u001b[0;32m/opt/homebrew/Caskroom/miniforge/base/envs/likelion/lib/python3.11/site-packages/pandas/_libs/index.pyx:176\u001b[0m, in \u001b[0;36mpandas._libs.index.IndexEngine.get_loc\u001b[0;34m()\u001b[0m\n",
      "File \u001b[0;32mpandas/_libs/hashtable_class_helper.pxi:7080\u001b[0m, in \u001b[0;36mpandas._libs.hashtable.PyObjectHashTable.get_item\u001b[0;34m()\u001b[0m\n",
      "File \u001b[0;32mpandas/_libs/hashtable_class_helper.pxi:7088\u001b[0m, in \u001b[0;36mpandas._libs.hashtable.PyObjectHashTable.get_item\u001b[0;34m()\u001b[0m\n",
      "\u001b[0;31mKeyError\u001b[0m: 'f'",
      "\nThe above exception was the direct cause of the following exception:\n",
      "\u001b[0;31mKeyError\u001b[0m                                  Traceback (most recent call last)",
      "Cell \u001b[0;32mIn[119], line 1\u001b[0m\n\u001b[0;32m----> 1\u001b[0m \u001b[38;5;28mprint\u001b[39m(\u001b[43mseries\u001b[49m\u001b[38;5;241;43m.\u001b[39;49m\u001b[43mat\u001b[49m\u001b[43m[\u001b[49m\u001b[38;5;124;43m'\u001b[39;49m\u001b[38;5;124;43mf\u001b[39;49m\u001b[38;5;124;43m'\u001b[39;49m\u001b[43m]\u001b[49m)\n",
      "File \u001b[0;32m/opt/homebrew/Caskroom/miniforge/base/envs/likelion/lib/python3.11/site-packages/pandas/core/indexing.py:2412\u001b[0m, in \u001b[0;36m_AtIndexer.__getitem__\u001b[0;34m(self, key)\u001b[0m\n\u001b[1;32m   2409\u001b[0m         \u001b[38;5;28;01mraise\u001b[39;00m \u001b[38;5;167;01mValueError\u001b[39;00m(\u001b[38;5;124m\"\u001b[39m\u001b[38;5;124mInvalid call for scalar access (getting)!\u001b[39m\u001b[38;5;124m\"\u001b[39m)\n\u001b[1;32m   2410\u001b[0m     \u001b[38;5;28;01mreturn\u001b[39;00m \u001b[38;5;28mself\u001b[39m\u001b[38;5;241m.\u001b[39mobj\u001b[38;5;241m.\u001b[39mloc[key]\n\u001b[0;32m-> 2412\u001b[0m \u001b[38;5;28;01mreturn\u001b[39;00m \u001b[38;5;28;43msuper\u001b[39;49m\u001b[43m(\u001b[49m\u001b[43m)\u001b[49m\u001b[38;5;241;43m.\u001b[39;49m\u001b[38;5;21;43m__getitem__\u001b[39;49m\u001b[43m(\u001b[49m\u001b[43mkey\u001b[49m\u001b[43m)\u001b[49m\n",
      "File \u001b[0;32m/opt/homebrew/Caskroom/miniforge/base/envs/likelion/lib/python3.11/site-packages/pandas/core/indexing.py:2364\u001b[0m, in \u001b[0;36m_ScalarAccessIndexer.__getitem__\u001b[0;34m(self, key)\u001b[0m\n\u001b[1;32m   2361\u001b[0m         \u001b[38;5;28;01mraise\u001b[39;00m \u001b[38;5;167;01mValueError\u001b[39;00m(\u001b[38;5;124m\"\u001b[39m\u001b[38;5;124mInvalid call for scalar access (getting)!\u001b[39m\u001b[38;5;124m\"\u001b[39m)\n\u001b[1;32m   2363\u001b[0m key \u001b[38;5;241m=\u001b[39m \u001b[38;5;28mself\u001b[39m\u001b[38;5;241m.\u001b[39m_convert_key(key)\n\u001b[0;32m-> 2364\u001b[0m \u001b[38;5;28;01mreturn\u001b[39;00m \u001b[38;5;28;43mself\u001b[39;49m\u001b[38;5;241;43m.\u001b[39;49m\u001b[43mobj\u001b[49m\u001b[38;5;241;43m.\u001b[39;49m\u001b[43m_get_value\u001b[49m\u001b[43m(\u001b[49m\u001b[38;5;241;43m*\u001b[39;49m\u001b[43mkey\u001b[49m\u001b[43m,\u001b[49m\u001b[43m \u001b[49m\u001b[43mtakeable\u001b[49m\u001b[38;5;241;43m=\u001b[39;49m\u001b[38;5;28;43mself\u001b[39;49m\u001b[38;5;241;43m.\u001b[39;49m\u001b[43m_takeable\u001b[49m\u001b[43m)\u001b[49m\n",
      "File \u001b[0;32m/opt/homebrew/Caskroom/miniforge/base/envs/likelion/lib/python3.11/site-packages/pandas/core/series.py:1116\u001b[0m, in \u001b[0;36mSeries._get_value\u001b[0;34m(self, label, takeable)\u001b[0m\n\u001b[1;32m   1113\u001b[0m     \u001b[38;5;28;01mreturn\u001b[39;00m \u001b[38;5;28mself\u001b[39m\u001b[38;5;241m.\u001b[39m_values[label]\n\u001b[1;32m   1115\u001b[0m \u001b[38;5;66;03m# Similar to Index.get_value, but we do not fall back to positional\u001b[39;00m\n\u001b[0;32m-> 1116\u001b[0m loc \u001b[38;5;241m=\u001b[39m \u001b[38;5;28;43mself\u001b[39;49m\u001b[38;5;241;43m.\u001b[39;49m\u001b[43mindex\u001b[49m\u001b[38;5;241;43m.\u001b[39;49m\u001b[43mget_loc\u001b[49m\u001b[43m(\u001b[49m\u001b[43mlabel\u001b[49m\u001b[43m)\u001b[49m\n\u001b[1;32m   1118\u001b[0m \u001b[38;5;28;01mif\u001b[39;00m is_integer(loc):\n\u001b[1;32m   1119\u001b[0m     \u001b[38;5;28;01mreturn\u001b[39;00m \u001b[38;5;28mself\u001b[39m\u001b[38;5;241m.\u001b[39m_values[loc]\n",
      "File \u001b[0;32m/opt/homebrew/Caskroom/miniforge/base/envs/likelion/lib/python3.11/site-packages/pandas/core/indexes/base.py:3654\u001b[0m, in \u001b[0;36mIndex.get_loc\u001b[0;34m(self, key)\u001b[0m\n\u001b[1;32m   3652\u001b[0m     \u001b[38;5;28;01mreturn\u001b[39;00m \u001b[38;5;28mself\u001b[39m\u001b[38;5;241m.\u001b[39m_engine\u001b[38;5;241m.\u001b[39mget_loc(casted_key)\n\u001b[1;32m   3653\u001b[0m \u001b[38;5;28;01mexcept\u001b[39;00m \u001b[38;5;167;01mKeyError\u001b[39;00m \u001b[38;5;28;01mas\u001b[39;00m err:\n\u001b[0;32m-> 3654\u001b[0m     \u001b[38;5;28;01mraise\u001b[39;00m \u001b[38;5;167;01mKeyError\u001b[39;00m(key) \u001b[38;5;28;01mfrom\u001b[39;00m \u001b[38;5;21;01merr\u001b[39;00m\n\u001b[1;32m   3655\u001b[0m \u001b[38;5;28;01mexcept\u001b[39;00m \u001b[38;5;167;01mTypeError\u001b[39;00m:\n\u001b[1;32m   3656\u001b[0m     \u001b[38;5;66;03m# If we have a listlike key, _check_indexing_error will raise\u001b[39;00m\n\u001b[1;32m   3657\u001b[0m     \u001b[38;5;66;03m#  InvalidIndexError. Otherwise we fall through and re-raise\u001b[39;00m\n\u001b[1;32m   3658\u001b[0m     \u001b[38;5;66;03m#  the TypeError.\u001b[39;00m\n\u001b[1;32m   3659\u001b[0m     \u001b[38;5;28mself\u001b[39m\u001b[38;5;241m.\u001b[39m_check_indexing_error(key)\n",
      "\u001b[0;31mKeyError\u001b[0m: 'f'"
     ]
    }
   ],
   "source": [
    "print(series.at['f']) # 찾은 Index 값이 없으면 에러 발생"
   ]
  },
  {
   "cell_type": "code",
   "execution_count": 118,
   "id": "871d5aac-0080-4afa-ab73-323edd24ef01",
   "metadata": {},
   "outputs": [
    {
     "name": "stdout",
     "output_type": "stream",
     "text": [
      "None\n"
     ]
    }
   ],
   "source": [
    "print(series.get('f')) # 찾는 Index 값이 없으면 None 반환"
   ]
  },
  {
   "cell_type": "code",
   "execution_count": 125,
   "id": "6645ab84-4bfc-4d4c-9a51-f65c5560b092",
   "metadata": {},
   "outputs": [
    {
     "name": "stdout",
     "output_type": "stream",
     "text": [
      "a    0\n",
      "b    1\n",
      "c    2\n",
      "dtype: int64\n"
     ]
    }
   ],
   "source": [
    "print(series.get(['a', 'b', 'c'])) # 리스트 자료형으로 찾고 싶은 Index를 묶어서 인자에 전달하면 여러 값 호출 가능"
   ]
  },
  {
   "cell_type": "code",
   "execution_count": 123,
   "id": "b0efb1cb-912a-4918-b031-72a1d4ff2934",
   "metadata": {},
   "outputs": [
    {
     "name": "stdout",
     "output_type": "stream",
     "text": [
      "None\n"
     ]
    }
   ],
   "source": [
    "print(series.get(['a', 'g'])) # 단, 일치하지 않는 Index가 있으면 None"
   ]
  },
  {
   "cell_type": "code",
   "execution_count": 138,
   "id": "04f4fab2-7b1c-4ae5-9b43-bf2c6ec72365",
   "metadata": {},
   "outputs": [
    {
     "name": "stdout",
     "output_type": "stream",
     "text": [
      "-1\n"
     ]
    }
   ],
   "source": [
    "print(series.get(['g'], default = -1)) # 일치하는 Index가 없을때, 반환값 지정"
   ]
  },
  {
   "cell_type": "markdown",
   "id": "d9a98896-984a-42fa-af9a-aabff26eaae9",
   "metadata": {},
   "source": [
    "## 결측값 (NaN, None)\n",
    "\n",
    "NaN(Not a Number) vs None\n",
    "\n",
    "NaN: float type\n",
    "None: None type"
   ]
  },
  {
   "cell_type": "code",
   "execution_count": 152,
   "id": "3d36bae7-c8a1-485c-b80d-ee67ef831013",
   "metadata": {},
   "outputs": [],
   "source": [
    "lst = [1, 2, 3, None]"
   ]
  },
  {
   "cell_type": "code",
   "execution_count": 157,
   "id": "d69f20ca-8b58-4f98-923f-159b9e3642fd",
   "metadata": {},
   "outputs": [
    {
     "name": "stdout",
     "output_type": "stream",
     "text": [
      "[1 2 3 None]\n",
      "\n",
      "0    1.0\n",
      "1    2.0\n",
      "2    3.0\n",
      "3    NaN\n",
      "dtype: float64\n"
     ]
    }
   ],
   "source": [
    "# Numpy와 Pandas에서 None을 다르게 처리한다\n",
    "\n",
    "arr_none = np.array(lst)\n",
    "series_none = pd.Series(lst)\n",
    "print(arr_none)\n",
    "print()\n",
    "print(series_none) # NaN은 float type이기 때문에 에러 발생이 적어진다"
   ]
  },
  {
   "cell_type": "markdown",
   "id": "73b50200-ceab-46db-b63b-5a12a4d3840d",
   "metadata": {},
   "source": [
    "### 결측치 확인 메서드\n",
    "\n",
    "- isna()\n",
    "- isnull()\n",
    "- notna()\n",
    "- notnull()"
   ]
  },
  {
   "cell_type": "code",
   "execution_count": 165,
   "id": "4b14e6aa-697c-45aa-804c-52a8cb982476",
   "metadata": {},
   "outputs": [
    {
     "name": "stdout",
     "output_type": "stream",
     "text": [
      "0    False\n",
      "1    False\n",
      "2    False\n",
      "3     True\n",
      "dtype: bool\n",
      "\n",
      "0    False\n",
      "1    False\n",
      "2    False\n",
      "3     True\n",
      "dtype: bool\n"
     ]
    }
   ],
   "source": [
    "print(series_none.isna())\n",
    "print()\n",
    "print(series_none.isnull())"
   ]
  },
  {
   "cell_type": "code",
   "execution_count": 173,
   "id": "e4e4317b-6847-43a1-955f-ebf174644123",
   "metadata": {},
   "outputs": [
    {
     "name": "stdout",
     "output_type": "stream",
     "text": [
      "1\n",
      "3\n",
      "1\n",
      "3\n"
     ]
    }
   ],
   "source": [
    "print(series_none.isna().sum())\n",
    "print(series_none.notna().sum())\n",
    "print(series_none.isnull().sum())\n",
    "print(series_none.notnull().sum())"
   ]
  },
  {
   "cell_type": "markdown",
   "id": "974b0164-64e2-4947-8c0e-aebe6b8360b4",
   "metadata": {},
   "source": [
    "### 결측치 처리 메서드\n",
    "\n",
    "- 결측치 제거: dropna\n",
    "- 결측치 대치: fillna"
   ]
  },
  {
   "cell_type": "code",
   "execution_count": 174,
   "id": "07cf18bf-4d85-444b-83b4-ef24a383e11e",
   "metadata": {},
   "outputs": [
    {
     "name": "stdout",
     "output_type": "stream",
     "text": [
      "0    1.0\n",
      "1    2.0\n",
      "2    3.0\n",
      "dtype: float64\n"
     ]
    }
   ],
   "source": [
    "print(series_none.dropna())"
   ]
  },
  {
   "cell_type": "code",
   "execution_count": 175,
   "id": "3fd15e10-765e-490b-9c43-42250d2577c8",
   "metadata": {},
   "outputs": [
    {
     "name": "stdout",
     "output_type": "stream",
     "text": [
      "0    1.0\n",
      "1    2.0\n",
      "2    3.0\n",
      "3    0.0\n",
      "dtype: float64\n"
     ]
    }
   ],
   "source": [
    "print(series_none.fillna(0))"
   ]
  },
  {
   "cell_type": "markdown",
   "id": "9b335952-6b7c-497e-af57-dc91e70fc939",
   "metadata": {},
   "source": [
    "## Series 메서드\n",
    "\n",
    "set_value\n",
    "reset_index\n",
    "reindex\n",
    ".rename(lambda x: x.lower()) - 인덱스를 변경하는데 값이 변경되는 현상-> 왜인지 모르겠고\n",
    "                                lambda를 적용해서 소문자 or 대문자로 변경하는 등 작업이 가능하다\n",
    "drop_duplecates: 중복값 제거\n",
    "duplicated: 중복여부 boolean return\n",
    "(String Operations) str"
   ]
  },
  {
   "cell_type": "markdown",
   "id": "47d19757-4b8f-436d-b6ef-49c8fd6bb004",
   "metadata": {},
   "source": [
    "### element-wise"
   ]
  },
  {
   "cell_type": "code",
   "execution_count": 176,
   "id": "e7608208-299a-4097-802a-16a397187713",
   "metadata": {},
   "outputs": [
    {
     "data": {
      "text/plain": [
       "3"
      ]
     },
     "execution_count": 176,
     "metadata": {},
     "output_type": "execute_result"
    }
   ],
   "source": [
    "# 결측치를 제외한 요소 count\n",
    "series_none.count()"
   ]
  },
  {
   "cell_type": "code",
   "execution_count": 177,
   "id": "3b7a451e-1e58-4ad2-a0f2-f47974854869",
   "metadata": {},
   "outputs": [
    {
     "data": {
      "text/plain": [
       "4"
      ]
     },
     "execution_count": 177,
     "metadata": {},
     "output_type": "execute_result"
    }
   ],
   "source": [
    "len(series_none)"
   ]
  },
  {
   "cell_type": "code",
   "execution_count": 387,
   "id": "3694ce8f-eea6-4544-aabf-50e2aeeeb6bb",
   "metadata": {},
   "outputs": [
    {
     "data": {
      "text/plain": [
       "1.0    1\n",
       "2.0    1\n",
       "3.0    1\n",
       "Name: count, dtype: int64"
      ]
     },
     "execution_count": 387,
     "metadata": {},
     "output_type": "execute_result"
    }
   ],
   "source": [
    "series_none.value_counts()"
   ]
  },
  {
   "cell_type": "code",
   "execution_count": null,
   "id": "729ab7f0-9b7e-456f-afdf-48b4117f60e5",
   "metadata": {},
   "outputs": [],
   "source": [
    "String Operations\n"
   ]
  },
  {
   "cell_type": "markdown",
   "id": "4c309453-46d8-4d66-b94a-9bdb68661e0d",
   "metadata": {},
   "source": [
    "### aggregate"
   ]
  },
  {
   "cell_type": "code",
   "execution_count": 182,
   "id": "f98a2c2f-ff5b-4dda-b1b7-80e0606bf7c8",
   "metadata": {},
   "outputs": [
    {
     "name": "stdout",
     "output_type": "stream",
     "text": [
      "<class 'pandas.core.series.Series'>\n",
      "Index: 5 entries, a to e\n",
      "Series name: None\n",
      "Non-Null Count  Dtype\n",
      "--------------  -----\n",
      "5 non-null      int64\n",
      "dtypes: int64(1)\n",
      "memory usage: 252.0+ bytes\n"
     ]
    }
   ],
   "source": [
    "series.info()"
   ]
  },
  {
   "cell_type": "code",
   "execution_count": 179,
   "id": "22e6a0ae-44ec-4764-aa5d-853da29ba151",
   "metadata": {},
   "outputs": [
    {
     "name": "stdout",
     "output_type": "stream",
     "text": [
      "2.0\n",
      "0\n",
      "4\n",
      "2.0\n"
     ]
    }
   ],
   "source": [
    "print(series.mean())\n",
    "print(series.min())\n",
    "print(series.max())\n",
    "print(series.median())"
   ]
  },
  {
   "cell_type": "code",
   "execution_count": 181,
   "id": "6b8e1969-27c0-40f2-b529-caba09737d17",
   "metadata": {},
   "outputs": [
    {
     "data": {
      "text/plain": [
       "count    5.000000\n",
       "mean     2.000000\n",
       "std      1.581139\n",
       "min      0.000000\n",
       "25%      1.000000\n",
       "50%      2.000000\n",
       "75%      3.000000\n",
       "max      4.000000\n",
       "dtype: float64"
      ]
     },
     "execution_count": 181,
     "metadata": {},
     "output_type": "execute_result"
    }
   ],
   "source": [
    "# 기초 통계 내용 출력\n",
    "\n",
    "series.describe()"
   ]
  },
  {
   "cell_type": "markdown",
   "id": "886e3b42-048e-44db-88e2-6959d92a8aa8",
   "metadata": {},
   "source": [
    "## DataFrame - [pivot 정리](https://wikidocs.net/154073)\n",
    "\n",
    "- DataFrame( ): DataFrame create\n",
    "    - data:\n",
    "    - index:\n",
    "    - columns:\n",
    "    - dtype:\n",
    "\n",
    "- read_csv( ): DataFrame load\n",
    "    - data: path of data\n",
    "    - index: \n",
    "    - dtype: \n",
    "    - sep: 파일 형식에 따른 구분자 지정\n",
    "    - header: column names 지정 (default: infer / None / 0: 첫 row를 header로 지정)\n",
    "    - index_col: column을 index로 지정\n",
    "    - encoding: (utf-8, cp949, euc-kr)\n",
    "    - skiprows\n",
    "    - skipfooter"
   ]
  },
  {
   "cell_type": "markdown",
   "id": "fbb51366-d8e1-4723-aa1b-a7db9f6008dd",
   "metadata": {},
   "source": [
    "### DataFrame 생성"
   ]
  },
  {
   "cell_type": "code",
   "execution_count": 283,
   "id": "889e5103-6156-454f-9166-d2b4ea0cebc8",
   "metadata": {},
   "outputs": [
    {
     "data": {
      "text/html": [
       "<div>\n",
       "<style scoped>\n",
       "    .dataframe tbody tr th:only-of-type {\n",
       "        vertical-align: middle;\n",
       "    }\n",
       "\n",
       "    .dataframe tbody tr th {\n",
       "        vertical-align: top;\n",
       "    }\n",
       "\n",
       "    .dataframe thead th {\n",
       "        text-align: right;\n",
       "    }\n",
       "</style>\n",
       "<table border=\"1\" class=\"dataframe\">\n",
       "  <thead>\n",
       "    <tr style=\"text-align: right;\">\n",
       "      <th></th>\n",
       "      <th>연차</th>\n",
       "      <th>연도</th>\n",
       "      <th>매출</th>\n",
       "    </tr>\n",
       "  </thead>\n",
       "  <tbody>\n",
       "    <tr>\n",
       "      <th>0</th>\n",
       "      <td>1</td>\n",
       "      <td>2015</td>\n",
       "      <td>10000</td>\n",
       "    </tr>\n",
       "    <tr>\n",
       "      <th>1</th>\n",
       "      <td>2</td>\n",
       "      <td>2016</td>\n",
       "      <td>20000</td>\n",
       "    </tr>\n",
       "    <tr>\n",
       "      <th>2</th>\n",
       "      <td>3</td>\n",
       "      <td>2017</td>\n",
       "      <td>30000</td>\n",
       "    </tr>\n",
       "  </tbody>\n",
       "</table>\n",
       "</div>"
      ],
      "text/plain": [
       "   연차    연도     매출\n",
       "0   1  2015  10000\n",
       "1   2  2016  20000\n",
       "2   3  2017  30000"
      ]
     },
     "execution_count": 283,
     "metadata": {},
     "output_type": "execute_result"
    }
   ],
   "source": [
    "df = pd.DataFrame({\n",
    "    '연차': [1, 2, 3],\n",
    "    '연도': [2015, 2016, 2017],\n",
    "    '매출': [10000, 20000, 30000]\n",
    "})\n",
    "\n",
    "df.head()"
   ]
  },
  {
   "cell_type": "code",
   "execution_count": 186,
   "id": "beb3bbd1-69d4-4d16-b953-0cf396e0b0f3",
   "metadata": {},
   "outputs": [
    {
     "name": "stdout",
     "output_type": "stream",
     "text": [
      "index: RangeIndex(start=0, stop=3, step=1)\n",
      "\n",
      "columns: Index(['연차', '연도', '매출'], dtype='object')\n"
     ]
    }
   ],
   "source": [
    "print(f'index: {df.index}')\n",
    "print()\n",
    "print(f'columns: {df.columns}')"
   ]
  },
  {
   "cell_type": "markdown",
   "id": "a76e2f51-4aff-4001-958b-14b10639c27c",
   "metadata": {},
   "source": [
    "Index를 잘 지정하면, 조회한 column에 대한 데이터를 이해하기 쉽다"
   ]
  },
  {
   "cell_type": "code",
   "execution_count": 192,
   "id": "5ea291ca-0f71-4f45-b8a2-e7f53677a65c",
   "metadata": {},
   "outputs": [
    {
     "data": {
      "text/html": [
       "<div>\n",
       "<style scoped>\n",
       "    .dataframe tbody tr th:only-of-type {\n",
       "        vertical-align: middle;\n",
       "    }\n",
       "\n",
       "    .dataframe tbody tr th {\n",
       "        vertical-align: top;\n",
       "    }\n",
       "\n",
       "    .dataframe thead th {\n",
       "        text-align: right;\n",
       "    }\n",
       "</style>\n",
       "<table border=\"1\" class=\"dataframe\">\n",
       "  <thead>\n",
       "    <tr style=\"text-align: right;\">\n",
       "      <th></th>\n",
       "      <th>연차</th>\n",
       "      <th>매출</th>\n",
       "    </tr>\n",
       "    <tr>\n",
       "      <th>연도</th>\n",
       "      <th></th>\n",
       "      <th></th>\n",
       "    </tr>\n",
       "  </thead>\n",
       "  <tbody>\n",
       "    <tr>\n",
       "      <th>2015</th>\n",
       "      <td>1</td>\n",
       "      <td>10000</td>\n",
       "    </tr>\n",
       "    <tr>\n",
       "      <th>2016</th>\n",
       "      <td>2</td>\n",
       "      <td>20000</td>\n",
       "    </tr>\n",
       "    <tr>\n",
       "      <th>2017</th>\n",
       "      <td>3</td>\n",
       "      <td>30000</td>\n",
       "    </tr>\n",
       "  </tbody>\n",
       "</table>\n",
       "</div>"
      ],
      "text/plain": [
       "      연차     매출\n",
       "연도             \n",
       "2015   1  10000\n",
       "2016   2  20000\n",
       "2017   3  30000"
      ]
     },
     "execution_count": 192,
     "metadata": {},
     "output_type": "execute_result"
    }
   ],
   "source": [
    "# column을 index 설정\n",
    "\n",
    "df.set_index('연도', inplace = True)\n",
    "df.head()"
   ]
  },
  {
   "cell_type": "code",
   "execution_count": 193,
   "id": "43ba23db-459a-4eba-a354-b7f4089031b8",
   "metadata": {},
   "outputs": [
    {
     "data": {
      "text/plain": [
       "연도\n",
       "2015    10000\n",
       "2016    20000\n",
       "2017    30000\n",
       "Name: 매출, dtype: int64"
      ]
     },
     "execution_count": 193,
     "metadata": {},
     "output_type": "execute_result"
    }
   ],
   "source": [
    "df['매출']"
   ]
  },
  {
   "cell_type": "code",
   "execution_count": 191,
   "id": "1672eafc-a0fd-4a0a-985e-42a9c62a649d",
   "metadata": {},
   "outputs": [
    {
     "data": {
      "text/html": [
       "<div>\n",
       "<style scoped>\n",
       "    .dataframe tbody tr th:only-of-type {\n",
       "        vertical-align: middle;\n",
       "    }\n",
       "\n",
       "    .dataframe tbody tr th {\n",
       "        vertical-align: top;\n",
       "    }\n",
       "\n",
       "    .dataframe thead th {\n",
       "        text-align: right;\n",
       "    }\n",
       "</style>\n",
       "<table border=\"1\" class=\"dataframe\">\n",
       "  <thead>\n",
       "    <tr style=\"text-align: right;\">\n",
       "      <th></th>\n",
       "      <th>연도</th>\n",
       "      <th>연차</th>\n",
       "      <th>매출</th>\n",
       "    </tr>\n",
       "  </thead>\n",
       "  <tbody>\n",
       "    <tr>\n",
       "      <th>0</th>\n",
       "      <td>2015</td>\n",
       "      <td>1</td>\n",
       "      <td>10000</td>\n",
       "    </tr>\n",
       "    <tr>\n",
       "      <th>1</th>\n",
       "      <td>2016</td>\n",
       "      <td>2</td>\n",
       "      <td>20000</td>\n",
       "    </tr>\n",
       "    <tr>\n",
       "      <th>2</th>\n",
       "      <td>2017</td>\n",
       "      <td>3</td>\n",
       "      <td>30000</td>\n",
       "    </tr>\n",
       "  </tbody>\n",
       "</table>\n",
       "</div>"
      ],
      "text/plain": [
       "     연도  연차     매출\n",
       "0  2015   1  10000\n",
       "1  2016   2  20000\n",
       "2  2017   3  30000"
      ]
     },
     "execution_count": 191,
     "metadata": {},
     "output_type": "execute_result"
    }
   ],
   "source": [
    "# index를 column으로 추출\n",
    "# reset_index - drop / inplace\n",
    "\n",
    "df.reset_index(inplace = True)\n",
    "df.head()"
   ]
  },
  {
   "cell_type": "markdown",
   "id": "a8b9539b-5447-4ddc-afd5-5b12c78cdf10",
   "metadata": {},
   "source": [
    "### csv data load"
   ]
  },
  {
   "cell_type": "code",
   "execution_count": 209,
   "id": "d43d4376-0c80-4dca-938c-bbfe7f227165",
   "metadata": {},
   "outputs": [],
   "source": [
    "import os"
   ]
  },
  {
   "cell_type": "code",
   "execution_count": 236,
   "id": "c102fcb8-3a58-4d6f-96a2-c1bd79324c09",
   "metadata": {},
   "outputs": [
    {
     "name": "stdout",
     "output_type": "stream",
     "text": [
      "/Users/thkim/Documents/likelion/study_notes/../source/sample_data\n"
     ]
    }
   ],
   "source": [
    "data_path = os.path.join(os.getcwd(), '..', 'source/sample_data')\n",
    "print(data_path)"
   ]
  },
  {
   "cell_type": "code",
   "execution_count": 311,
   "id": "fcbbca8c-507f-4146-8d29-91b14229eac8",
   "metadata": {},
   "outputs": [
    {
     "data": {
      "text/html": [
       "<div>\n",
       "<style scoped>\n",
       "    .dataframe tbody tr th:only-of-type {\n",
       "        vertical-align: middle;\n",
       "    }\n",
       "\n",
       "    .dataframe tbody tr th {\n",
       "        vertical-align: top;\n",
       "    }\n",
       "\n",
       "    .dataframe thead th {\n",
       "        text-align: right;\n",
       "    }\n",
       "</style>\n",
       "<table border=\"1\" class=\"dataframe\">\n",
       "  <thead>\n",
       "    <tr style=\"text-align: right;\">\n",
       "      <th></th>\n",
       "      <th>longitude</th>\n",
       "      <th>latitude</th>\n",
       "      <th>housing_median_age</th>\n",
       "      <th>total_rooms</th>\n",
       "      <th>total_bedrooms</th>\n",
       "      <th>population</th>\n",
       "      <th>households</th>\n",
       "      <th>median_income</th>\n",
       "      <th>median_house_value</th>\n",
       "    </tr>\n",
       "  </thead>\n",
       "  <tbody>\n",
       "    <tr>\n",
       "      <th>0</th>\n",
       "      <td>-122.05</td>\n",
       "      <td>37.37</td>\n",
       "      <td>27.0</td>\n",
       "      <td>3885.0</td>\n",
       "      <td>661.0</td>\n",
       "      <td>1537.0</td>\n",
       "      <td>606.0</td>\n",
       "      <td>6.6085</td>\n",
       "      <td>344700.0</td>\n",
       "    </tr>\n",
       "    <tr>\n",
       "      <th>1</th>\n",
       "      <td>-118.30</td>\n",
       "      <td>34.26</td>\n",
       "      <td>43.0</td>\n",
       "      <td>1510.0</td>\n",
       "      <td>310.0</td>\n",
       "      <td>809.0</td>\n",
       "      <td>277.0</td>\n",
       "      <td>3.5990</td>\n",
       "      <td>176500.0</td>\n",
       "    </tr>\n",
       "    <tr>\n",
       "      <th>2</th>\n",
       "      <td>-117.81</td>\n",
       "      <td>33.78</td>\n",
       "      <td>27.0</td>\n",
       "      <td>3589.0</td>\n",
       "      <td>507.0</td>\n",
       "      <td>1484.0</td>\n",
       "      <td>495.0</td>\n",
       "      <td>5.7934</td>\n",
       "      <td>270500.0</td>\n",
       "    </tr>\n",
       "    <tr>\n",
       "      <th>3</th>\n",
       "      <td>-118.36</td>\n",
       "      <td>33.82</td>\n",
       "      <td>28.0</td>\n",
       "      <td>67.0</td>\n",
       "      <td>15.0</td>\n",
       "      <td>49.0</td>\n",
       "      <td>11.0</td>\n",
       "      <td>6.1359</td>\n",
       "      <td>330000.0</td>\n",
       "    </tr>\n",
       "    <tr>\n",
       "      <th>4</th>\n",
       "      <td>-119.67</td>\n",
       "      <td>36.33</td>\n",
       "      <td>19.0</td>\n",
       "      <td>1241.0</td>\n",
       "      <td>244.0</td>\n",
       "      <td>850.0</td>\n",
       "      <td>237.0</td>\n",
       "      <td>2.9375</td>\n",
       "      <td>81700.0</td>\n",
       "    </tr>\n",
       "  </tbody>\n",
       "</table>\n",
       "</div>"
      ],
      "text/plain": [
       "   longitude  latitude  housing_median_age  total_rooms  total_bedrooms   \n",
       "0    -122.05     37.37                27.0       3885.0           661.0  \\\n",
       "1    -118.30     34.26                43.0       1510.0           310.0   \n",
       "2    -117.81     33.78                27.0       3589.0           507.0   \n",
       "3    -118.36     33.82                28.0         67.0            15.0   \n",
       "4    -119.67     36.33                19.0       1241.0           244.0   \n",
       "\n",
       "   population  households  median_income  median_house_value  \n",
       "0      1537.0       606.0         6.6085            344700.0  \n",
       "1       809.0       277.0         3.5990            176500.0  \n",
       "2      1484.0       495.0         5.7934            270500.0  \n",
       "3        49.0        11.0         6.1359            330000.0  \n",
       "4       850.0       237.0         2.9375             81700.0  "
      ]
     },
     "execution_count": 311,
     "metadata": {},
     "output_type": "execute_result"
    }
   ],
   "source": [
    "df_house = pd.read_csv(os.path.join(data_path, 'california_housing_test.csv'))\n",
    "df_house.head()"
   ]
  },
  {
   "cell_type": "markdown",
   "id": "58f74988-adbb-474b-af76-458529075dc2",
   "metadata": {},
   "source": [
    "### Excel Data Load\n",
    "\n",
    "- read_excel( )\n",
    "    - data\n",
    "    - sheet_name: str or list / None - 모든 sheet"
   ]
  },
  {
   "cell_type": "code",
   "execution_count": 431,
   "id": "48c1876f-18a9-4ba3-b3f4-5e054e8cc515",
   "metadata": {},
   "outputs": [
    {
     "data": {
      "text/html": [
       "<div>\n",
       "<style scoped>\n",
       "    .dataframe tbody tr th:only-of-type {\n",
       "        vertical-align: middle;\n",
       "    }\n",
       "\n",
       "    .dataframe tbody tr th {\n",
       "        vertical-align: top;\n",
       "    }\n",
       "\n",
       "    .dataframe thead th {\n",
       "        text-align: right;\n",
       "    }\n",
       "</style>\n",
       "<table border=\"1\" class=\"dataframe\">\n",
       "  <thead>\n",
       "    <tr style=\"text-align: right;\">\n",
       "      <th></th>\n",
       "      <th>연차</th>\n",
       "      <th>연도</th>\n",
       "      <th>매출</th>\n",
       "      <th>순익</th>\n",
       "      <th>직원수</th>\n",
       "    </tr>\n",
       "  </thead>\n",
       "  <tbody>\n",
       "    <tr>\n",
       "      <th>0</th>\n",
       "      <td>2</td>\n",
       "      <td>2020</td>\n",
       "      <td>4000000</td>\n",
       "      <td>1400000</td>\n",
       "      <td>40</td>\n",
       "    </tr>\n",
       "    <tr>\n",
       "      <th>1</th>\n",
       "      <td>4</td>\n",
       "      <td>2018</td>\n",
       "      <td>3700000</td>\n",
       "      <td>1370000</td>\n",
       "      <td>38</td>\n",
       "    </tr>\n",
       "    <tr>\n",
       "      <th>2</th>\n",
       "      <td>6</td>\n",
       "      <td>2016</td>\n",
       "      <td>5300000</td>\n",
       "      <td>2000000</td>\n",
       "      <td>52</td>\n",
       "    </tr>\n",
       "    <tr>\n",
       "      <th>3</th>\n",
       "      <td>8</td>\n",
       "      <td>2014</td>\n",
       "      <td>7000000</td>\n",
       "      <td>2400000</td>\n",
       "      <td>100</td>\n",
       "    </tr>\n",
       "    <tr>\n",
       "      <th>4</th>\n",
       "      <td>10</td>\n",
       "      <td>2012</td>\n",
       "      <td>8000000</td>\n",
       "      <td>3000000</td>\n",
       "      <td>320</td>\n",
       "    </tr>\n",
       "  </tbody>\n",
       "</table>\n",
       "</div>"
      ],
      "text/plain": [
       "   연차    연도       매출       순익  직원수\n",
       "0   2  2020  4000000  1400000   40\n",
       "1   4  2018  3700000  1370000   38\n",
       "2   6  2016  5300000  2000000   52\n",
       "3   8  2014  7000000  2400000  100\n",
       "4  10  2012  8000000  3000000  320"
      ]
     },
     "execution_count": 431,
     "metadata": {},
     "output_type": "execute_result"
    }
   ],
   "source": [
    "df_excel = pd.read_excel(os.path.join(data_path, 'rawData_sheetplus.xlsx'))\n",
    "df_excel.head()"
   ]
  },
  {
   "cell_type": "code",
   "execution_count": 434,
   "id": "cc2ad7fa-b58b-4280-864b-224e63460ae1",
   "metadata": {},
   "outputs": [
    {
     "data": {
      "text/plain": [
       "{0:    연차    연도       매출       순익  직원수\n",
       " 0   2  2020  4000000  1400000   40\n",
       " 1   4  2018  3700000  1370000   38\n",
       " 2   6  2016  5300000  2000000   52\n",
       " 3   8  2014  7000000  2400000  100\n",
       " 4  10  2012  8000000  3000000  320\n",
       " 5   5  2017  4600000  1870000   41,\n",
       " 'Sheet2':    연차    연도       매출       순익  직원수\n",
       " 0   1  2021  4000000  1400000   10\n",
       " 1   2  2020  3700000  1370000   20\n",
       " 2   3  2019  5300000  2000000   30\n",
       " 3   4  2018  7000000  2400000   40\n",
       " 4   5  2017  8000000  3000000   50\n",
       " 5   6  2016  4600000  1870000   60}"
      ]
     },
     "execution_count": 434,
     "metadata": {},
     "output_type": "execute_result"
    }
   ],
   "source": [
    "df_excel_sheets = pd.read_excel(os.path.join(data_path, 'rawData_sheetplus.xlsx'), sheet_name = [0, 'Sheet2'])\n",
    "df_excel_sheets"
   ]
  },
  {
   "cell_type": "code",
   "execution_count": 435,
   "id": "558402b9-6171-4e42-975a-387fbca416f6",
   "metadata": {},
   "outputs": [
    {
     "data": {
      "text/html": [
       "<div>\n",
       "<style scoped>\n",
       "    .dataframe tbody tr th:only-of-type {\n",
       "        vertical-align: middle;\n",
       "    }\n",
       "\n",
       "    .dataframe tbody tr th {\n",
       "        vertical-align: top;\n",
       "    }\n",
       "\n",
       "    .dataframe thead th {\n",
       "        text-align: right;\n",
       "    }\n",
       "</style>\n",
       "<table border=\"1\" class=\"dataframe\">\n",
       "  <thead>\n",
       "    <tr style=\"text-align: right;\">\n",
       "      <th></th>\n",
       "      <th>연차</th>\n",
       "      <th>연도</th>\n",
       "      <th>매출</th>\n",
       "      <th>순익</th>\n",
       "      <th>직원수</th>\n",
       "    </tr>\n",
       "  </thead>\n",
       "  <tbody>\n",
       "    <tr>\n",
       "      <th>0</th>\n",
       "      <td>2</td>\n",
       "      <td>2020</td>\n",
       "      <td>4000000</td>\n",
       "      <td>1400000</td>\n",
       "      <td>40</td>\n",
       "    </tr>\n",
       "    <tr>\n",
       "      <th>1</th>\n",
       "      <td>4</td>\n",
       "      <td>2018</td>\n",
       "      <td>3700000</td>\n",
       "      <td>1370000</td>\n",
       "      <td>38</td>\n",
       "    </tr>\n",
       "    <tr>\n",
       "      <th>2</th>\n",
       "      <td>6</td>\n",
       "      <td>2016</td>\n",
       "      <td>5300000</td>\n",
       "      <td>2000000</td>\n",
       "      <td>52</td>\n",
       "    </tr>\n",
       "    <tr>\n",
       "      <th>3</th>\n",
       "      <td>8</td>\n",
       "      <td>2014</td>\n",
       "      <td>7000000</td>\n",
       "      <td>2400000</td>\n",
       "      <td>100</td>\n",
       "    </tr>\n",
       "    <tr>\n",
       "      <th>4</th>\n",
       "      <td>10</td>\n",
       "      <td>2012</td>\n",
       "      <td>8000000</td>\n",
       "      <td>3000000</td>\n",
       "      <td>320</td>\n",
       "    </tr>\n",
       "  </tbody>\n",
       "</table>\n",
       "</div>"
      ],
      "text/plain": [
       "   연차    연도       매출       순익  직원수\n",
       "0   2  2020  4000000  1400000   40\n",
       "1   4  2018  3700000  1370000   38\n",
       "2   6  2016  5300000  2000000   52\n",
       "3   8  2014  7000000  2400000  100\n",
       "4  10  2012  8000000  3000000  320"
      ]
     },
     "execution_count": 435,
     "metadata": {},
     "output_type": "execute_result"
    }
   ],
   "source": [
    "df_excel_sheets[0].head()"
   ]
  },
  {
   "cell_type": "code",
   "execution_count": 437,
   "id": "9c572a32-9fb5-4f6f-a695-97551c15f509",
   "metadata": {},
   "outputs": [],
   "source": [
    "# sheet_name parameter를 이용하면 sheet name을 설정할 수 있다\n",
    "df_excel_sheets['Sheet2'].to_excel(os.path.join(data_path, 'test_excel.xlsx'), sheet_name = 'first')"
   ]
  },
  {
   "cell_type": "markdown",
   "id": "a9333551-e893-4a8b-af21-703df720fdc2",
   "metadata": {},
   "source": [
    "### txt data load"
   ]
  },
  {
   "cell_type": "code",
   "execution_count": 439,
   "id": "58bcbde7-328e-4355-9c99-2afbceb95d42",
   "metadata": {},
   "outputs": [
    {
     "data": {
      "text/html": [
       "<div>\n",
       "<style scoped>\n",
       "    .dataframe tbody tr th:only-of-type {\n",
       "        vertical-align: middle;\n",
       "    }\n",
       "\n",
       "    .dataframe tbody tr th {\n",
       "        vertical-align: top;\n",
       "    }\n",
       "\n",
       "    .dataframe thead th {\n",
       "        text-align: right;\n",
       "    }\n",
       "</style>\n",
       "<table border=\"1\" class=\"dataframe\">\n",
       "  <thead>\n",
       "    <tr style=\"text-align: right;\">\n",
       "      <th></th>\n",
       "      <th>연차</th>\n",
       "    </tr>\n",
       "  </thead>\n",
       "  <tbody>\n",
       "    <tr>\n",
       "      <th>0</th>\n",
       "      <td>연도</td>\n",
       "    </tr>\n",
       "    <tr>\n",
       "      <th>1</th>\n",
       "      <td>매출</td>\n",
       "    </tr>\n",
       "    <tr>\n",
       "      <th>2</th>\n",
       "      <td>순익</td>\n",
       "    </tr>\n",
       "    <tr>\n",
       "      <th>3</th>\n",
       "      <td>직원수</td>\n",
       "    </tr>\n",
       "    <tr>\n",
       "      <th>4</th>\n",
       "      <td>2</td>\n",
       "    </tr>\n",
       "  </tbody>\n",
       "</table>\n",
       "</div>"
      ],
      "text/plain": [
       "    연차\n",
       "0   연도\n",
       "1   매출\n",
       "2   순익\n",
       "3  직원수\n",
       "4    2"
      ]
     },
     "execution_count": 439,
     "metadata": {},
     "output_type": "execute_result"
    }
   ],
   "source": [
    "txt = pd.read_table(os.path.join(data_path, 'raw.txt'))\n",
    "txt.head()"
   ]
  },
  {
   "cell_type": "markdown",
   "id": "4eba4c5a-40d8-468b-b490-2da62d1a11e7",
   "metadata": {},
   "source": [
    "### DataFrame 정보 조회\n",
    "\n",
    "- head(n), tail(n)\n",
    "  - 상위 or 하위 n개 row 데이터 출력\n",
    "  - default n: 5\n",
    "- describe( ): 기초 통계정보 출력\n",
    "- index: DataFrame의 index 반환\n",
    "- shape: Return a tuple representing the dimensionality of the DataFrame\n",
    "- info( ): This method prints information about a DataFrame including the index dtype and columns, non-null values and memory usage.\n",
    "- value_counts( ): "
   ]
  },
  {
   "cell_type": "code",
   "execution_count": 215,
   "id": "a0a2c9bf-b148-4d87-971e-02d5ecc9ba91",
   "metadata": {},
   "outputs": [
    {
     "data": {
      "text/html": [
       "<div>\n",
       "<style scoped>\n",
       "    .dataframe tbody tr th:only-of-type {\n",
       "        vertical-align: middle;\n",
       "    }\n",
       "\n",
       "    .dataframe tbody tr th {\n",
       "        vertical-align: top;\n",
       "    }\n",
       "\n",
       "    .dataframe thead th {\n",
       "        text-align: right;\n",
       "    }\n",
       "</style>\n",
       "<table border=\"1\" class=\"dataframe\">\n",
       "  <thead>\n",
       "    <tr style=\"text-align: right;\">\n",
       "      <th></th>\n",
       "      <th>longitude</th>\n",
       "      <th>latitude</th>\n",
       "      <th>housing_median_age</th>\n",
       "      <th>total_rooms</th>\n",
       "      <th>total_bedrooms</th>\n",
       "      <th>population</th>\n",
       "      <th>households</th>\n",
       "      <th>median_income</th>\n",
       "      <th>median_house_value</th>\n",
       "    </tr>\n",
       "  </thead>\n",
       "  <tbody>\n",
       "    <tr>\n",
       "      <th>2995</th>\n",
       "      <td>-119.86</td>\n",
       "      <td>34.42</td>\n",
       "      <td>23.0</td>\n",
       "      <td>1450.0</td>\n",
       "      <td>642.0</td>\n",
       "      <td>1258.0</td>\n",
       "      <td>607.0</td>\n",
       "      <td>1.1790</td>\n",
       "      <td>225000.0</td>\n",
       "    </tr>\n",
       "    <tr>\n",
       "      <th>2996</th>\n",
       "      <td>-118.14</td>\n",
       "      <td>34.06</td>\n",
       "      <td>27.0</td>\n",
       "      <td>5257.0</td>\n",
       "      <td>1082.0</td>\n",
       "      <td>3496.0</td>\n",
       "      <td>1036.0</td>\n",
       "      <td>3.3906</td>\n",
       "      <td>237200.0</td>\n",
       "    </tr>\n",
       "    <tr>\n",
       "      <th>2997</th>\n",
       "      <td>-119.70</td>\n",
       "      <td>36.30</td>\n",
       "      <td>10.0</td>\n",
       "      <td>956.0</td>\n",
       "      <td>201.0</td>\n",
       "      <td>693.0</td>\n",
       "      <td>220.0</td>\n",
       "      <td>2.2895</td>\n",
       "      <td>62000.0</td>\n",
       "    </tr>\n",
       "    <tr>\n",
       "      <th>2998</th>\n",
       "      <td>-117.12</td>\n",
       "      <td>34.10</td>\n",
       "      <td>40.0</td>\n",
       "      <td>96.0</td>\n",
       "      <td>14.0</td>\n",
       "      <td>46.0</td>\n",
       "      <td>14.0</td>\n",
       "      <td>3.2708</td>\n",
       "      <td>162500.0</td>\n",
       "    </tr>\n",
       "    <tr>\n",
       "      <th>2999</th>\n",
       "      <td>-119.63</td>\n",
       "      <td>34.42</td>\n",
       "      <td>42.0</td>\n",
       "      <td>1765.0</td>\n",
       "      <td>263.0</td>\n",
       "      <td>753.0</td>\n",
       "      <td>260.0</td>\n",
       "      <td>8.5608</td>\n",
       "      <td>500001.0</td>\n",
       "    </tr>\n",
       "  </tbody>\n",
       "</table>\n",
       "</div>"
      ],
      "text/plain": [
       "      longitude  latitude  housing_median_age  total_rooms  total_bedrooms   \n",
       "2995    -119.86     34.42                23.0       1450.0           642.0  \\\n",
       "2996    -118.14     34.06                27.0       5257.0          1082.0   \n",
       "2997    -119.70     36.30                10.0        956.0           201.0   \n",
       "2998    -117.12     34.10                40.0         96.0            14.0   \n",
       "2999    -119.63     34.42                42.0       1765.0           263.0   \n",
       "\n",
       "      population  households  median_income  median_house_value  \n",
       "2995      1258.0       607.0         1.1790            225000.0  \n",
       "2996      3496.0      1036.0         3.3906            237200.0  \n",
       "2997       693.0       220.0         2.2895             62000.0  \n",
       "2998        46.0        14.0         3.2708            162500.0  \n",
       "2999       753.0       260.0         8.5608            500001.0  "
      ]
     },
     "execution_count": 215,
     "metadata": {},
     "output_type": "execute_result"
    }
   ],
   "source": [
    "df_house.tail()"
   ]
  },
  {
   "cell_type": "code",
   "execution_count": 218,
   "id": "f3713b64-14ef-47a4-9226-4860eb5fec8d",
   "metadata": {},
   "outputs": [
    {
     "data": {
      "text/plain": [
       "RangeIndex(start=0, stop=3000, step=1)"
      ]
     },
     "execution_count": 218,
     "metadata": {},
     "output_type": "execute_result"
    }
   ],
   "source": [
    "df_house.index"
   ]
  },
  {
   "cell_type": "code",
   "execution_count": 217,
   "id": "87ea75b4-5a3a-4b99-86ee-fb77b3481875",
   "metadata": {},
   "outputs": [
    {
     "data": {
      "text/plain": [
       "longitude             float64\n",
       "latitude              float64\n",
       "housing_median_age    float64\n",
       "total_rooms           float64\n",
       "total_bedrooms        float64\n",
       "population            float64\n",
       "households            float64\n",
       "median_income         float64\n",
       "median_house_value    float64\n",
       "dtype: object"
      ]
     },
     "execution_count": 217,
     "metadata": {},
     "output_type": "execute_result"
    }
   ],
   "source": [
    "df_house.dtypes"
   ]
  },
  {
   "cell_type": "code",
   "execution_count": 214,
   "id": "e22d2bb2-3973-4b56-ba35-0390ee53a75d",
   "metadata": {},
   "outputs": [
    {
     "name": "stdout",
     "output_type": "stream",
     "text": [
      "<class 'pandas.core.frame.DataFrame'>\n",
      "RangeIndex: 3000 entries, 0 to 2999\n",
      "Data columns (total 9 columns):\n",
      " #   Column              Non-Null Count  Dtype  \n",
      "---  ------              --------------  -----  \n",
      " 0   longitude           3000 non-null   float64\n",
      " 1   latitude            3000 non-null   float64\n",
      " 2   housing_median_age  3000 non-null   float64\n",
      " 3   total_rooms         3000 non-null   float64\n",
      " 4   total_bedrooms      3000 non-null   float64\n",
      " 5   population          3000 non-null   float64\n",
      " 6   households          3000 non-null   float64\n",
      " 7   median_income       3000 non-null   float64\n",
      " 8   median_house_value  3000 non-null   float64\n",
      "dtypes: float64(9)\n",
      "memory usage: 211.1 KB\n"
     ]
    }
   ],
   "source": [
    "df_house.info()"
   ]
  },
  {
   "cell_type": "code",
   "execution_count": 212,
   "id": "7f1849d6-a84b-43ef-83e8-eca2d085a958",
   "metadata": {},
   "outputs": [
    {
     "data": {
      "text/html": [
       "<div>\n",
       "<style scoped>\n",
       "    .dataframe tbody tr th:only-of-type {\n",
       "        vertical-align: middle;\n",
       "    }\n",
       "\n",
       "    .dataframe tbody tr th {\n",
       "        vertical-align: top;\n",
       "    }\n",
       "\n",
       "    .dataframe thead th {\n",
       "        text-align: right;\n",
       "    }\n",
       "</style>\n",
       "<table border=\"1\" class=\"dataframe\">\n",
       "  <thead>\n",
       "    <tr style=\"text-align: right;\">\n",
       "      <th></th>\n",
       "      <th>longitude</th>\n",
       "      <th>latitude</th>\n",
       "      <th>housing_median_age</th>\n",
       "      <th>total_rooms</th>\n",
       "      <th>total_bedrooms</th>\n",
       "      <th>population</th>\n",
       "      <th>households</th>\n",
       "      <th>median_income</th>\n",
       "      <th>median_house_value</th>\n",
       "    </tr>\n",
       "  </thead>\n",
       "  <tbody>\n",
       "    <tr>\n",
       "      <th>count</th>\n",
       "      <td>3000.000000</td>\n",
       "      <td>3000.00000</td>\n",
       "      <td>3000.000000</td>\n",
       "      <td>3000.000000</td>\n",
       "      <td>3000.000000</td>\n",
       "      <td>3000.000000</td>\n",
       "      <td>3000.00000</td>\n",
       "      <td>3000.000000</td>\n",
       "      <td>3000.00000</td>\n",
       "    </tr>\n",
       "    <tr>\n",
       "      <th>mean</th>\n",
       "      <td>-119.589200</td>\n",
       "      <td>35.63539</td>\n",
       "      <td>28.845333</td>\n",
       "      <td>2599.578667</td>\n",
       "      <td>529.950667</td>\n",
       "      <td>1402.798667</td>\n",
       "      <td>489.91200</td>\n",
       "      <td>3.807272</td>\n",
       "      <td>205846.27500</td>\n",
       "    </tr>\n",
       "    <tr>\n",
       "      <th>std</th>\n",
       "      <td>1.994936</td>\n",
       "      <td>2.12967</td>\n",
       "      <td>12.555396</td>\n",
       "      <td>2155.593332</td>\n",
       "      <td>415.654368</td>\n",
       "      <td>1030.543012</td>\n",
       "      <td>365.42271</td>\n",
       "      <td>1.854512</td>\n",
       "      <td>113119.68747</td>\n",
       "    </tr>\n",
       "    <tr>\n",
       "      <th>min</th>\n",
       "      <td>-124.180000</td>\n",
       "      <td>32.56000</td>\n",
       "      <td>1.000000</td>\n",
       "      <td>6.000000</td>\n",
       "      <td>2.000000</td>\n",
       "      <td>5.000000</td>\n",
       "      <td>2.00000</td>\n",
       "      <td>0.499900</td>\n",
       "      <td>22500.00000</td>\n",
       "    </tr>\n",
       "    <tr>\n",
       "      <th>25%</th>\n",
       "      <td>-121.810000</td>\n",
       "      <td>33.93000</td>\n",
       "      <td>18.000000</td>\n",
       "      <td>1401.000000</td>\n",
       "      <td>291.000000</td>\n",
       "      <td>780.000000</td>\n",
       "      <td>273.00000</td>\n",
       "      <td>2.544000</td>\n",
       "      <td>121200.00000</td>\n",
       "    </tr>\n",
       "    <tr>\n",
       "      <th>50%</th>\n",
       "      <td>-118.485000</td>\n",
       "      <td>34.27000</td>\n",
       "      <td>29.000000</td>\n",
       "      <td>2106.000000</td>\n",
       "      <td>437.000000</td>\n",
       "      <td>1155.000000</td>\n",
       "      <td>409.50000</td>\n",
       "      <td>3.487150</td>\n",
       "      <td>177650.00000</td>\n",
       "    </tr>\n",
       "    <tr>\n",
       "      <th>75%</th>\n",
       "      <td>-118.020000</td>\n",
       "      <td>37.69000</td>\n",
       "      <td>37.000000</td>\n",
       "      <td>3129.000000</td>\n",
       "      <td>636.000000</td>\n",
       "      <td>1742.750000</td>\n",
       "      <td>597.25000</td>\n",
       "      <td>4.656475</td>\n",
       "      <td>263975.00000</td>\n",
       "    </tr>\n",
       "    <tr>\n",
       "      <th>max</th>\n",
       "      <td>-114.490000</td>\n",
       "      <td>41.92000</td>\n",
       "      <td>52.000000</td>\n",
       "      <td>30450.000000</td>\n",
       "      <td>5419.000000</td>\n",
       "      <td>11935.000000</td>\n",
       "      <td>4930.00000</td>\n",
       "      <td>15.000100</td>\n",
       "      <td>500001.00000</td>\n",
       "    </tr>\n",
       "  </tbody>\n",
       "</table>\n",
       "</div>"
      ],
      "text/plain": [
       "         longitude    latitude  housing_median_age   total_rooms   \n",
       "count  3000.000000  3000.00000         3000.000000   3000.000000  \\\n",
       "mean   -119.589200    35.63539           28.845333   2599.578667   \n",
       "std       1.994936     2.12967           12.555396   2155.593332   \n",
       "min    -124.180000    32.56000            1.000000      6.000000   \n",
       "25%    -121.810000    33.93000           18.000000   1401.000000   \n",
       "50%    -118.485000    34.27000           29.000000   2106.000000   \n",
       "75%    -118.020000    37.69000           37.000000   3129.000000   \n",
       "max    -114.490000    41.92000           52.000000  30450.000000   \n",
       "\n",
       "       total_bedrooms    population  households  median_income   \n",
       "count     3000.000000   3000.000000  3000.00000    3000.000000  \\\n",
       "mean       529.950667   1402.798667   489.91200       3.807272   \n",
       "std        415.654368   1030.543012   365.42271       1.854512   \n",
       "min          2.000000      5.000000     2.00000       0.499900   \n",
       "25%        291.000000    780.000000   273.00000       2.544000   \n",
       "50%        437.000000   1155.000000   409.50000       3.487150   \n",
       "75%        636.000000   1742.750000   597.25000       4.656475   \n",
       "max       5419.000000  11935.000000  4930.00000      15.000100   \n",
       "\n",
       "       median_house_value  \n",
       "count          3000.00000  \n",
       "mean         205846.27500  \n",
       "std          113119.68747  \n",
       "min           22500.00000  \n",
       "25%          121200.00000  \n",
       "50%          177650.00000  \n",
       "75%          263975.00000  \n",
       "max          500001.00000  "
      ]
     },
     "execution_count": 212,
     "metadata": {},
     "output_type": "execute_result"
    }
   ],
   "source": [
    "df_house.describe()"
   ]
  },
  {
   "cell_type": "code",
   "execution_count": 213,
   "id": "f56b6407-5b0c-4b1c-b1ac-94c4589330d7",
   "metadata": {},
   "outputs": [
    {
     "data": {
      "text/plain": [
       "longitude             0\n",
       "latitude              0\n",
       "housing_median_age    0\n",
       "total_rooms           0\n",
       "total_bedrooms        0\n",
       "population            0\n",
       "households            0\n",
       "median_income         0\n",
       "median_house_value    0\n",
       "dtype: int64"
      ]
     },
     "execution_count": 213,
     "metadata": {},
     "output_type": "execute_result"
    }
   ],
   "source": [
    "df_house.isna().sum()"
   ]
  },
  {
   "cell_type": "markdown",
   "id": "c80769af-c1df-40b7-ae03-5fcf78a398ef",
   "metadata": {},
   "source": [
    "### 데이터 조회\n",
    "\n",
    "- loc\n",
    "- iloc\n",
    "\n",
    "속도 측면에서, 단순히 한개의 값만 인덱싱 할 때는 loc, iloc 보다 at, iat을 사용하는 것이 효율적이다</br>\n",
    "다중 column, row를 인덱싱할 때는 iloc, loc가 []를 이용한 슬라이싱보다 효율적이다\n",
    "\n",
    "[loc, iloc, at, iat 속도 비교](https://devocean.sk.com/blog/techBoardDetail.do?ID=164657&boardType=techBlog)"
   ]
  },
  {
   "cell_type": "code",
   "execution_count": 199,
   "id": "b467a29f-2a19-4b48-8825-eaf801b3f5dc",
   "metadata": {},
   "outputs": [
    {
     "data": {
      "text/plain": [
       "연차        2\n",
       "매출    20000\n",
       "Name: 2016, dtype: int64"
      ]
     },
     "execution_count": 199,
     "metadata": {},
     "output_type": "execute_result"
    }
   ],
   "source": [
    "df.loc[2016] # 행 - 레이블로 가져옴"
   ]
  },
  {
   "cell_type": "code",
   "execution_count": 202,
   "id": "3c290896-cc5e-4b38-ae4b-82bbb3f0f408",
   "metadata": {},
   "outputs": [
    {
     "data": {
      "text/html": [
       "<div>\n",
       "<style scoped>\n",
       "    .dataframe tbody tr th:only-of-type {\n",
       "        vertical-align: middle;\n",
       "    }\n",
       "\n",
       "    .dataframe tbody tr th {\n",
       "        vertical-align: top;\n",
       "    }\n",
       "\n",
       "    .dataframe thead th {\n",
       "        text-align: right;\n",
       "    }\n",
       "</style>\n",
       "<table border=\"1\" class=\"dataframe\">\n",
       "  <thead>\n",
       "    <tr style=\"text-align: right;\">\n",
       "      <th></th>\n",
       "      <th>연차</th>\n",
       "      <th>매출</th>\n",
       "    </tr>\n",
       "    <tr>\n",
       "      <th>연도</th>\n",
       "      <th></th>\n",
       "      <th></th>\n",
       "    </tr>\n",
       "  </thead>\n",
       "  <tbody>\n",
       "    <tr>\n",
       "      <th>2016</th>\n",
       "      <td>2</td>\n",
       "      <td>20000</td>\n",
       "    </tr>\n",
       "    <tr>\n",
       "      <th>2017</th>\n",
       "      <td>3</td>\n",
       "      <td>30000</td>\n",
       "    </tr>\n",
       "  </tbody>\n",
       "</table>\n",
       "</div>"
      ],
      "text/plain": [
       "      연차     매출\n",
       "연도             \n",
       "2016   2  20000\n",
       "2017   3  30000"
      ]
     },
     "execution_count": 202,
     "metadata": {},
     "output_type": "execute_result"
    }
   ],
   "source": [
    "df.loc[2016:2017] # df.loc[[2016, 2017]]"
   ]
  },
  {
   "cell_type": "code",
   "execution_count": 203,
   "id": "70a00a6b-eb51-4cea-b10d-fc4c83566f29",
   "metadata": {},
   "outputs": [
    {
     "data": {
      "text/plain": [
       "연차        2\n",
       "매출    20000\n",
       "Name: 2016, dtype: int64"
      ]
     },
     "execution_count": 203,
     "metadata": {},
     "output_type": "execute_result"
    }
   ],
   "source": [
    "df.iloc[1]"
   ]
  },
  {
   "cell_type": "code",
   "execution_count": 205,
   "id": "46e49b69-f571-43cb-a3ff-4db0d04b724d",
   "metadata": {},
   "outputs": [
    {
     "data": {
      "text/html": [
       "<div>\n",
       "<style scoped>\n",
       "    .dataframe tbody tr th:only-of-type {\n",
       "        vertical-align: middle;\n",
       "    }\n",
       "\n",
       "    .dataframe tbody tr th {\n",
       "        vertical-align: top;\n",
       "    }\n",
       "\n",
       "    .dataframe thead th {\n",
       "        text-align: right;\n",
       "    }\n",
       "</style>\n",
       "<table border=\"1\" class=\"dataframe\">\n",
       "  <thead>\n",
       "    <tr style=\"text-align: right;\">\n",
       "      <th></th>\n",
       "      <th>연차</th>\n",
       "      <th>매출</th>\n",
       "    </tr>\n",
       "    <tr>\n",
       "      <th>연도</th>\n",
       "      <th></th>\n",
       "      <th></th>\n",
       "    </tr>\n",
       "  </thead>\n",
       "  <tbody>\n",
       "    <tr>\n",
       "      <th>2016</th>\n",
       "      <td>2</td>\n",
       "      <td>20000</td>\n",
       "    </tr>\n",
       "    <tr>\n",
       "      <th>2017</th>\n",
       "      <td>3</td>\n",
       "      <td>30000</td>\n",
       "    </tr>\n",
       "  </tbody>\n",
       "</table>\n",
       "</div>"
      ],
      "text/plain": [
       "      연차     매출\n",
       "연도             \n",
       "2016   2  20000\n",
       "2017   3  30000"
      ]
     },
     "execution_count": 205,
     "metadata": {},
     "output_type": "execute_result"
    }
   ],
   "source": [
    "df.iloc[1:3]"
   ]
  },
  {
   "cell_type": "markdown",
   "id": "2db432b1-eeb7-4512-94de-8685beff1607",
   "metadata": {},
   "source": [
    "### 데이터 형변환\n",
    "\n",
    "- astype\n",
    "  - 데이터 타입이 변경된 DataFrame or Series를 반환하고, 원본에 변경사항을 적용하지 않는다"
   ]
  },
  {
   "cell_type": "code",
   "execution_count": 219,
   "id": "9188d6b8-8dfc-427b-a59d-ca5f2339f398",
   "metadata": {},
   "outputs": [
    {
     "data": {
      "text/plain": [
       "Index(['longitude', 'latitude', 'housing_median_age', 'total_rooms',\n",
       "       'total_bedrooms', 'population', 'households', 'median_income',\n",
       "       'median_house_value'],\n",
       "      dtype='object')"
      ]
     },
     "execution_count": 219,
     "metadata": {},
     "output_type": "execute_result"
    }
   ],
   "source": [
    "df_house.columns"
   ]
  },
  {
   "cell_type": "markdown",
   "id": "2d09051a-7b71-45dc-8141-05a31bfb2b48",
   "metadata": {},
   "source": [
    "- 데이터 타입 변환 가능 columns\n",
    "  - households, population, housing_median_age, total_rooms, total_bedrooms, median_house_value\n",
    "- 데이터 형변환 후 통계 함수 적용"
   ]
  },
  {
   "cell_type": "code",
   "execution_count": 312,
   "id": "8c52b64a-16bf-4f2e-9bb7-dedfec57e31c",
   "metadata": {},
   "outputs": [],
   "source": [
    "integer_columns = ['households', 'population', 'housing_median_age', 'total_rooms', 'total_bedrooms', 'median_house_value']\n",
    "df_house[integer_columns] = df_house[integer_columns].astype(int)"
   ]
  },
  {
   "cell_type": "code",
   "execution_count": 440,
   "id": "59443285-8279-4334-8df6-75502bafd6fc",
   "metadata": {},
   "outputs": [
    {
     "data": {
      "text/plain": [
       "longitude             float64\n",
       "latitude              float64\n",
       "housing_median_age      int64\n",
       "total_rooms             int64\n",
       "total_bedrooms          int64\n",
       "population              int64\n",
       "households              int64\n",
       "median_income         float64\n",
       "median_house_value      int64\n",
       "dtype: object"
      ]
     },
     "execution_count": 440,
     "metadata": {},
     "output_type": "execute_result"
    }
   ],
   "source": [
    "df_house.dtypes"
   ]
  },
  {
   "cell_type": "code",
   "execution_count": 249,
   "id": "a5845bb3-097c-4e38-9c3e-5d163ad74ba8",
   "metadata": {},
   "outputs": [],
   "source": [
    "# df_house = df_house.astype({\n",
    "#                         'households': 'int',\n",
    "#                         'population': 'int',\n",
    "#                         'housing_median_age': 'int',\n",
    "#                         'total_rooms': 'int',\n",
    "#                         'total_bedrooms': 'int',\n",
    "#                         'median_house_value': 'int'\n",
    "#                         })"
   ]
  },
  {
   "cell_type": "code",
   "execution_count": 443,
   "id": "03b7a4e8-469a-4839-8a1c-9cf80d44d863",
   "metadata": {},
   "outputs": [],
   "source": [
    "df = pd.DataFrame({\n",
    "    '연차': [1, 2, 3],\n",
    "    '연도': [2015, 2016, 2017],\n",
    "    '매출': [10000, 20000, 30000]\n",
    "})"
   ]
  },
  {
   "cell_type": "code",
   "execution_count": 444,
   "id": "f0bc2d4c-07da-4f7f-aa38-b415d046882f",
   "metadata": {},
   "outputs": [
    {
     "data": {
      "text/html": [
       "<div>\n",
       "<style scoped>\n",
       "    .dataframe tbody tr th:only-of-type {\n",
       "        vertical-align: middle;\n",
       "    }\n",
       "\n",
       "    .dataframe tbody tr th {\n",
       "        vertical-align: top;\n",
       "    }\n",
       "\n",
       "    .dataframe thead th {\n",
       "        text-align: right;\n",
       "    }\n",
       "</style>\n",
       "<table border=\"1\" class=\"dataframe\">\n",
       "  <thead>\n",
       "    <tr style=\"text-align: right;\">\n",
       "      <th></th>\n",
       "      <th>연차</th>\n",
       "      <th>연도</th>\n",
       "      <th>매출</th>\n",
       "      <th>Date_str</th>\n",
       "    </tr>\n",
       "  </thead>\n",
       "  <tbody>\n",
       "    <tr>\n",
       "      <th>0</th>\n",
       "      <td>1</td>\n",
       "      <td>2015</td>\n",
       "      <td>10000</td>\n",
       "      <td>2023-01-01 11:25:00</td>\n",
       "    </tr>\n",
       "    <tr>\n",
       "      <th>1</th>\n",
       "      <td>2</td>\n",
       "      <td>2016</td>\n",
       "      <td>20000</td>\n",
       "      <td>2023-01-02 11:25:00</td>\n",
       "    </tr>\n",
       "    <tr>\n",
       "      <th>2</th>\n",
       "      <td>3</td>\n",
       "      <td>2017</td>\n",
       "      <td>30000</td>\n",
       "      <td>2023-01-03 11:25:00</td>\n",
       "    </tr>\n",
       "  </tbody>\n",
       "</table>\n",
       "</div>"
      ],
      "text/plain": [
       "   연차    연도     매출             Date_str\n",
       "0   1  2015  10000  2023-01-01 11:25:00\n",
       "1   2  2016  20000  2023-01-02 11:25:00\n",
       "2   3  2017  30000  2023-01-03 11:25:00"
      ]
     },
     "execution_count": 444,
     "metadata": {},
     "output_type": "execute_result"
    }
   ],
   "source": [
    "df['Date_str'] = ['2023-01-01 11:25:00',\n",
    "                  '2023-01-02 11:25:00',\n",
    "                  '2023-01-03 11:25:00']\n",
    "df.head()"
   ]
  },
  {
   "cell_type": "code",
   "execution_count": 323,
   "id": "27c4c0d9-3b82-4096-8e43-ed35d27b5d07",
   "metadata": {},
   "outputs": [
    {
     "name": "stdout",
     "output_type": "stream",
     "text": [
      "<class 'pandas.core.frame.DataFrame'>\n",
      "RangeIndex: 3 entries, 0 to 2\n",
      "Data columns (total 4 columns):\n",
      " #   Column    Non-Null Count  Dtype \n",
      "---  ------    --------------  ----- \n",
      " 0   연차        3 non-null      int64 \n",
      " 1   연도        3 non-null      int64 \n",
      " 2   매출        3 non-null      int64 \n",
      " 3   Date_str  3 non-null      object\n",
      "dtypes: int64(3), object(1)\n",
      "memory usage: 224.0+ bytes\n"
     ]
    }
   ],
   "source": [
    "df.info()"
   ]
  },
  {
   "cell_type": "code",
   "execution_count": 324,
   "id": "7748a46b-f11d-4a4a-92a1-f6e02e066342",
   "metadata": {},
   "outputs": [
    {
     "data": {
      "text/html": [
       "<div>\n",
       "<style scoped>\n",
       "    .dataframe tbody tr th:only-of-type {\n",
       "        vertical-align: middle;\n",
       "    }\n",
       "\n",
       "    .dataframe tbody tr th {\n",
       "        vertical-align: top;\n",
       "    }\n",
       "\n",
       "    .dataframe thead th {\n",
       "        text-align: right;\n",
       "    }\n",
       "</style>\n",
       "<table border=\"1\" class=\"dataframe\">\n",
       "  <thead>\n",
       "    <tr style=\"text-align: right;\">\n",
       "      <th></th>\n",
       "      <th>연차</th>\n",
       "      <th>연도</th>\n",
       "      <th>매출</th>\n",
       "      <th>Date_str</th>\n",
       "      <th>Date</th>\n",
       "    </tr>\n",
       "  </thead>\n",
       "  <tbody>\n",
       "    <tr>\n",
       "      <th>0</th>\n",
       "      <td>1</td>\n",
       "      <td>2015</td>\n",
       "      <td>10000</td>\n",
       "      <td>2023-01-01 11:25:00</td>\n",
       "      <td>2023-01-01 11:25:00</td>\n",
       "    </tr>\n",
       "    <tr>\n",
       "      <th>1</th>\n",
       "      <td>2</td>\n",
       "      <td>2016</td>\n",
       "      <td>20000</td>\n",
       "      <td>2023-01-02 11:25:00</td>\n",
       "      <td>2023-01-02 11:25:00</td>\n",
       "    </tr>\n",
       "    <tr>\n",
       "      <th>2</th>\n",
       "      <td>3</td>\n",
       "      <td>2017</td>\n",
       "      <td>30000</td>\n",
       "      <td>2023-01-03 11:25:00</td>\n",
       "      <td>2023-01-03 11:25:00</td>\n",
       "    </tr>\n",
       "  </tbody>\n",
       "</table>\n",
       "</div>"
      ],
      "text/plain": [
       "   연차    연도     매출             Date_str                Date\n",
       "0   1  2015  10000  2023-01-01 11:25:00 2023-01-01 11:25:00\n",
       "1   2  2016  20000  2023-01-02 11:25:00 2023-01-02 11:25:00\n",
       "2   3  2017  30000  2023-01-03 11:25:00 2023-01-03 11:25:00"
      ]
     },
     "execution_count": 324,
     "metadata": {},
     "output_type": "execute_result"
    }
   ],
   "source": [
    "df['Date'] = pd.to_datetime(df['Date_str'], format = '%Y-%m-%d %H:%M:%S')\n",
    "df.head()"
   ]
  },
  {
   "cell_type": "code",
   "execution_count": 325,
   "id": "d92e872d-0ba0-416a-a75b-6844d52a2a4d",
   "metadata": {},
   "outputs": [
    {
     "name": "stdout",
     "output_type": "stream",
     "text": [
      "<class 'pandas.core.frame.DataFrame'>\n",
      "RangeIndex: 3 entries, 0 to 2\n",
      "Data columns (total 5 columns):\n",
      " #   Column    Non-Null Count  Dtype         \n",
      "---  ------    --------------  -----         \n",
      " 0   연차        3 non-null      int64         \n",
      " 1   연도        3 non-null      int64         \n",
      " 2   매출        3 non-null      int64         \n",
      " 3   Date_str  3 non-null      object        \n",
      " 4   Date      3 non-null      datetime64[ns]\n",
      "dtypes: datetime64[ns](1), int64(3), object(1)\n",
      "memory usage: 248.0+ bytes\n"
     ]
    }
   ],
   "source": [
    "df.info()"
   ]
  },
  {
   "cell_type": "code",
   "execution_count": 296,
   "id": "e438331d-cbcb-46ff-8c6b-f5c8974d3307",
   "metadata": {
    "scrolled": true
   },
   "outputs": [
    {
     "data": {
      "text/plain": [
       "0    2023-01-01\n",
       "1    2023-01-02\n",
       "2    2023-01-03\n",
       "Name: Date, dtype: object"
      ]
     },
     "execution_count": 296,
     "metadata": {},
     "output_type": "execute_result"
    }
   ],
   "source": [
    "df['Date'].dt.date # year, month, day, time, hour, minute, second"
   ]
  },
  {
   "cell_type": "markdown",
   "id": "cff8dc68-cad8-4a1f-9629-ef8e87e11d51",
   "metadata": {},
   "source": [
    "## DataFrame 메서드"
   ]
  },
  {
   "cell_type": "code",
   "execution_count": 442,
   "id": "be42582c-bfe2-4aac-8202-f65a72e20fde",
   "metadata": {},
   "outputs": [
    {
     "data": {
      "text/plain": [
       "array([3885, 1510, 3589, ..., 4867,  573, 5257])"
      ]
     },
     "execution_count": 442,
     "metadata": {},
     "output_type": "execute_result"
    }
   ],
   "source": [
    "# array형태로 column의 unique values반환\n",
    "\n",
    "df_house['total_rooms'].unique()"
   ]
  },
  {
   "cell_type": "code",
   "execution_count": 264,
   "id": "825cd487-0582-47eb-b52f-8884a6ef7a88",
   "metadata": {},
   "outputs": [
    {
     "data": {
      "text/plain": [
       "2215"
      ]
     },
     "execution_count": 264,
     "metadata": {},
     "output_type": "execute_result"
    }
   ],
   "source": [
    "# columns의 unique 값의 수\n",
    "\n",
    "df_house['total_rooms'].nunique()"
   ]
  },
  {
   "cell_type": "code",
   "execution_count": 263,
   "id": "13c5b055-2709-4e7d-85d8-cfe06b0c59b7",
   "metadata": {
    "scrolled": true
   },
   "outputs": [
    {
     "data": {
      "text/plain": [
       "total_rooms\n",
       "907     5\n",
       "1787    5\n",
       "1778    5\n",
       "1966    5\n",
       "1499    4\n",
       "       ..\n",
       "1132    1\n",
       "3199    1\n",
       "1433    1\n",
       "4602    1\n",
       "5257    1\n",
       "Name: count, Length: 2215, dtype: int64"
      ]
     },
     "execution_count": 263,
     "metadata": {},
     "output_type": "execute_result"
    }
   ],
   "source": [
    "# unique 값 별 빈도수\n",
    "\n",
    "df_house['total_rooms'].value_counts()"
   ]
  },
  {
   "cell_type": "markdown",
   "id": "d31c7ea2-ffdf-45f7-ab37-dcc4ddfc25bb",
   "metadata": {},
   "source": [
    "## 산술연산"
   ]
  },
  {
   "cell_type": "code",
   "execution_count": 447,
   "id": "0d8d48fb-1d97-446b-b164-3c1bc416b5b0",
   "metadata": {},
   "outputs": [
    {
     "data": {
      "text/plain": [
       "mean      2.599579e+03\n",
       "min       6.000000e+00\n",
       "max       3.045000e+04\n",
       "sum       7.798736e+06\n",
       "count     3.000000e+03\n",
       "median    2.106000e+03\n",
       "std       2.155593e+03\n",
       "var       4.646583e+06\n",
       "Name: total_rooms, dtype: float64"
      ]
     },
     "execution_count": 447,
     "metadata": {},
     "output_type": "execute_result"
    }
   ],
   "source": [
    "df_house['total_rooms'].agg(['mean', 'min', 'max', 'sum', 'count', 'median', 'std', 'var'])"
   ]
  },
  {
   "cell_type": "markdown",
   "id": "064492c6-2774-4038-b738-7159ca2896ac",
   "metadata": {},
   "source": [
    "## groupby\n",
    "\n",
    "- 데이터를 그룹별로 분할 -> 함수 적용 -> 결합"
   ]
  },
  {
   "cell_type": "code",
   "execution_count": 276,
   "id": "691a632d-a57e-475c-b13f-c39ae0f90e41",
   "metadata": {},
   "outputs": [
    {
     "data": {
      "text/html": [
       "<div>\n",
       "<style scoped>\n",
       "    .dataframe tbody tr th:only-of-type {\n",
       "        vertical-align: middle;\n",
       "    }\n",
       "\n",
       "    .dataframe tbody tr th {\n",
       "        vertical-align: top;\n",
       "    }\n",
       "\n",
       "    .dataframe thead th {\n",
       "        text-align: right;\n",
       "    }\n",
       "</style>\n",
       "<table border=\"1\" class=\"dataframe\">\n",
       "  <thead>\n",
       "    <tr style=\"text-align: right;\">\n",
       "      <th></th>\n",
       "      <th>longitude</th>\n",
       "      <th>latitude</th>\n",
       "      <th>housing_median_age</th>\n",
       "      <th>total_bedrooms</th>\n",
       "      <th>population</th>\n",
       "      <th>households</th>\n",
       "      <th>median_income</th>\n",
       "      <th>median_house_value</th>\n",
       "    </tr>\n",
       "    <tr>\n",
       "      <th>total_rooms</th>\n",
       "      <th></th>\n",
       "      <th></th>\n",
       "      <th></th>\n",
       "      <th></th>\n",
       "      <th></th>\n",
       "      <th></th>\n",
       "      <th></th>\n",
       "      <th></th>\n",
       "    </tr>\n",
       "  </thead>\n",
       "  <tbody>\n",
       "    <tr>\n",
       "      <th>6</th>\n",
       "      <td>-116.95</td>\n",
       "      <td>33.86</td>\n",
       "      <td>1.0</td>\n",
       "      <td>2.0</td>\n",
       "      <td>8.0</td>\n",
       "      <td>2.0</td>\n",
       "      <td>1.6250</td>\n",
       "      <td>55000.0</td>\n",
       "    </tr>\n",
       "    <tr>\n",
       "      <th>16</th>\n",
       "      <td>-117.12</td>\n",
       "      <td>32.66</td>\n",
       "      <td>52.0</td>\n",
       "      <td>4.0</td>\n",
       "      <td>8.0</td>\n",
       "      <td>3.0</td>\n",
       "      <td>1.1250</td>\n",
       "      <td>60000.0</td>\n",
       "    </tr>\n",
       "    <tr>\n",
       "      <th>18</th>\n",
       "      <td>-114.62</td>\n",
       "      <td>33.62</td>\n",
       "      <td>26.0</td>\n",
       "      <td>3.0</td>\n",
       "      <td>5.0</td>\n",
       "      <td>3.0</td>\n",
       "      <td>0.5360</td>\n",
       "      <td>275000.0</td>\n",
       "    </tr>\n",
       "    <tr>\n",
       "      <th>19</th>\n",
       "      <td>-121.04</td>\n",
       "      <td>37.67</td>\n",
       "      <td>16.0</td>\n",
       "      <td>19.0</td>\n",
       "      <td>166.0</td>\n",
       "      <td>9.0</td>\n",
       "      <td>0.5360</td>\n",
       "      <td>162500.0</td>\n",
       "    </tr>\n",
       "    <tr>\n",
       "      <th>21</th>\n",
       "      <td>-118.06</td>\n",
       "      <td>34.03</td>\n",
       "      <td>36.0</td>\n",
       "      <td>7.0</td>\n",
       "      <td>21.0</td>\n",
       "      <td>9.0</td>\n",
       "      <td>2.3750</td>\n",
       "      <td>175000.0</td>\n",
       "    </tr>\n",
       "    <tr>\n",
       "      <th>...</th>\n",
       "      <td>...</td>\n",
       "      <td>...</td>\n",
       "      <td>...</td>\n",
       "      <td>...</td>\n",
       "      <td>...</td>\n",
       "      <td>...</td>\n",
       "      <td>...</td>\n",
       "      <td>...</td>\n",
       "    </tr>\n",
       "    <tr>\n",
       "      <th>21988</th>\n",
       "      <td>-117.12</td>\n",
       "      <td>33.49</td>\n",
       "      <td>4.0</td>\n",
       "      <td>4055.0</td>\n",
       "      <td>8824.0</td>\n",
       "      <td>3252.0</td>\n",
       "      <td>3.9963</td>\n",
       "      <td>191100.0</td>\n",
       "    </tr>\n",
       "    <tr>\n",
       "      <th>23915</th>\n",
       "      <td>-117.27</td>\n",
       "      <td>33.15</td>\n",
       "      <td>4.0</td>\n",
       "      <td>4135.0</td>\n",
       "      <td>10877.0</td>\n",
       "      <td>3958.0</td>\n",
       "      <td>4.6357</td>\n",
       "      <td>244900.0</td>\n",
       "    </tr>\n",
       "    <tr>\n",
       "      <th>24121</th>\n",
       "      <td>-116.36</td>\n",
       "      <td>33.78</td>\n",
       "      <td>6.0</td>\n",
       "      <td>4522.0</td>\n",
       "      <td>4176.0</td>\n",
       "      <td>2221.0</td>\n",
       "      <td>3.3799</td>\n",
       "      <td>239300.0</td>\n",
       "    </tr>\n",
       "    <tr>\n",
       "      <th>27870</th>\n",
       "      <td>-121.53</td>\n",
       "      <td>38.48</td>\n",
       "      <td>5.0</td>\n",
       "      <td>5027.0</td>\n",
       "      <td>11935.0</td>\n",
       "      <td>4855.0</td>\n",
       "      <td>4.8811</td>\n",
       "      <td>212200.0</td>\n",
       "    </tr>\n",
       "    <tr>\n",
       "      <th>30450</th>\n",
       "      <td>-117.20</td>\n",
       "      <td>33.58</td>\n",
       "      <td>2.0</td>\n",
       "      <td>5033.0</td>\n",
       "      <td>9419.0</td>\n",
       "      <td>3197.0</td>\n",
       "      <td>4.5936</td>\n",
       "      <td>174300.0</td>\n",
       "    </tr>\n",
       "  </tbody>\n",
       "</table>\n",
       "<p>2215 rows × 8 columns</p>\n",
       "</div>"
      ],
      "text/plain": [
       "             longitude  latitude  housing_median_age  total_bedrooms   \n",
       "total_rooms                                                            \n",
       "6              -116.95     33.86                 1.0             2.0  \\\n",
       "16             -117.12     32.66                52.0             4.0   \n",
       "18             -114.62     33.62                26.0             3.0   \n",
       "19             -121.04     37.67                16.0            19.0   \n",
       "21             -118.06     34.03                36.0             7.0   \n",
       "...                ...       ...                 ...             ...   \n",
       "21988          -117.12     33.49                 4.0          4055.0   \n",
       "23915          -117.27     33.15                 4.0          4135.0   \n",
       "24121          -116.36     33.78                 6.0          4522.0   \n",
       "27870          -121.53     38.48                 5.0          5027.0   \n",
       "30450          -117.20     33.58                 2.0          5033.0   \n",
       "\n",
       "             population  households  median_income  median_house_value  \n",
       "total_rooms                                                             \n",
       "6                   8.0         2.0         1.6250             55000.0  \n",
       "16                  8.0         3.0         1.1250             60000.0  \n",
       "18                  5.0         3.0         0.5360            275000.0  \n",
       "19                166.0         9.0         0.5360            162500.0  \n",
       "21                 21.0         9.0         2.3750            175000.0  \n",
       "...                 ...         ...            ...                 ...  \n",
       "21988            8824.0      3252.0         3.9963            191100.0  \n",
       "23915           10877.0      3958.0         4.6357            244900.0  \n",
       "24121            4176.0      2221.0         3.3799            239300.0  \n",
       "27870           11935.0      4855.0         4.8811            212200.0  \n",
       "30450            9419.0      3197.0         4.5936            174300.0  \n",
       "\n",
       "[2215 rows x 8 columns]"
      ]
     },
     "execution_count": 276,
     "metadata": {},
     "output_type": "execute_result"
    }
   ],
   "source": [
    "df_house.groupby('total_rooms').mean()"
   ]
  },
  {
   "cell_type": "code",
   "execution_count": 280,
   "id": "ba1d5733-d662-49cb-a8eb-8bb6797dad9b",
   "metadata": {},
   "outputs": [
    {
     "data": {
      "text/plain": [
       "total_rooms\n",
       "6           2.0\n",
       "16          4.0\n",
       "18          3.0\n",
       "19         19.0\n",
       "21          7.0\n",
       "          ...  \n",
       "21988    4055.0\n",
       "23915    4135.0\n",
       "24121    4522.0\n",
       "27870    5027.0\n",
       "30450    5033.0\n",
       "Name: total_bedrooms, Length: 2215, dtype: float64"
      ]
     },
     "execution_count": 280,
     "metadata": {},
     "output_type": "execute_result"
    }
   ],
   "source": [
    "df_house.groupby('total_rooms')['total_bedrooms'].mean()"
   ]
  },
  {
   "cell_type": "code",
   "execution_count": 305,
   "id": "6793f28e-f21b-42c5-b26e-b69e1b8fc147",
   "metadata": {},
   "outputs": [
    {
     "data": {
      "text/html": [
       "<div>\n",
       "<style scoped>\n",
       "    .dataframe tbody tr th:only-of-type {\n",
       "        vertical-align: middle;\n",
       "    }\n",
       "\n",
       "    .dataframe tbody tr th {\n",
       "        vertical-align: top;\n",
       "    }\n",
       "\n",
       "    .dataframe thead th {\n",
       "        text-align: right;\n",
       "    }\n",
       "</style>\n",
       "<table border=\"1\" class=\"dataframe\">\n",
       "  <thead>\n",
       "    <tr style=\"text-align: right;\">\n",
       "      <th></th>\n",
       "      <th>도시</th>\n",
       "      <th>연도</th>\n",
       "      <th>전입신고 수</th>\n",
       "      <th>세금</th>\n",
       "    </tr>\n",
       "  </thead>\n",
       "  <tbody>\n",
       "    <tr>\n",
       "      <th>0</th>\n",
       "      <td>서울</td>\n",
       "      <td>2015</td>\n",
       "      <td>10040</td>\n",
       "      <td>1004000</td>\n",
       "    </tr>\n",
       "    <tr>\n",
       "      <th>1</th>\n",
       "      <td>부산</td>\n",
       "      <td>2016</td>\n",
       "      <td>22300</td>\n",
       "      <td>2230000</td>\n",
       "    </tr>\n",
       "    <tr>\n",
       "      <th>2</th>\n",
       "      <td>제주</td>\n",
       "      <td>2017</td>\n",
       "      <td>6000</td>\n",
       "      <td>600000</td>\n",
       "    </tr>\n",
       "    <tr>\n",
       "      <th>3</th>\n",
       "      <td>서울</td>\n",
       "      <td>2018</td>\n",
       "      <td>12400</td>\n",
       "      <td>1240000</td>\n",
       "    </tr>\n",
       "    <tr>\n",
       "      <th>4</th>\n",
       "      <td>제주</td>\n",
       "      <td>2019</td>\n",
       "      <td>4000</td>\n",
       "      <td>400000</td>\n",
       "    </tr>\n",
       "  </tbody>\n",
       "</table>\n",
       "</div>"
      ],
      "text/plain": [
       "   도시    연도  전입신고 수       세금\n",
       "0  서울  2015   10040  1004000\n",
       "1  부산  2016   22300  2230000\n",
       "2  제주  2017    6000   600000\n",
       "3  서울  2018   12400  1240000\n",
       "4  제주  2019    4000   400000"
      ]
     },
     "execution_count": 305,
     "metadata": {},
     "output_type": "execute_result"
    }
   ],
   "source": [
    "df_2 = pd.DataFrame({\n",
    "    '도시': ['서울', '부산', '제주', '서울', '제주', '제주', '부산', '부산', '제주'],\n",
    "    '연도': [2015, 2016, 2017, 2018, 2019, 2020, 2021, 2022, 2023],\n",
    "    '전입신고 수': [10040, 22300, 6000, 12400, 4000, 600, 11100, 45000, 31000],\n",
    "    '세금': [1004000, 2230000, 600000, 1240000, 400000, 60000, 1110000, 4500000, 3100000]\n",
    "})\n",
    "df_2.head()"
   ]
  },
  {
   "cell_type": "code",
   "execution_count": 307,
   "id": "7d8ec9e2-89d5-4030-bb20-b105038e6ba8",
   "metadata": {},
   "outputs": [
    {
     "name": "stdout",
     "output_type": "stream",
     "text": [
      "<class 'pandas.core.frame.DataFrame'>\n",
      "RangeIndex: 9 entries, 0 to 8\n",
      "Data columns (total 4 columns):\n",
      " #   Column  Non-Null Count  Dtype \n",
      "---  ------  --------------  ----- \n",
      " 0   도시      9 non-null      object\n",
      " 1   연도      9 non-null      int64 \n",
      " 2   전입신고 수  9 non-null      int64 \n",
      " 3   세금      9 non-null      int64 \n",
      "dtypes: int64(3), object(1)\n",
      "memory usage: 416.0+ bytes\n"
     ]
    }
   ],
   "source": [
    "df_2.info()"
   ]
  },
  {
   "cell_type": "code",
   "execution_count": 308,
   "id": "ad5bea98-b1d6-4185-91ff-b87cd134035b",
   "metadata": {},
   "outputs": [
    {
     "data": {
      "text/plain": [
       "도시\n",
       "부산    78400\n",
       "서울    22440\n",
       "제주    41600\n",
       "Name: 전입신고 수, dtype: int64"
      ]
     },
     "execution_count": 308,
     "metadata": {},
     "output_type": "execute_result"
    }
   ],
   "source": [
    "df_2.groupby('도시')['전입신고 수'].sum()"
   ]
  },
  {
   "cell_type": "code",
   "execution_count": 309,
   "id": "86921272-d265-4738-8030-332c6a2fff1f",
   "metadata": {},
   "outputs": [
    {
     "data": {
      "text/html": [
       "<div>\n",
       "<style scoped>\n",
       "    .dataframe tbody tr th:only-of-type {\n",
       "        vertical-align: middle;\n",
       "    }\n",
       "\n",
       "    .dataframe tbody tr th {\n",
       "        vertical-align: top;\n",
       "    }\n",
       "\n",
       "    .dataframe thead th {\n",
       "        text-align: right;\n",
       "    }\n",
       "</style>\n",
       "<table border=\"1\" class=\"dataframe\">\n",
       "  <thead>\n",
       "    <tr style=\"text-align: right;\">\n",
       "      <th></th>\n",
       "      <th>mean</th>\n",
       "      <th>min</th>\n",
       "      <th>max</th>\n",
       "      <th>sum</th>\n",
       "    </tr>\n",
       "    <tr>\n",
       "      <th>도시</th>\n",
       "      <th></th>\n",
       "      <th></th>\n",
       "      <th></th>\n",
       "      <th></th>\n",
       "    </tr>\n",
       "  </thead>\n",
       "  <tbody>\n",
       "    <tr>\n",
       "      <th>부산</th>\n",
       "      <td>26133.333333</td>\n",
       "      <td>11100</td>\n",
       "      <td>45000</td>\n",
       "      <td>78400</td>\n",
       "    </tr>\n",
       "    <tr>\n",
       "      <th>서울</th>\n",
       "      <td>11220.000000</td>\n",
       "      <td>10040</td>\n",
       "      <td>12400</td>\n",
       "      <td>22440</td>\n",
       "    </tr>\n",
       "    <tr>\n",
       "      <th>제주</th>\n",
       "      <td>10400.000000</td>\n",
       "      <td>600</td>\n",
       "      <td>31000</td>\n",
       "      <td>41600</td>\n",
       "    </tr>\n",
       "  </tbody>\n",
       "</table>\n",
       "</div>"
      ],
      "text/plain": [
       "            mean    min    max    sum\n",
       "도시                                   \n",
       "부산  26133.333333  11100  45000  78400\n",
       "서울  11220.000000  10040  12400  22440\n",
       "제주  10400.000000    600  31000  41600"
      ]
     },
     "execution_count": 309,
     "metadata": {},
     "output_type": "execute_result"
    }
   ],
   "source": [
    "df_2.groupby('도시')['전입신고 수'].agg(['mean', 'min', 'max', 'sum'])"
   ]
  },
  {
   "cell_type": "markdown",
   "id": "65f9d6fd-4c6d-4c81-84da-248cc3189444",
   "metadata": {},
   "source": [
    "### 데이터프레임 병합 - 다시 정리\n",
    "\n",
    "\\[concat\\]</br>\n",
    "Concat function concatenates dataframes along rows or columns</br>\n",
    "stacking up multiple dataframes\n",
    "```python\n",
    "pd.concat([DataFrames], axis, ignore_index, join)\n",
    "```\n",
    "  - ignore_index: index 재배열 (default = False)\n",
    "  - axis: concat의 axis 기준 (0, 1) 지정\n",
    "  - join: inner or outer(default)\n",
    "\n",
    "axis 0\n",
    "if column name is different\n",
    "\n",
    "if index label is different\n",
    "\n",
    "axis 1\n",
    "if index label is different\n",
    "\n",
    "if column name is different\n",
    "\n",
    "\\[merge\\]</br>\n",
    "Merge combines dataframes based on values in shared columns</br>\n",
    "Merge function offers more flexibility compared to concat function because it allows combinations based on a condition\n",
    "```python\n",
    "pd.merge(left, right, how, on, sort ...)\n",
    "```\n",
    "- left: merge의 기준 DataFrame\n",
    "- right: left에 merge할 DataFrame\n",
    "- how: inner(default), outer, left, right\n",
    "- on: DataFrame을 merge하는 기준 column\n",
    "  - on을 설정하지 않아도, default로 지정될 공통된 column name이 없으면 에러 발생"
   ]
  },
  {
   "cell_type": "markdown",
   "id": "e2d0b79e-bf34-4ae8-af36-c31ef133c5b0",
   "metadata": {},
   "source": [
    "concat은 join을 했을 때, column명이 같고, index가 다르면 "
   ]
  },
  {
   "cell_type": "code",
   "execution_count": 373,
   "id": "cf63033f-1bf5-48d8-be3e-ac0bd8dfa170",
   "metadata": {},
   "outputs": [],
   "source": [
    "data = pd.DataFrame({\n",
    "    '도시': ['서울', '부산', '제주', '서울'],\n",
    "    '연도': [2015, 2015, 2011, 2020],\n",
    "    '전입신고 수': [10040, 22300, 6000, 12400],\n",
    "    '세금': [1004000, 2230000, 600000, 1240000]\n",
    "    }, index=['a', 'b', 'c', 'd']\n",
    ")\n",
    "\n",
    "data2 = pd.DataFrame({\n",
    "    '도시': ['서울', '부산', '제주', '서울'],\n",
    "    '연도': [2015, 2015, 2011, 20203],\n",
    "    '전입신고 수': [10040, 22300, 6000, 12400],\n",
    "    '세금': [1004000, 2230000, 600000, 1240000]},\n",
    "    index=['e', 'f', 'g', 'h']\n",
    "    )"
   ]
  },
  {
   "cell_type": "code",
   "execution_count": 331,
   "id": "b4d328a2-3db6-488b-ac43-a8a469ee6f8c",
   "metadata": {},
   "outputs": [
    {
     "data": {
      "text/html": [
       "<div>\n",
       "<style scoped>\n",
       "    .dataframe tbody tr th:only-of-type {\n",
       "        vertical-align: middle;\n",
       "    }\n",
       "\n",
       "    .dataframe tbody tr th {\n",
       "        vertical-align: top;\n",
       "    }\n",
       "\n",
       "    .dataframe thead th {\n",
       "        text-align: right;\n",
       "    }\n",
       "</style>\n",
       "<table border=\"1\" class=\"dataframe\">\n",
       "  <thead>\n",
       "    <tr style=\"text-align: right;\">\n",
       "      <th></th>\n",
       "      <th>도시</th>\n",
       "      <th>연도</th>\n",
       "      <th>전입신고 수</th>\n",
       "      <th>세금</th>\n",
       "    </tr>\n",
       "  </thead>\n",
       "  <tbody>\n",
       "    <tr>\n",
       "      <th>a</th>\n",
       "      <td>서울</td>\n",
       "      <td>2015</td>\n",
       "      <td>10040</td>\n",
       "      <td>1004000</td>\n",
       "    </tr>\n",
       "    <tr>\n",
       "      <th>b</th>\n",
       "      <td>부산</td>\n",
       "      <td>2015</td>\n",
       "      <td>22300</td>\n",
       "      <td>2230000</td>\n",
       "    </tr>\n",
       "    <tr>\n",
       "      <th>c</th>\n",
       "      <td>제주</td>\n",
       "      <td>2011</td>\n",
       "      <td>6000</td>\n",
       "      <td>600000</td>\n",
       "    </tr>\n",
       "    <tr>\n",
       "      <th>d</th>\n",
       "      <td>서울</td>\n",
       "      <td>2020</td>\n",
       "      <td>12400</td>\n",
       "      <td>1240000</td>\n",
       "    </tr>\n",
       "  </tbody>\n",
       "</table>\n",
       "</div>"
      ],
      "text/plain": [
       "   도시    연도  전입신고 수       세금\n",
       "a  서울  2015   10040  1004000\n",
       "b  부산  2015   22300  2230000\n",
       "c  제주  2011    6000   600000\n",
       "d  서울  2020   12400  1240000"
      ]
     },
     "execution_count": 331,
     "metadata": {},
     "output_type": "execute_result"
    }
   ],
   "source": [
    "data.head()"
   ]
  },
  {
   "cell_type": "code",
   "execution_count": 332,
   "id": "f56e33a6-5c33-4a1d-975b-abfc1ef154f3",
   "metadata": {},
   "outputs": [
    {
     "data": {
      "text/html": [
       "<div>\n",
       "<style scoped>\n",
       "    .dataframe tbody tr th:only-of-type {\n",
       "        vertical-align: middle;\n",
       "    }\n",
       "\n",
       "    .dataframe tbody tr th {\n",
       "        vertical-align: top;\n",
       "    }\n",
       "\n",
       "    .dataframe thead th {\n",
       "        text-align: right;\n",
       "    }\n",
       "</style>\n",
       "<table border=\"1\" class=\"dataframe\">\n",
       "  <thead>\n",
       "    <tr style=\"text-align: right;\">\n",
       "      <th></th>\n",
       "      <th>도시</th>\n",
       "      <th>연도</th>\n",
       "      <th>전입신고 수</th>\n",
       "      <th>세금</th>\n",
       "    </tr>\n",
       "  </thead>\n",
       "  <tbody>\n",
       "    <tr>\n",
       "      <th>e</th>\n",
       "      <td>서울</td>\n",
       "      <td>2015</td>\n",
       "      <td>10040</td>\n",
       "      <td>1004000</td>\n",
       "    </tr>\n",
       "    <tr>\n",
       "      <th>f</th>\n",
       "      <td>부산</td>\n",
       "      <td>2015</td>\n",
       "      <td>22300</td>\n",
       "      <td>2230000</td>\n",
       "    </tr>\n",
       "    <tr>\n",
       "      <th>g</th>\n",
       "      <td>제주</td>\n",
       "      <td>2011</td>\n",
       "      <td>6000</td>\n",
       "      <td>600000</td>\n",
       "    </tr>\n",
       "    <tr>\n",
       "      <th>h</th>\n",
       "      <td>서울</td>\n",
       "      <td>20203</td>\n",
       "      <td>12400</td>\n",
       "      <td>1240000</td>\n",
       "    </tr>\n",
       "  </tbody>\n",
       "</table>\n",
       "</div>"
      ],
      "text/plain": [
       "   도시     연도  전입신고 수       세금\n",
       "e  서울   2015   10040  1004000\n",
       "f  부산   2015   22300  2230000\n",
       "g  제주   2011    6000   600000\n",
       "h  서울  20203   12400  1240000"
      ]
     },
     "execution_count": 332,
     "metadata": {},
     "output_type": "execute_result"
    }
   ],
   "source": [
    "data2.head()"
   ]
  },
  {
   "cell_type": "code",
   "execution_count": 333,
   "id": "0ee64a21-2ced-4546-af2f-a39f90f8169b",
   "metadata": {},
   "outputs": [
    {
     "data": {
      "text/html": [
       "<div>\n",
       "<style scoped>\n",
       "    .dataframe tbody tr th:only-of-type {\n",
       "        vertical-align: middle;\n",
       "    }\n",
       "\n",
       "    .dataframe tbody tr th {\n",
       "        vertical-align: top;\n",
       "    }\n",
       "\n",
       "    .dataframe thead th {\n",
       "        text-align: right;\n",
       "    }\n",
       "</style>\n",
       "<table border=\"1\" class=\"dataframe\">\n",
       "  <thead>\n",
       "    <tr style=\"text-align: right;\">\n",
       "      <th></th>\n",
       "      <th>도시</th>\n",
       "      <th>연도</th>\n",
       "      <th>전입신고 수</th>\n",
       "      <th>세금</th>\n",
       "    </tr>\n",
       "  </thead>\n",
       "  <tbody>\n",
       "    <tr>\n",
       "      <th>a</th>\n",
       "      <td>서울</td>\n",
       "      <td>2015</td>\n",
       "      <td>10040</td>\n",
       "      <td>1004000</td>\n",
       "    </tr>\n",
       "    <tr>\n",
       "      <th>b</th>\n",
       "      <td>부산</td>\n",
       "      <td>2015</td>\n",
       "      <td>22300</td>\n",
       "      <td>2230000</td>\n",
       "    </tr>\n",
       "    <tr>\n",
       "      <th>c</th>\n",
       "      <td>제주</td>\n",
       "      <td>2011</td>\n",
       "      <td>6000</td>\n",
       "      <td>600000</td>\n",
       "    </tr>\n",
       "    <tr>\n",
       "      <th>d</th>\n",
       "      <td>서울</td>\n",
       "      <td>2020</td>\n",
       "      <td>12400</td>\n",
       "      <td>1240000</td>\n",
       "    </tr>\n",
       "    <tr>\n",
       "      <th>e</th>\n",
       "      <td>서울</td>\n",
       "      <td>2015</td>\n",
       "      <td>10040</td>\n",
       "      <td>1004000</td>\n",
       "    </tr>\n",
       "    <tr>\n",
       "      <th>f</th>\n",
       "      <td>부산</td>\n",
       "      <td>2015</td>\n",
       "      <td>22300</td>\n",
       "      <td>2230000</td>\n",
       "    </tr>\n",
       "    <tr>\n",
       "      <th>g</th>\n",
       "      <td>제주</td>\n",
       "      <td>2011</td>\n",
       "      <td>6000</td>\n",
       "      <td>600000</td>\n",
       "    </tr>\n",
       "    <tr>\n",
       "      <th>h</th>\n",
       "      <td>서울</td>\n",
       "      <td>20203</td>\n",
       "      <td>12400</td>\n",
       "      <td>1240000</td>\n",
       "    </tr>\n",
       "  </tbody>\n",
       "</table>\n",
       "</div>"
      ],
      "text/plain": [
       "   도시     연도  전입신고 수       세금\n",
       "a  서울   2015   10040  1004000\n",
       "b  부산   2015   22300  2230000\n",
       "c  제주   2011    6000   600000\n",
       "d  서울   2020   12400  1240000\n",
       "e  서울   2015   10040  1004000\n",
       "f  부산   2015   22300  2230000\n",
       "g  제주   2011    6000   600000\n",
       "h  서울  20203   12400  1240000"
      ]
     },
     "execution_count": 333,
     "metadata": {},
     "output_type": "execute_result"
    }
   ],
   "source": [
    "pd.concat([data, data2])"
   ]
  },
  {
   "cell_type": "code",
   "execution_count": 374,
   "id": "81cd8298-c87e-4b70-870d-1eaaf98c544e",
   "metadata": {},
   "outputs": [
    {
     "data": {
      "text/html": [
       "<div>\n",
       "<style scoped>\n",
       "    .dataframe tbody tr th:only-of-type {\n",
       "        vertical-align: middle;\n",
       "    }\n",
       "\n",
       "    .dataframe tbody tr th {\n",
       "        vertical-align: top;\n",
       "    }\n",
       "\n",
       "    .dataframe thead th {\n",
       "        text-align: right;\n",
       "    }\n",
       "</style>\n",
       "<table border=\"1\" class=\"dataframe\">\n",
       "  <thead>\n",
       "    <tr style=\"text-align: right;\">\n",
       "      <th></th>\n",
       "      <th>도시</th>\n",
       "      <th>연도</th>\n",
       "      <th>전입신고 수</th>\n",
       "      <th>세금</th>\n",
       "      <th>도시</th>\n",
       "      <th>연도</th>\n",
       "      <th>전입신고 수</th>\n",
       "      <th>세금</th>\n",
       "    </tr>\n",
       "  </thead>\n",
       "  <tbody>\n",
       "    <tr>\n",
       "      <th>a</th>\n",
       "      <td>서울</td>\n",
       "      <td>2015.0</td>\n",
       "      <td>10040.0</td>\n",
       "      <td>1004000.0</td>\n",
       "      <td>NaN</td>\n",
       "      <td>NaN</td>\n",
       "      <td>NaN</td>\n",
       "      <td>NaN</td>\n",
       "    </tr>\n",
       "    <tr>\n",
       "      <th>b</th>\n",
       "      <td>부산</td>\n",
       "      <td>2015.0</td>\n",
       "      <td>22300.0</td>\n",
       "      <td>2230000.0</td>\n",
       "      <td>NaN</td>\n",
       "      <td>NaN</td>\n",
       "      <td>NaN</td>\n",
       "      <td>NaN</td>\n",
       "    </tr>\n",
       "    <tr>\n",
       "      <th>c</th>\n",
       "      <td>제주</td>\n",
       "      <td>2011.0</td>\n",
       "      <td>6000.0</td>\n",
       "      <td>600000.0</td>\n",
       "      <td>NaN</td>\n",
       "      <td>NaN</td>\n",
       "      <td>NaN</td>\n",
       "      <td>NaN</td>\n",
       "    </tr>\n",
       "    <tr>\n",
       "      <th>d</th>\n",
       "      <td>서울</td>\n",
       "      <td>2020.0</td>\n",
       "      <td>12400.0</td>\n",
       "      <td>1240000.0</td>\n",
       "      <td>NaN</td>\n",
       "      <td>NaN</td>\n",
       "      <td>NaN</td>\n",
       "      <td>NaN</td>\n",
       "    </tr>\n",
       "    <tr>\n",
       "      <th>e</th>\n",
       "      <td>NaN</td>\n",
       "      <td>NaN</td>\n",
       "      <td>NaN</td>\n",
       "      <td>NaN</td>\n",
       "      <td>서울</td>\n",
       "      <td>2015.0</td>\n",
       "      <td>10040.0</td>\n",
       "      <td>1004000.0</td>\n",
       "    </tr>\n",
       "    <tr>\n",
       "      <th>f</th>\n",
       "      <td>NaN</td>\n",
       "      <td>NaN</td>\n",
       "      <td>NaN</td>\n",
       "      <td>NaN</td>\n",
       "      <td>부산</td>\n",
       "      <td>2015.0</td>\n",
       "      <td>22300.0</td>\n",
       "      <td>2230000.0</td>\n",
       "    </tr>\n",
       "    <tr>\n",
       "      <th>g</th>\n",
       "      <td>NaN</td>\n",
       "      <td>NaN</td>\n",
       "      <td>NaN</td>\n",
       "      <td>NaN</td>\n",
       "      <td>제주</td>\n",
       "      <td>2011.0</td>\n",
       "      <td>6000.0</td>\n",
       "      <td>600000.0</td>\n",
       "    </tr>\n",
       "    <tr>\n",
       "      <th>h</th>\n",
       "      <td>NaN</td>\n",
       "      <td>NaN</td>\n",
       "      <td>NaN</td>\n",
       "      <td>NaN</td>\n",
       "      <td>서울</td>\n",
       "      <td>20203.0</td>\n",
       "      <td>12400.0</td>\n",
       "      <td>1240000.0</td>\n",
       "    </tr>\n",
       "  </tbody>\n",
       "</table>\n",
       "</div>"
      ],
      "text/plain": [
       "    도시      연도   전입신고 수         세금   도시       연도   전입신고 수         세금\n",
       "a   서울  2015.0  10040.0  1004000.0  NaN      NaN      NaN        NaN\n",
       "b   부산  2015.0  22300.0  2230000.0  NaN      NaN      NaN        NaN\n",
       "c   제주  2011.0   6000.0   600000.0  NaN      NaN      NaN        NaN\n",
       "d   서울  2020.0  12400.0  1240000.0  NaN      NaN      NaN        NaN\n",
       "e  NaN     NaN      NaN        NaN   서울   2015.0  10040.0  1004000.0\n",
       "f  NaN     NaN      NaN        NaN   부산   2015.0  22300.0  2230000.0\n",
       "g  NaN     NaN      NaN        NaN   제주   2011.0   6000.0   600000.0\n",
       "h  NaN     NaN      NaN        NaN   서울  20203.0  12400.0  1240000.0"
      ]
     },
     "execution_count": 374,
     "metadata": {},
     "output_type": "execute_result"
    }
   ],
   "source": [
    "pd.concat([data, data2], axis = 1)"
   ]
  },
  {
   "cell_type": "code",
   "execution_count": 370,
   "id": "c4650a22-08a0-4f67-8c96-5027220eeb2b",
   "metadata": {
    "scrolled": true
   },
   "outputs": [
    {
     "data": {
      "text/plain": [
       "Index(['a', 'b', 'c', 'd'], dtype='object')"
      ]
     },
     "execution_count": 370,
     "metadata": {},
     "output_type": "execute_result"
    }
   ],
   "source": [
    "data2.index = data.index\n",
    "data2.index"
   ]
  },
  {
   "cell_type": "code",
   "execution_count": 371,
   "id": "3e8fa183-d5c0-4917-bd4d-5bc12c6d7101",
   "metadata": {},
   "outputs": [
    {
     "data": {
      "text/html": [
       "<div>\n",
       "<style scoped>\n",
       "    .dataframe tbody tr th:only-of-type {\n",
       "        vertical-align: middle;\n",
       "    }\n",
       "\n",
       "    .dataframe tbody tr th {\n",
       "        vertical-align: top;\n",
       "    }\n",
       "\n",
       "    .dataframe thead th {\n",
       "        text-align: right;\n",
       "    }\n",
       "</style>\n",
       "<table border=\"1\" class=\"dataframe\">\n",
       "  <thead>\n",
       "    <tr style=\"text-align: right;\">\n",
       "      <th></th>\n",
       "      <th>도시</th>\n",
       "      <th>연도</th>\n",
       "      <th>전입신고 수</th>\n",
       "      <th>세금</th>\n",
       "    </tr>\n",
       "  </thead>\n",
       "  <tbody>\n",
       "    <tr>\n",
       "      <th>a</th>\n",
       "      <td>서울</td>\n",
       "      <td>2015</td>\n",
       "      <td>10040</td>\n",
       "      <td>1004000</td>\n",
       "    </tr>\n",
       "    <tr>\n",
       "      <th>b</th>\n",
       "      <td>부산</td>\n",
       "      <td>2015</td>\n",
       "      <td>22300</td>\n",
       "      <td>2230000</td>\n",
       "    </tr>\n",
       "    <tr>\n",
       "      <th>c</th>\n",
       "      <td>제주</td>\n",
       "      <td>2011</td>\n",
       "      <td>6000</td>\n",
       "      <td>600000</td>\n",
       "    </tr>\n",
       "    <tr>\n",
       "      <th>d</th>\n",
       "      <td>서울</td>\n",
       "      <td>2020</td>\n",
       "      <td>12400</td>\n",
       "      <td>1240000</td>\n",
       "    </tr>\n",
       "    <tr>\n",
       "      <th>a</th>\n",
       "      <td>서울</td>\n",
       "      <td>2015</td>\n",
       "      <td>10040</td>\n",
       "      <td>1004000</td>\n",
       "    </tr>\n",
       "    <tr>\n",
       "      <th>b</th>\n",
       "      <td>부산</td>\n",
       "      <td>2015</td>\n",
       "      <td>22300</td>\n",
       "      <td>2230000</td>\n",
       "    </tr>\n",
       "    <tr>\n",
       "      <th>c</th>\n",
       "      <td>제주</td>\n",
       "      <td>2011</td>\n",
       "      <td>6000</td>\n",
       "      <td>600000</td>\n",
       "    </tr>\n",
       "    <tr>\n",
       "      <th>d</th>\n",
       "      <td>서울</td>\n",
       "      <td>20203</td>\n",
       "      <td>12400</td>\n",
       "      <td>1240000</td>\n",
       "    </tr>\n",
       "  </tbody>\n",
       "</table>\n",
       "</div>"
      ],
      "text/plain": [
       "   도시     연도  전입신고 수       세금\n",
       "a  서울   2015   10040  1004000\n",
       "b  부산   2015   22300  2230000\n",
       "c  제주   2011    6000   600000\n",
       "d  서울   2020   12400  1240000\n",
       "a  서울   2015   10040  1004000\n",
       "b  부산   2015   22300  2230000\n",
       "c  제주   2011    6000   600000\n",
       "d  서울  20203   12400  1240000"
      ]
     },
     "execution_count": 371,
     "metadata": {},
     "output_type": "execute_result"
    }
   ],
   "source": [
    "pd.concat([data, data2])"
   ]
  },
  {
   "cell_type": "code",
   "execution_count": 372,
   "id": "b6bdac9e-54e9-46c9-85c8-f2633ad82ee7",
   "metadata": {},
   "outputs": [
    {
     "data": {
      "text/html": [
       "<div>\n",
       "<style scoped>\n",
       "    .dataframe tbody tr th:only-of-type {\n",
       "        vertical-align: middle;\n",
       "    }\n",
       "\n",
       "    .dataframe tbody tr th {\n",
       "        vertical-align: top;\n",
       "    }\n",
       "\n",
       "    .dataframe thead th {\n",
       "        text-align: right;\n",
       "    }\n",
       "</style>\n",
       "<table border=\"1\" class=\"dataframe\">\n",
       "  <thead>\n",
       "    <tr style=\"text-align: right;\">\n",
       "      <th></th>\n",
       "      <th>도시</th>\n",
       "      <th>연도</th>\n",
       "      <th>전입신고 수</th>\n",
       "      <th>세금</th>\n",
       "      <th>도시</th>\n",
       "      <th>연도</th>\n",
       "      <th>전입신고 수</th>\n",
       "      <th>세금</th>\n",
       "    </tr>\n",
       "  </thead>\n",
       "  <tbody>\n",
       "    <tr>\n",
       "      <th>a</th>\n",
       "      <td>서울</td>\n",
       "      <td>2015</td>\n",
       "      <td>10040</td>\n",
       "      <td>1004000</td>\n",
       "      <td>서울</td>\n",
       "      <td>2015</td>\n",
       "      <td>10040</td>\n",
       "      <td>1004000</td>\n",
       "    </tr>\n",
       "    <tr>\n",
       "      <th>b</th>\n",
       "      <td>부산</td>\n",
       "      <td>2015</td>\n",
       "      <td>22300</td>\n",
       "      <td>2230000</td>\n",
       "      <td>부산</td>\n",
       "      <td>2015</td>\n",
       "      <td>22300</td>\n",
       "      <td>2230000</td>\n",
       "    </tr>\n",
       "    <tr>\n",
       "      <th>c</th>\n",
       "      <td>제주</td>\n",
       "      <td>2011</td>\n",
       "      <td>6000</td>\n",
       "      <td>600000</td>\n",
       "      <td>제주</td>\n",
       "      <td>2011</td>\n",
       "      <td>6000</td>\n",
       "      <td>600000</td>\n",
       "    </tr>\n",
       "    <tr>\n",
       "      <th>d</th>\n",
       "      <td>서울</td>\n",
       "      <td>2020</td>\n",
       "      <td>12400</td>\n",
       "      <td>1240000</td>\n",
       "      <td>서울</td>\n",
       "      <td>20203</td>\n",
       "      <td>12400</td>\n",
       "      <td>1240000</td>\n",
       "    </tr>\n",
       "  </tbody>\n",
       "</table>\n",
       "</div>"
      ],
      "text/plain": [
       "   도시    연도  전입신고 수       세금  도시     연도  전입신고 수       세금\n",
       "a  서울  2015   10040  1004000  서울   2015   10040  1004000\n",
       "b  부산  2015   22300  2230000  부산   2015   22300  2230000\n",
       "c  제주  2011    6000   600000  제주   2011    6000   600000\n",
       "d  서울  2020   12400  1240000  서울  20203   12400  1240000"
      ]
     },
     "execution_count": 372,
     "metadata": {},
     "output_type": "execute_result"
    }
   ],
   "source": [
    "pd.concat([data, data2], axis = 1)"
   ]
  },
  {
   "cell_type": "code",
   "execution_count": 379,
   "id": "624402a4-ed00-4416-a5dc-e421dc1ce2a8",
   "metadata": {},
   "outputs": [
    {
     "data": {
      "text/html": [
       "<div>\n",
       "<style scoped>\n",
       "    .dataframe tbody tr th:only-of-type {\n",
       "        vertical-align: middle;\n",
       "    }\n",
       "\n",
       "    .dataframe tbody tr th {\n",
       "        vertical-align: top;\n",
       "    }\n",
       "\n",
       "    .dataframe thead th {\n",
       "        text-align: right;\n",
       "    }\n",
       "</style>\n",
       "<table border=\"1\" class=\"dataframe\">\n",
       "  <thead>\n",
       "    <tr style=\"text-align: right;\">\n",
       "      <th></th>\n",
       "      <th>도시</th>\n",
       "      <th>연도</th>\n",
       "      <th>전입신고 수</th>\n",
       "      <th>세금</th>\n",
       "    </tr>\n",
       "  </thead>\n",
       "  <tbody>\n",
       "    <tr>\n",
       "      <th>a</th>\n",
       "      <td>서울</td>\n",
       "      <td>2015</td>\n",
       "      <td>10040</td>\n",
       "      <td>1004000</td>\n",
       "    </tr>\n",
       "    <tr>\n",
       "      <th>b</th>\n",
       "      <td>부산</td>\n",
       "      <td>2015</td>\n",
       "      <td>22300</td>\n",
       "      <td>2230000</td>\n",
       "    </tr>\n",
       "    <tr>\n",
       "      <th>c</th>\n",
       "      <td>제주</td>\n",
       "      <td>2011</td>\n",
       "      <td>6000</td>\n",
       "      <td>600000</td>\n",
       "    </tr>\n",
       "    <tr>\n",
       "      <th>d</th>\n",
       "      <td>서울</td>\n",
       "      <td>2020</td>\n",
       "      <td>12400</td>\n",
       "      <td>1240000</td>\n",
       "    </tr>\n",
       "    <tr>\n",
       "      <th>e</th>\n",
       "      <td>서울</td>\n",
       "      <td>2015</td>\n",
       "      <td>10040</td>\n",
       "      <td>1004000</td>\n",
       "    </tr>\n",
       "    <tr>\n",
       "      <th>f</th>\n",
       "      <td>부산</td>\n",
       "      <td>2015</td>\n",
       "      <td>22300</td>\n",
       "      <td>2230000</td>\n",
       "    </tr>\n",
       "    <tr>\n",
       "      <th>g</th>\n",
       "      <td>제주</td>\n",
       "      <td>2011</td>\n",
       "      <td>6000</td>\n",
       "      <td>600000</td>\n",
       "    </tr>\n",
       "    <tr>\n",
       "      <th>h</th>\n",
       "      <td>서울</td>\n",
       "      <td>20203</td>\n",
       "      <td>12400</td>\n",
       "      <td>1240000</td>\n",
       "    </tr>\n",
       "  </tbody>\n",
       "</table>\n",
       "</div>"
      ],
      "text/plain": [
       "   도시     연도  전입신고 수       세금\n",
       "a  서울   2015   10040  1004000\n",
       "b  부산   2015   22300  2230000\n",
       "c  제주   2011    6000   600000\n",
       "d  서울   2020   12400  1240000\n",
       "e  서울   2015   10040  1004000\n",
       "f  부산   2015   22300  2230000\n",
       "g  제주   2011    6000   600000\n",
       "h  서울  20203   12400  1240000"
      ]
     },
     "execution_count": 379,
     "metadata": {},
     "output_type": "execute_result"
    }
   ],
   "source": [
    "pd.concat([data, data2], join = 'inner')"
   ]
  },
  {
   "cell_type": "code",
   "execution_count": 380,
   "id": "c9504376-59b1-4cd0-8047-9ce6269bc87f",
   "metadata": {},
   "outputs": [
    {
     "data": {
      "text/html": [
       "<div>\n",
       "<style scoped>\n",
       "    .dataframe tbody tr th:only-of-type {\n",
       "        vertical-align: middle;\n",
       "    }\n",
       "\n",
       "    .dataframe tbody tr th {\n",
       "        vertical-align: top;\n",
       "    }\n",
       "\n",
       "    .dataframe thead th {\n",
       "        text-align: right;\n",
       "    }\n",
       "</style>\n",
       "<table border=\"1\" class=\"dataframe\">\n",
       "  <thead>\n",
       "    <tr style=\"text-align: right;\">\n",
       "      <th></th>\n",
       "      <th>도시</th>\n",
       "      <th>연도</th>\n",
       "      <th>전입신고 수</th>\n",
       "      <th>세금</th>\n",
       "    </tr>\n",
       "  </thead>\n",
       "  <tbody>\n",
       "    <tr>\n",
       "      <th>a</th>\n",
       "      <td>서울</td>\n",
       "      <td>2015</td>\n",
       "      <td>10040</td>\n",
       "      <td>1004000</td>\n",
       "    </tr>\n",
       "    <tr>\n",
       "      <th>b</th>\n",
       "      <td>부산</td>\n",
       "      <td>2015</td>\n",
       "      <td>22300</td>\n",
       "      <td>2230000</td>\n",
       "    </tr>\n",
       "    <tr>\n",
       "      <th>c</th>\n",
       "      <td>제주</td>\n",
       "      <td>2011</td>\n",
       "      <td>6000</td>\n",
       "      <td>600000</td>\n",
       "    </tr>\n",
       "    <tr>\n",
       "      <th>d</th>\n",
       "      <td>서울</td>\n",
       "      <td>2020</td>\n",
       "      <td>12400</td>\n",
       "      <td>1240000</td>\n",
       "    </tr>\n",
       "  </tbody>\n",
       "</table>\n",
       "</div>"
      ],
      "text/plain": [
       "   도시    연도  전입신고 수       세금\n",
       "a  서울  2015   10040  1004000\n",
       "b  부산  2015   22300  2230000\n",
       "c  제주  2011    6000   600000\n",
       "d  서울  2020   12400  1240000"
      ]
     },
     "execution_count": 380,
     "metadata": {},
     "output_type": "execute_result"
    }
   ],
   "source": [
    "data"
   ]
  },
  {
   "cell_type": "code",
   "execution_count": 381,
   "id": "ebd248ab-6d69-4d9d-b4df-fa441dd4456d",
   "metadata": {},
   "outputs": [
    {
     "data": {
      "text/html": [
       "<div>\n",
       "<style scoped>\n",
       "    .dataframe tbody tr th:only-of-type {\n",
       "        vertical-align: middle;\n",
       "    }\n",
       "\n",
       "    .dataframe tbody tr th {\n",
       "        vertical-align: top;\n",
       "    }\n",
       "\n",
       "    .dataframe thead th {\n",
       "        text-align: right;\n",
       "    }\n",
       "</style>\n",
       "<table border=\"1\" class=\"dataframe\">\n",
       "  <thead>\n",
       "    <tr style=\"text-align: right;\">\n",
       "      <th></th>\n",
       "      <th>도시</th>\n",
       "      <th>연도</th>\n",
       "      <th>전입신고 수</th>\n",
       "      <th>세금</th>\n",
       "    </tr>\n",
       "  </thead>\n",
       "  <tbody>\n",
       "    <tr>\n",
       "      <th>e</th>\n",
       "      <td>서울</td>\n",
       "      <td>2015</td>\n",
       "      <td>10040</td>\n",
       "      <td>1004000</td>\n",
       "    </tr>\n",
       "    <tr>\n",
       "      <th>f</th>\n",
       "      <td>부산</td>\n",
       "      <td>2015</td>\n",
       "      <td>22300</td>\n",
       "      <td>2230000</td>\n",
       "    </tr>\n",
       "    <tr>\n",
       "      <th>g</th>\n",
       "      <td>제주</td>\n",
       "      <td>2011</td>\n",
       "      <td>6000</td>\n",
       "      <td>600000</td>\n",
       "    </tr>\n",
       "    <tr>\n",
       "      <th>h</th>\n",
       "      <td>서울</td>\n",
       "      <td>20203</td>\n",
       "      <td>12400</td>\n",
       "      <td>1240000</td>\n",
       "    </tr>\n",
       "  </tbody>\n",
       "</table>\n",
       "</div>"
      ],
      "text/plain": [
       "   도시     연도  전입신고 수       세금\n",
       "e  서울   2015   10040  1004000\n",
       "f  부산   2015   22300  2230000\n",
       "g  제주   2011    6000   600000\n",
       "h  서울  20203   12400  1240000"
      ]
     },
     "execution_count": 381,
     "metadata": {},
     "output_type": "execute_result"
    }
   ],
   "source": [
    "data2"
   ]
  },
  {
   "cell_type": "code",
   "execution_count": 385,
   "id": "f52cd694-1066-4fa8-b20b-e8d284a09849",
   "metadata": {},
   "outputs": [
    {
     "data": {
      "text/html": [
       "<div>\n",
       "<style scoped>\n",
       "    .dataframe tbody tr th:only-of-type {\n",
       "        vertical-align: middle;\n",
       "    }\n",
       "\n",
       "    .dataframe tbody tr th {\n",
       "        vertical-align: top;\n",
       "    }\n",
       "\n",
       "    .dataframe thead th {\n",
       "        text-align: right;\n",
       "    }\n",
       "</style>\n",
       "<table border=\"1\" class=\"dataframe\">\n",
       "  <thead>\n",
       "    <tr style=\"text-align: right;\">\n",
       "      <th></th>\n",
       "      <th>도시</th>\n",
       "      <th>연도</th>\n",
       "      <th>전입신고 수</th>\n",
       "      <th>세금</th>\n",
       "      <th>junk</th>\n",
       "    </tr>\n",
       "  </thead>\n",
       "  <tbody>\n",
       "    <tr>\n",
       "      <th>e</th>\n",
       "      <td>서울</td>\n",
       "      <td>2015</td>\n",
       "      <td>10040</td>\n",
       "      <td>1004000</td>\n",
       "      <td>1</td>\n",
       "    </tr>\n",
       "    <tr>\n",
       "      <th>f</th>\n",
       "      <td>부산</td>\n",
       "      <td>2015</td>\n",
       "      <td>22300</td>\n",
       "      <td>2230000</td>\n",
       "      <td>2</td>\n",
       "    </tr>\n",
       "    <tr>\n",
       "      <th>g</th>\n",
       "      <td>제주</td>\n",
       "      <td>2011</td>\n",
       "      <td>6000</td>\n",
       "      <td>600000</td>\n",
       "      <td>3</td>\n",
       "    </tr>\n",
       "    <tr>\n",
       "      <th>h</th>\n",
       "      <td>서울</td>\n",
       "      <td>20203</td>\n",
       "      <td>12400</td>\n",
       "      <td>1240000</td>\n",
       "      <td>4</td>\n",
       "    </tr>\n",
       "  </tbody>\n",
       "</table>\n",
       "</div>"
      ],
      "text/plain": [
       "   도시     연도  전입신고 수       세금  junk\n",
       "e  서울   2015   10040  1004000     1\n",
       "f  부산   2015   22300  2230000     2\n",
       "g  제주   2011    6000   600000     3\n",
       "h  서울  20203   12400  1240000     4"
      ]
     },
     "execution_count": 385,
     "metadata": {},
     "output_type": "execute_result"
    }
   ],
   "source": [
    "data2['junk'] = [1, 2, 3, 4]\n",
    "data2"
   ]
  },
  {
   "cell_type": "code",
   "execution_count": 382,
   "id": "553417f1-a08c-41cb-b1fd-4d2ecf675c46",
   "metadata": {},
   "outputs": [
    {
     "data": {
      "text/html": [
       "<div>\n",
       "<style scoped>\n",
       "    .dataframe tbody tr th:only-of-type {\n",
       "        vertical-align: middle;\n",
       "    }\n",
       "\n",
       "    .dataframe tbody tr th {\n",
       "        vertical-align: top;\n",
       "    }\n",
       "\n",
       "    .dataframe thead th {\n",
       "        text-align: right;\n",
       "    }\n",
       "</style>\n",
       "<table border=\"1\" class=\"dataframe\">\n",
       "  <thead>\n",
       "    <tr style=\"text-align: right;\">\n",
       "      <th></th>\n",
       "      <th>도시</th>\n",
       "      <th>연도</th>\n",
       "      <th>전입신고 수</th>\n",
       "      <th>세금</th>\n",
       "    </tr>\n",
       "  </thead>\n",
       "  <tbody>\n",
       "    <tr>\n",
       "      <th>a</th>\n",
       "      <td>서울</td>\n",
       "      <td>2015</td>\n",
       "      <td>10040</td>\n",
       "      <td>1004000</td>\n",
       "    </tr>\n",
       "    <tr>\n",
       "      <th>b</th>\n",
       "      <td>부산</td>\n",
       "      <td>2015</td>\n",
       "      <td>22300</td>\n",
       "      <td>2230000</td>\n",
       "    </tr>\n",
       "    <tr>\n",
       "      <th>c</th>\n",
       "      <td>제주</td>\n",
       "      <td>2011</td>\n",
       "      <td>6000</td>\n",
       "      <td>600000</td>\n",
       "    </tr>\n",
       "    <tr>\n",
       "      <th>d</th>\n",
       "      <td>서울</td>\n",
       "      <td>2020</td>\n",
       "      <td>12400</td>\n",
       "      <td>1240000</td>\n",
       "    </tr>\n",
       "    <tr>\n",
       "      <th>e</th>\n",
       "      <td>서울</td>\n",
       "      <td>2015</td>\n",
       "      <td>10040</td>\n",
       "      <td>1004000</td>\n",
       "    </tr>\n",
       "    <tr>\n",
       "      <th>f</th>\n",
       "      <td>부산</td>\n",
       "      <td>2015</td>\n",
       "      <td>22300</td>\n",
       "      <td>2230000</td>\n",
       "    </tr>\n",
       "    <tr>\n",
       "      <th>g</th>\n",
       "      <td>제주</td>\n",
       "      <td>2011</td>\n",
       "      <td>6000</td>\n",
       "      <td>600000</td>\n",
       "    </tr>\n",
       "    <tr>\n",
       "      <th>h</th>\n",
       "      <td>서울</td>\n",
       "      <td>20203</td>\n",
       "      <td>12400</td>\n",
       "      <td>1240000</td>\n",
       "    </tr>\n",
       "  </tbody>\n",
       "</table>\n",
       "</div>"
      ],
      "text/plain": [
       "   도시     연도  전입신고 수       세금\n",
       "a  서울   2015   10040  1004000\n",
       "b  부산   2015   22300  2230000\n",
       "c  제주   2011    6000   600000\n",
       "d  서울   2020   12400  1240000\n",
       "e  서울   2015   10040  1004000\n",
       "f  부산   2015   22300  2230000\n",
       "g  제주   2011    6000   600000\n",
       "h  서울  20203   12400  1240000"
      ]
     },
     "execution_count": 382,
     "metadata": {},
     "output_type": "execute_result"
    }
   ],
   "source": [
    "pd.concat([data, data2], join = 'inner')"
   ]
  },
  {
   "cell_type": "code",
   "execution_count": 386,
   "id": "b29fd13b-8db4-4899-8139-de4415bebb30",
   "metadata": {},
   "outputs": [
    {
     "data": {
      "text/html": [
       "<div>\n",
       "<style scoped>\n",
       "    .dataframe tbody tr th:only-of-type {\n",
       "        vertical-align: middle;\n",
       "    }\n",
       "\n",
       "    .dataframe tbody tr th {\n",
       "        vertical-align: top;\n",
       "    }\n",
       "\n",
       "    .dataframe thead th {\n",
       "        text-align: right;\n",
       "    }\n",
       "</style>\n",
       "<table border=\"1\" class=\"dataframe\">\n",
       "  <thead>\n",
       "    <tr style=\"text-align: right;\">\n",
       "      <th></th>\n",
       "      <th>도시</th>\n",
       "      <th>연도</th>\n",
       "      <th>전입신고 수</th>\n",
       "      <th>세금</th>\n",
       "      <th>junk</th>\n",
       "    </tr>\n",
       "  </thead>\n",
       "  <tbody>\n",
       "    <tr>\n",
       "      <th>0</th>\n",
       "      <td>서울</td>\n",
       "      <td>2015</td>\n",
       "      <td>10040</td>\n",
       "      <td>1004000</td>\n",
       "      <td>1.0</td>\n",
       "    </tr>\n",
       "    <tr>\n",
       "      <th>1</th>\n",
       "      <td>부산</td>\n",
       "      <td>2015</td>\n",
       "      <td>22300</td>\n",
       "      <td>2230000</td>\n",
       "      <td>2.0</td>\n",
       "    </tr>\n",
       "    <tr>\n",
       "      <th>2</th>\n",
       "      <td>제주</td>\n",
       "      <td>2011</td>\n",
       "      <td>6000</td>\n",
       "      <td>600000</td>\n",
       "      <td>3.0</td>\n",
       "    </tr>\n",
       "    <tr>\n",
       "      <th>3</th>\n",
       "      <td>서울</td>\n",
       "      <td>2020</td>\n",
       "      <td>12400</td>\n",
       "      <td>1240000</td>\n",
       "      <td>NaN</td>\n",
       "    </tr>\n",
       "  </tbody>\n",
       "</table>\n",
       "</div>"
      ],
      "text/plain": [
       "   도시    연도  전입신고 수       세금  junk\n",
       "0  서울  2015   10040  1004000   1.0\n",
       "1  부산  2015   22300  2230000   2.0\n",
       "2  제주  2011    6000   600000   3.0\n",
       "3  서울  2020   12400  1240000   NaN"
      ]
     },
     "execution_count": 386,
     "metadata": {},
     "output_type": "execute_result"
    }
   ],
   "source": [
    "pd.merge(data, data2, how = 'left', on = ['도시', '연도', '전입신고 수', '세금'])"
   ]
  },
  {
   "cell_type": "code",
   "execution_count": 339,
   "id": "478cf403-11e1-4207-a9ba-5fb4187ac18d",
   "metadata": {},
   "outputs": [],
   "source": [
    "df1 = pd.DataFrame([['A0', 'A1', 'A2', 'A3'],\n",
    "                     ['B0', 'B1', 'B2', 'B3'],\n",
    "                     ['C0', 'C1', 'C2', 'C3'],\n",
    "                     ['D0', 'D1', 'D2', 'D3']],\n",
    "                    columns=list('ABCD'))\n",
    " \n",
    "df2 = pd.DataFrame([['A4', 'A5', 'A6', 'A7'],\n",
    "                     ['B4', 'B5', 'B6', 'B7'],\n",
    "                     ['C4', 'C5', 'C6', 'C7'],\n",
    "                     ['D4', 'D5', 'D6', 'D7']],\n",
    "                   columns=['A', 'B', 'C', 'D'],\n",
    "                   index=[4, 5, 6, 7])\n",
    "\n",
    "df3 = pd.DataFrame([['A8', 'A9', 'A10', 'A11'],\n",
    "                     ['B8', 'B9', 'B10', 'B11'],\n",
    "                     ['C8', 'C9', 'C10', 'C11'],\n",
    "                     ['D8', 'D9', 'D10', 'D11']],\n",
    "                    columns=list('ABCD'),\n",
    "                    index=[8, 9, 10, 11])\n",
    "\n",
    "df4 = pd.DataFrame({'B': ['B2', 'B3', 'B6', 'B7'],\n",
    "                    'D': ['D2', 'D3', 'D6', 'D7'],\n",
    "                    'F': ['F2', 'F3', 'F6', 'F7']}, index=[2, 3, 6, 7])"
   ]
  },
  {
   "cell_type": "code",
   "execution_count": 341,
   "id": "d9c76a9f-b5bf-4d10-bb5f-caa2ae47f287",
   "metadata": {},
   "outputs": [
    {
     "data": {
      "text/html": [
       "<div>\n",
       "<style scoped>\n",
       "    .dataframe tbody tr th:only-of-type {\n",
       "        vertical-align: middle;\n",
       "    }\n",
       "\n",
       "    .dataframe tbody tr th {\n",
       "        vertical-align: top;\n",
       "    }\n",
       "\n",
       "    .dataframe thead th {\n",
       "        text-align: right;\n",
       "    }\n",
       "</style>\n",
       "<table border=\"1\" class=\"dataframe\">\n",
       "  <thead>\n",
       "    <tr style=\"text-align: right;\">\n",
       "      <th></th>\n",
       "      <th>A</th>\n",
       "      <th>B</th>\n",
       "      <th>C</th>\n",
       "      <th>D</th>\n",
       "    </tr>\n",
       "  </thead>\n",
       "  <tbody>\n",
       "    <tr>\n",
       "      <th>0</th>\n",
       "      <td>A0</td>\n",
       "      <td>A1</td>\n",
       "      <td>A2</td>\n",
       "      <td>A3</td>\n",
       "    </tr>\n",
       "    <tr>\n",
       "      <th>1</th>\n",
       "      <td>B0</td>\n",
       "      <td>B1</td>\n",
       "      <td>B2</td>\n",
       "      <td>B3</td>\n",
       "    </tr>\n",
       "    <tr>\n",
       "      <th>2</th>\n",
       "      <td>C0</td>\n",
       "      <td>C1</td>\n",
       "      <td>C2</td>\n",
       "      <td>C3</td>\n",
       "    </tr>\n",
       "    <tr>\n",
       "      <th>3</th>\n",
       "      <td>D0</td>\n",
       "      <td>D1</td>\n",
       "      <td>D2</td>\n",
       "      <td>D3</td>\n",
       "    </tr>\n",
       "  </tbody>\n",
       "</table>\n",
       "</div>"
      ],
      "text/plain": [
       "    A   B   C   D\n",
       "0  A0  A1  A2  A3\n",
       "1  B0  B1  B2  B3\n",
       "2  C0  C1  C2  C3\n",
       "3  D0  D1  D2  D3"
      ]
     },
     "execution_count": 341,
     "metadata": {},
     "output_type": "execute_result"
    }
   ],
   "source": [
    "df1"
   ]
  },
  {
   "cell_type": "code",
   "execution_count": 342,
   "id": "11bfb4bf-baf8-46c6-b3cf-1e584c7ab4e3",
   "metadata": {},
   "outputs": [
    {
     "data": {
      "text/html": [
       "<div>\n",
       "<style scoped>\n",
       "    .dataframe tbody tr th:only-of-type {\n",
       "        vertical-align: middle;\n",
       "    }\n",
       "\n",
       "    .dataframe tbody tr th {\n",
       "        vertical-align: top;\n",
       "    }\n",
       "\n",
       "    .dataframe thead th {\n",
       "        text-align: right;\n",
       "    }\n",
       "</style>\n",
       "<table border=\"1\" class=\"dataframe\">\n",
       "  <thead>\n",
       "    <tr style=\"text-align: right;\">\n",
       "      <th></th>\n",
       "      <th>B</th>\n",
       "      <th>D</th>\n",
       "      <th>F</th>\n",
       "    </tr>\n",
       "  </thead>\n",
       "  <tbody>\n",
       "    <tr>\n",
       "      <th>2</th>\n",
       "      <td>B2</td>\n",
       "      <td>D2</td>\n",
       "      <td>F2</td>\n",
       "    </tr>\n",
       "    <tr>\n",
       "      <th>3</th>\n",
       "      <td>B3</td>\n",
       "      <td>D3</td>\n",
       "      <td>F3</td>\n",
       "    </tr>\n",
       "    <tr>\n",
       "      <th>6</th>\n",
       "      <td>B6</td>\n",
       "      <td>D6</td>\n",
       "      <td>F6</td>\n",
       "    </tr>\n",
       "    <tr>\n",
       "      <th>7</th>\n",
       "      <td>B7</td>\n",
       "      <td>D7</td>\n",
       "      <td>F7</td>\n",
       "    </tr>\n",
       "  </tbody>\n",
       "</table>\n",
       "</div>"
      ],
      "text/plain": [
       "    B   D   F\n",
       "2  B2  D2  F2\n",
       "3  B3  D3  F3\n",
       "6  B6  D6  F6\n",
       "7  B7  D7  F7"
      ]
     },
     "execution_count": 342,
     "metadata": {},
     "output_type": "execute_result"
    }
   ],
   "source": [
    "df4"
   ]
  },
  {
   "cell_type": "code",
   "execution_count": 348,
   "id": "828834e2-c1d1-499c-a901-28ea98f8d8fe",
   "metadata": {},
   "outputs": [
    {
     "data": {
      "text/html": [
       "<div>\n",
       "<style scoped>\n",
       "    .dataframe tbody tr th:only-of-type {\n",
       "        vertical-align: middle;\n",
       "    }\n",
       "\n",
       "    .dataframe tbody tr th {\n",
       "        vertical-align: top;\n",
       "    }\n",
       "\n",
       "    .dataframe thead th {\n",
       "        text-align: right;\n",
       "    }\n",
       "</style>\n",
       "<table border=\"1\" class=\"dataframe\">\n",
       "  <thead>\n",
       "    <tr style=\"text-align: right;\">\n",
       "      <th></th>\n",
       "      <th>A</th>\n",
       "      <th>B</th>\n",
       "      <th>C</th>\n",
       "      <th>D</th>\n",
       "      <th>F</th>\n",
       "    </tr>\n",
       "  </thead>\n",
       "  <tbody>\n",
       "    <tr>\n",
       "      <th>0</th>\n",
       "      <td>A0</td>\n",
       "      <td>A1</td>\n",
       "      <td>A2</td>\n",
       "      <td>A3</td>\n",
       "      <td>NaN</td>\n",
       "    </tr>\n",
       "    <tr>\n",
       "      <th>1</th>\n",
       "      <td>B0</td>\n",
       "      <td>B1</td>\n",
       "      <td>B2</td>\n",
       "      <td>B3</td>\n",
       "      <td>NaN</td>\n",
       "    </tr>\n",
       "    <tr>\n",
       "      <th>2</th>\n",
       "      <td>C0</td>\n",
       "      <td>C1</td>\n",
       "      <td>C2</td>\n",
       "      <td>C3</td>\n",
       "      <td>NaN</td>\n",
       "    </tr>\n",
       "    <tr>\n",
       "      <th>3</th>\n",
       "      <td>D0</td>\n",
       "      <td>D1</td>\n",
       "      <td>D2</td>\n",
       "      <td>D3</td>\n",
       "      <td>NaN</td>\n",
       "    </tr>\n",
       "    <tr>\n",
       "      <th>2</th>\n",
       "      <td>NaN</td>\n",
       "      <td>B2</td>\n",
       "      <td>NaN</td>\n",
       "      <td>D2</td>\n",
       "      <td>F2</td>\n",
       "    </tr>\n",
       "    <tr>\n",
       "      <th>3</th>\n",
       "      <td>NaN</td>\n",
       "      <td>B3</td>\n",
       "      <td>NaN</td>\n",
       "      <td>D3</td>\n",
       "      <td>F3</td>\n",
       "    </tr>\n",
       "    <tr>\n",
       "      <th>6</th>\n",
       "      <td>NaN</td>\n",
       "      <td>B6</td>\n",
       "      <td>NaN</td>\n",
       "      <td>D6</td>\n",
       "      <td>F6</td>\n",
       "    </tr>\n",
       "    <tr>\n",
       "      <th>7</th>\n",
       "      <td>NaN</td>\n",
       "      <td>B7</td>\n",
       "      <td>NaN</td>\n",
       "      <td>D7</td>\n",
       "      <td>F7</td>\n",
       "    </tr>\n",
       "  </tbody>\n",
       "</table>\n",
       "</div>"
      ],
      "text/plain": [
       "     A   B    C   D    F\n",
       "0   A0  A1   A2  A3  NaN\n",
       "1   B0  B1   B2  B3  NaN\n",
       "2   C0  C1   C2  C3  NaN\n",
       "3   D0  D1   D2  D3  NaN\n",
       "2  NaN  B2  NaN  D2   F2\n",
       "3  NaN  B3  NaN  D3   F3\n",
       "6  NaN  B6  NaN  D6   F6\n",
       "7  NaN  B7  NaN  D7   F7"
      ]
     },
     "execution_count": 348,
     "metadata": {},
     "output_type": "execute_result"
    }
   ],
   "source": [
    "pd.concat([df1, df4])"
   ]
  },
  {
   "cell_type": "code",
   "execution_count": 375,
   "id": "b8a9629f-0399-4998-b1bb-bdba5ed68b08",
   "metadata": {
    "scrolled": true
   },
   "outputs": [
    {
     "data": {
      "text/html": [
       "<div>\n",
       "<style scoped>\n",
       "    .dataframe tbody tr th:only-of-type {\n",
       "        vertical-align: middle;\n",
       "    }\n",
       "\n",
       "    .dataframe tbody tr th {\n",
       "        vertical-align: top;\n",
       "    }\n",
       "\n",
       "    .dataframe thead th {\n",
       "        text-align: right;\n",
       "    }\n",
       "</style>\n",
       "<table border=\"1\" class=\"dataframe\">\n",
       "  <thead>\n",
       "    <tr style=\"text-align: right;\">\n",
       "      <th></th>\n",
       "      <th>A</th>\n",
       "      <th>B</th>\n",
       "      <th>C</th>\n",
       "      <th>D</th>\n",
       "      <th>B</th>\n",
       "      <th>D</th>\n",
       "      <th>F</th>\n",
       "    </tr>\n",
       "  </thead>\n",
       "  <tbody>\n",
       "    <tr>\n",
       "      <th>0</th>\n",
       "      <td>A0</td>\n",
       "      <td>A1</td>\n",
       "      <td>A2</td>\n",
       "      <td>A3</td>\n",
       "      <td>NaN</td>\n",
       "      <td>NaN</td>\n",
       "      <td>NaN</td>\n",
       "    </tr>\n",
       "    <tr>\n",
       "      <th>1</th>\n",
       "      <td>B0</td>\n",
       "      <td>B1</td>\n",
       "      <td>B2</td>\n",
       "      <td>B3</td>\n",
       "      <td>NaN</td>\n",
       "      <td>NaN</td>\n",
       "      <td>NaN</td>\n",
       "    </tr>\n",
       "    <tr>\n",
       "      <th>2</th>\n",
       "      <td>C0</td>\n",
       "      <td>C1</td>\n",
       "      <td>C2</td>\n",
       "      <td>C3</td>\n",
       "      <td>B2</td>\n",
       "      <td>D2</td>\n",
       "      <td>F2</td>\n",
       "    </tr>\n",
       "    <tr>\n",
       "      <th>3</th>\n",
       "      <td>D0</td>\n",
       "      <td>D1</td>\n",
       "      <td>D2</td>\n",
       "      <td>D3</td>\n",
       "      <td>B3</td>\n",
       "      <td>D3</td>\n",
       "      <td>F3</td>\n",
       "    </tr>\n",
       "    <tr>\n",
       "      <th>6</th>\n",
       "      <td>NaN</td>\n",
       "      <td>NaN</td>\n",
       "      <td>NaN</td>\n",
       "      <td>NaN</td>\n",
       "      <td>B6</td>\n",
       "      <td>D6</td>\n",
       "      <td>F6</td>\n",
       "    </tr>\n",
       "    <tr>\n",
       "      <th>7</th>\n",
       "      <td>NaN</td>\n",
       "      <td>NaN</td>\n",
       "      <td>NaN</td>\n",
       "      <td>NaN</td>\n",
       "      <td>B7</td>\n",
       "      <td>D7</td>\n",
       "      <td>F7</td>\n",
       "    </tr>\n",
       "  </tbody>\n",
       "</table>\n",
       "</div>"
      ],
      "text/plain": [
       "     A    B    C    D    B    D    F\n",
       "0   A0   A1   A2   A3  NaN  NaN  NaN\n",
       "1   B0   B1   B2   B3  NaN  NaN  NaN\n",
       "2   C0   C1   C2   C3   B2   D2   F2\n",
       "3   D0   D1   D2   D3   B3   D3   F3\n",
       "6  NaN  NaN  NaN  NaN   B6   D6   F6\n",
       "7  NaN  NaN  NaN  NaN   B7   D7   F7"
      ]
     },
     "execution_count": 375,
     "metadata": {},
     "output_type": "execute_result"
    }
   ],
   "source": [
    "pd.concat([df1, df4], axis = 1)"
   ]
  },
  {
   "cell_type": "code",
   "execution_count": 340,
   "id": "9d0b9af8-9032-409e-a883-c107c6805ffd",
   "metadata": {},
   "outputs": [
    {
     "data": {
      "text/html": [
       "<div>\n",
       "<style scoped>\n",
       "    .dataframe tbody tr th:only-of-type {\n",
       "        vertical-align: middle;\n",
       "    }\n",
       "\n",
       "    .dataframe tbody tr th {\n",
       "        vertical-align: top;\n",
       "    }\n",
       "\n",
       "    .dataframe thead th {\n",
       "        text-align: right;\n",
       "    }\n",
       "</style>\n",
       "<table border=\"1\" class=\"dataframe\">\n",
       "  <thead>\n",
       "    <tr style=\"text-align: right;\">\n",
       "      <th></th>\n",
       "      <th>B</th>\n",
       "      <th>D</th>\n",
       "    </tr>\n",
       "  </thead>\n",
       "  <tbody>\n",
       "    <tr>\n",
       "      <th>0</th>\n",
       "      <td>A1</td>\n",
       "      <td>A3</td>\n",
       "    </tr>\n",
       "    <tr>\n",
       "      <th>1</th>\n",
       "      <td>B1</td>\n",
       "      <td>B3</td>\n",
       "    </tr>\n",
       "    <tr>\n",
       "      <th>2</th>\n",
       "      <td>C1</td>\n",
       "      <td>C3</td>\n",
       "    </tr>\n",
       "    <tr>\n",
       "      <th>3</th>\n",
       "      <td>D1</td>\n",
       "      <td>D3</td>\n",
       "    </tr>\n",
       "    <tr>\n",
       "      <th>2</th>\n",
       "      <td>B2</td>\n",
       "      <td>D2</td>\n",
       "    </tr>\n",
       "    <tr>\n",
       "      <th>3</th>\n",
       "      <td>B3</td>\n",
       "      <td>D3</td>\n",
       "    </tr>\n",
       "    <tr>\n",
       "      <th>6</th>\n",
       "      <td>B6</td>\n",
       "      <td>D6</td>\n",
       "    </tr>\n",
       "    <tr>\n",
       "      <th>7</th>\n",
       "      <td>B7</td>\n",
       "      <td>D7</td>\n",
       "    </tr>\n",
       "  </tbody>\n",
       "</table>\n",
       "</div>"
      ],
      "text/plain": [
       "    B   D\n",
       "0  A1  A3\n",
       "1  B1  B3\n",
       "2  C1  C3\n",
       "3  D1  D3\n",
       "2  B2  D2\n",
       "3  B3  D3\n",
       "6  B6  D6\n",
       "7  B7  D7"
      ]
     },
     "execution_count": 340,
     "metadata": {},
     "output_type": "execute_result"
    }
   ],
   "source": [
    "# axis 0 에서 column name이 같은 column에 대한 concat 결과 출력\n",
    "pd.concat([df1, df4], join = 'inner') # Based on same column names"
   ]
  },
  {
   "cell_type": "code",
   "execution_count": 343,
   "id": "f96ad296-cfba-4b9a-b2c3-0626da532aa3",
   "metadata": {},
   "outputs": [
    {
     "data": {
      "text/html": [
       "<div>\n",
       "<style scoped>\n",
       "    .dataframe tbody tr th:only-of-type {\n",
       "        vertical-align: middle;\n",
       "    }\n",
       "\n",
       "    .dataframe tbody tr th {\n",
       "        vertical-align: top;\n",
       "    }\n",
       "\n",
       "    .dataframe thead th {\n",
       "        text-align: right;\n",
       "    }\n",
       "</style>\n",
       "<table border=\"1\" class=\"dataframe\">\n",
       "  <thead>\n",
       "    <tr style=\"text-align: right;\">\n",
       "      <th></th>\n",
       "      <th>A</th>\n",
       "      <th>B</th>\n",
       "      <th>C</th>\n",
       "      <th>D</th>\n",
       "      <th>B</th>\n",
       "      <th>D</th>\n",
       "      <th>F</th>\n",
       "    </tr>\n",
       "  </thead>\n",
       "  <tbody>\n",
       "    <tr>\n",
       "      <th>2</th>\n",
       "      <td>C0</td>\n",
       "      <td>C1</td>\n",
       "      <td>C2</td>\n",
       "      <td>C3</td>\n",
       "      <td>B2</td>\n",
       "      <td>D2</td>\n",
       "      <td>F2</td>\n",
       "    </tr>\n",
       "    <tr>\n",
       "      <th>3</th>\n",
       "      <td>D0</td>\n",
       "      <td>D1</td>\n",
       "      <td>D2</td>\n",
       "      <td>D3</td>\n",
       "      <td>B3</td>\n",
       "      <td>D3</td>\n",
       "      <td>F3</td>\n",
       "    </tr>\n",
       "  </tbody>\n",
       "</table>\n",
       "</div>"
      ],
      "text/plain": [
       "    A   B   C   D   B   D   F\n",
       "2  C0  C1  C2  C3  B2  D2  F2\n",
       "3  D0  D1  D2  D3  B3  D3  F3"
      ]
     },
     "execution_count": 343,
     "metadata": {},
     "output_type": "execute_result"
    }
   ],
   "source": [
    "pd.concat([df1, df4], axis = 1, join = 'inner') # Index label"
   ]
  },
  {
   "cell_type": "code",
   "execution_count": 344,
   "id": "0aafdead-5512-4857-adf5-2269eec54d86",
   "metadata": {},
   "outputs": [
    {
     "data": {
      "text/html": [
       "<div>\n",
       "<style scoped>\n",
       "    .dataframe tbody tr th:only-of-type {\n",
       "        vertical-align: middle;\n",
       "    }\n",
       "\n",
       "    .dataframe tbody tr th {\n",
       "        vertical-align: top;\n",
       "    }\n",
       "\n",
       "    .dataframe thead th {\n",
       "        text-align: right;\n",
       "    }\n",
       "</style>\n",
       "<table border=\"1\" class=\"dataframe\">\n",
       "  <thead>\n",
       "    <tr style=\"text-align: right;\">\n",
       "      <th></th>\n",
       "      <th>A</th>\n",
       "      <th>B</th>\n",
       "      <th>C</th>\n",
       "      <th>D</th>\n",
       "      <th>B</th>\n",
       "      <th>D</th>\n",
       "      <th>F</th>\n",
       "    </tr>\n",
       "  </thead>\n",
       "  <tbody>\n",
       "    <tr>\n",
       "      <th>0</th>\n",
       "      <td>A0</td>\n",
       "      <td>A1</td>\n",
       "      <td>A2</td>\n",
       "      <td>A3</td>\n",
       "      <td>NaN</td>\n",
       "      <td>NaN</td>\n",
       "      <td>NaN</td>\n",
       "    </tr>\n",
       "    <tr>\n",
       "      <th>1</th>\n",
       "      <td>B0</td>\n",
       "      <td>B1</td>\n",
       "      <td>B2</td>\n",
       "      <td>B3</td>\n",
       "      <td>NaN</td>\n",
       "      <td>NaN</td>\n",
       "      <td>NaN</td>\n",
       "    </tr>\n",
       "    <tr>\n",
       "      <th>2</th>\n",
       "      <td>C0</td>\n",
       "      <td>C1</td>\n",
       "      <td>C2</td>\n",
       "      <td>C3</td>\n",
       "      <td>B2</td>\n",
       "      <td>D2</td>\n",
       "      <td>F2</td>\n",
       "    </tr>\n",
       "    <tr>\n",
       "      <th>3</th>\n",
       "      <td>D0</td>\n",
       "      <td>D1</td>\n",
       "      <td>D2</td>\n",
       "      <td>D3</td>\n",
       "      <td>B3</td>\n",
       "      <td>D3</td>\n",
       "      <td>F3</td>\n",
       "    </tr>\n",
       "  </tbody>\n",
       "</table>\n",
       "</div>"
      ],
      "text/plain": [
       "    A   B   C   D    B    D    F\n",
       "0  A0  A1  A2  A3  NaN  NaN  NaN\n",
       "1  B0  B1  B2  B3  NaN  NaN  NaN\n",
       "2  C0  C1  C2  C3   B2   D2   F2\n",
       "3  D0  D1  D2  D3   B3   D3   F3"
      ]
     },
     "execution_count": 344,
     "metadata": {},
     "output_type": "execute_result"
    }
   ],
   "source": [
    "pd.concat([df1, df4], axis = 1).reindex(df1.index) # left join"
   ]
  },
  {
   "cell_type": "code",
   "execution_count": 403,
   "id": "b10a7585-9ebd-4948-9f12-adc098fb9a5c",
   "metadata": {},
   "outputs": [],
   "source": [
    "left = pd.DataFrame({'key': ['K0', 'K4', 'K2', 'K3'],\n",
    "                     'A': ['A0', 'A4', 'A2', 'A3'],\n",
    "                     'B': ['B0', 'B4', 'B2', 'B3']})\n",
    "\n",
    "right = pd.DataFrame({'key': ['K0', 'K1', 'K2', 'K3'],\n",
    "                      'C': ['C0', 'C1', 'C2', 'C3'],\n",
    "                      'D': ['D0', 'D1', 'D2', 'D3']})"
   ]
  },
  {
   "cell_type": "code",
   "execution_count": 399,
   "id": "af7aedd6-1c25-4f45-912c-878c213f511d",
   "metadata": {},
   "outputs": [
    {
     "data": {
      "text/html": [
       "<div>\n",
       "<style scoped>\n",
       "    .dataframe tbody tr th:only-of-type {\n",
       "        vertical-align: middle;\n",
       "    }\n",
       "\n",
       "    .dataframe tbody tr th {\n",
       "        vertical-align: top;\n",
       "    }\n",
       "\n",
       "    .dataframe thead th {\n",
       "        text-align: right;\n",
       "    }\n",
       "</style>\n",
       "<table border=\"1\" class=\"dataframe\">\n",
       "  <thead>\n",
       "    <tr style=\"text-align: right;\">\n",
       "      <th></th>\n",
       "      <th>key</th>\n",
       "      <th>A</th>\n",
       "      <th>B</th>\n",
       "      <th>C</th>\n",
       "      <th>D</th>\n",
       "    </tr>\n",
       "  </thead>\n",
       "  <tbody>\n",
       "    <tr>\n",
       "      <th>0</th>\n",
       "      <td>K0</td>\n",
       "      <td>A0</td>\n",
       "      <td>B0</td>\n",
       "      <td>C0</td>\n",
       "      <td>D0</td>\n",
       "    </tr>\n",
       "    <tr>\n",
       "      <th>1</th>\n",
       "      <td>K2</td>\n",
       "      <td>A2</td>\n",
       "      <td>B2</td>\n",
       "      <td>C2</td>\n",
       "      <td>D2</td>\n",
       "    </tr>\n",
       "    <tr>\n",
       "      <th>2</th>\n",
       "      <td>K3</td>\n",
       "      <td>A3</td>\n",
       "      <td>B3</td>\n",
       "      <td>C3</td>\n",
       "      <td>D3</td>\n",
       "    </tr>\n",
       "  </tbody>\n",
       "</table>\n",
       "</div>"
      ],
      "text/plain": [
       "  key   A   B   C   D\n",
       "0  K0  A0  B0  C0  D0\n",
       "1  K2  A2  B2  C2  D2\n",
       "2  K3  A3  B3  C3  D3"
      ]
     },
     "execution_count": 399,
     "metadata": {},
     "output_type": "execute_result"
    }
   ],
   "source": [
    "pd.merge(left, right)"
   ]
  },
  {
   "cell_type": "code",
   "execution_count": 409,
   "id": "1d2f173a-547a-471c-9179-b3d16593d794",
   "metadata": {},
   "outputs": [
    {
     "data": {
      "text/html": [
       "<div>\n",
       "<style scoped>\n",
       "    .dataframe tbody tr th:only-of-type {\n",
       "        vertical-align: middle;\n",
       "    }\n",
       "\n",
       "    .dataframe tbody tr th {\n",
       "        vertical-align: top;\n",
       "    }\n",
       "\n",
       "    .dataframe thead th {\n",
       "        text-align: right;\n",
       "    }\n",
       "</style>\n",
       "<table border=\"1\" class=\"dataframe\">\n",
       "  <thead>\n",
       "    <tr style=\"text-align: right;\">\n",
       "      <th></th>\n",
       "      <th>key</th>\n",
       "      <th>A</th>\n",
       "      <th>B</th>\n",
       "      <th>key</th>\n",
       "      <th>C</th>\n",
       "      <th>D</th>\n",
       "    </tr>\n",
       "  </thead>\n",
       "  <tbody>\n",
       "    <tr>\n",
       "      <th>0</th>\n",
       "      <td>K0</td>\n",
       "      <td>A0</td>\n",
       "      <td>B0</td>\n",
       "      <td>K0</td>\n",
       "      <td>C0</td>\n",
       "      <td>D0</td>\n",
       "    </tr>\n",
       "    <tr>\n",
       "      <th>1</th>\n",
       "      <td>K4</td>\n",
       "      <td>A4</td>\n",
       "      <td>B4</td>\n",
       "      <td>K1</td>\n",
       "      <td>C1</td>\n",
       "      <td>D1</td>\n",
       "    </tr>\n",
       "    <tr>\n",
       "      <th>2</th>\n",
       "      <td>K2</td>\n",
       "      <td>A2</td>\n",
       "      <td>B2</td>\n",
       "      <td>K2</td>\n",
       "      <td>C2</td>\n",
       "      <td>D2</td>\n",
       "    </tr>\n",
       "    <tr>\n",
       "      <th>3</th>\n",
       "      <td>K3</td>\n",
       "      <td>A3</td>\n",
       "      <td>B3</td>\n",
       "      <td>K3</td>\n",
       "      <td>C3</td>\n",
       "      <td>D3</td>\n",
       "    </tr>\n",
       "  </tbody>\n",
       "</table>\n",
       "</div>"
      ],
      "text/plain": [
       "  key   A   B key   C   D\n",
       "0  K0  A0  B0  K0  C0  D0\n",
       "1  K4  A4  B4  K1  C1  D1\n",
       "2  K2  A2  B2  K2  C2  D2\n",
       "3  K3  A3  B3  K3  C3  D3"
      ]
     },
     "execution_count": 409,
     "metadata": {},
     "output_type": "execute_result"
    }
   ],
   "source": [
    "pd.concat([left, right], axis = 1, join = 'inner')"
   ]
  },
  {
   "cell_type": "code",
   "execution_count": 395,
   "id": "a1267bed-6781-4201-bdc6-ab6dd0a745a5",
   "metadata": {},
   "outputs": [
    {
     "data": {
      "text/html": [
       "<div>\n",
       "<style scoped>\n",
       "    .dataframe tbody tr th:only-of-type {\n",
       "        vertical-align: middle;\n",
       "    }\n",
       "\n",
       "    .dataframe tbody tr th {\n",
       "        vertical-align: top;\n",
       "    }\n",
       "\n",
       "    .dataframe thead th {\n",
       "        text-align: right;\n",
       "    }\n",
       "</style>\n",
       "<table border=\"1\" class=\"dataframe\">\n",
       "  <thead>\n",
       "    <tr style=\"text-align: right;\">\n",
       "      <th></th>\n",
       "      <th>key</th>\n",
       "      <th>A</th>\n",
       "      <th>B</th>\n",
       "      <th>C</th>\n",
       "      <th>D</th>\n",
       "    </tr>\n",
       "  </thead>\n",
       "  <tbody>\n",
       "    <tr>\n",
       "      <th>0</th>\n",
       "      <td>K0</td>\n",
       "      <td>A0</td>\n",
       "      <td>B0</td>\n",
       "      <td>C0</td>\n",
       "      <td>D0</td>\n",
       "    </tr>\n",
       "    <tr>\n",
       "      <th>1</th>\n",
       "      <td>K4</td>\n",
       "      <td>A4</td>\n",
       "      <td>B4</td>\n",
       "      <td>NaN</td>\n",
       "      <td>NaN</td>\n",
       "    </tr>\n",
       "    <tr>\n",
       "      <th>2</th>\n",
       "      <td>K2</td>\n",
       "      <td>A2</td>\n",
       "      <td>B2</td>\n",
       "      <td>C2</td>\n",
       "      <td>D2</td>\n",
       "    </tr>\n",
       "    <tr>\n",
       "      <th>3</th>\n",
       "      <td>K3</td>\n",
       "      <td>A3</td>\n",
       "      <td>B3</td>\n",
       "      <td>C3</td>\n",
       "      <td>D3</td>\n",
       "    </tr>\n",
       "    <tr>\n",
       "      <th>4</th>\n",
       "      <td>K1</td>\n",
       "      <td>NaN</td>\n",
       "      <td>NaN</td>\n",
       "      <td>C1</td>\n",
       "      <td>D1</td>\n",
       "    </tr>\n",
       "  </tbody>\n",
       "</table>\n",
       "</div>"
      ],
      "text/plain": [
       "  key    A    B    C    D\n",
       "0  K0   A0   B0   C0   D0\n",
       "1  K4   A4   B4  NaN  NaN\n",
       "2  K2   A2   B2   C2   D2\n",
       "3  K3   A3   B3   C3   D3\n",
       "4  K1  NaN  NaN   C1   D1"
      ]
     },
     "execution_count": 395,
     "metadata": {},
     "output_type": "execute_result"
    }
   ],
   "source": [
    "pd.merge(left, right, how = 'outer')"
   ]
  },
  {
   "cell_type": "code",
   "execution_count": 402,
   "id": "96965f5f-7295-4f45-97bd-7ff2e5785e08",
   "metadata": {},
   "outputs": [],
   "source": [
    "right.columns = ['key', 'A', 'D']"
   ]
  },
  {
   "cell_type": "code",
   "execution_count": 401,
   "id": "07bccdb9-01ec-4af9-91e5-734ee848e165",
   "metadata": {},
   "outputs": [
    {
     "data": {
      "text/html": [
       "<div>\n",
       "<style scoped>\n",
       "    .dataframe tbody tr th:only-of-type {\n",
       "        vertical-align: middle;\n",
       "    }\n",
       "\n",
       "    .dataframe tbody tr th {\n",
       "        vertical-align: top;\n",
       "    }\n",
       "\n",
       "    .dataframe thead th {\n",
       "        text-align: right;\n",
       "    }\n",
       "</style>\n",
       "<table border=\"1\" class=\"dataframe\">\n",
       "  <thead>\n",
       "    <tr style=\"text-align: right;\">\n",
       "      <th></th>\n",
       "      <th>key</th>\n",
       "      <th>A_x</th>\n",
       "      <th>B</th>\n",
       "      <th>A_y</th>\n",
       "      <th>D</th>\n",
       "    </tr>\n",
       "  </thead>\n",
       "  <tbody>\n",
       "    <tr>\n",
       "      <th>0</th>\n",
       "      <td>K0</td>\n",
       "      <td>A0</td>\n",
       "      <td>B0</td>\n",
       "      <td>C0</td>\n",
       "      <td>D0</td>\n",
       "    </tr>\n",
       "    <tr>\n",
       "      <th>1</th>\n",
       "      <td>K2</td>\n",
       "      <td>A2</td>\n",
       "      <td>B2</td>\n",
       "      <td>C2</td>\n",
       "      <td>D2</td>\n",
       "    </tr>\n",
       "    <tr>\n",
       "      <th>2</th>\n",
       "      <td>K3</td>\n",
       "      <td>A3</td>\n",
       "      <td>B3</td>\n",
       "      <td>C3</td>\n",
       "      <td>D3</td>\n",
       "    </tr>\n",
       "  </tbody>\n",
       "</table>\n",
       "</div>"
      ],
      "text/plain": [
       "  key A_x   B A_y   D\n",
       "0  K0  A0  B0  C0  D0\n",
       "1  K2  A2  B2  C2  D2\n",
       "2  K3  A3  B3  C3  D3"
      ]
     },
     "execution_count": 401,
     "metadata": {},
     "output_type": "execute_result"
    }
   ],
   "source": [
    "pd.merge(left, right, on = 'key')"
   ]
  },
  {
   "cell_type": "code",
   "execution_count": 404,
   "id": "bc61f35b-d190-4c1a-bc69-de5caa816581",
   "metadata": {},
   "outputs": [
    {
     "data": {
      "text/html": [
       "<div>\n",
       "<style scoped>\n",
       "    .dataframe tbody tr th:only-of-type {\n",
       "        vertical-align: middle;\n",
       "    }\n",
       "\n",
       "    .dataframe tbody tr th {\n",
       "        vertical-align: top;\n",
       "    }\n",
       "\n",
       "    .dataframe thead th {\n",
       "        text-align: right;\n",
       "    }\n",
       "</style>\n",
       "<table border=\"1\" class=\"dataframe\">\n",
       "  <thead>\n",
       "    <tr style=\"text-align: right;\">\n",
       "      <th></th>\n",
       "      <th>key</th>\n",
       "      <th>A</th>\n",
       "      <th>B</th>\n",
       "      <th>C</th>\n",
       "      <th>D</th>\n",
       "    </tr>\n",
       "  </thead>\n",
       "  <tbody>\n",
       "    <tr>\n",
       "      <th>0</th>\n",
       "      <td>K0</td>\n",
       "      <td>A0</td>\n",
       "      <td>B0</td>\n",
       "      <td>C0</td>\n",
       "      <td>D0</td>\n",
       "    </tr>\n",
       "    <tr>\n",
       "      <th>1</th>\n",
       "      <td>K4</td>\n",
       "      <td>A4</td>\n",
       "      <td>B4</td>\n",
       "      <td>NaN</td>\n",
       "      <td>NaN</td>\n",
       "    </tr>\n",
       "    <tr>\n",
       "      <th>2</th>\n",
       "      <td>K2</td>\n",
       "      <td>A2</td>\n",
       "      <td>B2</td>\n",
       "      <td>C2</td>\n",
       "      <td>D2</td>\n",
       "    </tr>\n",
       "    <tr>\n",
       "      <th>3</th>\n",
       "      <td>K3</td>\n",
       "      <td>A3</td>\n",
       "      <td>B3</td>\n",
       "      <td>C3</td>\n",
       "      <td>D3</td>\n",
       "    </tr>\n",
       "  </tbody>\n",
       "</table>\n",
       "</div>"
      ],
      "text/plain": [
       "  key   A   B    C    D\n",
       "0  K0  A0  B0   C0   D0\n",
       "1  K4  A4  B4  NaN  NaN\n",
       "2  K2  A2  B2   C2   D2\n",
       "3  K3  A3  B3   C3   D3"
      ]
     },
     "execution_count": 404,
     "metadata": {},
     "output_type": "execute_result"
    }
   ],
   "source": [
    "pd.merge(left, right, on = 'key', how = 'left')"
   ]
  },
  {
   "cell_type": "code",
   "execution_count": 405,
   "id": "e91e2ebc-8a14-4b40-935a-9cf6fd80254f",
   "metadata": {},
   "outputs": [
    {
     "data": {
      "text/html": [
       "<div>\n",
       "<style scoped>\n",
       "    .dataframe tbody tr th:only-of-type {\n",
       "        vertical-align: middle;\n",
       "    }\n",
       "\n",
       "    .dataframe tbody tr th {\n",
       "        vertical-align: top;\n",
       "    }\n",
       "\n",
       "    .dataframe thead th {\n",
       "        text-align: right;\n",
       "    }\n",
       "</style>\n",
       "<table border=\"1\" class=\"dataframe\">\n",
       "  <thead>\n",
       "    <tr style=\"text-align: right;\">\n",
       "      <th></th>\n",
       "      <th>key</th>\n",
       "      <th>A</th>\n",
       "      <th>B</th>\n",
       "      <th>C</th>\n",
       "      <th>D</th>\n",
       "    </tr>\n",
       "  </thead>\n",
       "  <tbody>\n",
       "    <tr>\n",
       "      <th>0</th>\n",
       "      <td>K0</td>\n",
       "      <td>A0</td>\n",
       "      <td>B0</td>\n",
       "      <td>C0</td>\n",
       "      <td>D0</td>\n",
       "    </tr>\n",
       "    <tr>\n",
       "      <th>1</th>\n",
       "      <td>K1</td>\n",
       "      <td>NaN</td>\n",
       "      <td>NaN</td>\n",
       "      <td>C1</td>\n",
       "      <td>D1</td>\n",
       "    </tr>\n",
       "    <tr>\n",
       "      <th>2</th>\n",
       "      <td>K2</td>\n",
       "      <td>A2</td>\n",
       "      <td>B2</td>\n",
       "      <td>C2</td>\n",
       "      <td>D2</td>\n",
       "    </tr>\n",
       "    <tr>\n",
       "      <th>3</th>\n",
       "      <td>K3</td>\n",
       "      <td>A3</td>\n",
       "      <td>B3</td>\n",
       "      <td>C3</td>\n",
       "      <td>D3</td>\n",
       "    </tr>\n",
       "  </tbody>\n",
       "</table>\n",
       "</div>"
      ],
      "text/plain": [
       "  key    A    B   C   D\n",
       "0  K0   A0   B0  C0  D0\n",
       "1  K1  NaN  NaN  C1  D1\n",
       "2  K2   A2   B2  C2  D2\n",
       "3  K3   A3   B3  C3  D3"
      ]
     },
     "execution_count": 405,
     "metadata": {},
     "output_type": "execute_result"
    }
   ],
   "source": [
    "pd.merge(left, right, on = 'key', how = 'right')"
   ]
  },
  {
   "cell_type": "markdown",
   "id": "3931efcd-362f-4d67-803f-5d79c183eebf",
   "metadata": {},
   "source": [
    "## 반정형 데이터 로드\n",
    "- json, html, xml 등 서버에서 주고받는 데이터\n",
    "- 센서 등</br>\n",
    "정형 형태를 띄지만, 해석하기 어려운 형태의 데이터"
   ]
  },
  {
   "cell_type": "code",
   "execution_count": 449,
   "id": "cce37b7d-dc99-46e7-9570-4d8ae700c84b",
   "metadata": {},
   "outputs": [
    {
     "data": {
      "text/html": [
       "<div>\n",
       "<style scoped>\n",
       "    .dataframe tbody tr th:only-of-type {\n",
       "        vertical-align: middle;\n",
       "    }\n",
       "\n",
       "    .dataframe tbody tr th {\n",
       "        vertical-align: top;\n",
       "    }\n",
       "\n",
       "    .dataframe thead th {\n",
       "        text-align: right;\n",
       "    }\n",
       "</style>\n",
       "<table border=\"1\" class=\"dataframe\">\n",
       "  <thead>\n",
       "    <tr style=\"text-align: right;\">\n",
       "      <th></th>\n",
       "      <th>id</th>\n",
       "      <th>productName</th>\n",
       "      <th>price</th>\n",
       "      <th>stockCount</th>\n",
       "      <th>thumbnailImg</th>\n",
       "      <th>option</th>\n",
       "      <th>discountRate</th>\n",
       "      <th>shippingFee</th>\n",
       "      <th>detailInfoImage</th>\n",
       "      <th>viewCount</th>\n",
       "      <th>pubDate</th>\n",
       "      <th>modDate</th>\n",
       "    </tr>\n",
       "  </thead>\n",
       "  <tbody>\n",
       "    <tr>\n",
       "      <th>0</th>\n",
       "      <td>1</td>\n",
       "      <td>버그를 Java라 버그잡는 개리씨 키링 개발자키링 금속키링</td>\n",
       "      <td>12500</td>\n",
       "      <td>100</td>\n",
       "      <td>asset/img/1/thumbnailImg.jpg</td>\n",
       "      <td>[]</td>\n",
       "      <td>0</td>\n",
       "      <td>1500</td>\n",
       "      <td>[asset/detail/2/detail1.png, asset/detail/2/de...</td>\n",
       "      <td>0</td>\n",
       "      <td>2022-02-28</td>\n",
       "      <td>2022-02-28</td>\n",
       "    </tr>\n",
       "    <tr>\n",
       "      <th>1</th>\n",
       "      <td>2</td>\n",
       "      <td>우당탕탕 라이캣의 실험실 스티커 팩</td>\n",
       "      <td>3500</td>\n",
       "      <td>1000</td>\n",
       "      <td>asset/img/2/thumbnailImg.jpg</td>\n",
       "      <td>[]</td>\n",
       "      <td>0</td>\n",
       "      <td>1500</td>\n",
       "      <td>[asset/detail/2/detail1.png, asset/detail/2/de...</td>\n",
       "      <td>0</td>\n",
       "      <td>2022-02-28</td>\n",
       "      <td>2022-02-28</td>\n",
       "    </tr>\n",
       "    <tr>\n",
       "      <th>2</th>\n",
       "      <td>3</td>\n",
       "      <td>딥러닝 개발자 무릎 담요</td>\n",
       "      <td>17500</td>\n",
       "      <td>0</td>\n",
       "      <td>asset/img/3/thumbnailImg.jpg</td>\n",
       "      <td>[]</td>\n",
       "      <td>0</td>\n",
       "      <td>1500</td>\n",
       "      <td>[asset/detail/3/detail1.png, asset/detail/3/de...</td>\n",
       "      <td>0</td>\n",
       "      <td>2022-02-28</td>\n",
       "      <td>2022-02-28</td>\n",
       "    </tr>\n",
       "    <tr>\n",
       "      <th>3</th>\n",
       "      <td>4</td>\n",
       "      <td>네 개발잡니다 개발자키링 금속키링</td>\n",
       "      <td>13500</td>\n",
       "      <td>100</td>\n",
       "      <td>asset/img/4/thumbnailImg.jpg</td>\n",
       "      <td>[]</td>\n",
       "      <td>0</td>\n",
       "      <td>1500</td>\n",
       "      <td>[asset/detail/4/detail1.png, asset/detail/4/de...</td>\n",
       "      <td>0</td>\n",
       "      <td>2022-02-28</td>\n",
       "      <td>2022-02-28</td>\n",
       "    </tr>\n",
       "    <tr>\n",
       "      <th>4</th>\n",
       "      <td>5</td>\n",
       "      <td>Hack Your Life 개발자 노트북 파우치</td>\n",
       "      <td>36000</td>\n",
       "      <td>230</td>\n",
       "      <td>asset/img/5/thumbnailImg.jpg</td>\n",
       "      <td>[{'id': 1, 'optionName': '13인치', 'additionalFe...</td>\n",
       "      <td>19</td>\n",
       "      <td>1500</td>\n",
       "      <td>[asset/detail/5/detail1.png, asset/detail/5/de...</td>\n",
       "      <td>0</td>\n",
       "      <td>2022-02-28</td>\n",
       "      <td>2022-02-28</td>\n",
       "    </tr>\n",
       "  </tbody>\n",
       "</table>\n",
       "</div>"
      ],
      "text/plain": [
       "   id                       productName  price  stockCount   \n",
       "0   1  버그를 Java라 버그잡는 개리씨 키링 개발자키링 금속키링  12500         100  \\\n",
       "1   2               우당탕탕 라이캣의 실험실 스티커 팩   3500        1000   \n",
       "2   3                     딥러닝 개발자 무릎 담요  17500           0   \n",
       "3   4                네 개발잡니다 개발자키링 금속키링  13500         100   \n",
       "4   5        Hack Your Life 개발자 노트북 파우치  36000         230   \n",
       "\n",
       "                   thumbnailImg   \n",
       "0  asset/img/1/thumbnailImg.jpg  \\\n",
       "1  asset/img/2/thumbnailImg.jpg   \n",
       "2  asset/img/3/thumbnailImg.jpg   \n",
       "3  asset/img/4/thumbnailImg.jpg   \n",
       "4  asset/img/5/thumbnailImg.jpg   \n",
       "\n",
       "                                              option  discountRate   \n",
       "0                                                 []             0  \\\n",
       "1                                                 []             0   \n",
       "2                                                 []             0   \n",
       "3                                                 []             0   \n",
       "4  [{'id': 1, 'optionName': '13인치', 'additionalFe...            19   \n",
       "\n",
       "   shippingFee                                    detailInfoImage  viewCount   \n",
       "0         1500  [asset/detail/2/detail1.png, asset/detail/2/de...          0  \\\n",
       "1         1500  [asset/detail/2/detail1.png, asset/detail/2/de...          0   \n",
       "2         1500  [asset/detail/3/detail1.png, asset/detail/3/de...          0   \n",
       "3         1500  [asset/detail/4/detail1.png, asset/detail/4/de...          0   \n",
       "4         1500  [asset/detail/5/detail1.png, asset/detail/5/de...          0   \n",
       "\n",
       "      pubDate     modDate  \n",
       "0  2022-02-28  2022-02-28  \n",
       "1  2022-02-28  2022-02-28  \n",
       "2  2022-02-28  2022-02-28  \n",
       "3  2022-02-28  2022-02-28  \n",
       "4  2022-02-28  2022-02-28  "
      ]
     },
     "execution_count": 449,
     "metadata": {},
     "output_type": "execute_result"
    }
   ],
   "source": [
    "shop = pd.read_json(os.path.join(data_path, 'data.json'))\n",
    "shop.head()"
   ]
  },
  {
   "cell_type": "code",
   "execution_count": 451,
   "id": "feb6b546-3a8e-49ac-8da8-5d7231021b56",
   "metadata": {},
   "outputs": [
    {
     "data": {
      "text/html": [
       "<div>\n",
       "<style scoped>\n",
       "    .dataframe tbody tr th:only-of-type {\n",
       "        vertical-align: middle;\n",
       "    }\n",
       "\n",
       "    .dataframe tbody tr th {\n",
       "        vertical-align: top;\n",
       "    }\n",
       "\n",
       "    .dataframe thead th {\n",
       "        text-align: right;\n",
       "    }\n",
       "</style>\n",
       "<table border=\"1\" class=\"dataframe\">\n",
       "  <thead>\n",
       "    <tr style=\"text-align: right;\">\n",
       "      <th></th>\n",
       "      <th>id</th>\n",
       "      <th>productName</th>\n",
       "      <th>price</th>\n",
       "      <th>stockCount</th>\n",
       "      <th>thumbnailImg</th>\n",
       "      <th>option</th>\n",
       "      <th>discountRate</th>\n",
       "      <th>shippingFee</th>\n",
       "      <th>detailInfoImage</th>\n",
       "      <th>viewCount</th>\n",
       "      <th>pubDate</th>\n",
       "      <th>modDate</th>\n",
       "    </tr>\n",
       "  </thead>\n",
       "  <tbody>\n",
       "    <tr>\n",
       "      <th>0</th>\n",
       "      <td>1</td>\n",
       "      <td>버그를 Java라 버그잡는 개리씨 키링 개발자키링 금속키링</td>\n",
       "      <td>12500</td>\n",
       "      <td>100</td>\n",
       "      <td>asset/img/1/thumbnailImg.jpg</td>\n",
       "      <td>[]</td>\n",
       "      <td>0</td>\n",
       "      <td>1500</td>\n",
       "      <td>[asset/detail/2/detail1.png, asset/detail/2/de...</td>\n",
       "      <td>0</td>\n",
       "      <td>2022-02-28</td>\n",
       "      <td>2022-02-28</td>\n",
       "    </tr>\n",
       "    <tr>\n",
       "      <th>1</th>\n",
       "      <td>2</td>\n",
       "      <td>우당탕탕 라이캣의 실험실 스티커 팩</td>\n",
       "      <td>3500</td>\n",
       "      <td>1000</td>\n",
       "      <td>asset/img/2/thumbnailImg.jpg</td>\n",
       "      <td>[]</td>\n",
       "      <td>0</td>\n",
       "      <td>1500</td>\n",
       "      <td>[asset/detail/2/detail1.png, asset/detail/2/de...</td>\n",
       "      <td>0</td>\n",
       "      <td>2022-02-28</td>\n",
       "      <td>2022-02-28</td>\n",
       "    </tr>\n",
       "    <tr>\n",
       "      <th>2</th>\n",
       "      <td>3</td>\n",
       "      <td>딥러닝 개발자 무릎 담요</td>\n",
       "      <td>17500</td>\n",
       "      <td>0</td>\n",
       "      <td>asset/img/3/thumbnailImg.jpg</td>\n",
       "      <td>[]</td>\n",
       "      <td>0</td>\n",
       "      <td>1500</td>\n",
       "      <td>[asset/detail/3/detail1.png, asset/detail/3/de...</td>\n",
       "      <td>0</td>\n",
       "      <td>2022-02-28</td>\n",
       "      <td>2022-02-28</td>\n",
       "    </tr>\n",
       "    <tr>\n",
       "      <th>3</th>\n",
       "      <td>4</td>\n",
       "      <td>네 개발잡니다 개발자키링 금속키링</td>\n",
       "      <td>13500</td>\n",
       "      <td>100</td>\n",
       "      <td>asset/img/4/thumbnailImg.jpg</td>\n",
       "      <td>[]</td>\n",
       "      <td>0</td>\n",
       "      <td>1500</td>\n",
       "      <td>[asset/detail/4/detail1.png, asset/detail/4/de...</td>\n",
       "      <td>0</td>\n",
       "      <td>2022-02-28</td>\n",
       "      <td>2022-02-28</td>\n",
       "    </tr>\n",
       "    <tr>\n",
       "      <th>4</th>\n",
       "      <td>5</td>\n",
       "      <td>Hack Your Life 개발자 노트북 파우치</td>\n",
       "      <td>36000</td>\n",
       "      <td>230</td>\n",
       "      <td>asset/img/5/thumbnailImg.jpg</td>\n",
       "      <td>[{'id': 1, 'optionName': '13인치', 'additionalFe...</td>\n",
       "      <td>19</td>\n",
       "      <td>1500</td>\n",
       "      <td>[asset/detail/5/detail1.png, asset/detail/5/de...</td>\n",
       "      <td>0</td>\n",
       "      <td>2022-02-28</td>\n",
       "      <td>2022-02-28</td>\n",
       "    </tr>\n",
       "    <tr>\n",
       "      <th>5</th>\n",
       "      <td>6</td>\n",
       "      <td>[NEW] 위니브 개발자, 캐릭터 스티커팩 2종</td>\n",
       "      <td>5500</td>\n",
       "      <td>1000</td>\n",
       "      <td>asset/img/6/thumbnailImg.jpg</td>\n",
       "      <td>[{'id': 1, 'optionName': '위니브 개발자 스티커팩', 'addi...</td>\n",
       "      <td>0</td>\n",
       "      <td>1500</td>\n",
       "      <td>[asset/detail/6/detail1.png, asset/detail/6/de...</td>\n",
       "      <td>0</td>\n",
       "      <td>2022-02-28</td>\n",
       "      <td>2022-02-28</td>\n",
       "    </tr>\n",
       "    <tr>\n",
       "      <th>6</th>\n",
       "      <td>7</td>\n",
       "      <td>제주코딩베이스캠프 코딩 연습장 세트</td>\n",
       "      <td>8000</td>\n",
       "      <td>1000</td>\n",
       "      <td>asset/img/7/thumbnailImg.jpg</td>\n",
       "      <td>[]</td>\n",
       "      <td>0</td>\n",
       "      <td>1500</td>\n",
       "      <td>[asset/detail/7/detail1.png, asset/detail/7/de...</td>\n",
       "      <td>0</td>\n",
       "      <td>2022-02-28</td>\n",
       "      <td>2022-02-28</td>\n",
       "    </tr>\n",
       "  </tbody>\n",
       "</table>\n",
       "</div>"
      ],
      "text/plain": [
       "   id                       productName  price  stockCount   \n",
       "0   1  버그를 Java라 버그잡는 개리씨 키링 개발자키링 금속키링  12500         100  \\\n",
       "1   2               우당탕탕 라이캣의 실험실 스티커 팩   3500        1000   \n",
       "2   3                     딥러닝 개발자 무릎 담요  17500           0   \n",
       "3   4                네 개발잡니다 개발자키링 금속키링  13500         100   \n",
       "4   5        Hack Your Life 개발자 노트북 파우치  36000         230   \n",
       "5   6        [NEW] 위니브 개발자, 캐릭터 스티커팩 2종   5500        1000   \n",
       "6   7               제주코딩베이스캠프 코딩 연습장 세트   8000        1000   \n",
       "\n",
       "                   thumbnailImg   \n",
       "0  asset/img/1/thumbnailImg.jpg  \\\n",
       "1  asset/img/2/thumbnailImg.jpg   \n",
       "2  asset/img/3/thumbnailImg.jpg   \n",
       "3  asset/img/4/thumbnailImg.jpg   \n",
       "4  asset/img/5/thumbnailImg.jpg   \n",
       "5  asset/img/6/thumbnailImg.jpg   \n",
       "6  asset/img/7/thumbnailImg.jpg   \n",
       "\n",
       "                                              option  discountRate   \n",
       "0                                                 []             0  \\\n",
       "1                                                 []             0   \n",
       "2                                                 []             0   \n",
       "3                                                 []             0   \n",
       "4  [{'id': 1, 'optionName': '13인치', 'additionalFe...            19   \n",
       "5  [{'id': 1, 'optionName': '위니브 개발자 스티커팩', 'addi...             0   \n",
       "6                                                 []             0   \n",
       "\n",
       "   shippingFee                                    detailInfoImage  viewCount   \n",
       "0         1500  [asset/detail/2/detail1.png, asset/detail/2/de...          0  \\\n",
       "1         1500  [asset/detail/2/detail1.png, asset/detail/2/de...          0   \n",
       "2         1500  [asset/detail/3/detail1.png, asset/detail/3/de...          0   \n",
       "3         1500  [asset/detail/4/detail1.png, asset/detail/4/de...          0   \n",
       "4         1500  [asset/detail/5/detail1.png, asset/detail/5/de...          0   \n",
       "5         1500  [asset/detail/6/detail1.png, asset/detail/6/de...          0   \n",
       "6         1500  [asset/detail/7/detail1.png, asset/detail/7/de...          0   \n",
       "\n",
       "      pubDate     modDate  \n",
       "0  2022-02-28  2022-02-28  \n",
       "1  2022-02-28  2022-02-28  \n",
       "2  2022-02-28  2022-02-28  \n",
       "3  2022-02-28  2022-02-28  \n",
       "4  2022-02-28  2022-02-28  \n",
       "5  2022-02-28  2022-02-28  \n",
       "6  2022-02-28  2022-02-28  "
      ]
     },
     "execution_count": 451,
     "metadata": {},
     "output_type": "execute_result"
    }
   ],
   "source": [
    "pd.read_json('https://test.api.weniv.co.kr/mall')"
   ]
  },
  {
   "cell_type": "code",
   "execution_count": 457,
   "id": "66b1a976-3aeb-4aaa-910b-6770a31a0017",
   "metadata": {},
   "outputs": [
    {
     "data": {
      "text/html": [
       "<div>\n",
       "<style scoped>\n",
       "    .dataframe tbody tr th:only-of-type {\n",
       "        vertical-align: middle;\n",
       "    }\n",
       "\n",
       "    .dataframe tbody tr th {\n",
       "        vertical-align: top;\n",
       "    }\n",
       "\n",
       "    .dataframe thead th {\n",
       "        text-align: right;\n",
       "    }\n",
       "</style>\n",
       "<table border=\"1\" class=\"dataframe\">\n",
       "  <thead>\n",
       "    <tr style=\"text-align: right;\">\n",
       "      <th></th>\n",
       "      <th>category</th>\n",
       "      <th>id</th>\n",
       "      <th>year</th>\n",
       "      <th>sales</th>\n",
       "      <th>profit</th>\n",
       "      <th>employees</th>\n",
       "    </tr>\n",
       "  </thead>\n",
       "  <tbody>\n",
       "    <tr>\n",
       "      <th>0</th>\n",
       "      <td>develop</td>\n",
       "      <td>2</td>\n",
       "      <td>2020</td>\n",
       "      <td>4000000</td>\n",
       "      <td>1400000</td>\n",
       "      <td>40</td>\n",
       "    </tr>\n",
       "    <tr>\n",
       "      <th>1</th>\n",
       "      <td>develop</td>\n",
       "      <td>4</td>\n",
       "      <td>2018</td>\n",
       "      <td>3700000</td>\n",
       "      <td>1370000</td>\n",
       "      <td>38</td>\n",
       "    </tr>\n",
       "    <tr>\n",
       "      <th>2</th>\n",
       "      <td>develop</td>\n",
       "      <td>6</td>\n",
       "      <td>2016</td>\n",
       "      <td>5300000</td>\n",
       "      <td>2000000</td>\n",
       "      <td>52</td>\n",
       "    </tr>\n",
       "    <tr>\n",
       "      <th>3</th>\n",
       "      <td>accounting</td>\n",
       "      <td>8</td>\n",
       "      <td>2014</td>\n",
       "      <td>7000000</td>\n",
       "      <td>2400000</td>\n",
       "      <td>100</td>\n",
       "    </tr>\n",
       "    <tr>\n",
       "      <th>4</th>\n",
       "      <td>accounting</td>\n",
       "      <td>10</td>\n",
       "      <td>2012</td>\n",
       "      <td>8000000</td>\n",
       "      <td>3000000</td>\n",
       "      <td>320</td>\n",
       "    </tr>\n",
       "    <tr>\n",
       "      <th>5</th>\n",
       "      <td>accounting</td>\n",
       "      <td>5</td>\n",
       "      <td>2017</td>\n",
       "      <td>4600000</td>\n",
       "      <td>1870000</td>\n",
       "      <td>41</td>\n",
       "    </tr>\n",
       "  </tbody>\n",
       "</table>\n",
       "</div>"
      ],
      "text/plain": [
       "     category  id  year    sales   profit  employees\n",
       "0     develop   2  2020  4000000  1400000         40\n",
       "1     develop   4  2018  3700000  1370000         38\n",
       "2     develop   6  2016  5300000  2000000         52\n",
       "3  accounting   8  2014  7000000  2400000        100\n",
       "4  accounting  10  2012  8000000  3000000        320\n",
       "5  accounting   5  2017  4600000  1870000         41"
      ]
     },
     "execution_count": 457,
     "metadata": {},
     "output_type": "execute_result"
    }
   ],
   "source": [
    "pd.read_xml(os.path.join(data_path, 'raw_data.xml'))"
   ]
  },
  {
   "cell_type": "markdown",
   "id": "d31378e2-90c8-4873-9e8b-eae73c4afbbc",
   "metadata": {},
   "source": [
    "# 이미지\n",
    "\n",
    "이미지 인식 - Pillow</br>\n",
    "이미지 출력 - Matplotlib"
   ]
  },
  {
   "cell_type": "code",
   "execution_count": 459,
   "id": "fd930f21-e3ad-4db7-8278-548cc54febf4",
   "metadata": {},
   "outputs": [],
   "source": [
    "from PIL import Image\n",
    "import matplotlib.pyplot as plt"
   ]
  },
  {
   "cell_type": "code",
   "execution_count": 470,
   "id": "3edc6aef-439f-4a7f-937d-93c39ea58c4a",
   "metadata": {},
   "outputs": [
    {
     "data": {
      "image/png": "[encoded data removed]",
      "text/plain": [
       "<PIL.JpegImagePlugin.JpegImageFile image mode=RGB size=510x510>"
      ]
     },
     "execution_count": 470,
     "metadata": {},
     "output_type": "execute_result"
    }
   ],
   "source": [
    "gary = Image.open(os.path.join(data_path, 'thumbnailImg.PNG'))\n",
    "gary"
   ]
  },
  {
   "cell_type": "code",
   "execution_count": 462,
   "id": "3fcec5f0-da5d-4385-8dab-b550e9e8b2b1",
   "metadata": {},
   "outputs": [
    {
     "data": {
      "text/plain": [
       "(510, 510, 3)"
      ]
     },
     "execution_count": 462,
     "metadata": {},
     "output_type": "execute_result"
    }
   ],
   "source": [
    "pixel = np.array(gary)\n",
    "pixel.shape"
   ]
  },
  {
   "cell_type": "code",
   "execution_count": 463,
   "id": "af7612b3-d687-4707-a575-fb7531d620bf",
   "metadata": {},
   "outputs": [
    {
     "data": {
      "text/plain": [
       "<matplotlib.image.AxesImage at 0x1764c7850>"
      ]
     },
     "execution_count": 463,
     "metadata": {},
     "output_type": "execute_result"
    },
    {
     "data": {
      "image/png": "[encoded data removed]",
      "text/plain": [
       "<Figure size 640x480 with 1 Axes>"
      ]
     },
     "metadata": {},
     "output_type": "display_data"
    }
   ],
   "source": [
    "plt.imshow(gary)"
   ]
  },
  {
   "cell_type": "code",
   "execution_count": 486,
   "id": "54dc601e-65da-4507-b812-6323b02bce5f",
   "metadata": {},
   "outputs": [
    {
     "data": {
      "text/plain": [
       "<matplotlib.image.AxesImage at 0x17c259190>"
      ]
     },
     "execution_count": 486,
     "metadata": {},
     "output_type": "execute_result"
    },
    {
     "data": {
      "image/png": "[encoded data removed]",
      "text/plain": [
       "<Figure size 640x480 with 1 Axes>"
      ]
     },
     "metadata": {},
     "output_type": "display_data"
    }
   ],
   "source": [
    "plt.imshow(pixel[:, :, 2])"
   ]
  },
  {
   "cell_type": "markdown",
   "id": "87f6df22-d216-4c79-9310-1e92e8499986",
   "metadata": {},
   "source": [
    "---"
   ]
  },
  {
   "cell_type": "markdown",
   "id": "3a721cd8-2603-4d8e-91c3-2df833671a2c",
   "metadata": {},
   "source": [
    "pd.where\n",
    "\n",
    "- 데이터 컬럼(시리즈)에 대해서 특정 조건을 만족하지 않는 값을 대치하고 싶을때 사용\n",
    "```python\n",
    "df.where(시리즈에 대한 조건, 조건을 만족하지 않는 값에 대한 대체값)\n",
    "```\n",
    "\n",
    "np.where(조건, 참일때 반환값, 거짓일때 반환값)"
   ]
  }
 ],
 "metadata": {
  "kernelspec": {
   "display_name": "Python 3 (ipykernel)",
   "language": "python",
   "name": "python3"
  },
  "language_info": {
   "codemirror_mode": {
    "name": "ipython",
    "version": 3
   },
   "file_extension": ".py",
   "mimetype": "text/x-python",
   "name": "python",
   "nbconvert_exporter": "python",
   "pygments_lexer": "ipython3",
   "version": "3.11.0"
  }
 },
 "nbformat": 4,
 "nbformat_minor": 5
}
