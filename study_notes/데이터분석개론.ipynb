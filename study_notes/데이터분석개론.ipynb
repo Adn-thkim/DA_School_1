{
 "cells": [
  {
   "cell_type": "markdown",
   "id": "f989abd6-6fe1-48ae-bf5e-e9d8d8e50808",
   "metadata": {},
   "source": [
    "# 단축키\n",
    "\n",
    "**강의가 colab에서 진행되기 때문에, 일부 colab 단축키가 있습니다.**\n",
    "\n",
    "1. **실행 단축키**\n",
    "    1. (필수) `Ctrl(Command)` + `Enter` : 해당 셀 실행\n",
    "    2. `Shift` + `Enter` : 해당 셀 실행 + 커서를 다음 셀로 이동\n",
    "    3. (필수) `Alt(Option)` + `Enter` : 해당 셀 실행 + 코드 불록 하단 추가\n",
    "2. **셀 삽입/삭제 관련 단축키**\n",
    "    1. `Ctrl(Command)` + M A : 코드 셀 위에 삽입\n",
    "    2. `Ctrl(Command)` + M B : 코드 셀 아래 삽입\n",
    "    3. `Ctrl(Command)` + M D : 셀 지우기\n",
    "    4. `Ctrl(Command)` + M Y : 코드 셀로 변경\n",
    "    5. `Ctrl(Command)` + M M : 마크다운 셀로 변경\n",
    "    6. `Ctrl(Command)` + M Z : 실행 취소\n",
    "3. 수정 관련된 단축키\n",
    "    1. `Ctrl(Command)` + `Alt(Option)` + 화살표위아래 : 동시 수정\n",
    "    2. (자주) `Ctrl(Command)` + D : 같은 단어 찾아 동시 수정\n",
    "    3. `Ctrl(Command)` + `Shift` + L : 동일 단어를 전체로 찾아 동시 수정\n",
    "    4. `Alt(Option)` + `Shift` + 화살표위아래 : 해당내용을 위나 아래 복사해서 붙여넣기\n",
    "    5. `Alt(Option)` + 화살표위아래 : 해당 내용을 위나 아래로 보내기\n",
    "    6. (자주) `Ctrl(Command)` + `Alt` + 화살표위아래 : 위아래 동시 수정\n",
    "    7. (자주) Home, End : 문장의 양 끝\n",
    "    8. (필수) `Ctrl(Command)` + / : 주석\n",
    "    9. (필수) `Ctrl(Command)` + Del : 한 줄 지우기\n",
    "    10. (필수) `tab`, `Ctrl(Command)` + ] : 들여쓰기\n",
    "    11. (필수) `Shift` + `tab`, `Ctrl(Command)` + [ : 내어쓰기\n",
    "4. 단축키 보기 및 설정\n",
    "    1. `Ctrl(Command)` + M H : 단축키 모음"
   ]
  },
  {
   "cell_type": "markdown",
   "id": "d3383d71-ccff-4aae-b891-8872749a48dd",
   "metadata": {},
   "source": [
    "# 마크다운\n",
    "\n",
    "* 마크업\n",
    "    ```html\n",
    "    <h1>내 생에 첫 홈페이지</h1>\n",
    "    <h2>내 생에 첫 홈페이지</h2>\n",
    "    <p>hello world</p>\n",
    "    ```\n",
    "\n",
    "* 마크다운\n",
    "    ```\n",
    "    # hello\n",
    "    ## hello\n",
    "    ### hello\n",
    "    * hello\n",
    "    * hello\n",
    "    1. hello\n",
    "    2. hello\n",
    "    ```"
   ]
  },
  {
   "cell_type": "markdown",
   "id": "5da43380-2772-4323-82f5-5e82c7c68752",
   "metadata": {},
   "source": [
    "# 데이터 분석 개론\n",
    "\n",
    "* 데이터분석 : 유용한 정보를 발굴하고 결론적인 내용을 알리며 ***의사결정을 지원***하는 것을 목표로 데이터를 정리, 변환, 모델링하는 과정\n",
    "* 데이터 유형\n",
    "  * 정량적 데이터\n",
    "    * 정형 데이터\n",
    "      * 데이터베이스\n",
    "      * 스프레드시트(excel, csv, ...)\n",
    "    * 반정형 데이터\n",
    "      * JSON\n",
    "      * HTML\n",
    "      * XML\n",
    "  * 정성적 데이터\n",
    "    * 비정형 데이터\n",
    "      * 텍스트\n",
    "      * 음성\n",
    "      * 이미지\n"
   ]
  },
  {
   "cell_type": "markdown",
   "id": "d50c6815-d14c-4c7c-8b6d-15b28a2ca1ea",
   "metadata": {},
   "source": [
    "## KDD 분석절차\n",
    "\n",
    "<img src = 'https://likelion-aischool.notion.site/image/https%3A%2F%2Fs3-us-west-2.amazonaws.com%2Fsecure.notion-static.com%2Fcd32fa7e-0913-4ca5-a3e0-b1c3bf2bc7e8%2F%25E1%2584%2589%25E1%2585%25B3%25E1%2584%258F%25E1%2585%25B3%25E1%2584%2585%25E1%2585%25B5%25E1%2586%25AB%25E1%2584%2589%25E1%2585%25A3%25E1%2586%25BA_2022-12-01_%25E1%2584%258B%25E1%2585%25A9%25E1%2584%258C%25E1%2585%25A5%25E1%2586%25AB_10.55.14.png?id=1e0cb15f-aa8d-4935-bce6-7c3f27f5d1b9&table=block&spaceId=579fe283-28aa-489d-ae65-d683304becfc&width=1540&userId=&cache=v2'>"
   ]
  },
  {
   "cell_type": "markdown",
   "id": "54ae8e1d-94d9-4589-a456-79860747e73b",
   "metadata": {},
   "source": [
    "# 커리어\n",
    "* 데이터 분석가(Data Analyst) : 프로그래밍 기술을 갖추고 통계학을 이해하면서 정보를 시각적으로 잘 표현할 수 있는 사람\n",
    "* 데이터 엔지니어(Data Engineer) : 데이터 로깅, 데이터 분석 파이프라인 구축\n",
    "* 데이터 사이언티스트(Data Scientist) : 논문 구현 또는 적용, 알고리즘 구현 또는 적용"
   ]
  },
  {
   "cell_type": "markdown",
   "id": "fd412dc2-8e47-4ed6-9bb0-0e9138460a48",
   "metadata": {},
   "source": [
    "## 자격증\n",
    "* 빅데이터분석기사(6개월 준비)\n",
    "    - 6월 24일에 보실거면 떨어진다는 생각을 하시고 보시기 바랍니다.\n",
    "    - 9월 23일 목표로 하세요. \n",
    "* SQL 개발자(SQLD)\n",
    "* 데이터분석 준전문가(ADsP)"
   ]
  }
 ],
 "metadata": {
  "kernelspec": {
   "display_name": "Python 3 (ipykernel)",
   "language": "python",
   "name": "python3"
  },
  "language_info": {
   "codemirror_mode": {
    "name": "ipython",
    "version": 3
   },
   "file_extension": ".py",
   "mimetype": "text/x-python",
   "name": "python",
   "nbconvert_exporter": "python",
   "pygments_lexer": "ipython3",
   "version": "3.8.12"
  }
 },
 "nbformat": 4,
 "nbformat_minor": 5
}
