{
 "cells": [
  {
   "cell_type": "markdown",
   "id": "016e9bb0-5aff-4490-a7c4-32173fabc6fc",
   "metadata": {},
   "source": [
    "# 4.1 리스트\n",
    "\n",
    "- 리스트는 순서를 가진 데이터들의 집합\n",
    "- 리스트는 값의 변경이 가능하며, 다른 자료형을 입력 할 수 있습니다 (리스트 안에 리스트로 다차원의 리스트를 만드는 것도 가능합니다)\n",
    "- 중복 허락\n",
    "- 인덱싱과 슬라이싱을 사용할 수 있습니다 (문자열은 immutable한 객체, 슬라이싱으로 변경할 수 없습니다)"
   ]
  },
  {
   "cell_type": "code",
   "execution_count": 6,
   "id": "0f1e6194-1078-46d7-847b-7fe601813dee",
   "metadata": {},
   "outputs": [
    {
     "data": {
      "text/plain": [
       "[[1, 2, 3], [4, 5, 6], [7, 8, 9]]"
      ]
     },
     "execution_count": 6,
     "metadata": {},
     "output_type": "execute_result"
    }
   ],
   "source": [
    "data = [[1, 2, 3],\n",
    "        [4, 5, 6],\n",
    "        [7, 8, 9]]\n",
    "\n",
    "data"
   ]
  },
  {
   "cell_type": "code",
   "execution_count": 2,
   "id": "f1cf8de8-5ec1-48fc-a2f5-2482d18aac7c",
   "metadata": {},
   "outputs": [
    {
     "data": {
      "text/plain": [
       "[[2, 4, 6], [8, 10, 12], [14, 16, 18]]"
      ]
     },
     "execution_count": 2,
     "metadata": {},
     "output_type": "execute_result"
    }
   ],
   "source": [
    "for i in range(len(data)):\n",
    "    for j in range(len(data[1])):\n",
    "        data[i][j] *= 2\n",
    "\n",
    "data"
   ]
  },
  {
   "cell_type": "code",
   "execution_count": 8,
   "id": "4613e1f5-5b51-4839-aa96-9486c518d6fa",
   "metadata": {},
   "outputs": [
    {
     "data": {
      "text/plain": [
       "[10, 20, 30, 40, 50, 60, 70]"
      ]
     },
     "execution_count": 8,
     "metadata": {},
     "output_type": "execute_result"
    }
   ],
   "source": [
    "#data[start:stop:step]\n",
    "data = [10, 20, 30, 40, 50, 60, 70]\n",
    "data[1:]\n",
    "data[1:-1]\n",
    "data[::2]\n",
    "data[:] # 매우 중요!"
   ]
  },
  {
   "cell_type": "code",
   "execution_count": 9,
   "id": "36c083a9-d078-4db0-a7c3-3540eaedd796",
   "metadata": {},
   "outputs": [
    {
     "data": {
      "text/plain": [
       "([100, 20, 30, 40, 50, 60, 70], [100, 20, 30, 40, 50, 60, 70])"
      ]
     },
     "execution_count": 9,
     "metadata": {},
     "output_type": "execute_result"
    }
   ],
   "source": [
    "data = [10, 20, 30, 40, 50, 60, 70]\n",
    "data2 = data\n",
    "data2[0] = 100\n",
    "data2, data"
   ]
  },
  {
   "cell_type": "code",
   "execution_count": 10,
   "id": "759299f1-d238-4e0d-a581-d9d3c12a0645",
   "metadata": {},
   "outputs": [
    {
     "data": {
      "text/plain": [
       "([100, 20, 30, 40, 50, 60, 70], [10, 20, 30, 40, 50, 60, 70])"
      ]
     },
     "execution_count": 10,
     "metadata": {},
     "output_type": "execute_result"
    }
   ],
   "source": [
    "data = [10, 20, 30, 40, 50, 60, 70]\n",
    "data2 = data[:] # data[::2]\n",
    "data2[0] = 100\n",
    "data2, data"
   ]
  },
  {
   "cell_type": "markdown",
   "id": "e60c8f7d-12c4-4b41-92e1-67a9abd392f3",
   "metadata": {},
   "source": [
    "동일한 List를 여러번 생성할 경우에는 서로 다른 메모리주소를 갖지만,\n",
    "\n",
    "리스트의 곱연산을 통해 depth를 늘리면, 메모리주소를 공유한다\n",
    "\n",
    "얕은 depth에서는 메모리주소가 공유되지 않는다"
   ]
  },
  {
   "cell_type": "code",
   "execution_count": 12,
   "id": "671a220c-b16e-4c68-90c6-83e177830345",
   "metadata": {},
   "outputs": [
    {
     "name": "stdout",
     "output_type": "stream",
     "text": [
      "[[7, 2, 3, 1, 2, 3], [7, 2, 3, 1, 2, 3]]\n"
     ]
    }
   ],
   "source": [
    "x = [[1, 2, 3] * 2] * 2\n",
    "x[0][0] = 7\n",
    "print(x)"
   ]
  },
  {
   "cell_type": "code",
   "execution_count": 13,
   "id": "cce80a50-28c1-4160-8615-4d66011d30e9",
   "metadata": {},
   "outputs": [
    {
     "name": "stdout",
     "output_type": "stream",
     "text": [
      "[7, 2, 3, 1, 2, 3]\n"
     ]
    }
   ],
   "source": [
    "x = [1, 2, 3] * 2\n",
    "x[0] = 7\n",
    "print(x)"
   ]
  },
  {
   "cell_type": "markdown",
   "id": "a0f9e577-af20-4580-80e8-7c7ce0470eea",
   "metadata": {},
   "source": [
    "## 리스트 내장 메서드\n",
    "\n",
    "리스트 안에 있는 값들을 3씩 곱하고 싶다면([1, 2, 3] → [3, 6, 9]) for문을 사용하거나 numpy를 사용해야 합니다</br>\n",
    "리스트 x n 은 리스트를 n번 연결한다는 뜻입니다"
   ]
  },
  {
   "cell_type": "markdown",
   "id": "d2e48ffe-7adb-4dc8-86cc-0cf1ca483059",
   "metadata": {},
   "source": [
    "### 내장함수\n",
    "\n",
    "- max : 리스트 내 element의 최대값을 출력합니다\n",
    "- min : 리스트 내 element의 최소값을 출력합니다\n",
    "- len : 리스트의 총 길이를 반환합니다"
   ]
  },
  {
   "cell_type": "code",
   "execution_count": 42,
   "id": "35f13dcb-24c9-4d3f-8408-e9f3307a9a4a",
   "metadata": {},
   "outputs": [
    {
     "name": "stdout",
     "output_type": "stream",
     "text": [
      "9\n",
      "1\n",
      "6\n"
     ]
    }
   ],
   "source": [
    "l = [1, 3, 5, 4, 3, 9]\n",
    "\n",
    "print(max(l))\n",
    "print(min(l))\n",
    "print(len(l))"
   ]
  },
  {
   "cell_type": "markdown",
   "id": "e288cc40-7243-4d94-b722-281483f642e4",
   "metadata": {},
   "source": [
    "### 추가, 삭제\n",
    "\n",
    "- 추가\n",
    "    - append : 리스트의 끝에 한 개의 element를 추가합니다 (하나의 리스트를 추가하는 것도 가능합니다)\n",
    "    - insert : 지정한 index에 element를 추가합니다\n",
    "    - extend : 리스트의 끝에 다수의 element를 추가합니다 (다수의 element를 추가할 떄는 묶어야 합니다)\n",
    "    - copy : 지정한 리스트를 복제합니다 (기존 리스트와 복제된 리스트는 다른 주소값을 갖습니다)\n",
    "        - copy 보다 slicing을 권고합니다 => slicing은 C로 구현되어 있어서 메서드보다 통상 8배정도 빠릅니다\n",
    "        - 단, 공간복작도가 올라갈 수 있습니다\n",
    "- 제거\n",
    "    - remove : 지정한 값과 일치하는 element 중, 리스트에서 처음 만나는 element 1개를 제거합니다\n",
    "        - 리스트 내 지정한 값과 일치하는 모든 element를 제거하려면 for문과 count 메서드를 활용하시면 됩니다\n",
    "        - count : 특정 element가 리스트 내 몇 개 있는지 출력합니다\n",
    "    - pop : 마지막 element를 제거합니다 (pop(index) => index 위치의 element를 제거할 수 있습니다)\n",
    "    - del : 지정한 index의 element를 제거합니다\n",
    "    - clear : 리스트의 전체 element를 제거합니다"
   ]
  },
  {
   "cell_type": "code",
   "execution_count": 56,
   "id": "7d67b916-10e3-4964-af25-fa9cf0ce9ff4",
   "metadata": {},
   "outputs": [
    {
     "name": "stdout",
     "output_type": "stream",
     "text": [
      "[10, 20, 30, 40, 50]\n",
      "[10, 20, 30, 50, 40, 50]\n"
     ]
    }
   ],
   "source": [
    "l = [10, 20, 30, 40]\n",
    "\n",
    "l.append(50)\n",
    "print(l)\n",
    "l.insert(3, 50)\n",
    "print(l)"
   ]
  },
  {
   "cell_type": "code",
   "execution_count": 66,
   "id": "80580148-5b38-44c5-b09e-1a30fa23929b",
   "metadata": {},
   "outputs": [
    {
     "name": "stdout",
     "output_type": "stream",
     "text": [
      "[10, 1, 1, 11, 2, 23, 12, 10, 1, 1, 11, 2, 23, 12]\n",
      "[10, 1, 1, 11, 2, 23, 12, 10, 1, 1, 11, 2, 23, 12, 10, 20, 30]\n",
      "[10, 1, 1, 11, 2, 23, 12, 10, 1, 1, 11, 2, 23, 12, 10, 20, 30, [...]]\n"
     ]
    }
   ],
   "source": [
    "l.extend(l)\n",
    "print(l)\n",
    "l.extend([10, 20, 30])\n",
    "print(l)\n",
    "\n",
    "l.append(l)\n",
    "print(l)"
   ]
  },
  {
   "cell_type": "code",
   "execution_count": 58,
   "id": "18b24798-8781-4b46-a8b8-13396b582f81",
   "metadata": {},
   "outputs": [
    {
     "name": "stdout",
     "output_type": "stream",
     "text": [
      "[10, 20, 30, 50, 40, 50, 10, 20, 30, 50, 40, 50, 10, 20, 30]\n",
      "[10, 20, 30, 50, 40, 50, 10, 20, 30, 50, 40, 50, 10, 20, 30]\n",
      "4386703872 4387107328 4387099520\n"
     ]
    }
   ],
   "source": [
    "l2 = l.copy()\n",
    "l3 = l[:]\n",
    "\n",
    "print(l2)\n",
    "print(l3)\n",
    "print(id(l), id(l2), id(l3))"
   ]
  },
  {
   "cell_type": "code",
   "execution_count": 59,
   "id": "ff1527b4-4ffa-43d9-b25e-c8f74b0e078b",
   "metadata": {},
   "outputs": [
    {
     "name": "stdout",
     "output_type": "stream",
     "text": [
      "[10, 20, 30, 50, 40, 50, 10, 20, 30, 50, 40, 50, 10, 20, 30]\n",
      "[20, 30, 50, 40, 50, 10, 20, 30, 50, 40, 50, 10, 20, 30]\n",
      "[20, 30, 50, 40, 50, 10, 20, 30, 50, 40, 50, 10, 20]\n",
      "[20, 30, 50, 50, 10, 20, 30, 50, 40, 50, 10, 20]\n"
     ]
    }
   ],
   "source": [
    "print(l)\n",
    "\n",
    "l.remove(10)\n",
    "print(l)\n",
    "\n",
    "l.pop()\n",
    "print(l)\n",
    "\n",
    "del l[3]\n",
    "print(l)"
   ]
  },
  {
   "cell_type": "code",
   "execution_count": 61,
   "id": "81df2e32-2d4f-48f1-8019-585fbeedfed8",
   "metadata": {},
   "outputs": [
    {
     "name": "stdout",
     "output_type": "stream",
     "text": [
      "[20, 30, 10, 20, 30, 40, 10, 20]\n"
     ]
    }
   ],
   "source": [
    "for cnt in range(l.count(50)):\n",
    "    l.remove(50)\n",
    "    \n",
    "print(l)"
   ]
  },
  {
   "cell_type": "markdown",
   "id": "547d75cf-7003-41d9-89d2-5d27912994f0",
   "metadata": {},
   "source": [
    "### 탐색\n",
    "\n",
    "- index : 특정 항목의 index 출력합니다"
   ]
  },
  {
   "cell_type": "code",
   "execution_count": 63,
   "id": "2aeb5606-3aca-40a6-9c66-4e5b457cff35",
   "metadata": {},
   "outputs": [
    {
     "data": {
      "text/plain": [
       "[10, 1, 1]"
      ]
     },
     "execution_count": 63,
     "metadata": {},
     "output_type": "execute_result"
    }
   ],
   "source": [
    "l = [10, 1, 1, 11, 2, 23, 12]\n",
    "l.index(11)\n",
    "l[l.index(11)]\n",
    "l[:l.index(11)]"
   ]
  },
  {
   "cell_type": "markdown",
   "id": "dc52ad1b-6cb4-47af-a01e-887b8bfa0540",
   "metadata": {},
   "source": [
    "**어떤 값을 찾거나, 조건에 맞는 코드를 추출할 때 실무에서 많이 사용하는 코드입니다**"
   ]
  },
  {
   "cell_type": "code",
   "execution_count": 20,
   "id": "0a7517b6-eab5-4b0c-8aea-982970bcfb47",
   "metadata": {},
   "outputs": [
    {
     "name": "stdout",
     "output_type": "stream",
     "text": [
      "[20, 30, 40]\n",
      "[10, 20, 40]\n"
     ]
    }
   ],
   "source": [
    "l = [10, 20, 30, 40]\n",
    "\n",
    "def 함수(x):\n",
    "    return x != 10\n",
    "\n",
    "print(list(filter(함수, l)))\n",
    "\n",
    "print(list(filter(lambda x: x != 30, l))) # 이 코드가 가독성이 높아서 실무에서 더 많이 사용합니다"
   ]
  },
  {
   "cell_type": "code",
   "execution_count": 23,
   "id": "634d8159-7725-434e-bb02-80034f0230dd",
   "metadata": {},
   "outputs": [
    {
     "data": {
      "text/plain": [
       "<filter at 0x105081eb0>"
      ]
     },
     "execution_count": 23,
     "metadata": {},
     "output_type": "execute_result"
    }
   ],
   "source": [
    "filter(lambda x: x != 30, l) # 메모리의 효율을 위해 형태를 지정하지 않고, 메모리 주소를 넘깁니다"
   ]
  },
  {
   "cell_type": "code",
   "execution_count": 24,
   "id": "4fb1f6ff-b3b8-4f96-97d0-87bad4776861",
   "metadata": {},
   "outputs": [
    {
     "data": {
      "text/plain": [
       "range(0, 10)"
      ]
     },
     "execution_count": 24,
     "metadata": {},
     "output_type": "execute_result"
    }
   ],
   "source": [
    "range(10)"
   ]
  },
  {
   "cell_type": "markdown",
   "id": "3b1e89ee-f382-479a-96ff-84db0df181d2",
   "metadata": {},
   "source": [
    "### 정렬\n",
    "\n",
    "- list method : 메서드를 실행하고 실행결과를 변수에 적용합니다\n",
    "    - sort : 리스트를 정렬합니다\n",
    "    - reverse : 리스트를 역정렬합니다\n",
    "- buit-in function : 실행결과를 적용하지 않고 출력만 수행합니다 / key 옵션으로 정렬 기준을 지정할 수 있습니다 (matrix를 열 단위 정렬할 떄 사용합니다)\n",
    "    - sorted\n",
    "    - reversed"
   ]
  },
  {
   "cell_type": "code",
   "execution_count": 28,
   "id": "2b383a61-25ef-43cf-96d4-d3ea4bf1a79b",
   "metadata": {},
   "outputs": [
    {
     "name": "stdout",
     "output_type": "stream",
     "text": [
      "[9, 8, 7, 6, 5, 3, 2, 1]\n"
     ]
    }
   ],
   "source": [
    "l = [3, 1, 6, 5, 2, 8, 7, 9]\n",
    "l.sort()\n",
    "l.reverse() # 역정렬 l.sort(reverse = True)과 동작이 같음\n",
    "print(l)"
   ]
  },
  {
   "cell_type": "code",
   "execution_count": 33,
   "id": "b56f0ab3-e31e-4960-9742-209e916dc954",
   "metadata": {},
   "outputs": [
    {
     "name": "stdout",
     "output_type": "stream",
     "text": [
      "[9, 7, 8, 2, 5, 6, 1, 3]\n",
      "[1, 2, 3, 5, 6, 7, 8, 9]\n",
      "[9, 8, 7, 6, 5, 3, 2, 1]\n"
     ]
    }
   ],
   "source": [
    "l = [3, 1, 6, 5, 2, 8, 7, 9]\n",
    "\n",
    "print(list(reversed(l)))\n",
    "print(sorted(l))\n",
    "print(sorted(l, reverse = True))"
   ]
  },
  {
   "cell_type": "code",
   "execution_count": 36,
   "id": "f8c982a3-6745-480b-aa7d-150ea7f2e13b",
   "metadata": {},
   "outputs": [
    {
     "name": "stdout",
     "output_type": "stream",
     "text": [
      "[[55, 11, 'sun'], [20, 30, 'hojun'], [10, 20, 'weniv'], [1, 10, 'leehojun'], [1, 2, 'likelion']]\n",
      "[[55, 11, 'sun'], [20, 30, 'hojun'], [10, 20, 'weniv'], [1, 10, 'leehojun'], [1, 2, 'likelion']]\n",
      "[[1, 2, 'likelion'], [1, 10, 'leehojun'], [10, 20, 'weniv'], [20, 30, 'hojun'], [55, 11, 'sun']]\n",
      "[[1, 10, 'leehojun'], [1, 2, 'likelion'], [10, 20, 'weniv'], [20, 30, 'hojun'], [55, 11, 'sun']]\n",
      "[[1, 2, 'likelion'], [1, 10, 'leehojun'], [10, 20, 'weniv'], [20, 30, 'hojun'], [55, 11, 'sun']]\n",
      "[[1, 2, 'likelion'], [1, 10, 'leehojun'], [55, 11, 'sun'], [10, 20, 'weniv'], [20, 30, 'hojun']]\n"
     ]
    }
   ],
   "source": [
    "l = [[1, 10, 'leehojun'], \n",
    "     [20, 30, 'hojun'], \n",
    "     [10, 20, 'weniv'], \n",
    "     [1, 2, 'likelion'], \n",
    "     [55, 11, 'sun']]\n",
    "\n",
    "# 1. 글자 수 대로 정렬해주세요.\n",
    "def 함수(x):\n",
    "    return len(x[2])\n",
    "\n",
    "print(list(sorted(l, key=함수)))\n",
    "print(list(sorted(l, key=lambda x: len(x[2]))))\n",
    "\n",
    "# 2. 맨 앞에 위치한 숫자대로 정렬해주세요.\n",
    "def 함수2(x):\n",
    "    return x[0]\n",
    "\n",
    "print(list(sorted(l)))\n",
    "print(list(sorted(l, key=함수2)))\n",
    "\n",
    "# 3. 중앙에 위치한 값대로 정렬해주세요.\n",
    "def 함수3(x):\n",
    "    return x[1]\n",
    "\n",
    "print(list(sorted(l)))\n",
    "print(list(sorted(l, key=함수3)))"
   ]
  },
  {
   "cell_type": "code",
   "execution_count": 37,
   "id": "9e81f70c-c730-408c-a100-8300cb9a7d9a",
   "metadata": {},
   "outputs": [
    {
     "name": "stdout",
     "output_type": "stream",
     "text": [
      "[[1, 2, 13], [1, 10, 32], [10, 20, 22], [20, 30, 11], [55, 11, 44]]\n",
      "[[1, 2, 13], [1, 10, 32], [10, 20, 22], [20, 30, 11], [55, 11, 44]]\n",
      "[[1, 2, 13], [1, 10, 32], [10, 20, 22], [20, 30, 11], [55, 11, 44]]\n"
     ]
    }
   ],
   "source": [
    "l = [[1, 10, 32], \n",
    "     [20, 30, 11], \n",
    "     [10, 20, 22], \n",
    "     [1, 2, 13], \n",
    "     [55, 11, 44]]\n",
    "\n",
    "\n",
    "# 4. 3개의 전체 합대로 출력해주세요.\n",
    "def 함수4(x):\n",
    "    return sum(x)\n",
    "\n",
    "print(list(sorted(l, key=함수4)))\n",
    "print(list(sorted(l, key=lambda x:sum(x))))\n",
    "print(list(sorted(l, key=sum)))"
   ]
  },
  {
   "cell_type": "markdown",
   "id": "ac9f0be4-dd88-4401-bcd4-ff72da86c903",
   "metadata": {},
   "source": [
    "# 4.2 다차원 리스트와 Built-in function, range, list comprehension"
   ]
  },
  {
   "cell_type": "markdown",
   "id": "3d425bbc-54bd-430b-9fd8-5cac705934eb",
   "metadata": {},
   "source": [
    "## 다차원 리스트와 Built-in functions\n",
    "\n",
    "리스트 안에 리스트를 만들어 여러 차원의 데이터를 만들 수 있습니다</br>\n",
    "많이 쓰이는 형태로는 엑셀과 같이 행과 열이 있는 형태이며 이러한 table 형태의 값은 2차원으로 표현됩니다"
   ]
  },
  {
   "cell_type": "code",
   "execution_count": 104,
   "id": "76419fd0-791e-47b0-85d4-1eaa80e4726a",
   "metadata": {},
   "outputs": [
    {
     "name": "stdout",
     "output_type": "stream",
     "text": [
      "<class 'int'>\n",
      "<class 'list'>\n",
      "<class 'list'>\n",
      "<class 'list'>\n"
     ]
    }
   ],
   "source": [
    "3       #상수(스칼라)\n",
    "[2]     #1차원 리스트(Vector)\n",
    "[[2]]   #2차원 리스트(Matrix)\n",
    "[[[3]]] #3차원 리스트(Tensor)"
   ]
  },
  {
   "cell_type": "code",
   "execution_count": 109,
   "id": "7458349a-9ea8-457e-97bf-f13a1040e673",
   "metadata": {},
   "outputs": [
    {
     "name": "stdout",
     "output_type": "stream",
     "text": [
      "<class 'list'>\n"
     ]
    }
   ],
   "source": [
    "#1차원 리스트\n",
    "one_dimensional_list = [4, 2, 1, 3]\n",
    "print(type(a))"
   ]
  },
  {
   "cell_type": "code",
   "execution_count": 110,
   "id": "2022bcd2-c62a-49a6-9ff0-ee7f4493370f",
   "metadata": {},
   "outputs": [
    {
     "name": "stdout",
     "output_type": "stream",
     "text": [
      "[[1, 2], [1, 2], [1, 2]]\n",
      "[1, 2]\n"
     ]
    }
   ],
   "source": [
    "#2차원 리스트\n",
    "two_dimensional_list = [[1, 2, 3],\n",
    "                        [11, 22, 33],\n",
    "                        [10, 20, 30]]\n",
    "\n",
    "print(a[0])\n",
    "print(a[0][0])"
   ]
  },
  {
   "cell_type": "code",
   "execution_count": 111,
   "id": "ecf7452b-3d57-485a-b4b3-931731b830f2",
   "metadata": {},
   "outputs": [
    {
     "name": "stdout",
     "output_type": "stream",
     "text": [
      "[[10, 2], [1, 2], [1, 2]]\n",
      "[10, 2]\n",
      "10\n"
     ]
    }
   ],
   "source": [
    "#3차원 리스트\n",
    "three_dimensional_list = [[[1, 2], [1, 2], [1, 2]],\n",
    "                          [[10, 2], [1, 2], [1, 2]]]\n",
    "\n",
    "print(a[1])\n",
    "print(a[1][0])\n",
    "print(a[1][0][0])"
   ]
  },
  {
   "cell_type": "code",
   "execution_count": 113,
   "id": "4010dd92-cac9-4a17-871e-848c9f05815c",
   "metadata": {},
   "outputs": [
    {
     "name": "stdout",
     "output_type": "stream",
     "text": [
      "4\n",
      "[1, 2, 3]\n"
     ]
    },
    {
     "ename": "TypeError",
     "evalue": "unsupported operand type(s) for +: 'int' and 'list'",
     "output_type": "error",
     "traceback": [
      "\u001b[0;31m---------------------------------------------------------------------------\u001b[0m",
      "\u001b[0;31mTypeError\u001b[0m                                 Traceback (most recent call last)",
      "Input \u001b[0;32mIn [113]\u001b[0m, in \u001b[0;36m<cell line: 3>\u001b[0;34m()\u001b[0m\n\u001b[1;32m      1\u001b[0m \u001b[38;5;28mprint\u001b[39m(\u001b[38;5;28mmax\u001b[39m(one_dimensional_list))\n\u001b[1;32m      2\u001b[0m \u001b[38;5;28mprint\u001b[39m(\u001b[38;5;28mmin\u001b[39m(two_dimensional_list))\n\u001b[0;32m----> 3\u001b[0m \u001b[38;5;28mprint\u001b[39m(\u001b[38;5;28;43msum\u001b[39;49m\u001b[43m(\u001b[49m\u001b[43mthree_dimensional_list\u001b[49m\u001b[43m)\u001b[49m)\n",
      "\u001b[0;31mTypeError\u001b[0m: unsupported operand type(s) for +: 'int' and 'list'"
     ]
    }
   ],
   "source": [
    "print(max(one_dimensional_list))\n",
    "print(min(two_dimensional_list))   # 리스트의 첫번째 값을 기준으로 출력됩니다\n",
    "print(sum(three_dimensional_list)) # 2차원 이상에서는 list와 다른 형태의 sum을 계산할 수 없으므로 error 발생"
   ]
  },
  {
   "cell_type": "code",
   "execution_count": 129,
   "id": "9114d9eb-f2bf-417c-bc74-ea37140d0b0c",
   "metadata": {},
   "outputs": [
    {
     "name": "stdin",
     "output_type": "stream",
     "text": [
      "평균을 구할 5개의 숫자를 콤마(,)로 구분해서 입력해주세요 1, 2, 3, 4, 5\n"
     ]
    },
    {
     "data": {
      "text/plain": [
       "3.0"
      ]
     },
     "execution_count": 129,
     "metadata": {},
     "output_type": "execute_result"
    }
   ],
   "source": [
    "# 연습문제 1. 정수 5개를 Input으로 리스트형태로 입력받아서 평균을 내보기\n",
    "\n",
    "test_list = list(input('평균을 구할 5개의 숫자를 콤마(,)로 구분해서 입력해주세요').replace(', ', ',').split(','))\n",
    "test_list = list(map(int, test_list))\n",
    "\n",
    "sum(test_list)/len(test_list)"
   ]
  },
  {
   "cell_type": "code",
   "execution_count": 189,
   "id": "2c587905-838c-4283-acea-5c37b38f0f91",
   "metadata": {},
   "outputs": [
    {
     "name": "stdin",
     "output_type": "stream",
     "text": [
      "평균을 구할 5개의 숫자를 콤마(,)로 구분해서 입력해주세요 1, 2, 3, 4, 5\n"
     ]
    },
    {
     "data": {
      "text/plain": [
       "3.0"
      ]
     },
     "execution_count": 189,
     "metadata": {},
     "output_type": "execute_result"
    }
   ],
   "source": [
    "test_list = [int(i) for i in input('평균을 구할 5개의 숫자를 콤마(,)로 구분해서 입력해주세요').replace(', ', ',').split(',')]\n",
    "sum(test_list)/len(test_list)"
   ]
  },
  {
   "cell_type": "code",
   "execution_count": 125,
   "id": "a0efb333-a589-4563-8722-7dfb16010a85",
   "metadata": {},
   "outputs": [
    {
     "name": "stdout",
     "output_type": "stream",
     "text": [
      "[1, 2, 3] 1 2 3\n"
     ]
    }
   ],
   "source": [
    "t = [1, 2, 3]  # 패킹\n",
    "a, b, c = t    # 언패킹\n",
    "\n",
    "print(t, a, b, c)"
   ]
  },
  {
   "cell_type": "markdown",
   "id": "fe9fa4b9-bf19-4a74-86c2-de950fad45f2",
   "metadata": {},
   "source": [
    "## range\n",
    "\n",
    "range는 범위를 표연하는 용도로 많이 사용됩니다</br>\n",
    "python 2.x에서는 range자료형이 list였지만, 3.x에 와서는 range가 되었습니다</br>\n",
    "이는 메모리를 효율적으로 다루기 위함입니다</br>\n",
    "range는 다음 값만 지칭해주기  때문에 메모리 효율이 좋습니다\n",
    "\n",
    "range(start, stop, step)</br>\n",
    "start에서 stop-1까지 step의 간격으로 값을 출력하겠다는 의미입니다"
   ]
  },
  {
   "cell_type": "code",
   "execution_count": 118,
   "id": "51b0a19e-0bda-40a8-8d3b-3d5d7216d162",
   "metadata": {},
   "outputs": [
    {
     "name": "stdout",
     "output_type": "stream",
     "text": [
      "[0, 1, 2, 3, 4, 5, 6, 7, 8, 9]\n",
      "[0, 2, 4, 6, 8, 10]\n",
      "[1, 3, 5, 7, 9]\n",
      "[10, 8, 6, 4, 2]\n"
     ]
    }
   ],
   "source": [
    "print(list(range(10)))\n",
    "\n",
    "print(list(range(0, 11, 2))) #짝수\n",
    "print(list(range(1, 11, 2))) #홀수\n",
    "\n",
    "print(list(range(10, 1, -2)))"
   ]
  },
  {
   "cell_type": "markdown",
   "id": "36f3c654-8b64-404b-a8af-65cd7ef8ed9c",
   "metadata": {},
   "source": [
    "## List comprehension\n",
    "\n",
    "append를 사용하지 않고 빠르게 리스트를 만드는 방법으로 list comprehension 기법을 사용합니다</br>\n",
    "\n",
    "***일반적으로 list comprehension이 for문보다 빠릅니다***</br>\n",
    "list comprehension이 내부적으로 C로 구현되어 있어서 더욱 효율적인 속도를 보이기 때문입니다</br>\n",
    "하지만, 데이터 크기가 작을 경우에는 둘의 속도 차이가 크지 않습니다\n",
    "\n",
    "***for문을 사용하면 가독성이 높아질 수 있습니다***</br>\n",
    "복잡한 로직을 쉽게 처리할 수 있어서 가독성이 높아질 수 있습니다</br>\n",
    "따라서 어떤 방법을 선택할지는 사용하는 데이터의 크기와 로직의 복잡도 등에 따라 달라질 수 있습니다\n",
    "\n",
    "***최적의 방법을 찾으려면, 실험을 진행하여 각 방법의 속도를 측정해 보는 것이 좋습니다***</br>\n",
    "단, 데이터 크기가 클 경우에는 속도 측면에서 list comprehension이 좀 더 유리할 수 있습니다"
   ]
  },
  {
   "cell_type": "code",
   "execution_count": 121,
   "id": "ca924d19-2ed4-430f-a570-e8bfe540c316",
   "metadata": {},
   "outputs": [
    {
     "name": "stdout",
     "output_type": "stream",
     "text": [
      "[0, 1, 2, 3, 4, 5, 6, 7, 8, 9] \n",
      " [0, 1, 2, 3, 4, 5, 6, 7, 8, 9]\n"
     ]
    }
   ],
   "source": [
    "l = []\n",
    "for i in range(10):\n",
    "    l.append(i)\n",
    "\n",
    "ll = [i for i in range(10)]\n",
    "\n",
    "print(l, '\\n', ll)"
   ]
  },
  {
   "cell_type": "markdown",
   "id": "f4d3b717-dabd-45e6-9d7c-00f550d975ea",
   "metadata": {},
   "source": [
    "## 다양한 방식의 리스트 출력: enumerate\n",
    "\n",
    "데이터 분석 과정에서는 개인정보 보호를 위해 민감한 정보를 마스킹하여 처리하는 경우가 많습니다</br>\n",
    "이 때 enumerate함수를 활용하면 마스킹된 데이터의 인덱스와 값을 동시에 다룰 수 있습니다\n",
    "\n",
    "```python\n",
    "import pandas as pd\n",
    "\n",
    "data = {'name': ['Alice', 'Bob', 'Charlie', 'Dave'],\n",
    "        'age': [25, 30, 35, 40],\n",
    "        'ssn': ['111-11-1111', '222-22-2222', '333-33-3333', '444-44-4444']}\n",
    "\n",
    "df = pd.DataFrame(data)\n",
    "```\n",
    "\n",
    "위와 같은 데이터프레임이 있다고 가정합니다</br>\n",
    "ssn 속성에 주민등록번호와 같은 민감한 개인정보가 포함되어 있을때, 마스킹하여 인덱스와 함께 출력할 수 있습니다\n",
    "\n",
    "```python\n",
    "for idx, row in enumerate(df.itertuples(), 1):\n",
    "    print(\"Row {}: name={}, age={}, ssn=***-**-{}\".format(idx, row.name, row.age, row.ssn[-4:]))\n",
    "```\n",
    "\n",
    "itertuples() 메서드를 사용하여 각 행에 대해 namedtuple 객체를 생성합니다</br>\n",
    "위 코드에서 df.intertuples() 객체가 반환하는 값은 다음과 같습니다</br>\n",
    "\n",
    "Pandas(Index=0, name='Alice', age=25, ssn='111-11-1111')</br>\n",
    "Pandas(Index=1, name='Bob', age=30, ssn='222-22-2222')</br>\n",
    "Pandas(Index=2, name='Charlie', age=35, ssn='333-33-3333')</br>\n",
    "Pandas(Index=3, name='Dave', age=40, ssn='444-44-4444')</br>"
   ]
  },
  {
   "cell_type": "code",
   "execution_count": 186,
   "id": "10c6e033-e9e9-4ea5-b06c-10902f0f65fd",
   "metadata": {},
   "outputs": [
    {
     "name": "stdout",
     "output_type": "stream",
     "text": [
      "Index: 0, Value: 10\n",
      "Index: 1, Value: 20\n",
      "Index: 2, Value: 30\n",
      "Index: 3, Value: 40\n",
      "Index: 4, Value: 50\n"
     ]
    }
   ],
   "source": [
    "data = [10, 20, 30, 40, 50]\n",
    "\n",
    "for idx, value in enumerate(data):\n",
    "    print(\"Index: {}, Value: {}\".format(idx, value))"
   ]
  },
  {
   "cell_type": "markdown",
   "id": "90b2abbd-4690-411d-862f-5aa23ed06e1a",
   "metadata": {},
   "source": [
    "# 4.3 튜플\n",
    "\n",
    "- 튜플은 순서가 있는 시퀀스형 자료형입니다\n",
    "- 참조값은 변경이 불가능(immutable) 합니다 / tuple() * or + 와 같은 값의 증가는 가능합니다\n",
    "- 다른 자료형을 입력할 수 있으며, 튜플 안에 튜플로 다차원의 튜플을 만드는 것도 가능합니다\n",
    "- 값의 중복을 허락합니다\n",
    "\n",
    "변경가능한 자료형을(예를 들어 튜플) 불가능한 자료형(예를 들어 리스트) 안에 넣는 것은 좋은 선택은 아닙니다"
   ]
  },
  {
   "cell_type": "code",
   "execution_count": 135,
   "id": "ec731122-b77f-45bf-9dfd-89f81740376f",
   "metadata": {},
   "outputs": [
    {
     "name": "stdout",
     "output_type": "stream",
     "text": [
      "a\n"
     ]
    },
    {
     "ename": "TypeError",
     "evalue": "'tuple' object does not support item assignment",
     "output_type": "error",
     "traceback": [
      "\u001b[0;31m---------------------------------------------------------------------------\u001b[0m",
      "\u001b[0;31mTypeError\u001b[0m                                 Traceback (most recent call last)",
      "Input \u001b[0;32mIn [135]\u001b[0m, in \u001b[0;36m<cell line: 5>\u001b[0;34m()\u001b[0m\n\u001b[1;32m      1\u001b[0m test \u001b[38;5;241m=\u001b[39m (\u001b[38;5;124m'\u001b[39m\u001b[38;5;124ma\u001b[39m\u001b[38;5;124m'\u001b[39m, \u001b[38;5;124m'\u001b[39m\u001b[38;5;124mb\u001b[39m\u001b[38;5;124m'\u001b[39m, \u001b[38;5;124m'\u001b[39m\u001b[38;5;124mc\u001b[39m\u001b[38;5;124m'\u001b[39m)\n\u001b[1;32m      3\u001b[0m \u001b[38;5;28mprint\u001b[39m(test[\u001b[38;5;241m0\u001b[39m])\n\u001b[0;32m----> 5\u001b[0m test[\u001b[38;5;241m0\u001b[39m] \u001b[38;5;241m=\u001b[39m \u001b[38;5;124m'\u001b[39m\u001b[38;5;124md\u001b[39m\u001b[38;5;124m'\u001b[39m\n\u001b[1;32m      6\u001b[0m \u001b[38;5;28mprint\u001b[39m(test)\n",
      "\u001b[0;31mTypeError\u001b[0m: 'tuple' object does not support item assignment"
     ]
    }
   ],
   "source": [
    "test = ('a', 'b', 'c')\n",
    "\n",
    "print(test[0])\n",
    "\n",
    "test[0] = 'd'\n",
    "print(test)"
   ]
  },
  {
   "cell_type": "code",
   "execution_count": 134,
   "id": "2656207a-8657-4445-ac4e-a208054eaced",
   "metadata": {},
   "outputs": [
    {
     "data": {
      "text/plain": [
       "('a', 'b', 'c', 'a', 'b', 'c', 'a', 'b', 'c')"
      ]
     },
     "execution_count": 134,
     "metadata": {},
     "output_type": "execute_result"
    }
   ],
   "source": [
    "test * 3"
   ]
  },
  {
   "cell_type": "code",
   "execution_count": 133,
   "id": "0b014a6e-965a-4aed-b212-36fb3e8e822f",
   "metadata": {},
   "outputs": [
    {
     "data": {
      "text/plain": [
       "('a', 'b', 'c', 'a', 'b', 'c')"
      ]
     },
     "execution_count": 133,
     "metadata": {},
     "output_type": "execute_result"
    }
   ],
   "source": [
    "test + test"
   ]
  },
  {
   "cell_type": "code",
   "execution_count": 136,
   "id": "72090314-e5a6-42e8-9714-160cb49b793e",
   "metadata": {},
   "outputs": [
    {
     "name": "stdout",
     "output_type": "stream",
     "text": [
      "<class 'tuple'>\n"
     ]
    }
   ],
   "source": [
    "# *주의*\n",
    "\n",
    "test = 1, 2, 3    # 이와 같이 정의해도 tuple로 인식합니다\n",
    "print(type(test))"
   ]
  },
  {
   "cell_type": "code",
   "execution_count": 229,
   "id": "b39333a8-5c22-4e50-92f1-7426d00e12ad",
   "metadata": {},
   "outputs": [
    {
     "name": "stdout",
     "output_type": "stream",
     "text": [
      "True\n",
      "True\n",
      "True\n",
      "False\n",
      "True\n",
      "True\n",
      "False\n"
     ]
    }
   ],
   "source": [
    "print((1, 2) < (1, 3))  # True, 첫번째 요소가 같으므로 두번째 요소를 비교하여 2 < 3이므로 True\n",
    "print((1, 2) < (2, 1))  # True, 첫번째 요소를 비교하여 1 < 2이므로 True\n",
    "print((1, 2, 3) > (1, 2))  # True, 두번째 요소까지 같으므로 세번째 요소를 비교하여 3 > 없으므로 True\n",
    "print(('apple', 'banana') > ('apple', 'bee'))  # True, 두번째 요소까지 같으므로 세번째 요소인 'b'와 'e'를 비교하여 'b' > 'e'이므로 True\n",
    "\n",
    "list1 = [1, 2, 3]\n",
    "list2 = [1, 3, 2]\n",
    "list3 = [1, 2, 3, 4]\n",
    "\n",
    "print(list1 < list2) # True\n",
    "print(list1 < list3) # True\n",
    "print(list2 < list3) # False"
   ]
  },
  {
   "cell_type": "markdown",
   "id": "59396d55-2862-4fd5-8aa3-702302498ddf",
   "metadata": {},
   "source": [
    "## 튜플의 메서드\n",
    "\n",
    "변경이 불가능 하기 때문에 사용 할 수 있는 method가 제한적입니다"
   ]
  },
  {
   "cell_type": "code",
   "execution_count": 137,
   "id": "17f10b5a-9af5-47a5-a137-5f5cf334f9d5",
   "metadata": {},
   "outputs": [
    {
     "name": "stdout",
     "output_type": "stream",
     "text": [
      "1\n",
      "4\n"
     ]
    }
   ],
   "source": [
    "t = (1, 2, 3, 4, 5, 6)\n",
    "\n",
    "print(t.count(1))\n",
    "print(t.index(5))"
   ]
  },
  {
   "cell_type": "markdown",
   "id": "f9380e98-fe44-4756-b1e7-50b5f747a817",
   "metadata": {},
   "source": [
    "# +) 시퀀스 자료형 비교연산\n",
    "\n",
    "시퀀스 자료형은 비교 연산(리스트, 튜플)이 가능합니다</br>\n",
    "튜플은 첫번째 요소부터 차례대로 비교하다가, 같은 요소를 찾을 때까지 비교합니다</br>\n",
    "만약 같은 요소가 없다면 길이가 짧은 쪽이 작은 것으로 판단됩니다\n",
    "\n",
    ">딕셔너리 자료형은 비교 연산을 지원하지 않습니다</br>딕셔너리 간의 동등성 비교는 == 연산자를 사용하여 가능합니다. 두 딕셔너리가 같은 키와 값으로 이루어져 있으면 True를 반환하고, 그렇지 않으면 False를 반환합니다.\n",
    "\n",
    "```python\n",
    "from collections import OrderedDict\n",
    "\n",
    "# 두 개의 dictionary 객체 생성\n",
    "dict1 = {'a': 1, 'b': 2, 'c': 3}\n",
    "dict2 = {'b': 2, 'c': 3, 'a': 1}\n",
    "\n",
    "# 두 개의 OrderedDict 객체 생성\n",
    "odict1 = OrderedDict([('a', 1), ('b', 2), ('c', 3)])\n",
    "odict2 = OrderedDict([('a', 1), ('c', 3), ('b', 2)])\n",
    "\n",
    "print(dict1 == dict2)    # True\n",
    "print(odict1 == odict2)  # False\n",
    "```\n",
    "\n",
    ">딕셔너리의 키와 값의 순서가 중요한 경우,</br>\n",
    "collections.OrderedDict 클래스를 사용할 수 있습니다</br>\n",
    "이 클래스는 딕셔너리와 유사하지만, 삽입 순서가 유지되므로 키와 값의 순서가 중요한 경우 사용할 수 있습니다"
   ]
  },
  {
   "cell_type": "markdown",
   "id": "4540e799-febe-433f-b828-69ae29d6c945",
   "metadata": {},
   "source": [
    "# 4.4 딕셔너리\n",
    "\n",
    "- 딕셔너리는 순서가 없는 자료형입니다\n",
    "- 사전형은 Key와 Value 가 하나의 묶음으로 이루어진 자료 체계입니다 { key : value }\n",
    "- 값의 변경이 가능합니다\n",
    "- 다른 자료형을 입력할 수 있습니다\n",
    "- 키의 중복은 허락하지 않고, 값의 중복을 허락합니다\n",
    "\n",
    "다른 프로그래밍 언어에서는 Hash, Map 등 다른 용어로 불리기도 합니다"
   ]
  },
  {
   "cell_type": "code",
   "execution_count": null,
   "id": "971b8e82-a992-4e4a-a92f-1818c86b04be",
   "metadata": {},
   "outputs": [],
   "source": [
    "dictionary = { 'key1': 'value1', 'key2': 'value2', 'key3': 'value3' }"
   ]
  },
  {
   "cell_type": "code",
   "execution_count": 139,
   "id": "d5e32802-d7ae-401e-9f58-0fb68e71ef9c",
   "metadata": {},
   "outputs": [
    {
     "name": "stdout",
     "output_type": "stream",
     "text": [
      "{'one': '하나', 'two': '둘'}\n",
      "{'name': 'leehojun', 'age': 10}\n"
     ]
    }
   ],
   "source": [
    "dictionary = dict([('one' , '하나'), ('two', '둘')]) #대괄호를 이용하여 키와 value를 구별해야 합니다.\n",
    "print(dictionary)\n",
    "\n",
    "dictionary = dict(name = 'leehojun',age = 10)\n",
    "print(dictionary)"
   ]
  },
  {
   "cell_type": "code",
   "execution_count": 140,
   "id": "da22a0ec-6827-40eb-818c-affb02dc6771",
   "metadata": {},
   "outputs": [
    {
     "name": "stdout",
     "output_type": "stream",
     "text": [
      "[('A', '1', 'a'), ('B', '2', 'b'), ('C', '3', 'c')]\n",
      "{'A': '1', 'B': '2', 'C': '3'}\n"
     ]
    }
   ],
   "source": [
    "print(list(zip('ABC', '123', 'abc')))\n",
    "\n",
    "print(dict(zip('ABC', '123'))) #형변환"
   ]
  },
  {
   "cell_type": "markdown",
   "id": "3ca6be29-60b5-472c-b4d8-7375729f1072",
   "metadata": {},
   "source": [
    "**key값으로 value를 호출할 수 있지만, value로 key값을 호출할 수 없습니다**\n",
    "\n",
    "**key값으로 리스트를 사용할 순 없지만, 튜플은 키값으로 사용할 수 있습니다**"
   ]
  },
  {
   "cell_type": "code",
   "execution_count": 138,
   "id": "b35509b8-1722-444e-b405-a80cf302ba64",
   "metadata": {},
   "outputs": [
    {
     "name": "stdout",
     "output_type": "stream",
     "text": [
      "하나\n",
      "{'one': 1, 'two': '둘', 'three': '셋'}\n"
     ]
    }
   ],
   "source": [
    "dictionary = {'one' : '하나', 'two' : '둘', 'three' : '셋'}\n",
    "\n",
    "print(dictionary['one'])\n",
    "dictionary['one'] = 1\n",
    "print(dictionary)"
   ]
  },
  {
   "cell_type": "code",
   "execution_count": 143,
   "id": "9e60adda-41eb-4a2a-b180-85e9d644c190",
   "metadata": {},
   "outputs": [
    {
     "name": "stdout",
     "output_type": "stream",
     "text": [
      "{(1, 3): 10293, (1, 2): 39492, (1, 1): 49377, (1, 4): 12375}\n"
     ]
    }
   ],
   "source": [
    "map_check = {\n",
    "    (1, 3): 10293,\n",
    "    (1, 2): 39492,\n",
    "    (1, 1): 49377,\n",
    "    (1, 4): 12375\n",
    "}\n",
    "\n",
    "print(map_check)"
   ]
  },
  {
   "cell_type": "markdown",
   "id": "b0271926-3438-45b8-9e91-d2b350b7b13c",
   "metadata": {},
   "source": [
    "### zip\n",
    "\n",
    "파이썬 **내장 함수** 중 하나로,</br>\n",
    "여러 개의 iterable(반복 가능한 객체)를 받아서 각 iterable에서 같은 index에 있는 요소들을 묶어서 튜플 형태의 새로운 iterable을 생성합니다\n",
    "\n",
    ">zip() 함수는 여러 개의 iterable을 동시에 처리해야 하는 경우, </br>특히 for문에서 여러 개의 리스트를 동시에 순회할 때 유용하게 사용됩니다"
   ]
  },
  {
   "cell_type": "code",
   "execution_count": 225,
   "id": "e47ea2a1-877f-4913-815f-7cd3c85fd684",
   "metadata": {},
   "outputs": [
    {
     "name": "stdout",
     "output_type": "stream",
     "text": [
      "name :  김태호\n",
      "age :  30\n",
      "gender :  M\n"
     ]
    }
   ],
   "source": [
    "key = ['name', 'age', 'gender']\n",
    "value = ['김태호', '30', 'M']\n",
    "\n",
    "for i, j in zip(key, value):\n",
    "    print(i, ': ', j)"
   ]
  },
  {
   "cell_type": "code",
   "execution_count": 226,
   "id": "7a31e7b6-f3a4-4552-ba53-f4d941711384",
   "metadata": {},
   "outputs": [
    {
     "data": {
      "text/plain": [
       "[('name', '김태호'), ('age', '30'), ('gender', 'M')]"
      ]
     },
     "execution_count": 226,
     "metadata": {},
     "output_type": "execute_result"
    }
   ],
   "source": [
    "l_zip = list(zip(key, value))\n",
    "l_zip"
   ]
  },
  {
   "cell_type": "markdown",
   "id": "8fa95bed-fa63-4503-8659-59d05628156d",
   "metadata": {},
   "source": [
    "## 딕셔너리 메서드\n",
    "\n",
    "- keys : 자료형에 있는 key 값들을 dict_keys 객체로 반환합니다\n",
    "- values : 자료형에 있는 value 값들을 dict_values 객체로 반환합니다\n",
    "- items : 자료형에 있는 key와 value를 리스트 형태의 dict_items 객체로 반환합니다\n",
    "- get : key값으로 value값을 호출하고 싶다면 get을 사용하여 호출합니다\n",
    "- fromkeys : 딕셔너리 자료형을 생성하는 메서드입니다. value에 지정한 값을 각 key에 공통적으로 입력합니다\n",
    "- update : 기존 데이터의 value를 변경하기 위해 사용합니다\n",
    "- del : 요소를 삭제하고 싶을때 사용합니다"
   ]
  },
  {
   "cell_type": "markdown",
   "id": "4b56e4ef-538b-4c11-96d5-1fc8fe0b3142",
   "metadata": {},
   "source": [
    "### keys\n",
    "\n",
    "자료형에 있는 key 값들을 dict_keys 객체로 반환합니다"
   ]
  },
  {
   "cell_type": "code",
   "execution_count": 144,
   "id": "3beefab2-296f-423f-9926-dbd93864ad6f",
   "metadata": {},
   "outputs": [
    {
     "name": "stdout",
     "output_type": "stream",
     "text": [
      "dict_keys([(1, 3), (1, 2), (1, 1), (1, 4)])\n"
     ]
    }
   ],
   "source": [
    "map_check = {\n",
    "    (1, 3): 10293,\n",
    "    (1, 2): 39492,\n",
    "    (1, 1): 49377,\n",
    "    (1, 4): 12375\n",
    "}\n",
    "\n",
    "print(map_check.keys())"
   ]
  },
  {
   "cell_type": "markdown",
   "id": "c1ffc13b-bbf7-4639-9780-1ea725628dfd",
   "metadata": {},
   "source": [
    "### values\n",
    "\n",
    "자료형에 있는 value 값들을 dict_values 객체로 반환합니다"
   ]
  },
  {
   "cell_type": "code",
   "execution_count": 145,
   "id": "f1294371-1eaf-4a63-88ff-e7c8c343b5c3",
   "metadata": {},
   "outputs": [
    {
     "name": "stdout",
     "output_type": "stream",
     "text": [
      "dict_values([10293, 39492, 49377, 12375])\n"
     ]
    }
   ],
   "source": [
    "map_check = {\n",
    "    (1, 3): 10293,\n",
    "    (1, 2): 39492,\n",
    "    (1, 1): 49377,\n",
    "    (1, 4): 12375\n",
    "}\n",
    "\n",
    "print(map_check.values())"
   ]
  },
  {
   "cell_type": "markdown",
   "id": "f4adb003-4516-43cf-81b7-7d8023cc5c8b",
   "metadata": {},
   "source": [
    "## items\n",
    "\n",
    "자료형에 있는 key와 value를 리스트 형태의 dict_items 객체로 반환합니다"
   ]
  },
  {
   "cell_type": "code",
   "execution_count": 146,
   "id": "4e3f7321-1a3b-4f58-abe4-3208fa1b53e4",
   "metadata": {},
   "outputs": [
    {
     "name": "stdout",
     "output_type": "stream",
     "text": [
      "dict_items([((1, 3), 10293), ((1, 2), 39492), ((1, 1), 49377), ((1, 4), 12375)])\n"
     ]
    }
   ],
   "source": [
    "map_check = {\n",
    "    (1, 3): 10293,\n",
    "    (1, 2): 39492,\n",
    "    (1, 1): 49377,\n",
    "    (1, 4): 12375\n",
    "}\n",
    "\n",
    "print(map_check.items())"
   ]
  },
  {
   "cell_type": "markdown",
   "id": "09fb44a2-a1c9-4c43-8edb-18b1e4070c72",
   "metadata": {},
   "source": [
    "**원하는 Key가 있는지 찾아볼 때에는 in 을 활용할 수 있습니다**"
   ]
  },
  {
   "cell_type": "code",
   "execution_count": 147,
   "id": "7f4eaa82-b689-4262-9822-ad6d3e1d55e1",
   "metadata": {},
   "outputs": [
    {
     "name": "stdout",
     "output_type": "stream",
     "text": [
      "True\n",
      "False\n"
     ]
    }
   ],
   "source": [
    "my_score = {\n",
    "    'korean': 90,\n",
    "    'english': 80,\n",
    "    'math': 100\n",
    "}\n",
    "\n",
    "print('math' in my_score)\n",
    "print('science' in my_score)"
   ]
  },
  {
   "cell_type": "markdown",
   "id": "1d80a2eb-95fd-4895-85de-819231d1db19",
   "metadata": {},
   "source": [
    "### get\n",
    "\n",
    "key값으로 value값을 호출하고 싶다면 get을 사용하여 호출합니다"
   ]
  },
  {
   "cell_type": "code",
   "execution_count": 148,
   "id": "9b30d3ac-e049-4e74-8463-2aa35256bb92",
   "metadata": {},
   "outputs": [
    {
     "name": "stdout",
     "output_type": "stream",
     "text": [
      "Wed\n"
     ]
    }
   ],
   "source": [
    "def switch(x):\n",
    "    return {1 : 'Mon',\n",
    "            2 : 'Tue',\n",
    "            3 : 'Wed',\n",
    "            4 : 'Thu'\n",
    "            }.get(x)\n",
    "print(switch(3))"
   ]
  },
  {
   "cell_type": "markdown",
   "id": "439d28d6-eef7-4f26-b1cf-2dd2cec4fc42",
   "metadata": {},
   "source": [
    "### fromkeys\n",
    "\n",
    "딕셔너리 자료형을 생성하는 메서드입니다\n",
    "```python\n",
    "dict.fromkeys(iterable, value=None)\n",
    "```\n",
    "value에 지정한 값을 각 key에 공통적으로 입력합니다"
   ]
  },
  {
   "cell_type": "code",
   "execution_count": 150,
   "id": "00917f73-1155-4fd2-b0b4-51c6dce2a0ea",
   "metadata": {},
   "outputs": [
    {
     "data": {
      "text/plain": [
       "{'name': ('leehojun', '10', '수'),\n",
       " 'age': ('leehojun', '10', '수'),\n",
       " 'grade': ('leehojun', '10', '수')}"
      ]
     },
     "execution_count": 150,
     "metadata": {},
     "output_type": "execute_result"
    }
   ],
   "source": [
    "keys = ('name','age','grade')\n",
    "values = ('leehojun','10','수')\n",
    "\n",
    "dict.fromkeys('leehojun',100)\n",
    "dict.fromkeys(keys, values)"
   ]
  },
  {
   "cell_type": "markdown",
   "id": "1a957b7f-b3dc-47d6-883b-8481a27aacd8",
   "metadata": {},
   "source": [
    "### update\n",
    "\n",
    "기존 데이터의 value를 변경하기 위해 사용합니다"
   ]
  },
  {
   "cell_type": "code",
   "execution_count": 153,
   "id": "aa3cd6a4-1c10-4639-8ad8-58dd14f154f1",
   "metadata": {},
   "outputs": [
    {
     "name": "stdout",
     "output_type": "stream",
     "text": [
      "{'korean': 80, 'english': 80, 'math': 100}\n"
     ]
    }
   ],
   "source": [
    "my_score.update({'korean': 80})\n",
    "\n",
    "print(my_score)"
   ]
  },
  {
   "cell_type": "markdown",
   "id": "266ea2d7-53e3-4293-9a51-c454a951e84b",
   "metadata": {},
   "source": [
    "딕셔너리 자료형의 key는 변경이 불가합니다</br>\n",
    "key값을 변경하려면 해당 key를 삭제하고 변경하고자하는 key값에 원래의 value를 입력하는 방식을 사용합니다"
   ]
  },
  {
   "cell_type": "code",
   "execution_count": 155,
   "id": "66f15c5d-f4e9-41a0-a05b-7f12ea87d0f1",
   "metadata": {},
   "outputs": [
    {
     "name": "stdout",
     "output_type": "stream",
     "text": [
      "{'a': 1, 'b': 2, 'c': 3}\n",
      "{'b': 2, 'c': 3, 'x': 1}\n"
     ]
    }
   ],
   "source": [
    "# 딕셔너리 생성\n",
    "my_dict = {'a': 1, 'b': 2, 'c': 3}\n",
    "print(my_dict)\n",
    "\n",
    "# 'a' 키(key)를 'x'로 변경\n",
    "my_dict['x'] = my_dict.pop('a')\n",
    "\n",
    "# 딕셔너리 출력\n",
    "print(my_dict)  # {'b': 2, 'c': 3, 'x': 1}"
   ]
  },
  {
   "cell_type": "markdown",
   "id": "c56d858a-1c21-4354-9af2-ac5581f932b8",
   "metadata": {},
   "source": [
    "### del\n",
    "\n",
    "요소를 삭제하고 싶을때 사용합니다"
   ]
  },
  {
   "cell_type": "code",
   "execution_count": 156,
   "id": "e61fb628-11e8-4571-9f1f-9a5e99e7a847",
   "metadata": {},
   "outputs": [
    {
     "name": "stdout",
     "output_type": "stream",
     "text": [
      "{'korean': 90, 'math': 100}\n"
     ]
    }
   ],
   "source": [
    "my_score = {\n",
    "    'korean': 90,\n",
    "    'english': 80,\n",
    "    'math': 100\n",
    "}\n",
    "\n",
    "del my_score['english']\n",
    "\n",
    "print(my_score)"
   ]
  },
  {
   "cell_type": "markdown",
   "id": "b2f9ea7c-db71-4499-b793-dd90805751fb",
   "metadata": {},
   "source": [
    "## 딕셔너리 순회\n",
    "\n",
    "for문에서 딕셔너리를 순회하면 키의 값만 출력됩니다"
   ]
  },
  {
   "cell_type": "code",
   "execution_count": 157,
   "id": "605b1a08-406c-4d79-984b-feb8f3d88752",
   "metadata": {},
   "outputs": [
    {
     "name": "stdout",
     "output_type": "stream",
     "text": [
      "two\n",
      "three\n",
      "two 2\n",
      "three 셋\n"
     ]
    }
   ],
   "source": [
    "d = {'two' : 2, 'three' : '셋'}\n",
    "for i in d:\n",
    "    print(i)\n",
    "\n",
    "#키의 값과 vlaue순회\n",
    "for i in d:    \n",
    "    print(i, d[i])"
   ]
  },
  {
   "cell_type": "code",
   "execution_count": 158,
   "id": "a3ad9d75-3a4f-46c1-b532-9c81775a40c9",
   "metadata": {},
   "outputs": [
    {
     "name": "stdout",
     "output_type": "stream",
     "text": [
      "two 2\n",
      "three 셋\n"
     ]
    },
    {
     "data": {
      "text/plain": [
       "dict_items([('two', 2), ('three', '셋')])"
      ]
     },
     "execution_count": 158,
     "metadata": {},
     "output_type": "execute_result"
    }
   ],
   "source": [
    "for i , j in d.items():\n",
    "     print(i, j)\n",
    "\n",
    "d.items()"
   ]
  },
  {
   "cell_type": "markdown",
   "id": "e1def8d3-3e92-4874-9c76-3fa5b9e3572c",
   "metadata": {},
   "source": [
    "# 4.5 set\n",
    "\n",
    "- 중복을 허용하지 않으며, 순서가 없는 자료형입니다"
   ]
  },
  {
   "cell_type": "code",
   "execution_count": 159,
   "id": "71dc0527-f919-431a-bbd2-ae8b82d5973f",
   "metadata": {},
   "outputs": [
    {
     "name": "stdout",
     "output_type": "stream",
     "text": [
      "{1, 2, 3, 4}\n"
     ]
    }
   ],
   "source": [
    "number_set = set([1, 1, 2, 2, 3, 3, 4])\n",
    "print(number_set)"
   ]
  },
  {
   "cell_type": "markdown",
   "id": "62c165c7-280a-470b-b5f1-9ad3dc6689ac",
   "metadata": {},
   "source": [
    "## set 메서드\n",
    "\n",
    "- add : 값을 1개 추가할 때 사용합니다\n",
    "- update : 값을 여러 개 추가할 때 사용합니다\n",
    "- remove : 특정 값을 제거하고 싶을 때 사용합니다\n",
    "- discard : remove와 동일한 동작을 수행합니다\n",
    "    - remove는 제거하려는 값이 없으면 오류를 출력하고, discard는 오류를 출력하지 않습니다\n",
    "- pop : 값을 순서대로 하나씩(가장 낮은 index의 값, 좌측) 지우고 싶을 때 사용합니다\n",
    "    - list에 대한 동작은 가장 index가 큰(우측) 값을 제거하고\n",
    "    - dictionary는 제거할 값을 지정해야하며, 지정하지 않으면 오류를 출력합니다\n",
    "- intersection (&) : 두 set자료형의 교집합, 공통으로 갖고 있는 값을 반환합니다\n",
    "- union (|) : 합집합\n",
    "- difference (-) : 차집합\n",
    "- symmetric_difference (^) : 대칭차집합(여집합), 두 set자료형의 공통된 부분을 제외한 나머지를 반환합니다\n",
    "- symmetric_difference_update : 집합을 비교한 결과를 현재의 집합에 적용하여, 원래의 집합이 업데이트됩니다\n",
    "- issubset : set자료형이 함수에 지정한 set의 부분집합인지 bool형태로 반환합니다\n",
    "    - 부등호를 이용해서 부분집합 여부를 표현할 수 있습니다\n",
    "    - s.issubset({1, 2})와 s >= {1, 2}는 같은 결과를 반환합니다\n",
    "- isdisjoint : 서로 공통된 데이터를 가지고 있는지 여부를 bool형태로 반환합니다\n",
    "    - 겹치는 부분이 있으면 False, 없으면 True가 출력됩니다"
   ]
  },
  {
   "cell_type": "markdown",
   "id": "92cd71ec-e13d-4570-b87e-42e4826b2d93",
   "metadata": {},
   "source": [
    "### add\n",
    "\n",
    "값을 1개 추가할 때 사용합니다"
   ]
  },
  {
   "cell_type": "code",
   "execution_count": 167,
   "id": "6ac63cf4-5673-4032-a687-6c4e732f254b",
   "metadata": {},
   "outputs": [
    {
     "name": "stdout",
     "output_type": "stream",
     "text": [
      "{'americano', 'ice coffee', 'cafe latte'}\n"
     ]
    }
   ],
   "source": [
    "menu = set(['americano', 'cafe latte'])\n",
    "menu.add('ice coffee')\n",
    "print(menu)"
   ]
  },
  {
   "cell_type": "markdown",
   "id": "d2adf940-f436-45d7-8479-563f6918b7dc",
   "metadata": {},
   "source": [
    "### update\n",
    "\n",
    "값을 여러 개 추가할 때 사용합니다"
   ]
  },
  {
   "cell_type": "code",
   "execution_count": 168,
   "id": "5eaa4517-5d9d-4415-916a-c0710b2eb9e4",
   "metadata": {},
   "outputs": [
    {
     "name": "stdout",
     "output_type": "stream",
     "text": [
      "{'ice coffee', 'cafe latte', 'americano', 'green tea', 'ice tea'}\n"
     ]
    }
   ],
   "source": [
    "menu.update(['ice coffee', 'ice tea', 'green tea'])\n",
    "print(menu)"
   ]
  },
  {
   "cell_type": "markdown",
   "id": "88284032-fcc7-44a9-8beb-f0a0948a4125",
   "metadata": {},
   "source": [
    "### remove\n",
    "\n",
    "특정 값을 제거하고 싶을 때 사용합니다"
   ]
  },
  {
   "cell_type": "code",
   "execution_count": 169,
   "id": "54a8176c-1bc0-4585-bc0b-9987830ab722",
   "metadata": {},
   "outputs": [
    {
     "name": "stdout",
     "output_type": "stream",
     "text": [
      "{'ice coffee', 'americano', 'green tea', 'ice tea'}\n"
     ]
    }
   ],
   "source": [
    "menu.remove('cafe latte')\n",
    "print(menu)"
   ]
  },
  {
   "cell_type": "markdown",
   "id": "c23c3fec-64e4-441d-87ac-fdefefd5ab80",
   "metadata": {},
   "source": [
    "### discard\n",
    "\n",
    "remove와 동일한 동작을 수행합니다\n",
    "\n",
    "***remove는 제거하려는 값이 없으면 오류를 출력하고, discard는 오류를 출력하지 않습니다***"
   ]
  },
  {
   "cell_type": "code",
   "execution_count": 175,
   "id": "313ed8f3-7e69-4cb1-9ef2-29b2ee75fde8",
   "metadata": {},
   "outputs": [
    {
     "name": "stdout",
     "output_type": "stream",
     "text": [
      "{2, 4, 5, 6}\n",
      "{2, 4, 5, 6}\n"
     ]
    }
   ],
   "source": [
    "s = {2, 3, 4, 5, 6}\n",
    "s.discard(3)\n",
    "print(s)\n",
    "\n",
    "s.discard(1)\n",
    "print(s)"
   ]
  },
  {
   "cell_type": "code",
   "execution_count": 176,
   "id": "a02452bb-db77-4683-92ba-9635248bafe8",
   "metadata": {},
   "outputs": [
    {
     "ename": "KeyError",
     "evalue": "3",
     "output_type": "error",
     "traceback": [
      "\u001b[0;31m---------------------------------------------------------------------------\u001b[0m",
      "\u001b[0;31mKeyError\u001b[0m                                  Traceback (most recent call last)",
      "Input \u001b[0;32mIn [176]\u001b[0m, in \u001b[0;36m<cell line: 1>\u001b[0;34m()\u001b[0m\n\u001b[0;32m----> 1\u001b[0m \u001b[43ms\u001b[49m\u001b[38;5;241;43m.\u001b[39;49m\u001b[43mremove\u001b[49m\u001b[43m(\u001b[49m\u001b[38;5;241;43m3\u001b[39;49m\u001b[43m)\u001b[49m\n",
      "\u001b[0;31mKeyError\u001b[0m: 3"
     ]
    }
   ],
   "source": [
    "s.remove(3)"
   ]
  },
  {
   "cell_type": "markdown",
   "id": "c0edcbcc-1306-4450-9870-ffe0a5a314e3",
   "metadata": {},
   "source": [
    "### pop\n",
    "\n",
    "값을 순서대로 하나씩(가장 낮은 index의 값, 좌측) 지우고 싶을 때 사용합니다\n",
    "\n",
    "\n",
    "list에 대한 동작은 가장 index가 큰(우측) 값을 제거하고</br>\n",
    "dictionary는 제거할 값을 지정해야하며, 지정하지 않으면 오류를 출력합니다"
   ]
  },
  {
   "cell_type": "code",
   "execution_count": 177,
   "id": "d2c77486-7a8a-42a1-8801-48a1119514fe",
   "metadata": {},
   "outputs": [
    {
     "name": "stdout",
     "output_type": "stream",
     "text": [
      "{4, 5, 6, 7, 8}\n"
     ]
    }
   ],
   "source": [
    "s = {3, 4, 5, 6, 7, 8}\n",
    "s.pop()\n",
    "print(s)"
   ]
  },
  {
   "cell_type": "markdown",
   "id": "fec68122-e7b2-4804-b4a8-08793cfe1662",
   "metadata": {},
   "source": [
    "### intersection (&) 교집합\n",
    "\n",
    "두 set자료형의 교집합, 공통으로 갖고 있는 값을 반환합니다"
   ]
  },
  {
   "cell_type": "code",
   "execution_count": 178,
   "id": "01f24787-2df9-4cf1-a004-1abe6ab1e754",
   "metadata": {},
   "outputs": [
    {
     "name": "stdout",
     "output_type": "stream",
     "text": [
      "{'americano', 'water'}\n",
      "{'americano', 'water'}\n"
     ]
    }
   ],
   "source": [
    "my_cafe = set(['americano', 'water', 'yogurt strawberry blended', 'cafe latte'])\n",
    "other_cafe = set(['americano', 'water', 'green tea'])\n",
    "\n",
    "print(my_cafe & other_cafe)\n",
    "print(my_cafe.intersection(other_cafe))"
   ]
  },
  {
   "cell_type": "markdown",
   "id": "13e5790e-09f1-4cc2-bdd2-fb486da32c3a",
   "metadata": {},
   "source": [
    "### union (|) 합집합"
   ]
  },
  {
   "cell_type": "code",
   "execution_count": 179,
   "id": "31cb3880-0ead-4d71-acb7-31d84dd86147",
   "metadata": {},
   "outputs": [
    {
     "name": "stdout",
     "output_type": "stream",
     "text": [
      "{'americano', 'yogurt strawberry blended', 'water', 'cafe latte', 'green tea'}\n",
      "{'americano', 'yogurt strawberry blended', 'water', 'cafe latte', 'green tea'}\n"
     ]
    }
   ],
   "source": [
    "print(my_cafe | other_cafe)\n",
    "print(my_cafe.union(other_cafe))"
   ]
  },
  {
   "cell_type": "markdown",
   "id": "c91dbdff-f1c4-406b-8448-5dbbe2355d20",
   "metadata": {},
   "source": [
    "### difference (-) 차집합"
   ]
  },
  {
   "cell_type": "code",
   "execution_count": 180,
   "id": "25e2b1af-ee28-4bbd-84d0-cd255f00c540",
   "metadata": {},
   "outputs": [
    {
     "name": "stdout",
     "output_type": "stream",
     "text": [
      "{'americano', 'yogurt strawberry blended', 'water', 'cafe latte', 'green tea'}\n",
      "{'americano', 'yogurt strawberry blended', 'water', 'cafe latte', 'green tea'}\n"
     ]
    }
   ],
   "source": [
    "print(my_cafe - other_cafe)\n",
    "print(my_cafe.difference(other_cafe))"
   ]
  },
  {
   "cell_type": "markdown",
   "id": "6a15dd57-c3d1-4b12-b5d6-8c666407e65a",
   "metadata": {},
   "source": [
    "### symmetric_difference (^) 대칭차집합\n",
    "\n",
    "두 set자료형의 공통된 부분을 제외한 나머지를 반환합니다</br>\n",
    "symmetric_difference_update함수는 집합을 비교한 결과를 현재의 집합에 적용하여, 원래의 집합이 업데이트됩니다\n",
    "\n",
    "> 대칭 차집합(symmetric difference)은 두 집합 A와 B 사이의 차집합의 합집합입니다. </br>\n",
    "즉, A-B와 B-A의 합집합을 의미합니다. 대칭 차집합은 A와 B 모두에 속하지 않는 원소들로 이루어진 집합을 말합니다.</br>\n",
    "반면에, 여집합(complement)은 전체 집합에서 특정 부분 집합의 원소를 뺀 나머지 집합을 말합니다. </br>예를 들어, 전체 집합이 U이고, 부분 집합이 A일 때, A의 여집합은 U-A입니다. 즉, A에 속하지 않는 모든 원소들의 집합을 말합니다."
   ]
  },
  {
   "cell_type": "code",
   "execution_count": 181,
   "id": "a721b87e-a21b-41ea-b062-72c3f12c7157",
   "metadata": {},
   "outputs": [
    {
     "data": {
      "text/plain": [
       "{1, 2, 5, 6}"
      ]
     },
     "execution_count": 181,
     "metadata": {},
     "output_type": "execute_result"
    }
   ],
   "source": [
    "s = {1, 2, 3, 4}\n",
    "ss = {3, 4, 5, 6}\n",
    "\n",
    "s^ss\n",
    "\n",
    "set.symmetric_difference(s, ss)"
   ]
  },
  {
   "cell_type": "markdown",
   "id": "e0e8b976-77b8-4c87-8672-54f85ab66198",
   "metadata": {},
   "source": [
    "### issubset\n",
    "\n",
    "set자료형이 함수에 지정한 set의 부분집합인지 bool형태로 반환합니다 (부등호를 이용해서 부분집합 여부를 표현할 수 있습니다)\n",
    "```python\n",
    "s = {1, 2, 3, 4}\n",
    "\n",
    "s.issubset({1, 2})\n",
    "s >= {1, 2}\n",
    "```\n",
    "위 코드에서 두 구문은 같은 결과를 반환합니다"
   ]
  },
  {
   "cell_type": "code",
   "execution_count": 184,
   "id": "5cde8d74-8ca9-49ed-b0c6-8b7b942a9256",
   "metadata": {},
   "outputs": [
    {
     "name": "stdout",
     "output_type": "stream",
     "text": [
      "False\n",
      "True\n",
      "True\n",
      "True\n"
     ]
    }
   ],
   "source": [
    "s = {1, 2, 3, 4}\n",
    "ss = {3, 4, 5, 6}\n",
    "print(s.issubset({1, 2}))\n",
    "print(s.issubset({1, 2, 3, 4, 5, 6}))\n",
    "\n",
    "print(s < {1, 2, 3, 4, 5, 6}) #진부분집합(<->진상위집합)\n",
    "print(s >= {1, 2}) #부분집합(<->상위집합)"
   ]
  },
  {
   "cell_type": "markdown",
   "id": "ffd460ff-ffd9-47af-bc55-e6deba2ce5bb",
   "metadata": {},
   "source": [
    "### isdisjoint\n",
    "\n",
    "서로 공통된 데이터를 가지고 있는지 여부를 bool형태로 반환합니다 (겹치는 부분이 있으면 False, 없으면 True가 출력됩니다)"
   ]
  },
  {
   "cell_type": "code",
   "execution_count": 185,
   "id": "8b20e35e-19e2-4554-8bde-aa7f6071370f",
   "metadata": {},
   "outputs": [
    {
     "data": {
      "text/plain": [
       "False"
      ]
     },
     "execution_count": 185,
     "metadata": {},
     "output_type": "execute_result"
    }
   ],
   "source": [
    "s = {1, 2, 3, 4}\n",
    "ss = {3, 4, 5, 6}\n",
    "\n",
    "s.isdisjoint(ss)"
   ]
  },
  {
   "cell_type": "markdown",
   "id": "0c068416-4889-4809-abf9-541c40c49444",
   "metadata": {},
   "source": [
    "# 4.6 연습문제"
   ]
  },
  {
   "cell_type": "markdown",
   "id": "f44e1d70-d4ae-4550-b5f1-dde97d8b6e4a",
   "metadata": {},
   "source": [
    "문제 1. 다음은 python 강좌 학생들의 시험 점수를 딕셔너리로 나타낸 것입니다\n",
    "\n",
    "```python\n",
    "student_score = {\n",
    "\t\t'홍의': 97,\n",
    "\t\t'원희': 60,\n",
    "\t\t'동해': 77,\n",
    "\t\t'변수': 79,\n",
    "\t\t'창현': 89,\n",
    "}\n",
    "```\n",
    "\n",
    "- 학생들의 **총점**을 구하는 코드를 작성하세요\n",
    "- 학생들의 **평균 점수**를 구하는 코드를 작성하세요\n",
    "- 점수가 가장 **높은** 학생의 이름과 그 점수를 구하는 코드를 작성하세요\n",
    "- 점수가 가장 **낮은** 학생의 이름과 그 점수를 구하는 코드를 작성하세요"
   ]
  },
  {
   "cell_type": "code",
   "execution_count": 207,
   "id": "6ac0f0fc-ad13-4320-a556-e0222db8db66",
   "metadata": {},
   "outputs": [],
   "source": [
    "student_score = {\n",
    "        '홍의': 97,\n",
    "        '원희': 60,\n",
    "        '동해': 77,\n",
    "        '변수': 79,\n",
    "        '창현': 89,\n",
    "}"
   ]
  },
  {
   "cell_type": "code",
   "execution_count": 224,
   "id": "190a9540-c392-44ac-9af4-c7d7a09ca2ca",
   "metadata": {},
   "outputs": [
    {
     "data": {
      "text/plain": [
       "80.4"
      ]
     },
     "execution_count": 224,
     "metadata": {},
     "output_type": "execute_result"
    }
   ],
   "source": [
    "sum_score = \n",
    "avg_score = sum(student_score.values()) / len(student_score.values())"
   ]
  },
  {
   "cell_type": "markdown",
   "id": "94b3ea68-30ad-45c7-b00f-3401de584c2d",
   "metadata": {},
   "source": [
    "**copy메서드는 shallow copy(얕은 복사)입니다**\n",
    "\n",
    "shallow copy는 대상의 메모리 주소를 복사하고, deep copy는 대상의 값을 복사합니다"
   ]
  },
  {
   "cell_type": "code",
   "execution_count": 98,
   "id": "1d26369d-96bf-480f-b4b8-f564dd6176e5",
   "metadata": {},
   "outputs": [
    {
     "data": {
      "text/plain": [
       "(4387432384, 4387234496, 4387378560)"
      ]
     },
     "execution_count": 98,
     "metadata": {},
     "output_type": "execute_result"
    }
   ],
   "source": [
    "l_copy = copy.copy(l)\n",
    "l_deepcopy = copy.deepcopy(l)\n",
    "\n",
    "id(l), id(l_copy), id(l_deepcopy)"
   ]
  },
  {
   "cell_type": "code",
   "execution_count": 73,
   "id": "06996e09-0140-4aa9-a4f9-6cfcf5ea1aa4",
   "metadata": {},
   "outputs": [
    {
     "data": {
      "text/plain": [
       "(4386813248, 4387132288, 4387378048)"
      ]
     },
     "execution_count": 73,
     "metadata": {},
     "output_type": "execute_result"
    }
   ],
   "source": [
    "import copy\n",
    "\n",
    "l2 = l.copy()\n",
    "l4 = copy.deepcopy(l)\n",
    "\n",
    "id(l), id(l2), id(l4)"
   ]
  },
  {
   "cell_type": "code",
   "execution_count": 101,
   "id": "1fecaf18-0f74-4c57-9d1e-e3305f4f6234",
   "metadata": {},
   "outputs": [
    {
     "data": {
      "text/plain": [
       "[[1000, 2, 3], [4, 5, 6]]"
      ]
     },
     "execution_count": 101,
     "metadata": {},
     "output_type": "execute_result"
    }
   ],
   "source": [
    "import copy\n",
    "\n",
    "l = [[1, 2, 3], [4, 5, 6]]\n",
    "l_copy = copy.copy(l)\n",
    "l_copy[0][0] = 1000\n",
    "l"
   ]
  },
  {
   "cell_type": "code",
   "execution_count": 102,
   "id": "29923c5f-de4c-4a50-b133-ac0fbf63ceb0",
   "metadata": {},
   "outputs": [
    {
     "data": {
      "text/plain": [
       "[[1, 2, 3], [4, 5, 6]]"
      ]
     },
     "execution_count": 102,
     "metadata": {},
     "output_type": "execute_result"
    }
   ],
   "source": [
    "import copy\n",
    "\n",
    "l = [[1, 2, 3], [4, 5, 6]]\n",
    "l_deepcopy = copy.deepcopy(l)\n",
    "l_deepcopy[0][0] = 1000\n",
    "l"
   ]
  },
  {
   "cell_type": "code",
   "execution_count": 71,
   "id": "e274c3c9-53b3-41b7-b668-9db3df61848d",
   "metadata": {},
   "outputs": [
    {
     "name": "stdout",
     "output_type": "stream",
     "text": [
      "[1, 20, 30, 50, 40, 50, 10, 20, 30, 50, 40, 50, 10, 20, 30]\n",
      "[10, 1, 1, 11, 2, 23, 12, 10, 1, 1, 11, 2, 23, 12, 10, 20, 30, [...]]\n"
     ]
    }
   ],
   "source": [
    "l2[0] = 1\n",
    "print(l2)\n",
    "print(l)"
   ]
  },
  {
   "cell_type": "code",
   "execution_count": 84,
   "id": "f90ab6bd-ead9-48e9-85ee-5c1ad306bd26",
   "metadata": {},
   "outputs": [
    {
     "name": "stdout",
     "output_type": "stream",
     "text": [
      "4387549264 4387549264 4387549264\n"
     ]
    },
    {
     "data": {
      "text/plain": [
       "True"
      ]
     },
     "execution_count": 84,
     "metadata": {},
     "output_type": "execute_result"
    }
   ],
   "source": [
    "c = [9999, 9999, 9999]\n",
    "print(id(c[0]), id(c[1]), id(c[2]))\n",
    "c[0] is c[1]"
   ]
  },
  {
   "cell_type": "code",
   "execution_count": 88,
   "id": "129a8603-87e6-4da4-97bc-4e1cf75c1f67",
   "metadata": {},
   "outputs": [
    {
     "name": "stdout",
     "output_type": "stream",
     "text": [
      "4387309184 4387368576 4387424256\n"
     ]
    },
    {
     "data": {
      "text/plain": [
       "False"
      ]
     },
     "execution_count": 88,
     "metadata": {},
     "output_type": "execute_result"
    }
   ],
   "source": [
    "c = [[1,2,3], [1,2,3], [1,2,3]]\n",
    "print(id(c[0]), id(c[1]), id(c[2]))\n",
    "c[0] is c[1]"
   ]
  },
  {
   "cell_type": "code",
   "execution_count": 89,
   "id": "196416d2-a8dd-4751-b567-2a4a113dcee2",
   "metadata": {},
   "outputs": [
    {
     "name": "stdout",
     "output_type": "stream",
     "text": [
      "4314195488 4314195488 4314195488\n"
     ]
    },
    {
     "data": {
      "text/plain": [
       "True"
      ]
     },
     "execution_count": 89,
     "metadata": {},
     "output_type": "execute_result"
    }
   ],
   "source": [
    "c = [[1,2,3], [1,2,3], [1,2,3]]\n",
    "print(id(c[0][0]), id(c[1][0]), id(c[2][0]))\n",
    "c[0][0] is c[1][0]"
   ]
  },
  {
   "cell_type": "code",
   "execution_count": 95,
   "id": "d8ffefb4-9d77-4bd5-8754-e04f84213677",
   "metadata": {},
   "outputs": [
    {
     "name": "stdout",
     "output_type": "stream",
     "text": [
      "4387309568 4387385216 4387342848\n",
      "4387309568 4387385216 4387342848\n",
      "4314195488 4314195488 4314195488\n",
      "4314195488 4314195488 4314195488\n"
     ]
    }
   ],
   "source": [
    "a = [[1, 2, 3], [1, 2, 3], [1, 2, 3]]\n",
    "aa = a.copy()\n",
    "\n",
    "print(id(a[0]), id(a[1]), id(a[2]))\n",
    "print(id(aa[0]), id(aa[1]), id(aa[2]))\n",
    "print(id(a[0][0]), id(a[1][0]), id(a[2][0]))\n",
    "print(id(aa[0][0]), id(aa[1][0]), id(aa[2][0]))"
   ]
  },
  {
   "cell_type": "code",
   "execution_count": 94,
   "id": "f7e44650-67b7-47f3-bd76-92b89366c19e",
   "metadata": {},
   "outputs": [
    {
     "name": "stdout",
     "output_type": "stream",
     "text": [
      "4387310400 4387382976 4386538944\n",
      "4387367168 4387308288 4387348544\n",
      "4314195488 4314195488 4314195488\n",
      "4314195488 4314195488 4314195488\n"
     ]
    }
   ],
   "source": [
    "b = [[1, 2, 3], [1, 2, 3], [1, 2, 3]]\n",
    "bb = copy.deepcopy(b)\n",
    "\n",
    "print(id(b[0]), id(b[1]), id(b[2]))\n",
    "print(id(bb[0]), id(bb[1]), id(bb[2]))\n",
    "print(id(b[0][0]), id(b[1][0]), id(b[2][0]))\n",
    "print(id(bb[0][0]), id(bb[1][0]), id(bb[2][0]))"
   ]
  },
  {
   "cell_type": "code",
   "execution_count": 80,
   "id": "15d6fab2-6142-4afb-8419-cefb9ad1dd8f",
   "metadata": {},
   "outputs": [
    {
     "name": "stdout",
     "output_type": "stream",
     "text": [
      "[1, 2, 3] [1, 2, 3] [1, 2, 3]\n",
      "False\n",
      "True\n",
      "[[1, 2, 3], 2, 3] [[1, 2, 3], 2, 3] [[1, 2, 3], 2, 3]\n",
      "False\n",
      "False\n"
     ]
    }
   ],
   "source": [
    "a = [1, 2, 3]\n",
    "b = copy.deepcopy(a)\n",
    "c = copy.deepcopy(b)\n",
    "print(a, b, c)\n",
    "\n",
    "print(id(a) == id(b)) # False\n",
    "print(id(a[0]) == id(b[0])) # True\n",
    "\n",
    "a = [[1, 2, 3], 2, 3]\n",
    "b = copy.deepcopy(a)\n",
    "c = copy.deepcopy(b)\n",
    "print(a, b, c)\n",
    "\n",
    "print(id(a) == id(b)) # False\n",
    "print(id(a[0]) == id(b[0])) # False"
   ]
  },
  {
   "cell_type": "code",
   "execution_count": 39,
   "id": "9dfea143-e980-45c6-9345-d3da2ca339cd",
   "metadata": {},
   "outputs": [
    {
     "name": "stdout",
     "output_type": "stream",
     "text": [
      "shallow copy와 deep copy는 객체를 복사하는 방법에 따라 다릅니다.\n",
      "\n",
      "shallow copy는 주어진 객체를 복사하여 새로운 객체를 만드는 것이지만, 그 안에 있는 객체들은 같은 메모리 위치를 참조하고 있습니다. 따라서, 원본 객체나 복사본 객체 중 하나에서 해당 객체를 수정하면 다른 객체도 함께 변경됩니다.\n",
      "\n",
      "deep copy는 원본 객체 안에 있는 모든 객체들을 새로운 메모리 위치에 복사하여 새로운 객체를 만드는 것입니다. 따라서, 원본 객체나 복사본 객체 중 하나에서 해당 객체를 수정해도 다른 객체는 영향을 받지 않습니다. \n",
      "\n",
      "간단하게 예를 들면, shallow copy는 복사본과 원본이 같은 참조를 가지고 있는 반면, deep copy는 서로 참조가 다릅니다. \n",
      "\n",
      "따라서, shallow copy는 복사한 객체와 원본 객체 사이의 관계가 얕고, deep copy는 더 깊은 관계를 갖습니다.\n"
     ]
    }
   ],
   "source": [
    "chat_gpt('shallow copy와 deep copy의 차이는 뭐야?')"
   ]
  },
  {
   "cell_type": "code",
   "execution_count": 205,
   "id": "8034fb36-f588-4326-83eb-7d7288da7c7c",
   "metadata": {},
   "outputs": [
    {
     "name": "stdout",
     "output_type": "stream",
     "text": [
      "4396182464 5169610240 5169375824 5169375824 4396394304 4396394304\n"
     ]
    }
   ],
   "source": [
    "original_list = [257, 273, 393, [311, 272]]\n",
    "\n",
    "copy_list = original_list.copy()\n",
    "\n",
    "print(id(original_list), id(copy_list), id(original_list[0]), id(copy_list[0]), id(original_list[3]), id(copy_list[3]))"
   ]
  },
  {
   "cell_type": "code",
   "execution_count": 206,
   "id": "0353f8d1-5ebb-4c94-8a90-d20ab5f6f103",
   "metadata": {},
   "outputs": [
    {
     "name": "stdout",
     "output_type": "stream",
     "text": [
      "4396339840 4386342208 4314195488 4314195488\n"
     ]
    }
   ],
   "source": [
    "original_list = [1, 2, 3, [1, 2]]\n",
    "\n",
    "copy_list = original_list.copy()\n",
    "\n",
    "print(id(original_list), id(copy_list), id(original_list[0]), id(copy_list[0]))"
   ]
  },
  {
   "cell_type": "code",
   "execution_count": 201,
   "id": "7edbe702-8a80-46ae-85c1-a4f202588407",
   "metadata": {},
   "outputs": [
    {
     "name": "stdout",
     "output_type": "stream",
     "text": [
      "[1, 2, 3, [1, 2]]\n"
     ]
    }
   ],
   "source": [
    "original_list[0] = 275\n",
    "print(copy_list)"
   ]
  },
  {
   "cell_type": "code",
   "execution_count": 203,
   "id": "068c6cf8-3783-4c27-bdad-1d01886d5a5a",
   "metadata": {},
   "outputs": [
    {
     "name": "stdout",
     "output_type": "stream",
     "text": [
      "[1, 2, 3, [2, 2]]\n"
     ]
    }
   ],
   "source": [
    "original_list[3][0] = 2\n",
    "print(copy_list)"
   ]
  },
  {
   "cell_type": "code",
   "execution_count": 40,
   "id": "b8756a62-85e5-4d9f-99a4-ad66c529b34b",
   "metadata": {},
   "outputs": [
    {
     "name": "stdout",
     "output_type": "stream",
     "text": [
      "Shallow copy와 deep copy는 객체 복사에 대한 두 가지 다른 방식입니다. Shallow copy는 객체의 주소만 복사하고, deep copy는 객체의 모든 내용을 복사하는 것입니다.\n",
      "\n",
      "아래는 Shallow copy와 deep copy를 비교하는 예제 코드입니다.\n",
      "\n",
      "``` python\n",
      "# Shallow Copy 예제\n",
      "\n",
      "original_list = [1, 2, [3, 4]]\n",
      "shallow_copy_list = original_list.copy()\n",
      "\n",
      "# original_list 출력\n",
      "print(original_list)   # [1, 2, [3, 4]]\n",
      "\n",
      "# shallow_copy_list 출력\n",
      "print(shallow_copy_list) # [1, 2, [3, 4]]\n",
      "\n",
      "# 원본 리스트와 shallow_copy_list는 같은 객체를 참조\n",
      "print(id(original_list)) # 140159769974776\n",
      "print(id(shallow_copy_list)) # 140159769974776\n",
      "\n",
      "# 리스트 내부의 객체는 같은 객체를 참조\n",
      "print(id(original_list[2])) # 140159769975432\n",
      "print(id(shallow_copy_list[2])) # 140159769975432\n",
      "\n",
      "\n",
      "original_list[2].append(5)\n",
      "\n",
      "# 수정된 original_list 출력\n",
      "print(original_list)   # [1, 2, [3, 4, 5]]\n",
      "\n",
      "# 수정된 shallow_copy_list 출력\n",
      "print(shallow_copy_list) # [1, 2, [3, 4, 5]]\n",
      "```\n",
      "\n",
      "위 예제에서 shallow_copy_list는 copy() 메소드를 이용하여 original_list를 복사했습니다. 그리고 id() 함수를 이용하여 객체의 주소를 확인해보니, 원본 리스트와 shallow_copy_list가 같은 객체를 참조하는 것을 확인할 수 있습니다. 그렇기 때문에, 리스트 내부의 객체인 [3, 4]도 같은 객체를 참조합니다. 그리고 원본 리스트에 값을 추가한 후, shallow_copy_list를 출력해보면, 수정된 내용까지 같이 출력됩니다.\n",
      "\n",
      "``` python\n",
      "# Deep Copy 예제\n",
      "\n",
      "import copy\n",
      "\n",
      "original_list = [1, 2, [3, 4]]\n",
      "deep_copy_list = copy.deepcopy(original_list)\n",
      "\n",
      "# original_list 출력\n",
      "print(original_list)   # [1, 2, [3, 4]]\n",
      "\n",
      "# deep_copy_list 출력\n",
      "print(deep_copy_list)   # [1, 2, [3, 4]]\n",
      "\n",
      "# 원본 리스트와 deep_copy_list는 다른 객체를 참조\n",
      "print(id(original_list)) # 140164016309056\n",
      "print(id(deep_copy_list)) # 140164016309696\n",
      "\n",
      "# 리스트 내부의 객체도 다른 객체를 참조\n",
      "print(id(original_list[2])) # 140164016309824\n",
      "print(id(deep_copy_list[2])) # 140164018457856\n",
      "\n",
      "original_list[2].append(5)\n",
      "\n",
      "# 수정된 original_list 출력\n",
      "print(original_list)   # [1, 2, [3, 4, 5]]\n",
      "\n",
      "# 수정된 deep_copy_list 출력\n",
      "print(deep_copy_list)   # [1, 2, [3, 4]]\n",
      "```\n",
      "\n",
      "위 예제에서 deep_copy_list는 deepcopy() 함수를 이용하여 original_list를 복사했습니다. 그리고 객체의 주소를 확인해보니, 원본 리스트와 deep_copy_list가 다른 객체를 참조하는 것을 확인할 수 있습니다. 원본 리스트와 deep_copy_list의 리스트 내부 객체도 다른 객체를 참조합니다. 그리고 원본 리스트에 값을 추가한 후, deep_copy_list를 출력해보면, 원본 리스트에 추가된 내용은 출력되지 않습니다.\n"
     ]
    }
   ],
   "source": [
    "chat_gpt('shallow copy와 deep copy의 차이를 코드로 비교해서 보여줘')"
   ]
  },
  {
   "cell_type": "code",
   "execution_count": 44,
   "id": "72ad3283-bf51-4a97-87e8-db45627d654f",
   "metadata": {},
   "outputs": [
    {
     "name": "stdout",
     "output_type": "stream",
     "text": [
      "# shallow copy 예시\n",
      "original_list = [1, 2, 3]\n",
      "copy_list = original_list.copy()\n",
      "\n",
      "# copy_list의 값을 변경\n",
      "copy_list[0] = 4\n",
      "\n",
      "# original_list 값 출력 (원본 리스트의 값은 변경되지 않음)\n",
      "print(original_list)  # [1, 2, 3]\n",
      "\n",
      "# shallow copy 예시\n",
      "original_list = [[1, 2], [3, 4], [5, 6]]\n",
      "copy_list = original_list.copy()\n",
      "\n",
      "# copy_list의 값을 변경\n",
      "copy_list[0][0] = 7\n",
      "\n",
      "# original_list 값 출력 (원본 리스트의 값도 변경됨)\n",
      "print(original_list)  # [[7, 2], [3, 4], [5, 6]]\n"
     ]
    }
   ],
   "source": [
    "chat_gpt('shallow copy한 리스트의 정수형 값을 변경하면 원본 리스트의 값도 변경되는지 코드로 보여줘')"
   ]
  },
  {
   "cell_type": "code",
   "execution_count": 45,
   "id": "37b1e667-90bd-4b9e-a918-f8954888756a",
   "metadata": {},
   "outputs": [
    {
     "name": "stdout",
     "output_type": "stream",
     "text": [
      "이는 shallow copy의 동작 방식 때문입니다. shallow copy는 원래의 리스트와 같은 객체를 참조하므로, 원래의 리스트와 복사된 리스트는 같은 객체를 가리킵니다. 하지만 원본 리스트의 객체와 복사된 리스트의 객체는 서로 별개의 객체이므로, 복사된 리스트에서 객체의 값을 변경하더라도 원본 리스트의 객체의 값은 변경되지 않습니다. 따라서 copy_list[0] = 4로 변경해도 original_list는 영향을 받지 않습니다.\n"
     ]
    }
   ],
   "source": [
    "chat_gpt('original_list = [1, 2, 3]를 shallow copy하고 copy_list[0] = 4로 변경했는데 original_list는 왜 변하지 않아?')"
   ]
  }
 ],
 "metadata": {
  "kernelspec": {
   "display_name": "Python 3 (ipykernel)",
   "language": "python",
   "name": "python3"
  },
  "language_info": {
   "codemirror_mode": {
    "name": "ipython",
    "version": 3
   },
   "file_extension": ".py",
   "mimetype": "text/x-python",
   "name": "python",
   "nbconvert_exporter": "python",
   "pygments_lexer": "ipython3",
   "version": "3.8.12"
  }
 },
 "nbformat": 4,
 "nbformat_minor": 5
}
