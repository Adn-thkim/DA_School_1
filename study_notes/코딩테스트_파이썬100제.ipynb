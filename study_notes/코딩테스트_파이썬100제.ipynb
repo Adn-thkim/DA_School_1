{
 "cells": [
  {
   "cell_type": "markdown",
   "id": "3d710c6c-631b-480f-afaf-e881b6e78398",
   "metadata": {},
   "source": [
    "[Python 100제](https://paullabworkspace.notion.site/fe694f6d4d5543f3af4b6f1b5958160d)"
   ]
  },
  {
   "cell_type": "markdown",
   "id": "3700531c-ea1b-4b87-b044-0e027349c6c3",
   "metadata": {},
   "source": [
    "# 1번\n",
    "\n",
    "다음 리스트에서 400, 500를 삭제하는 code를 입력하세요."
   ]
  },
  {
   "cell_type": "code",
   "execution_count": 1,
   "id": "cc26da4f-fc14-4666-9581-98e1aa058b23",
   "metadata": {},
   "outputs": [],
   "source": [
    "nums = [100, 200, 300, 400, 500]"
   ]
  },
  {
   "cell_type": "code",
   "execution_count": 3,
   "id": "5ce21b19-bf0d-414a-a583-b3284c3a8ea8",
   "metadata": {},
   "outputs": [
    {
     "data": {
      "text/plain": [
       "[100, 200, 300]"
      ]
     },
     "execution_count": 3,
     "metadata": {},
     "output_type": "execute_result"
    }
   ],
   "source": [
    "# nums.pop()\n",
    "# nums.pop()\n",
    "\n",
    "# nums[:-2]\n",
    "\n",
    "# nums.remove(400)\n",
    "# nums.remove(500)"
   ]
  },
  {
   "cell_type": "markdown",
   "id": "c473ae9e-eb01-4945-84a4-48ac36647401",
   "metadata": {},
   "source": [
    "# 2번\n",
    "\n",
    "```python\n",
    "l = [200, 100, 300]\n",
    "<pass>\n",
    "print(l)\n",
    "```\n",
    "<pass>부분에 리스트 내장함수를 insert를 이용하여 코드를 입력하고 다음과 같이 출력되게 하세요.\n",
    "\n",
    "[출력]\n",
    "```python\n",
    "[200, 100, 10000, 300]\n",
    "```"
   ]
  },
  {
   "cell_type": "code",
   "execution_count": 5,
   "id": "94e4dc71-ec39-49d1-b8a5-39566e18c9f8",
   "metadata": {},
   "outputs": [
    {
     "name": "stdout",
     "output_type": "stream",
     "text": [
      "[200, 100, 10000, 300]\n"
     ]
    }
   ],
   "source": [
    "l = [200, 100, 300]\n",
    "l.insert(2, 10000)\n",
    "print(l)"
   ]
  },
  {
   "cell_type": "markdown",
   "id": "ca472ec3-cac7-4133-a4f4-a132ae12f4a1",
   "metadata": {},
   "source": [
    "# 6번\n",
    "\n",
    "True / False에 대한 고찰\n",
    "\n",
    "Python은 사용자(사람)의 입장에서 결과를 출력한다</br>\n",
    "l 자체가 가리키는 메모리 주소는 변하지 않았지만, Boolean 값이 변한다</br>\n",
    "-> Java script는 []의 Boolean 값은 True이다."
   ]
  },
  {
   "cell_type": "code",
   "execution_count": 8,
   "id": "5603ec26-8992-457a-bdc7-69f7f2c4597a",
   "metadata": {},
   "outputs": [
    {
     "name": "stdout",
     "output_type": "stream",
     "text": [
      "4403615232\n",
      "False\n"
     ]
    }
   ],
   "source": [
    "l = []\n",
    "print(id(l))\n",
    "print(bool(l))"
   ]
  },
  {
   "cell_type": "code",
   "execution_count": 9,
   "id": "93fbd53d-4a78-410a-af0b-42c96189002e",
   "metadata": {},
   "outputs": [
    {
     "name": "stdout",
     "output_type": "stream",
     "text": [
      "[1]\n",
      "4403615232\n",
      "True\n"
     ]
    }
   ],
   "source": [
    "l.append(1)\n",
    "print(l)\n",
    "print(id(l))\n",
    "print(bool(l))"
   ]
  },
  {
   "cell_type": "markdown",
   "id": "66667146-0e1d-491c-9902-eee1a6b884a0",
   "metadata": {},
   "source": [
    "# 7번\n",
    "\n",
    "변수명 _ 에 대해\n",
    "1. 사용하지 않는 변수\n",
    "2. 프라이빗한 변수\n",
    "```python\n",
    "class Human():\n",
    "    self._age = \n",
    "```"
   ]
  },
  {
   "cell_type": "markdown",
   "id": "1a212dd9-b309-40fb-ab63-b526f1e9e446",
   "metadata": {},
   "source": [
    "# 8번\n",
    "\n",
    "다음 소스 코드를 완성하여 날짜와 시간을 출력하시오.\n",
    "```python\n",
    "year = '2019'\n",
    "month = '04'\n",
    "day = '26'\n",
    "hour = '11'\n",
    "minute = '34'\n",
    "second = '27'\n",
    "\n",
    "print(year, month, day, )\n",
    "print(hour, minute, second, )\n",
    "```\n",
    "\n",
    "```python\n",
    "2019/04/26 11:34:27\n",
    "```"
   ]
  },
  {
   "cell_type": "code",
   "execution_count": 10,
   "id": "8afd78f1-0869-479d-8ca8-cd42c022d397",
   "metadata": {},
   "outputs": [
    {
     "name": "stdout",
     "output_type": "stream",
     "text": [
      "2019/04/26 11:34:27\n"
     ]
    }
   ],
   "source": [
    "year = '2019'\n",
    "month = '04'\n",
    "day = '26'\n",
    "hour = '11'\n",
    "minute = '34'\n",
    "second = '27'\n",
    "\n",
    "print(year, month, day, sep='/', end=' ')\n",
    "print(hour, minute, second, sep=':')"
   ]
  },
  {
   "cell_type": "markdown",
   "id": "149d9b04-2102-4934-a1e4-5c16c0ef1783",
   "metadata": {},
   "source": [
    "# 10번\n",
    "\n",
    "[입력]\n",
    "\n",
    "5\n",
    "\n",
    "[출력]\n",
    "```python\n",
    "    *\n",
    "   ***\n",
    "  *****\n",
    " *******\n",
    "*********\n",
    "```"
   ]
  },
  {
   "cell_type": "code",
   "execution_count": 15,
   "id": "cb7cc4ae-3811-45b6-aa3e-879bc2b88430",
   "metadata": {},
   "outputs": [
    {
     "name": "stdout",
     "output_type": "stream",
     "text": [
      "    *\n",
      "   ***\n",
      "  *****\n",
      " *******\n",
      "*********\n"
     ]
    }
   ],
   "source": [
    "n = 5\n",
    "\n",
    "for i in range(1, n+1):\n",
    "    print(' ' * (n-i), end='')\n",
    "    print('*' * (2 * i - 1))"
   ]
  },
  {
   "cell_type": "markdown",
   "id": "e0bed1ef-e5b8-4dc8-961b-48e4b1d072ef",
   "metadata": {},
   "source": [
    "# 12번\n",
    "\n",
    "다음 소스코드에서 클래스를 작성하여 게임 캐릭터의 능력치와 '파이어볼'이 출력되게 만드시오.\n",
    "\n",
    "**주어진 소스 코드를 수정해선 안됩니다.**\n",
    "\n",
    "```python\n",
    "<여기에 class를 작성하세요.>\n",
    "\n",
    "jik = Wizard(health = 545, mana = 210, armor = 10)\n",
    "print(jik.health, jik.mana, jik.armor)\n",
    "jik.attack()\n",
    "```\n",
    "\n",
    "[출력]\n",
    "\n",
    "```python\n",
    "545 210 10\n",
    "파이어볼\n",
    "```"
   ]
  },
  {
   "cell_type": "code",
   "execution_count": 16,
   "id": "b83265c2-763f-4c2b-acd2-59e3e784cc58",
   "metadata": {},
   "outputs": [
    {
     "name": "stdout",
     "output_type": "stream",
     "text": [
      "545 210 10\n",
      "파이어볼\n"
     ]
    }
   ],
   "source": [
    "class Wizard:\n",
    "    def __init__(self, health, mana, armor):\n",
    "        '''\n",
    "        self는 인스턴스, 인스턴스 메모리 영역\n",
    "        '''\n",
    "        self.health = health\n",
    "        self.mana = mana\n",
    "        self.armor = armor\n",
    "\n",
    "    def attack(self):\n",
    "        print('파이어볼')\n",
    "\n",
    "\n",
    "jik = Wizard(health = 545, mana = 210, armor = 10)\n",
    "print(jik.health, jik.mana, jik.armor)\n",
    "jik.attack()"
   ]
  },
  {
   "cell_type": "markdown",
   "id": "bdcb4478-c271-497f-87f9-c67450a4ef82",
   "metadata": {},
   "source": [
    "# 35번\n",
    "\n",
    "```python\n",
    "def sub(x, y):\n",
    "    return x - y\n",
    "\n",
    "def add(x, y, f):\n",
    "    def test(x):\n",
    "        return x * 2\n",
    "    test(x)\n",
    "    return 'hello'\n",
    "\n",
    "add(10, 20, sub)\n",
    "```\n",
    "\n",
    "함수가 다른 함수의 파라미터로 사용될 때, \"콜백함수\"라고 한다. (위 예시에서 sub)\n",
    "\n",
    "```python\n",
    "map(int, ['1', '2']) # int를 콜백함수라고도 부릅니다.\n",
    "```"
   ]
  },
  {
   "cell_type": "markdown",
   "id": "d035ae4c-4bd1-49ab-bed9-e70eca082f4a",
   "metadata": {},
   "source": [
    "# 데코레이터\n",
    "\n",
    "클래스의 self도 데코레이터와 연관이 있다?\n",
    "\n",
    "Case 1:\n",
    "```python\n",
    "def simple_decorator(function):\n",
    "    def wrapper():\n",
    "        print(\"Before the function call\")\n",
    "        function()\n",
    "        print(\"After the function call\")\n",
    "    return wrapper\n",
    "\n",
    "@simple_decorator\n",
    "def hello():\n",
    "    print(\"Hello, World!\")\n",
    "\n",
    "hello() # 데코레이터가 없는 상태에서는 simple_decorator(hello)() 와 같습니다.\n",
    "```\n",
    "\n",
    "Case 2:\n",
    "```python\n",
    "def simple_decorator(function):\n",
    "    def wrapper(l):\n",
    "        print(\"Before the function call\")\n",
    "        print(function(map(int, l)))\n",
    "        print(\"After the function call\")\n",
    "    return wrapper\n",
    "\n",
    "@simple_decorator\n",
    "def 합(l):\n",
    "    return sum(l)\n",
    "\n",
    "합([1, 2, 3, '4'])\n",
    "```\n",
    "\n",
    "Case 3: 인자를 갖는 데코레이터\n",
    "```python\n",
    "def debug(function):\n",
    "    def new_function(*args):\n",
    "        print(f'{function.__name__} 함수 시작')\n",
    "        print(*args)\n",
    "        result = function(*args)\n",
    "        print(f'{function.__name__} 함수 끝')\n",
    "        # return result # return 값이 있는 데코레이터는 바로 뒤에서 진행합니다.\n",
    "\n",
    "    return new_function\n",
    "\n",
    "\n",
    "@debug\n",
    "def sum_1_to_n(n):\n",
    "    return n * (n + 1) / 2\n",
    "\n",
    "\n",
    "result = sum_1_to_n(30)\n",
    "\n",
    "print(result)\n",
    "```\n",
    "\n",
    "Case 4: 중첩 데코레이터\n",
    "```python\n",
    "def decorator1(function):\n",
    "    def new_function(*args, **kwargs):\n",
    "        print('첫번째 데코레이터 시작')\n",
    "        result = function(*args, **kwargs)\n",
    "        print('첫번째 데코레이터 끝')\n",
    "        return result\n",
    "\n",
    "    return new_function\n",
    "\n",
    "\n",
    "def decorator2(function):\n",
    "    def new_function(*args, **kwargs):\n",
    "        print('두번째 데코레이터 시작')\n",
    "        result = function(*args, **kwargs)\n",
    "        print('두번째 데코레이터 끝')\n",
    "        return result\n",
    "\n",
    "    return new_function\n",
    "\n",
    "\n",
    "def decorator3(function):\n",
    "    def new_function(*args, **kwargs):\n",
    "        print('세번째 데코레이터 시작')\n",
    "        result = function(*args, **kwargs)\n",
    "        print('세번째 데코레이터 끝')\n",
    "        return result\n",
    "\n",
    "    return new_function\n",
    "\n",
    "@decorator1\n",
    "@decorator2\n",
    "@decorator3\n",
    "def sum_1_to_n(n):\n",
    "    return n * (n + 1) / 2\n",
    "\n",
    "result = sum_1_to_n(30)\n",
    "\n",
    "print(f'result: {result}')\n",
    "```\n",
    "\n",
    "Case 5: 동적 데코레이터 -> 데코레이터가 인자를 갖는 형태\n",
    "```python\n",
    "def add(n):\n",
    "    def decorator(function):\n",
    "        def new_function(*args, **kwargs):\n",
    "            result = function(*args, **kwargs)\n",
    "            return result + n\n",
    "        return new_function\n",
    "    return decorator\n",
    "\n",
    "@add(10)\n",
    "def plus(a, b):\n",
    "    return a + b\n",
    "\n",
    "result = plus(10, 20)\n",
    "print(f'result : {result}')\n",
    "```"
   ]
  },
  {
   "cell_type": "markdown",
   "id": "0cef6714-ae50-4cf4-8296-6e2e44e2cf8b",
   "metadata": {},
   "source": [
    "# 37번\n",
    "* 문제 변경"
   ]
  },
  {
   "cell_type": "code",
   "execution_count": 23,
   "id": "ff8630ee-0f64-4f8c-bfe6-0defb64c1a67",
   "metadata": {},
   "outputs": [
    {
     "data": {
      "text/plain": [
       "4000"
      ]
     },
     "execution_count": 23,
     "metadata": {},
     "output_type": "execute_result"
    }
   ],
   "source": [
    "# 1부터 10000까지 8이라는 숫자를 count하라!\n",
    "# count를 할 수 있는 자료형으로 만드는 것이 핵심\n",
    "# 순회를 돌면서 count는 위 답안이 잘 안풀렸을 때 대안 정도가 됩니다.\n",
    "str(list(range(10000))).count('8')"
   ]
  },
  {
   "cell_type": "markdown",
   "id": "9e940780-7d2b-4ca1-b935-e78aaed17e5e",
   "metadata": {},
   "source": [
    "# 38번\n",
    "\n",
    "```\n",
    "점수입력 : 97 86 75 66 55 97 85 97 97 95\n",
    "출력 : 6\n",
    "```"
   ]
  },
  {
   "cell_type": "code",
   "execution_count": 45,
   "id": "cb4b00a0-d8fb-4e81-9405-f5d1930089ed",
   "metadata": {},
   "outputs": [
    {
     "data": {
      "text/plain": [
       "6"
      ]
     },
     "execution_count": 45,
     "metadata": {},
     "output_type": "execute_result"
    }
   ],
   "source": [
    "import pandas as pd\n",
    "\n",
    "input = '97 86 75 66 55 97 85 97 97 95'\n",
    "\n",
    "scores = pd.Series(map(int, input.split(' ')))\n",
    "sorted_scores = sorted(scores.rank(ascending=False, method='dense').astype(int).to_list())\n",
    "sorted_scores.index(3) + 1"
   ]
  },
  {
   "cell_type": "code",
   "execution_count": 61,
   "id": "987e949f-ae6e-4749-bd3d-0a3b4e86cc4d",
   "metadata": {},
   "outputs": [
    {
     "data": {
      "text/plain": [
       "6"
      ]
     },
     "execution_count": 61,
     "metadata": {},
     "output_type": "execute_result"
    }
   ],
   "source": [
    "s = \"97 86 75 66 55 97 85 97 97 95\"\n",
    "\n",
    "from collections import Counter\n",
    "lst = sorted(list(map(int,s.split(\" \"))), reverse = True)\n",
    "count = 0\n",
    "for i in sorted(list(set(lst)), reverse = True)[:3]:\n",
    "    count += Counter(lst)[i]\n",
    "count"
   ]
  },
  {
   "cell_type": "code",
   "execution_count": 46,
   "id": "96e816e6-101d-4ea9-8e7b-1a91f63b12dc",
   "metadata": {},
   "outputs": [
    {
     "data": {
      "text/plain": [
       "<map at 0x12f3ef790>"
      ]
     },
     "execution_count": 46,
     "metadata": {},
     "output_type": "execute_result"
    }
   ],
   "source": [
    "map(int, '97 86 75 66 55 97 85 97 97 95'.split(' '))"
   ]
  },
  {
   "cell_type": "code",
   "execution_count": 47,
   "id": "aa59f5c5-1023-4ec9-9dad-970325af7ea4",
   "metadata": {},
   "outputs": [
    {
     "data": {
      "text/plain": [
       "{55, 66, 75, 85, 86, 95, 97}"
      ]
     },
     "execution_count": 47,
     "metadata": {},
     "output_type": "execute_result"
    }
   ],
   "source": [
    "set(map(int, '97 86 75 66 55 97 85 97 97 95'.split(' ')))"
   ]
  },
  {
   "cell_type": "code",
   "execution_count": 48,
   "id": "48067ecd-8785-437e-b4ad-cda430014da3",
   "metadata": {},
   "outputs": [
    {
     "data": {
      "text/plain": [
       "[55, 66, 75, 85, 86, 95, 97]"
      ]
     },
     "execution_count": 48,
     "metadata": {},
     "output_type": "execute_result"
    }
   ],
   "source": [
    "sorted(set(map(int, '97 86 75 66 55 97 85 97 97 95'.split(' '))))"
   ]
  },
  {
   "cell_type": "code",
   "execution_count": 50,
   "id": "3ef31312-b6ea-40a0-af2b-e6c4c1d704fa",
   "metadata": {},
   "outputs": [
    {
     "data": {
      "text/plain": [
       "[97, 95, 86]"
      ]
     },
     "execution_count": 50,
     "metadata": {},
     "output_type": "execute_result"
    }
   ],
   "source": [
    "list(reversed(sorted(set(map(int, '97 86 75 66 55 97 85 97 97 95'.split(' '))))))[:3]"
   ]
  },
  {
   "cell_type": "code",
   "execution_count": 55,
   "id": "b6eb37ec-f0b0-497a-a1e8-72977df5e951",
   "metadata": {},
   "outputs": [
    {
     "data": {
      "text/plain": [
       "[97, 95, 86]"
      ]
     },
     "execution_count": 55,
     "metadata": {},
     "output_type": "execute_result"
    }
   ],
   "source": [
    "list(reversed(sorted(set(map(int, '97 86 75 66 55 97 85 97 97 95'.split(' '))))))[:3]"
   ]
  },
  {
   "cell_type": "code",
   "execution_count": 51,
   "id": "aefebf63-cb56-4822-a8fa-50ec1c56a21d",
   "metadata": {},
   "outputs": [
    {
     "data": {
      "text/plain": [
       "6"
      ]
     },
     "execution_count": 51,
     "metadata": {},
     "output_type": "execute_result"
    }
   ],
   "source": [
    "def solution(s):\n",
    "    answer = 0\n",
    "    splitdata = map(int, s.split(' '))\n",
    "    for i in list(reversed(sorted(set(splitdata))))[:3]:\n",
    "        answer += s.count(str(i))  # 문자를 count하기 때문에, 점수가 한 자리이거나, 100점이 있으면 오류가 생긴다\n",
    "    return answer\n",
    "\n",
    "solution('97 86 75 66 55 97 85 97 97 95')"
   ]
  },
  {
   "cell_type": "code",
   "execution_count": null,
   "id": "cbed106b-3f47-4839-a4f7-40e583baf3e1",
   "metadata": {},
   "outputs": [],
   "source": [
    "# map으로 된 데이터가 왜 한 번만 순회가 되었는지\n",
    "# https://www.notion.so/paullabworkspace/python-zip-b7a1992be7884891a5f1d0a5c0c2df9c?pvs=4\n",
    "\n",
    "def solution(s):\n",
    "    answer = 0\n",
    "    splitdata = map(int, s.split(' '))\n",
    "    for i in list(reversed(sorted(set(splitdata))))[:3]:\n",
    "        print(list(splitdata))\n",
    "        for j in list(splitdata):\n",
    "            if i == j:\n",
    "                answer += 1\n",
    "    return answer\n",
    "\n",
    "solution('97 86 75 66 55 97 85 97 97 95')"
   ]
  },
  {
   "cell_type": "markdown",
   "id": "fb8c2fb5-94fa-48b1-9dc0-9690ad9a9340",
   "metadata": {},
   "source": [
    "# 39번\n",
    "https://github.com/paullabkorea/Algorithm-walk-with-wenivs/blob/main/3.%20pyalgo%20%ED%92%80%EC%9D%B4/%EC%A0%95%EA%B7%9C%ED%91%9C%ED%98%84%EC%8B%9D.ipynb\n",
    "\n",
    "```python\n",
    "import re\n",
    "\n",
    "re.sub(r'([0-9]{3})-([0-9]{4})-([0-9]{4})',\n",
    "       r'\\1__\\2__\\3',  # \\1, \\2, \\3 은 group 1, 2, 3\n",
    "       '010-5000-3000')\n",
    "```"
   ]
  },
  {
   "cell_type": "code",
   "execution_count": 62,
   "id": "b60f2970-3a41-44d9-83f9-ea3d97a29476",
   "metadata": {},
   "outputs": [
    {
     "name": "stdout",
     "output_type": "stream",
     "text": [
      "euick nrown fox jumps over the lazy dog\n"
     ]
    }
   ],
   "source": [
    "import re\n",
    "\n",
    "def replace_letters(text):\n",
    "    # 정규표현식 패턴 생성\n",
    "    pattern = re.compile(r'[qb]')\n",
    "    \n",
    "    # 정규표현식에 맞게 변환\n",
    "    modified_text = pattern.sub(lambda match: 'e' if match.group() == 'q' else 'n', text)\n",
    "    \n",
    "    return modified_text\n",
    "\n",
    "sentence = \"quick brown fox jumps over the lazy dog\"\n",
    "result = replace_letters(sentence)\n",
    "print(result)"
   ]
  },
  {
   "cell_type": "markdown",
   "id": "14379e49-e62f-44e0-b3b7-c04a3a6d96ea",
   "metadata": {},
   "source": [
    "# 41번\n",
    "\n",
    "True를 먼저 크기에 맞게 채워넣고, 어떤 조건을 만족하면 False로 변경하면서 소거"
   ]
  },
  {
   "cell_type": "code",
   "execution_count": 63,
   "id": "515a77e4-2ddd-44ca-a817-dc186e5447da",
   "metadata": {
    "scrolled": true
   },
   "outputs": [
    {
     "data": {
      "text/plain": [
       "[2,\n",
       " 3,\n",
       " 5,\n",
       " 7,\n",
       " 11,\n",
       " 13,\n",
       " 17,\n",
       " 19,\n",
       " 23,\n",
       " 29,\n",
       " 31,\n",
       " 37,\n",
       " 41,\n",
       " 43,\n",
       " 47,\n",
       " 53,\n",
       " 59,\n",
       " 61,\n",
       " 67,\n",
       " 71,\n",
       " 73,\n",
       " 79,\n",
       " 83,\n",
       " 89,\n",
       " 97,\n",
       " 101,\n",
       " 103,\n",
       " 107,\n",
       " 109,\n",
       " 113,\n",
       " 127,\n",
       " 131,\n",
       " 137,\n",
       " 139,\n",
       " 149,\n",
       " 151,\n",
       " 157,\n",
       " 163,\n",
       " 167,\n",
       " 173,\n",
       " 179,\n",
       " 181,\n",
       " 191,\n",
       " 193,\n",
       " 197,\n",
       " 199,\n",
       " 211,\n",
       " 223,\n",
       " 227,\n",
       " 229,\n",
       " 233,\n",
       " 239,\n",
       " 241,\n",
       " 251,\n",
       " 257,\n",
       " 263,\n",
       " 269,\n",
       " 271,\n",
       " 277,\n",
       " 281,\n",
       " 283,\n",
       " 293,\n",
       " 307,\n",
       " 311,\n",
       " 313,\n",
       " 317,\n",
       " 331,\n",
       " 337,\n",
       " 347,\n",
       " 349,\n",
       " 353,\n",
       " 359,\n",
       " 367,\n",
       " 373,\n",
       " 379,\n",
       " 383,\n",
       " 389,\n",
       " 397,\n",
       " 401,\n",
       " 409,\n",
       " 419,\n",
       " 421,\n",
       " 431,\n",
       " 433,\n",
       " 439,\n",
       " 443,\n",
       " 449,\n",
       " 457,\n",
       " 461,\n",
       " 463,\n",
       " 467,\n",
       " 479,\n",
       " 487,\n",
       " 491,\n",
       " 499,\n",
       " 503,\n",
       " 509,\n",
       " 521,\n",
       " 523,\n",
       " 541,\n",
       " 547,\n",
       " 557,\n",
       " 563,\n",
       " 569,\n",
       " 571,\n",
       " 577,\n",
       " 587,\n",
       " 593,\n",
       " 599,\n",
       " 601,\n",
       " 607,\n",
       " 613,\n",
       " 617,\n",
       " 619,\n",
       " 631,\n",
       " 641,\n",
       " 643,\n",
       " 647,\n",
       " 653,\n",
       " 659,\n",
       " 661,\n",
       " 673,\n",
       " 677,\n",
       " 683,\n",
       " 691,\n",
       " 701,\n",
       " 709,\n",
       " 719,\n",
       " 727,\n",
       " 733,\n",
       " 739,\n",
       " 743,\n",
       " 751,\n",
       " 757,\n",
       " 761,\n",
       " 769,\n",
       " 773,\n",
       " 787,\n",
       " 797,\n",
       " 809,\n",
       " 811,\n",
       " 821,\n",
       " 823,\n",
       " 827,\n",
       " 829,\n",
       " 839,\n",
       " 853,\n",
       " 857,\n",
       " 859,\n",
       " 863,\n",
       " 877,\n",
       " 881,\n",
       " 883,\n",
       " 887,\n",
       " 907,\n",
       " 911,\n",
       " 919,\n",
       " 929,\n",
       " 937,\n",
       " 941,\n",
       " 947,\n",
       " 953,\n",
       " 967,\n",
       " 971,\n",
       " 977,\n",
       " 983,\n",
       " 991,\n",
       " 997]"
      ]
     },
     "execution_count": 63,
     "metadata": {},
     "output_type": "execute_result"
    }
   ],
   "source": [
    "def prime_list(n):\n",
    "    # 에라토스테네스의 체 초기화: n개 요소에 True 설정(소수로 간주)\n",
    "    sieve = [True] * n\n",
    "\n",
    "    # n의 최대 약수가 sqrt(n) 이하이므로 i=sqrt(n)까지 검사\n",
    "    m = int(n ** 0.5)\n",
    "    for i in range(2, m + 1):\n",
    "        if sieve[i] == True:           # i가 소수인 경우\n",
    "            for j in range(i+i, n, i): # i이후 i의 배수들을 False 판정\n",
    "                sieve[j] = False\n",
    "\n",
    "    # 소수 목록 산출\n",
    "    return [i for i in range(2, n) if sieve[i] == True]\n",
    "\n",
    "prime_list(1000)"
   ]
  },
  {
   "cell_type": "markdown",
   "id": "286bed22-9e56-4d80-b485-0b0d6f5120e2",
   "metadata": {},
   "source": [
    "# 43번"
   ]
  },
  {
   "cell_type": "code",
   "execution_count": 64,
   "id": "e4959b29-6eec-4e0e-bfa4-d6e1a9f8bdf5",
   "metadata": {},
   "outputs": [
    {
     "name": "stdout",
     "output_type": "stream",
     "text": [
      "11\n",
      "5\n",
      "2\n",
      "1\n"
     ]
    },
    {
     "data": {
      "text/plain": [
       "'1011'"
      ]
     },
     "execution_count": 64,
     "metadata": {},
     "output_type": "execute_result"
    }
   ],
   "source": [
    "# 음수 변환까지 하려면 좀 더 고려를 해야 합니다.\n",
    "x = 11\n",
    "s = ''\n",
    "while x:\n",
    "    print(x)\n",
    "    s += str(x % 2)\n",
    "    x //= 2\n",
    "s[::-1]\n",
    "\n",
    "#   2   | 11 ... 1\n",
    "#        ---\n",
    "#   2   |  5 ... 1\n",
    "#        ---\n",
    "#   2   |  2 ... 0\n",
    "#        ---\n",
    "#   2   |  1"
   ]
  },
  {
   "cell_type": "markdown",
   "id": "06e92cd0-adcc-414c-89c3-dfa3cccc1855",
   "metadata": {},
   "source": [
    "# 44번"
   ]
  },
  {
   "cell_type": "code",
   "execution_count": 65,
   "id": "29f93df6-a838-4db9-83b2-667358704279",
   "metadata": {},
   "outputs": [
    {
     "name": "stdout",
     "output_type": "stream",
     "text": [
      "538 ns ± 114 ns per loop (mean ± std. dev. of 7 runs, 1,000,000 loops each)\n"
     ]
    }
   ],
   "source": [
    "%%timeit\n",
    "\n",
    "n = 1234\n",
    "answer = 0\n",
    "for i in str(n):\n",
    "    answer += int(i)"
   ]
  },
  {
   "cell_type": "code",
   "execution_count": 70,
   "id": "02e100db-5b29-468e-9a8d-6a9b75c5db57",
   "metadata": {},
   "outputs": [
    {
     "name": "stdout",
     "output_type": "stream",
     "text": [
      "477 ns ± 22 ns per loop (mean ± std. dev. of 7 runs, 1,000,000 loops each)\n"
     ]
    }
   ],
   "source": [
    "%%timeit\n",
    "\n",
    "n = 1234\n",
    "sum(map(int, list(str(n))))"
   ]
  },
  {
   "cell_type": "markdown",
   "id": "4fd3d098-9876-4f07-9d61-e7f971de107f",
   "metadata": {},
   "source": [
    "# 48번"
   ]
  },
  {
   "cell_type": "code",
   "execution_count": 71,
   "id": "bffc9746-5ec7-4768-842b-085bcb7b46c8",
   "metadata": {},
   "outputs": [
    {
     "data": {
      "text/plain": [
       "'aaabbbCCCDDD'"
      ]
     },
     "execution_count": 71,
     "metadata": {},
     "output_type": "execute_result"
    }
   ],
   "source": [
    "answer = ''\n",
    "for i in 'AAABBBcccddd':\n",
    "    if i.islower():\n",
    "        answer += i.upper()\n",
    "    else:\n",
    "        answer += i.lower()\n",
    "answer"
   ]
  },
  {
   "cell_type": "markdown",
   "id": "cf2dc0d0-bb77-43cb-9b1c-864da61e7ab6",
   "metadata": {},
   "source": [
    "# 53번"
   ]
  },
  {
   "cell_type": "markdown",
   "id": "23c31f8b-d7fb-4857-9693-c2ecb68b4e4a",
   "metadata": {},
   "source": [
    "점검 필요"
   ]
  },
  {
   "cell_type": "code",
   "execution_count": 74,
   "id": "4e4b79d0-4e15-41b8-8d40-e078ec8c4fe3",
   "metadata": {},
   "outputs": [
    {
     "data": {
      "text/plain": [
       "True"
      ]
     },
     "execution_count": 74,
     "metadata": {},
     "output_type": "execute_result"
    }
   ],
   "source": [
    "input = ['(())', '()()', '((()))']\n",
    "\n",
    "def solution(p):\n",
    "    if p.startswith('(') | p.endswith(')'):\n",
    "        cnt = 0\n",
    "        before = p[0]\n",
    "        for i in p:\n",
    "            if i == before:\n",
    "                cnt+=1\n",
    "                before = i\n",
    "            else:\n",
    "                break\n",
    "        if (cnt == p.count(before)) & p.count(before) == p.count(')'):\n",
    "            answer = True\n",
    "        else:\n",
    "            answer = False\n",
    "    else:\n",
    "        answer = False\n",
    "        \n",
    "    return answer\n",
    "\n",
    "solution(input[2])"
   ]
  },
  {
   "cell_type": "markdown",
   "id": "20de9e72-497d-4fa6-8ea5-09f5d69f8519",
   "metadata": {},
   "source": [
    "## stack 풀이"
   ]
  },
  {
   "cell_type": "code",
   "execution_count": 83,
   "id": "c40c0074-fc05-4227-9617-eb618588d149",
   "metadata": {},
   "outputs": [
    {
     "data": {
      "text/plain": [
       "'YES'"
      ]
     },
     "execution_count": 83,
     "metadata": {},
     "output_type": "execute_result"
    }
   ],
   "source": [
    "s = '(()())'\n",
    "\n",
    "def solution(string):\n",
    "    brackets = []\n",
    "    if string.count('(') != string.count(')'):\n",
    "        answer = 'NO'\n",
    "    else:\n",
    "        for i in string:\n",
    "            if i == '(':\n",
    "                brackets.append(i)\n",
    "            if i == ')':\n",
    "                if len(brackets) == 0:\n",
    "                    answer = 'NO'\n",
    "                brackets.pop()\n",
    "        answer = 'YES'\n",
    "    return answer\n",
    "\n",
    "solution(s)"
   ]
  },
  {
   "cell_type": "markdown",
   "id": "f79ce39b-c1f7-4c83-9caf-634d2bb5e4ad",
   "metadata": {},
   "source": [
    "# 54번\n",
    "\n",
    "연속된 수인지 판별은 range 함수 사용 / for 순회를 하지 않아도 됨(cost 고려했을때)"
   ]
  },
  {
   "cell_type": "code",
   "execution_count": 95,
   "id": "c0ec77ac-a056-47af-aff6-2a4d6f98a253",
   "metadata": {},
   "outputs": [
    {
     "data": {
      "text/plain": [
       "True"
      ]
     },
     "execution_count": 95,
     "metadata": {},
     "output_type": "execute_result"
    }
   ],
   "source": [
    "def solution(string):\n",
    "\n",
    "    # 내 풀이 (별로임)\n",
    "    # s = sorted(map(int, string.split(' ')))\n",
    "    \n",
    "    # for i in range(len(s)-1):\n",
    "    #     if s[i]+1 != s[i+1]:\n",
    "    #         return 'NO'\n",
    "    #         break\n",
    "    # else:\n",
    "    #     return 'YES'\n",
    "\n",
    "    # 강사님 풀이\n",
    "    s = sorted(map(int, string.split(' ')))\n",
    "    if list(range(min(s), len(s)+1)) == sorted(s):\n",
    "        answer = True\n",
    "    else:\n",
    "        answer = False\n",
    "    \n",
    "    return answer\n",
    "\n",
    "# def solution(num):\n",
    "#     num = num.split(' ')\n",
    "#     num = list(map(int, sorted(num)))\n",
    "#     for i in list(zip(num, num[1:])):\n",
    "#         if i[1] - i[0] != 1:\n",
    "#             return 'NO'\n",
    "#     return 'YES'\n",
    "    \n",
    "solution('1 2 4 3 5')\n",
    "# solution('1 4 2 6 3')"
   ]
  },
  {
   "cell_type": "markdown",
   "id": "8e455cc2-53b4-4b5b-9577-f6ff459438fd",
   "metadata": {},
   "source": [
    "# 55번\n",
    "\n",
    "나중에 다시 점검한다고 함"
   ]
  },
  {
   "cell_type": "code",
   "execution_count": null,
   "id": "c3f3f75d-65cf-4f89-98ff-c9269f2d08e6",
   "metadata": {},
   "outputs": [],
   "source": [
    "# [[A, C], [A, B], [C, B], [A, C], [B, A], [B, C], [A, C]]\n",
    "원판의이동경로 = []\n",
    "def 하노이(원반의수, 시작기둥, 목표기둥, 보조기둥):\n",
    "    # 원판이 한개일 때에는 옮기면 됩니다.\n",
    "    if 원반의수 == 1:\n",
    "        원판의이동경로.append([시작기둥, 목표기둥])\n",
    "        return None\n",
    "    # 원반의 n-1개를 경유기둥으로 옮기고\n",
    "    하노이(원반의수-1, 시작기둥, 보조기둥, 목표기둥) # 여기가 문제였습니다.\n",
    "    # 가장 큰 원반은 목표기둥으로\n",
    "    원판의이동경로.append([시작기둥, 목표기둥])\n",
    "    # 경유기둥과 시작기둥을 바꿉니다!\n",
    "    하노이(원반의수-1, 보조기둥, 목표기둥, 시작기둥)\n",
    "\n",
    "하노이(3,'A','C','B')\n",
    "\n",
    "print(len(원판의이동경로))\n",
    "원판의이동경로"
   ]
  },
  {
   "cell_type": "markdown",
   "id": "d9e1fa2c-64b3-4b2d-9bbe-562a43da5674",
   "metadata": {},
   "source": [
    "# 56번\n",
    "\n",
    "다음의 딕셔너리가 주어졌을 때 한국의 면적과 가장 비슷한 국가와 그 차이를 출력하세요.\n",
    "\n",
    "```\n",
    "데이터\n",
    "nationWidth = {\n",
    "     'korea': 220877,\n",
    "     'Rusia': 17098242,\n",
    "     'China': 9596961,\n",
    "     'France': 543965,\n",
    "     'Japan': 377915,\n",
    "     'England': 242900 }\n",
    "\n",
    "출력\n",
    "England 22023\n",
    "```"
   ]
  },
  {
   "cell_type": "code",
   "execution_count": 112,
   "id": "774af8db-7112-4fbc-841b-ae8d8f5538c5",
   "metadata": {},
   "outputs": [
    {
     "name": "stdout",
     "output_type": "stream",
     "text": [
      "England 242900\n"
     ]
    }
   ],
   "source": [
    "nationWidth = {\n",
    "     'korea': 220877,\n",
    "     'Rusia': 17098242,\n",
    "     'China': 9596961,\n",
    "     'France': 543965,\n",
    "     'Japan': 377915,\n",
    "     'England': 242900 }\n",
    "\n",
    "kor = nationWidth.pop('korea')\n",
    "min = float('inf')\n",
    "for idx, val in nationWidth.items():\n",
    "    if abs(kor - val) < min:\n",
    "        answer = (idx, str(val))\n",
    "        min = val\n",
    "print(' '.join(answer))"
   ]
  },
  {
   "cell_type": "markdown",
   "id": "2e2a836c-0899-4c95-9011-32c6ae9b4e82",
   "metadata": {},
   "source": [
    "순회 없는 풀이"
   ]
  },
  {
   "cell_type": "code",
   "execution_count": null,
   "id": "74456161-f409-42e7-9f3b-07aaf76c8f9b",
   "metadata": {},
   "outputs": [],
   "source": [
    "nationWidth = {\n",
    "     'korea': 220877,\n",
    "     'Rusia': 17098242,\n",
    "     'China': 9596961,\n",
    "     'France': 543965,\n",
    "     'Japan': 377915,\n",
    "     'England': 242900 }\n",
    "\n",
    "kor = nationWidth.pop('korea')\n",
    "\n",
    "min([ for nation, width in nationWidth.items()])"
   ]
  },
  {
   "cell_type": "code",
   "execution_count": null,
   "id": "4e08d129-d99e-4c16-82cb-c1c77ab9d09c",
   "metadata": {},
   "outputs": [],
   "source": [
    "nationWidth = {\n",
    "    'Rusia': 17098242,\n",
    "    'China': 9596961,\n",
    "    'France': 543965,\n",
    "    'Japan': 377915,\n",
    "    'England': 242900\n",
    "}\n",
    "\n",
    "def f(key):\n",
    "    return [nationWidth[key] - 220877, key]\n",
    "\n",
    "list(map(f, nationWidth))\n",
    "min(map(f, nationWidth))"
   ]
  },
  {
   "cell_type": "markdown",
   "id": "b959813f-e8ad-4bc1-9949-3cdee449b7e7",
   "metadata": {},
   "source": [
    "# 59번"
   ]
  },
  {
   "cell_type": "code",
   "execution_count": 118,
   "id": "d6b6f8ac-6d56-4148-ab90-56db62ffb018",
   "metadata": {},
   "outputs": [
    {
     "name": "stdout",
     "output_type": "stream",
     "text": [
      "hi!!!!!!!!\n",
      "!!!!!!!!hi\n",
      "!!!!hi!!!!\n",
      "!!!hio!!!!\n"
     ]
    }
   ],
   "source": [
    "print(f'{\"hi\":!<10}')\n",
    "print(f'{\"hi\":!>10}')\n",
    "print(f'{\"hi\":!^10}')\n",
    "print(f'{\"hio\":!^10}')"
   ]
  },
  {
   "cell_type": "code",
   "execution_count": 119,
   "id": "17d74050-70a4-4f2a-986f-8378e5c64ab8",
   "metadata": {},
   "outputs": [
    {
     "name": "stdout",
     "output_type": "stream",
     "text": [
      "========================hi========================\n"
     ]
    }
   ],
   "source": [
    "input = 'hi'\n",
    "print(f'{input:=^50}')"
   ]
  },
  {
   "cell_type": "markdown",
   "id": "0a01c402-0eed-4f6c-bdef-44a78b2b21fc",
   "metadata": {},
   "source": [
    "# 60번"
   ]
  },
  {
   "cell_type": "code",
   "execution_count": 121,
   "id": "408d942a-b15a-4363-ad17-7605780dfe3a",
   "metadata": {},
   "outputs": [
    {
     "name": "stdout",
     "output_type": "stream",
     "text": [
      "번호: 1, 이름: 강은지\n",
      "번호: 2, 이름: 강채연\n",
      "번호: 3, 이름: 권윤일\n",
      "번호: 4, 이름: 김민호\n",
      "번호: 5, 이름: 김유정\n",
      "번호: 6, 이름: 김진이\n",
      "번호: 7, 이름: 김채리\n",
      "번호: 8, 이름: 박지호\n",
      "번호: 9, 이름: 박현서\n",
      "번호: 10, 이름: 최성훈\n",
      "번호: 11, 이름: 한지호\n",
      "번호: 12, 이름: 홍유진\n"
     ]
    }
   ],
   "source": [
    "student = ['강은지','김유정','박현서','최성훈','홍유진','박지호','권윤일','김채리','한지호','김진이','김민호','강채연']\n",
    "for num, name in enumerate(sorted(student)):\n",
    "    print(f'번호: {num+1}, 이름: {name}')"
   ]
  },
  {
   "cell_type": "markdown",
   "id": "b8b069ec-0674-497a-a3b5-b1be4aa80f95",
   "metadata": {},
   "source": [
    "# 61번 -> 암기!"
   ]
  },
  {
   "cell_type": "code",
   "execution_count": 135,
   "id": "824143e1-c475-42f5-87ad-7246baee487b",
   "metadata": {},
   "outputs": [
    {
     "data": {
      "text/plain": [
       "'a3b4c1d4'"
      ]
     },
     "execution_count": 135,
     "metadata": {},
     "output_type": "execute_result"
    }
   ],
   "source": [
    "from collections import Counter\n",
    "input = 'aaabbbbcdddd'\n",
    "c = Counter(input)\n",
    "s = sorted(c)\n",
    "answer = [i+str(c[i]) for i in c]\n",
    "''.join(answer)"
   ]
  },
  {
   "cell_type": "code",
   "execution_count": 139,
   "id": "45e6e968-dac2-42d2-8e0f-3d33a117ff79",
   "metadata": {},
   "outputs": [
    {
     "data": {
      "text/plain": [
       "'a3b4c1d4a3b4c1d4'"
      ]
     },
     "execution_count": 139,
     "metadata": {},
     "output_type": "execute_result"
    }
   ],
   "source": [
    "import re\n",
    "\n",
    "# input = 'aaabbbbcdddd'\n",
    "input = 'aaabbbbcddddaaabbbbcdddd'\n",
    "\n",
    "answer = ''\n",
    "for i in re.findall('(\\\\w)(\\\\1*)', input):\n",
    "    answer += i[0]+str(len(i[1])+1)\n",
    "answer"
   ]
  },
  {
   "cell_type": "markdown",
   "id": "c024a64a-867b-4be3-baf3-65ded0f346c4",
   "metadata": {},
   "source": [
    "# 65번"
   ]
  },
  {
   "cell_type": "code",
   "execution_count": 145,
   "id": "a2fc91b2-201b-4114-a17f-b48c0a0ea6e2",
   "metadata": {},
   "outputs": [
    {
     "data": {
      "text/plain": [
       "[[1, 'a'], ['b', 2], [3, 'c'], ['d', 4]]"
      ]
     },
     "execution_count": 145,
     "metadata": {},
     "output_type": "execute_result"
    }
   ],
   "source": [
    "a = [1, 2, 3, 4]\n",
    "b = ['a', 'b', 'c', 'd']\n",
    "\n",
    "list(map(lambda x: list(x[::-1]) if x[0]%2==0 else list(x), zip(a, b)))"
   ]
  },
  {
   "cell_type": "markdown",
   "id": "a14b5188-2962-41ed-9933-ef24da35f21b",
   "metadata": {},
   "source": [
    "# 66번\n",
    "\n",
    "```탑을 쌓기 위해 각 크기별로 준비된 블럭들을 정해진 순서에 맞게 쌓아햐 합니다.\n",
    "순서에 맞게 쌓지 않으면 무너질 수 있습니다.\n",
    "예를 들면 정해진 순서가 BAC 라면 A 다음 C가 쌓아져야 합니다.\n",
    "선행으로 쌓아야 하는 블럭이 만족된 경우라면 탑이 무너지지 않습니다.\n",
    "\n",
    "- B를 쌓지 않아도 A와 C를 쌓을 수 있습니다.\n",
    "- B 다음 블럭이 C가 될 수 있습니다.\n",
    "\n",
    "쌓아져 있는 블럭 탑이 순서에 맞게 쌓아져 있는지 확인하세요.\n",
    "\n",
    "1. 블럭은 알파벳 대문자로 표기합니다.\n",
    "2. 규칙에 없는 블럭이 사용될 수 있습니다.\n",
    "3. 중복된 블럭은 존재하지 않습니다.\n",
    "\n",
    "입력\n",
    "탑 = [\"ABCDEF\", \"BCAD\", \"ADEFQRX\", \"BEDFG\"]\n",
    "규칙 = \"ABD\"\n",
    "\n",
    "출력\n",
    "[\"가능\", \"불가능\", \"가능\", \"가능\"]\n",
    "```"
   ]
  },
  {
   "cell_type": "code",
   "execution_count": 164,
   "id": "80a4f3df-2186-43db-881d-c07e68c0b252",
   "metadata": {},
   "outputs": [
    {
     "data": {
      "text/plain": [
       "['가능', '불가능', '가능', '가능', '가능']"
      ]
     },
     "execution_count": 164,
     "metadata": {},
     "output_type": "execute_result"
    }
   ],
   "source": [
    "input = [\"ABCDEF\", \"BCAD\", \"ADEFQRX\", \"BEDFG\", \"\"]\n",
    "rule = \"ABD\"\n",
    "\n",
    "result = list(map(lambda x: [x.find(r) for r in rule if x.find(r) != -1], input))\n",
    "# list(map(lambda x: '가능' if all(x[i] < x[i+1] for i in range(len(x)-1)) else '불가능', result))\n",
    "list(map(lambda x: '가능' if x == sorted(x) else '불가능', result))\n",
    "\n",
    "# 예외\n",
    "## 'A'가 중복해서 나오는 경우 -> 규칙에서 허용하지 않음\n",
    "## 아무런 문자열을 찾지 못하는 경우 -> 가능이 출력됨"
   ]
  },
  {
   "cell_type": "code",
   "execution_count": null,
   "id": "aef46608-0b15-40fe-9e3f-369856943f71",
   "metadata": {},
   "outputs": [],
   "source": [
    "def solution(string, rule):\n",
    "    for s in string:\n",
    "        temp = 0\n",
    "        for i in s: #i:'D', s:\"ABCDEF\"\n",
    "            if i in rule:\n",
    "                if temp > rule.index(i): # rule.index(i): 문자가 rule에 있다면 몇 번째에 있는지(1 > 3)\n",
    "                    return '불가능'\n",
    "                temp = rule.index(i)\n",
    "                    "
   ]
  },
  {
   "cell_type": "markdown",
   "id": "46f0856f-ea80-46b9-9839-f4cb3a0fadd5",
   "metadata": {},
   "source": [
    "# 67번 -> 수학문제 / 다시 풀이"
   ]
  },
  {
   "cell_type": "code",
   "execution_count": 167,
   "id": "48ebd596-8836-43bd-a821-8ef24e45127f",
   "metadata": {},
   "outputs": [
    {
     "data": {
      "text/plain": [
       "6"
      ]
     },
     "execution_count": 167,
     "metadata": {},
     "output_type": "execute_result"
    }
   ],
   "source": [
    "from itertools import combinations\n",
    "\n",
    "n = 4\n",
    "nums = range(n)\n",
    "combi = list(combinations(nums, 2))\n",
    "len(combi)"
   ]
  },
  {
   "cell_type": "markdown",
   "id": "7d2fed8d-f9a2-4d49-8ec8-263a68c467e5",
   "metadata": {},
   "source": [
    "# 68번"
   ]
  },
  {
   "cell_type": "code",
   "execution_count": null,
   "id": "cd1150eb-9786-44a1-b3e4-9ff77e6d4311",
   "metadata": {},
   "outputs": [],
   "source": [
    "1. 데이터\n",
    "\n",
    "graph = {'E': set(['D', 'A']),\n",
    "         'F': set(['D']),\n",
    "         'A': set(['E', 'C', 'B']),\n",
    "         'B': set(['A']),\n",
    "         'C': set(['A']),\n",
    "         'D': set(['E','F'])}\n",
    "\n",
    "2. 출력\n",
    "['E', 'A', 'B', 'C', 'D', 'F']\n",
    "\n",
    "3. 코드\n",
    "\n",
    "graph = {\n",
    "        'A': set(['B', 'C', 'E']),\n",
    "        'B': set(['A']),\n",
    "        'C': set(['A']),\n",
    "        'D': set(['E', 'F']),\n",
    "        'E': set(['A', 'D']),\n",
    "        'F': set(['D'])\n",
    "}\n",
    "\n",
    "def dfs(graph, start):\n",
    "    visited = []\n",
    "    stack = [start]\n",
    "\n",
    "    while stack:\n",
    "        n = stack.pop()\n",
    "        if n not in visited:\n",
    "            visited.append(n)\n",
    "            pass\n",
    "    return visited\n",
    "\n",
    "print(dfs(graph, 'E'))"
   ]
  },
  {
   "cell_type": "code",
   "execution_count": 180,
   "id": "2107df52-f65c-4fa5-a95b-4eb98504a98d",
   "metadata": {},
   "outputs": [
    {
     "data": {
      "text/plain": [
       "['E', 'D', 'F', 'A', 'B', 'C']"
      ]
     },
     "execution_count": 180,
     "metadata": {},
     "output_type": "execute_result"
    }
   ],
   "source": [
    "graph = {'E': set(['D', 'A']),\n",
    "         'F': set(['D']),\n",
    "         'A': set(['E', 'C', 'B']),\n",
    "         'B': set(['A']),\n",
    "         'C': set(['A']),\n",
    "         'D': set(['E','F'])}\n",
    "\n",
    "start = 'E'\n",
    "visited = []\n",
    "stack = [start]\n",
    "\n",
    "while stack:\n",
    "    n = stack.pop()\n",
    "    if n not in visited:\n",
    "        visited.append(n)\n",
    "        # 오른쪽\n",
    "        # stack.extend(graph[n])\n",
    "        # stack += graph[n] - set(visited) # 방문했던 경로를 다시 방문하지 않도록\n",
    "        # 왼쪽\n",
    "        stack.extend(reversed(list(graph[n])))\n",
    "        \n",
    "visited"
   ]
  },
  {
   "cell_type": "markdown",
   "id": "e6cdb2c2-e3f0-4161-a362-040e11b23950",
   "metadata": {},
   "source": [
    "# 76번"
   ]
  },
  {
   "cell_type": "code",
   "execution_count": 187,
   "id": "68c13e16-fe44-467f-a762-317393dfd630",
   "metadata": {},
   "outputs": [
    {
     "data": {
      "text/plain": [
       "3"
      ]
     },
     "execution_count": 187,
     "metadata": {},
     "output_type": "execute_result"
    }
   ],
   "source": [
    "region = 5\n",
    "search = 3\n",
    "\n",
    "target = [[1, 0, 0, 1, 0],\n",
    "          [0, 1, 0, 0, 1],\n",
    "          [0, 0, 0, 1, 0],\n",
    "          [0, 0, 0, 0, 0],\n",
    "          [0, 0, 1, 0, 0]]\n",
    "\n",
    "import pandas as pd\n",
    "\n",
    "target = pd.DataFrame(target)\n",
    "max_bomb = -float('inf')\n",
    "\n",
    "for h in range(region - search + 1):\n",
    "    for v in range(region - search + 1):\n",
    "        bomb = target.iloc[v:v+search, h:h+search].sum().sum()\n",
    "        if bomb > max_bomb:\n",
    "            max_bomb = bomb\n",
    "\n",
    "max_bomb"
   ]
  },
  {
   "cell_type": "code",
   "execution_count": 188,
   "id": "bb95f876-129c-46c0-bf81-25c07b8723c7",
   "metadata": {},
   "outputs": [
    {
     "data": {
      "text/plain": [
       "3"
      ]
     },
     "execution_count": 188,
     "metadata": {},
     "output_type": "execute_result"
    }
   ],
   "source": [
    "import numpy as np\n",
    "\n",
    "arr = np.array(target)\n",
    "max_bomb = -float('inf')\n",
    "\n",
    "for h in range(region - search + 1):\n",
    "    for v in range(region - search + 1):\n",
    "        bomb = arr[v:v+search, h:h+search].sum()\n",
    "        if bomb > max_bomb:\n",
    "            max_bomb = bomb\n",
    "max_bomb"
   ]
  },
  {
   "cell_type": "code",
   "execution_count": 189,
   "id": "d6d666d0-a675-4790-b961-c67caeb8bceb",
   "metadata": {},
   "outputs": [
    {
     "data": {
      "text/plain": [
       "2"
      ]
     },
     "execution_count": 189,
     "metadata": {},
     "output_type": "execute_result"
    }
   ],
   "source": [
    "# 라이브러리 없이 배열 flatten 하는 방법\n",
    "\n",
    "answer = [[1, 0, 0],\n",
    "          [0, 1, 0],\n",
    "          [0, 0, 0]]\n",
    "\n",
    "# sum(answer) # error\n",
    "sum(answer, [])\n",
    "sum(sum(answer, []))"
   ]
  },
  {
   "cell_type": "markdown",
   "id": "ab0a68b7-7895-4431-993e-6e9bbdda637d",
   "metadata": {},
   "source": [
    "# 78번"
   ]
  },
  {
   "cell_type": "code",
   "execution_count": 213,
   "id": "b4459626-0b74-4e11-986f-5ee6908028c5",
   "metadata": {},
   "outputs": [
    {
     "name": "stdout",
     "output_type": "stream",
     "text": [
      "먹은 음식: 1\n",
      "남은 음식: [2, 3, 4, 5, 6]\n",
      "먹은 음식: 4\n",
      "남은 음식: [2, 3, 5, 6]\n",
      "먹은 음식: 2\n",
      "남은 음식: [3, 5, 6]\n",
      "먹은 음식: 6\n",
      "남은 음식: [3, 5]\n"
     ]
    },
    {
     "data": {
      "text/plain": [
       "[3, 5]"
      ]
     },
     "execution_count": 213,
     "metadata": {},
     "output_type": "execute_result"
    }
   ],
   "source": [
    "n = 6\n",
    "k = 3\n",
    "\n",
    "def solution(n, k):\n",
    "    k = k-1\n",
    "    start = 0\n",
    "    \n",
    "    foods = list(range(1, n+1))\n",
    "    \n",
    "    while len(foods) > 2:\n",
    "        print(f'먹은 음식: {foods[start]}')\n",
    "        foods.pop(start)\n",
    "        print(f'남은 음식: {foods}')\n",
    "        \n",
    "        if start+k >= len(foods):\n",
    "            start = (start+k)-len(foods)\n",
    "        else:\n",
    "            start += k\n",
    "    return foods\n",
    "\n",
    "solution(6, 3)"
   ]
  },
  {
   "cell_type": "code",
   "execution_count": 212,
   "id": "772c88cb-8730-4ef2-8c17-1b648962e440",
   "metadata": {},
   "outputs": [
    {
     "name": "stdout",
     "output_type": "stream",
     "text": [
      "먹은 음식: 1\n",
      "남은 음식 회전 전: deque([2, 3, 4, 5, 6])\n",
      "남은 음식 회전 후: deque([4, 5, 6, 2, 3])\n",
      "먹은 음식: 4\n",
      "남은 음식 회전 전: deque([5, 6, 2, 3])\n",
      "남은 음식 회전 후: deque([2, 3, 5, 6])\n",
      "먹은 음식: 2\n",
      "남은 음식 회전 전: deque([3, 5, 6])\n",
      "남은 음식 회전 후: deque([6, 3, 5])\n",
      "먹은 음식: 6\n",
      "남은 음식 회전 전: deque([3, 5])\n",
      "남은 음식 회전 후: deque([3, 5])\n"
     ]
    },
    {
     "data": {
      "text/plain": [
       "deque([3, 5])"
      ]
     },
     "execution_count": 212,
     "metadata": {},
     "output_type": "execute_result"
    }
   ],
   "source": [
    "from collections import deque\n",
    "\n",
    "n = 6\n",
    "k = 3\n",
    "\n",
    "def solution(n, k):\n",
    "    k -= 1\n",
    "    foods = list(range(1, n+1))\n",
    "    food_r = deque(foods)\n",
    "    \n",
    "    while len(food_r) > k:\n",
    "        # food_r.popleft()\n",
    "        print(f'먹은 음식: {food_r.popleft()}')\n",
    "        print(f'남은 음식 회전 전: {food_r}')\n",
    "        food_r.rotate(-k)\n",
    "        print(f'남은 음식 회전 후: {food_r}')\n",
    "    return food_r\n",
    "\n",
    "solution(6, 3)"
   ]
  },
  {
   "cell_type": "markdown",
   "id": "6dd62e2c-a3aa-4e69-a62b-7b0051b2d4c4",
   "metadata": {},
   "source": [
    "# 81번"
   ]
  },
  {
   "cell_type": "code",
   "execution_count": 255,
   "id": "58c011c7-d330-4550-bed0-4c957d7b6989",
   "metadata": {},
   "outputs": [
    {
     "name": "stdout",
     "output_type": "stream",
     "text": [
      "[['*' 'f' '*' '0' '0']\n",
      " ['0' '*' '0' '*' '0']\n",
      " ['0' '0' '*' 'f' '*']\n",
      " ['0' '*' 'f' '*' '0']\n",
      " ['0' '0' '*' '0' '0']]\n"
     ]
    }
   ],
   "source": [
    "matrix = [\n",
    "    [0, 1, 0, 0, 0],\n",
    "    [0, 0, 0, 0, 0],\n",
    "    [0, 0, 0, 1, 0],\n",
    "    [0, 0, 1, 0, 0],\n",
    "    [0, 0, 0, 0, 0]\n",
    "]\n",
    "\n",
    "import numpy as np\n",
    "\n",
    "matrix_arr = np.array(matrix)\n",
    "matrix_arr = np.where(matrix_arr==1, 'f', matrix_arr)\n",
    "\n",
    "for v, h in zip(np.where(matrix_arr=='f')[0], np.where(matrix_arr=='f')[1]):\n",
    "    \n",
    "    if v != 0:\n",
    "        matrix_arr[v-1, h] = '*'\n",
    "    if h != 0:\n",
    "        matrix_arr[v, h-1] = '*'\n",
    "    if v+1 < matrix_arr.shape[0]:\n",
    "        matrix_arr[v+1, h] = '*'\n",
    "    if h+1 < matrix_arr.shape[1]:\n",
    "        matrix_arr[v, h+1] = '*'\n",
    "        \n",
    "print(matrix_arr)"
   ]
  },
  {
   "cell_type": "markdown",
   "id": "e2109953-3dbc-48e8-939e-1a89e34f3f65",
   "metadata": {},
   "source": [
    "# 84번"
   ]
  },
  {
   "cell_type": "code",
   "execution_count": 320,
   "id": "6963ea3c-dbcc-4944-9579-1cbc66ed1c47",
   "metadata": {},
   "outputs": [],
   "source": [
    "def solution(number, k):\n",
    "    from itertools import permutations\n",
    "    import numpy as np\n",
    "\n",
    "    number_list = list(map(lambda x: int(''.join(x)), permutations(str(number), k)))\n",
    "    answer = np.max(number_list)\n",
    "    \n",
    "    return answer"
   ]
  },
  {
   "cell_type": "code",
   "execution_count": 321,
   "id": "f1f3429b-6eb7-4554-a437-9c0f5b80bcc7",
   "metadata": {
    "scrolled": true
   },
   "outputs": [
    {
     "data": {
      "text/plain": [
       "76321"
      ]
     },
     "execution_count": 321,
     "metadata": {},
     "output_type": "execute_result"
    }
   ],
   "source": [
    "solution(17236, 5)"
   ]
  },
  {
   "cell_type": "code",
   "execution_count": 326,
   "id": "6cf82c0a-d4ea-454b-be7d-118f5b8e7dbf",
   "metadata": {},
   "outputs": [],
   "source": [
    "def solution(number, k):\n",
    "    l = [i for i in str(number)]\n",
    "    return int(max([''.join(i) for i in list(permutations(l, k))]))"
   ]
  },
  {
   "cell_type": "code",
   "execution_count": null,
   "id": "9cf66960-32d1-4d0f-bf50-52e638865556",
   "metadata": {},
   "outputs": [],
   "source": [
    "solution(17236, 5)"
   ]
  },
  {
   "cell_type": "code",
   "execution_count": 324,
   "id": "1dc8751a-0de8-4d13-aa0c-78e7ab621d49",
   "metadata": {},
   "outputs": [
    {
     "name": "stdout",
     "output_type": "stream",
     "text": [
      "763\n"
     ]
    }
   ],
   "source": [
    "# number = int(input('숫자 입력: '))\n",
    "# k = int(input('k값 입력: '))\n",
    "number = 17236\n",
    "k = 3\n",
    "\n",
    "number_str = str(number)\n",
    "number_str = sorted(number_str, reverse=True)\n",
    "large_number = int(''.join(number_str[:k]))\n",
    "\n",
    "print(large_number)"
   ]
  },
  {
   "cell_type": "markdown",
   "id": "855d30f7-f3a2-4252-908f-9418fed23fe0",
   "metadata": {},
   "source": [
    "# 85번"
   ]
  },
  {
   "cell_type": "code",
   "execution_count": 317,
   "id": "24a3f733-91b7-4e08-a488-fcd99c3c6cfd",
   "metadata": {},
   "outputs": [
    {
     "data": {
      "text/plain": [
       "'122232'"
      ]
     },
     "execution_count": 317,
     "metadata": {},
     "output_type": "execute_result"
    }
   ],
   "source": [
    "from collections import Counter\n",
    "\n",
    "counter = Counter('132231')\n",
    "\n",
    "answer = ''\n",
    "for i, j in sorted(counter.items()):\n",
    "    answer += i+str(j)\n",
    "\n",
    "answer"
   ]
  },
  {
   "cell_type": "code",
   "execution_count": 334,
   "id": "1212db48-ab7e-4394-b5a7-7e42b93f03d2",
   "metadata": {},
   "outputs": [
    {
     "name": "stdout",
     "output_type": "stream",
     "text": [
      "11\n",
      "12\n",
      "1121\n",
      "1321\n",
      "122131\n",
      "132231\n"
     ]
    }
   ],
   "source": [
    "from collections import Counter\n",
    "\n",
    "n = 6\n",
    "answer = '1'\n",
    "\n",
    "for i in range(n):\n",
    "    counter = Counter(answer)\n",
    "\n",
    "    answer = ''.join([num+str(freq) for num, freq in sorted(counter.items())])\n",
    "    print(answer)"
   ]
  },
  {
   "cell_type": "code",
   "execution_count": 333,
   "id": "57a11263-9ca8-4311-8934-b86aced352d1",
   "metadata": {
    "collapsed": true,
    "jupyter": {
     "outputs_hidden": true
    }
   },
   "outputs": [
    {
     "ename": "TypeError",
     "evalue": "'numpy.int64' object is not callable",
     "output_type": "error",
     "traceback": [
      "\u001b[0;31m---------------------------------------------------------------------------\u001b[0m",
      "\u001b[0;31mTypeError\u001b[0m                                 Traceback (most recent call last)",
      "Cell \u001b[0;32mIn[333], line 4\u001b[0m\n\u001b[1;32m      1\u001b[0m \u001b[38;5;28;01mdef\u001b[39;00m \u001b[38;5;21mcount_number\u001b[39m(value):\n\u001b[1;32m      2\u001b[0m     \u001b[38;5;28;01mreturn\u001b[39;00m [value\u001b[38;5;241m.\u001b[39mcount(\u001b[38;5;28mstr\u001b[39m(i)) \u001b[38;5;28;01mfor\u001b[39;00m i \u001b[38;5;129;01min\u001b[39;00m \u001b[38;5;28mrange\u001b[39m(\u001b[38;5;241m1\u001b[39m, \u001b[38;5;28mint\u001b[39m(\u001b[38;5;28mmax\u001b[39m(value))\u001b[38;5;241m+\u001b[39m\u001b[38;5;241m1\u001b[39m)]\n\u001b[0;32m----> 4\u001b[0m \u001b[43mcount_number\u001b[49m\u001b[43m(\u001b[49m\u001b[38;5;124;43m'\u001b[39;49m\u001b[38;5;124;43m1121\u001b[39;49m\u001b[38;5;124;43m'\u001b[39;49m\u001b[43m)\u001b[49m\n",
      "Cell \u001b[0;32mIn[333], line 2\u001b[0m, in \u001b[0;36mcount_number\u001b[0;34m(value)\u001b[0m\n\u001b[1;32m      1\u001b[0m \u001b[38;5;28;01mdef\u001b[39;00m \u001b[38;5;21mcount_number\u001b[39m(value):\n\u001b[0;32m----> 2\u001b[0m     \u001b[38;5;28;01mreturn\u001b[39;00m [value\u001b[38;5;241m.\u001b[39mcount(\u001b[38;5;28mstr\u001b[39m(i)) \u001b[38;5;28;01mfor\u001b[39;00m i \u001b[38;5;129;01min\u001b[39;00m \u001b[38;5;28mrange\u001b[39m(\u001b[38;5;241m1\u001b[39m, \u001b[38;5;28mint\u001b[39m(\u001b[38;5;28;43mmax\u001b[39;49m\u001b[43m(\u001b[49m\u001b[43mvalue\u001b[49m\u001b[43m)\u001b[49m)\u001b[38;5;241m+\u001b[39m\u001b[38;5;241m1\u001b[39m)]\n",
      "\u001b[0;31mTypeError\u001b[0m: 'numpy.int64' object is not callable"
     ]
    }
   ],
   "source": [
    "def evalue(value):\n",
    "    return ''.join([str(i) + str(value.count(str(i))) for i in range(1, int(max(value)) + 1)])\n",
    "\n",
    "def solution(n):\n",
    "    answer = '1'\n",
    "    if n == 1:\n",
    "        return 1\n",
    "    else:\n",
    "        for i in range(1, n):\n",
    "            answer = evalue(answer)\n",
    "            print(answer)\n",
    "    return answer\n",
    "\n",
    "# evalue('1121')\n",
    "solution(6)"
   ]
  },
  {
   "cell_type": "markdown",
   "id": "176211d4-4a1d-4035-8278-6f3a19e773b3",
   "metadata": {},
   "source": [
    "# 86번"
   ]
  },
  {
   "cell_type": "code",
   "execution_count": 372,
   "id": "4f18dc4c-2520-4350-9928-8fd1ee6269e1",
   "metadata": {},
   "outputs": [],
   "source": [
    "def solution(point, dish):\n",
    "    cnt = 0\n",
    "    dish -= 1\n",
    "    \n",
    "    while True:\n",
    "        \n",
    "        if point[0] == np.min(point):\n",
    "            if dish == 0:\n",
    "                break\n",
    "            else:\n",
    "                point.pop(0)\n",
    "        else:\n",
    "            point.append(point.pop(0))\n",
    "        \n",
    "        cnt += 1\n",
    "        \n",
    "        if dish == 0:\n",
    "            dish = len(point)-1\n",
    "        else:\n",
    "            dish -= 1\n",
    "        # dish = len(point) - 1 if dish == 0 else dish - 1\n",
    "            \n",
    "    return cnt"
   ]
  },
  {
   "cell_type": "code",
   "execution_count": 375,
   "id": "9f582869-02bb-43ce-b9ae-93d89b526c38",
   "metadata": {},
   "outputs": [
    {
     "data": {
      "text/plain": [
       "5"
      ]
     },
     "execution_count": 375,
     "metadata": {},
     "output_type": "execute_result"
    }
   ],
   "source": [
    "solution([1,1,3,2,5], 3)"
   ]
  },
  {
   "cell_type": "code",
   "execution_count": 373,
   "id": "2212aff2-0ee3-4a6d-b9ae-fac3efab4bc0",
   "metadata": {},
   "outputs": [
    {
     "data": {
      "text/plain": [
       "6"
      ]
     },
     "execution_count": 373,
     "metadata": {},
     "output_type": "execute_result"
    }
   ],
   "source": [
    "solution([1,1,3,2,3,5], 3)"
   ]
  },
  {
   "cell_type": "code",
   "execution_count": 374,
   "id": "dfc65145-4fe8-46e6-9f3e-bc9d3dbc17ec",
   "metadata": {},
   "outputs": [
    {
     "data": {
      "text/plain": [
       "10"
      ]
     },
     "execution_count": 374,
     "metadata": {},
     "output_type": "execute_result"
    }
   ],
   "source": [
    "solution([5,2,3,1,2,5], 1)"
   ]
  },
  {
   "cell_type": "markdown",
   "id": "21cc8447-babe-40a2-86a0-1a2bdedfb774",
   "metadata": {},
   "source": [
    "# 90번"
   ]
  },
  {
   "cell_type": "code",
   "execution_count": 393,
   "id": "2506af78-8a92-47e4-8259-0622f5508957",
   "metadata": {},
   "outputs": [
    {
     "data": {
      "text/plain": [
       "[['C', 'Z', 'E', 'M', 'P', 'U', 'G', 'F'],\n",
       " ['H', 'Q', 'G', 'L', 'J', 'E', 'F', 'R'],\n",
       " ['C', 'Z', 'H', 'E', 'T', 'X', 'D', 'R'],\n",
       " ['D', 'B', 'F', 'V', 'R', 'S', 'G', 'I'],\n",
       " ['O', 'D', 'C', 'F', 'X', 'U', 'B', 'I'],\n",
       " ['E', 'P', 'H', 'U', 'G', 'B', 'Y', 'J'],\n",
       " ['H', 'Z', 'G', 'B', 'X', 'W', 'D', 'K'],\n",
       " ['B', 'D', 'V', 'P', 'O', 'F', 'C', 'M'],\n",
       " ['M', 'E', 'O', 'T', 'V', 'D', 'A', 'G'],\n",
       " ['E', 'D', 'K', 'C', 'Q', 'H', 'T', 'R'],\n",
       " ['A', 'T', 'Y', 'E', 'B', 'G', 'R', 'P'],\n",
       " ['F', 'L', 'S', 'I', 'C', 'G', 'B', 'M'],\n",
       " ['O', 'K', 'Z', 'D', 'G', 'E', 'F', 'N']]"
      ]
     },
     "execution_count": 393,
     "metadata": {},
     "output_type": "execute_result"
    }
   ],
   "source": [
    "import random\n",
    "\n",
    "random.seed(2023)\n",
    "\n",
    "input_medicine = ('ABCDEFGH', 4)\n",
    "medicine = []\n",
    "\n",
    "l = [chr(i) for i in range(65, 91)]\n",
    "\n",
    "total_medicine = []\n",
    "for i in range(100):\n",
    "    total_medicine.append(random.sample(l, 8))\n",
    "\n",
    "for m in total_medicine:\n",
    "    if len(set(input_medicine[0]) & set(m)) == input_medicine[1]:\n",
    "        medicine.append(m)\n",
    "\n",
    "medicine"
   ]
  },
  {
   "cell_type": "markdown",
   "id": "a980567c-b429-4c5f-8829-503b1bafe4db",
   "metadata": {},
   "source": [
    "# 92번"
   ]
  },
  {
   "cell_type": "code",
   "execution_count": 406,
   "id": "7f6a3425-e96b-4355-ade1-48adc96f4ac7",
   "metadata": {},
   "outputs": [
    {
     "data": {
      "text/plain": [
       "[['이과장', '2,012,000', '1,000,000', 'S은행', '100-0000-0000-000'],\n",
       " ['이과장', '222,255,755', '111,101,011', 'S은행', '100-0000-0000-000'],\n",
       " ['이과장', '5,000,000', 'S은행', '100-0000-0000-000'],\n",
       " ['이과장', '2,200,000', '1,000,000', 'S은행', '100-0000-0000-000'],\n",
       " ['이과장', '2,200,000', '1,100,000', 'S은행', '100-0000-0000-000'],\n",
       " ['이과장', '5,200,000', '100,000', 'S은행', '100-0000-0000-000']]"
      ]
     },
     "execution_count": 406,
     "metadata": {},
     "output_type": "execute_result"
    }
   ],
   "source": [
    "test = [['이과장', '3,012,000', 'S은행', '100-0000-0000-000'],\n",
    "        ['이과장', '333,356,766', 'S은행', '100-0000-0000-000'],\n",
    "        ['이과장', '5,000,000', 'S은행', '100-0000-0000-000'],\n",
    "        ['이과장', '3,200,000', 'S은행', '100-0000-0000-000'],\n",
    "        ['이과장', '3,300,000', 'S은행', '100-0000-0000-000'],\n",
    "        ['이과장', '5,300,000', 'S은행', '100-0000-0000-000']]\n",
    "\n",
    "for record in test:\n",
    "    salary = record[1].replace(',', '')\n",
    "    salary_2 = salary.replace('3', '2').replace('4', '2').replace('6', '5')\n",
    "    \n",
    "    if salary != salary_2:\n",
    "        record.insert(2, format(int(salary) - int(salary_2), ','))\n",
    "        record[1] = format(int(salary_2), ',')\n",
    "\n",
    "test"
   ]
  },
  {
   "cell_type": "markdown",
   "id": "d4b6f4a1-c69f-4f1a-8cab-ad7117415fe2",
   "metadata": {},
   "source": [
    "# 93번"
   ]
  },
  {
   "cell_type": "code",
   "execution_count": 419,
   "id": "60f0fc7d-8e12-462c-9cad-c7a01bff9238",
   "metadata": {},
   "outputs": [],
   "source": [
    "def solution(case, memory):\n",
    "\n",
    "    hit = 1\n",
    "    miss = 6\n",
    "    pages = []\n",
    "    run_time = 0\n",
    "    \n",
    "    for i in case:\n",
    "        if i in pages:\n",
    "            run_time += hit\n",
    "        else:\n",
    "            pages.append(i)\n",
    "            run_time += miss\n",
    "            if len(pages) > memory:\n",
    "                pages.pop(0)\n",
    "                \n",
    "    return run_time"
   ]
  },
  {
   "cell_type": "code",
   "execution_count": 420,
   "id": "86b0efc1-d7a9-4fc7-973a-3b1670d38479",
   "metadata": {},
   "outputs": [
    {
     "name": "stdout",
     "output_type": "stream",
     "text": [
      "['B'] 6\n",
      "['B', 'C'] 12\n",
      "['B', 'C'] 13\n",
      "['B', 'C', 'A'] 19\n",
      "['C', 'A', 'E'] 25\n",
      "['A', 'E', 'B'] 31\n",
      "['E', 'B', 'C'] 37\n",
      "['E', 'B', 'C'] 38\n",
      "38\n",
      "['A'] 6\n",
      "['A', 'B'] 12\n",
      "['A', 'B', 'C'] 18\n",
      "['A', 'B', 'C'] 19\n",
      "['A', 'B', 'C'] 20\n",
      "['A', 'B', 'C'] 21\n",
      "['A', 'B', 'C'] 22\n",
      "['A', 'B', 'C'] 23\n",
      "['A', 'B', 'C'] 24\n",
      "24\n",
      "['A'] 6\n",
      "['A', 'B'] 12\n",
      "['A', 'B', 'C'] 18\n",
      "['A', 'B', 'C', 'D'] 24\n",
      "['A', 'B', 'C', 'D'] 25\n",
      "['A', 'B', 'C', 'D'] 26\n",
      "['B', 'C', 'D', 'E'] 32\n",
      "['C', 'D', 'E', 'A'] 38\n",
      "['D', 'E', 'A', 'B'] 44\n",
      "['E', 'A', 'B', 'C'] 50\n",
      "['A', 'B', 'C', 'D'] 56\n",
      "['B', 'C', 'D', 'E'] 62\n",
      "62\n",
      "[] 6\n",
      "[] 12\n",
      "[] 18\n",
      "[] 24\n",
      "[] 30\n",
      "[] 36\n",
      "36\n",
      "['A'] 6\n",
      "['A', 'B'] 12\n",
      "['A', 'B', 'C'] 18\n",
      "['B', 'C', 'D'] 24\n",
      "['C', 'D', 'A'] 30\n",
      "['D', 'A', 'B'] 36\n",
      "['A', 'B', 'E'] 42\n",
      "['A', 'B', 'E'] 43\n",
      "43\n"
     ]
    }
   ],
   "source": [
    "test_case = [('BCBAEBCE', 3), ('ABCABCABC', 3), ('ABCDABEABCDE', 4), ('ABCEDF', 0), ('ABCDABEA', 3)]\n",
    "\n",
    "for case, memory in test_case:\n",
    "    solution(case, memory)"
   ]
  },
  {
   "cell_type": "markdown",
   "id": "f44cbbcf-30f2-4076-bdfc-84d975bbc131",
   "metadata": {},
   "source": [
    "# 97번"
   ]
  },
  {
   "cell_type": "code",
   "execution_count": 438,
   "id": "f7c5ccba-c141-426d-b1d2-d0d6ae1d9f3a",
   "metadata": {},
   "outputs": [
    {
     "name": "stdout",
     "output_type": "stream",
     "text": [
      "5\n"
     ]
    }
   ],
   "source": [
    "p = 3\n",
    "times = [1, 2, 1, 3, 3, 3]\n",
    "\n",
    "def solution(p, times):\n",
    "    total_time = 0\n",
    "    delivery = [times.pop(0) for _ in range(p)]\n",
    "    # print(delivery, times)\n",
    "    \n",
    "    while True:\n",
    "        delivery = list(map(lambda x: x-1 if x!=0 else x, delivery))\n",
    "        total_time += 1\n",
    "        # print(delivery, times)\n",
    "        delivery = [times.pop(0) if (i==0) & (len(times)!=0) else i for i in delivery]\n",
    "        # print(delivery, times)\n",
    "        if (len(times)==0) & (sum(delivery)==0):\n",
    "            break\n",
    "    return total_time\n",
    "print(solution(p, times))"
   ]
  }
 ],
 "metadata": {
  "kernelspec": {
   "display_name": "Python 3 (ipykernel)",
   "language": "python",
   "name": "python3"
  },
  "language_info": {
   "codemirror_mode": {
    "name": "ipython",
    "version": 3
   },
   "file_extension": ".py",
   "mimetype": "text/x-python",
   "name": "python",
   "nbconvert_exporter": "python",
   "pygments_lexer": "ipython3",
   "version": "3.11.0"
  }
 },
 "nbformat": 4,
 "nbformat_minor": 5
}
