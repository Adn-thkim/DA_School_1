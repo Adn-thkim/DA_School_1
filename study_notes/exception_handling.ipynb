{
 "cells": [
  {
   "cell_type": "markdown",
   "id": "435bb354-bc09-4a69-bfb9-92fb0e20d365",
   "metadata": {},
   "source": [
    "# 예외처리\n",
    "\n",
    "오류가 나면 파이썬은 에러가 나서 -> 수행이 중지가 됩니다.\n",
    "1. 중지 되지 않고 수행\n",
    "2. 예외적인 부분이나 에러를 좀더 효과적으로\n",
    "3. 기타\n",
    "\n",
    "[오류의 종류]\n",
    "* 프로그램 실행 전에 발생\n",
    "* 프로그램 실행 중에 발생\n",
    "\n",
    "[예시]\n",
    "* ML 모델 돌리는데 데이터에 Null값이 있을때 \n",
    "* 크롤링시에 URL주소를 잘못 입력했을때\n",
    "* 숫자형 대신에 누군가 문자형을 입력했을때\n"
   ]
  },
  {
   "cell_type": "markdown",
   "id": "944003ba-06d7-4e61-8e17-576af5361b70",
   "metadata": {},
   "source": [
    "## 예외 종류\n",
    "* AttributeError - 존재하지 않는 속성 지정\n",
    "* IndexError - 존재하지 않는 범위의 인덱스 지정\n",
    "* KeyError - 존재하지 않는 키를 지정\n",
    "* TypeError - 올바르지 않는 타입 지정\n",
    "* ValueError - 올바르지 않는 값 지정\n",
    "* ZeroDivisionError - 0으로 나눔"
   ]
  },
  {
   "cell_type": "markdown",
   "id": "181fcdf3-ea41-4874-a640-cce8b9a2ebec",
   "metadata": {},
   "source": [
    "## Try - except\n",
    "\n",
    "```python\n",
    "try:\n",
    "    명령\n",
    "except:\n",
    "    예외 처리 명령\n",
    "```"
   ]
  },
  {
   "cell_type": "code",
   "execution_count": 1,
   "id": "d37a0aa8-6d03-42b8-b755-e9562bacbe33",
   "metadata": {},
   "outputs": [
    {
     "name": "stdin",
     "output_type": "stream",
     "text": [
      "숫자를 입력해주세요 a\n"
     ]
    },
    {
     "name": "stdout",
     "output_type": "stream",
     "text": [
      "숫자 외에 자료형이 입력되었어요\n"
     ]
    }
   ],
   "source": [
    "try: # 꼭 실행되어야 할 구문\n",
    "    num = int(input('숫자를 입력해주세요'))\n",
    "except: # try가 실행되지 않았을때 except 실행\n",
    "    print(\"숫자 외에 자료형이 입력되었어요\")"
   ]
  },
  {
   "cell_type": "code",
   "execution_count": 2,
   "id": "b33beecb-2707-4b3d-85ce-7f044b55e617",
   "metadata": {},
   "outputs": [
    {
     "name": "stdin",
     "output_type": "stream",
     "text": [
      "숫자를 입력해주세요 a\n"
     ]
    },
    {
     "name": "stdout",
     "output_type": "stream",
     "text": [
      "숫자 외에 자료형이 입력되었어요\n"
     ]
    }
   ],
   "source": [
    "try: # 꼭 실행되어야 할 구문\n",
    "    num = int(input('숫자를 입력해주세요'))\n",
    "except ValueError: # try가 실행되지 않았을때 except 실행\n",
    "    print(\"숫자 외에 자료형이 입력되었어요\")"
   ]
  },
  {
   "cell_type": "code",
   "execution_count": 3,
   "id": "4afe4cfd-6ac1-417d-aaa6-7a85823557d7",
   "metadata": {},
   "outputs": [
    {
     "name": "stdout",
     "output_type": "stream",
     "text": [
      "invalid literal for int() with base 10: 'a'\n"
     ]
    }
   ],
   "source": [
    "try:\n",
    "    int('a')\n",
    "except Exception as e:\n",
    "    print(e)"
   ]
  },
  {
   "cell_type": "code",
   "execution_count": 5,
   "id": "3ed99f7c-5155-4ee1-b62f-1ecd9292ed1b",
   "metadata": {},
   "outputs": [],
   "source": [
    "def div_num(a,b):\n",
    "    try:\n",
    "        val = a / b\n",
    "        print(val)\n",
    "    except ZeroDivisionError:\n",
    "        print(\"나눗셈의 분모가 0일때는 처리할 수 없습니다.\")"
   ]
  },
  {
   "cell_type": "code",
   "execution_count": 10,
   "id": "75e292a1-8578-46ec-a4d8-df743114dc3a",
   "metadata": {},
   "outputs": [
    {
     "name": "stdout",
     "output_type": "stream",
     "text": [
      "나눗셈의 분모가 0일때는 처리할 수 없습니다.\n"
     ]
    }
   ],
   "source": [
    "div_num(3, 0)"
   ]
  },
  {
   "cell_type": "markdown",
   "id": "41d2f27e-0a79-4c9e-b9d0-94c51b0b28cf",
   "metadata": {},
   "source": [
    "## Try - except - pass"
   ]
  },
  {
   "cell_type": "code",
   "execution_count": 11,
   "id": "d83aa4b4-34e5-4dbe-9444-c7a51406816f",
   "metadata": {},
   "outputs": [
    {
     "name": "stdout",
     "output_type": "stream",
     "text": [
      "[100, '이백', 300]\n",
      "[100, 300]\n"
     ]
    }
   ],
   "source": [
    "list_1 = [100, \"이백\", 300]\n",
    "\n",
    "list_num = []\n",
    "\n",
    "for i in list_1:\n",
    "    try:\n",
    "        float(i)\n",
    "        list_num.append(i)\n",
    "    except:\n",
    "        pass\n",
    "\n",
    "print(list_1)\n",
    "print(list_num)"
   ]
  },
  {
   "cell_type": "markdown",
   "id": "57486fd4-1f50-43d0-9194-2d1e6b8e62f8",
   "metadata": {},
   "source": [
    "## Try - except - else문"
   ]
  },
  {
   "cell_type": "code",
   "execution_count": 13,
   "id": "4b13a2a8-3a54-4b1b-a29d-78b90883966a",
   "metadata": {},
   "outputs": [
    {
     "name": "stdin",
     "output_type": "stream",
     "text": [
      "숫자를 입력해주세요 7\n"
     ]
    },
    {
     "name": "stdout",
     "output_type": "stream",
     "text": [
      "입력된 숫자는 7 입니다.\n"
     ]
    }
   ],
   "source": [
    "try: #\n",
    "    num = int(input(\"숫자를 입력해주세요\"))\n",
    "\n",
    "except:\n",
    "    print(\"숫자가 입력되지 않았습니다.\")\n",
    "\n",
    "else:\n",
    "    print(f\"입력된 숫자는 {num} 입니다.\")"
   ]
  },
  {
   "cell_type": "markdown",
   "id": "a4e43774-46f1-4f8f-a686-ecb9a2a162d4",
   "metadata": {},
   "source": [
    "## Try - except - else - finally문"
   ]
  },
  {
   "cell_type": "code",
   "execution_count": 14,
   "id": "64ddebc1-4582-42d9-b924-dc7ade36d549",
   "metadata": {},
   "outputs": [
    {
     "name": "stdin",
     "output_type": "stream",
     "text": [
      "숫자를 입력해주세요 a\n"
     ]
    },
    {
     "name": "stdout",
     "output_type": "stream",
     "text": [
      "숫자가 입력되지 않았습니다.\n",
      "이 구문은 무조건 실행됩니다.\n"
     ]
    }
   ],
   "source": [
    "try: #예외가 발생할것 같은 구문\n",
    "    num = int(input(\"숫자를 입력해주세요\"))\n",
    "\n",
    "except: #예외가 발생했을때 출력하는 구문\n",
    "    print(\"숫자가 입력되지 않았습니다.\")\n",
    "\n",
    "else: #예외가 발생하지 않았을때 문장 실행\n",
    "    print(f\"입력된 숫자는 {num} 입니다.\")\n",
    "\n",
    "finally: #무조건 실행\n",
    "    print(\"이 구문은 무조건 실행됩니다.\")"
   ]
  },
  {
   "cell_type": "code",
   "execution_count": 15,
   "id": "316b9b98-f308-4d2d-bfcf-f049ba0ad416",
   "metadata": {},
   "outputs": [
    {
     "name": "stdout",
     "output_type": "stream",
     "text": [
      "----- 정상 처리 시 -----\n",
      "나눗셈 결과: 2.0\n",
      "처리를 정상 종료했습니다.\n",
      "처리를 종료했습니다.\n",
      "----- 예외 발생 시 -----\n",
      "예외가 발생했습니다.\n",
      "처리를 종료했습니다.\n"
     ]
    }
   ],
   "source": [
    "def div_num(a, b):\n",
    "    try:\n",
    "        val = a / b\n",
    "        print(\"나눗셈 결과: {}\".format(val))\n",
    "    except:\n",
    "        print(\"예외가 발생했습니다.\")\n",
    "    else:\n",
    "        print(\"처리를 정상 종료했습니다.\")\n",
    "    finally:\n",
    "        print(\"처리를 종료했습니다.\")\n",
    "\n",
    "\n",
    "print('----- 정상 처리 시 -----')\n",
    "div_num(4, 2)\n",
    "print('----- 예외 발생 시 -----')\n",
    "div_num(10, 0)"
   ]
  },
  {
   "cell_type": "markdown",
   "id": "5308b465-0094-483c-ac1d-b5d7d416395b",
   "metadata": {},
   "source": [
    "## raise"
   ]
  },
  {
   "cell_type": "code",
   "execution_count": 22,
   "id": "0d64b475-ca3f-42e3-8765-8e34c861b081",
   "metadata": {},
   "outputs": [
    {
     "ename": "TypeError",
     "evalue": "파라미터가 올바르지 않습니다.",
     "output_type": "error",
     "traceback": [
      "\u001b[0;31m---------------------------------------------------------------------------\u001b[0m",
      "\u001b[0;31mTypeError\u001b[0m                                 Traceback (most recent call last)",
      "Input \u001b[0;32mIn [22]\u001b[0m, in \u001b[0;36m<cell line: 9>\u001b[0;34m()\u001b[0m\n\u001b[1;32m      5\u001b[0m         \u001b[38;5;28;01mraise\u001b[39;00m \u001b[38;5;167;01mTypeError\u001b[39;00m(\u001b[38;5;124m\"\u001b[39m\u001b[38;5;124m파라미터가 올바르지 않습니다.\u001b[39m\u001b[38;5;124m\"\u001b[39m)\n\u001b[1;32m      7\u001b[0m     \u001b[38;5;28;01mreturn\u001b[39;00m num \u001b[38;5;241m*\u001b[39m \u001b[38;5;241m10\u001b[39m\n\u001b[0;32m----> 9\u001b[0m val \u001b[38;5;241m=\u001b[39m \u001b[43mcaltime\u001b[49m\u001b[43m(\u001b[49m\u001b[38;5;124;43m\"\u001b[39;49m\u001b[38;5;124;43m백\u001b[39;49m\u001b[38;5;124;43m\"\u001b[39;49m\u001b[43m)\u001b[49m\n\u001b[1;32m     10\u001b[0m \u001b[38;5;28mprint\u001b[39m(val)\n",
      "Input \u001b[0;32mIn [22]\u001b[0m, in \u001b[0;36mcaltime\u001b[0;34m(num)\u001b[0m\n\u001b[1;32m      3\u001b[0m \u001b[38;5;28;01mdef\u001b[39;00m \u001b[38;5;21mcaltime\u001b[39m(num):\n\u001b[1;32m      4\u001b[0m     \u001b[38;5;28;01mif\u001b[39;00m \u001b[38;5;129;01mnot\u001b[39;00m \u001b[38;5;28misinstance\u001b[39m(num, numbers\u001b[38;5;241m.\u001b[39mNumber):\n\u001b[0;32m----> 5\u001b[0m         \u001b[38;5;28;01mraise\u001b[39;00m \u001b[38;5;167;01mTypeError\u001b[39;00m(\u001b[38;5;124m\"\u001b[39m\u001b[38;5;124m파라미터가 올바르지 않습니다.\u001b[39m\u001b[38;5;124m\"\u001b[39m)\n\u001b[1;32m      7\u001b[0m     \u001b[38;5;28;01mreturn\u001b[39;00m num \u001b[38;5;241m*\u001b[39m \u001b[38;5;241m10\u001b[39m\n",
      "\u001b[0;31mTypeError\u001b[0m: 파라미터가 올바르지 않습니다."
     ]
    }
   ],
   "source": [
    "import numbers\n",
    "\n",
    "def caltime(num):\n",
    "    if not isinstance(num, numbers.Number):\n",
    "        raise TypeError(\"파라미터가 올바르지 않습니다.\")\n",
    "\n",
    "    return num * 10\n",
    "\n",
    "val = caltime(\"백\")\n",
    "print(val)"
   ]
  },
  {
   "cell_type": "markdown",
   "id": "d83c83bc-2ec2-485a-8291-d5cba34bd8e0",
   "metadata": {
    "tags": []
   },
   "source": [
    "## 사용자 정의 예외처리하기\n",
    "\n",
    "새로운 오류를 정의하려면 **Exception을 상속**해야 합니다\n",
    "\n",
    "***raise문을 이용해서 필요에 맞게 설정한 오류를 일으키려면, 예외처리 class가 정의되어 있어야 합니다***"
   ]
  },
  {
   "cell_type": "code",
   "execution_count": 21,
   "id": "fc661cf6-951c-4921-86e4-a958d7ee852b",
   "metadata": {},
   "outputs": [
    {
     "name": "stdin",
     "output_type": "stream",
     "text": [
      "Enter a positive number:  -1\n"
     ]
    },
    {
     "name": "stdout",
     "output_type": "stream",
     "text": [
      "The number must be positive!\n"
     ]
    }
   ],
   "source": [
    "class MyException(Exception):\n",
    "    def __init__(self, message):\n",
    "        super().__init__(message)\n",
    "\n",
    "try:\n",
    "    num = int(input(\"Enter a positive number: \"))\n",
    "    if num <= 0:\n",
    "        raise MyException(\"The number must be positive!\")\n",
    "except MyException as e:\n",
    "    print(e)\n",
    "except ValueError:\n",
    "    print(\"Invalid input, please enter a positive integer.\")"
   ]
  },
  {
   "cell_type": "markdown",
   "id": "e7050926-0bb2-4bb4-abe9-eca0536a3ff2",
   "metadata": {},
   "source": [
    "# 연습문제\n",
    "\n",
    "문제 1.\n",
    "\n",
    "예외처리에 익숙해 진다는것에 의의를 두고 작성\n",
    "\n",
    "* 예외처리1 - 손님이 주문할 수 있는 최대 주문량은 2개 2개를 넘으면 최대 주문 에러 출력\n",
    "* 예외처리2 - 1보다 작거나 숫자가 아닌값이 들어오면 정수가 들어오지 않았습니다 값 에러 출력\n",
    "* 예외처리3 - 케이크가 다 떨어지면 Sold Out 에러 **출력**"
   ]
  },
  {
   "cell_type": "code",
   "execution_count": 27,
   "id": "6f4ecd9d-74ee-416a-87ea-8a3d647e6491",
   "metadata": {},
   "outputs": [
    {
     "name": "stdout",
     "output_type": "stream",
     "text": [
      "남은 케이크는 20 입니다\n"
     ]
    },
    {
     "name": "stdin",
     "output_type": "stream",
     "text": [
      "손님 케이크 몇개 주문하시나요? 2\n"
     ]
    },
    {
     "name": "stdout",
     "output_type": "stream",
     "text": [
      "케익 2개 포장해주세요\n",
      "남은 케이크는 18 입니다\n"
     ]
    },
    {
     "name": "stdin",
     "output_type": "stream",
     "text": [
      "손님 케이크 몇개 주문하시나요? 2\n"
     ]
    },
    {
     "name": "stdout",
     "output_type": "stream",
     "text": [
      "케익 2개 포장해주세요\n",
      "남은 케이크는 16 입니다\n"
     ]
    },
    {
     "name": "stdin",
     "output_type": "stream",
     "text": [
      "손님 케이크 몇개 주문하시나요? 2\n"
     ]
    },
    {
     "name": "stdout",
     "output_type": "stream",
     "text": [
      "케익 2개 포장해주세요\n",
      "남은 케이크는 14 입니다\n"
     ]
    },
    {
     "name": "stdin",
     "output_type": "stream",
     "text": [
      "손님 케이크 몇개 주문하시나요? 2\n"
     ]
    },
    {
     "name": "stdout",
     "output_type": "stream",
     "text": [
      "케익 2개 포장해주세요\n",
      "남은 케이크는 12 입니다\n"
     ]
    },
    {
     "name": "stdin",
     "output_type": "stream",
     "text": [
      "손님 케이크 몇개 주문하시나요? 2\n"
     ]
    },
    {
     "name": "stdout",
     "output_type": "stream",
     "text": [
      "케익 2개 포장해주세요\n",
      "남은 케이크는 10 입니다\n"
     ]
    },
    {
     "name": "stdin",
     "output_type": "stream",
     "text": [
      "손님 케이크 몇개 주문하시나요? 1\n"
     ]
    },
    {
     "name": "stdout",
     "output_type": "stream",
     "text": [
      "케익 1개 포장해주세요\n",
      "남은 케이크는 9 입니다\n"
     ]
    },
    {
     "name": "stdin",
     "output_type": "stream",
     "text": [
      "손님 케이크 몇개 주문하시나요? 1\n"
     ]
    },
    {
     "name": "stdout",
     "output_type": "stream",
     "text": [
      "케익 1개 포장해주세요\n",
      "남은 케이크는 8 입니다\n"
     ]
    },
    {
     "name": "stdin",
     "output_type": "stream",
     "text": [
      "손님 케이크 몇개 주문하시나요? 2\n"
     ]
    },
    {
     "name": "stdout",
     "output_type": "stream",
     "text": [
      "케익 2개 포장해주세요\n",
      "남은 케이크는 6 입니다\n"
     ]
    },
    {
     "name": "stdin",
     "output_type": "stream",
     "text": [
      "손님 케이크 몇개 주문하시나요? 2\n"
     ]
    },
    {
     "name": "stdout",
     "output_type": "stream",
     "text": [
      "케익 2개 포장해주세요\n",
      "남은 케이크는 4 입니다\n"
     ]
    },
    {
     "name": "stdin",
     "output_type": "stream",
     "text": [
      "손님 케이크 몇개 주문하시나요? 2\n"
     ]
    },
    {
     "name": "stdout",
     "output_type": "stream",
     "text": [
      "케익 2개 포장해주세요\n",
      "남은 케이크는 2 입니다\n"
     ]
    },
    {
     "name": "stdin",
     "output_type": "stream",
     "text": [
      "손님 케이크 몇개 주문하시나요? 1\n"
     ]
    },
    {
     "name": "stdout",
     "output_type": "stream",
     "text": [
      "케익 1개 포장해주세요\n",
      "남은 케이크는 1 입니다\n"
     ]
    },
    {
     "name": "stdin",
     "output_type": "stream",
     "text": [
      "손님 케이크 몇개 주문하시나요? 2\n"
     ]
    },
    {
     "name": "stdout",
     "output_type": "stream",
     "text": [
      "('손님 남은 케익이', 1, '라서 주문이 불가합니다')\n",
      "남은 케이크는 1 입니다\n"
     ]
    },
    {
     "name": "stdin",
     "output_type": "stream",
     "text": [
      "손님 케이크 몇개 주문하시나요? 1\n"
     ]
    },
    {
     "name": "stdout",
     "output_type": "stream",
     "text": [
      "케익 1개 포장해주세요\n"
     ]
    }
   ],
   "source": [
    "max_cake = 20\n",
    "currunt_cake = max_cake\n",
    "waiting = 1\n",
    "i = 0\n",
    "\n",
    "while currunt_cake > 0:\n",
    "    print(\"남은 케이크는\", currunt_cake, \"입니다\")\n",
    "    \n",
    "    try:\n",
    "        order = int(input(\"손님 케이크 몇개 주문하시나요?\"))\n",
    "        \n",
    "        if order > currunt_cake:\n",
    "            raise ValueError\n",
    "        elif order > 2:\n",
    "            raise IndexError\n",
    "    except ValueError:\n",
    "        print(\"손님 남은 케익이\",currunt_cake,\"개 라서 주문이 불가합니다\")\n",
    "    except IndexError:\n",
    "        print('최대 주문 가능 갯수는 2개입니다')\n",
    "    else:\n",
    "        print(f\"케익 {order}개 포장해주세요\")\n",
    "        currunt_cake -= order\n",
    "        waiting += 1"
   ]
  },
  {
   "cell_type": "code",
   "execution_count": 30,
   "id": "5888ef72-dadc-4a08-b734-759485b1b2a3",
   "metadata": {},
   "outputs": [],
   "source": [
    "class SoldOutError(Exception):\n",
    "    pass\n",
    "\n",
    "class MaxOrderError(Exception):\n",
    "    pass"
   ]
  },
  {
   "cell_type": "code",
   "execution_count": 31,
   "id": "189c2422-7476-4cd0-b858-56f1b0d973be",
   "metadata": {},
   "outputs": [
    {
     "name": "stdout",
     "output_type": "stream",
     "text": [
      "남은 케이크는 20 입니다\n"
     ]
    },
    {
     "name": "stdin",
     "output_type": "stream",
     "text": [
      "손님 케이크 몇개 주문하시나요? 3\n"
     ]
    },
    {
     "name": "stdout",
     "output_type": "stream",
     "text": [
      "최대 주문 가능 갯수는 2개입니다\n",
      "남은 케이크는 20 입니다\n"
     ]
    },
    {
     "name": "stdin",
     "output_type": "stream",
     "text": [
      "손님 케이크 몇개 주문하시나요? 2\n"
     ]
    },
    {
     "name": "stdout",
     "output_type": "stream",
     "text": [
      "케익 2개 포장해주세요\n",
      "남은 케이크는 18 입니다\n"
     ]
    },
    {
     "name": "stdin",
     "output_type": "stream",
     "text": [
      "손님 케이크 몇개 주문하시나요? 2\n"
     ]
    },
    {
     "name": "stdout",
     "output_type": "stream",
     "text": [
      "케익 2개 포장해주세요\n",
      "남은 케이크는 16 입니다\n"
     ]
    },
    {
     "name": "stdin",
     "output_type": "stream",
     "text": [
      "손님 케이크 몇개 주문하시나요? 2\n"
     ]
    },
    {
     "name": "stdout",
     "output_type": "stream",
     "text": [
      "케익 2개 포장해주세요\n",
      "남은 케이크는 14 입니다\n"
     ]
    },
    {
     "name": "stdin",
     "output_type": "stream",
     "text": [
      "손님 케이크 몇개 주문하시나요? 2\n"
     ]
    },
    {
     "name": "stdout",
     "output_type": "stream",
     "text": [
      "케익 2개 포장해주세요\n",
      "남은 케이크는 12 입니다\n"
     ]
    },
    {
     "name": "stdin",
     "output_type": "stream",
     "text": [
      "손님 케이크 몇개 주문하시나요? 2\n"
     ]
    },
    {
     "name": "stdout",
     "output_type": "stream",
     "text": [
      "케익 2개 포장해주세요\n",
      "남은 케이크는 10 입니다\n"
     ]
    },
    {
     "name": "stdin",
     "output_type": "stream",
     "text": [
      "손님 케이크 몇개 주문하시나요? 2\n"
     ]
    },
    {
     "name": "stdout",
     "output_type": "stream",
     "text": [
      "케익 2개 포장해주세요\n",
      "남은 케이크는 8 입니다\n"
     ]
    },
    {
     "name": "stdin",
     "output_type": "stream",
     "text": [
      "손님 케이크 몇개 주문하시나요? 2\n"
     ]
    },
    {
     "name": "stdout",
     "output_type": "stream",
     "text": [
      "케익 2개 포장해주세요\n",
      "남은 케이크는 6 입니다\n"
     ]
    },
    {
     "name": "stdin",
     "output_type": "stream",
     "text": [
      "손님 케이크 몇개 주문하시나요? 2\n"
     ]
    },
    {
     "name": "stdout",
     "output_type": "stream",
     "text": [
      "케익 2개 포장해주세요\n",
      "남은 케이크는 4 입니다\n"
     ]
    },
    {
     "name": "stdin",
     "output_type": "stream",
     "text": [
      "손님 케이크 몇개 주문하시나요? 2\n"
     ]
    },
    {
     "name": "stdout",
     "output_type": "stream",
     "text": [
      "케익 2개 포장해주세요\n",
      "남은 케이크는 2 입니다\n"
     ]
    },
    {
     "name": "stdin",
     "output_type": "stream",
     "text": [
      "손님 케이크 몇개 주문하시나요? 1\n"
     ]
    },
    {
     "name": "stdout",
     "output_type": "stream",
     "text": [
      "케익 1개 포장해주세요\n",
      "남은 케이크는 1 입니다\n"
     ]
    },
    {
     "name": "stdin",
     "output_type": "stream",
     "text": [
      "손님 케이크 몇개 주문하시나요? 2\n"
     ]
    },
    {
     "name": "stdout",
     "output_type": "stream",
     "text": [
      "손님 남은 케익이 1 라서 주문이 불가합니다\n",
      "남은 케이크는 1 입니다\n"
     ]
    },
    {
     "name": "stdin",
     "output_type": "stream",
     "text": [
      "손님 케이크 몇개 주문하시나요? 1\n"
     ]
    },
    {
     "name": "stdout",
     "output_type": "stream",
     "text": [
      "케익 1개 포장해주세요\n"
     ]
    }
   ],
   "source": [
    "max_cake = 20\n",
    "currunt_cake = max_cake\n",
    "waiting = 1\n",
    "i = 0\n",
    "\n",
    "while currunt_cake > 0:\n",
    "    print(\"남은 케이크는\", currunt_cake, \"입니다\")\n",
    "    \n",
    "    try:\n",
    "        order = int(input(\"손님 케이크 몇개 주문하시나요?\"))\n",
    "        \n",
    "        if order > currunt_cake:\n",
    "            raise SoldOutError\n",
    "        elif order > 2:\n",
    "            raise MaxOrderError\n",
    "    except SoldOutError:\n",
    "        print(\"손님 남은 케익이\",currunt_cake,\"개 라서 주문이 불가합니다\")\n",
    "    except MaxOrderError:\n",
    "        print('최대 주문 가능 갯수는 2개입니다')\n",
    "    else:\n",
    "        print(f\"케익 {order}개 포장해주세요\")\n",
    "        currunt_cake -= order\n",
    "        waiting += 1"
   ]
  },
  {
   "cell_type": "code",
   "execution_count": null,
   "id": "2a1ed2bd-ab64-46bf-90b3-adaf149bb2a9",
   "metadata": {},
   "outputs": [],
   "source": [
    "cake = 4\n",
    "waiting = 1\n",
    "i = 0\n",
    "\n",
    "while i < 20:\n",
    "    try:\n",
    "        print(\"남은 케이크는\", cake, \"입니다\")\n",
    "        order = int(input(\"손님 케이크 몇개 주문하시나요?\"))\n",
    "        if order > cake: #케이크가 주문된것보다 갯수가 적을때 \n",
    "            print(\"손님 남은 케익이\", cake,\"라서 주문이 불가하세요\")\n",
    "        elif order <= 0: #값이 음수거나 주문하지않은 0개일때는 Value Error 산출하고 빠져나옴(break)\n",
    "            raise ValueError\n",
    "            break\n",
    "        elif cake == 0:\n",
    "            raise SoldOutError\n",
    "            break\n",
    "        elif order >= 3:\n",
    "            raise MaxOrderError\n",
    "            break\n",
    "        else:\n",
    "            print(\"케익\", cake,\"개 포장해주세요\")\n",
    "            waiting += 1\n",
    "            cake -= order #주문 수 만큼 케이스 감소\n",
    "            i += order\n",
    "    except ValueError:\n",
    "        print(\"잘못된 값을 입력했습니다.\")\n",
    "        break"
   ]
  },
  {
   "cell_type": "markdown",
   "id": "512d8482-6c86-410b-ae65-bea0ea6408ce",
   "metadata": {},
   "source": [
    "문제 2. 다음 코드의 출력은?\n",
    "\n",
    "```python\n",
    "sentence = list(\"hello world\")\n",
    "\n",
    "while (len(sentence) + 1):\n",
    "    try:\n",
    "        print(sentence.pop(0))\n",
    "    except Exception as e:\n",
    "        print(e)\n",
    "        break\n",
    "```\n",
    "\n",
    "1. h\n",
    "2. o\n",
    "3. 공백\n",
    "4. error\n",
    "5. dlrow olleh"
   ]
  },
  {
   "cell_type": "code",
   "execution_count": 32,
   "id": "1df23fbb-f891-421b-bfc8-8fbd78430ee8",
   "metadata": {},
   "outputs": [
    {
     "name": "stdout",
     "output_type": "stream",
     "text": [
      "h\n",
      "e\n",
      "l\n",
      "l\n",
      "o\n",
      " \n",
      "w\n",
      "o\n",
      "r\n",
      "l\n",
      "d\n",
      "pop from empty list\n"
     ]
    }
   ],
   "source": [
    "sentence = list(\"hello world\")\n",
    "\n",
    "while (len(sentence) + 1):\n",
    "    try:\n",
    "        print(sentence.pop(0))\n",
    "    except Exception as e:\n",
    "        print(e)\n",
    "        break"
   ]
  },
  {
   "cell_type": "markdown",
   "id": "85da6932-e89c-4654-b45c-0497e9547650",
   "metadata": {},
   "source": [
    ">pop from empty list는 IndexError 예외 메시지의 일부분으로, pop() 메서드가 빈 리스트에서 값을 꺼낼 때 발생하는 예외를 의미합니다\n",
    "\n",
    "따라서 위 코드에서 sentence.pop(0)를 호출할 때, sentence 리스트가 빈 리스트가 되면 pop() 메서드는 IndexError 예외를 발생시키고, 이 예외 메시지가 except 블록에서 출력됩니다"
   ]
  },
  {
   "cell_type": "markdown",
   "id": "5e6f61fd-695e-4a10-b6b5-01f5b459c9a8",
   "metadata": {},
   "source": [
    "문제 3. 다음 코드의 출력은?\n",
    "\n",
    "```python\n",
    "try:\n",
    "    for i in range(1,7):\n",
    "        result = 7 // i # 나눗셈 결과 int\n",
    "        print(result)\n",
    "except ZeroDivisionError:\n",
    "    print(\"Not divided by 0\")\n",
    "finally:\n",
    "    print(\"종료되었습니다.\")\n",
    "```\n",
    "1. 7 3 2 1 1 1\n",
    "2. 7 3 2 1 1 1 Not divided by 0\n",
    "3. 7 3 2 1 1 1 종료되었습니다.\n",
    "4. 7 3 2 1 1 1 Not divided by 0 종료되었습니다.\n",
    "5. Not divided by 0 종료되었습니다."
   ]
  },
  {
   "cell_type": "code",
   "execution_count": 33,
   "id": "651f387e-997d-43ee-961e-97a1cc1d0e24",
   "metadata": {},
   "outputs": [
    {
     "name": "stdout",
     "output_type": "stream",
     "text": [
      "7\n",
      "3\n",
      "2\n",
      "1\n",
      "1\n",
      "1\n",
      "종료되었습니다.\n"
     ]
    }
   ],
   "source": [
    "try:\n",
    "    for i in range(1,7):\n",
    "        result = 7 // i # 나눗셈 결과 int\n",
    "        print(result)\n",
    "except ZeroDivisionError:\n",
    "    print(\"Not divided by 0\")\n",
    "finally:\n",
    "    print(\"종료되었습니다.\")"
   ]
  },
  {
   "cell_type": "markdown",
   "id": "6d234f44-148a-43e7-ba6a-5abb1eb73771",
   "metadata": {},
   "source": [
    "문제 3. 다음 코드의 출력은?\n",
    "\n",
    "```python\n",
    "import random\n",
    "\n",
    "answer = random.randint(1, 10)\n",
    "\n",
    "def guess_number(answer):\n",
    "    try:\n",
    "        guess = int(input(\"숫자를 넣어주세요 : \"))\n",
    "        if answer == guess:\n",
    "            print(\"정답 !\")\n",
    "        else:\n",
    "            print(\"오답 !\")\n",
    "    except ValueError:\n",
    "        print(\"숫자가 아닙니다.\")\n",
    "\n",
    "guess_number(answer) #hello를 입력한다면?\n",
    "```\n",
    "\n",
    "1. 정답!\n",
    "2. 오답!\n",
    "3. 숫자가 아닙니다\n",
    "4. NameError\n",
    "5. ValueError"
   ]
  },
  {
   "cell_type": "code",
   "execution_count": 37,
   "id": "ce67df50-f440-43c5-92ca-2e4de3381dfa",
   "metadata": {},
   "outputs": [
    {
     "name": "stdin",
     "output_type": "stream",
     "text": [
      "숫자를 넣어주세요 :  a\n"
     ]
    },
    {
     "name": "stdout",
     "output_type": "stream",
     "text": [
      "숫자가 아닙니다.\n"
     ]
    }
   ],
   "source": [
    "import random\n",
    "\n",
    "answer = random.randint(1, 10)\n",
    "\n",
    "def guess_number(answer):\n",
    "    try:\n",
    "        guess = int(input(\"숫자를 넣어주세요 : \"))\n",
    "        if answer == guess:\n",
    "            print(\"정답 !\")\n",
    "        else:\n",
    "            print(\"오답 !\")\n",
    "    except ValueError:\n",
    "        print(\"숫자가 아닙니다.\")\n",
    "\n",
    "guess_number(answer) # guess에 hello를 입력한다면?"
   ]
  },
  {
   "cell_type": "markdown",
   "id": "43de0000-3219-4eb4-8c7c-e72051c4c517",
   "metadata": {},
   "source": [
    "문제 4. 다음 코드의 출력은?\n",
    "\n",
    "```python\n",
    "for i in range(3):\n",
    "    try:\n",
    "        print(i, 3//i)\n",
    "    except ZeroDivisionError:\n",
    "        print(\"Not divided by 0\")\n",
    "```\n",
    "\n",
    "1. 1 3</br>\n",
    "   2 1\n",
    "\n",
    "2. Not divided by 0</br>\n",
    "   1 3</br>\n",
    "   2 1\n",
    "\n",
    "3. 0 0\n",
    "\n",
    "4. Not divided by 0\n",
    "\n",
    "5. 0 0</br>\n",
    "   1 3</br>\n",
    "   2 1"
   ]
  },
  {
   "cell_type": "code",
   "execution_count": 38,
   "id": "e15caffb-5799-4dbc-aec6-dd98f1e14a73",
   "metadata": {},
   "outputs": [
    {
     "name": "stdout",
     "output_type": "stream",
     "text": [
      "Not divided by 0\n",
      "1 3\n",
      "2 1\n"
     ]
    }
   ],
   "source": [
    "for i in range(3):\n",
    "    try:\n",
    "        print(i, 3//i)\n",
    "    except ZeroDivisionError:\n",
    "        print(\"Not divided by 0\")"
   ]
  }
 ],
 "metadata": {
  "kernelspec": {
   "display_name": "Python 3 (ipykernel)",
   "language": "python",
   "name": "python3"
  },
  "language_info": {
   "codemirror_mode": {
    "name": "ipython",
    "version": 3
   },
   "file_extension": ".py",
   "mimetype": "text/x-python",
   "name": "python",
   "nbconvert_exporter": "python",
   "pygments_lexer": "ipython3",
   "version": "3.8.12"
  }
 },
 "nbformat": 4,
 "nbformat_minor": 5
}
