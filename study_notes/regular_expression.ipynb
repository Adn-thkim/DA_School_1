{
 "cells": [
  {
   "cell_type": "markdown",
   "id": "d224b0b5-faae-4d69-800e-01c85e395c55",
   "metadata": {},
   "source": [
    "# 정규표현식\n",
    "\n",
    "https://github.com/weniv/pyalgo_solution/blob/main/%EC%A0%95%EA%B7%9C%ED%91%9C%ED%98%84%EC%8B%9D.ipynb\n",
    "\n",
    "https://regexr.com/5nvc2\n",
    "\n",
    "https://evan-moon.github.io/2020/08/15/regex-example/\n",
    "\n",
    "**정규표현식 함수** </br>\n",
    "\n",
    "========================================================================</br>\n",
    "findall : 일치하는 문자열을 리스트로 반환</br>\n",
    "split : 일치하는 문자열로 원재 문자열을 분할한 리스트로 반환</br>\n",
    "sub : 일치하는 문자열을 치환한 문자열을 반환</br>\n",
    "search : 일치하는 문자열이 있으면 **Match 객체**를 반환</br>\n",
    "compile: </br>\n",
    "========================================================================\n",
    "\n",
    "함수를 적용할 대상 문자열을 입력할 떄는, raw문자열로 지정하는 것이 좋다(메타 문자 무시)\n",
    "```python\n",
    "re.함수(r'정규표현식', 문자열)\n",
    "```\n",
    "\n",
    "**정규표현식 표현** </br>\n",
    "\n",
    "========================================================================</br>\n",
    ". 줄바꿈 이외의 임의의 문자</br>\n",
    "... 줄바꿈 이외의 임의의 3문자</br>\n",
    "^ 문자열의 시작 (^... 문자열 시작에서 3문자)</br>\n",
    "\\\\$ 문자열의 끝 (...\\\\$ 문자열 끝에서 3문자)</br>\n",
    "\\* 직전 정규표현식을 0회이상 반복 (ab*c abc또는 ac에 일치)</br>\n",
    "\\+ 직전 정규표현식을 1회이상 반복 (ab+c abc에 일치)</br>\n",
    "? 직전 정규표현식이 0~1회 존재 (abcd? abc또는 abcd에 일치)</br>\n",
    "| 둘중 하나 (ab|cd ab또는 cd에 일치)\n",
    "\n",
    "ex. x(ab|cd): x로 시작해 ab또는 cd에 일치 (ab|cd 그룹)\n",
    "\n",
    "(...) 소괄호 안을 그루핑</br></br>\n",
    "[...] 대괄호 안의 문자 중 하나</br>\n",
    "[^...] 대괄호 안의 문자 중 하나도 없음\n",
    "\n",
    "대괄호는 **문자클래스**라고 불리는데 문자 클래스 안에 있는것은 고유문자로 인식이 되고 기능적으로 사용되지 않는다\n",
    "\n",
    "\\ 직후 정규표션식 기호 무시</br>\n",
    "\\ 에 일치\n",
    "\n",
    "{n} 직전 정규표현식의 반복 횟수</br>\n",
    "{n,} 직전 정규표현식의 최소 반복 횟수</br>\n",
    "{n,m} 직전 정규표현식의 반복 횟수 범위\n",
    "\n",
    "A{3} A가 3회 반복되면 일치</br>\n",
    "A{3, }A가 3회 이상 반복되면 일치</br>\n",
    "A{3, 6}A가 3~6회 이상 반복되면 일치</br>\n",
    "========================================================================\n",
    "\n",
    "**자주 사용하는 문자 클래스**</br>\n",
    "\n",
    "========================================================================</br>\n",
    "\\d: 숫자와 매치 [0-9]와 같다</br>\n",
    "\\D: 숫자가 아닌것과 매치 [^0-9]와 같다\n",
    "\n",
    "\\s: whitespace문자와 매치 [ \\t\\n\\r\\f\\v]와 같다 (맨앞의 빈칸은 공백을 의미)</br>\n",
    "\\S: whitespace문자가 아닌것과 매치 [^ \\t\\n\\r\\f\\v]와 같다\n",
    "\n",
    "\\w: 문자+숫자와 매치 [a-zA-Z0-9]와 같다</br>\n",
    "\\W: 문자+숫자가 아닌 문자와 매치 [^a-zA-Z0-9]와 같다</br>\n",
    "\\\\: 메타 문자가 아닌 일반 문자 역슬래시와 매치. 매타 문자 앞에 W를 붙이면 일반문자를 위미</br>\n",
    "========================================================================"
   ]
  },
  {
   "cell_type": "code",
   "execution_count": 9,
   "id": "b9a946b5-32bf-48b0-b695-e589c8fde9e5",
   "metadata": {},
   "outputs": [],
   "source": [
    "import os\n",
    "\n",
    "wd = os.getcwd()[:-12]\n",
    "data_path = os.path.join(wd, 'source/sample_data')"
   ]
  },
  {
   "cell_type": "markdown",
   "id": "9c066c1c-510c-4c1b-905e-9904461d5de7",
   "metadata": {},
   "source": [
    "**os 모듈의 listdir 함수**\n",
    "\n",
    "지정된 경로(default: working directory)의 파일들은 리스트 형태로 반환한다"
   ]
  },
  {
   "cell_type": "code",
   "execution_count": 6,
   "id": "a416b886-ebfb-4964-b62b-f324cd31415d",
   "metadata": {},
   "outputs": [],
   "source": [
    "os.listdir(data_path)"
   ]
  },
  {
   "cell_type": "markdown",
   "id": "c74bd53e-df39-4313-a867-b730c7654685",
   "metadata": {},
   "source": [
    "## 정규표현식 함수"
   ]
  },
  {
   "cell_type": "markdown",
   "id": "f4fcb967-77b3-49a6-b164-f86c1256d06d",
   "metadata": {
    "tags": []
   },
   "source": [
    "### findall\n",
    "\n",
    "지정한 조건에 일치하는 문자열을 리스트로 반환한다\n",
    "\n",
    "```python\n",
    "re.findall(r'정규표현식', 문자열)\n",
    "```"
   ]
  },
  {
   "cell_type": "code",
   "execution_count": 11,
   "id": "9e9604f3-7b32-47b1-9471-544d1ed0c7a6",
   "metadata": {},
   "outputs": [
    {
     "name": "stdout",
     "output_type": "stream",
     "text": [
      "Hello World Python\n"
     ]
    }
   ],
   "source": [
    "# join 예제 1\n",
    "text_list = ['Hello', 'World', 'Python']\n",
    "test1 = ' '.join(text_list)\n",
    "print(test1)"
   ]
  },
  {
   "cell_type": "code",
   "execution_count": 19,
   "id": "a0840294-0450-4bd2-9c1a-7e413cf12ebd",
   "metadata": {},
   "outputs": [
    {
     "data": {
      "text/plain": [
       "['th', 'ty', 'th', 'te', 'ta', 'ti', 'to']"
      ]
     },
     "execution_count": 19,
     "metadata": {},
     "output_type": "execute_result"
    }
   ],
   "source": [
    "import re\n",
    "\n",
    "text1 = \"In the face of ambiguity, refuse the temptation to guess\"\n",
    "re.findall(r\"t.\", text1)"
   ]
  },
  {
   "cell_type": "code",
   "execution_count": 20,
   "id": "0c6abb0c-cce8-45a9-980e-deca8d715d0a",
   "metadata": {},
   "outputs": [
    {
     "data": {
      "text/plain": [
       "['tx', 'ti', 'tp', 'te', 't1', 't2', 't#', 't-', 't~']"
      ]
     },
     "execution_count": 20,
     "metadata": {},
     "output_type": "execute_result"
    }
   ],
   "source": [
    "text2 = \"tx ti tp te t1 t2 t# t- t~\"\n",
    "re.findall(r\"t.\", text2)"
   ]
  },
  {
   "cell_type": "markdown",
   "id": "0ec3f12f-8de9-433d-a59e-dcbec2a61dcd",
   "metadata": {},
   "source": [
    "### Greedy, Lazy\n",
    "\n",
    "https://www.pythontutorial.net/python-regex/python-regex-greedy/\n",
    "\n",
    "**파이썬은 기본적으로 greedy**하지만 **?를 붙이는 순간 Lazy**해진다\n",
    "\n",
    "Greedy: 정규표현식이 패턴에 일치하는 문자열을 추출할때 일치하는 최대한의 범위를 추출하는 상태</br>\n",
    "- \\+ or \\* 패턴은 가능한 가장 긴 문자열을 매칭하려고 노력한다\n",
    "\n",
    "```python\n",
    "예시 문자열 example이 아래와 같을 때,\n",
    "example = '저희 첫째아들은 2020년에 태어났구요. 저희 둘째 아들은 23년에 태어났는데 셋째는 26년에 가질 예정이에요'\n",
    "\n",
    "re.findall(r'\\d.+년', example) # ['2020년에 태어났구요. 저희 둘째 아들은 23년에 태어났는데 셋째는 26년']\n",
    "위 정규식은 숫자(\\d) 한 개 다음 공백 외 문자(.)가 1개 이상이고, '년'으로 끝나는 문자열을 찾는다\n",
    "따라서, \\d에 '2'가 매치되고 .에 '020'이 매치된 후 '년'을 만나고, 뒤에서 매치될 문자열을 찾다가 '26년' 이후에 매치되는 문자가 없을때 멈춘다\n",
    "\n",
    "re.findall(r'\\d+.년', example) # ['2020년', '23년', '26년']\n",
    "하지만, 위 정규식은 숫자(\\d) 1개 이상이고 공백 외 문자(.) 1개가 있으며 '년'으로 끝나는 문자열을 찾는다\n",
    "따라서 \\d+.에 '2020'이 매치되고 년을 만나는 순간 매칭이 끝난다\n",
    "```\n",
    "\n",
    "Lazy: 일치하는 최소한의 범위를 추출하는 상태"
   ]
  },
  {
   "cell_type": "code",
   "execution_count": 116,
   "id": "63e31f46-6da8-4aa9-9350-0db5a5916248",
   "metadata": {},
   "outputs": [],
   "source": [
    "example = '저희 첫째아들은 2020년에 태어났구요. 저희 둘째 아들은 23년에 태어났는데 셋째는 26년에 가질 예정이에요'"
   ]
  },
  {
   "cell_type": "code",
   "execution_count": 117,
   "id": "0fc1bd77-3290-46b2-80f6-b294dd99d8e1",
   "metadata": {},
   "outputs": [
    {
     "data": {
      "text/plain": [
       "['2020년에 태어났구요. 저희 둘째 아들은 23년에 태어났는데 셋째는 26년']"
      ]
     },
     "execution_count": 117,
     "metadata": {},
     "output_type": "execute_result"
    }
   ],
   "source": [
    "re.findall(r'\\d.+년', example)"
   ]
  },
  {
   "cell_type": "code",
   "execution_count": 118,
   "id": "b3afcf65-6aed-4dde-bba4-229081dcce4c",
   "metadata": {},
   "outputs": [
    {
     "data": {
      "text/plain": [
       "['2020년', '23년', '26년']"
      ]
     },
     "execution_count": 118,
     "metadata": {},
     "output_type": "execute_result"
    }
   ],
   "source": [
    "re.findall(r'\\d.+?년', example)"
   ]
  },
  {
   "cell_type": "code",
   "execution_count": 119,
   "id": "40da9ff7-e77a-4bf0-a88f-a4e2f194b625",
   "metadata": {},
   "outputs": [
    {
     "data": {
      "text/plain": [
       "['2020년', '23년', '26년']"
      ]
     },
     "execution_count": 119,
     "metadata": {},
     "output_type": "execute_result"
    }
   ],
   "source": [
    "re.findall(r'\\d+.년', example)"
   ]
  },
  {
   "cell_type": "code",
   "execution_count": 135,
   "id": "6276e910-0348-4387-b3b5-994952f82abe",
   "metadata": {},
   "outputs": [
    {
     "name": "stdout",
     "output_type": "stream",
     "text": [
      "['the face of ambiguity, refuse the temptation to ']\n",
      "['the ', 'ty, ', 'the ', 'temptation ', 'to ']\n"
     ]
    }
   ],
   "source": [
    "text = 'In the face of ambiguity, refuse the temptation to guess'\n",
    "\n",
    "print(re.findall(r\"t.*\\s\", text)) # t에서 어떤 문자가 0번 이상 반복되어 공백까지\n",
    "\n",
    "# ?가 없을 때, 어떤 이유에서 문자열 전체에서 정규표현식과 일치하는 문자를 찾는다\n",
    "# ?를 붙이면 t에서 가장 가까운 공백까지만 일치하는 것을 찾는다\n",
    "print(re.findall(r\"t.*?\\s\", text))"
   ]
  },
  {
   "cell_type": "markdown",
   "id": "3fd9fc5d-def7-44b3-9512-e17cac347859",
   "metadata": {},
   "source": [
    "### search\n",
    "\n",
    "**findall vs search**\n",
    "\n",
    "findall: 문자열에서 정규표현식과 일치하는 모든 부분 문자열을 찾아 리스트로 반환 (반환되는 리스트의 요소는 일치하는 문자열들)\n",
    "\n",
    "search: 문자열에서 정규표현식과 일치하는 첫 번째 부분 문자열을 찾아 매칭 객체를 반환\n",
    "- 매칭 객체는 group() 메소드를 사용하여 일치하는 문자열을 가져올 수 있다\n",
    "- 매치된 문자열의 원본 문자열 내 위치를 반환할 수 있다\n",
    "\n",
    "즉, findall은 모든 일치하는 문자열을 찾고 리스트로 반환하고, search는 첫 번째 일치하는 문자열을 찾고 매칭 객체를 반환한다"
   ]
  },
  {
   "cell_type": "code",
   "execution_count": 45,
   "id": "69bef93c-f98d-4028-9325-a05ddb109eaf",
   "metadata": {},
   "outputs": [
    {
     "name": "stdout",
     "output_type": "stream",
     "text": [
      "<re.Match object; span=(19, 23), match='pass'>\n",
      "pass\n",
      "pass\n",
      "19\n",
      "23\n"
     ]
    }
   ],
   "source": [
    "text = 'Error should never pass silently'\n",
    "m_obj = re.search(r\"p...\", text)\n",
    "\n",
    "print(m_obj)\n",
    "print(m_obj.group()) # 일치 문자열 ()로 묶인 것인 없음\n",
    "print(m_obj.group(0))\n",
    "print(m_obj.start()) # 문자열 text에서 일치 문자열 'pass'의 시작 인덱스\n",
    "print(m_obj.end())   # 끝 인덱스"
   ]
  },
  {
   "cell_type": "code",
   "execution_count": 46,
   "id": "31593094-7985-4b21-acd1-4070dc6297c2",
   "metadata": {},
   "outputs": [
    {
     "name": "stdout",
     "output_type": "stream",
     "text": [
      "never pass\n",
      "('never', 'pass')\n"
     ]
    }
   ],
   "source": [
    "text = 'Errors should never pass silently'\n",
    "m_obj = re.search(r\"(n....) (p...)\", text)\n",
    "\n",
    "print(m_obj.group())     # 전체 매치된 문자열을 반환\n",
    "print(m_obj.groups())    # 매치된 문자열 중 그룹으로 묶인 문자열을 모두 반환"
   ]
  },
  {
   "cell_type": "code",
   "execution_count": 50,
   "id": "50e84b30-e6ff-4640-afbe-c27aad06a5cd",
   "metadata": {},
   "outputs": [
    {
     "data": {
      "text/plain": [
       "'pass'"
      ]
     },
     "execution_count": 50,
     "metadata": {},
     "output_type": "execute_result"
    }
   ],
   "source": [
    "m_obj.group(2)"
   ]
  },
  {
   "cell_type": "markdown",
   "id": "d3aa9200-82c4-41f0-8590-771c3cfa18f0",
   "metadata": {},
   "source": [
    "### sub\n",
    "\n",
    "replace 함수처럼 문자열에서 대상 문자들을 지정한 문자로 치환한다\n",
    "\n",
    "```python\n",
    "re.sub(r'정규표현식(대체 대상 문자)', 대체 할 문자, 문자열)\n",
    "```"
   ]
  },
  {
   "cell_type": "code",
   "execution_count": 11,
   "id": "6ec29b76-d244-455c-9690-aee8653e3dbd",
   "metadata": {},
   "outputs": [
    {
     "data": {
      "text/plain": [
       "'Beautiful_is_better_than_ugly'"
      ]
     },
     "execution_count": 11,
     "metadata": {},
     "output_type": "execute_result"
    }
   ],
   "source": [
    "text = \"Beautiful is better than ugly\"\n",
    "\n",
    "re.sub(r\"\\s\", \"_\", text) #공백문자는 \\s로도 쓰인다 (공백을 입력해도 동작)"
   ]
  },
  {
   "cell_type": "code",
   "execution_count": 16,
   "id": "1125a186-ed61-4111-b784-aa9edd207371",
   "metadata": {},
   "outputs": [
    {
     "data": {
      "text/plain": [
       "'______'"
      ]
     },
     "execution_count": 16,
     "metadata": {},
     "output_type": "execute_result"
    }
   ],
   "source": [
    "re.sub(r\" *[a-zA-Z]*\", \"_\", text)"
   ]
  },
  {
   "cell_type": "markdown",
   "id": "bd010e9e-d249-4da3-9574-958b4715e44a",
   "metadata": {},
   "source": [
    "### split\n",
    "\n",
    "정규 표현식에 일치한 위치에서 문자열을 분리하고 리스트로 반환한다\n",
    "\n",
    "```python\n",
    "re.split(r'정규표현식', 문자열)\n",
    "```"
   ]
  },
  {
   "cell_type": "markdown",
   "id": "8d8820e4-60bf-4928-87c6-c0b298f4ca18",
   "metadata": {},
   "source": [
    "[^a-zA-Z0-9]+ 정규표현식은 알파벳 혹은 숫자가 1개 이상일때 일치되므로,</br>\n",
    "Simple 뒤 공백을 만났을 때 패턴이 종료된다. 따라서, 이와 같이 Simple, is, Best에서 분할한다"
   ]
  },
  {
   "cell_type": "code",
   "execution_count": 31,
   "id": "615836a4-1b7f-440c-b96b-2fd673bc9a09",
   "metadata": {},
   "outputs": [
    {
     "data": {
      "text/plain": [
       "['Simple', 'is', 'Best']"
      ]
     },
     "execution_count": 31,
     "metadata": {},
     "output_type": "execute_result"
    }
   ],
   "source": [
    "text = 'Simple is Best'\n",
    "re.split((r\"[^a-zA-Z0-9]+\"), text) # [^a-zA-Z0-9]+: 알파벳 대소문자와 숫자가 아닌 문자들이 하나 이상 연속해서 나타나는 경우"
   ]
  },
  {
   "cell_type": "code",
   "execution_count": null,
   "id": "cd52d7c1-ad03-4450-a587-4f5582070aea",
   "metadata": {},
   "outputs": [
    {
     "name": "stdout",
     "output_type": "stream",
     "text": [
      "['a', '3']\n",
      "['b', '4']\n",
      "['c', '5']\n"
     ]
    }
   ],
   "source": [
    "# 이런 파일이 있을수 있어요\n",
    "data = 'a:3;b:4;c:5'\n",
    "for i in re.split(r';', data):\n",
    "    print(re.split(r':', i))"
   ]
  },
  {
   "cell_type": "markdown",
   "id": "a6c85243-7b12-46d6-adb6-9186d13ee03c",
   "metadata": {},
   "source": [
    "### compile\n",
    "\n",
    "함수에 직접 문자열을 전달해도 raw string으로 처리된다</br>\n",
    "따라서 compile을 사용하지 않고도 문자열을 바로 전달할 수 있다\n",
    "\n",
    "하지만, 정규표현식을 여러 번 사용해야 하는 경우에는 compile을 사용하여 컴파일한 패턴 객체를 재사용하는 것이 속도와 효율면에서 유리하다"
   ]
  },
  {
   "cell_type": "code",
   "execution_count": 62,
   "id": "a7027099-5e49-450b-b240-186b94e47249",
   "metadata": {},
   "outputs": [
    {
     "data": {
      "text/plain": [
       "['hello',\n",
       " 'hello',\n",
       " 'hello',\n",
       " 'hello',\n",
       " 'hello',\n",
       " 'hello',\n",
       " 'hallo',\n",
       " 'hollo',\n",
       " 'hello',\n",
       " 'hello',\n",
       " 'hello',\n",
       " 'hello',\n",
       " 'hello',\n",
       " 'hello']"
      ]
     },
     "execution_count": 62,
     "metadata": {},
     "output_type": "execute_result"
    }
   ],
   "source": [
    "# 여러가지 중에 택 1해서 찾기\n",
    "regex = re.compile(r'h[aeyo]l..')\n",
    "\n",
    "# 정규표현식과 일치하는 부분을 모두 찾아주는 파이썬 코드입니다.\n",
    "re.findall(regex, search_target)"
   ]
  },
  {
   "cell_type": "code",
   "execution_count": 63,
   "id": "05a71d72-08c1-499a-9582-ec3d46dcadbc",
   "metadata": {},
   "outputs": [
    {
     "data": {
      "text/plain": [
       "['hello',\n",
       " 'hello',\n",
       " 'hello',\n",
       " 'Hello',\n",
       " 'hello',\n",
       " 'hello',\n",
       " 'hello',\n",
       " 'hallo',\n",
       " 'hollo',\n",
       " 'hello',\n",
       " 'hello',\n",
       " 'hello',\n",
       " 'hello',\n",
       " 'hello',\n",
       " 'hello']"
      ]
     },
     "execution_count": 63,
     "metadata": {},
     "output_type": "execute_result"
    }
   ],
   "source": [
    "regex = re.compile(r'h[aeyo]l..', re.I) # re.I 는 대소문자를 구분하지 않도록 설정\n",
    "                 # r'h[a-f]l..' 와 같음\n",
    "re.findall(regex, search_target)"
   ]
  },
  {
   "cell_type": "code",
   "execution_count": null,
   "id": "4a7bd4b3-ea08-4b41-8c0f-09842b91803b",
   "metadata": {},
   "outputs": [],
   "source": [
    "regex = re.compile(r'[a-zA-Z0-9가-힣]')\n",
    "\n",
    "re.findall(regex, search_target)"
   ]
  },
  {
   "cell_type": "markdown",
   "id": "babf8ed0-babc-4ad2-8b97-7ae9f67c317a",
   "metadata": {},
   "source": [
    "## 정규표현식 표현"
   ]
  },
  {
   "cell_type": "code",
   "execution_count": 74,
   "id": "301dfe83-75af-4fe3-b823-dd45356d6cea",
   "metadata": {},
   "outputs": [],
   "source": [
    "search_target = '''\n",
    "hello world\n",
    "hello  world\n",
    "hello, world\n",
    "Hello World\n",
    "\n",
    "hello world hello\n",
    "\n",
    "hello\n",
    "hallo\n",
    "hollo\n",
    "heallo\n",
    "yellow\n",
    "\n",
    "Monday Tuesday Wednesday Thursday Friday Saturday Sunday\n",
    "\n",
    "abcdefghijklmnopqrstuvwxyzABCDEFGHIJKLMNOPQRSTUVWXYZ01234567891011121314151617181920\n",
    "aaabbcaaabbcabcabc\n",
    "aaa bb c aaa bb c a b c a b c\n",
    "aaa1bb2c3aaa4bb5c6\n",
    "\n",
    "[123456]\n",
    "123[456]789\n",
    "abc[def]ghij\n",
    "\n",
    "010-9091-5491\n",
    "010-5043-2901\n",
    "010-5050-40409\n",
    "010-49492-3131\n",
    "010 2913 3132\n",
    "01019133829\n",
    "064-721-3213\n",
    "010.1913.3829\n",
    "010*5043*2901\n",
    "\n",
    "\n",
    "paul-korea@naver.com\n",
    "paul@naver.com\n",
    "leehojun@gmail.com\n",
    "hojun.lee@gmail.com\n",
    "test.test@go.go.go\n",
    "\n",
    "\n",
    "https://github.com/LiveCoronaDetector/livecod\n",
    "github.com/LiveCoronaDetector/livecod\n",
    "https://github.com/LiveCoronaDetector\n",
    "\n",
    "I never dreamed about success, I worked for it.\n",
    "Do not be afraid to give up the good to go for the great.\n",
    "\n",
    "hello (hello world) hello\n",
    "hello \\\\hello world// hello\n",
    "^^\n",
    ":)\n",
    "\n",
    "[(name, leehojun), (age, 10), (height, 180), (email, paul-lab@naver.com)]\n",
    "{name : leehojun, age : 10, height : 180, email : paul-lab@naver.com}\n",
    "\n",
    "가나다라마바사아자차카타파하\n",
    "ㄱㄴㄷㄹㅁㅂㅅㅇㅈㅊㅋㅌㅍㅎ\n",
    "안녕_하세요\n",
    "안녕-하세요\n",
    "수사\n",
    "수박\n",
    "수상\n",
    "동해 물과 백두산이 마르고 닳도록 하느님이 보호하사 우리나라 만세\n",
    "'''"
   ]
  },
  {
   "cell_type": "markdown",
   "id": "eeff914a-9949-4135-a249-b13c7afafdf0",
   "metadata": {},
   "source": [
    "### (   )\n",
    "\n",
    "소괄호를 사용하면 정규식 일부 패턴을 그룹화 할 수 있다</br>\n",
    "**그룹 캡처기능**이라고 불리는데,</br>\n",
    "정규식 그룹은 번호가 매겨진 캡처그룹을 생성하고, 괄호안에 정규식 부분과 일치하는 문자열을 저장합니다.</br>\n",
    "그 캡처 번호를 사용하여 문자열 부분을 불러와 사용할 수 있다\n",
    "\n",
    "**주의할점**은 캡처에 정규식 패턴이 저장된다고 착각할 수 잇지만 캡처는 패턴으로 찾은 문자열을 저장한다"
   ]
  },
  {
   "cell_type": "code",
   "execution_count": 34,
   "id": "377e0ef6-95fc-43b2-9531-bdb8c8de265f",
   "metadata": {},
   "outputs": [
    {
     "data": {
      "text/plain": [
       "[('101', 'CF001', '커피'),\n",
       " ('102', 'CF002', '커피(대용량)'),\n",
       " ('201', 'TE01', '홍차'),\n",
       " ('202', 'TE02', '홍차(대용량)')]"
      ]
     },
     "execution_count": 34,
     "metadata": {},
     "output_type": "execute_result"
    }
   ],
   "source": [
    "# 제품 카탈로그 코드 제품명\n",
    "text = \"\"\"\n",
    "101 CF001 커피\n",
    "102 CF002 커피(대용량)\n",
    "201 TE01 홍차\n",
    "202 TE02 홍차(대용량)\n",
    "\"\"\"\n",
    "\n",
    "# 위 문자열을 모두 출력하는 정규표현식을 작성하려면, 제품, 카탈로그 코드, 제품명을 각 그루핑해야 한다\n",
    "# 제품 -> [0-9]+\n",
    "# 카탈로그 코드 [0-9A-Z]+\n",
    "# 제품명 .*\n",
    "# 구분 문자 공백\n",
    "\n",
    "re.findall(r'([0-9]+) +([ 0-9 A-Z]+) +(.+)', text)"
   ]
  },
  {
   "cell_type": "code",
   "execution_count": 39,
   "id": "01624481-eb55-4afc-a3c5-2514ff6478a5",
   "metadata": {},
   "outputs": [
    {
     "data": {
      "text/plain": [
       "[('101', 'CF001', '커피'),\n",
       " ('102', 'CF002', '커피(대용량)'),\n",
       " ('201', 'TE01', '홍차'),\n",
       " ('202', 'TE02', '홍차(대용량)')]"
      ]
     },
     "execution_count": 39,
     "metadata": {},
     "output_type": "execute_result"
    }
   ],
   "source": [
    "re.findall(r'([0-9]+) ([A-Z 0-9]+) ([가-힣\\(\\)]*)', text)"
   ]
  },
  {
   "cell_type": "code",
   "execution_count": 65,
   "id": "2d4d814e-fba6-4857-b051-7acd9ad87139",
   "metadata": {},
   "outputs": [
    {
     "name": "stdout",
     "output_type": "stream",
     "text": [
      "Mon\n",
      "Tues\n",
      "Fri\n"
     ]
    }
   ],
   "source": [
    "regex = re.compile('(Mon|Tues|Fri)day') #그룹 1로 3개 중 매칭되는 패턴\n",
    "\n",
    "# 정규표현식과 일치하는 부분을 모두 찾아주는 파이썬 코드입니다.\n",
    "result = re.findall(regex, search_target)\n",
    "print(\"\\n\".join(result))"
   ]
  },
  {
   "cell_type": "code",
   "execution_count": 66,
   "id": "b60c60ba-6d7a-4bf4-9301-e37ab741b64e",
   "metadata": {},
   "outputs": [
    {
     "name": "stdout",
     "output_type": "stream",
     "text": [
      "Monday\n",
      "Tuesday\n",
      "Friday\n"
     ]
    }
   ],
   "source": [
    "# ?:는 그룹핑해서 검색한 뒤, 그룹을 해제하고 캡처가 아닌 일치하는 문자열 전체를 저장한다\n",
    "\n",
    "regex = re.compile('(?:Mon|Tues|Fri)day')\n",
    "\n",
    "result = re.findall(regex, search_target)\n",
    "print(\"\\n\".join(result))"
   ]
  },
  {
   "cell_type": "code",
   "execution_count": 69,
   "id": "266a8219-fc0b-4372-80a3-286c7a1b45cc",
   "metadata": {},
   "outputs": [
    {
     "name": "stdout",
     "output_type": "stream",
     "text": [
      "m1 결과 :  ['tom', 'pot']\n",
      "m2 결과 :  ['tomato', 'potato']\n"
     ]
    }
   ],
   "source": [
    "text = \"tomato potato\"\n",
    "\n",
    "p1 = \"(tom|pot)ato\"    # 그룹으로 묶인건 그 단어 (tom|pot)을 출력\n",
    "p2 = \"(?:tom|pot)ato\"  # 그룹으로 묶이지 않은것은 캡처하지 않겠다고 매칭 tomato와 potato가 출력\n",
    "\n",
    "m1 = re.findall(p1, text)\n",
    "m2 = re.findall(p2, text)\n",
    "\n",
    "print(\"m1 결과 : \", m1)\n",
    "print(\"m2 결과 : \", m2)"
   ]
  },
  {
   "cell_type": "markdown",
   "id": "d05b2ed5-332c-4934-a55f-be08e3e28c5c",
   "metadata": {},
   "source": [
    "### \\\\w, \\\\d\n",
    "\n",
    "\\\\w: 문자 + 숫자\n",
    "\n",
    "\\\\d: 숫자"
   ]
  },
  {
   "cell_type": "code",
   "execution_count": 56,
   "id": "91c514bb-1d7c-47ce-aecd-a7cd8d38f104",
   "metadata": {
    "collapsed": true,
    "jupyter": {
     "outputs_hidden": true
    },
    "tags": []
   },
   "outputs": [
    {
     "name": "stdout",
     "output_type": "stream",
     "text": [
      "h\n",
      "e\n",
      "l\n",
      "l\n",
      "o\n",
      "w\n",
      "o\n",
      "r\n",
      "l\n",
      "d\n",
      "h\n",
      "e\n",
      "l\n",
      "l\n",
      "o\n",
      "w\n",
      "o\n",
      "r\n",
      "l\n",
      "d\n",
      "h\n",
      "e\n",
      "l\n",
      "l\n",
      "o\n",
      "w\n",
      "o\n",
      "r\n",
      "l\n",
      "d\n",
      "H\n",
      "e\n",
      "l\n",
      "l\n",
      "o\n",
      "W\n",
      "o\n",
      "r\n",
      "l\n",
      "d\n",
      "h\n",
      "e\n",
      "l\n",
      "l\n",
      "o\n",
      "w\n",
      "o\n",
      "r\n",
      "l\n",
      "d\n",
      "h\n",
      "e\n",
      "l\n",
      "l\n",
      "o\n",
      "h\n",
      "e\n",
      "l\n",
      "l\n",
      "o\n",
      "h\n",
      "a\n",
      "l\n",
      "l\n",
      "o\n",
      "h\n",
      "o\n",
      "l\n",
      "l\n",
      "o\n",
      "h\n",
      "e\n",
      "a\n",
      "l\n",
      "l\n",
      "o\n",
      "y\n",
      "e\n",
      "l\n",
      "l\n",
      "o\n",
      "w\n",
      "M\n",
      "o\n",
      "n\n",
      "d\n",
      "a\n",
      "y\n",
      "T\n",
      "u\n",
      "e\n",
      "s\n",
      "d\n",
      "a\n",
      "y\n",
      "W\n",
      "e\n",
      "d\n",
      "n\n",
      "e\n",
      "s\n",
      "d\n",
      "a\n",
      "y\n",
      "T\n",
      "h\n",
      "u\n",
      "r\n",
      "s\n",
      "d\n",
      "a\n",
      "y\n",
      "F\n",
      "r\n",
      "i\n",
      "d\n",
      "a\n",
      "y\n",
      "S\n",
      "a\n",
      "t\n",
      "u\n",
      "r\n",
      "d\n",
      "a\n",
      "y\n",
      "S\n",
      "u\n",
      "n\n",
      "d\n",
      "a\n",
      "y\n",
      "a\n",
      "b\n",
      "c\n",
      "d\n",
      "e\n",
      "f\n",
      "g\n",
      "h\n",
      "i\n",
      "j\n",
      "k\n",
      "l\n",
      "m\n",
      "n\n",
      "o\n",
      "p\n",
      "q\n",
      "r\n",
      "s\n",
      "t\n",
      "u\n",
      "v\n",
      "w\n",
      "x\n",
      "y\n",
      "z\n",
      "A\n",
      "B\n",
      "C\n",
      "D\n",
      "E\n",
      "F\n",
      "G\n",
      "H\n",
      "I\n",
      "J\n",
      "K\n",
      "L\n",
      "M\n",
      "N\n",
      "O\n",
      "P\n",
      "Q\n",
      "R\n",
      "S\n",
      "T\n",
      "U\n",
      "V\n",
      "W\n",
      "X\n",
      "Y\n",
      "Z\n",
      "0\n",
      "1\n",
      "2\n",
      "3\n",
      "4\n",
      "5\n",
      "6\n",
      "7\n",
      "8\n",
      "9\n",
      "1\n",
      "0\n",
      "1\n",
      "1\n",
      "1\n",
      "2\n",
      "1\n",
      "3\n",
      "1\n",
      "4\n",
      "1\n",
      "5\n",
      "1\n",
      "6\n",
      "1\n",
      "7\n",
      "1\n",
      "8\n",
      "1\n",
      "9\n",
      "2\n",
      "0\n",
      "a\n",
      "a\n",
      "a\n",
      "b\n",
      "b\n",
      "c\n",
      "a\n",
      "a\n",
      "a\n",
      "b\n",
      "b\n",
      "c\n",
      "a\n",
      "b\n",
      "c\n",
      "a\n",
      "b\n",
      "c\n",
      "a\n",
      "a\n",
      "a\n",
      "b\n",
      "b\n",
      "c\n",
      "a\n",
      "a\n",
      "a\n",
      "b\n",
      "b\n",
      "c\n",
      "a\n",
      "b\n",
      "c\n",
      "a\n",
      "b\n",
      "c\n",
      "a\n",
      "a\n",
      "a\n",
      "1\n",
      "b\n",
      "b\n",
      "2\n",
      "c\n",
      "3\n",
      "a\n",
      "a\n",
      "a\n",
      "4\n",
      "b\n",
      "b\n",
      "5\n",
      "c\n",
      "6\n",
      "1\n",
      "2\n",
      "3\n",
      "4\n",
      "5\n",
      "6\n",
      "1\n",
      "2\n",
      "3\n",
      "4\n",
      "5\n",
      "6\n",
      "7\n",
      "8\n",
      "9\n",
      "a\n",
      "b\n",
      "c\n",
      "d\n",
      "e\n",
      "f\n",
      "g\n",
      "h\n",
      "i\n",
      "j\n",
      "0\n",
      "1\n",
      "0\n",
      "9\n",
      "0\n",
      "9\n",
      "1\n",
      "5\n",
      "4\n",
      "9\n",
      "1\n",
      "0\n",
      "1\n",
      "0\n",
      "5\n",
      "0\n",
      "4\n",
      "3\n",
      "2\n",
      "9\n",
      "0\n",
      "1\n",
      "0\n",
      "1\n",
      "0\n",
      "5\n",
      "0\n",
      "5\n",
      "0\n",
      "4\n",
      "0\n",
      "4\n",
      "0\n",
      "9\n",
      "0\n",
      "1\n",
      "0\n",
      "4\n",
      "9\n",
      "4\n",
      "9\n",
      "2\n",
      "3\n",
      "1\n",
      "3\n",
      "1\n",
      "0\n",
      "1\n",
      "0\n",
      "2\n",
      "9\n",
      "1\n",
      "3\n",
      "3\n",
      "1\n",
      "3\n",
      "2\n",
      "0\n",
      "1\n",
      "0\n",
      "1\n",
      "9\n",
      "1\n",
      "3\n",
      "3\n",
      "8\n",
      "2\n",
      "9\n",
      "0\n",
      "6\n",
      "4\n",
      "7\n",
      "2\n",
      "1\n",
      "3\n",
      "2\n",
      "1\n",
      "3\n",
      "0\n",
      "1\n",
      "0\n",
      "1\n",
      "9\n",
      "1\n",
      "3\n",
      "3\n",
      "8\n",
      "2\n",
      "9\n",
      "p\n",
      "a\n",
      "u\n",
      "l\n",
      "k\n",
      "o\n",
      "r\n",
      "e\n",
      "a\n",
      "n\n",
      "a\n",
      "v\n",
      "e\n",
      "r\n",
      "c\n",
      "o\n",
      "m\n",
      "p\n",
      "a\n",
      "u\n",
      "l\n",
      "n\n",
      "a\n",
      "v\n",
      "e\n",
      "r\n",
      "c\n",
      "o\n",
      "m\n",
      "l\n",
      "e\n",
      "e\n",
      "h\n",
      "o\n",
      "j\n",
      "u\n",
      "n\n",
      "g\n",
      "m\n",
      "a\n",
      "i\n",
      "l\n",
      "c\n",
      "o\n",
      "m\n",
      "h\n",
      "o\n",
      "j\n",
      "u\n",
      "n\n",
      "l\n",
      "e\n",
      "e\n",
      "g\n",
      "m\n",
      "a\n",
      "i\n",
      "l\n",
      "c\n",
      "o\n",
      "m\n",
      "t\n",
      "e\n",
      "s\n",
      "t\n",
      "t\n",
      "e\n",
      "s\n",
      "t\n",
      "g\n",
      "o\n",
      "g\n",
      "o\n",
      "g\n",
      "o\n",
      "h\n",
      "t\n",
      "t\n",
      "p\n",
      "s\n",
      "g\n",
      "i\n",
      "t\n",
      "h\n",
      "u\n",
      "b\n",
      "c\n",
      "o\n",
      "m\n",
      "L\n",
      "i\n",
      "v\n",
      "e\n",
      "C\n",
      "o\n",
      "r\n",
      "o\n",
      "n\n",
      "a\n",
      "D\n",
      "e\n",
      "t\n",
      "e\n",
      "c\n",
      "t\n",
      "o\n",
      "r\n",
      "l\n",
      "i\n",
      "v\n",
      "e\n",
      "c\n",
      "o\n",
      "d\n",
      "g\n",
      "i\n",
      "t\n",
      "h\n",
      "u\n",
      "b\n",
      "c\n",
      "o\n",
      "m\n",
      "L\n",
      "i\n",
      "v\n",
      "e\n",
      "C\n",
      "o\n",
      "r\n",
      "o\n",
      "n\n",
      "a\n",
      "D\n",
      "e\n",
      "t\n",
      "e\n",
      "c\n",
      "t\n",
      "o\n",
      "r\n",
      "l\n",
      "i\n",
      "v\n",
      "e\n",
      "c\n",
      "o\n",
      "d\n",
      "h\n",
      "t\n",
      "t\n",
      "p\n",
      "s\n",
      "g\n",
      "i\n",
      "t\n",
      "h\n",
      "u\n",
      "b\n",
      "c\n",
      "o\n",
      "m\n",
      "L\n",
      "i\n",
      "v\n",
      "e\n",
      "C\n",
      "o\n",
      "r\n",
      "o\n",
      "n\n",
      "a\n",
      "D\n",
      "e\n",
      "t\n",
      "e\n",
      "c\n",
      "t\n",
      "o\n",
      "r\n",
      "I\n",
      "n\n",
      "e\n",
      "v\n",
      "e\n",
      "r\n",
      "d\n",
      "r\n",
      "e\n",
      "a\n",
      "m\n",
      "e\n",
      "d\n",
      "a\n",
      "b\n",
      "o\n",
      "u\n",
      "t\n",
      "s\n",
      "u\n",
      "c\n",
      "c\n",
      "e\n",
      "s\n",
      "s\n",
      "I\n",
      "w\n",
      "o\n",
      "r\n",
      "k\n",
      "e\n",
      "d\n",
      "f\n",
      "o\n",
      "r\n",
      "i\n",
      "t\n",
      "D\n",
      "o\n",
      "n\n",
      "o\n",
      "t\n",
      "b\n",
      "e\n",
      "a\n",
      "f\n",
      "r\n",
      "a\n",
      "i\n",
      "d\n",
      "t\n",
      "o\n",
      "g\n",
      "i\n",
      "v\n",
      "e\n",
      "u\n",
      "p\n",
      "t\n",
      "h\n",
      "e\n",
      "g\n",
      "o\n",
      "o\n",
      "d\n",
      "t\n",
      "o\n",
      "g\n",
      "o\n",
      "f\n",
      "o\n",
      "r\n",
      "t\n",
      "h\n",
      "e\n",
      "g\n",
      "r\n",
      "e\n",
      "a\n",
      "t\n",
      "h\n",
      "e\n",
      "l\n",
      "l\n",
      "o\n",
      "h\n",
      "e\n",
      "l\n",
      "l\n",
      "o\n",
      "w\n",
      "o\n",
      "r\n",
      "l\n",
      "d\n",
      "h\n",
      "e\n",
      "l\n",
      "l\n",
      "o\n",
      "h\n",
      "e\n",
      "l\n",
      "l\n",
      "o\n",
      "h\n",
      "e\n",
      "l\n",
      "l\n",
      "o\n",
      "w\n",
      "o\n",
      "r\n",
      "l\n",
      "d\n",
      "h\n",
      "e\n",
      "l\n",
      "l\n",
      "o\n",
      "n\n",
      "a\n",
      "m\n",
      "e\n",
      "l\n",
      "e\n",
      "e\n",
      "h\n",
      "o\n",
      "j\n",
      "u\n",
      "n\n",
      "a\n",
      "g\n",
      "e\n",
      "1\n",
      "0\n",
      "h\n",
      "e\n",
      "i\n",
      "g\n",
      "h\n",
      "t\n",
      "1\n",
      "8\n",
      "0\n",
      "e\n",
      "m\n",
      "a\n",
      "i\n",
      "l\n",
      "p\n",
      "a\n",
      "u\n",
      "l\n",
      "l\n",
      "a\n",
      "b\n",
      "n\n",
      "a\n",
      "v\n",
      "e\n",
      "r\n",
      "c\n",
      "o\n",
      "m\n",
      "n\n",
      "a\n",
      "m\n",
      "e\n",
      "l\n",
      "e\n",
      "e\n",
      "h\n",
      "o\n",
      "j\n",
      "u\n",
      "n\n",
      "a\n",
      "g\n",
      "e\n",
      "1\n",
      "0\n",
      "h\n",
      "e\n",
      "i\n",
      "g\n",
      "h\n",
      "t\n",
      "1\n",
      "8\n",
      "0\n",
      "e\n",
      "m\n",
      "a\n",
      "i\n",
      "l\n",
      "p\n",
      "a\n",
      "u\n",
      "l\n",
      "l\n",
      "a\n",
      "b\n",
      "n\n",
      "a\n",
      "v\n",
      "e\n",
      "r\n",
      "c\n",
      "o\n",
      "m\n",
      "가\n",
      "나\n",
      "다\n",
      "라\n",
      "마\n",
      "바\n",
      "사\n",
      "아\n",
      "자\n",
      "차\n",
      "카\n",
      "타\n",
      "파\n",
      "하\n",
      "ㄱ\n",
      "ㄴ\n",
      "ㄷ\n",
      "ㄹ\n",
      "ㅁ\n",
      "ㅂ\n",
      "ㅅ\n",
      "ㅇ\n",
      "ㅈ\n",
      "ㅊ\n",
      "ㅋ\n",
      "ㅌ\n",
      "ㅍ\n",
      "ㅎ\n",
      "안\n",
      "녕\n",
      "_\n",
      "하\n",
      "세\n",
      "요\n",
      "안\n",
      "녕\n",
      "하\n",
      "세\n",
      "요\n",
      "수\n",
      "사\n",
      "수\n",
      "박\n",
      "수\n",
      "상\n",
      "동\n",
      "해\n",
      "물\n",
      "과\n",
      "백\n",
      "두\n",
      "산\n",
      "이\n",
      "마\n",
      "르\n",
      "고\n",
      "닳\n",
      "도\n",
      "록\n",
      "하\n",
      "느\n",
      "님\n",
      "이\n",
      "보\n",
      "호\n",
      "하\n",
      "사\n",
      "우\n",
      "리\n",
      "나\n",
      "라\n",
      "만\n",
      "세\n"
     ]
    }
   ],
   "source": [
    "regex = r'\\d'\n",
    "regex = r'\\w'\n",
    "\n",
    "# 정규표현식과 일치하는 부분을 모두 찾아주는 파이썬 코드입니다.\n",
    "result = re.findall(regex, search_target)\n",
    "print(\"\\n\".join(result))"
   ]
  },
  {
   "cell_type": "markdown",
   "id": "e9be1f5c-6b9e-4bb8-866a-e6d46557e41b",
   "metadata": {},
   "source": [
    "### ^\n",
    "\n",
    "문자열의 시작 지정"
   ]
  },
  {
   "cell_type": "code",
   "execution_count": 57,
   "id": "03284bca-dcf7-4abb-bb0d-ef4b0706e1b0",
   "metadata": {},
   "outputs": [
    {
     "name": "stdout",
     "output_type": "stream",
     "text": [
      "m1 결과 :  ['Life']\n",
      "m2 결과 :  []\n"
     ]
    }
   ],
   "source": [
    "m1 = re.findall(\"^Life\", \"Life is too short\")\n",
    "print(\"m1 결과 : \", m1)\n",
    "\n",
    "m2 = re.findall(\"^is\", \"Life is too short\")\n",
    "print(\"m2 결과 : \", m2)"
   ]
  },
  {
   "cell_type": "markdown",
   "id": "32ee2464-635a-4659-ba3e-fa471d1ef10f",
   "metadata": {},
   "source": [
    "### $\n",
    "\n",
    "문자열의 끝 지정"
   ]
  },
  {
   "cell_type": "code",
   "execution_count": 60,
   "id": "7d96f03a-ce92-498a-bca7-c4f4df962ff2",
   "metadata": {},
   "outputs": [
    {
     "name": "stdout",
     "output_type": "stream",
     "text": [
      "m1 결과 :  ['short']\n",
      "m2 결과 :  []\n"
     ]
    }
   ],
   "source": [
    "m1 = re.findall(\"short$\", \"Life is too short\")\n",
    "m2 = re.findall(\"short$\", \"Life is too short. So what?\")\n",
    " \n",
    "print(\"m1 결과 : \", m1)\n",
    "print(\"m2 결과 : \", m2)"
   ]
  },
  {
   "cell_type": "markdown",
   "id": "5818bf18-61ca-414c-baec-fa64c5723163",
   "metadata": {},
   "source": [
    "### |"
   ]
  },
  {
   "cell_type": "code",
   "execution_count": 68,
   "id": "7cdec794-921b-4061-92d0-eac122323dfb",
   "metadata": {},
   "outputs": [
    {
     "name": "stdout",
     "output_type": "stream",
     "text": [
      "on\n",
      "ues\n",
      "rida\n",
      "on\n",
      "on\n",
      "on\n"
     ]
    }
   ],
   "source": [
    "# 빈칸에 정규표현식을 적습니다.\n",
    "regex = re.compile('(on|ues|rida)') #그룹 1로 3개 중 매칭되는 패턴\n",
    "\n",
    "# 그룹 안에 매칭이 된 것만 출력이 되는 형태\n",
    "\n",
    "# 정규표현식과 일치하는 부분을 모두 찾아주는 파이썬 코드입니다.\n",
    "result = re.findall(regex, search_target)\n",
    "print(\"\\n\".join(result))"
   ]
  },
  {
   "cell_type": "markdown",
   "id": "794d549f-f90b-49a2-a2cf-a1977325c518",
   "metadata": {},
   "source": [
    "### 수량자: { }\n",
    "\n",
    "수량자 앞의 패턴에 대해 수량자에서 지정한만큼 일치하는지 판단"
   ]
  },
  {
   "cell_type": "code",
   "execution_count": 77,
   "id": "dc996d97-13bd-431d-b528-ea906c4fdb5b",
   "metadata": {},
   "outputs": [
    {
     "name": "stdout",
     "output_type": "stream",
     "text": [
      "010-9091-5491\n",
      "010-5043-2901\n",
      "010-5050-4040\n",
      "010 2913 3132\n",
      "010.1913.3829\n",
      "010*5043*2901\n"
     ]
    }
   ],
   "source": [
    "regex = re.compile('[0-9]{3}[-.* ][0-9]{4}[-.* ][0-9]{4}') \n",
    "\n",
    "# 1. [0에서 9까지]{3개}[- 나 . 앞에 있는 문자 0~N개]\n",
    "# 2. [0에서 9까지]{4개}[- 나 . 앞에 있는 문자 0~N개]\n",
    "# 3. [0에서 9까지]{4개}[- 나 .]\n",
    "\n",
    "# 정규표현식과 일치하는 부분을 모두 찾아주는 파이썬 코드\n",
    "result = re.findall(regex, search_target)\n",
    "print(\"\\n\".join(result))"
   ]
  },
  {
   "cell_type": "code",
   "execution_count": 120,
   "id": "388bba61-78d1-4fb2-982a-d045f0833782",
   "metadata": {},
   "outputs": [
    {
     "name": "stdout",
     "output_type": "stream",
     "text": [
      "010-9091-5491\n",
      "010-5043-2901\n",
      "010-5050-4040\n",
      "010-49492-3131\n",
      "010 2913 3132\n",
      "064-721-3213\n",
      "010.1913.3829\n",
      "010*5043*2901\n"
     ]
    }
   ],
   "source": [
    "regex = re.compile('[0-9]{2,3}[-. *][0-9]{3,5}[-. *][0-9]{4}')\n",
    "\n",
    "# 1. [0에서 9까지]{2~3개}[- 나 . 앞에 있는 문자 0~N개]\n",
    "# 2. [0에서 9까지]{3~4개}[- 나 . 앞에 있는 문자 0~N개]\n",
    "# 3. [0에서 9까지]{4개}\n",
    "\n",
    "result = re.findall(regex, search_target)\n",
    "print(\"\\n\".join(result))"
   ]
  },
  {
   "cell_type": "code",
   "execution_count": 81,
   "id": "6c023519-e001-4446-bf27-a755ded8c7ec",
   "metadata": {},
   "outputs": [
    {
     "name": "stdout",
     "output_type": "stream",
     "text": [
      "korea@naver.com\n",
      "paul@naver.com\n",
      "leehojun@gmail.com\n",
      "lee@gmail.com\n",
      "test@go.go\n",
      "lab@naver.com\n",
      "lab@naver.com\n"
     ]
    }
   ],
   "source": [
    "regex = re.compile('[0-9a-zA-Z]+@[0-9a-zA-Z]+.[a-zA-Z]+') \n",
    "\n",
    "# 1. [0에서 9까지 + 영문자]{+@}\n",
    "# 2. [0에서 9까지 + 영문자].\n",
    "# 3. [영문자_ 1개 이상]\n",
    "\n",
    "result = re.findall(regex, search_target)\n",
    "print(\"\\n\".join(result))"
   ]
  },
  {
   "cell_type": "markdown",
   "id": "75028fe0-36ad-41a2-a785-7dad26e8fe63",
   "metadata": {},
   "source": [
    "## 이스케이프 문자\n",
    "\n",
    "문자가 가진 기능(+, * 등)이 아닌, 문자 그대로 사용하기 위해 사용한다\n",
    "\n",
    "기능이 아닌 문자 그대로 사용하고자 할 때, 해당 문자 앞에 \\\\를 입력한다"
   ]
  },
  {
   "cell_type": "code",
   "execution_count": 99,
   "id": "b60cae94-adbd-4412-af0f-7fb2edec79ff",
   "metadata": {},
   "outputs": [
    {
     "name": "stdout",
     "output_type": "stream",
     "text": [
      "[123456]\n",
      "[456]\n",
      "[def]\n",
      "[(name, leehojun), (age, 10), (height, 180), (email, paul-lab@naver.com)]\n"
     ]
    }
   ],
   "source": [
    "regex = re.compile('\\[.*]') # 대괄호가 기능이 아닌 문자 대괄호가 되도록 한다\n",
    "                            # 문자 대괄호 안에 공백이 아닌 문자(.)가 0번 이상(*)인 문자 추출\n",
    "\n",
    "result = re.findall(regex, search_target)\n",
    "print(\"\\n\".join(result))"
   ]
  },
  {
   "cell_type": "code",
   "execution_count": 100,
   "id": "20fd0ff4-a540-49ca-9cc0-8082e7b0ccc5",
   "metadata": {},
   "outputs": [
    {
     "name": "stdout",
     "output_type": "stream",
     "text": [
      "-9091-\n",
      "-5043-\n",
      "-5050-\n",
      "-49492-\n",
      "-721-\n"
     ]
    }
   ],
   "source": [
    "regex = re.compile('-.*-') # -(dash)이후에 공백이 아닌 문자(.)가 0회 이상(*)있고 그 뒤에 -(dash)가 있는 문자 추출\n",
    "\n",
    "result = re.findall(regex, search_target)\n",
    "print(\"\\n\".join(result))"
   ]
  },
  {
   "cell_type": "code",
   "execution_count": 106,
   "id": "2eae3018-a6f1-41bb-9b17-ead7f5ed6abc",
   "metadata": {},
   "outputs": [
    {
     "name": "stdout",
     "output_type": "stream",
     "text": [
      "^^\n"
     ]
    }
   ],
   "source": [
    "regex = re.compile('\\^\\^') #이스케이프 문자가 필요한 경우\n",
    "\n",
    "result = re.findall(regex, search_target)\n",
    "print(\"\\n\".join(result))"
   ]
  },
  {
   "cell_type": "code",
   "execution_count": 105,
   "id": "404bd591-e6d5-4750-a746-6cf2e2cc278e",
   "metadata": {},
   "outputs": [
    {
     "name": "stdout",
     "output_type": "stream",
     "text": [
      ":)\n"
     ]
    }
   ],
   "source": [
    "regex = re.compile(':\\)') #이스케이프 문자가 필요한 경우\n",
    "\n",
    "result = re.findall(regex, search_target)\n",
    "print(\"\\n\".join(result))"
   ]
  },
  {
   "cell_type": "markdown",
   "id": "1465cc82-140a-4063-b71d-d0e018d09782",
   "metadata": {},
   "source": [
    "# 정규표현식 연습문제"
   ]
  },
  {
   "cell_type": "code",
   "execution_count": 107,
   "id": "e800f114-5b0c-4798-bb7d-77dd9cb91286",
   "metadata": {},
   "outputs": [],
   "source": [
    "example = '앞서 논문은 이러한 연구를 진행하였습니다(홍길동, 2019). 하지만 그런 것들을 개량하여 다음 논문이 나오게 되었고(임꺽정, 2020), 마지막으로 두가지를 모두 결합한 새로운 연구가 개발되었습니다.(심청이, 2021)'"
   ]
  },
  {
   "cell_type": "code",
   "execution_count": 111,
   "id": "564d34f7-c5aa-4c26-ae39-4c77461e846a",
   "metadata": {},
   "outputs": [
    {
     "data": {
      "text/plain": [
       "'앞서 논문은 이러한 연구를 진행하였습니다. 하지만 그런 것들을 개량하여 다음 논문이 나오게 되었고, 마지막으로 두가지를 모두 결합한 새로운 연구가 개발되었습니다.'"
      ]
     },
     "execution_count": 111,
     "metadata": {},
     "output_type": "execute_result"
    }
   ],
   "source": [
    "# 인용구만 출력\n",
    "\n",
    "result = re.sub(r'\\([^)]*\\)', '', example)\n",
    "result"
   ]
  },
  {
   "cell_type": "code",
   "execution_count": 108,
   "id": "1366d262-3fa4-4165-8848-26243348efe9",
   "metadata": {},
   "outputs": [
    {
     "data": {
      "text/plain": [
       "['(홍길동, 2019)', '(임꺽정, 2020)', '(심청이, 2021)']"
      ]
     },
     "execution_count": 108,
     "metadata": {},
     "output_type": "execute_result"
    }
   ],
   "source": [
    "# 인용구 제외 출력\n",
    "\n",
    "result = re.findall(r'\\([A-Za-z가-힣]+, \\d+\\)',example)\n",
    "result"
   ]
  },
  {
   "cell_type": "markdown",
   "id": "03de3e6c-c59c-4592-98dd-ecc00929924b",
   "metadata": {},
   "source": [
    "[다트게임]\n",
    "\n",
    "1. 다트 게임은 총 3번의 기회로 구성된다.\n",
    "2. 각 기회마다 얻을 수 있는 점수는 0점에서 10점까지이다.\n",
    "3. 점수와 함께 Single(S), Double(D), Triple(T) 영역이 존재하고 각 영역 당첨 시 점수에서 1제곱, 2제곱, 3제곱 (점수1 , 점수2 , 점수3 )으로 계산된다.\n",
    "4. 옵션으로 스타상(\\*) , 아차상(\\#)이 존재하며 스타상(\\*) 당첨 시 해당 점수와 바로 전에 얻은 점수를 각 2배로 만든다. 아차상(\\#) 당첨 시 해당 점수는 마이너스된다.\n",
    "5. 스타상(\\*)은 첫 번째 기회에서도 나올 수 있다. 이 경우 첫 번째 스타상(*)의 점수만 2배가 된다. (예제 4번 참고)\n",
    "6. 스타상(\\*)의 효과는 다른 스타상(\\*)의 효과와 중첩될 수 있다. 이 경우 중첩된 스타상(\\*) 점수는 4배가 된다. (예제 4번 참고)\n",
    "7. 스타상(\\*)의 효과는 아차상(\\#)의 효과와 중첩될 수 있다. 이 경우 중첩된 아차상(\\#)의 점수는 -2배가 된다. (예제 5번 참고)\n",
    "Si ngle(S), Double(D), Triple(T)은 점수마다 하나씩 존재한다.\n",
    "8. 스타상(\\*), 아차상(\\#)은 점수마다 둘 중 하나만 존재할 수 있으며, 존재하지 않을 수도 있다.\n",
    "\n",
    "https://school.programmers.co.kr/learn/courses/30/lessons/17682"
   ]
  },
  {
   "cell_type": "code",
   "execution_count": 70,
   "id": "3aa97130-a7f0-4f59-8ded-3baf775ba90f",
   "metadata": {},
   "outputs": [],
   "source": [
    "sample_text = '1D2S3T*'\n",
    "\n",
    "def solution(dartResult):\n",
    "    sample = [(int(t[0]), 1 if t[1] == \"S\" else 2 if t[1] == \"D\" else 3, t[2]) for t in re.findall(r\"(10|[0-9])([SDT])([*#]?)\", dartResult)]\n",
    "    score = []\n",
    "    \n",
    "    for idx, (i, j, k) in enumerate(sample):\n",
    "        if k == '*':\n",
    "            score.append(i ** j)\n",
    "            score[idx-1:] = list(map(lambda x: x * 2, score[idx-1:]))\n",
    "        elif k == '#':\n",
    "            score.append((i ** j) * (-1))\n",
    "        else:\n",
    "            score.append(i ** j)\n",
    "            \n",
    "    return sum(score)"
   ]
  },
  {
   "cell_type": "code",
   "execution_count": 71,
   "id": "3b6ed7dd-51fc-4f98-b40e-5d7f056f8ec8",
   "metadata": {},
   "outputs": [
    {
     "data": {
      "text/plain": [
       "59"
      ]
     },
     "execution_count": 71,
     "metadata": {},
     "output_type": "execute_result"
    }
   ],
   "source": [
    "solution(sample_text)"
   ]
  },
  {
   "cell_type": "code",
   "execution_count": 15,
   "id": "a4b7c56d-b50b-4de7-bde1-7038bcd06617",
   "metadata": {},
   "outputs": [
    {
     "name": "stdout",
     "output_type": "stream",
     "text": [
      "10 S \n",
      "2 D *\n",
      "3 T \n"
     ]
    }
   ],
   "source": [
    "re.findall(r'(10|[0-9])', r'10S2D*3T')\n",
    "re.findall(r'\\d+', r'110S2D*3T') # 숫자가 1개 이상 => 11 이상의 값도 매치됨\n",
    "re.findall(r'(10|[0-9])([SDT])', r'10S2D*3T')\n",
    "for i, j, k in re.findall(r'(10|[0-9])([SDT])([*#]?)', r'10S2D*3T'):\n",
    "    print(i, j, k)"
   ]
  },
  {
   "cell_type": "markdown",
   "id": "2d645add-f98e-4632-8148-126c5b53fa0d",
   "metadata": {},
   "source": [
    "+) 추가 설명\n",
    "\n",
    "() 소괄호는 문자열 내에서 탐색할 정규표현식의 그룹을 구분한다\n",
    "\n",
    "정규표현식 그룹에 대한 반복여부는 소괄호의 밖에 지정한다"
   ]
  },
  {
   "cell_type": "code",
   "execution_count": 8,
   "id": "75cb058a-0a8a-4891-a472-4d2c4b4e856d",
   "metadata": {},
   "outputs": [
    {
     "data": {
      "text/plain": [
       "[('10', 'A', '3', '#', '')]"
      ]
     },
     "execution_count": 8,
     "metadata": {},
     "output_type": "execute_result"
    }
   ],
   "source": [
    "re.findall(r'(10|[1-9])([A-Z])([1-3])([\\*\\#]?)(True|False)?', '10A3#')"
   ]
  },
  {
   "cell_type": "code",
   "execution_count": 9,
   "id": "c8beeecb-a0e2-4077-88fa-522e11407b2b",
   "metadata": {},
   "outputs": [
    {
     "data": {
      "text/plain": [
       "[('10', 'A', '3', '#', 'True')]"
      ]
     },
     "execution_count": 9,
     "metadata": {},
     "output_type": "execute_result"
    }
   ],
   "source": [
    "re.findall(r'(10|[1-9])([A-Z])([1-3])([\\*\\#]?)(True|False)?', '10A3#True')"
   ]
  },
  {
   "cell_type": "code",
   "execution_count": 10,
   "id": "66d34b28-0649-478c-925f-f517e09160d4",
   "metadata": {},
   "outputs": [
    {
     "data": {
      "text/plain": [
       "[('10', 'A', '3', '#', 'True')]"
      ]
     },
     "execution_count": 10,
     "metadata": {},
     "output_type": "execute_result"
    }
   ],
   "source": [
    "re.findall(r'(10|[1-9])([A-Z])([1-3])([\\*\\#]?)(True|False?)', '10A3#True')"
   ]
  },
  {
   "cell_type": "code",
   "execution_count": 12,
   "id": "a6a063dc-8c72-4276-a5bb-0abdd338c68f",
   "metadata": {},
   "outputs": [
    {
     "data": {
      "text/plain": [
       "[]"
      ]
     },
     "execution_count": 12,
     "metadata": {},
     "output_type": "execute_result"
    }
   ],
   "source": [
    "re.findall(r'(10|[1-9])([A-Z])([1-3])([\\*\\#]?)(True|False?)', '10A3#')"
   ]
  },
  {
   "cell_type": "markdown",
   "id": "3fab2552-7a44-4f6e-8045-86745c56c04f",
   "metadata": {},
   "source": [
    "[암호문 해독]\n",
    "\n",
    "revolution 날짜 암호문은 월과 일로 해독할 수 있습니다.\n",
    "1. 편지 안에 내용은 문자열로 주어집니다.\n",
    "2. 문자열 중에 r, e, v 뒤에 나오는 값을 더하여 나온 최종 숫자에서 앞자리를 월로 뒷자리를 일로 판단합니다.\n",
    "3. r, e, v 뒤에 나오는 숫자는 1부터 10까지입니다. 이를 넘어가는 숫자가 나올 경우 앞 숫자만 뽑아냅니다.\n",
    "\n",
    "https://pyalgo.co.kr/?page=2#"
   ]
  },
  {
   "cell_type": "code",
   "execution_count": 90,
   "id": "322eb495-f1b6-4a7a-96d1-c2dfdc64f97e",
   "metadata": {},
   "outputs": [],
   "source": [
    "def solution(data):\n",
    "    decryption = re.findall(r'[rev](10|[0-9])', data)\n",
    "    result = sum(list(map(int, decryption)))\n",
    "    return f'{result//10}월 {result%10}일'"
   ]
  },
  {
   "cell_type": "code",
   "execution_count": 91,
   "id": "7393da39-6391-4ba3-bc7b-c161f5e4045c",
   "metadata": {},
   "outputs": [
    {
     "data": {
      "text/plain": [
       "'1월 6일'"
      ]
     },
     "execution_count": 91,
     "metadata": {},
     "output_type": "execute_result"
    }
   ],
   "source": [
    "solution('a10b9r1ce33uab8wc918v2cv11v9')"
   ]
  },
  {
   "cell_type": "code",
   "execution_count": 16,
   "id": "fa7b9605-ffa9-4df8-b185-adee96814c05",
   "metadata": {},
   "outputs": [
    {
     "data": {
      "text/plain": [
       "[('r', '1'), ('e', '3'), ('v', '2'), ('v', '1'), ('v', '9')]"
      ]
     },
     "execution_count": 16,
     "metadata": {},
     "output_type": "execute_result"
    }
   ],
   "source": [
    "re.findall('([rev])(10|[0-9])', 'a10b9r1ce33uab8wc918v2cv11v9')"
   ]
  },
  {
   "cell_type": "markdown",
   "id": "86ce691f-99b0-4f99-b63b-2c444136bd9d",
   "metadata": {},
   "source": [
    "[숨어있는 숫자의 덧셈]\n",
    "\n",
    "my_string안의 모든 자연수들의 합을 return하도록 solution 함수를 완성해주세요.\n",
    "\n",
    "연속된 숫자도 각각 한 자리 숫자로 취급합니다.\n",
    "\n",
    "https://school.programmers.co.kr/learn/courses/30/lessons/120851"
   ]
  },
  {
   "cell_type": "code",
   "execution_count": 94,
   "id": "551b41ee-93f8-4660-ab17-752c256a558b",
   "metadata": {},
   "outputs": [],
   "source": [
    "sample_text = \"aAb1B2cC34oOp\""
   ]
  },
  {
   "cell_type": "code",
   "execution_count": 95,
   "id": "620f772a-386b-467e-9815-b11ee68bd5df",
   "metadata": {},
   "outputs": [],
   "source": [
    "def solution(my_string):\n",
    "    return sum(list(map(int, re.findall(r'[0-9]', my_string))))"
   ]
  },
  {
   "cell_type": "code",
   "execution_count": 96,
   "id": "c2c824a9-dae3-496e-acef-8cd45f8ef1cb",
   "metadata": {},
   "outputs": [
    {
     "data": {
      "text/plain": [
       "10"
      ]
     },
     "execution_count": 96,
     "metadata": {},
     "output_type": "execute_result"
    }
   ],
   "source": [
    "solution(sample_text)"
   ]
  },
  {
   "cell_type": "code",
   "execution_count": 103,
   "id": "9c190ed9-c894-4c49-9956-bca2ece8345d",
   "metadata": {},
   "outputs": [],
   "source": [
    "def solution(my_string):\n",
    "    answer = 0\n",
    "    for s in my_string:\n",
    "        if s.isdigit():\n",
    "            answer += int(s)\n",
    "\n",
    "    return answer"
   ]
  },
  {
   "cell_type": "code",
   "execution_count": 104,
   "id": "3b745cb0-6279-415e-a4f6-c8772eaaecef",
   "metadata": {},
   "outputs": [
    {
     "data": {
      "text/plain": [
       "10"
      ]
     },
     "execution_count": 104,
     "metadata": {},
     "output_type": "execute_result"
    }
   ],
   "source": [
    "solution(sample_text)"
   ]
  }
 ],
 "metadata": {
  "kernelspec": {
   "display_name": "Python 3 (ipykernel)",
   "language": "python",
   "name": "python3"
  },
  "language_info": {
   "codemirror_mode": {
    "name": "ipython",
    "version": 3
   },
   "file_extension": ".py",
   "mimetype": "text/x-python",
   "name": "python",
   "nbconvert_exporter": "python",
   "pygments_lexer": "ipython3",
   "version": "3.11.0"
  }
 },
 "nbformat": 4,
 "nbformat_minor": 5
}
