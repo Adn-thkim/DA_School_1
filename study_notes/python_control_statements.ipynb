{
 "cells": [
  {
   "cell_type": "markdown",
   "id": "11d69c7f-8e96-4757-9dad-b88d3ae1d284",
   "metadata": {},
   "source": [
    "# 5.1 조건문\n",
    "\n",
    "if문은 조건에 합당하다면 들여쓰기 되어있는 곳까지 Code를 실행시키는 구문입니다\n",
    "\n",
    "<img src='../source/image/flowchart_of_conditional_statement.png' width = 300>\n",
    "\n",
    "    \n",
    "**주의사항**\n",
    "- 조건문에서 논리 연산자를 사용할 때, 각 조건이 올바르게 평가되는지 확인해야 합니다\n",
    "    - 예를 들어, and 연산자를 사용할 때, 첫 번째 조건이 False인 경우 두 번째 조건을 평가하지 않기 때문에, 두 번째 조건에 대한 예외 상황을 고려해야 합니다\n",
    "- 여러 조건을 체크하는 경우에는 if-elif-else 구문을 사용하는 것이 좋습니다\n",
    "    - 코드를 간결하고 읽기 쉽게 유지할 수 있습니다\n",
    "- 조건문이 복잡해지거나 코드의 길이가 길어지면, 함수를 사용하여 코드를 모듈화하는 것이 좋습니다\n",
    "    - 코드를 재사용하고 유지보수하기 쉽게 만들 수 있습니다"
   ]
  },
  {
   "cell_type": "markdown",
   "id": "b1831838-db10-4140-b3b0-ea0634a2a35a",
   "metadata": {},
   "source": [
    "## 단일 조건문"
   ]
  },
  {
   "cell_type": "code",
   "execution_count": 3,
   "id": "4e2c6daf-81c4-40b6-8d32-350ef2861f84",
   "metadata": {},
   "outputs": [
    {
     "ename": "SyntaxError",
     "evalue": "invalid syntax (1080511809.py, line 3)",
     "output_type": "error",
     "traceback": [
      "\u001b[0;36m  Input \u001b[0;32mIn [3]\u001b[0;36m\u001b[0m\n\u001b[0;31m    수행할 문장 1\u001b[0m\n\u001b[0m        ^\u001b[0m\n\u001b[0;31mSyntaxError\u001b[0m\u001b[0;31m:\u001b[0m invalid syntax\n"
     ]
    }
   ],
   "source": [
    "#if 문의 기본구조\n",
    "if 조건문 :           #조건문을 확인해서 만약 '참'이면 if 문 다음에 문장들을 수행합니다.\n",
    "\t수행할 문장 1\n",
    "\t수행할 문장 2"
   ]
  },
  {
   "cell_type": "code",
   "execution_count": 1,
   "id": "38bc2342-bcba-4869-913a-608edaa340ab",
   "metadata": {},
   "outputs": [
    {
     "name": "stdout",
     "output_type": "stream",
     "text": [
      "True\n"
     ]
    }
   ],
   "source": [
    "x = 2\n",
    "if x > 1  and x < 10:\n",
    "\tprint('True')"
   ]
  },
  {
   "cell_type": "code",
   "execution_count": 2,
   "id": "1c633fdd-8ec2-4aca-9267-0d56585fa5b7",
   "metadata": {},
   "outputs": [
    {
     "name": "stdout",
     "output_type": "stream",
     "text": [
      "True\n"
     ]
    }
   ],
   "source": [
    "# 직접 True나 False를 입력할 수도 있습니다\n",
    "if True:\n",
    "\tprint('True')"
   ]
  },
  {
   "cell_type": "markdown",
   "id": "15c345fc-47a8-47f7-b3ca-b3c5210731c4",
   "metadata": {},
   "source": [
    "## if, elif, else\n",
    "\n",
    "**if,else문의 기본구조**\n",
    "\n",
    "if문이 'True'면 if문을 수행하고, if문이 'False'면 elif문을 확인해서 'True'면 elif문을 실행합니다</br>\n",
    "모두 'False'이면 else 문이 실행됩니다\n",
    "\n",
    "```python\n",
    "if 조건문:\n",
    "\t수행할 문장 1\n",
    "\t수행할 문장 2\n",
    "elif:\n",
    "\t수행할 문장 3\n",
    "\t수행할 문장 4\n",
    "else:\n",
    "\t수행할 문장 5\n",
    "\t수행할 문장 6\n",
    "```"
   ]
  },
  {
   "cell_type": "code",
   "execution_count": 5,
   "id": "0c9d8f55-2e7b-472a-b6b9-cd24283950d1",
   "metadata": {},
   "outputs": [
    {
     "name": "stdin",
     "output_type": "stream",
     "text": [
      "비교할 수를 입력하세요 : 5\n",
      "비교할 수를 입력하세요 : 3\n"
     ]
    },
    {
     "name": "stdout",
     "output_type": "stream",
     "text": [
      "첫번째 입력한 값이 더 큽니다.\n"
     ]
    }
   ],
   "source": [
    "x = int(input('비교할 수를 입력하세요 :'))\n",
    "y = int(input('비교할 수를 입력하세요 :'))\n",
    "\n",
    "if x > y:\n",
    "    print('첫번째 입력한 값이 더 큽니다.')\n",
    "elif x < y:\n",
    "    print('두번째 입력한 값이 더 큽니다.')\n",
    "else:\n",
    "    print('두 값이 같습니다.')"
   ]
  },
  {
   "cell_type": "code",
   "execution_count": null,
   "id": "6bee74fe-2b06-465c-92be-fd4baf77a1eb",
   "metadata": {},
   "outputs": [],
   "source": [
    "whether = input(\"오늘 날씨는 어떤가요?\")\n",
    "\n",
    "if whether == \"맑음\":\n",
    "    print(f'오늘 날씨는 {whether} 입니다 옷을 얇게 입고 가세요')\n",
    "elif whether == \"미세먼지\":\n",
    "    print(f'오늘 날씨는 {whether} 입니다 옷을 얇게 입고 가세요')\n",
    "else:\n",
    "    print(\"날씨가 입력되지 않았습니다.\")"
   ]
  },
  {
   "cell_type": "markdown",
   "id": "147831fb-1c2b-4501-a7f2-68eafe0cd9f9",
   "metadata": {},
   "source": [
    "**조건문을 작성하다가 동작에 대한 코드 작성이 늦어지는 경우**\n",
    "\n",
    "일시적으로 해당 조건절에 pass / raise NotImplementedError 를 통해\n",
    "\n",
    "동작 수행없이 넘어가도록 하거나, 어떤 조건이 True일 때 에러를 일으킬 수 있다"
   ]
  },
  {
   "cell_type": "markdown",
   "id": "28b504b4-8307-4e81-ae57-6014b9d55a74",
   "metadata": {},
   "source": [
    "## 삼항 연산자\n",
    "\n",
    "- 참일때의 값 / if / 조건식 / else / 거짓일때 값\n",
    "- 변수로 바로 할당할 수 있음"
   ]
  },
  {
   "cell_type": "code",
   "execution_count": 17,
   "id": "9cd45dd5-6572-4482-870b-c7769e68bb1e",
   "metadata": {},
   "outputs": [
    {
     "name": "stdout",
     "output_type": "stream",
     "text": [
      "성인입니다.\n"
     ]
    }
   ],
   "source": [
    "age = 21\n",
    "\n",
    "# 참일때의 값 / if / 조건식 / else / 거짓일때 값\n",
    "is_adult = \"성인입니다.\" if age > 20 else \"미성년자입니다.\"\n",
    "\n",
    "print(is_adult)"
   ]
  },
  {
   "cell_type": "markdown",
   "id": "83afc2d6-0e1a-4c93-af6a-37ced4fd513d",
   "metadata": {},
   "source": [
    "## 중첩 조건문"
   ]
  },
  {
   "cell_type": "code",
   "execution_count": 8,
   "id": "cc1a32f5-c8ee-4530-aa73-467dfdbd6c2c",
   "metadata": {},
   "outputs": [
    {
     "name": "stdout",
     "output_type": "stream",
     "text": [
      "mom : I'm so happy!\n",
      "hello world\n",
      "hello!!!\n"
     ]
    }
   ],
   "source": [
    "#if를 중첩해서 사용하기\n",
    "score = 98\n",
    "money = 0\n",
    "\n",
    "if score >= 90:\n",
    "    print('mom : I\\'m so happy!')\n",
    "    money += 1000000\n",
    "    if score > 87:\n",
    "        print('hello world')\n",
    "        if score > 85:\n",
    "            print('hello!!!')\n",
    "elif score >= 80:\n",
    "    print('mom : I\\'m happy!')\n",
    "    money += 100000"
   ]
  },
  {
   "cell_type": "code",
   "execution_count": 19,
   "id": "8df21258-58c0-4296-8752-564759c8755b",
   "metadata": {},
   "outputs": [
    {
     "name": "stdin",
     "output_type": "stream",
     "text": [
      "사과의 상태를 입력하세요(좋음, 나쁨) 좋음\n",
      "사과 한개당 가격 입력 1000\n"
     ]
    },
    {
     "name": "stdout",
     "output_type": "stream",
     "text": [
      "5개를 산다\n",
      "사과 가격은 5000원 입니다.\n"
     ]
    }
   ],
   "source": [
    "apple = input(\"사과의 상태를 입력하세요(좋음, 나쁨)\")\n",
    "\n",
    "if apple == \"좋음\":\n",
    "    appleprice = int(input(\"사과 한개당 가격 입력\"))\n",
    "    if appleprice < 1000:\n",
    "        print(\"10개를 산다.\")\n",
    "        print(f\"사과 가격은 {appleprice * 10} 원 입니다.\")\n",
    "    else:\n",
    "        print(\"5개를 산다\")\n",
    "        print(f\"사과 가격은 {appleprice * 5}원 입니다.\")\n",
    "else:\n",
    "    print(\"사과를 안산다\")"
   ]
  },
  {
   "cell_type": "code",
   "execution_count": 16,
   "id": "6bcd04b7-8845-4366-9858-37b256ab220e",
   "metadata": {},
   "outputs": [
    {
     "name": "stdin",
     "output_type": "stream",
     "text": [
      "오늘 날씨는 어떤가요? 오늘 기온은 몇 도인가요? (답변은 콤마(,)로 구분해주세요) 별로, 20\n"
     ]
    },
    {
     "name": "stdout",
     "output_type": "stream",
     "text": [
      "['별로', 20]\n",
      "오늘 날씨는 따뜻합니다\n"
     ]
    }
   ],
   "source": [
    "# 예제4. 2개 이상 조건일때\n",
    "\n",
    "# 1. 오늘 날씨가 어떤가요? ''이 아닐때\n",
    "# 2. 오늘 기온이 어떤가요? 0도 이상일때 따뜻합니다\n",
    "\n",
    "answer = input('오늘 날씨는 어떤가요? 오늘 기온은 몇 도인가요? (답변은 콤마(,)로 구분해주세요)')\n",
    "weather = [int(i) if i.isdigit() else i for i in answer.replace(', ', ',').split(',')]\n",
    "print(weather)\n",
    "\n",
    "if weather[0] != '':\n",
    "    if weather[1] > 0:\n",
    "        print('오늘 날씨는 따뜻합니다')"
   ]
  },
  {
   "cell_type": "markdown",
   "id": "c3bc2056-67ed-47eb-bce0-bd8e6fb5246b",
   "metadata": {},
   "source": [
    "## 조건문 실습 문제 풀어보기"
   ]
  },
  {
   "cell_type": "markdown",
   "id": "4ad3ff45-b910-4a90-aa33-ab4a8d57416a",
   "metadata": {},
   "source": [
    "문제 1. 대학교 학점은 다음과 같이 되어있음\n",
    "\n",
    "* A - 90점 이상 \n",
    "* B - 80점 이상\n",
    "* C - 60점 이상\n",
    "* D - 40졈 이상\n",
    "* F - 40점 이하 \n",
    "* 결석이 3번인 경우 무조건 F\n",
    "\n",
    "중첩 조건문 또는 연산자를 활용하여 if문을 작성해보세요\n",
    "\n",
    "1) 학점을 조건으로 어떻게 나눌까?\n",
    "2) else에는 어떤것을 할당할까?\n",
    "3) 값을 어떻게 받을까? "
   ]
  },
  {
   "cell_type": "code",
   "execution_count": null,
   "id": "bb92150f-7fd7-4761-979c-9a1f1ec62a8f",
   "metadata": {},
   "outputs": [],
   "source": [
    "# 학과 성적\n",
    "score = int(input(\"성적을 입력해주세요\"))\n",
    "\n",
    "# 결석 횟수\n",
    "attendance = int(input('결석한 횟수를 입력해주세요'))\n",
    "\n",
    "if attendance < 3:\n",
    "    if score >= 90:\n",
    "        grade = 'A'\n",
    "    elif score >= 80:\n",
    "        grade = 'B'\n",
    "    elif score >= 60:\n",
    "        grade = 'C'\n",
    "    elif score >= 40:\n",
    "        grade = 'D'\n",
    "    else:\n",
    "        grade = 'F'\n",
    "else:\n",
    "    grade = 'F'"
   ]
  },
  {
   "cell_type": "markdown",
   "id": "51799dd6-2732-4df5-abd0-d81e2b650837",
   "metadata": {},
   "source": [
    "문제 2. 숫자를 입력했을때 짝수와 홀수를 구분하는 if문을 작성해주세요\n",
    "\n",
    "1) 짝수와 홀수를 어떻게 구분할것인가?\n",
    "2) 숫자로 input을 받아야한다.\n",
    "3) 출력은 어떻게 할것인가?\n",
    "\n",
    "---\n",
    "\n",
    "다른 풀이 예시:\n",
    "\n",
    "만약 '1-10' 사이의 숫자를 입력받아 짝수인지 홀수인지 판단하는 조건문을 작성한다면\n",
    "```python\n",
    "num = int(input('숫자를 입력해주세요'))\n",
    "\n",
    "if num in '13579':\n",
    "    print('홀수')\n",
    "else:\n",
    "    print('짝수')\n",
    "```"
   ]
  },
  {
   "cell_type": "code",
   "execution_count": 25,
   "id": "852f5237-d05a-49c1-9a3d-3d2503b04883",
   "metadata": {},
   "outputs": [
    {
     "name": "stdin",
     "output_type": "stream",
     "text": [
      "숫자를 입력해주세요 10\n"
     ]
    },
    {
     "name": "stdout",
     "output_type": "stream",
     "text": [
      "짝수\n"
     ]
    }
   ],
   "source": [
    "num = int(input('숫자를 입력해주세요'))\n",
    "\n",
    "odd_even = '짝수' if num % 2 == 0 else '홀수'\n",
    "print(odd_even)"
   ]
  },
  {
   "cell_type": "markdown",
   "id": "8947d8cc-1c85-40f0-b919-1322d688a0e5",
   "metadata": {},
   "source": [
    "문제 3.\n",
    "\n",
    "money에는 현재 돈이 얼마 있는지 input으로 받고 커피는 600원 1000원 1500원 세가지가 있습니다.</br>\n",
    "돈이 있어서 커피를 샀으면 거스름돈을 계산하고 만약에 돈이 부족하면 메세지를 띄워주세요"
   ]
  },
  {
   "cell_type": "code",
   "execution_count": 33,
   "id": "402840a8-b708-431c-890b-7fa2e24578d5",
   "metadata": {},
   "outputs": [
    {
     "name": "stdin",
     "output_type": "stream",
     "text": [
      "소지하고 있는 금액을 입력해주세요 3000\n"
     ]
    },
    {
     "name": "stdout",
     "output_type": "stream",
     "text": [
      "1 아메리카노 600 원\n",
      "2 카페라떼 1000 원\n",
      "3 콜드브루 1500 원\n"
     ]
    },
    {
     "name": "stdin",
     "output_type": "stream",
     "text": [
      "원하시는 커피를 선택해 주세요 3\n"
     ]
    },
    {
     "name": "stdout",
     "output_type": "stream",
     "text": [
      "소지하고 있는 금액은 3000원입니다. 선택하신 커피는 콜드브루 1500원이며, 잔돈은 1500원입니다\n"
     ]
    }
   ],
   "source": [
    "money_in_pocket = int(input('소지하고 있는 금액을 입력해주세요'))\n",
    "\n",
    "coffee_name = ['아메리카노', '카페라떼', '콜드브루']\n",
    "coffee_price = [600, 1000, 1500]\n",
    "\n",
    "for idx, name in enumerate(coffee_name):\n",
    "    print(idx + 1, name, coffee_price[idx],'원')\n",
    "    \n",
    "selection = int(input('원하시는 커피를 선택해 주세요'))\n",
    "\n",
    "selection_price = coffee_price[selection - 1]\n",
    "    \n",
    "change = money_in_pocket - selection_price\n",
    "\n",
    "if chage < 0:\n",
    "    print('돈이 부족합니다')\n",
    "else:\n",
    "    print(f'소지하고 있는 금액은 {money_in_pocket}원입니다. 선택하신 커피는 {coffee_name[selection - 1]} {selection_price}원이며, 잔돈은 {change}원입니다')"
   ]
  },
  {
   "cell_type": "markdown",
   "id": "085dce8f-144e-444b-9665-cb0b40e38632",
   "metadata": {},
   "source": [
    "문제 4. 태어난 연도를 입력받아 생애주기 받기 2023년 6월 28일 부터 만나이로 변경이 되면서 나이에 혼선이 생기고 있는 가운데 정부 연령기준에 맞춰 자신이 어떤 나이대 인지 찾아보자\n",
    "\n",
    "https://www.gosims.go.kr/hh/hh001/retrieveLfcySearch.do\n",
    "\n",
    "정부기준으로 영유아는 0-5 / 아동은 6-12 / 청소년 13-18 / 청년 19-29 / 중년 30-49 / 장년 50-64 / 노년 65세 이상 / 연령대 무관으로 나눈다.\n",
    "태어난 연도를 입력 받는다.\n",
    "만나이 적용 날짜를 산출한다.\n",
    "if문을 통해 어떤 종류의 생애주기 인지를 출력한다.\n",
    "만나이를 계산하고, 만나이 기준 생애주기를 출력하세요"
   ]
  },
  {
   "cell_type": "code",
   "execution_count": 27,
   "id": "8ecf9980-162e-4ecf-a83b-e3992f00c1cb",
   "metadata": {},
   "outputs": [
    {
     "name": "stdin",
     "output_type": "stream",
     "text": [
      "생년월일을 \"1900-01-01\" 형식으로 입력해주세요:  1994-01-01\n"
     ]
    },
    {
     "name": "stdout",
     "output_type": "stream",
     "text": [
      "2023년 6월 28일 기준 만 나이는 29세, 청년에 해당합니다\n"
     ]
    }
   ],
   "source": [
    "import datetime\n",
    "\n",
    "# year = int(input('태어난 연도 입력해주세요: '))\n",
    "# month = int(input('태어난 월을 입력해주세요: '))\n",
    "# day = int(input('태어난 일을 입력해주세요: '))\n",
    "\n",
    "# birth_dt = datetime.date(year, month, day)\n",
    "\n",
    "birth = input('생년월일을 \"1900-01-01\" 형식으로 입력해주세요: ')\n",
    "birth_dt = datetime.datetime.strptime(birth, '%Y-%m-%d').date()\n",
    "\n",
    "today = datetime.datetime.today()\n",
    "is_over = (today.month, today.day) < (birth_dt.month, birth_dt.day)\n",
    "\n",
    "age = today.year - birth_dt.year - is_over\n",
    "\n",
    "if age >= 0 and age <= 5:\n",
    "    print(f\"2023년 6월 28일 기준 만 나이는 {age}세, 영유아에 해당합니다\")\n",
    "elif age >= 6 and age <= 12:\n",
    "    print(f\"2023년 6월 28일 기준 만 나이는 {age}세, 아동에 해당합니다\")\n",
    "elif age >= 13 and age <= 18:\n",
    "    print(f\"2023년 6월 28일 기준 만 나이는 {age}세, 청소년에 해당합니다\")\n",
    "elif age >= 19 and age <= 29:\n",
    "    print(f\"2023년 6월 28일 기준 만 나이는 {age}세, 청년에 해당합니다\")\n",
    "elif age >= 30 and age <= 49:\n",
    "    print(f\"2023년 6월 28일 기준 만 나이는 {age}세, 중년에 해당합니다\")\n",
    "elif age >= 50 and age <= 64:\n",
    "    print(f\"2023년 6월 28일 기준 만 나이는 {age}세, 장년에 해당합니다\")\n",
    "elif age >= 65:\n",
    "    print(f\"2023년 6월 28일 기준 만 나이는 {age}세, 노년에 해당합니다\")  \n",
    "else:\n",
    "    print(f\"연령대가 제대로 입력이 되지 않아 연령대 무관으로 분류됩니다.\") "
   ]
  },
  {
   "cell_type": "markdown",
   "id": "1ba2066f-d594-4c29-9d1d-c2f1972deb4b",
   "metadata": {
    "tags": []
   },
   "source": [
    "# 5.2 반복문"
   ]
  },
  {
   "cell_type": "markdown",
   "id": "36fea117-7f77-42c8-b6c3-3ec98420537d",
   "metadata": {},
   "source": [
    "## for\n",
    "\n",
    "정해진 순서열을 반복하는 것을 for문이라고 합니다</br>\n",
    "for문은 순서열을 순회하며 순서열의 끝에 도달하면 반복을 멈추게 됩니다</br>\n",
    "\n",
    "```python\n",
    "for (변수명) in (순회 가능한 객체) :\n",
    "    수행할 문장1\n",
    "\t수행할 문장2\n",
    "```\n",
    "\n",
    "\n",
    "- 반복문을 사용하는 이유 -> 업무의 최소화, 빠른 퇴근, 나의 체력 안배\n",
    "\n",
    "특히 데이터 분석에서는\n",
    "\n",
    "- 월별/분기별/연도별 산출할 게 있을 경우\n",
    "- 컬럼별 데이터 검사 및 특이값 이상치 발견\n",
    "- Rule Base 최적 상품 추천\n",
    "- ML/DL모델을 파라미터를 바꿔서 반복 시행할때\n",
    "- 기타 3번 이상 반복 작업 해야하는 반복되는 일들\n",
    "\n",
    "에서 사용되게 됩니다."
   ]
  },
  {
   "cell_type": "code",
   "execution_count": 30,
   "id": "d5439c3a-008b-4ced-b1a7-3e7518991963",
   "metadata": {},
   "outputs": [
    {
     "name": "stdout",
     "output_type": "stream",
     "text": [
      "h\n",
      "e\n",
      "l\n",
      "l\n",
      "o\n",
      " \n",
      "w\n",
      "o\n",
      "r\n",
      "l\n",
      "d\n"
     ]
    }
   ],
   "source": [
    "for a in 'hello world':\n",
    "    print(a)"
   ]
  },
  {
   "cell_type": "code",
   "execution_count": 31,
   "id": "de45b487-32b5-4f98-bf14-c7f442bd79d5",
   "metadata": {},
   "outputs": [
    {
     "name": "stdout",
     "output_type": "stream",
     "text": [
      "하나\n",
      "둘\n",
      "셋\n",
      "넷\n",
      "다섯\n"
     ]
    }
   ],
   "source": [
    "for a in ['하나', '둘', '셋', '넷', '다섯']:\n",
    "    print(a)"
   ]
  },
  {
   "cell_type": "markdown",
   "id": "780c1e6e-a6c6-43ac-851d-ad7b65edc0d2",
   "metadata": {},
   "source": [
    "Dictionary(사전)형 자료의 경우에는 key(키)만을 가져오게 됩니다\n",
    "\n",
    "key(키)에 해당하는 value(값) 또한 가져오고 싶다면 아래와 같이 튜플 언패킹을 사용할 수 있습니다"
   ]
  },
  {
   "cell_type": "code",
   "execution_count": 32,
   "id": "fe05bd05-cbed-412d-9ded-989f5a63a65c",
   "metadata": {},
   "outputs": [
    {
     "name": "stdout",
     "output_type": "stream",
     "text": [
      "하나\n",
      "둘\n",
      "셋\n"
     ]
    }
   ],
   "source": [
    "dictionary = {\n",
    "    '하나' : 'one',\n",
    "    '둘' : 'two',\n",
    "    '셋' : 'three',\n",
    "}\n",
    "\n",
    "for a in dictionary:\n",
    "    print(a)"
   ]
  },
  {
   "cell_type": "code",
   "execution_count": 34,
   "id": "395b2bf1-1a5a-4a8b-8d09-2c7cb493bc35",
   "metadata": {},
   "outputs": [
    {
     "name": "stdout",
     "output_type": "stream",
     "text": [
      "하나 : one\n",
      "둘 : two\n",
      "셋 : three\n"
     ]
    }
   ],
   "source": [
    "for key, value in dictionary.items():\n",
    "    print(f\"{key} : {value}\")"
   ]
  },
  {
   "cell_type": "code",
   "execution_count": 35,
   "id": "256176a2-659d-4923-abec-8117e2bcde7d",
   "metadata": {},
   "outputs": [
    {
     "name": "stdout",
     "output_type": "stream",
     "text": [
      "0\n",
      "2\n",
      "4\n"
     ]
    }
   ],
   "source": [
    "for a in range(0, 5, 2):\n",
    "    print(a)"
   ]
  },
  {
   "cell_type": "markdown",
   "id": "d656b2a4-7f3a-4a42-aff8-4c0d9c740766",
   "metadata": {},
   "source": [
    "for 문에 사용될 수 있는 시퀀스형 자료형(문자열, 리스트, 튜플)은 메서드로 __iter__와 __next__를 가지고 있으며 이 두개의 메서드로 순회가 가능하게 합니다"
   ]
  },
  {
   "cell_type": "code",
   "execution_count": 37,
   "id": "68b3c4d6-5246-4fdb-be1b-26d6ddf9bd14",
   "metadata": {},
   "outputs": [
    {
     "name": "stdout",
     "output_type": "stream",
     "text": [
      "100 200 300 400\n",
      "a b c d\n"
     ]
    }
   ],
   "source": [
    "listx = [100,200,300,400]\n",
    "strx = 'abcd'\n",
    "listxlter = iter(listx)\n",
    "strxlter = iter(strx)\n",
    "\n",
    "print(next(listxlter),next(listxlter),next(listxlter),next(listxlter))\n",
    "print(next(strxlter),next(strxlter),next(strxlter),next(strxlter))"
   ]
  },
  {
   "cell_type": "markdown",
   "id": "ceafa1ec-2cd3-418f-8c6c-e43ed552489a",
   "metadata": {},
   "source": [
    "```python\n",
    "dict(zip(['a', 'b', 'c'], [1, 2, 3]))\n",
    "```"
   ]
  },
  {
   "cell_type": "markdown",
   "id": "5607affc-4321-41f0-a3e3-2add78814b3b",
   "metadata": {},
   "source": [
    "## for else (while else)\n",
    "\n",
    "for문, while문 안의 코드 블럭이 모두 실행된 후 else문의 코드 블럭이 실행됩니다</br>\n",
    "하지만 반복문이 break문으로 중간에 끝나면 else문은 실행되지 않습니다\n",
    "\n",
    "```python\n",
    "for 변수 in 범위:\n",
    "\t반복 실행할 코드\n",
    "else:\n",
    "\tfor 반복문이 모두 실행되어 종료되고 실행할 코드\n",
    "```\n",
    "\n",
    "보통 반복문과 함께 사용되는 else문은 ***반복문 안에서 조건을 찾아서 해당 조건에 맞는 결과를 찾지 못했을 때, 그 결과를 처리하기 위해 사용***됩니다\n",
    "```python\n",
    "my_list = [1, 2, 3, 4, 5]\n",
    "search_value = 6\n",
    "\n",
    "for num in my_list:\n",
    "    if num == search_value:\n",
    "        print(\"찾았습니다.\")\n",
    "        break\n",
    "else:\n",
    "    print(\"찾지 못했습니다.\")\n",
    "```\n",
    ">여기서의 else는 if에서의 else처럼 '그렇지 않으면'이라는 의미 보다는 '그런 다음'이라는 의미가 더 강하기 때문에 than으로 쓰여야 된다는 논의가 있기도 했습니다"
   ]
  },
  {
   "cell_type": "code",
   "execution_count": 38,
   "id": "f2f1e948-3ff2-4fc2-9ee2-9d9fba2204a9",
   "metadata": {},
   "outputs": [
    {
     "name": "stdout",
     "output_type": "stream",
     "text": [
      "0 물고기를 잡았습니다.\n",
      "1 물고기를 잡았습니다.\n",
      "2 물고기를 잡았습니다.\n",
      "3 물고기를 잡았습니다.\n",
      "4 물고기를 잡았습니다.\n",
      "5 물고기를 잡았습니다.\n",
      "만선입니다. 물고기를 다 잡았습니다.\n",
      "수고하셨습니다.\n"
     ]
    }
   ],
   "source": [
    "for i in range(100):\n",
    "    print(f'{i} 물고기를 잡았습니다.')\n",
    "    if i == 5:\n",
    "        print('만선입니다. 물고기를 다 잡았습니다.')\n",
    "        break\n",
    "else:\n",
    "    print('아직 여유가 좀 있지만, 물고기가 더 없는 것 같으니 이정도로 만족하고 돌아갑시다.')\n",
    "print('수고하셨습니다.')"
   ]
  },
  {
   "cell_type": "code",
   "execution_count": 39,
   "id": "abc34d7c-f3d3-4df3-b9c8-bc41ad1c67c5",
   "metadata": {},
   "outputs": [
    {
     "name": "stdout",
     "output_type": "stream",
     "text": [
      "0 물고기를 잡았습니다.\n",
      "1 물고기를 잡았습니다.\n",
      "2 물고기를 잡았습니다.\n",
      "3 물고기를 잡았습니다.\n",
      "4 물고기를 잡았습니다.\n",
      "아직 여유가 좀 있지만, 물고기가 더 없는 것 같으니 이정도로 만족하고 돌아갑시다.\n",
      "수고하셨습니다.\n"
     ]
    }
   ],
   "source": [
    "for i in range(5):\n",
    "    print(f'{i} 물고기를 잡았습니다.')\n",
    "    if i == 5:\n",
    "        print('만선입니다. 물고기를 다 잡았습니다.')\n",
    "        break\n",
    "else:\n",
    "    print('아직 여유가 좀 있지만, 물고기가 더 없는 것 같으니 이정도로 만족하고 돌아갑시다.')\n",
    "print('수고하셨습니다.')"
   ]
  },
  {
   "cell_type": "markdown",
   "id": "8369878c-07ef-4e3d-bbd4-240c9dfc8cd6",
   "metadata": {},
   "source": [
    "## List comprehension\n",
    "\n",
    "가장 많이 사용되는 list 생성 기법입니다"
   ]
  },
  {
   "cell_type": "code",
   "execution_count": 44,
   "id": "7d9f1830-1cb8-4705-b785-17839171aa89",
   "metadata": {},
   "outputs": [
    {
     "name": "stdout",
     "output_type": "stream",
     "text": [
      "[1, 2, 3, 4, 5, 6, 7, 8, 9]\n",
      "['2X1=2', '2X2=4', '2X3=6', '3X1=3', '3X2=6', '3X3=9']\n",
      "600\n"
     ]
    }
   ],
   "source": [
    "#1\n",
    "x = [i for i in range(1,10)]\n",
    "print(x)\n",
    "\n",
    "# list comprehension을 풀어 쓴 형태\n",
    "#list_i = []\n",
    "#for i in range(1,10):\n",
    "#  list_i.append(i)\n",
    "\n",
    "#print(list_i)\n",
    "\n",
    "#2\n",
    "y = ['{}X{}={}'.format(i, j, i*j) for i in range(2, 4) for j in range(1, 4)]\n",
    "print(y)\n",
    "\n",
    "#3\n",
    "def sumthingFunction(i):\n",
    "    if i % 100 ==0:\n",
    "        return i\n",
    "    else:\n",
    "        return 0\n",
    "기존리스트= [100,200,300,101,202,303]\n",
    "새로운리스트= [sumthingFunction(i) for i in 기존리스트]\n",
    "print(sum(새로운리스트))"
   ]
  },
  {
   "cell_type": "code",
   "execution_count": 45,
   "id": "7e63b917-f149-4628-a863-4cb565b8cc41",
   "metadata": {},
   "outputs": [
    {
     "name": "stdout",
     "output_type": "stream",
     "text": [
      "고기잡이 100 300\n",
      "고기팔기 120 400\n",
      "낚시 5 500\n",
      "통발 5 600\n",
      "큰그물 5 700\n"
     ]
    }
   ],
   "source": [
    "#다중 리스트 for문\n",
    "skill = [\n",
    "        ('고기잡이', 100, 300),\n",
    "        ('고기팔기', 120, 400),\n",
    "        ('낚시', 5, 500),\n",
    "        ('통발', 5, 600),\n",
    "        ('큰그물', 5, 700)\n",
    "]\n",
    "\n",
    "for i,j,z in skill:\n",
    "    print(i,j,z)"
   ]
  },
  {
   "cell_type": "markdown",
   "id": "937d56cd-28a3-42a1-b025-c28b10a2aba8",
   "metadata": {},
   "source": [
    "## enumerate\n",
    "\n",
    "**순서를 매길 때 사용합니다**\n",
    "\n",
    "enumerate() 함수는 순서가 있는 자료형(리스트, 튜플, 문자열)을 입력으로 받아서, **인덱스와 해당 값을 튜플 형태로 반환**하는 함수입니다</br>\n",
    "주로 for문과 함께 자주 사용됩니다"
   ]
  },
  {
   "cell_type": "code",
   "execution_count": 48,
   "id": "b54f7242-a62f-4ffa-a59c-2fd07a40a432",
   "metadata": {},
   "outputs": [
    {
     "name": "stdout",
     "output_type": "stream",
     "text": [
      "0 고기잡이 100 SS\n",
      "1 고기팔기 120 SSS\n",
      "2 낚시 5 C\n",
      "3 통발 5 C\n",
      "4 큰그물 5 C\n"
     ]
    }
   ],
   "source": [
    "skill = [\n",
    "        ('고기잡이', 100, 'SS'),\n",
    "        ('고기팔기', 120, 'SSS'),\n",
    "        ('낚시', 5, 'C'),\n",
    "        ('통발', 5, 'C'),\n",
    "        ('큰그물', 5, 'C')\n",
    "]\n",
    "\n",
    "for i, (skillName, skillLevel, skillGrade) in enumerate(skill):\n",
    "    print(i, skillName, skillLevel, skillGrade)"
   ]
  },
  {
   "cell_type": "code",
   "execution_count": 49,
   "id": "d9a197dd-45b6-4682-845d-5da84cefce6c",
   "metadata": {},
   "outputs": [
    {
     "name": "stdout",
     "output_type": "stream",
     "text": [
      "100 ('고기잡이', 100, 'SS')\n",
      "101 ('고기팔기', 120, 'SSS')\n",
      "102 ('낚시', 5, 'C')\n",
      "103 ('통발', 5, 'C')\n",
      "104 ('큰그물', 5, 'C')\n"
     ]
    }
   ],
   "source": [
    "for i, j in enumerate(skill, 100): # enumerate의 두번째 인자는 index의 초기값을 설정합니다\n",
    "    print(i, j)"
   ]
  },
  {
   "cell_type": "code",
   "execution_count": 62,
   "id": "1a156037-ac31-4b3e-935d-dd6df59d1e80",
   "metadata": {},
   "outputs": [
    {
     "data": {
      "text/plain": [
       "True"
      ]
     },
     "execution_count": 62,
     "metadata": {},
     "output_type": "execute_result"
    }
   ],
   "source": [
    "(1, 2) < (1, 3)"
   ]
  },
  {
   "cell_type": "markdown",
   "id": "e234ca15-dbfd-4ad8-8e31-fecc8727e85d",
   "metadata": {},
   "source": [
    "## while\n",
    "\n",
    "while문은 조건이 참인 동안에 명령을 반복해서 수행합니다</br>\n",
    "반복할 명령은 들여쓰기로 구분되며 조건이 거짓이면 들여쓰기로 구분되어 있는 반복 구문을 종료합니다\n",
    "\n",
    "```python\n",
    "while 조건문 :\n",
    "\t수행할 문장1\n",
    "\t수행할 문장2\n",
    "```\n",
    "\n",
    "while문은 비교조건의 대상에 대한 증감연산을 별도로 작성하지 않으면, 무한 loop되기 때문에 주의해야 합니다"
   ]
  },
  {
   "cell_type": "code",
   "execution_count": 63,
   "id": "9ee01efb-67a7-4736-bf3f-1ad01d4161c2",
   "metadata": {},
   "outputs": [
    {
     "name": "stdout",
     "output_type": "stream",
     "text": [
      "1\n",
      "2\n",
      "3\n",
      "4\n",
      "5\n",
      "6\n",
      "7\n",
      "8\n",
      "9\n"
     ]
    }
   ],
   "source": [
    "a = 1\n",
    "while a < 10 :\n",
    "\tprint(a)\n",
    "\ta += 1 "
   ]
  },
  {
   "cell_type": "markdown",
   "id": "8fb8ca90-dbd3-4565-a1ff-b3dc416eca64",
   "metadata": {},
   "source": [
    "## break\n",
    "\n",
    "break는 흐름을 끊어 중단할 때 사용합니다</br>\n",
    "특정 코드를 반복하고자 for, while 문을 이용하여 반복문(loop)을 만들었다면 break 문을 사용하여 반복문을 중단할 수 있습니다\n",
    "\n",
    "break 구문은 바로 위의 for나 while문만 탈출합니다\n",
    "```python\n",
    "# 예제2(while)\n",
    "while 조건:\n",
    "\t반복 실행할 코드\n",
    "\tif 조건:\n",
    "\t\tbreak # while 구문을 탈출\n",
    "\n",
    "# 예제2(for)\n",
    "for 변수 in 범위:\n",
    "\t반복 실행할 코드\n",
    "\tif 조건 :\n",
    "\t\tbreak # for 반복문 탈출\n",
    "```"
   ]
  },
  {
   "cell_type": "code",
   "execution_count": 64,
   "id": "0569e846-8677-4d73-84e7-8d2dc9291ebf",
   "metadata": {},
   "outputs": [
    {
     "name": "stdout",
     "output_type": "stream",
     "text": [
      "현재 숫자는  0 입니다.\n",
      "현재 숫자는  1 입니다.\n",
      "현재 숫자는  2 입니다.\n",
      "현재 숫자는  3 입니다.\n",
      "현재 숫자는  4 입니다.\n",
      "현재 숫자는  5 입니다.\n",
      "반복문을 종료합니다.\n"
     ]
    }
   ],
   "source": [
    "숫자 = 0\n",
    "while True:\n",
    "\tprint(\"현재 숫자는 \", 숫자, \"입니다.\")\n",
    "\t숫자 += 1\n",
    "\tif 숫자 > 5:\n",
    "\t\tprint(\"반복문을 종료합니다.\")\n",
    "\t\tbreak"
   ]
  },
  {
   "cell_type": "code",
   "execution_count": 66,
   "id": "e02a83e0-6c21-43ab-a56e-a7b8eea469ff",
   "metadata": {},
   "outputs": [
    {
     "name": "stdin",
     "output_type": "stream",
     "text": [
      "시(hour)를 입력해주세요.  8\n"
     ]
    },
    {
     "name": "stdout",
     "output_type": "stream",
     "text": [
      "1시간이 지나 9시가 되었습니다\n",
      "2시간이 지나 10시가 되었습니다\n",
      "3시간이 지나 11시가 되었습니다\n",
      "4시간이 지나 12시가 되었습니다\n",
      "5시간이 지나 13시가 되었습니다\n",
      "6시간이 지나 14시가 되었습니다\n",
      "7시간이 지나 15시가 되었습니다\n",
      "8시간이 지나 16시가 되었습니다\n",
      "9시간이 지나 17시가 되었습니다\n",
      "10시간이 지나 18시가 되었습니다\n",
      "영업 종료시간이 되었기 때문에 영업을 종료합니다.\n"
     ]
    }
   ],
   "source": [
    "hour = 0\n",
    "current_hour = int(input(\"시(hour)를 입력해주세요. \"))\n",
    "end_hour = 18\n",
    "if current_hour > end_hour:\n",
    "    print('영업시간이 끝났기 때문에 영업을 종료합니다.')\n",
    "else:\n",
    "    while True:\n",
    "        hour += 1\n",
    "        current_hour += 1\n",
    "        print('{}시간이 지나 {}시가 되었습니다'.format(hour,current_hour))\n",
    "        if current_hour == end_hour:\n",
    "            print('영업 종료시간이 되었기 때문에 영업을 종료합니다.')\n",
    "            break"
   ]
  },
  {
   "cell_type": "code",
   "execution_count": 68,
   "id": "dbecfc1d-9c80-4515-b5bc-5339e9eeb9fb",
   "metadata": {},
   "outputs": [
    {
     "name": "stdout",
     "output_type": "stream",
     "text": [
      "2 X 1 = 2\n",
      "2 X 2 = 4\n",
      "2 X 3 = 6\n",
      "2 X 4 = 8\n",
      "2 X 5 = 10\n",
      "3 X 1 = 3\n",
      "3 X 2 = 6\n",
      "3 X 3 = 9\n",
      "3 X 4 = 12\n",
      "3 X 5 = 15\n",
      "4 X 1 = 4\n",
      "4 X 2 = 8\n",
      "4 X 3 = 12\n",
      "4 X 4 = 16\n",
      "4 X 5 = 20\n"
     ]
    }
   ],
   "source": [
    "for i in range(2, 5):\n",
    "    for j in range(1, 10):\n",
    "        if j > 5:\n",
    "            break\n",
    "        print(f'{i} X {j} = {i*j}')"
   ]
  },
  {
   "cell_type": "markdown",
   "id": "ab48273a-1996-4cd2-add1-95d736b00653",
   "metadata": {},
   "source": [
    "## countinue / pass\n",
    "\n",
    "**continue**\n",
    "\n",
    "반복문 내에서 실행 중인 반복문을 일시적으로 멈추고, 다음 반복으로 넘어가게 합니다</br>\n",
    "즉, 현재 반복을 그만두고, 다음 반복으로 넘어갑니다\n",
    "```python\n",
    "lst = [0, 1, 2, 0, 3, 0, 4]\n",
    "for i in lst:\n",
    "    if i == 0:\n",
    "        continue\n",
    "    print(i)      # 0을 제외한 1, 2, 3, 4가 출력됩니다\n",
    "```\n",
    "\n",
    "**pass**\n",
    "\n",
    "아무런 동작을 하지 않고 그냥 지나치게 합니다</br>\n",
    "반복문이 실행될 때 코드의 실행 흐름을 중단시키지 않고 그냥 넘어가게 합니다\n",
    "```python\n",
    "lst = [0, 1, 2, 0, 3, 0, 4]\n",
    "for i in lst:\n",
    "    if i == 0:\n",
    "        pass\n",
    "    print(i)      # lst의 모든 요소를 출력합니다\n",
    "```\n",
    "\n",
    "continue는 반복문 내에서 특정 조건을 만족하는 경우, 해당 반복을 건너뛰고 다음 반복으로 넘어가는 경우에 사용하고, pass는 반복문 내에서 실행할 내용이 없는 경우에 사용합니다\n",
    "\n",
    "pass는 예외처리구문(try except)에서 예외 발생시 구문을 실행하지 않고 넘어가도록 하고 싶을때, 자주 사용합니다\n",
    "```python\n",
    "try:\n",
    "    int('abc')\n",
    "except:\n",
    "    pass       # 아무것도 출력되지 않습니다\n",
    "```"
   ]
  },
  {
   "cell_type": "code",
   "execution_count": 70,
   "id": "44ba68b8-c3cb-4d43-8423-c43fc2ad5bdc",
   "metadata": {},
   "outputs": [
    {
     "name": "stdout",
     "output_type": "stream",
     "text": [
      "구매개수는 3개이며 15000원입니다.\n",
      "구매개수는 5개이며 25000원입니다.\n",
      "구매개수는 1개이며 5000원입니다.\n",
      "구매개수는 8개이며 40000원입니다.\n",
      "구매개수는 2개이며 10000원입니다.\n"
     ]
    }
   ],
   "source": [
    "#continue\n",
    "구매개수_총가격= [\n",
    "    (3, 15000),\n",
    "    (5, 25000),\n",
    "    (1, 5000),\n",
    "    (8, 40000),\n",
    "    (0, 0),\n",
    "    (2, 10000)\n",
    "]\n",
    "\n",
    "for 구매개수, 총가격 in 구매개수_총가격:\n",
    "    if 구매개수 < 1:\n",
    "        continue\n",
    "    print('구매개수는 {}개이며 {}원입니다.'.format(구매개수, 총가격))"
   ]
  },
  {
   "cell_type": "code",
   "execution_count": 71,
   "id": "5ca68350-edf2-4a47-8fe7-b2a65e5f0805",
   "metadata": {},
   "outputs": [
    {
     "name": "stdout",
     "output_type": "stream",
     "text": [
      "구매개수는 3개이며 15000원입니다.\n",
      "구매개수는 5개이며 25000원입니다.\n",
      "구매개수는 1개이며 5000원입니다.\n",
      "구매개수는 8개이며 40000원입니다.\n",
      "구매개수는 0개이며 0원입니다.\n",
      "구매개수는 2개이며 10000원입니다.\n"
     ]
    }
   ],
   "source": [
    "#pass\n",
    "구매개수_총가격= [\n",
    "    (3, 15000),\n",
    "    (5, 25000),\n",
    "    (1, 5000),\n",
    "    (8, 40000),\n",
    "    (0, 0),\n",
    "    (2, 10000)\n",
    "    ]\n",
    "for 구매개수, 총가격 in 구매개수_총가격:\n",
    "    if 구매개수 < 1:\n",
    "        pass\n",
    "    print('구매개수는 {}개이며 {}원입니다.'.format(구매개수, 총가격))"
   ]
  },
  {
   "cell_type": "markdown",
   "id": "2e78a68f-1d2e-453b-a493-e51e02af645b",
   "metadata": {},
   "source": [
    "## 중첩 반복문\n",
    "\n",
    "중첩 반복문이란 반복문 안에 반복문이 들어가 중첩된 것입니다</br>\n",
    "반복문은 연산이 느리기 때문에 반복문과 중첩 반복문은 필요 여부를 고려해서 작성해야 합니다"
   ]
  },
  {
   "cell_type": "code",
   "execution_count": 72,
   "id": "ea51ec0c-dc36-4af0-9e51-a8c604a75452",
   "metadata": {},
   "outputs": [
    {
     "name": "stdout",
     "output_type": "stream",
     "text": [
      "---2단---\n",
      "2 * 1 = 2\n",
      "2 * 2 = 4\n",
      "2 * 3 = 6\n",
      "2 * 4 = 8\n",
      "2 * 5 = 10\n",
      "2 * 6 = 12\n",
      "2 * 7 = 14\n",
      "2 * 8 = 16\n",
      "2 * 9 = 18\n",
      "---3단---\n",
      "3 * 1 = 3\n",
      "3 * 2 = 6\n",
      "3 * 3 = 9\n",
      "3 * 4 = 12\n",
      "3 * 5 = 15\n",
      "3 * 6 = 18\n",
      "3 * 7 = 21\n",
      "3 * 8 = 24\n",
      "3 * 9 = 27\n",
      "---4단---\n",
      "4 * 1 = 4\n",
      "4 * 2 = 8\n",
      "4 * 3 = 12\n",
      "4 * 4 = 16\n",
      "4 * 5 = 20\n",
      "4 * 6 = 24\n",
      "4 * 7 = 28\n",
      "4 * 8 = 32\n",
      "4 * 9 = 36\n",
      "---5단---\n",
      "5 * 1 = 5\n",
      "5 * 2 = 10\n",
      "5 * 3 = 15\n",
      "5 * 4 = 20\n",
      "5 * 5 = 25\n",
      "5 * 6 = 30\n",
      "5 * 7 = 35\n",
      "5 * 8 = 40\n",
      "5 * 9 = 45\n",
      "---6단---\n",
      "6 * 1 = 6\n",
      "6 * 2 = 12\n",
      "6 * 3 = 18\n",
      "6 * 4 = 24\n",
      "6 * 5 = 30\n",
      "6 * 6 = 36\n",
      "6 * 7 = 42\n",
      "6 * 8 = 48\n",
      "6 * 9 = 54\n",
      "---7단---\n",
      "7 * 1 = 7\n",
      "7 * 2 = 14\n",
      "7 * 3 = 21\n",
      "7 * 4 = 28\n",
      "7 * 5 = 35\n",
      "7 * 6 = 42\n",
      "7 * 7 = 49\n",
      "7 * 8 = 56\n",
      "7 * 9 = 63\n",
      "---8단---\n",
      "8 * 1 = 8\n",
      "8 * 2 = 16\n",
      "8 * 3 = 24\n",
      "8 * 4 = 32\n",
      "8 * 5 = 40\n",
      "8 * 6 = 48\n",
      "8 * 7 = 56\n",
      "8 * 8 = 64\n",
      "8 * 9 = 72\n",
      "---9단---\n",
      "9 * 1 = 9\n",
      "9 * 2 = 18\n",
      "9 * 3 = 27\n",
      "9 * 4 = 36\n",
      "9 * 5 = 45\n",
      "9 * 6 = 54\n",
      "9 * 7 = 63\n",
      "9 * 8 = 72\n",
      "9 * 9 = 81\n"
     ]
    }
   ],
   "source": [
    "for i in range(2,10):\n",
    "    print(\"---{0}단---\".format(i))\n",
    "    for k in range(1,10):\n",
    "        print(i,\"*\",k,\"=\",i*k)"
   ]
  },
  {
   "cell_type": "code",
   "execution_count": 73,
   "id": "ce83fc90-6b74-4c59-9f89-b0208f8ecaaa",
   "metadata": {},
   "outputs": [
    {
     "name": "stdout",
     "output_type": "stream",
     "text": [
      "---2단---\n",
      "2 * 1 = 2\n",
      "2 * 2 = 4\n",
      "2 * 3 = 6\n",
      "2 * 4 = 8\n",
      "2 * 5 = 10\n",
      "2 * 6 = 12\n",
      "2 * 7 = 14\n",
      "2 * 8 = 16\n",
      "2 * 9 = 18\n",
      "---3단---\n",
      "3 * 1 = 3\n",
      "3 * 2 = 6\n",
      "3 * 3 = 9\n",
      "3 * 4 = 12\n",
      "3 * 5 = 15\n",
      "3 * 6 = 18\n",
      "3 * 7 = 21\n",
      "3 * 8 = 24\n",
      "3 * 9 = 27\n",
      "---4단---\n",
      "4 * 1 = 4\n",
      "4 * 2 = 8\n",
      "4 * 3 = 12\n",
      "4 * 4 = 16\n",
      "4 * 5 = 20\n",
      "4 * 6 = 24\n",
      "4 * 7 = 28\n",
      "4 * 8 = 32\n",
      "4 * 9 = 36\n",
      "---5단---\n",
      "5 * 1 = 5\n",
      "5 * 2 = 10\n",
      "5 * 3 = 15\n",
      "5 * 4 = 20\n",
      "5 * 5 = 25\n",
      "5 * 6 = 30\n",
      "5 * 7 = 35\n",
      "5 * 8 = 40\n",
      "5 * 9 = 45\n",
      "---6단---\n",
      "6 * 1 = 6\n",
      "6 * 2 = 12\n",
      "6 * 3 = 18\n",
      "6 * 4 = 24\n",
      "6 * 5 = 30\n",
      "6 * 6 = 36\n",
      "6 * 7 = 42\n",
      "6 * 8 = 48\n",
      "6 * 9 = 54\n",
      "---7단---\n",
      "7 * 1 = 7\n",
      "7 * 2 = 14\n",
      "7 * 3 = 21\n",
      "7 * 4 = 28\n",
      "7 * 5 = 35\n",
      "7 * 6 = 42\n",
      "7 * 7 = 49\n",
      "7 * 8 = 56\n",
      "7 * 9 = 63\n",
      "---8단---\n",
      "8 * 1 = 8\n",
      "8 * 2 = 16\n",
      "8 * 3 = 24\n",
      "8 * 4 = 32\n",
      "8 * 5 = 40\n",
      "8 * 6 = 48\n",
      "8 * 7 = 56\n",
      "8 * 8 = 64\n",
      "8 * 9 = 72\n",
      "---9단---\n",
      "9 * 1 = 9\n",
      "9 * 2 = 18\n",
      "9 * 3 = 27\n",
      "9 * 4 = 36\n",
      "9 * 5 = 45\n",
      "9 * 6 = 54\n",
      "9 * 7 = 63\n",
      "9 * 8 = 72\n",
      "9 * 9 = 81\n"
     ]
    }
   ],
   "source": [
    "for i in range(2,10):\n",
    "    print(\"---{0}단---\".format(i))\n",
    "    for k in range(1,10):\n",
    "        print(i,\"*\",k,\"=\",i*k)"
   ]
  },
  {
   "cell_type": "markdown",
   "id": "444c204d-1964-444c-ada6-e7216784fd76",
   "metadata": {},
   "source": [
    "# 5.3 연습문제"
   ]
  },
  {
   "cell_type": "markdown",
   "id": "2c2e5cc6-6346-4b2c-8a6f-cc0015cdc513",
   "metadata": {},
   "source": [
    "문제 1.\n",
    "\n",
    "2-gram이란 문자열에서 2개의 연속된 요소를 출력하는 방법입니다</br>\n",
    "예를 들어 'Python'을 2-gram으로 반복해 본다면 다음과 같은 결과가 나옵니다\n",
    "```python\n",
    "Py\n",
    "yt\n",
    "th\n",
    "ho\n",
    "on\n",
    "```"
   ]
  },
  {
   "cell_type": "code",
   "execution_count": 74,
   "id": "94639650-0da6-499a-9994-d36843108f2d",
   "metadata": {},
   "outputs": [
    {
     "name": "stdin",
     "output_type": "stream",
     "text": [
      "문자를 입력하세요 python\n"
     ]
    },
    {
     "name": "stdout",
     "output_type": "stream",
     "text": [
      "py\n",
      "yt\n",
      "th\n",
      "ho\n",
      "on\n"
     ]
    }
   ],
   "source": [
    "data = input('문자를 입력하세요')\n",
    "\n",
    "for i in range(len(data) - 1):\n",
    "    print(data[i:i+2])        # print(data[i], data[i+1], sep = '')"
   ]
  },
  {
   "cell_type": "markdown",
   "id": "fb8bca7e-018b-4612-9ec8-8f05b0221698",
   "metadata": {},
   "source": [
    "문제 2.\n",
    "\n",
    "입력</br>\n",
    "input(\"원범 원범 혜원 혜원 혜원 혜원 유진 유진\")\n",
    "\n",
    "1) 투표결과를 받아와서\n",
    "2) 해당 결과를 알맞는 자료구조료 변환해서\n",
    "3) 가장 많이 받은 표를 계산 후 출력\n",
    "\n",
    "결과\n",
    "혜원이 4표를 받아서 반장이 되었습니다. "
   ]
  },
  {
   "cell_type": "code",
   "execution_count": 92,
   "id": "80abbf2c-3bbc-4a13-aeb0-c78524bfa89b",
   "metadata": {},
   "outputs": [
    {
     "name": "stdin",
     "output_type": "stream",
     "text": [
      " 원범 원범 혜원 혜원 혜원 혜원 유진 유진\n"
     ]
    },
    {
     "name": "stdout",
     "output_type": "stream",
     "text": [
      "{'원범': 2, '혜원': 4, '유진': 2}\n",
      "혜원이가 반장이 되었습니다. 4표를 받았습니다.\n"
     ]
    }
   ],
   "source": [
    "data_list = input().split(' ')\n",
    "\n",
    "count_ = []\n",
    "name = []\n",
    "\n",
    "for i in set(data_list):\n",
    "    count_.append(data_list.count(i))\n",
    "    name.append(i)\n",
    "\n",
    "data_dict = dict(zip(name, count_))\n",
    "print(data_dict)\n",
    "\n",
    "print(f'{max(data_dict.keys())}이가 반장이 되었습니다. {max(data_dict.values())}표를 받았습니다.')"
   ]
  },
  {
   "cell_type": "markdown",
   "id": "86ee26ee-e824-4a21-ba2e-dc84a4d6f78e",
   "metadata": {},
   "source": [
    "문제 3.\n",
    "\n",
    "테마파크에 온 원범이와 친구들은 놀이기구를 타려고 합니다. 모든 놀이기구는 한번에 타는 인원수에는 제한이 없지만 제한 무게를 넘으면 무조건 다음 기구를 타야 합니다.\n",
    "\n",
    "원범이와 친구들이 총 몇 명 탈 수 있는지 알 수 있는 프로그램을 작성해 주세요.\n",
    "\n",
    "첫번째 줄에서 제한 무게가 주어지고 두번째 줄에서는 함께한 친구들의 수 n이 주어집니다. 그 다음 차례대로 탑승할 친구들의 몸무게가 주어집니다. 몸무게는 무작위로 주어집니다.\n",
    "\n",
    "단, 놀이기구는 선착순으로만 탈 수 있습니다.\n",
    "두 명 이상의 인원이 항상 탑승합니다.\n",
    "\n",
    "제한 무게를 입력해주세요</br>\n",
    "친구 수를 입력해주세요</br>\n",
    "친구 몸무게를 입력해주세요</br>\n",
    "친구 몸무게를 입력해주세요</br>"
   ]
  },
  {
   "cell_type": "code",
   "execution_count": null,
   "id": "cd6c172b-688e-4832-9392-4015abb9e495",
   "metadata": {},
   "outputs": [],
   "source": [
    "weight_limit = int(input('제한 무게를 입력해주세요'))\n",
    "num_friends = int(input('친구 수를 입력해주세요'))\n",
    "weight_friend_list = []\n",
    "\n",
    "count = 0\n",
    "\n",
    "while count < num_friends:\n",
    "\n",
    "    weight_friend = int(input('친구 몸무게를 입력해주세요'))\n",
    "    weight_friend_list.append(weight_friend)\n",
    "    \n",
    "    count += 1\n",
    "\n",
    "get_on = []    \n",
    "\n",
    "for weight in weight_friend_list:\n",
    "    \n",
    "    get_on.append(weight)\n",
    "    \n",
    "    if sum(weight) > weight_list:\n",
    "        break\n",
    "        \n",
    "print()"
   ]
  },
  {
   "cell_type": "code",
   "execution_count": null,
   "id": "67adf4d0-701d-4c40-b16f-2d99f061a41d",
   "metadata": {},
   "outputs": [],
   "source": [
    "weight_limit = int(input('제한 무게를 입력해주세요'))\n",
    "num_friends = int(input('친구 수를 입력해주세요'))\n",
    "\n",
    "count = 0\n",
    "total_weight = 0\n",
    "\n",
    "while count < num_friends:\n",
    "\n",
    "    weight_friend = int(input('친구 몸무게를 입력해주세요'))\n",
    "    \n",
    "    if total_weight + weight_friend <= weight_limit:\n",
    "        total_weight += weight_friend\n",
    "        count += 1\n",
    "    else:\n",
    "        break\n",
    "else:\n",
    "    print(f'총 {num_friends}명 탑승했습니다')"
   ]
  },
  {
   "cell_type": "code",
   "execution_count": 99,
   "id": "f3a0e24f-6840-4f16-a758-7c973e370876",
   "metadata": {},
   "outputs": [
    {
     "name": "stdin",
     "output_type": "stream",
     "text": [
      "제한 무게를 입력하세요 50\n",
      "친구 수를 입력해 주세요 3\n",
      "친구 몸무게를 입력해주세요 30\n",
      "친구 몸무게를 입력해주세요 40\n",
      "친구 몸무게를 입력해주세요 50\n"
     ]
    },
    {
     "name": "stdout",
     "output_type": "stream",
     "text": [
      "1가 몇명입니다.\n"
     ]
    }
   ],
   "source": [
    "# 1. input 가져오기\n",
    "\n",
    "제한무게 = float(input(\"제한 무게를 입력하세요\"))\n",
    "친구수 = int(input(\"친구 수를 입력해 주세요\"))\n",
    "친구몸무게 = []\n",
    "전체몸무게 = 0\n",
    "제한인원 = 0\n",
    "비교 = True\n",
    "\n",
    "# 친구 2명의 전체몸무게가 105kg 제한몸무게가 100Kg 1명밖에 타지 못함\n",
    "\n",
    "for i in range(친구수):\n",
    "    친구몸무게.append(float(input(\"친구 몸무게를 입력해주세요\")))\n",
    "    전체몸무게 += 친구몸무게[i]\n",
    "    # 친구 2명의 전체몸무게가 105kg 제한몸무게가 100Kg 1명밖에 타지 못함\n",
    "    if 전체몸무게 > 제한무게:\n",
    "        if 비교:\n",
    "            비교 = False\n",
    "            제한인원 = i\n",
    "\n",
    "if 제한인원 == 0 and 친구몸무게[0] <= 제한무게:\n",
    "    print(len(친구몸무게))\n",
    "else:\n",
    "    print(f'{제한인원}가 몇명입니다.')"
   ]
  },
  {
   "cell_type": "markdown",
   "id": "e19f6c22-ccd7-410d-bb5c-ee3bb81655bd",
   "metadata": {},
   "source": [
    "최종 실습\n",
    "\n",
    "1. 택시 기사의 하루 일당 구하기\n",
    "\n",
    "법인에 소속된 택시기사들의 평균 사납금(영업을 하게 하는  댓가로 지불하는 비용(기름값, 차량렌트비 등)은 기본 13만 5천원입니다. 하루 매출이 13만 5천원을 벌지 못하면 그날은 수입이 마이너스가 되는겁니다. \n",
    "\n",
    "오늘도 바쁘게 손님을 맞이하는 A기사님은 매출이 30만원이 되길 바라고 있습니다. \n",
    "\n",
    "1. A기사님은 오늘 매출 30만원을 채우기를 원합니다. (30만원 이상일 경우 운행 종료)\n",
    "2. 손님별 운행시간은 5 ~ 20분으로 정합니다.\n",
    "3. 그 중 5 ~ 15분인 고객의 콜을 받습니다.\n",
    "4. 기본요금은 기본 5분일 경우 5,000원으로 1분이 추가될때마다 1,000원을 더 추가합니다.\n",
    "5. 1) 오늘 콜을 받은 횟수와 2) 탑승횟수, 3) 30만원을 채우기까지 총 소요시간 그리고 4) 승객에게 받은 요금과 5) 사납금을 납부하고 남은 금액을 최종 산출하세요"
   ]
  },
  {
   "cell_type": "code",
   "execution_count": 97,
   "id": "e371d6a8-1e2c-44f6-b026-00f2aff78bca",
   "metadata": {},
   "outputs": [
    {
     "name": "stdout",
     "output_type": "stream",
     "text": [
      "1이 탑승했습니다. 소요시간은 13이 걸립니다. 금액은 13000원입니다.\n",
      "현재까지 총 수입은 13000원입니다.\n",
      "2이 탑승했습니다. 소요시간은 6이 걸립니다. 금액은 6000원입니다.\n",
      "현재까지 총 수입은 19000원입니다.\n",
      "3이 탑승했습니다. 소요시간은 15이 걸립니다. 금액은 15000원입니다.\n",
      "현재까지 총 수입은 34000원입니다.\n",
      "매칭에 실패했습니다\n",
      "매칭에 실패했습니다\n",
      "매칭에 실패했습니다\n",
      "매칭에 실패했습니다\n",
      "매칭에 실패했습니다\n",
      "4이 탑승했습니다. 소요시간은 11이 걸립니다. 금액은 11000원입니다.\n",
      "현재까지 총 수입은 45000원입니다.\n",
      "매칭에 실패했습니다\n",
      "5이 탑승했습니다. 소요시간은 8이 걸립니다. 금액은 8000원입니다.\n",
      "현재까지 총 수입은 53000원입니다.\n",
      "매칭에 실패했습니다\n",
      "6이 탑승했습니다. 소요시간은 5이 걸립니다. 금액은 5000원입니다.\n",
      "현재까지 총 수입은 58000원입니다.\n",
      "7이 탑승했습니다. 소요시간은 5이 걸립니다. 금액은 5000원입니다.\n",
      "현재까지 총 수입은 63000원입니다.\n",
      "8이 탑승했습니다. 소요시간은 9이 걸립니다. 금액은 9000원입니다.\n",
      "현재까지 총 수입은 72000원입니다.\n",
      "매칭에 실패했습니다\n",
      "9이 탑승했습니다. 소요시간은 5이 걸립니다. 금액은 5000원입니다.\n",
      "현재까지 총 수입은 77000원입니다.\n",
      "10이 탑승했습니다. 소요시간은 9이 걸립니다. 금액은 9000원입니다.\n",
      "현재까지 총 수입은 86000원입니다.\n",
      "11이 탑승했습니다. 소요시간은 11이 걸립니다. 금액은 11000원입니다.\n",
      "현재까지 총 수입은 97000원입니다.\n",
      "12이 탑승했습니다. 소요시간은 6이 걸립니다. 금액은 6000원입니다.\n",
      "현재까지 총 수입은 103000원입니다.\n",
      "13이 탑승했습니다. 소요시간은 12이 걸립니다. 금액은 12000원입니다.\n",
      "현재까지 총 수입은 115000원입니다.\n",
      "14이 탑승했습니다. 소요시간은 5이 걸립니다. 금액은 5000원입니다.\n",
      "현재까지 총 수입은 120000원입니다.\n",
      "15이 탑승했습니다. 소요시간은 11이 걸립니다. 금액은 11000원입니다.\n",
      "현재까지 총 수입은 131000원입니다.\n",
      "16이 탑승했습니다. 소요시간은 11이 걸립니다. 금액은 11000원입니다.\n",
      "현재까지 총 수입은 142000원입니다.\n",
      "17이 탑승했습니다. 소요시간은 10이 걸립니다. 금액은 10000원입니다.\n",
      "현재까지 총 수입은 152000원입니다.\n",
      "18이 탑승했습니다. 소요시간은 15이 걸립니다. 금액은 15000원입니다.\n",
      "현재까지 총 수입은 167000원입니다.\n",
      "매칭에 실패했습니다\n",
      "19이 탑승했습니다. 소요시간은 11이 걸립니다. 금액은 11000원입니다.\n",
      "현재까지 총 수입은 178000원입니다.\n",
      "매칭에 실패했습니다\n",
      "20이 탑승했습니다. 소요시간은 8이 걸립니다. 금액은 8000원입니다.\n",
      "현재까지 총 수입은 186000원입니다.\n",
      "21이 탑승했습니다. 소요시간은 7이 걸립니다. 금액은 7000원입니다.\n",
      "현재까지 총 수입은 193000원입니다.\n",
      "22이 탑승했습니다. 소요시간은 13이 걸립니다. 금액은 13000원입니다.\n",
      "현재까지 총 수입은 206000원입니다.\n",
      "매칭에 실패했습니다\n",
      "매칭에 실패했습니다\n",
      "매칭에 실패했습니다\n",
      "매칭에 실패했습니다\n",
      "23이 탑승했습니다. 소요시간은 10이 걸립니다. 금액은 10000원입니다.\n",
      "현재까지 총 수입은 216000원입니다.\n",
      "24이 탑승했습니다. 소요시간은 7이 걸립니다. 금액은 7000원입니다.\n",
      "현재까지 총 수입은 223000원입니다.\n",
      "25이 탑승했습니다. 소요시간은 13이 걸립니다. 금액은 13000원입니다.\n",
      "현재까지 총 수입은 236000원입니다.\n",
      "26이 탑승했습니다. 소요시간은 8이 걸립니다. 금액은 8000원입니다.\n",
      "현재까지 총 수입은 244000원입니다.\n",
      "27이 탑승했습니다. 소요시간은 8이 걸립니다. 금액은 8000원입니다.\n",
      "현재까지 총 수입은 252000원입니다.\n",
      "28이 탑승했습니다. 소요시간은 14이 걸립니다. 금액은 14000원입니다.\n",
      "현재까지 총 수입은 266000원입니다.\n",
      "29이 탑승했습니다. 소요시간은 9이 걸립니다. 금액은 9000원입니다.\n",
      "현재까지 총 수입은 275000원입니다.\n",
      "매칭에 실패했습니다\n",
      "매칭에 실패했습니다\n",
      "30이 탑승했습니다. 소요시간은 5이 걸립니다. 금액은 5000원입니다.\n",
      "현재까지 총 수입은 280000원입니다.\n",
      "31이 탑승했습니다. 소요시간은 13이 걸립니다. 금액은 13000원입니다.\n",
      "현재까지 총 수입은 293000원입니다.\n",
      "32이 탑승했습니다. 소요시간은 14이 걸립니다. 금액은 14000원입니다.\n",
      "현재까지 총 수입은 307000원입니다.\n",
      "오늘 매칭 횟수는 48번 이고, 탑승손님 32명 이고, 소요시간은 307분 이고, 총 매출은 307000입니다.\n"
     ]
    }
   ],
   "source": [
    "import random\n",
    "\n",
    "pay_per_time = 1000\n",
    "total_earning = 0\n",
    "total_time = 0\n",
    "count = 0\n",
    "matching = 0\n",
    "\n",
    "while total_earning < 300000:\n",
    "    \n",
    "    time_ = random.randint(5, 21)\n",
    "    matching += 1\n",
    "    \n",
    "    if 5 <= time_ <= 15:\n",
    "        \n",
    "        count += 1\n",
    "        total_earning += (time_ * pay_per_time)\n",
    "        print(f'손님 {count}이 탑승했습니다. 소요시간은 {time_}이 걸립니다. 요금은 {time_ * pay_per_time}원입니다.')\n",
    "        print(f'현재까지 총 수입은 {total_earning}원입니다.')\n",
    "        total_time += time_\n",
    "        \n",
    "    else:\n",
    "        print('매칭에 실패했습니다')\n",
    "        continue\n",
    "        \n",
    "print(f\"오늘 매칭 횟수는 {matching}번, 탑승손님은 {count}명, 소요시간은 {total_time}분, 총 매출은 {total_earning}입니다.\")"
   ]
  },
  {
   "cell_type": "code",
   "execution_count": 98,
   "id": "9a881194-1782-47ce-85bf-10a36fed2acd",
   "metadata": {},
   "outputs": [
    {
     "name": "stdout",
     "output_type": "stream",
     "text": [
      "매칭에 실패했습니다.\n",
      "손님 1이(가) 탑승했습니다. 소요시간은 8이 걸립니다. 택시요금은 0입니다\n",
      "매칭에 실패했습니다.\n",
      "손님 2이(가) 탑승했습니다. 소요시간은 11이 걸립니다. 택시요금은 8000입니다\n",
      "손님 3이(가) 탑승했습니다. 소요시간은 11이 걸립니다. 택시요금은 19000입니다\n",
      "손님 4이(가) 탑승했습니다. 소요시간은 5이 걸립니다. 택시요금은 30000입니다\n",
      "손님 5이(가) 탑승했습니다. 소요시간은 8이 걸립니다. 택시요금은 35000입니다\n",
      "손님 6이(가) 탑승했습니다. 소요시간은 14이 걸립니다. 택시요금은 43000입니다\n",
      "손님 7이(가) 탑승했습니다. 소요시간은 13이 걸립니다. 택시요금은 57000입니다\n",
      "매칭에 실패했습니다.\n",
      "손님 8이(가) 탑승했습니다. 소요시간은 13이 걸립니다. 택시요금은 70000입니다\n",
      "손님 9이(가) 탑승했습니다. 소요시간은 14이 걸립니다. 택시요금은 83000입니다\n",
      "매칭에 실패했습니다.\n",
      "손님 10이(가) 탑승했습니다. 소요시간은 6이 걸립니다. 택시요금은 97000입니다\n",
      "손님 11이(가) 탑승했습니다. 소요시간은 6이 걸립니다. 택시요금은 103000입니다\n",
      "손님 12이(가) 탑승했습니다. 소요시간은 13이 걸립니다. 택시요금은 109000입니다\n",
      "손님 13이(가) 탑승했습니다. 소요시간은 5이 걸립니다. 택시요금은 122000입니다\n",
      "손님 14이(가) 탑승했습니다. 소요시간은 12이 걸립니다. 택시요금은 127000입니다\n",
      "손님 15이(가) 탑승했습니다. 소요시간은 10이 걸립니다. 택시요금은 139000입니다\n",
      "손님 16이(가) 탑승했습니다. 소요시간은 14이 걸립니다. 택시요금은 149000입니다\n",
      "손님 17이(가) 탑승했습니다. 소요시간은 10이 걸립니다. 택시요금은 163000입니다\n",
      "매칭에 실패했습니다.\n",
      "매칭에 실패했습니다.\n",
      "매칭에 실패했습니다.\n",
      "손님 18이(가) 탑승했습니다. 소요시간은 15이 걸립니다. 택시요금은 173000입니다\n",
      "손님 19이(가) 탑승했습니다. 소요시간은 9이 걸립니다. 택시요금은 188000입니다\n",
      "매칭에 실패했습니다.\n",
      "매칭에 실패했습니다.\n",
      "손님 20이(가) 탑승했습니다. 소요시간은 14이 걸립니다. 택시요금은 197000입니다\n",
      "매칭에 실패했습니다.\n",
      "손님 21이(가) 탑승했습니다. 소요시간은 6이 걸립니다. 택시요금은 211000입니다\n",
      "매칭에 실패했습니다.\n",
      "손님 22이(가) 탑승했습니다. 소요시간은 14이 걸립니다. 택시요금은 217000입니다\n",
      "손님 23이(가) 탑승했습니다. 소요시간은 5이 걸립니다. 택시요금은 231000입니다\n",
      "매칭에 실패했습니다.\n",
      "손님 24이(가) 탑승했습니다. 소요시간은 11이 걸립니다. 택시요금은 236000입니다\n",
      "손님 25이(가) 탑승했습니다. 소요시간은 8이 걸립니다. 택시요금은 247000입니다\n",
      "매칭에 실패했습니다.\n",
      "손님 26이(가) 탑승했습니다. 소요시간은 13이 걸립니다. 택시요금은 255000입니다\n",
      "손님 27이(가) 탑승했습니다. 소요시간은 5이 걸립니다. 택시요금은 268000입니다\n",
      "손님 28이(가) 탑승했습니다. 소요시간은 12이 걸립니다. 택시요금은 273000입니다\n",
      "매칭에 실패했습니다.\n",
      "손님 29이(가) 탑승했습니다. 소요시간은 12이 걸립니다. 택시요금은 285000입니다\n",
      "손님 30이(가) 탑승했습니다. 소요시간은 9이 걸립니다. 택시요금은 297000입니다\n",
      "오늘 매칭 횟수는 44번 이고, 탑승손님 30명 이고, 소요시간은 306분 이고, 총 매출은 306000입니다.\n"
     ]
    }
   ],
   "source": [
    "import random\n",
    "\n",
    "# 매칭횟수(콜 받은 횟수)\n",
    "matching = 0\n",
    "# 실제로 탄 고객(탑승횟수)\n",
    "people = 0\n",
    "# 택시 이용요금(승객에게 받은 요금)\n",
    "money = 0\n",
    "# 총 운행 시간(총 소요시간)\n",
    "all_time = 0\n",
    "\n",
    "# 운행은 30만원 이상일때 종료\n",
    "while money < 300000:\n",
    "    matching += 1\n",
    "    time = random.randrange(5, 20)\n",
    "\n",
    "    if 5 <= time <= 15:\n",
    "        people += 1\n",
    "        each_money = time * 1000\n",
    "        print(f'손님 {people}이(가) 탑승했습니다. 소요시간은 {time}이 걸립니다. 택시요금은 {money}입니다')\n",
    "        money += each_money\n",
    "        all_time += time\n",
    "    else:\n",
    "        print(\"매칭에 실패했습니다.\")\n",
    "\n",
    "print(f\"오늘 매칭 횟수는 {matching}번 이고, 탑승손님 {people}명 이고, 소요시간은 {all_time}분 이고, 총 매출은 {money}입니다.\")"
   ]
  }
 ],
 "metadata": {
  "kernelspec": {
   "display_name": "Python 3 (ipykernel)",
   "language": "python",
   "name": "python3"
  },
  "language_info": {
   "codemirror_mode": {
    "name": "ipython",
    "version": 3
   },
   "file_extension": ".py",
   "mimetype": "text/x-python",
   "name": "python",
   "nbconvert_exporter": "python",
   "pygments_lexer": "ipython3",
   "version": "3.8.12"
  }
 },
 "nbformat": 4,
 "nbformat_minor": 5
}
